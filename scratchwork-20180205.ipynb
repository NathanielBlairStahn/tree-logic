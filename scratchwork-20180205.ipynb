{
 "cells": [
  {
   "cell_type": "code",
   "execution_count": 1,
   "metadata": {},
   "outputs": [
    {
     "name": "stderr",
     "output_type": "stream",
     "text": [
      "Using TensorFlow backend.\n"
     ]
    }
   ],
   "source": [
    "import numpy as np\n",
    "import pandas as pd\n",
    "import matplotlib.pyplot as plt\n",
    "%matplotlib inline\n",
    "\n",
    "from keras.preprocessing import image\n",
    "\n",
    "from collections import defaultdict\n",
    "\n",
    "import time\n",
    "import os\n",
    "from PIL import Image\n",
    "#Hash images using the ImageHash library\n",
    "#https://pypi.python.org/pypi/ImageHash\n",
    "import imagehash\n",
    "\n",
    "# from sklearn.model_selection import train_test_split\n",
    "# from sklearn.linear_model import LogisticRegression\n",
    "# from sklearn.ensemble import RandomForestClassifier, GradientBoostingClassifier\n",
    "# from sklearn.metrics import log_loss, accuracy_score, confusion_matrix"
   ]
  },
  {
   "cell_type": "code",
   "execution_count": 68,
   "metadata": {},
   "outputs": [
    {
     "name": "stdout",
     "output_type": "stream",
     "text": [
      "The autoreload extension is already loaded. To reload it, use:\n",
      "  %reload_ext autoreload\n"
     ]
    }
   ],
   "source": [
    "%load_ext autoreload\n",
    "%autoreload 2"
   ]
  },
  {
   "cell_type": "code",
   "execution_count": 3,
   "metadata": {
    "collapsed": true
   },
   "outputs": [],
   "source": [
    "#import os\n",
    "import sys\n",
    "module_path = os.path.abspath('src')\n",
    "if module_path not in sys.path:\n",
    "    sys.path.append(module_path)"
   ]
  },
  {
   "cell_type": "code",
   "execution_count": 67,
   "metadata": {},
   "outputs": [],
   "source": [
    "from src.image_manager import ImageManager\n",
    "from src.scrape_images import ImageScraper"
   ]
  },
  {
   "cell_type": "code",
   "execution_count": 7,
   "metadata": {},
   "outputs": [
    {
     "data": {
      "text/html": [
       "<div>\n",
       "<style scoped>\n",
       "    .dataframe tbody tr th:only-of-type {\n",
       "        vertical-align: middle;\n",
       "    }\n",
       "\n",
       "    .dataframe tbody tr th {\n",
       "        vertical-align: top;\n",
       "    }\n",
       "\n",
       "    .dataframe thead th {\n",
       "        text-align: right;\n",
       "    }\n",
       "</style>\n",
       "<table border=\"1\" class=\"dataframe\">\n",
       "  <thead>\n",
       "    <tr style=\"text-align: right;\">\n",
       "      <th></th>\n",
       "      <th>p_hash</th>\n",
       "      <th>filename</th>\n",
       "      <th>folder</th>\n",
       "      <th>time_added</th>\n",
       "      <th>time_verified</th>\n",
       "    </tr>\n",
       "  </thead>\n",
       "  <tbody>\n",
       "    <tr>\n",
       "      <th>0</th>\n",
       "      <td>daf0881497fa12ed</td>\n",
       "      <td>image_sitka_spruce_forest_92.png</td>\n",
       "      <td>picea_sitchensis</td>\n",
       "      <td>2018-02-04 22:17:11.009109</td>\n",
       "      <td>2018-02-04 22:33:01.007864</td>\n",
       "    </tr>\n",
       "    <tr>\n",
       "      <th>1</th>\n",
       "      <td>f3b33d68046c2d4d</td>\n",
       "      <td>image_sitka_spruce_forest_86.png</td>\n",
       "      <td>picea_sitchensis</td>\n",
       "      <td>2018-02-04 22:17:11.031102</td>\n",
       "      <td>2018-02-04 22:33:01.027029</td>\n",
       "    </tr>\n",
       "    <tr>\n",
       "      <th>2</th>\n",
       "      <td>99a7465a1e99acb4</td>\n",
       "      <td>image_picea_sitchensis_27.png</td>\n",
       "      <td>picea_sitchensis</td>\n",
       "      <td>2018-02-04 22:17:11.049848</td>\n",
       "      <td>2018-02-04 22:33:01.046446</td>\n",
       "    </tr>\n",
       "    <tr>\n",
       "      <th>3</th>\n",
       "      <td>b4e9258745b48aeb</td>\n",
       "      <td>image_sitka_spruce_forest_51.png</td>\n",
       "      <td>picea_sitchensis</td>\n",
       "      <td>2018-02-04 22:17:11.060264</td>\n",
       "      <td>2018-02-04 22:33:01.067552</td>\n",
       "    </tr>\n",
       "    <tr>\n",
       "      <th>4</th>\n",
       "      <td>f8d0fde0fc906990</td>\n",
       "      <td>image_sitka_spruce_forest_45.png</td>\n",
       "      <td>picea_sitchensis</td>\n",
       "      <td>2018-02-04 22:17:11.068754</td>\n",
       "      <td>2018-02-04 22:33:01.089674</td>\n",
       "    </tr>\n",
       "  </tbody>\n",
       "</table>\n",
       "</div>"
      ],
      "text/plain": [
       "             p_hash                          filename            folder  \\\n",
       "0  daf0881497fa12ed  image_sitka_spruce_forest_92.png  picea_sitchensis   \n",
       "1  f3b33d68046c2d4d  image_sitka_spruce_forest_86.png  picea_sitchensis   \n",
       "2  99a7465a1e99acb4     image_picea_sitchensis_27.png  picea_sitchensis   \n",
       "3  b4e9258745b48aeb  image_sitka_spruce_forest_51.png  picea_sitchensis   \n",
       "4  f8d0fde0fc906990  image_sitka_spruce_forest_45.png  picea_sitchensis   \n",
       "\n",
       "                   time_added               time_verified  \n",
       "0  2018-02-04 22:17:11.009109  2018-02-04 22:33:01.007864  \n",
       "1  2018-02-04 22:17:11.031102  2018-02-04 22:33:01.027029  \n",
       "2  2018-02-04 22:17:11.049848  2018-02-04 22:33:01.046446  \n",
       "3  2018-02-04 22:17:11.060264  2018-02-04 22:33:01.067552  \n",
       "4  2018-02-04 22:17:11.068754  2018-02-04 22:33:01.089674  "
      ]
     },
     "execution_count": 7,
     "metadata": {},
     "output_type": "execute_result"
    }
   ],
   "source": [
    "image_df = pd.read_csv('data/image_log_20180204.csv', sep='|', index_col=0)\n",
    "image_df.head()"
   ]
  },
  {
   "cell_type": "code",
   "execution_count": 8,
   "metadata": {},
   "outputs": [
    {
     "data": {
      "text/plain": [
       "'daf0881497fa12ed'"
      ]
     },
     "execution_count": 8,
     "metadata": {},
     "output_type": "execute_result"
    }
   ],
   "source": [
    "image_df.loc[0,'p_hash']"
   ]
  },
  {
   "cell_type": "code",
   "execution_count": 9,
   "metadata": {},
   "outputs": [
    {
     "data": {
      "text/plain": [
       "str"
      ]
     },
     "execution_count": 9,
     "metadata": {},
     "output_type": "execute_result"
    }
   ],
   "source": [
    "type(image_df.loc[0,'p_hash'])"
   ]
  },
  {
   "cell_type": "code",
   "execution_count": 10,
   "metadata": {},
   "outputs": [
    {
     "data": {
      "text/plain": [
       "array([[ True,  True, False,  True,  True, False,  True, False],\n",
       "       [ True,  True,  True,  True, False, False, False, False],\n",
       "       [ True, False, False, False,  True, False, False, False],\n",
       "       [False, False, False,  True, False,  True, False, False],\n",
       "       [ True, False, False,  True, False,  True,  True,  True],\n",
       "       [ True,  True,  True,  True,  True, False,  True, False],\n",
       "       [False, False, False,  True, False, False,  True, False],\n",
       "       [ True,  True,  True, False,  True,  True, False,  True]], dtype=bool)"
      ]
     },
     "execution_count": 10,
     "metadata": {},
     "output_type": "execute_result"
    }
   ],
   "source": [
    "im_hash = imagehash.hex_to_hash('daf0881497fa12ed')\n",
    "im_hash"
   ]
  },
  {
   "cell_type": "code",
   "execution_count": 12,
   "metadata": {},
   "outputs": [],
   "source": [
    "## Fails, tries to access .hash of the string\n",
    "#im_hash == 'daf0881497fa12ed'"
   ]
  },
  {
   "cell_type": "code",
   "execution_count": 57,
   "metadata": {},
   "outputs": [
    {
     "data": {
      "text/plain": [
       "str"
      ]
     },
     "execution_count": 57,
     "metadata": {},
     "output_type": "execute_result"
    }
   ],
   "source": [
    "type(image_df.loc[0,'time_added'])"
   ]
  },
  {
   "cell_type": "code",
   "execution_count": 59,
   "metadata": {},
   "outputs": [
    {
     "data": {
      "text/plain": [
       "Timestamp('2018-02-04 22:17:11.009109')"
      ]
     },
     "execution_count": 59,
     "metadata": {},
     "output_type": "execute_result"
    }
   ],
   "source": [
    "pd.Timestamp(image_df.loc[0,'time_added'])"
   ]
  },
  {
   "cell_type": "code",
   "execution_count": 13,
   "metadata": {},
   "outputs": [
    {
     "data": {
      "text/html": [
       "<div>\n",
       "<style scoped>\n",
       "    .dataframe tbody tr th:only-of-type {\n",
       "        vertical-align: middle;\n",
       "    }\n",
       "\n",
       "    .dataframe tbody tr th {\n",
       "        vertical-align: top;\n",
       "    }\n",
       "\n",
       "    .dataframe thead th {\n",
       "        text-align: right;\n",
       "    }\n",
       "</style>\n",
       "<table border=\"1\" class=\"dataframe\">\n",
       "  <thead>\n",
       "    <tr style=\"text-align: right;\">\n",
       "      <th></th>\n",
       "      <th>time_started</th>\n",
       "      <th>time_completed</th>\n",
       "    </tr>\n",
       "  </thead>\n",
       "  <tbody>\n",
       "    <tr>\n",
       "      <th>0</th>\n",
       "      <td>2018-02-04 22:17:10.870517</td>\n",
       "      <td>2018-02-04 22:17:17.920112</td>\n",
       "    </tr>\n",
       "    <tr>\n",
       "      <th>1</th>\n",
       "      <td>2018-02-04 22:32:31.024992</td>\n",
       "      <td>2018-02-04 22:33:45.647715</td>\n",
       "    </tr>\n",
       "  </tbody>\n",
       "</table>\n",
       "</div>"
      ],
      "text/plain": [
       "                 time_started              time_completed\n",
       "0  2018-02-04 22:17:10.870517  2018-02-04 22:17:17.920112\n",
       "1  2018-02-04 22:32:31.024992  2018-02-04 22:33:45.647715"
      ]
     },
     "execution_count": 13,
     "metadata": {},
     "output_type": "execute_result"
    }
   ],
   "source": [
    "syncs_df = pd.read_csv('data/image_syncs_20180204.csv', sep='|', index_col=0)\n",
    "syncs_df"
   ]
  },
  {
   "cell_type": "code",
   "execution_count": 17,
   "metadata": {},
   "outputs": [
    {
     "data": {
      "text/html": [
       "<div>\n",
       "<style scoped>\n",
       "    .dataframe tbody tr th:only-of-type {\n",
       "        vertical-align: middle;\n",
       "    }\n",
       "\n",
       "    .dataframe tbody tr th {\n",
       "        vertical-align: top;\n",
       "    }\n",
       "\n",
       "    .dataframe thead th {\n",
       "        text-align: right;\n",
       "    }\n",
       "</style>\n",
       "<table border=\"1\" class=\"dataframe\">\n",
       "  <thead>\n",
       "    <tr style=\"text-align: right;\">\n",
       "      <th></th>\n",
       "      <th>time_started</th>\n",
       "      <th>time_completed</th>\n",
       "      <th>folders</th>\n",
       "    </tr>\n",
       "  </thead>\n",
       "  <tbody>\n",
       "    <tr>\n",
       "      <th>0</th>\n",
       "      <td>2018-02-04 22:17:10.870517</td>\n",
       "      <td>2018-02-04 22:17:17.920112</td>\n",
       "      <td>['picea_sitchensis', 'bad_images']</td>\n",
       "    </tr>\n",
       "    <tr>\n",
       "      <th>1</th>\n",
       "      <td>2018-02-04 22:32:31.024992</td>\n",
       "      <td>2018-02-04 22:33:45.647715</td>\n",
       "      <td>nan</td>\n",
       "    </tr>\n",
       "  </tbody>\n",
       "</table>\n",
       "</div>"
      ],
      "text/plain": [
       "                 time_started              time_completed  \\\n",
       "0  2018-02-04 22:17:10.870517  2018-02-04 22:17:17.920112   \n",
       "1  2018-02-04 22:32:31.024992  2018-02-04 22:33:45.647715   \n",
       "\n",
       "                              folders  \n",
       "0  ['picea_sitchensis', 'bad_images']  \n",
       "1                                 nan  "
      ]
     },
     "execution_count": 17,
     "metadata": {},
     "output_type": "execute_result"
    }
   ],
   "source": [
    "syncs_df.loc[0, 'folders'] = repr(['picea_sitchensis', 'bad_images'])\n",
    "syncs_df"
   ]
  },
  {
   "cell_type": "code",
   "execution_count": 18,
   "metadata": {},
   "outputs": [
    {
     "data": {
      "text/plain": [
       "\"['picea_sitchensis', 'bad_images']\""
      ]
     },
     "execution_count": 18,
     "metadata": {},
     "output_type": "execute_result"
    }
   ],
   "source": [
    "syncs_df.loc[0, 'folders']"
   ]
  },
  {
   "cell_type": "code",
   "execution_count": 20,
   "metadata": {},
   "outputs": [],
   "source": [
    "folders = eval(syncs_df.loc[0, 'folders'])\n",
    "folders"
   ]
  },
  {
   "cell_type": "code",
   "execution_count": 22,
   "metadata": {},
   "outputs": [
    {
     "data": {
      "text/plain": [
       "'picea_sitchensis'"
      ]
     },
     "execution_count": 22,
     "metadata": {},
     "output_type": "execute_result"
    }
   ],
   "source": [
    "folders[0]"
   ]
  },
  {
   "cell_type": "code",
   "execution_count": 23,
   "metadata": {},
   "outputs": [
    {
     "data": {
      "text/plain": [
       "'array([[ True,  True, False,  True,  True, False,  True, False],\\n       [ True,  True,  True,  True, False, False, False, False],\\n       [ True, False, False, False,  True, False, False, False],\\n       [False, False, False,  True, False,  True, False, False],\\n       [ True, False, False,  True, False,  True,  True,  True],\\n       [ True,  True,  True,  True,  True, False,  True, False],\\n       [False, False, False,  True, False, False,  True, False],\\n       [ True,  True,  True, False,  True,  True, False,  True]], dtype=bool)'"
      ]
     },
     "execution_count": 23,
     "metadata": {},
     "output_type": "execute_result"
    }
   ],
   "source": [
    "repr(im_hash)"
   ]
  },
  {
   "cell_type": "code",
   "execution_count": 24,
   "metadata": {},
   "outputs": [
    {
     "data": {
      "text/plain": [
       "str"
      ]
     },
     "execution_count": 24,
     "metadata": {},
     "output_type": "execute_result"
    }
   ],
   "source": [
    "type(syncs_df.loc[0, 'time_completed'])"
   ]
  },
  {
   "cell_type": "code",
   "execution_count": 25,
   "metadata": {},
   "outputs": [
    {
     "data": {
      "text/plain": [
       "pandas._libs.tslib.Timestamp"
      ]
     },
     "execution_count": 25,
     "metadata": {},
     "output_type": "execute_result"
    }
   ],
   "source": [
    "timstamp0 = pd.Timestamp(syncs_df.loc[0, 'time_completed'])\n",
    "type(timstamp0)"
   ]
  },
  {
   "cell_type": "code",
   "execution_count": 26,
   "metadata": {},
   "outputs": [
    {
     "data": {
      "text/plain": [
       "Timestamp('2018-02-04 22:17:17.920112')"
      ]
     },
     "execution_count": 26,
     "metadata": {},
     "output_type": "execute_result"
    }
   ],
   "source": [
    "timstamp0"
   ]
  },
  {
   "cell_type": "code",
   "execution_count": 27,
   "metadata": {},
   "outputs": [
    {
     "data": {
      "text/plain": [
       "0   2018-02-04 22:17:10.870517\n",
       "1   2018-02-04 22:32:31.024992\n",
       "Name: time_started, dtype: datetime64[ns]"
      ]
     },
     "execution_count": 27,
     "metadata": {},
     "output_type": "execute_result"
    }
   ],
   "source": [
    "syncs_df['time_started'].apply(pd.Timestamp)"
   ]
  },
  {
   "cell_type": "code",
   "execution_count": 28,
   "metadata": {},
   "outputs": [
    {
     "data": {
      "text/plain": [
       "str"
      ]
     },
     "execution_count": 28,
     "metadata": {},
     "output_type": "execute_result"
    }
   ],
   "source": [
    "type(syncs_df.loc[0, 'time_started'])"
   ]
  },
  {
   "cell_type": "code",
   "execution_count": 40,
   "metadata": {},
   "outputs": [],
   "source": [
    "syncs_df.loc[:,['time_started', 'time_completed']] = syncs_df.loc[:,['time_started', 'time_completed']].applymap(pd.Timestamp)"
   ]
  },
  {
   "cell_type": "code",
   "execution_count": 41,
   "metadata": {},
   "outputs": [
    {
     "data": {
      "text/html": [
       "<div>\n",
       "<style scoped>\n",
       "    .dataframe tbody tr th:only-of-type {\n",
       "        vertical-align: middle;\n",
       "    }\n",
       "\n",
       "    .dataframe tbody tr th {\n",
       "        vertical-align: top;\n",
       "    }\n",
       "\n",
       "    .dataframe thead th {\n",
       "        text-align: right;\n",
       "    }\n",
       "</style>\n",
       "<table border=\"1\" class=\"dataframe\">\n",
       "  <thead>\n",
       "    <tr style=\"text-align: right;\">\n",
       "      <th></th>\n",
       "      <th>time_started</th>\n",
       "      <th>time_completed</th>\n",
       "      <th>folders</th>\n",
       "    </tr>\n",
       "  </thead>\n",
       "  <tbody>\n",
       "    <tr>\n",
       "      <th>0</th>\n",
       "      <td>1517782630870517000</td>\n",
       "      <td>1517782637920112000</td>\n",
       "      <td>['picea_sitchensis', 'bad_images']</td>\n",
       "    </tr>\n",
       "    <tr>\n",
       "      <th>1</th>\n",
       "      <td>1517783551024992000</td>\n",
       "      <td>1517783625647715000</td>\n",
       "      <td>nan</td>\n",
       "    </tr>\n",
       "  </tbody>\n",
       "</table>\n",
       "</div>"
      ],
      "text/plain": [
       "          time_started       time_completed  \\\n",
       "0  1517782630870517000  1517782637920112000   \n",
       "1  1517783551024992000  1517783625647715000   \n",
       "\n",
       "                              folders  \n",
       "0  ['picea_sitchensis', 'bad_images']  \n",
       "1                                 nan  "
      ]
     },
     "execution_count": 41,
     "metadata": {},
     "output_type": "execute_result"
    }
   ],
   "source": [
    "syncs_df"
   ]
  },
  {
   "cell_type": "code",
   "execution_count": 42,
   "metadata": {},
   "outputs": [
    {
     "data": {
      "text/plain": [
       "int"
      ]
     },
     "execution_count": 42,
     "metadata": {},
     "output_type": "execute_result"
    }
   ],
   "source": [
    "type(syncs_df.loc[0, 'time_started'])"
   ]
  },
  {
   "cell_type": "code",
   "execution_count": 43,
   "metadata": {},
   "outputs": [
    {
     "data": {
      "text/plain": [
       "str"
      ]
     },
     "execution_count": 43,
     "metadata": {},
     "output_type": "execute_result"
    }
   ],
   "source": [
    "type(syncs_df.loc[0, 'folders'])"
   ]
  },
  {
   "cell_type": "code",
   "execution_count": 53,
   "metadata": {},
   "outputs": [],
   "source": [
    "# syncs_df.loc[:,'folders'] = syncs_df.loc[:,'folders'].apply(eval)\n",
    "# syncs_df"
   ]
  },
  {
   "cell_type": "code",
   "execution_count": 51,
   "metadata": {},
   "outputs": [
    {
     "data": {
      "text/plain": [
       "str"
      ]
     },
     "execution_count": 51,
     "metadata": {},
     "output_type": "execute_result"
    }
   ],
   "source": [
    "type(syncs_df.loc[0,'folders'])"
   ]
  },
  {
   "cell_type": "code",
   "execution_count": 54,
   "metadata": {},
   "outputs": [
    {
     "data": {
      "text/html": [
       "<div>\n",
       "<style scoped>\n",
       "    .dataframe tbody tr th:only-of-type {\n",
       "        vertical-align: middle;\n",
       "    }\n",
       "\n",
       "    .dataframe tbody tr th {\n",
       "        vertical-align: top;\n",
       "    }\n",
       "\n",
       "    .dataframe thead th {\n",
       "        text-align: right;\n",
       "    }\n",
       "</style>\n",
       "<table border=\"1\" class=\"dataframe\">\n",
       "  <thead>\n",
       "    <tr style=\"text-align: right;\">\n",
       "      <th></th>\n",
       "      <th>time_started</th>\n",
       "      <th>time_completed</th>\n",
       "      <th>folders</th>\n",
       "    </tr>\n",
       "  </thead>\n",
       "  <tbody>\n",
       "    <tr>\n",
       "      <th>0</th>\n",
       "      <td>1517782630870517000</td>\n",
       "      <td>1517782637920112000</td>\n",
       "      <td>['picea_sitchensis', 'bad_images']</td>\n",
       "    </tr>\n",
       "    <tr>\n",
       "      <th>1</th>\n",
       "      <td>1517783551024992000</td>\n",
       "      <td>1517783625647715000</td>\n",
       "      <td>nan</td>\n",
       "    </tr>\n",
       "  </tbody>\n",
       "</table>\n",
       "</div>"
      ],
      "text/plain": [
       "          time_started       time_completed  \\\n",
       "0  1517782630870517000  1517782637920112000   \n",
       "1  1517783551024992000  1517783625647715000   \n",
       "\n",
       "                              folders  \n",
       "0  ['picea_sitchensis', 'bad_images']  \n",
       "1                                 nan  "
      ]
     },
     "execution_count": 54,
     "metadata": {},
     "output_type": "execute_result"
    }
   ],
   "source": [
    "syncs_df"
   ]
  },
  {
   "cell_type": "code",
   "execution_count": 56,
   "metadata": {},
   "outputs": [
    {
     "data": {
      "text/plain": [
       "array([[ True,  True, False,  True,  True, False,  True, False],\n",
       "       [ True,  True,  True,  True, False, False, False, False],\n",
       "       [ True, False, False, False,  True, False, False, False],\n",
       "       [False, False, False,  True, False,  True, False, False],\n",
       "       [ True, False, False,  True, False,  True,  True,  True],\n",
       "       [ True,  True,  True,  True,  True, False,  True, False],\n",
       "       [False, False, False,  True, False, False,  True, False],\n",
       "       [ True,  True,  True, False,  True,  True, False,  True]], dtype=bool)"
      ]
     },
     "execution_count": 56,
     "metadata": {},
     "output_type": "execute_result"
    }
   ],
   "source": [
    "image_df['p_hash'].apply(imagehash.hex_to_hash)[0]"
   ]
  },
  {
   "cell_type": "code",
   "execution_count": 75,
   "metadata": {},
   "outputs": [],
   "source": [
    "manager = ImageManager('tree_photos')\n",
    "manager.load_image_df('data/image_log_20180204.csv')"
   ]
  },
  {
   "cell_type": "code",
   "execution_count": 76,
   "metadata": {},
   "outputs": [
    {
     "data": {
      "text/html": [
       "<div>\n",
       "<style scoped>\n",
       "    .dataframe tbody tr th:only-of-type {\n",
       "        vertical-align: middle;\n",
       "    }\n",
       "\n",
       "    .dataframe tbody tr th {\n",
       "        vertical-align: top;\n",
       "    }\n",
       "\n",
       "    .dataframe thead th {\n",
       "        text-align: right;\n",
       "    }\n",
       "</style>\n",
       "<table border=\"1\" class=\"dataframe\">\n",
       "  <thead>\n",
       "    <tr style=\"text-align: right;\">\n",
       "      <th></th>\n",
       "      <th>p_hash</th>\n",
       "      <th>filename</th>\n",
       "      <th>folder</th>\n",
       "      <th>time_added</th>\n",
       "      <th>time_verified</th>\n",
       "    </tr>\n",
       "  </thead>\n",
       "  <tbody>\n",
       "    <tr>\n",
       "      <th>0</th>\n",
       "      <td>daf0881497fa12ed</td>\n",
       "      <td>image_sitka_spruce_forest_92.png</td>\n",
       "      <td>picea_sitchensis</td>\n",
       "      <td>1517782631009109000</td>\n",
       "      <td>1517783581007864000</td>\n",
       "    </tr>\n",
       "    <tr>\n",
       "      <th>1</th>\n",
       "      <td>f3b33d68046c2d4d</td>\n",
       "      <td>image_sitka_spruce_forest_86.png</td>\n",
       "      <td>picea_sitchensis</td>\n",
       "      <td>1517782631031102000</td>\n",
       "      <td>1517783581027029000</td>\n",
       "    </tr>\n",
       "    <tr>\n",
       "      <th>2</th>\n",
       "      <td>99a7465a1e99acb4</td>\n",
       "      <td>image_picea_sitchensis_27.png</td>\n",
       "      <td>picea_sitchensis</td>\n",
       "      <td>1517782631049848000</td>\n",
       "      <td>1517783581046446000</td>\n",
       "    </tr>\n",
       "    <tr>\n",
       "      <th>3</th>\n",
       "      <td>b4e9258745b48aeb</td>\n",
       "      <td>image_sitka_spruce_forest_51.png</td>\n",
       "      <td>picea_sitchensis</td>\n",
       "      <td>1517782631060264000</td>\n",
       "      <td>1517783581067552000</td>\n",
       "    </tr>\n",
       "    <tr>\n",
       "      <th>4</th>\n",
       "      <td>f8d0fde0fc906990</td>\n",
       "      <td>image_sitka_spruce_forest_45.png</td>\n",
       "      <td>picea_sitchensis</td>\n",
       "      <td>1517782631068754000</td>\n",
       "      <td>1517783581089674000</td>\n",
       "    </tr>\n",
       "  </tbody>\n",
       "</table>\n",
       "</div>"
      ],
      "text/plain": [
       "             p_hash                          filename            folder  \\\n",
       "0  daf0881497fa12ed  image_sitka_spruce_forest_92.png  picea_sitchensis   \n",
       "1  f3b33d68046c2d4d  image_sitka_spruce_forest_86.png  picea_sitchensis   \n",
       "2  99a7465a1e99acb4     image_picea_sitchensis_27.png  picea_sitchensis   \n",
       "3  b4e9258745b48aeb  image_sitka_spruce_forest_51.png  picea_sitchensis   \n",
       "4  f8d0fde0fc906990  image_sitka_spruce_forest_45.png  picea_sitchensis   \n",
       "\n",
       "            time_added        time_verified  \n",
       "0  1517782631009109000  1517783581007864000  \n",
       "1  1517782631031102000  1517783581027029000  \n",
       "2  1517782631049848000  1517783581046446000  \n",
       "3  1517782631060264000  1517783581067552000  \n",
       "4  1517782631068754000  1517783581089674000  "
      ]
     },
     "execution_count": 76,
     "metadata": {},
     "output_type": "execute_result"
    }
   ],
   "source": [
    "manager.image_df.head()"
   ]
  },
  {
   "cell_type": "code",
   "execution_count": 71,
   "metadata": {},
   "outputs": [
    {
     "data": {
      "text/plain": [
       "imagehash.ImageHash"
      ]
     },
     "execution_count": 71,
     "metadata": {},
     "output_type": "execute_result"
    }
   ],
   "source": [
    "type(manager.image_df.loc[0,'p_hash'])"
   ]
  },
  {
   "cell_type": "code",
   "execution_count": 72,
   "metadata": {},
   "outputs": [
    {
     "data": {
      "text/plain": [
       "int"
      ]
     },
     "execution_count": 72,
     "metadata": {},
     "output_type": "execute_result"
    }
   ],
   "source": [
    "type(manager.image_df.loc[0,'time_added'])"
   ]
  },
  {
   "cell_type": "code",
   "execution_count": 73,
   "metadata": {},
   "outputs": [
    {
     "data": {
      "text/plain": [
       "1517782631009109000"
      ]
     },
     "execution_count": 73,
     "metadata": {},
     "output_type": "execute_result"
    }
   ],
   "source": [
    "manager.image_df.loc[0,'time_added']"
   ]
  },
  {
   "cell_type": "code",
   "execution_count": 74,
   "metadata": {},
   "outputs": [
    {
     "data": {
      "text/plain": [
       "Timestamp('2018-02-04 22:17:11.009109')"
      ]
     },
     "execution_count": 74,
     "metadata": {},
     "output_type": "execute_result"
    }
   ],
   "source": [
    "pd.Timestamp(manager.image_df.loc[0,'time_added'])"
   ]
  },
  {
   "cell_type": "code",
   "execution_count": 79,
   "metadata": {},
   "outputs": [
    {
     "data": {
      "text/plain": [
       "array([[ True, False,  True, False,  True, False,  True],\n",
       "       [False,  True, False,  True, False,  True, False],\n",
       "       [ True, False,  True, False,  True,  True,  True],\n",
       "       [False,  True,  True,  True, False,  True,  True],\n",
       "       [ True, False,  True,  True,  True,  True, False],\n",
       "       [False,  True,  True, False, False,  True,  True],\n",
       "       [False, False,  True,  True, False,  True,  True],\n",
       "       [ True, False,  True,  True,  True, False,  True]], dtype=bool)"
      ]
     },
     "execution_count": 79,
     "metadata": {},
     "output_type": "execute_result"
    }
   ],
   "source": [
    "fake_hash = imagehash.hex_to_hash('aaaabbbbcccddd')\n",
    "fake_hash"
   ]
  },
  {
   "cell_type": "code",
   "execution_count": 81,
   "metadata": {},
   "outputs": [
    {
     "data": {
      "text/html": [
       "<div>\n",
       "<style scoped>\n",
       "    .dataframe tbody tr th:only-of-type {\n",
       "        vertical-align: middle;\n",
       "    }\n",
       "\n",
       "    .dataframe tbody tr th {\n",
       "        vertical-align: top;\n",
       "    }\n",
       "\n",
       "    .dataframe thead th {\n",
       "        text-align: right;\n",
       "    }\n",
       "</style>\n",
       "<table border=\"1\" class=\"dataframe\">\n",
       "  <thead>\n",
       "    <tr style=\"text-align: right;\">\n",
       "      <th></th>\n",
       "      <th>p_hash</th>\n",
       "      <th>filename</th>\n",
       "      <th>folder</th>\n",
       "      <th>time_added</th>\n",
       "      <th>time_verified</th>\n",
       "    </tr>\n",
       "  </thead>\n",
       "  <tbody>\n",
       "  </tbody>\n",
       "</table>\n",
       "</div>"
      ],
      "text/plain": [
       "Empty DataFrame\n",
       "Columns: [p_hash, filename, folder, time_added, time_verified]\n",
       "Index: []"
      ]
     },
     "execution_count": 81,
     "metadata": {},
     "output_type": "execute_result"
    }
   ],
   "source": [
    "manager.image_df.loc[manager.image_df['p_hash'] == fake_hash]"
   ]
  },
  {
   "cell_type": "code",
   "execution_count": 82,
   "metadata": {
    "collapsed": true
   },
   "outputs": [],
   "source": [
    "manager.image_df.loc[manager.image_df['p_hash'] == fake_hash, 'p_hash'] = fake_hash"
   ]
  },
  {
   "cell_type": "code",
   "execution_count": 83,
   "metadata": {},
   "outputs": [
    {
     "data": {
      "text/html": [
       "<div>\n",
       "<style scoped>\n",
       "    .dataframe tbody tr th:only-of-type {\n",
       "        vertical-align: middle;\n",
       "    }\n",
       "\n",
       "    .dataframe tbody tr th {\n",
       "        vertical-align: top;\n",
       "    }\n",
       "\n",
       "    .dataframe thead th {\n",
       "        text-align: right;\n",
       "    }\n",
       "</style>\n",
       "<table border=\"1\" class=\"dataframe\">\n",
       "  <thead>\n",
       "    <tr style=\"text-align: right;\">\n",
       "      <th></th>\n",
       "      <th>p_hash</th>\n",
       "      <th>filename</th>\n",
       "      <th>folder</th>\n",
       "      <th>time_added</th>\n",
       "      <th>time_verified</th>\n",
       "    </tr>\n",
       "  </thead>\n",
       "  <tbody>\n",
       "  </tbody>\n",
       "</table>\n",
       "</div>"
      ],
      "text/plain": [
       "Empty DataFrame\n",
       "Columns: [p_hash, filename, folder, time_added, time_verified]\n",
       "Index: []"
      ]
     },
     "execution_count": 83,
     "metadata": {},
     "output_type": "execute_result"
    }
   ],
   "source": [
    "manager.image_df.loc[manager.image_df['p_hash'] == fake_hash]"
   ]
  },
  {
   "cell_type": "code",
   "execution_count": null,
   "metadata": {
    "collapsed": true
   },
   "outputs": [],
   "source": []
  }
 ],
 "metadata": {
  "kernelspec": {
   "display_name": "Python 3",
   "language": "python",
   "name": "python3"
  },
  "language_info": {
   "codemirror_mode": {
    "name": "ipython",
    "version": 3
   },
   "file_extension": ".py",
   "mimetype": "text/x-python",
   "name": "python",
   "nbconvert_exporter": "python",
   "pygments_lexer": "ipython3",
   "version": "3.6.3"
  }
 },
 "nbformat": 4,
 "nbformat_minor": 2
}
