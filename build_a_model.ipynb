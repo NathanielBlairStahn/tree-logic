{
 "cells": [
  {
   "cell_type": "code",
   "execution_count": 1,
   "metadata": {
    "collapsed": true
   },
   "outputs": [],
   "source": [
    "import numpy as np\n",
    "import pandas as pd\n",
    "import matplotlib.pyplot as plt\n",
    "%matplotlib inline"
   ]
  },
  {
   "cell_type": "code",
   "execution_count": 12,
   "metadata": {},
   "outputs": [],
   "source": [
    "from keras.applications.inception_v3 import InceptionV3\n",
    "#from keras.applications.xception import Xception\n",
    "from keras.preprocessing import image\n",
    "from keras.models import Model\n",
    "from keras.layers import Dense, GlobalAveragePooling2D\n",
    "\n",
    "#keras.applications.inception_v3.InceptionV3(include_top=True, weights='imagenet', input_tensor=None, input_shape=None, pooling=None, classes=1000)\n",
    "#keras.applications.xception.Xception(include_top=True, weights='imagenet', input_tensor=None, input_shape=None, pooling=None, classes=1000)"
   ]
  },
  {
   "cell_type": "code",
   "execution_count": 2,
   "metadata": {
    "collapsed": true
   },
   "outputs": [],
   "source": [
    "%load_ext autoreload\n",
    "%autoreload 2"
   ]
  },
  {
   "cell_type": "markdown",
   "metadata": {},
   "source": [
    "## Load Inception v3 and inspect"
   ]
  },
  {
   "cell_type": "code",
   "execution_count": 4,
   "metadata": {},
   "outputs": [
    {
     "name": "stdout",
     "output_type": "stream",
     "text": [
      "Downloading data from https://github.com/fchollet/deep-learning-models/releases/download/v0.5/inception_v3_weights_tf_dim_ordering_tf_kernels_notop.h5\n",
      "87916544/87910968 [==============================] - 27s 0us/step\n"
     ]
    }
   ],
   "source": [
    "# create the base pre-trained model\n",
    "base_model = InceptionV3(weights='imagenet', include_top=False)"
   ]
  },
  {
   "cell_type": "code",
   "execution_count": 11,
   "metadata": {},
   "outputs": [
    {
     "data": {
      "text/plain": [
       "[<keras.engine.topology.InputLayer at 0x10b214320>,\n",
       " <keras.layers.convolutional.Conv2D at 0x11483dbe0>,\n",
       " <keras.layers.normalization.BatchNormalization at 0x1131ef9b0>,\n",
       " <keras.layers.core.Activation at 0x114acbfd0>,\n",
       " <keras.layers.convolutional.Conv2D at 0x114acbf98>,\n",
       " <keras.layers.normalization.BatchNormalization at 0x114b6c400>,\n",
       " <keras.layers.core.Activation at 0x114bc4438>,\n",
       " <keras.layers.convolutional.Conv2D at 0x114bcad30>,\n",
       " <keras.layers.normalization.BatchNormalization at 0x114c11630>,\n",
       " <keras.layers.core.Activation at 0x114c523c8>,\n",
       " <keras.layers.pooling.MaxPooling2D at 0x114c69f98>,\n",
       " <keras.layers.convolutional.Conv2D at 0x114c8b400>,\n",
       " <keras.layers.normalization.BatchNormalization at 0x114ce63c8>,\n",
       " <keras.layers.core.Activation at 0x114cf5e10>,\n",
       " <keras.layers.convolutional.Conv2D at 0x114cf5ef0>,\n",
       " <keras.layers.normalization.BatchNormalization at 0x114d33c50>,\n",
       " <keras.layers.core.Activation at 0x114d76588>,\n",
       " <keras.layers.pooling.MaxPooling2D at 0x114d89ef0>,\n",
       " <keras.layers.convolutional.Conv2D at 0x114f35dd8>,\n",
       " <keras.layers.normalization.BatchNormalization at 0x114f866a0>,\n",
       " <keras.layers.core.Activation at 0x114fb02e8>,\n",
       " <keras.layers.convolutional.Conv2D at 0x114e19cc0>,\n",
       " <keras.layers.convolutional.Conv2D at 0x114fc4e10>,\n",
       " <keras.layers.normalization.BatchNormalization at 0x114e65630>,\n",
       " <keras.layers.normalization.BatchNormalization at 0x1150146d8>,\n",
       " <keras.layers.core.Activation at 0x114e91278>,\n",
       " <keras.layers.core.Activation at 0x115040320>,\n",
       " <keras.layers.pooling.AveragePooling2D at 0x1150e4e80>,\n",
       " <keras.layers.convolutional.Conv2D at 0x114dac470>,\n",
       " <keras.layers.convolutional.Conv2D at 0x114ea8da0>,\n",
       " <keras.layers.convolutional.Conv2D at 0x115055e48>,\n",
       " <keras.layers.convolutional.Conv2D at 0x11510b860>,\n",
       " <keras.layers.normalization.BatchNormalization at 0x114e075f8>,\n",
       " <keras.layers.normalization.BatchNormalization at 0x114ef6668>,\n",
       " <keras.layers.normalization.BatchNormalization at 0x1150a3710>,\n",
       " <keras.layers.normalization.BatchNormalization at 0x11515e9e8>,\n",
       " <keras.layers.core.Activation at 0x114e19b38>,\n",
       " <keras.layers.core.Activation at 0x114f222b0>,\n",
       " <keras.layers.core.Activation at 0x1150d3358>,\n",
       " <keras.layers.core.Activation at 0x115185630>,\n",
       " <keras.layers.merge.Concatenate at 0x115174dd8>,\n",
       " <keras.layers.convolutional.Conv2D at 0x115334518>,\n",
       " <keras.layers.normalization.BatchNormalization at 0x11536fe48>,\n",
       " <keras.layers.core.Activation at 0x1153b30b8>,\n",
       " <keras.layers.convolutional.Conv2D at 0x115217940>,\n",
       " <keras.layers.convolutional.Conv2D at 0x1153c4550>,\n",
       " <keras.layers.normalization.BatchNormalization at 0x11524ff98>,\n",
       " <keras.layers.normalization.BatchNormalization at 0x115401e80>,\n",
       " <keras.layers.core.Activation at 0x115295048>,\n",
       " <keras.layers.core.Activation at 0x1154410f0>,\n",
       " <keras.layers.pooling.AveragePooling2D at 0x1154e55c0>,\n",
       " <keras.layers.convolutional.Conv2D at 0x115174f28>,\n",
       " <keras.layers.convolutional.Conv2D at 0x1152a84e0>,\n",
       " <keras.layers.convolutional.Conv2D at 0x115457588>,\n",
       " <keras.layers.convolutional.Conv2D at 0x11550a0f0>,\n",
       " <keras.layers.normalization.BatchNormalization at 0x115198780>,\n",
       " <keras.layers.normalization.BatchNormalization at 0x1152e0fd0>,\n",
       " <keras.layers.normalization.BatchNormalization at 0x115491860>,\n",
       " <keras.layers.normalization.BatchNormalization at 0x11555f1d0>,\n",
       " <keras.layers.core.Activation at 0x1151eecc0>,\n",
       " <keras.layers.core.Activation at 0x115322080>,\n",
       " <keras.layers.core.Activation at 0x1154d1128>,\n",
       " <keras.layers.core.Activation at 0x115572cc0>,\n",
       " <keras.layers.merge.Concatenate at 0x115572da0>,\n",
       " <keras.layers.convolutional.Conv2D at 0x115734d68>,\n",
       " <keras.layers.normalization.BatchNormalization at 0x115782630>,\n",
       " <keras.layers.core.Activation at 0x1157af278>,\n",
       " <keras.layers.convolutional.Conv2D at 0x115604b70>,\n",
       " <keras.layers.convolutional.Conv2D at 0x1157c3da0>,\n",
       " <keras.layers.normalization.BatchNormalization at 0x1156605c0>,\n",
       " <keras.layers.normalization.BatchNormalization at 0x115812668>,\n",
       " <keras.layers.core.Activation at 0x11568d208>,\n",
       " <keras.layers.core.Activation at 0x11583c2b0>,\n",
       " <keras.layers.pooling.AveragePooling2D at 0x1158e1e10>,\n",
       " <keras.layers.convolutional.Conv2D at 0x115572588>,\n",
       " <keras.layers.convolutional.Conv2D at 0x1156a3d30>,\n",
       " <keras.layers.convolutional.Conv2D at 0x115853dd8>,\n",
       " <keras.layers.convolutional.Conv2D at 0x1159077f0>,\n",
       " <keras.layers.normalization.BatchNormalization at 0x1155adcc0>,\n",
       " <keras.layers.normalization.BatchNormalization at 0x1156f05f8>,\n",
       " <keras.layers.normalization.BatchNormalization at 0x1158a26a0>,\n",
       " <keras.layers.normalization.BatchNormalization at 0x11595d978>,\n",
       " <keras.layers.core.Activation at 0x1155f04a8>,\n",
       " <keras.layers.core.Activation at 0x115723240>,\n",
       " <keras.layers.core.Activation at 0x1158ce2e8>,\n",
       " <keras.layers.core.Activation at 0x115972eb8>,\n",
       " <keras.layers.merge.Concatenate at 0x115972fd0>,\n",
       " <keras.layers.convolutional.Conv2D at 0x115a138d0>,\n",
       " <keras.layers.normalization.BatchNormalization at 0x115a8f048>,\n",
       " <keras.layers.core.Activation at 0x115a789b0>,\n",
       " <keras.layers.convolutional.Conv2D at 0x115aa2908>,\n",
       " <keras.layers.normalization.BatchNormalization at 0x115adcfd0>,\n",
       " <keras.layers.core.Activation at 0x115b0a8d0>,\n",
       " <keras.layers.convolutional.Conv2D at 0x115972d68>,\n",
       " <keras.layers.convolutional.Conv2D at 0x115b31940>,\n",
       " <keras.layers.normalization.BatchNormalization at 0x115993710>,\n",
       " <keras.layers.normalization.BatchNormalization at 0x115b6df98>,\n",
       " <keras.layers.core.Activation at 0x1159eac50>,\n",
       " <keras.layers.core.Activation at 0x115bb0048>,\n",
       " <keras.layers.pooling.MaxPooling2D at 0x115bc14e0>,\n",
       " <keras.layers.merge.Concatenate at 0x115be9128>,\n",
       " <keras.layers.convolutional.Conv2D at 0x115dffbe0>,\n",
       " <keras.layers.normalization.BatchNormalization at 0x115e3b9e8>,\n",
       " <keras.layers.core.Activation at 0x115e7c198>,\n",
       " <keras.layers.convolutional.Conv2D at 0x115e8fc88>,\n",
       " <keras.layers.normalization.BatchNormalization at 0x115edf588>,\n",
       " <keras.layers.core.Activation at 0x115f0c1d0>,\n",
       " <keras.layers.convolutional.Conv2D at 0x115c54a58>,\n",
       " <keras.layers.convolutional.Conv2D at 0x115f20cc0>,\n",
       " <keras.layers.normalization.BatchNormalization at 0x115c8de10>,\n",
       " <keras.layers.normalization.BatchNormalization at 0x115f6d5c0>,\n",
       " <keras.layers.core.Activation at 0x115cd00f0>,\n",
       " <keras.layers.core.Activation at 0x115f9c208>,\n",
       " <keras.layers.convolutional.Conv2D at 0x115ce3b70>,\n",
       " <keras.layers.convolutional.Conv2D at 0x115fb0d30>,\n",
       " <keras.layers.normalization.BatchNormalization at 0x115d1ce48>,\n",
       " <keras.layers.normalization.BatchNormalization at 0x115ffe5f8>,\n",
       " <keras.layers.core.Activation at 0x115d5e128>,\n",
       " <keras.layers.core.Activation at 0x11602b240>,\n",
       " <keras.layers.pooling.AveragePooling2D at 0x1160cfda0>,\n",
       " <keras.layers.convolutional.Conv2D at 0x115c12ef0>,\n",
       " <keras.layers.convolutional.Conv2D at 0x115d74ba8>,\n",
       " <keras.layers.convolutional.Conv2D at 0x116040d68>,\n",
       " <keras.layers.convolutional.Conv2D at 0x1160f4780>,\n",
       " <keras.layers.normalization.BatchNormalization at 0x115c2ba58>,\n",
       " <keras.layers.normalization.BatchNormalization at 0x115dace80>,\n",
       " <keras.layers.normalization.BatchNormalization at 0x116090630>,\n",
       " <keras.layers.normalization.BatchNormalization at 0x1161498d0>,\n",
       " <keras.layers.core.Activation at 0x115c54a20>,\n",
       " <keras.layers.core.Activation at 0x115dee160>,\n",
       " <keras.layers.core.Activation at 0x1160ba278>,\n",
       " <keras.layers.core.Activation at 0x116160e48>,\n",
       " <keras.layers.merge.Concatenate at 0x116160fd0>,\n",
       " <keras.layers.convolutional.Conv2D at 0x1163b0908>,\n",
       " <keras.layers.normalization.BatchNormalization at 0x1163ebfd0>,\n",
       " <keras.layers.core.Activation at 0x1164188d0>,\n",
       " <keras.layers.convolutional.Conv2D at 0x116442940>,\n",
       " <keras.layers.normalization.BatchNormalization at 0x11647cf98>,\n",
       " <keras.layers.core.Activation at 0x1164be048>,\n",
       " <keras.layers.convolutional.Conv2D at 0x116202860>,\n",
       " <keras.layers.convolutional.Conv2D at 0x1164d14e0>,\n",
       " <keras.layers.normalization.BatchNormalization at 0x11623de48>,\n",
       " <keras.layers.normalization.BatchNormalization at 0x11650dfd0>,\n",
       " <keras.layers.core.Activation at 0x116269940>,\n",
       " <keras.layers.core.Activation at 0x116551080>,\n",
       " <keras.layers.convolutional.Conv2D at 0x11628f898>,\n",
       " <keras.layers.convolutional.Conv2D at 0x116563518>,\n",
       " <keras.layers.normalization.BatchNormalization at 0x1162c9f60>,\n",
       " <keras.layers.normalization.BatchNormalization at 0x11659fe48>,\n",
       " <keras.layers.core.Activation at 0x1162f6978>,\n",
       " <keras.layers.core.Activation at 0x1165e10b8>,\n",
       " <keras.layers.pooling.AveragePooling2D at 0x116683588>,\n",
       " <keras.layers.convolutional.Conv2D at 0x116160cf8>,\n",
       " <keras.layers.convolutional.Conv2D at 0x1163228d0>,\n",
       " <keras.layers.convolutional.Conv2D at 0x1165f3550>,\n",
       " <keras.layers.convolutional.Conv2D at 0x1166a8198>,\n",
       " <keras.layers.normalization.BatchNormalization at 0x1161ad860>,\n",
       " <keras.layers.normalization.BatchNormalization at 0x1163a0048>,\n",
       " <keras.layers.normalization.BatchNormalization at 0x11662ee80>,\n",
       " <keras.layers.normalization.BatchNormalization at 0x1166ff198>,\n",
       " <keras.layers.core.Activation at 0x1161da588>,\n",
       " <keras.layers.core.Activation at 0x11638b9b0>,\n",
       " <keras.layers.core.Activation at 0x1166730f0>,\n",
       " <keras.layers.core.Activation at 0x116713c88>,\n",
       " <keras.layers.merge.Concatenate at 0x116713d68>,\n",
       " <keras.layers.convolutional.Conv2D at 0x116954da0>,\n",
       " <keras.layers.normalization.BatchNormalization at 0x1169a5668>,\n",
       " <keras.layers.core.Activation at 0x1169d12b0>,\n",
       " <keras.layers.convolutional.Conv2D at 0x1169e4dd8>,\n",
       " <keras.layers.normalization.BatchNormalization at 0x116a326a0>,\n",
       " <keras.layers.core.Activation at 0x116a612e8>,\n",
       " <keras.layers.convolutional.Conv2D at 0x1167a3b70>,\n",
       " <keras.layers.convolutional.Conv2D at 0x116a76e10>,\n",
       " <keras.layers.normalization.BatchNormalization at 0x1167f25c0>,\n",
       " <keras.layers.normalization.BatchNormalization at 0x116ac46d8>,\n",
       " <keras.layers.core.Activation at 0x116822208>,\n",
       " <keras.layers.core.Activation at 0x116af0320>,\n",
       " <keras.layers.convolutional.Conv2D at 0x116834d30>,\n",
       " <keras.layers.convolutional.Conv2D at 0x116b04e48>,\n",
       " <keras.layers.normalization.BatchNormalization at 0x1168835f8>,\n",
       " <keras.layers.normalization.BatchNormalization at 0x116b56710>,\n",
       " <keras.layers.core.Activation at 0x1168b0240>,\n",
       " <keras.layers.core.Activation at 0x116b83358>,\n",
       " <keras.layers.pooling.AveragePooling2D at 0x116c29eb8>,\n",
       " <keras.layers.convolutional.Conv2D at 0x116736390>,\n",
       " <keras.layers.convolutional.Conv2D at 0x1168c4d68>,\n",
       " <keras.layers.convolutional.Conv2D at 0x116b96e80>,\n",
       " <keras.layers.convolutional.Conv2D at 0x116c4f898>,\n",
       " <keras.layers.normalization.BatchNormalization at 0x1167364a8>,\n",
       " <keras.layers.normalization.BatchNormalization at 0x116914630>,\n",
       " <keras.layers.normalization.BatchNormalization at 0x116be8748>,\n",
       " <keras.layers.normalization.BatchNormalization at 0x116ca6a20>,\n",
       " <keras.layers.core.Activation at 0x1167a3ba8>,\n",
       " <keras.layers.core.Activation at 0x11693e278>,\n",
       " <keras.layers.core.Activation at 0x116c13390>,\n",
       " <keras.layers.core.Activation at 0x116cb9f60>,\n",
       " <keras.layers.merge.Concatenate at 0x116b83eb8>,\n",
       " <keras.layers.convolutional.Conv2D at 0x116f095c0>,\n",
       " <keras.layers.normalization.BatchNormalization at 0x116f44550>,\n",
       " <keras.layers.core.Activation at 0x116f83160>,\n",
       " <keras.layers.convolutional.Conv2D at 0x116f995f8>,\n",
       " <keras.layers.normalization.BatchNormalization at 0x116fd4588>,\n",
       " <keras.layers.core.Activation at 0x117017198>,\n",
       " <keras.layers.convolutional.Conv2D at 0x116d5a208>,\n",
       " <keras.layers.convolutional.Conv2D at 0x117029630>,\n",
       " <keras.layers.normalization.BatchNormalization at 0x116d94e48>,\n",
       " <keras.layers.normalization.BatchNormalization at 0x1170665c0>,\n",
       " <keras.layers.core.Activation at 0x116dd70b8>,\n",
       " <keras.layers.core.Activation at 0x1170a81d0>,\n",
       " <keras.layers.convolutional.Conv2D at 0x116de8550>,\n",
       " <keras.layers.convolutional.Conv2D at 0x1170ba668>,\n",
       " <keras.layers.normalization.BatchNormalization at 0x116e24e80>,\n",
       " <keras.layers.normalization.BatchNormalization at 0x1170f65f8>,\n",
       " <keras.layers.core.Activation at 0x116e670f0>,\n",
       " <keras.layers.core.Activation at 0x117137208>,\n",
       " <keras.layers.pooling.AveragePooling2D at 0x11726c6d8>,\n",
       " <keras.layers.convolutional.Conv2D at 0x116cda2e8>,\n",
       " <keras.layers.convolutional.Conv2D at 0x116e7a588>,\n",
       " <keras.layers.convolutional.Conv2D at 0x1171496a0>,\n",
       " <keras.layers.convolutional.Conv2D at 0x117291320>,\n",
       " <keras.layers.normalization.BatchNormalization at 0x116cdaac8>,\n",
       " <keras.layers.normalization.BatchNormalization at 0x116eb4860>,\n",
       " <keras.layers.normalization.BatchNormalization at 0x117185ac8>,\n",
       " <keras.layers.normalization.BatchNormalization at 0x1172ea2e8>,\n",
       " <keras.layers.core.Activation at 0x116d5aba8>,\n",
       " <keras.layers.core.Activation at 0x116ef6128>,\n",
       " <keras.layers.core.Activation at 0x117258240>,\n",
       " <keras.layers.core.Activation at 0x1172fcdd8>,\n",
       " <keras.layers.merge.Concatenate at 0x1172fceb8>,\n",
       " <keras.layers.convolutional.Conv2D at 0x11741fe48>,\n",
       " <keras.layers.normalization.BatchNormalization at 0x11746c710>,\n",
       " <keras.layers.core.Activation at 0x117499358>,\n",
       " <keras.layers.convolutional.Conv2D at 0x1174afe80>,\n",
       " <keras.layers.normalization.BatchNormalization at 0x1174ff748>,\n",
       " <keras.layers.core.Activation at 0x11752b390>,\n",
       " <keras.layers.convolutional.Conv2D at 0x1172fc6a0>,\n",
       " <keras.layers.convolutional.Conv2D at 0x117540eb8>,\n",
       " <keras.layers.normalization.BatchNormalization at 0x11733ac18>,\n",
       " <keras.layers.normalization.BatchNormalization at 0x11758c780>,\n",
       " <keras.layers.core.Activation at 0x11737b5c0>,\n",
       " <keras.layers.core.Activation at 0x1175bb3c8>,\n",
       " <keras.layers.convolutional.Conv2D at 0x11738ccc0>,\n",
       " <keras.layers.convolutional.Conv2D at 0x1175d1ef0>,\n",
       " <keras.layers.normalization.BatchNormalization at 0x1173df6d8>,\n",
       " <keras.layers.normalization.BatchNormalization at 0x11761e7b8>,\n",
       " <keras.layers.core.Activation at 0x11740a320>,\n",
       " <keras.layers.core.Activation at 0x117671eb8>,\n",
       " <keras.layers.pooling.MaxPooling2D at 0x117660ef0>,\n",
       " <keras.layers.merge.Concatenate at 0x117686908>,\n",
       " <keras.layers.convolutional.Conv2D at 0x1178b4be0>,\n",
       " <keras.layers.normalization.BatchNormalization at 0x11791cb38>,\n",
       " <keras.layers.core.Activation at 0x117932160>,\n",
       " <keras.layers.convolutional.Conv2D at 0x117703438>,\n",
       " <keras.layers.convolutional.Conv2D at 0x117944e48>,\n",
       " <keras.layers.normalization.BatchNormalization at 0x117740e48>,\n",
       " <keras.layers.normalization.BatchNormalization at 0x117981748>,\n",
       " <keras.layers.core.Activation at 0x1177800b8>,\n",
       " <keras.layers.core.Activation at 0x1179c44e0>,\n",
       " <keras.layers.convolutional.Conv2D at 0x117791550>,\n",
       " <keras.layers.convolutional.Conv2D at 0x117822588>,\n",
       " <keras.layers.convolutional.Conv2D at 0x1179d4e80>,\n",
       " <keras.layers.convolutional.Conv2D at 0x117a67eb8>,\n",
       " <keras.layers.pooling.AveragePooling2D at 0x117af69e8>,\n",
       " <keras.layers.convolutional.Conv2D at 0x117699f98>,\n",
       " <keras.layers.normalization.BatchNormalization at 0x1177cae80>,\n",
       " <keras.layers.normalization.BatchNormalization at 0x11785e860>,\n",
       " <keras.layers.normalization.BatchNormalization at 0x117a10780>,\n",
       " <keras.layers.normalization.BatchNormalization at 0x117aa27b8>,\n",
       " <keras.layers.convolutional.Conv2D at 0x117b33b00>,\n",
       " <keras.layers.normalization.BatchNormalization at 0x1176dc518>,\n",
       " <keras.layers.core.Activation at 0x1178120f0>,\n",
       " <keras.layers.core.Activation at 0x11789f128>,\n",
       " <keras.layers.core.Activation at 0x117a53518>,\n",
       " <keras.layers.core.Activation at 0x117ae4550>,\n",
       " <keras.layers.normalization.BatchNormalization at 0x117b33cc0>,\n",
       " <keras.layers.core.Activation at 0x1176f1e80>,\n",
       " <keras.layers.merge.Concatenate at 0x1178b45c0>,\n",
       " <keras.layers.merge.Concatenate at 0x117af6e10>,\n",
       " <keras.layers.core.Activation at 0x117b8be80>,\n",
       " <keras.layers.merge.Concatenate at 0x117b8bfd0>,\n",
       " <keras.layers.convolutional.Conv2D at 0x117ddfb00>,\n",
       " <keras.layers.normalization.BatchNormalization at 0x117e46a58>,\n",
       " <keras.layers.core.Activation at 0x117e5c080>,\n",
       " <keras.layers.convolutional.Conv2D at 0x117c2d8d0>,\n",
       " <keras.layers.convolutional.Conv2D at 0x117e70d68>,\n",
       " <keras.layers.normalization.BatchNormalization at 0x117ca9048>,\n",
       " <keras.layers.normalization.BatchNormalization at 0x117eac668>,\n",
       " <keras.layers.core.Activation at 0x117c939b0>,\n",
       " <keras.layers.core.Activation at 0x117eec400>,\n",
       " <keras.layers.convolutional.Conv2D at 0x117cbc908>,\n",
       " <keras.layers.convolutional.Conv2D at 0x117d4c940>,\n",
       " <keras.layers.convolutional.Conv2D at 0x117effda0>,\n",
       " <keras.layers.convolutional.Conv2D at 0x117f92dd8>,\n",
       " <keras.layers.pooling.AveragePooling2D at 0x118021908>,\n",
       " <keras.layers.convolutional.Conv2D at 0x117baf6d8>,\n",
       " <keras.layers.normalization.BatchNormalization at 0x117cf6fd0>,\n",
       " <keras.layers.normalization.BatchNormalization at 0x117d88f98>,\n",
       " <keras.layers.normalization.BatchNormalization at 0x117f3a6a0>,\n",
       " <keras.layers.normalization.BatchNormalization at 0x117fcc6d8>,\n",
       " <keras.layers.convolutional.Conv2D at 0x11805ed30>,\n",
       " <keras.layers.normalization.BatchNormalization at 0x117bafa90>,\n",
       " <keras.layers.core.Activation at 0x117d268d0>,\n",
       " <keras.layers.core.Activation at 0x117dcb048>,\n",
       " <keras.layers.core.Activation at 0x117f7d438>,\n",
       " <keras.layers.core.Activation at 0x11800c470>,\n",
       " <keras.layers.normalization.BatchNormalization at 0x11805ebe0>,\n",
       " <keras.layers.core.Activation at 0x117c19fd0>,\n",
       " <keras.layers.merge.Concatenate at 0x117ddf4e0>,\n",
       " <keras.layers.merge.Concatenate at 0x118021e10>,\n",
       " <keras.layers.core.Activation at 0x1180b18d0>,\n",
       " <keras.layers.merge.Concatenate at 0x1180b1da0>]"
      ]
     },
     "execution_count": 11,
     "metadata": {},
     "output_type": "execute_result"
    }
   ],
   "source": [
    "base_model.layers"
   ]
  },
  {
   "cell_type": "markdown",
   "metadata": {},
   "source": [
    "### Get output features from Inception v3, and inspect"
   ]
  },
  {
   "cell_type": "code",
   "execution_count": 5,
   "metadata": {
    "collapsed": true
   },
   "outputs": [],
   "source": [
    "#Get output features\n",
    "x = base_model.output"
   ]
  },
  {
   "cell_type": "code",
   "execution_count": 6,
   "metadata": {},
   "outputs": [
    {
     "data": {
      "text/plain": [
       "tensorflow.python.framework.ops.Tensor"
      ]
     },
     "execution_count": 6,
     "metadata": {},
     "output_type": "execute_result"
    }
   ],
   "source": [
    "type(x)"
   ]
  },
  {
   "cell_type": "code",
   "execution_count": 7,
   "metadata": {},
   "outputs": [
    {
     "data": {
      "text/plain": [
       "TensorShape([Dimension(None), Dimension(None), Dimension(None), Dimension(2048)])"
      ]
     },
     "execution_count": 7,
     "metadata": {},
     "output_type": "execute_result"
    }
   ],
   "source": [
    "x.shape"
   ]
  },
  {
   "cell_type": "code",
   "execution_count": 13,
   "metadata": {},
   "outputs": [
    {
     "data": {
      "text/plain": [
       "TensorShape([Dimension(None), Dimension(2048)])"
      ]
     },
     "execution_count": 13,
     "metadata": {},
     "output_type": "execute_result"
    }
   ],
   "source": [
    "GlobalAveragePooling2D()(x).shape"
   ]
  },
  {
   "cell_type": "code",
   "execution_count": 16,
   "metadata": {},
   "outputs": [
    {
     "data": {
      "text/plain": [
       "TensorShape([Dimension(None), Dimension(None), Dimension(None), Dimension(3)])"
      ]
     },
     "execution_count": 16,
     "metadata": {},
     "output_type": "execute_result"
    }
   ],
   "source": [
    "base_model.input.shape"
   ]
  },
  {
   "cell_type": "markdown",
   "metadata": {},
   "source": [
    "## Try creating a few different models to identify 4 classes based on Inception v3"
   ]
  },
  {
   "cell_type": "markdown",
   "metadata": {},
   "source": [
    "### Model 1: Do logistic regression on output features"
   ]
  },
  {
   "cell_type": "code",
   "execution_count": null,
   "metadata": {
    "collapsed": true
   },
   "outputs": [],
   "source": [
    "#Create a logistic layer\n",
    "log_predictions = Dense(4, activation='softmax')(x)\n",
    "\n",
    "log_model = Model(inputs=base_model.input, outputs=log_predictions)"
   ]
  },
  {
   "cell_type": "markdown",
   "metadata": {},
   "source": [
    "### Model 2: Add a hidden fully connected layer before doing logistic regression"
   ]
  },
  {
   "cell_type": "code",
   "execution_count": null,
   "metadata": {
    "collapsed": true
   },
   "outputs": [],
   "source": [
    "# let's add a fully-connected layer\n",
    "x = Dense(100, activation='relu')(x)\n",
    "# and a logistic layer -- let's say we have 4 classes\n",
    "predictions = Dense(200, activation='softmax')(x)"
   ]
  }
 ],
 "metadata": {
  "kernelspec": {
   "display_name": "Python 3",
   "language": "python",
   "name": "python3"
  },
  "language_info": {
   "codemirror_mode": {
    "name": "ipython",
    "version": 3
   },
   "file_extension": ".py",
   "mimetype": "text/x-python",
   "name": "python",
   "nbconvert_exporter": "python",
   "pygments_lexer": "ipython3",
   "version": "3.6.3"
  }
 },
 "nbformat": 4,
 "nbformat_minor": 2
}
