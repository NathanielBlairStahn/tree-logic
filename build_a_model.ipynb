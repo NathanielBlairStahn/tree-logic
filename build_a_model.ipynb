{
 "cells": [
  {
   "cell_type": "markdown",
   "metadata": {},
   "source": [
    "# Train some models on the features extracted from InceptionV3"
   ]
  },
  {
   "cell_type": "code",
   "execution_count": 1,
   "metadata": {},
   "outputs": [
    {
     "name": "stderr",
     "output_type": "stream",
     "text": [
      "Using TensorFlow backend.\n"
     ]
    }
   ],
   "source": [
    "import numpy as np\n",
    "import pandas as pd\n",
    "import matplotlib.pyplot as plt\n",
    "%matplotlib inline\n",
    "\n",
    "from keras.applications.inception_v3 import InceptionV3\n",
    "#from keras.applications.xception import Xception\n",
    "from keras.preprocessing import image\n",
    "#from keras.models import Model\n",
    "#from keras.layers import GlobalAveragePooling2D\n",
    "\n",
    "# #Default InceptionV3 options:\n",
    "# #https://keras.io/applications/#inceptionv3\n",
    "#\n",
    "# For pre-trained weights, input_shape has to be  (299, 299, 3) (with 'channels_last' data format)\n",
    "# or (3, 299, 299) (with 'channels_first' data format).\n",
    "#\n",
    "# Note that image.load_img() uses 'channels_last' by default, and you need to\n",
    "# specify target_size = (299,299) when loading an image to feed into InceptionV3.\n",
    "#\n",
    "# keras.applications.inception_v3.InceptionV3(include_top=True\n",
    "#                                             , weights='imagenet'\n",
    "#                                             , input_tensor=None\n",
    "#                                             , input_shape=None\n",
    "#                                             , pooling=None\n",
    "#                                             , classes=1000)\n",
    "\n",
    "import os\n",
    "from PIL import Image\n",
    "#Hash images using the ImageHash library\n",
    "#https://pypi.python.org/pypi/ImageHash\n",
    "import imagehash\n",
    "\n",
    "from sklearn.model_selection import train_test_split\n",
    "from sklearn.linear_model import LogisticRegression\n",
    "from sklearn.ensemble import RandomForestClassifier, GradientBoostingClassifier\n",
    "\n",
    "%load_ext autoreload\n",
    "%autoreload 2"
   ]
  },
  {
   "cell_type": "code",
   "execution_count": 188,
   "metadata": {
    "collapsed": true
   },
   "outputs": [],
   "source": [
    "from sklearn.metrics import log_loss, accuracy_score, confusion_matrix"
   ]
  },
  {
   "cell_type": "markdown",
   "metadata": {},
   "source": [
    "## Load the data and pull out features and labels"
   ]
  },
  {
   "cell_type": "code",
   "execution_count": 6,
   "metadata": {},
   "outputs": [
    {
     "data": {
      "text/html": [
       "<div>\n",
       "<style scoped>\n",
       "    .dataframe tbody tr th:only-of-type {\n",
       "        vertical-align: middle;\n",
       "    }\n",
       "\n",
       "    .dataframe tbody tr th {\n",
       "        vertical-align: top;\n",
       "    }\n",
       "\n",
       "    .dataframe thead th {\n",
       "        text-align: right;\n",
       "    }\n",
       "</style>\n",
       "<table border=\"1\" class=\"dataframe\">\n",
       "  <thead>\n",
       "    <tr style=\"text-align: right;\">\n",
       "      <th></th>\n",
       "      <th>p_hash</th>\n",
       "      <th>filename</th>\n",
       "      <th>species</th>\n",
       "      <th>tags</th>\n",
       "      <th>incv3_out_0</th>\n",
       "      <th>incv3_out_1</th>\n",
       "      <th>incv3_out_2</th>\n",
       "      <th>incv3_out_3</th>\n",
       "      <th>incv3_out_4</th>\n",
       "      <th>incv3_out_5</th>\n",
       "      <th>...</th>\n",
       "      <th>incv3_out_2038</th>\n",
       "      <th>incv3_out_2039</th>\n",
       "      <th>incv3_out_2040</th>\n",
       "      <th>incv3_out_2041</th>\n",
       "      <th>incv3_out_2042</th>\n",
       "      <th>incv3_out_2043</th>\n",
       "      <th>incv3_out_2044</th>\n",
       "      <th>incv3_out_2045</th>\n",
       "      <th>incv3_out_2046</th>\n",
       "      <th>incv3_out_2047</th>\n",
       "    </tr>\n",
       "  </thead>\n",
       "  <tbody>\n",
       "    <tr>\n",
       "      <th>0</th>\n",
       "      <td>99a7465a1e99acb4</td>\n",
       "      <td>image_picea_sitchensis_27.png</td>\n",
       "      <td>picea_sitchensis</td>\n",
       "      <td>NaN</td>\n",
       "      <td>13.995308</td>\n",
       "      <td>1.316715</td>\n",
       "      <td>0.279829</td>\n",
       "      <td>67.839417</td>\n",
       "      <td>43.733177</td>\n",
       "      <td>38.206165</td>\n",
       "      <td>...</td>\n",
       "      <td>160.387985</td>\n",
       "      <td>1.176492</td>\n",
       "      <td>45.983730</td>\n",
       "      <td>10.465877</td>\n",
       "      <td>22.118896</td>\n",
       "      <td>3.226861</td>\n",
       "      <td>29.401524</td>\n",
       "      <td>0.486684</td>\n",
       "      <td>0.000000</td>\n",
       "      <td>15.634432</td>\n",
       "    </tr>\n",
       "    <tr>\n",
       "      <th>1</th>\n",
       "      <td>93d12f8e712ef068</td>\n",
       "      <td>image_picea_sitchensis_33.png</td>\n",
       "      <td>picea_sitchensis</td>\n",
       "      <td>NaN</td>\n",
       "      <td>7.449574</td>\n",
       "      <td>0.417233</td>\n",
       "      <td>0.447665</td>\n",
       "      <td>6.178374</td>\n",
       "      <td>2.092985</td>\n",
       "      <td>6.251201</td>\n",
       "      <td>...</td>\n",
       "      <td>2.649559</td>\n",
       "      <td>0.523397</td>\n",
       "      <td>0.392520</td>\n",
       "      <td>7.703988</td>\n",
       "      <td>13.842188</td>\n",
       "      <td>12.907540</td>\n",
       "      <td>1.112756</td>\n",
       "      <td>0.000000</td>\n",
       "      <td>5.436511</td>\n",
       "      <td>1.154409</td>\n",
       "    </tr>\n",
       "    <tr>\n",
       "      <th>2</th>\n",
       "      <td>cce3482eb991533b</td>\n",
       "      <td>image_picea_sitchensis_6.png</td>\n",
       "      <td>picea_sitchensis</td>\n",
       "      <td>NaN</td>\n",
       "      <td>0.708871</td>\n",
       "      <td>0.640444</td>\n",
       "      <td>1.305804</td>\n",
       "      <td>9.565918</td>\n",
       "      <td>15.157275</td>\n",
       "      <td>1.787687</td>\n",
       "      <td>...</td>\n",
       "      <td>15.114614</td>\n",
       "      <td>0.000000</td>\n",
       "      <td>0.066235</td>\n",
       "      <td>2.280773</td>\n",
       "      <td>8.082823</td>\n",
       "      <td>1.939496</td>\n",
       "      <td>0.041136</td>\n",
       "      <td>0.000000</td>\n",
       "      <td>0.000000</td>\n",
       "      <td>0.034437</td>\n",
       "    </tr>\n",
       "    <tr>\n",
       "      <th>3</th>\n",
       "      <td>c119991c4fcf1cda</td>\n",
       "      <td>image_picea_sitchensis_in_winter_12.png</td>\n",
       "      <td>picea_sitchensis</td>\n",
       "      <td>NaN</td>\n",
       "      <td>7.138457</td>\n",
       "      <td>1.225646</td>\n",
       "      <td>15.940742</td>\n",
       "      <td>42.644821</td>\n",
       "      <td>23.604031</td>\n",
       "      <td>13.818824</td>\n",
       "      <td>...</td>\n",
       "      <td>49.895081</td>\n",
       "      <td>0.000000</td>\n",
       "      <td>7.600242</td>\n",
       "      <td>3.260593</td>\n",
       "      <td>13.135204</td>\n",
       "      <td>12.249097</td>\n",
       "      <td>17.588070</td>\n",
       "      <td>0.000000</td>\n",
       "      <td>0.000000</td>\n",
       "      <td>0.000000</td>\n",
       "    </tr>\n",
       "    <tr>\n",
       "      <th>4</th>\n",
       "      <td>e3c3dab100fdc29c</td>\n",
       "      <td>image_sitka_spruce_59.png</td>\n",
       "      <td>picea_sitchensis</td>\n",
       "      <td>NaN</td>\n",
       "      <td>0.030419</td>\n",
       "      <td>2.616714</td>\n",
       "      <td>1.435360</td>\n",
       "      <td>52.145359</td>\n",
       "      <td>5.377345</td>\n",
       "      <td>5.631077</td>\n",
       "      <td>...</td>\n",
       "      <td>13.391465</td>\n",
       "      <td>21.970516</td>\n",
       "      <td>5.217728</td>\n",
       "      <td>8.282942</td>\n",
       "      <td>0.788009</td>\n",
       "      <td>0.591635</td>\n",
       "      <td>35.845409</td>\n",
       "      <td>0.000000</td>\n",
       "      <td>0.000000</td>\n",
       "      <td>2.780651</td>\n",
       "    </tr>\n",
       "  </tbody>\n",
       "</table>\n",
       "<p>5 rows × 2052 columns</p>\n",
       "</div>"
      ],
      "text/plain": [
       "             p_hash                                 filename  \\\n",
       "0  99a7465a1e99acb4            image_picea_sitchensis_27.png   \n",
       "1  93d12f8e712ef068            image_picea_sitchensis_33.png   \n",
       "2  cce3482eb991533b             image_picea_sitchensis_6.png   \n",
       "3  c119991c4fcf1cda  image_picea_sitchensis_in_winter_12.png   \n",
       "4  e3c3dab100fdc29c                image_sitka_spruce_59.png   \n",
       "\n",
       "            species  tags  incv3_out_0  incv3_out_1  incv3_out_2  incv3_out_3  \\\n",
       "0  picea_sitchensis   NaN    13.995308     1.316715     0.279829    67.839417   \n",
       "1  picea_sitchensis   NaN     7.449574     0.417233     0.447665     6.178374   \n",
       "2  picea_sitchensis   NaN     0.708871     0.640444     1.305804     9.565918   \n",
       "3  picea_sitchensis   NaN     7.138457     1.225646    15.940742    42.644821   \n",
       "4  picea_sitchensis   NaN     0.030419     2.616714     1.435360    52.145359   \n",
       "\n",
       "   incv3_out_4  incv3_out_5       ...        incv3_out_2038  incv3_out_2039  \\\n",
       "0    43.733177    38.206165       ...            160.387985        1.176492   \n",
       "1     2.092985     6.251201       ...              2.649559        0.523397   \n",
       "2    15.157275     1.787687       ...             15.114614        0.000000   \n",
       "3    23.604031    13.818824       ...             49.895081        0.000000   \n",
       "4     5.377345     5.631077       ...             13.391465       21.970516   \n",
       "\n",
       "   incv3_out_2040  incv3_out_2041  incv3_out_2042  incv3_out_2043  \\\n",
       "0       45.983730       10.465877       22.118896        3.226861   \n",
       "1        0.392520        7.703988       13.842188       12.907540   \n",
       "2        0.066235        2.280773        8.082823        1.939496   \n",
       "3        7.600242        3.260593       13.135204       12.249097   \n",
       "4        5.217728        8.282942        0.788009        0.591635   \n",
       "\n",
       "   incv3_out_2044  incv3_out_2045  incv3_out_2046  incv3_out_2047  \n",
       "0       29.401524        0.486684        0.000000       15.634432  \n",
       "1        1.112756        0.000000        5.436511        1.154409  \n",
       "2        0.041136        0.000000        0.000000        0.034437  \n",
       "3       17.588070        0.000000        0.000000        0.000000  \n",
       "4       35.845409        0.000000        0.000000        2.780651  \n",
       "\n",
       "[5 rows x 2052 columns]"
      ]
     },
     "execution_count": 6,
     "metadata": {},
     "output_type": "execute_result"
    }
   ],
   "source": [
    "tree_features_df = pd.read_csv('data/tree_images.csv', '|', index_col=0)\n",
    "tree_features_df.head()"
   ]
  },
  {
   "cell_type": "code",
   "execution_count": 8,
   "metadata": {},
   "outputs": [
    {
     "data": {
      "text/html": [
       "<div>\n",
       "<style scoped>\n",
       "    .dataframe tbody tr th:only-of-type {\n",
       "        vertical-align: middle;\n",
       "    }\n",
       "\n",
       "    .dataframe tbody tr th {\n",
       "        vertical-align: top;\n",
       "    }\n",
       "\n",
       "    .dataframe thead th {\n",
       "        text-align: right;\n",
       "    }\n",
       "</style>\n",
       "<table border=\"1\" class=\"dataframe\">\n",
       "  <thead>\n",
       "    <tr style=\"text-align: right;\">\n",
       "      <th></th>\n",
       "      <th>incv3_out_0</th>\n",
       "      <th>incv3_out_1</th>\n",
       "      <th>incv3_out_2</th>\n",
       "      <th>incv3_out_3</th>\n",
       "      <th>incv3_out_4</th>\n",
       "      <th>incv3_out_5</th>\n",
       "      <th>incv3_out_6</th>\n",
       "      <th>incv3_out_7</th>\n",
       "      <th>incv3_out_8</th>\n",
       "      <th>incv3_out_9</th>\n",
       "      <th>...</th>\n",
       "      <th>incv3_out_2038</th>\n",
       "      <th>incv3_out_2039</th>\n",
       "      <th>incv3_out_2040</th>\n",
       "      <th>incv3_out_2041</th>\n",
       "      <th>incv3_out_2042</th>\n",
       "      <th>incv3_out_2043</th>\n",
       "      <th>incv3_out_2044</th>\n",
       "      <th>incv3_out_2045</th>\n",
       "      <th>incv3_out_2046</th>\n",
       "      <th>incv3_out_2047</th>\n",
       "    </tr>\n",
       "  </thead>\n",
       "  <tbody>\n",
       "    <tr>\n",
       "      <th>0</th>\n",
       "      <td>13.995308</td>\n",
       "      <td>1.316715</td>\n",
       "      <td>0.279829</td>\n",
       "      <td>67.839417</td>\n",
       "      <td>43.733177</td>\n",
       "      <td>38.206165</td>\n",
       "      <td>0.000000</td>\n",
       "      <td>80.229782</td>\n",
       "      <td>43.556065</td>\n",
       "      <td>17.829075</td>\n",
       "      <td>...</td>\n",
       "      <td>160.387985</td>\n",
       "      <td>1.176492</td>\n",
       "      <td>45.983730</td>\n",
       "      <td>10.465877</td>\n",
       "      <td>22.118896</td>\n",
       "      <td>3.226861</td>\n",
       "      <td>29.401524</td>\n",
       "      <td>0.486684</td>\n",
       "      <td>0.000000</td>\n",
       "      <td>15.634432</td>\n",
       "    </tr>\n",
       "    <tr>\n",
       "      <th>1</th>\n",
       "      <td>7.449574</td>\n",
       "      <td>0.417233</td>\n",
       "      <td>0.447665</td>\n",
       "      <td>6.178374</td>\n",
       "      <td>2.092985</td>\n",
       "      <td>6.251201</td>\n",
       "      <td>0.772362</td>\n",
       "      <td>1.633119</td>\n",
       "      <td>2.435113</td>\n",
       "      <td>9.189584</td>\n",
       "      <td>...</td>\n",
       "      <td>2.649559</td>\n",
       "      <td>0.523397</td>\n",
       "      <td>0.392520</td>\n",
       "      <td>7.703988</td>\n",
       "      <td>13.842188</td>\n",
       "      <td>12.907540</td>\n",
       "      <td>1.112756</td>\n",
       "      <td>0.000000</td>\n",
       "      <td>5.436511</td>\n",
       "      <td>1.154409</td>\n",
       "    </tr>\n",
       "    <tr>\n",
       "      <th>2</th>\n",
       "      <td>0.708871</td>\n",
       "      <td>0.640444</td>\n",
       "      <td>1.305804</td>\n",
       "      <td>9.565918</td>\n",
       "      <td>15.157275</td>\n",
       "      <td>1.787687</td>\n",
       "      <td>0.532695</td>\n",
       "      <td>0.937607</td>\n",
       "      <td>2.542537</td>\n",
       "      <td>18.555613</td>\n",
       "      <td>...</td>\n",
       "      <td>15.114614</td>\n",
       "      <td>0.000000</td>\n",
       "      <td>0.066235</td>\n",
       "      <td>2.280773</td>\n",
       "      <td>8.082823</td>\n",
       "      <td>1.939496</td>\n",
       "      <td>0.041136</td>\n",
       "      <td>0.000000</td>\n",
       "      <td>0.000000</td>\n",
       "      <td>0.034437</td>\n",
       "    </tr>\n",
       "    <tr>\n",
       "      <th>3</th>\n",
       "      <td>7.138457</td>\n",
       "      <td>1.225646</td>\n",
       "      <td>15.940742</td>\n",
       "      <td>42.644821</td>\n",
       "      <td>23.604031</td>\n",
       "      <td>13.818824</td>\n",
       "      <td>1.012441</td>\n",
       "      <td>70.799576</td>\n",
       "      <td>18.526180</td>\n",
       "      <td>16.013214</td>\n",
       "      <td>...</td>\n",
       "      <td>49.895081</td>\n",
       "      <td>0.000000</td>\n",
       "      <td>7.600242</td>\n",
       "      <td>3.260593</td>\n",
       "      <td>13.135204</td>\n",
       "      <td>12.249097</td>\n",
       "      <td>17.588070</td>\n",
       "      <td>0.000000</td>\n",
       "      <td>0.000000</td>\n",
       "      <td>0.000000</td>\n",
       "    </tr>\n",
       "    <tr>\n",
       "      <th>4</th>\n",
       "      <td>0.030419</td>\n",
       "      <td>2.616714</td>\n",
       "      <td>1.435360</td>\n",
       "      <td>52.145359</td>\n",
       "      <td>5.377345</td>\n",
       "      <td>5.631077</td>\n",
       "      <td>0.888996</td>\n",
       "      <td>59.129547</td>\n",
       "      <td>13.564379</td>\n",
       "      <td>28.716227</td>\n",
       "      <td>...</td>\n",
       "      <td>13.391465</td>\n",
       "      <td>21.970516</td>\n",
       "      <td>5.217728</td>\n",
       "      <td>8.282942</td>\n",
       "      <td>0.788009</td>\n",
       "      <td>0.591635</td>\n",
       "      <td>35.845409</td>\n",
       "      <td>0.000000</td>\n",
       "      <td>0.000000</td>\n",
       "      <td>2.780651</td>\n",
       "    </tr>\n",
       "  </tbody>\n",
       "</table>\n",
       "<p>5 rows × 2048 columns</p>\n",
       "</div>"
      ],
      "text/plain": [
       "   incv3_out_0  incv3_out_1  incv3_out_2  incv3_out_3  incv3_out_4  \\\n",
       "0    13.995308     1.316715     0.279829    67.839417    43.733177   \n",
       "1     7.449574     0.417233     0.447665     6.178374     2.092985   \n",
       "2     0.708871     0.640444     1.305804     9.565918    15.157275   \n",
       "3     7.138457     1.225646    15.940742    42.644821    23.604031   \n",
       "4     0.030419     2.616714     1.435360    52.145359     5.377345   \n",
       "\n",
       "   incv3_out_5  incv3_out_6  incv3_out_7  incv3_out_8  incv3_out_9  \\\n",
       "0    38.206165     0.000000    80.229782    43.556065    17.829075   \n",
       "1     6.251201     0.772362     1.633119     2.435113     9.189584   \n",
       "2     1.787687     0.532695     0.937607     2.542537    18.555613   \n",
       "3    13.818824     1.012441    70.799576    18.526180    16.013214   \n",
       "4     5.631077     0.888996    59.129547    13.564379    28.716227   \n",
       "\n",
       "        ...        incv3_out_2038  incv3_out_2039  incv3_out_2040  \\\n",
       "0       ...            160.387985        1.176492       45.983730   \n",
       "1       ...              2.649559        0.523397        0.392520   \n",
       "2       ...             15.114614        0.000000        0.066235   \n",
       "3       ...             49.895081        0.000000        7.600242   \n",
       "4       ...             13.391465       21.970516        5.217728   \n",
       "\n",
       "   incv3_out_2041  incv3_out_2042  incv3_out_2043  incv3_out_2044  \\\n",
       "0       10.465877       22.118896        3.226861       29.401524   \n",
       "1        7.703988       13.842188       12.907540        1.112756   \n",
       "2        2.280773        8.082823        1.939496        0.041136   \n",
       "3        3.260593       13.135204       12.249097       17.588070   \n",
       "4        8.282942        0.788009        0.591635       35.845409   \n",
       "\n",
       "   incv3_out_2045  incv3_out_2046  incv3_out_2047  \n",
       "0        0.486684        0.000000       15.634432  \n",
       "1        0.000000        5.436511        1.154409  \n",
       "2        0.000000        0.000000        0.034437  \n",
       "3        0.000000        0.000000        0.000000  \n",
       "4        0.000000        0.000000        2.780651  \n",
       "\n",
       "[5 rows x 2048 columns]"
      ]
     },
     "execution_count": 8,
     "metadata": {},
     "output_type": "execute_result"
    }
   ],
   "source": [
    "X = tree_features_df.drop(['p_hash', 'filename', 'species','tags'],axis=1)\n",
    "X.head()"
   ]
  },
  {
   "cell_type": "code",
   "execution_count": 9,
   "metadata": {},
   "outputs": [
    {
     "data": {
      "text/html": [
       "<div>\n",
       "<style scoped>\n",
       "    .dataframe tbody tr th:only-of-type {\n",
       "        vertical-align: middle;\n",
       "    }\n",
       "\n",
       "    .dataframe tbody tr th {\n",
       "        vertical-align: top;\n",
       "    }\n",
       "\n",
       "    .dataframe thead th {\n",
       "        text-align: right;\n",
       "    }\n",
       "</style>\n",
       "<table border=\"1\" class=\"dataframe\">\n",
       "  <thead>\n",
       "    <tr style=\"text-align: right;\">\n",
       "      <th></th>\n",
       "      <th>acer_macrophylum</th>\n",
       "      <th>picea_sitchensis</th>\n",
       "      <th>platanus_acerifolia</th>\n",
       "    </tr>\n",
       "  </thead>\n",
       "  <tbody>\n",
       "    <tr>\n",
       "      <th>0</th>\n",
       "      <td>0</td>\n",
       "      <td>1</td>\n",
       "      <td>0</td>\n",
       "    </tr>\n",
       "    <tr>\n",
       "      <th>1</th>\n",
       "      <td>0</td>\n",
       "      <td>1</td>\n",
       "      <td>0</td>\n",
       "    </tr>\n",
       "    <tr>\n",
       "      <th>2</th>\n",
       "      <td>0</td>\n",
       "      <td>1</td>\n",
       "      <td>0</td>\n",
       "    </tr>\n",
       "    <tr>\n",
       "      <th>3</th>\n",
       "      <td>0</td>\n",
       "      <td>1</td>\n",
       "      <td>0</td>\n",
       "    </tr>\n",
       "    <tr>\n",
       "      <th>4</th>\n",
       "      <td>0</td>\n",
       "      <td>1</td>\n",
       "      <td>0</td>\n",
       "    </tr>\n",
       "  </tbody>\n",
       "</table>\n",
       "</div>"
      ],
      "text/plain": [
       "   acer_macrophylum  picea_sitchensis  platanus_acerifolia\n",
       "0                 0                 1                    0\n",
       "1                 0                 1                    0\n",
       "2                 0                 1                    0\n",
       "3                 0                 1                    0\n",
       "4                 0                 1                    0"
      ]
     },
     "execution_count": 9,
     "metadata": {},
     "output_type": "execute_result"
    }
   ],
   "source": [
    "# y = pd.get_dummies(tree_features_df['species'])\n",
    "# y.head()"
   ]
  },
  {
   "cell_type": "code",
   "execution_count": 17,
   "metadata": {},
   "outputs": [
    {
     "data": {
      "text/plain": [
       "0    picea_sitchensis\n",
       "1    picea_sitchensis\n",
       "2    picea_sitchensis\n",
       "3    picea_sitchensis\n",
       "4    picea_sitchensis\n",
       "Name: species, dtype: object"
      ]
     },
     "execution_count": 17,
     "metadata": {},
     "output_type": "execute_result"
    }
   ],
   "source": [
    "y = tree_features_df['species']\n",
    "y.head()"
   ]
  },
  {
   "cell_type": "code",
   "execution_count": 10,
   "metadata": {},
   "outputs": [
    {
     "name": "stdout",
     "output_type": "stream",
     "text": [
      "<class 'pandas.core.frame.DataFrame'>\n",
      "Int64Index: 1014 entries, 0 to 1013\n",
      "Columns: 2048 entries, incv3_out_0 to incv3_out_2047\n",
      "dtypes: float64(2048)\n",
      "memory usage: 15.9 MB\n"
     ]
    }
   ],
   "source": [
    "X.info()"
   ]
  },
  {
   "cell_type": "code",
   "execution_count": 19,
   "metadata": {},
   "outputs": [
    {
     "data": {
      "text/plain": [
       "count                 1014\n",
       "unique                   3\n",
       "top       acer_macrophylum\n",
       "freq                   370\n",
       "Name: species, dtype: object"
      ]
     },
     "execution_count": 19,
     "metadata": {},
     "output_type": "execute_result"
    }
   ],
   "source": [
    "y.describe()"
   ]
  },
  {
   "cell_type": "markdown",
   "metadata": {},
   "source": [
    "## Get a train-test split of the data"
   ]
  },
  {
   "cell_type": "code",
   "execution_count": 20,
   "metadata": {
    "collapsed": true
   },
   "outputs": [],
   "source": [
    "X_train, X_test, y_train, y_test = train_test_split(X, y, test_size=0.2, random_state=359)"
   ]
  },
  {
   "cell_type": "code",
   "execution_count": 21,
   "metadata": {},
   "outputs": [
    {
     "name": "stdout",
     "output_type": "stream",
     "text": [
      "<class 'pandas.core.frame.DataFrame'>\n",
      "Int64Index: 811 entries, 304 to 996\n",
      "Columns: 2048 entries, incv3_out_0 to incv3_out_2047\n",
      "dtypes: float64(2048)\n",
      "memory usage: 12.7 MB\n"
     ]
    }
   ],
   "source": [
    "X_train.info()"
   ]
  },
  {
   "cell_type": "code",
   "execution_count": 22,
   "metadata": {},
   "outputs": [
    {
     "name": "stdout",
     "output_type": "stream",
     "text": [
      "<class 'pandas.core.frame.DataFrame'>\n",
      "Int64Index: 203 entries, 264 to 747\n",
      "Columns: 2048 entries, incv3_out_0 to incv3_out_2047\n",
      "dtypes: float64(2048)\n",
      "memory usage: 3.2 MB\n"
     ]
    }
   ],
   "source": [
    "X_test.info()"
   ]
  },
  {
   "cell_type": "markdown",
   "metadata": {},
   "source": [
    "## Try logistic regression using one vs. rest (i.e. 3 separate logistic regressions)\n",
    "\n",
    "Looks like we need lots of regularization since there are so many features"
   ]
  },
  {
   "cell_type": "code",
   "execution_count": 90,
   "metadata": {
    "collapsed": true
   },
   "outputs": [],
   "source": [
    "#log_model = LogisticRegression(multi_class='multinomial', solver='saga', C=0.5, max_iter=1000)\n",
    "log_model = LogisticRegression(multi_class='ovr', solver='liblinear', C=0.00001, max_iter=1000)"
   ]
  },
  {
   "cell_type": "code",
   "execution_count": 91,
   "metadata": {},
   "outputs": [
    {
     "data": {
      "text/plain": [
       "LogisticRegression(C=1e-05, class_weight=None, dual=False, fit_intercept=True,\n",
       "          intercept_scaling=1, max_iter=1000, multi_class='ovr', n_jobs=1,\n",
       "          penalty='l2', random_state=None, solver='liblinear', tol=0.0001,\n",
       "          verbose=0, warm_start=False)"
      ]
     },
     "execution_count": 91,
     "metadata": {},
     "output_type": "execute_result"
    }
   ],
   "source": [
    "log_model.fit(X_train, y_train)"
   ]
  },
  {
   "cell_type": "code",
   "execution_count": 92,
   "metadata": {
    "collapsed": true
   },
   "outputs": [],
   "source": [
    "y_test_hat = log_model.predict_proba(X_test)"
   ]
  },
  {
   "cell_type": "code",
   "execution_count": 93,
   "metadata": {},
   "outputs": [
    {
     "data": {
      "text/plain": [
       "array([[ 0.54860134,  0.22469948,  0.22669918],\n",
       "       [ 0.44574158,  0.25163863,  0.30261979],\n",
       "       [ 0.33414079,  0.2790197 ,  0.38683951],\n",
       "       [ 0.41732966,  0.23454815,  0.34812219],\n",
       "       [ 0.40272523,  0.33680587,  0.26046889],\n",
       "       [ 0.2997952 ,  0.38809015,  0.31211465],\n",
       "       [ 0.47448854,  0.22082997,  0.30468148],\n",
       "       [ 0.45033394,  0.42345365,  0.12621241],\n",
       "       [ 0.37153535,  0.56208182,  0.06638283],\n",
       "       [ 0.45625385,  0.11013843,  0.43360772]])"
      ]
     },
     "execution_count": 93,
     "metadata": {},
     "output_type": "execute_result"
    }
   ],
   "source": [
    "y_test_hat[:10]"
   ]
  },
  {
   "cell_type": "code",
   "execution_count": 63,
   "metadata": {},
   "outputs": [
    {
     "data": {
      "text/html": [
       "<div>\n",
       "<style scoped>\n",
       "    .dataframe tbody tr th:only-of-type {\n",
       "        vertical-align: middle;\n",
       "    }\n",
       "\n",
       "    .dataframe tbody tr th {\n",
       "        vertical-align: top;\n",
       "    }\n",
       "\n",
       "    .dataframe thead th {\n",
       "        text-align: right;\n",
       "    }\n",
       "</style>\n",
       "<table border=\"1\" class=\"dataframe\">\n",
       "  <thead>\n",
       "    <tr style=\"text-align: right;\">\n",
       "      <th></th>\n",
       "      <th>acer_macrophylum</th>\n",
       "      <th>picea_sitchensis</th>\n",
       "      <th>platanus_acerifolia</th>\n",
       "    </tr>\n",
       "  </thead>\n",
       "  <tbody>\n",
       "    <tr>\n",
       "      <th>264</th>\n",
       "      <td>0</td>\n",
       "      <td>1</td>\n",
       "      <td>0</td>\n",
       "    </tr>\n",
       "    <tr>\n",
       "      <th>987</th>\n",
       "      <td>1</td>\n",
       "      <td>0</td>\n",
       "      <td>0</td>\n",
       "    </tr>\n",
       "    <tr>\n",
       "      <th>782</th>\n",
       "      <td>1</td>\n",
       "      <td>0</td>\n",
       "      <td>0</td>\n",
       "    </tr>\n",
       "    <tr>\n",
       "      <th>778</th>\n",
       "      <td>1</td>\n",
       "      <td>0</td>\n",
       "      <td>0</td>\n",
       "    </tr>\n",
       "    <tr>\n",
       "      <th>286</th>\n",
       "      <td>0</td>\n",
       "      <td>1</td>\n",
       "      <td>0</td>\n",
       "    </tr>\n",
       "    <tr>\n",
       "      <th>481</th>\n",
       "      <td>0</td>\n",
       "      <td>0</td>\n",
       "      <td>1</td>\n",
       "    </tr>\n",
       "    <tr>\n",
       "      <th>156</th>\n",
       "      <td>0</td>\n",
       "      <td>1</td>\n",
       "      <td>0</td>\n",
       "    </tr>\n",
       "    <tr>\n",
       "      <th>107</th>\n",
       "      <td>0</td>\n",
       "      <td>1</td>\n",
       "      <td>0</td>\n",
       "    </tr>\n",
       "    <tr>\n",
       "      <th>19</th>\n",
       "      <td>0</td>\n",
       "      <td>1</td>\n",
       "      <td>0</td>\n",
       "    </tr>\n",
       "    <tr>\n",
       "      <th>349</th>\n",
       "      <td>0</td>\n",
       "      <td>0</td>\n",
       "      <td>1</td>\n",
       "    </tr>\n",
       "  </tbody>\n",
       "</table>\n",
       "</div>"
      ],
      "text/plain": [
       "     acer_macrophylum  picea_sitchensis  platanus_acerifolia\n",
       "264                 0                 1                    0\n",
       "987                 1                 0                    0\n",
       "782                 1                 0                    0\n",
       "778                 1                 0                    0\n",
       "286                 0                 1                    0\n",
       "481                 0                 0                    1\n",
       "156                 0                 1                    0\n",
       "107                 0                 1                    0\n",
       "19                  0                 1                    0\n",
       "349                 0                 0                    1"
      ]
     },
     "execution_count": 63,
     "metadata": {},
     "output_type": "execute_result"
    }
   ],
   "source": [
    "y_test_true = pd.get_dummies(y_test)\n",
    "y_test_true.head(10)"
   ]
  },
  {
   "cell_type": "code",
   "execution_count": 94,
   "metadata": {},
   "outputs": [
    {
     "data": {
      "text/plain": [
       "0.98397553264916515"
      ]
     },
     "execution_count": 94,
     "metadata": {},
     "output_type": "execute_result"
    }
   ],
   "source": [
    "#1.88 with C=0.01\n",
    "#1.17 with C=0.001\n",
    "#0.987 with C=0.0001\n",
    "#0.984 with C=0.00001\n",
    "log_loss(y_test, y_test_hat)"
   ]
  },
  {
   "cell_type": "code",
   "execution_count": 95,
   "metadata": {},
   "outputs": [],
   "source": [
    "y_test_pred_cat = log_model.predict(X_test)"
   ]
  },
  {
   "cell_type": "code",
   "execution_count": 96,
   "metadata": {},
   "outputs": [
    {
     "data": {
      "text/plain": [
       "0.50246305418719217"
      ]
     },
     "execution_count": 96,
     "metadata": {},
     "output_type": "execute_result"
    }
   ],
   "source": [
    "#about 0.48 with C=0.001 or C=0.01\n",
    "#0.49 with C=0.0001\n",
    "#0.502 with C=0.00001\n",
    "accuracy_score(y_test, y_test_pred_cat)"
   ]
  },
  {
   "cell_type": "markdown",
   "metadata": {},
   "source": [
    "## Try logistic regression with multinomial probabilities\n",
    "\n",
    "Note: The solver doesn't converge if the regularization is too weak.\n",
    "\n",
    "Looks like we get a slight improvement over the one vs. rest scheme.  Looks like the best C is around 0.00001"
   ]
  },
  {
   "cell_type": "code",
   "execution_count": 194,
   "metadata": {
    "collapsed": true
   },
   "outputs": [],
   "source": [
    "log_model_multi = LogisticRegression(multi_class='multinomial', solver='sag', C=0.00001, max_iter=1000)"
   ]
  },
  {
   "cell_type": "code",
   "execution_count": 195,
   "metadata": {},
   "outputs": [
    {
     "data": {
      "text/plain": [
       "LogisticRegression(C=1e-05, class_weight=None, dual=False, fit_intercept=True,\n",
       "          intercept_scaling=1, max_iter=1000, multi_class='multinomial',\n",
       "          n_jobs=1, penalty='l2', random_state=None, solver='sag',\n",
       "          tol=0.0001, verbose=0, warm_start=False)"
      ]
     },
     "execution_count": 195,
     "metadata": {},
     "output_type": "execute_result"
    }
   ],
   "source": [
    "log_model_multi.fit(X_train, y_train)"
   ]
  },
  {
   "cell_type": "code",
   "execution_count": 196,
   "metadata": {
    "collapsed": true
   },
   "outputs": [],
   "source": [
    "y_test_hat_multi = log_model_multi.predict_proba(X_test)"
   ]
  },
  {
   "cell_type": "code",
   "execution_count": 197,
   "metadata": {},
   "outputs": [
    {
     "data": {
      "text/plain": [
       "0.97835782118211412"
      ]
     },
     "execution_count": 197,
     "metadata": {},
     "output_type": "execute_result"
    }
   ],
   "source": [
    "#0.97799 with C=0.00005\n",
    "#0.9783598 with C=0.00001\n",
    "#0.9891089 with C=0.000005\n",
    "#1.021896  with C=0.000001\n",
    "log_loss(y_test, y_test_hat_multi)"
   ]
  },
  {
   "cell_type": "code",
   "execution_count": 198,
   "metadata": {
    "collapsed": true
   },
   "outputs": [],
   "source": [
    "y_test_pred_cat_multi = log_model_multi.predict(X_test)"
   ]
  },
  {
   "cell_type": "code",
   "execution_count": 199,
   "metadata": {},
   "outputs": [
    {
     "data": {
      "text/plain": [
       "0.52216748768472909"
      ]
     },
     "execution_count": 199,
     "metadata": {},
     "output_type": "execute_result"
    }
   ],
   "source": [
    "#0.517 with C=0.00005\n",
    "#0.522 with C=0.00001\n",
    "#0.517 with C=0.000005\n",
    "#0.4926 with C=0.000001\n",
    "accuracy_score(y_test, y_test_pred_cat_multi)"
   ]
  },
  {
   "cell_type": "code",
   "execution_count": 193,
   "metadata": {},
   "outputs": [
    {
     "data": {
      "text/plain": [
       "array(['acer_macrophylum', 'picea_sitchensis', 'platanus_acerifolia'], dtype=object)"
      ]
     },
     "execution_count": 193,
     "metadata": {},
     "output_type": "execute_result"
    }
   ],
   "source": [
    "log_model_multi.classes_"
   ]
  },
  {
   "cell_type": "markdown",
   "metadata": {},
   "source": [
    "## Function to wrap a confusion matrix in a dataframe"
   ]
  },
  {
   "cell_type": "code",
   "execution_count": 204,
   "metadata": {
    "collapsed": true
   },
   "outputs": [],
   "source": [
    "def confusion_df(y_true, y_pred, sklearn_model):\n",
    "    return pd.DataFrame(confusion_matrix(y_true, y_pred),\n",
    "                           index=['Actual {}'.format(label) for label in sklearn_model.classes_],\n",
    "                           columns=['Predicted {}'.format(label) for label in sklearn_model.classes_])"
   ]
  },
  {
   "cell_type": "code",
   "execution_count": 205,
   "metadata": {},
   "outputs": [
    {
     "data": {
      "text/html": [
       "<div>\n",
       "<style scoped>\n",
       "    .dataframe tbody tr th:only-of-type {\n",
       "        vertical-align: middle;\n",
       "    }\n",
       "\n",
       "    .dataframe tbody tr th {\n",
       "        vertical-align: top;\n",
       "    }\n",
       "\n",
       "    .dataframe thead th {\n",
       "        text-align: right;\n",
       "    }\n",
       "</style>\n",
       "<table border=\"1\" class=\"dataframe\">\n",
       "  <thead>\n",
       "    <tr style=\"text-align: right;\">\n",
       "      <th></th>\n",
       "      <th>Predicted acer_macrophylum</th>\n",
       "      <th>Predicted picea_sitchensis</th>\n",
       "      <th>Predicted platanus_acerifolia</th>\n",
       "    </tr>\n",
       "  </thead>\n",
       "  <tbody>\n",
       "    <tr>\n",
       "      <th>Actual acer_macrophylum</th>\n",
       "      <td>46</td>\n",
       "      <td>13</td>\n",
       "      <td>18</td>\n",
       "    </tr>\n",
       "    <tr>\n",
       "      <th>Actual picea_sitchensis</th>\n",
       "      <td>27</td>\n",
       "      <td>30</td>\n",
       "      <td>11</td>\n",
       "    </tr>\n",
       "    <tr>\n",
       "      <th>Actual platanus_acerifolia</th>\n",
       "      <td>20</td>\n",
       "      <td>8</td>\n",
       "      <td>30</td>\n",
       "    </tr>\n",
       "  </tbody>\n",
       "</table>\n",
       "</div>"
      ],
      "text/plain": [
       "                            Predicted acer_macrophylum  \\\n",
       "Actual acer_macrophylum                             46   \n",
       "Actual picea_sitchensis                             27   \n",
       "Actual platanus_acerifolia                          20   \n",
       "\n",
       "                            Predicted picea_sitchensis  \\\n",
       "Actual acer_macrophylum                             13   \n",
       "Actual picea_sitchensis                             30   \n",
       "Actual platanus_acerifolia                           8   \n",
       "\n",
       "                            Predicted platanus_acerifolia  \n",
       "Actual acer_macrophylum                                18  \n",
       "Actual picea_sitchensis                                11  \n",
       "Actual platanus_acerifolia                             30  "
      ]
     },
     "execution_count": 205,
     "metadata": {},
     "output_type": "execute_result"
    }
   ],
   "source": [
    "confusion_df(y_test, y_test_pred_cat_multi, log_model_multi)"
   ]
  },
  {
   "cell_type": "markdown",
   "metadata": {},
   "source": [
    "## Try a random forest\n",
    "\n",
    "This isn't doing as well as logistic regression. I haven't tried pre-pruning the trees, though."
   ]
  },
  {
   "cell_type": "code",
   "execution_count": 181,
   "metadata": {
    "collapsed": true
   },
   "outputs": [],
   "source": [
    "rf_model = RandomForestClassifier(n_estimators=150, max_depth=7, oob_score=True, n_jobs=-1, random_state=25)"
   ]
  },
  {
   "cell_type": "code",
   "execution_count": 182,
   "metadata": {},
   "outputs": [
    {
     "data": {
      "text/plain": [
       "RandomForestClassifier(bootstrap=True, class_weight=None, criterion='gini',\n",
       "            max_depth=7, max_features='auto', max_leaf_nodes=None,\n",
       "            min_impurity_decrease=0.0, min_impurity_split=None,\n",
       "            min_samples_leaf=1, min_samples_split=2,\n",
       "            min_weight_fraction_leaf=0.0, n_estimators=150, n_jobs=-1,\n",
       "            oob_score=True, random_state=25, verbose=0, warm_start=False)"
      ]
     },
     "execution_count": 182,
     "metadata": {},
     "output_type": "execute_result"
    }
   ],
   "source": [
    "rf_model.fit(X_train, y_train)"
   ]
  },
  {
   "cell_type": "code",
   "execution_count": 183,
   "metadata": {},
   "outputs": [
    {
     "data": {
      "text/plain": [
       "0.99532292044623072"
      ]
     },
     "execution_count": 183,
     "metadata": {},
     "output_type": "execute_result"
    }
   ],
   "source": [
    "#1.0255954030874306 with n_estimators=50 (seed=359)\n",
    "#1.0078875073836353 with n_estimators=100 (seed=359)\n",
    "#0.99548093251202763 with n_estimators=125 (seed=90)\n",
    "#0.99277943264842983 with n_estimators=150, max_depth=10 (seed=90)\n",
    "#0.99532292044623072 with n_estimators=150, max_depth=7 (seed=25)\n",
    "#1.0060613930521483 with n_estimators=150 (seed=359)\n",
    "#1.0066156011904319 with n_estimators=200 (seed=359)\n",
    "y_test_hat = rf_model.predict_proba(X_test)\n",
    "log_loss(y_test, y_test_hat)"
   ]
  },
  {
   "cell_type": "code",
   "execution_count": 184,
   "metadata": {},
   "outputs": [
    {
     "data": {
      "text/plain": [
       "0.48768472906403942"
      ]
     },
     "execution_count": 184,
     "metadata": {},
     "output_type": "execute_result"
    }
   ],
   "source": [
    "#0.41871921182266009 with n_estimators=50 (seed=359)\n",
    "#0.41379310344827586 with n_estimators=100 (seed=359)\n",
    "#0.45320197044334976 with n_estimators=125 (seed=90) \n",
    "#0.47290640394088668 with n_estimators=150, max_depth=10 (seed=90)\n",
    "#0.48768472906403942 with n_estimators=150, max_depth=7 (seed=25)\n",
    "#0.45320197044334976 with n_estimators=150 (seed=359)\n",
    "#0.45320197044334976 with n_estimators=200 (seed=359)\n",
    "y_test_hat_cat = rf_model.predict(X_test)\n",
    "accuracy_score(y_test, y_test_hat_cat)"
   ]
  },
  {
   "cell_type": "code",
   "execution_count": 185,
   "metadata": {},
   "outputs": [
    {
     "data": {
      "text/plain": [
       "0.4722564734895191"
      ]
     },
     "execution_count": 185,
     "metadata": {},
     "output_type": "execute_result"
    }
   ],
   "source": [
    "rf_model.oob_score_"
   ]
  },
  {
   "cell_type": "markdown",
   "metadata": {},
   "source": [
    "## Try a Gradient Booster\n",
    "\n",
    "This is the best so far, with the right parameters... also the slowest to train"
   ]
  },
  {
   "cell_type": "code",
   "execution_count": 172,
   "metadata": {
    "collapsed": true
   },
   "outputs": [],
   "source": [
    "gb_model = GradientBoostingClassifier(learning_rate=0.01, n_estimators=200, subsample=0.5, max_depth=5)"
   ]
  },
  {
   "cell_type": "code",
   "execution_count": 173,
   "metadata": {},
   "outputs": [
    {
     "data": {
      "text/plain": [
       "GradientBoostingClassifier(criterion='friedman_mse', init=None,\n",
       "              learning_rate=0.01, loss='deviance', max_depth=5,\n",
       "              max_features=None, max_leaf_nodes=None,\n",
       "              min_impurity_decrease=0.0, min_impurity_split=None,\n",
       "              min_samples_leaf=1, min_samples_split=2,\n",
       "              min_weight_fraction_leaf=0.0, n_estimators=200,\n",
       "              presort='auto', random_state=None, subsample=0.5, verbose=0,\n",
       "              warm_start=False)"
      ]
     },
     "execution_count": 173,
     "metadata": {},
     "output_type": "execute_result"
    }
   ],
   "source": [
    "gb_model.fit(X_train, y_train)"
   ]
  },
  {
   "cell_type": "code",
   "execution_count": 186,
   "metadata": {},
   "outputs": [
    {
     "data": {
      "text/plain": [
       "0.9469096393142834"
      ]
     },
     "execution_count": 186,
     "metadata": {},
     "output_type": "execute_result"
    }
   ],
   "source": [
    "#0.9469096393142834 with learning_rate=0.01, n_estimators=200, subsample=0.5, max_depth=5 (Best so far)\n",
    "#0.98792578185982549 with learning_rate=0.01, n_estimators=200, subsample=0.5, max_depth=3\n",
    "#1.0309311779727697 with learning_rate=0.1, n_estimators=100, subsample=0.5, max_depth=3\n",
    "y_test_hat = gb_model.predict_proba(X_test)\n",
    "log_loss(y_test, y_test_hat)"
   ]
  },
  {
   "cell_type": "code",
   "execution_count": 187,
   "metadata": {},
   "outputs": [
    {
     "data": {
      "text/plain": [
       "0.54679802955665024"
      ]
     },
     "execution_count": 187,
     "metadata": {},
     "output_type": "execute_result"
    }
   ],
   "source": [
    "#0.54679802955665024 with learning_rate=0.01, n_estimators=200, subsample=0.5, max_depth=5 (Best so far)\n",
    "#0.47290640394088668 with learning_rate=0.01, n_estimators=200, subsample=0.5, max_depth=3\n",
    "#0.47290640394088668 with learning_rate=0.1, n_estimators=100, subsample=0.5, max_depth=3\n",
    "y_test_hat_cat = gb_model.predict(X_test)\n",
    "accuracy_score(y_test, y_test_hat_cat)"
   ]
  },
  {
   "cell_type": "code",
   "execution_count": 190,
   "metadata": {},
   "outputs": [
    {
     "data": {
      "text/plain": [
       "array(['acer_macrophylum', 'picea_sitchensis', 'platanus_acerifolia'], dtype=object)"
      ]
     },
     "execution_count": 190,
     "metadata": {},
     "output_type": "execute_result"
    }
   ],
   "source": [
    "gb_model.classes_"
   ]
  },
  {
   "cell_type": "markdown",
   "metadata": {},
   "source": [
    "## Let's check out the confusion matrix and misclassifications"
   ]
  },
  {
   "cell_type": "code",
   "execution_count": 207,
   "metadata": {},
   "outputs": [
    {
     "data": {
      "text/html": [
       "<div>\n",
       "<style scoped>\n",
       "    .dataframe tbody tr th:only-of-type {\n",
       "        vertical-align: middle;\n",
       "    }\n",
       "\n",
       "    .dataframe tbody tr th {\n",
       "        vertical-align: top;\n",
       "    }\n",
       "\n",
       "    .dataframe thead th {\n",
       "        text-align: right;\n",
       "    }\n",
       "</style>\n",
       "<table border=\"1\" class=\"dataframe\">\n",
       "  <thead>\n",
       "    <tr style=\"text-align: right;\">\n",
       "      <th></th>\n",
       "      <th>Predicted acer_macrophylum</th>\n",
       "      <th>Predicted picea_sitchensis</th>\n",
       "      <th>Predicted platanus_acerifolia</th>\n",
       "    </tr>\n",
       "  </thead>\n",
       "  <tbody>\n",
       "    <tr>\n",
       "      <th>Actual acer_macrophylum</th>\n",
       "      <td>46</td>\n",
       "      <td>17</td>\n",
       "      <td>14</td>\n",
       "    </tr>\n",
       "    <tr>\n",
       "      <th>Actual picea_sitchensis</th>\n",
       "      <td>26</td>\n",
       "      <td>30</td>\n",
       "      <td>12</td>\n",
       "    </tr>\n",
       "    <tr>\n",
       "      <th>Actual platanus_acerifolia</th>\n",
       "      <td>18</td>\n",
       "      <td>5</td>\n",
       "      <td>35</td>\n",
       "    </tr>\n",
       "  </tbody>\n",
       "</table>\n",
       "</div>"
      ],
      "text/plain": [
       "                            Predicted acer_macrophylum  \\\n",
       "Actual acer_macrophylum                             46   \n",
       "Actual picea_sitchensis                             26   \n",
       "Actual platanus_acerifolia                          18   \n",
       "\n",
       "                            Predicted picea_sitchensis  \\\n",
       "Actual acer_macrophylum                             17   \n",
       "Actual picea_sitchensis                             30   \n",
       "Actual platanus_acerifolia                           5   \n",
       "\n",
       "                            Predicted platanus_acerifolia  \n",
       "Actual acer_macrophylum                                14  \n",
       "Actual picea_sitchensis                                12  \n",
       "Actual platanus_acerifolia                             35  "
      ]
     },
     "execution_count": 207,
     "metadata": {},
     "output_type": "execute_result"
    }
   ],
   "source": [
    "confusion_df(y_test, y_test_hat_cat, gb_model)"
   ]
  },
  {
   "cell_type": "code",
   "execution_count": null,
   "metadata": {
    "collapsed": true
   },
   "outputs": [],
   "source": []
  }
 ],
 "metadata": {
  "kernelspec": {
   "display_name": "Python 3",
   "language": "python",
   "name": "python3"
  },
  "language_info": {
   "codemirror_mode": {
    "name": "ipython",
    "version": 3
   },
   "file_extension": ".py",
   "mimetype": "text/x-python",
   "name": "python",
   "nbconvert_exporter": "python",
   "pygments_lexer": "ipython3",
   "version": "3.6.3"
  }
 },
 "nbformat": 4,
 "nbformat_minor": 2
}
