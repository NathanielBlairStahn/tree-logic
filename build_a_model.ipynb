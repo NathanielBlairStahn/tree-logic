{
 "cells": [
  {
   "cell_type": "markdown",
   "metadata": {},
   "source": [
    "# Train some models on the features extracted from InceptionV3\n",
    "\n",
    "Tuesday, January 30, 2018"
   ]
  },
  {
   "cell_type": "code",
   "execution_count": 1,
   "metadata": {},
   "outputs": [
    {
     "name": "stderr",
     "output_type": "stream",
     "text": [
      "Using TensorFlow backend.\n"
     ]
    }
   ],
   "source": [
    "import numpy as np\n",
    "import pandas as pd\n",
    "import matplotlib.pyplot as plt\n",
    "%matplotlib inline\n",
    "\n",
    "#from keras.applications.inception_v3 import InceptionV3\n",
    "#from keras.applications.xception import Xception\n",
    "from keras.preprocessing import image\n",
    "#from keras.models import Model\n",
    "#from keras.layers import GlobalAveragePooling2D\n",
    "\n",
    "# #Default InceptionV3 options:\n",
    "# #https://keras.io/applications/#inceptionv3\n",
    "#\n",
    "# For pre-trained weights, input_shape has to be  (299, 299, 3) (with 'channels_last' data format)\n",
    "# or (3, 299, 299) (with 'channels_first' data format).\n",
    "#\n",
    "# Note that image.load_img() uses 'channels_last' by default, and you need to\n",
    "# specify target_size = (299,299) when loading an image to feed into InceptionV3.\n",
    "#\n",
    "# keras.applications.inception_v3.InceptionV3(include_top=True\n",
    "#                                             , weights='imagenet'\n",
    "#                                             , input_tensor=None\n",
    "#                                             , input_shape=None\n",
    "#                                             , pooling=None\n",
    "#                                             , classes=1000)\n",
    "\n",
    "import os\n",
    "from PIL import Image\n",
    "#Hash images using the ImageHash library\n",
    "#https://pypi.python.org/pypi/ImageHash\n",
    "import imagehash\n",
    "\n",
    "from sklearn.model_selection import train_test_split\n",
    "from sklearn.linear_model import LogisticRegression\n",
    "from sklearn.ensemble import RandomForestClassifier, GradientBoostingClassifier\n",
    "\n",
    "%load_ext autoreload\n",
    "%autoreload 2"
   ]
  },
  {
   "cell_type": "code",
   "execution_count": 470,
   "metadata": {
    "collapsed": true
   },
   "outputs": [],
   "source": [
    "from sklearn.svm import SVC\n",
    "from sklearn.naive_bayes import MultinomialNB\n",
    "from sklearn.preprocessing import LabelEncoder\n",
    "from collections import Counter\n",
    "import pickle\n",
    "from sklearn.externals import joblib"
   ]
  },
  {
   "cell_type": "code",
   "execution_count": 188,
   "metadata": {
    "collapsed": true
   },
   "outputs": [],
   "source": [
    "from sklearn.metrics import log_loss, accuracy_score, confusion_matrix"
   ]
  },
  {
   "cell_type": "markdown",
   "metadata": {},
   "source": [
    "## Functions to print metrics for classifiers and confusion matrix dataframes for model evaluation"
   ]
  },
  {
   "cell_type": "code",
   "execution_count": 372,
   "metadata": {
    "collapsed": true
   },
   "outputs": [],
   "source": [
    "def print_classifier_metrics(X_train, X_test, y_train, y_test, sklearn_model):\n",
    "    y_pred_train = sklearn_model.predict_proba(X_train)\n",
    "    y_pred_test = sklearn_model.predict_proba(X_test)\n",
    "    \n",
    "    print(\"Train log_loss: {}, Test log_loss: {}\".format(\n",
    "        log_loss(y_train, y_pred_train), log_loss(y_test, y_pred_test)))\n",
    "\n",
    "    y_pred_train_cat = sklearn_model.predict(X_train)\n",
    "    y_pred_test_cat = sklearn_model.predict(X_test)\n",
    "    print(\"Train accuracy: {}, Test accuracy: {}\".format(\n",
    "            accuracy_score(y_train, y_pred_train_cat),\n",
    "            accuracy_score(y_test, y_pred_test_cat))\n",
    "         )"
   ]
  },
  {
   "cell_type": "code",
   "execution_count": 204,
   "metadata": {
    "collapsed": true
   },
   "outputs": [],
   "source": [
    "def confusion_df(y_true, y_pred, sklearn_model):\n",
    "    return pd.DataFrame(confusion_matrix(y_true, y_pred),\n",
    "                           index=['Actual {}'.format(label) for label in sklearn_model.classes_],\n",
    "                           columns=['Predicted {}'.format(label) for label in sklearn_model.classes_])"
   ]
  },
  {
   "cell_type": "code",
   "execution_count": 525,
   "metadata": {
    "collapsed": true
   },
   "outputs": [],
   "source": [
    "def predicted_probs_vs_true_df(X_test, y_test, sklearn_model):\n",
    "    probs = sklearn_model.predict_proba(X_test)\n",
    "    df = pd.DataFrame(probs, \n",
    "                      index = X_test.index,\n",
    "                      columns = sklearn_model.classes_)\n",
    "    df['True'] = y_test\n",
    "    return df"
   ]
  },
  {
   "cell_type": "markdown",
   "metadata": {},
   "source": [
    "## Load the data and pull out features and labels"
   ]
  },
  {
   "cell_type": "code",
   "execution_count": 6,
   "metadata": {},
   "outputs": [
    {
     "data": {
      "text/html": [
       "<div>\n",
       "<style scoped>\n",
       "    .dataframe tbody tr th:only-of-type {\n",
       "        vertical-align: middle;\n",
       "    }\n",
       "\n",
       "    .dataframe tbody tr th {\n",
       "        vertical-align: top;\n",
       "    }\n",
       "\n",
       "    .dataframe thead th {\n",
       "        text-align: right;\n",
       "    }\n",
       "</style>\n",
       "<table border=\"1\" class=\"dataframe\">\n",
       "  <thead>\n",
       "    <tr style=\"text-align: right;\">\n",
       "      <th></th>\n",
       "      <th>p_hash</th>\n",
       "      <th>filename</th>\n",
       "      <th>species</th>\n",
       "      <th>tags</th>\n",
       "      <th>incv3_out_0</th>\n",
       "      <th>incv3_out_1</th>\n",
       "      <th>incv3_out_2</th>\n",
       "      <th>incv3_out_3</th>\n",
       "      <th>incv3_out_4</th>\n",
       "      <th>incv3_out_5</th>\n",
       "      <th>...</th>\n",
       "      <th>incv3_out_2038</th>\n",
       "      <th>incv3_out_2039</th>\n",
       "      <th>incv3_out_2040</th>\n",
       "      <th>incv3_out_2041</th>\n",
       "      <th>incv3_out_2042</th>\n",
       "      <th>incv3_out_2043</th>\n",
       "      <th>incv3_out_2044</th>\n",
       "      <th>incv3_out_2045</th>\n",
       "      <th>incv3_out_2046</th>\n",
       "      <th>incv3_out_2047</th>\n",
       "    </tr>\n",
       "  </thead>\n",
       "  <tbody>\n",
       "    <tr>\n",
       "      <th>0</th>\n",
       "      <td>99a7465a1e99acb4</td>\n",
       "      <td>image_picea_sitchensis_27.png</td>\n",
       "      <td>picea_sitchensis</td>\n",
       "      <td>NaN</td>\n",
       "      <td>13.995308</td>\n",
       "      <td>1.316715</td>\n",
       "      <td>0.279829</td>\n",
       "      <td>67.839417</td>\n",
       "      <td>43.733177</td>\n",
       "      <td>38.206165</td>\n",
       "      <td>...</td>\n",
       "      <td>160.387985</td>\n",
       "      <td>1.176492</td>\n",
       "      <td>45.983730</td>\n",
       "      <td>10.465877</td>\n",
       "      <td>22.118896</td>\n",
       "      <td>3.226861</td>\n",
       "      <td>29.401524</td>\n",
       "      <td>0.486684</td>\n",
       "      <td>0.000000</td>\n",
       "      <td>15.634432</td>\n",
       "    </tr>\n",
       "    <tr>\n",
       "      <th>1</th>\n",
       "      <td>93d12f8e712ef068</td>\n",
       "      <td>image_picea_sitchensis_33.png</td>\n",
       "      <td>picea_sitchensis</td>\n",
       "      <td>NaN</td>\n",
       "      <td>7.449574</td>\n",
       "      <td>0.417233</td>\n",
       "      <td>0.447665</td>\n",
       "      <td>6.178374</td>\n",
       "      <td>2.092985</td>\n",
       "      <td>6.251201</td>\n",
       "      <td>...</td>\n",
       "      <td>2.649559</td>\n",
       "      <td>0.523397</td>\n",
       "      <td>0.392520</td>\n",
       "      <td>7.703988</td>\n",
       "      <td>13.842188</td>\n",
       "      <td>12.907540</td>\n",
       "      <td>1.112756</td>\n",
       "      <td>0.000000</td>\n",
       "      <td>5.436511</td>\n",
       "      <td>1.154409</td>\n",
       "    </tr>\n",
       "    <tr>\n",
       "      <th>2</th>\n",
       "      <td>cce3482eb991533b</td>\n",
       "      <td>image_picea_sitchensis_6.png</td>\n",
       "      <td>picea_sitchensis</td>\n",
       "      <td>NaN</td>\n",
       "      <td>0.708871</td>\n",
       "      <td>0.640444</td>\n",
       "      <td>1.305804</td>\n",
       "      <td>9.565918</td>\n",
       "      <td>15.157275</td>\n",
       "      <td>1.787687</td>\n",
       "      <td>...</td>\n",
       "      <td>15.114614</td>\n",
       "      <td>0.000000</td>\n",
       "      <td>0.066235</td>\n",
       "      <td>2.280773</td>\n",
       "      <td>8.082823</td>\n",
       "      <td>1.939496</td>\n",
       "      <td>0.041136</td>\n",
       "      <td>0.000000</td>\n",
       "      <td>0.000000</td>\n",
       "      <td>0.034437</td>\n",
       "    </tr>\n",
       "    <tr>\n",
       "      <th>3</th>\n",
       "      <td>c119991c4fcf1cda</td>\n",
       "      <td>image_picea_sitchensis_in_winter_12.png</td>\n",
       "      <td>picea_sitchensis</td>\n",
       "      <td>NaN</td>\n",
       "      <td>7.138457</td>\n",
       "      <td>1.225646</td>\n",
       "      <td>15.940742</td>\n",
       "      <td>42.644821</td>\n",
       "      <td>23.604031</td>\n",
       "      <td>13.818824</td>\n",
       "      <td>...</td>\n",
       "      <td>49.895081</td>\n",
       "      <td>0.000000</td>\n",
       "      <td>7.600242</td>\n",
       "      <td>3.260593</td>\n",
       "      <td>13.135204</td>\n",
       "      <td>12.249097</td>\n",
       "      <td>17.588070</td>\n",
       "      <td>0.000000</td>\n",
       "      <td>0.000000</td>\n",
       "      <td>0.000000</td>\n",
       "    </tr>\n",
       "    <tr>\n",
       "      <th>4</th>\n",
       "      <td>e3c3dab100fdc29c</td>\n",
       "      <td>image_sitka_spruce_59.png</td>\n",
       "      <td>picea_sitchensis</td>\n",
       "      <td>NaN</td>\n",
       "      <td>0.030419</td>\n",
       "      <td>2.616714</td>\n",
       "      <td>1.435360</td>\n",
       "      <td>52.145359</td>\n",
       "      <td>5.377345</td>\n",
       "      <td>5.631077</td>\n",
       "      <td>...</td>\n",
       "      <td>13.391465</td>\n",
       "      <td>21.970516</td>\n",
       "      <td>5.217728</td>\n",
       "      <td>8.282942</td>\n",
       "      <td>0.788009</td>\n",
       "      <td>0.591635</td>\n",
       "      <td>35.845409</td>\n",
       "      <td>0.000000</td>\n",
       "      <td>0.000000</td>\n",
       "      <td>2.780651</td>\n",
       "    </tr>\n",
       "  </tbody>\n",
       "</table>\n",
       "<p>5 rows × 2052 columns</p>\n",
       "</div>"
      ],
      "text/plain": [
       "             p_hash                                 filename  \\\n",
       "0  99a7465a1e99acb4            image_picea_sitchensis_27.png   \n",
       "1  93d12f8e712ef068            image_picea_sitchensis_33.png   \n",
       "2  cce3482eb991533b             image_picea_sitchensis_6.png   \n",
       "3  c119991c4fcf1cda  image_picea_sitchensis_in_winter_12.png   \n",
       "4  e3c3dab100fdc29c                image_sitka_spruce_59.png   \n",
       "\n",
       "            species  tags  incv3_out_0  incv3_out_1  incv3_out_2  incv3_out_3  \\\n",
       "0  picea_sitchensis   NaN    13.995308     1.316715     0.279829    67.839417   \n",
       "1  picea_sitchensis   NaN     7.449574     0.417233     0.447665     6.178374   \n",
       "2  picea_sitchensis   NaN     0.708871     0.640444     1.305804     9.565918   \n",
       "3  picea_sitchensis   NaN     7.138457     1.225646    15.940742    42.644821   \n",
       "4  picea_sitchensis   NaN     0.030419     2.616714     1.435360    52.145359   \n",
       "\n",
       "   incv3_out_4  incv3_out_5       ...        incv3_out_2038  incv3_out_2039  \\\n",
       "0    43.733177    38.206165       ...            160.387985        1.176492   \n",
       "1     2.092985     6.251201       ...              2.649559        0.523397   \n",
       "2    15.157275     1.787687       ...             15.114614        0.000000   \n",
       "3    23.604031    13.818824       ...             49.895081        0.000000   \n",
       "4     5.377345     5.631077       ...             13.391465       21.970516   \n",
       "\n",
       "   incv3_out_2040  incv3_out_2041  incv3_out_2042  incv3_out_2043  \\\n",
       "0       45.983730       10.465877       22.118896        3.226861   \n",
       "1        0.392520        7.703988       13.842188       12.907540   \n",
       "2        0.066235        2.280773        8.082823        1.939496   \n",
       "3        7.600242        3.260593       13.135204       12.249097   \n",
       "4        5.217728        8.282942        0.788009        0.591635   \n",
       "\n",
       "   incv3_out_2044  incv3_out_2045  incv3_out_2046  incv3_out_2047  \n",
       "0       29.401524        0.486684        0.000000       15.634432  \n",
       "1        1.112756        0.000000        5.436511        1.154409  \n",
       "2        0.041136        0.000000        0.000000        0.034437  \n",
       "3       17.588070        0.000000        0.000000        0.000000  \n",
       "4       35.845409        0.000000        0.000000        2.780651  \n",
       "\n",
       "[5 rows x 2052 columns]"
      ]
     },
     "execution_count": 6,
     "metadata": {},
     "output_type": "execute_result"
    }
   ],
   "source": [
    "tree_features_df = pd.read_csv('data/tree_images.csv', '|', index_col=0)\n",
    "tree_features_df.head()"
   ]
  },
  {
   "cell_type": "code",
   "execution_count": 8,
   "metadata": {},
   "outputs": [
    {
     "data": {
      "text/html": [
       "<div>\n",
       "<style scoped>\n",
       "    .dataframe tbody tr th:only-of-type {\n",
       "        vertical-align: middle;\n",
       "    }\n",
       "\n",
       "    .dataframe tbody tr th {\n",
       "        vertical-align: top;\n",
       "    }\n",
       "\n",
       "    .dataframe thead th {\n",
       "        text-align: right;\n",
       "    }\n",
       "</style>\n",
       "<table border=\"1\" class=\"dataframe\">\n",
       "  <thead>\n",
       "    <tr style=\"text-align: right;\">\n",
       "      <th></th>\n",
       "      <th>incv3_out_0</th>\n",
       "      <th>incv3_out_1</th>\n",
       "      <th>incv3_out_2</th>\n",
       "      <th>incv3_out_3</th>\n",
       "      <th>incv3_out_4</th>\n",
       "      <th>incv3_out_5</th>\n",
       "      <th>incv3_out_6</th>\n",
       "      <th>incv3_out_7</th>\n",
       "      <th>incv3_out_8</th>\n",
       "      <th>incv3_out_9</th>\n",
       "      <th>...</th>\n",
       "      <th>incv3_out_2038</th>\n",
       "      <th>incv3_out_2039</th>\n",
       "      <th>incv3_out_2040</th>\n",
       "      <th>incv3_out_2041</th>\n",
       "      <th>incv3_out_2042</th>\n",
       "      <th>incv3_out_2043</th>\n",
       "      <th>incv3_out_2044</th>\n",
       "      <th>incv3_out_2045</th>\n",
       "      <th>incv3_out_2046</th>\n",
       "      <th>incv3_out_2047</th>\n",
       "    </tr>\n",
       "  </thead>\n",
       "  <tbody>\n",
       "    <tr>\n",
       "      <th>0</th>\n",
       "      <td>13.995308</td>\n",
       "      <td>1.316715</td>\n",
       "      <td>0.279829</td>\n",
       "      <td>67.839417</td>\n",
       "      <td>43.733177</td>\n",
       "      <td>38.206165</td>\n",
       "      <td>0.000000</td>\n",
       "      <td>80.229782</td>\n",
       "      <td>43.556065</td>\n",
       "      <td>17.829075</td>\n",
       "      <td>...</td>\n",
       "      <td>160.387985</td>\n",
       "      <td>1.176492</td>\n",
       "      <td>45.983730</td>\n",
       "      <td>10.465877</td>\n",
       "      <td>22.118896</td>\n",
       "      <td>3.226861</td>\n",
       "      <td>29.401524</td>\n",
       "      <td>0.486684</td>\n",
       "      <td>0.000000</td>\n",
       "      <td>15.634432</td>\n",
       "    </tr>\n",
       "    <tr>\n",
       "      <th>1</th>\n",
       "      <td>7.449574</td>\n",
       "      <td>0.417233</td>\n",
       "      <td>0.447665</td>\n",
       "      <td>6.178374</td>\n",
       "      <td>2.092985</td>\n",
       "      <td>6.251201</td>\n",
       "      <td>0.772362</td>\n",
       "      <td>1.633119</td>\n",
       "      <td>2.435113</td>\n",
       "      <td>9.189584</td>\n",
       "      <td>...</td>\n",
       "      <td>2.649559</td>\n",
       "      <td>0.523397</td>\n",
       "      <td>0.392520</td>\n",
       "      <td>7.703988</td>\n",
       "      <td>13.842188</td>\n",
       "      <td>12.907540</td>\n",
       "      <td>1.112756</td>\n",
       "      <td>0.000000</td>\n",
       "      <td>5.436511</td>\n",
       "      <td>1.154409</td>\n",
       "    </tr>\n",
       "    <tr>\n",
       "      <th>2</th>\n",
       "      <td>0.708871</td>\n",
       "      <td>0.640444</td>\n",
       "      <td>1.305804</td>\n",
       "      <td>9.565918</td>\n",
       "      <td>15.157275</td>\n",
       "      <td>1.787687</td>\n",
       "      <td>0.532695</td>\n",
       "      <td>0.937607</td>\n",
       "      <td>2.542537</td>\n",
       "      <td>18.555613</td>\n",
       "      <td>...</td>\n",
       "      <td>15.114614</td>\n",
       "      <td>0.000000</td>\n",
       "      <td>0.066235</td>\n",
       "      <td>2.280773</td>\n",
       "      <td>8.082823</td>\n",
       "      <td>1.939496</td>\n",
       "      <td>0.041136</td>\n",
       "      <td>0.000000</td>\n",
       "      <td>0.000000</td>\n",
       "      <td>0.034437</td>\n",
       "    </tr>\n",
       "    <tr>\n",
       "      <th>3</th>\n",
       "      <td>7.138457</td>\n",
       "      <td>1.225646</td>\n",
       "      <td>15.940742</td>\n",
       "      <td>42.644821</td>\n",
       "      <td>23.604031</td>\n",
       "      <td>13.818824</td>\n",
       "      <td>1.012441</td>\n",
       "      <td>70.799576</td>\n",
       "      <td>18.526180</td>\n",
       "      <td>16.013214</td>\n",
       "      <td>...</td>\n",
       "      <td>49.895081</td>\n",
       "      <td>0.000000</td>\n",
       "      <td>7.600242</td>\n",
       "      <td>3.260593</td>\n",
       "      <td>13.135204</td>\n",
       "      <td>12.249097</td>\n",
       "      <td>17.588070</td>\n",
       "      <td>0.000000</td>\n",
       "      <td>0.000000</td>\n",
       "      <td>0.000000</td>\n",
       "    </tr>\n",
       "    <tr>\n",
       "      <th>4</th>\n",
       "      <td>0.030419</td>\n",
       "      <td>2.616714</td>\n",
       "      <td>1.435360</td>\n",
       "      <td>52.145359</td>\n",
       "      <td>5.377345</td>\n",
       "      <td>5.631077</td>\n",
       "      <td>0.888996</td>\n",
       "      <td>59.129547</td>\n",
       "      <td>13.564379</td>\n",
       "      <td>28.716227</td>\n",
       "      <td>...</td>\n",
       "      <td>13.391465</td>\n",
       "      <td>21.970516</td>\n",
       "      <td>5.217728</td>\n",
       "      <td>8.282942</td>\n",
       "      <td>0.788009</td>\n",
       "      <td>0.591635</td>\n",
       "      <td>35.845409</td>\n",
       "      <td>0.000000</td>\n",
       "      <td>0.000000</td>\n",
       "      <td>2.780651</td>\n",
       "    </tr>\n",
       "  </tbody>\n",
       "</table>\n",
       "<p>5 rows × 2048 columns</p>\n",
       "</div>"
      ],
      "text/plain": [
       "   incv3_out_0  incv3_out_1  incv3_out_2  incv3_out_3  incv3_out_4  \\\n",
       "0    13.995308     1.316715     0.279829    67.839417    43.733177   \n",
       "1     7.449574     0.417233     0.447665     6.178374     2.092985   \n",
       "2     0.708871     0.640444     1.305804     9.565918    15.157275   \n",
       "3     7.138457     1.225646    15.940742    42.644821    23.604031   \n",
       "4     0.030419     2.616714     1.435360    52.145359     5.377345   \n",
       "\n",
       "   incv3_out_5  incv3_out_6  incv3_out_7  incv3_out_8  incv3_out_9  \\\n",
       "0    38.206165     0.000000    80.229782    43.556065    17.829075   \n",
       "1     6.251201     0.772362     1.633119     2.435113     9.189584   \n",
       "2     1.787687     0.532695     0.937607     2.542537    18.555613   \n",
       "3    13.818824     1.012441    70.799576    18.526180    16.013214   \n",
       "4     5.631077     0.888996    59.129547    13.564379    28.716227   \n",
       "\n",
       "        ...        incv3_out_2038  incv3_out_2039  incv3_out_2040  \\\n",
       "0       ...            160.387985        1.176492       45.983730   \n",
       "1       ...              2.649559        0.523397        0.392520   \n",
       "2       ...             15.114614        0.000000        0.066235   \n",
       "3       ...             49.895081        0.000000        7.600242   \n",
       "4       ...             13.391465       21.970516        5.217728   \n",
       "\n",
       "   incv3_out_2041  incv3_out_2042  incv3_out_2043  incv3_out_2044  \\\n",
       "0       10.465877       22.118896        3.226861       29.401524   \n",
       "1        7.703988       13.842188       12.907540        1.112756   \n",
       "2        2.280773        8.082823        1.939496        0.041136   \n",
       "3        3.260593       13.135204       12.249097       17.588070   \n",
       "4        8.282942        0.788009        0.591635       35.845409   \n",
       "\n",
       "   incv3_out_2045  incv3_out_2046  incv3_out_2047  \n",
       "0        0.486684        0.000000       15.634432  \n",
       "1        0.000000        5.436511        1.154409  \n",
       "2        0.000000        0.000000        0.034437  \n",
       "3        0.000000        0.000000        0.000000  \n",
       "4        0.000000        0.000000        2.780651  \n",
       "\n",
       "[5 rows x 2048 columns]"
      ]
     },
     "execution_count": 8,
     "metadata": {},
     "output_type": "execute_result"
    }
   ],
   "source": [
    "X = tree_features_df.drop(['p_hash', 'filename', 'species','tags'],axis=1)\n",
    "X.head()"
   ]
  },
  {
   "cell_type": "code",
   "execution_count": 388,
   "metadata": {},
   "outputs": [],
   "source": [
    "# y = pd.get_dummies(tree_features_df['species'])\n",
    "# y.head()"
   ]
  },
  {
   "cell_type": "code",
   "execution_count": 17,
   "metadata": {},
   "outputs": [
    {
     "data": {
      "text/plain": [
       "0    picea_sitchensis\n",
       "1    picea_sitchensis\n",
       "2    picea_sitchensis\n",
       "3    picea_sitchensis\n",
       "4    picea_sitchensis\n",
       "Name: species, dtype: object"
      ]
     },
     "execution_count": 17,
     "metadata": {},
     "output_type": "execute_result"
    }
   ],
   "source": [
    "y = tree_features_df['species']\n",
    "y.head()"
   ]
  },
  {
   "cell_type": "code",
   "execution_count": 10,
   "metadata": {},
   "outputs": [
    {
     "name": "stdout",
     "output_type": "stream",
     "text": [
      "<class 'pandas.core.frame.DataFrame'>\n",
      "Int64Index: 1014 entries, 0 to 1013\n",
      "Columns: 2048 entries, incv3_out_0 to incv3_out_2047\n",
      "dtypes: float64(2048)\n",
      "memory usage: 15.9 MB\n"
     ]
    }
   ],
   "source": [
    "X.info()"
   ]
  },
  {
   "cell_type": "code",
   "execution_count": 19,
   "metadata": {},
   "outputs": [
    {
     "data": {
      "text/plain": [
       "count                 1014\n",
       "unique                   3\n",
       "top       acer_macrophylum\n",
       "freq                   370\n",
       "Name: species, dtype: object"
      ]
     },
     "execution_count": 19,
     "metadata": {},
     "output_type": "execute_result"
    }
   ],
   "source": [
    "y.describe()"
   ]
  },
  {
   "cell_type": "code",
   "execution_count": 490,
   "metadata": {},
   "outputs": [
    {
     "data": {
      "text/plain": [
       "0    conifer\n",
       "1    conifer\n",
       "2    conifer\n",
       "3    conifer\n",
       "4    conifer\n",
       "dtype: object"
      ]
     },
     "execution_count": 490,
     "metadata": {},
     "output_type": "execute_result"
    }
   ],
   "source": [
    "y_conifer = pd.Series(np.where(y == 'picea_sitchensis', 'conifer', 'flowering'))\n",
    "y_conifer.head()"
   ]
  },
  {
   "cell_type": "markdown",
   "metadata": {},
   "source": [
    "## Get a train-test split of the data"
   ]
  },
  {
   "cell_type": "code",
   "execution_count": 316,
   "metadata": {
    "collapsed": true
   },
   "outputs": [],
   "source": [
    "X_train, X_test, y_train, y_test = train_test_split(X, y, test_size=0.2, random_state=359)"
   ]
  },
  {
   "cell_type": "code",
   "execution_count": 21,
   "metadata": {},
   "outputs": [
    {
     "name": "stdout",
     "output_type": "stream",
     "text": [
      "<class 'pandas.core.frame.DataFrame'>\n",
      "Int64Index: 811 entries, 304 to 996\n",
      "Columns: 2048 entries, incv3_out_0 to incv3_out_2047\n",
      "dtypes: float64(2048)\n",
      "memory usage: 12.7 MB\n"
     ]
    }
   ],
   "source": [
    "X_train.info()"
   ]
  },
  {
   "cell_type": "code",
   "execution_count": 22,
   "metadata": {},
   "outputs": [
    {
     "name": "stdout",
     "output_type": "stream",
     "text": [
      "<class 'pandas.core.frame.DataFrame'>\n",
      "Int64Index: 203 entries, 264 to 747\n",
      "Columns: 2048 entries, incv3_out_0 to incv3_out_2047\n",
      "dtypes: float64(2048)\n",
      "memory usage: 3.2 MB\n"
     ]
    }
   ],
   "source": [
    "X_test.info()"
   ]
  },
  {
   "cell_type": "markdown",
   "metadata": {},
   "source": [
    "## Try logistic regression using one vs. rest (i.e. 3 separate logistic regressions)\n",
    "\n",
    "Looks like we need lots of regularization since there are so many features"
   ]
  },
  {
   "cell_type": "code",
   "execution_count": 90,
   "metadata": {
    "collapsed": true
   },
   "outputs": [],
   "source": [
    "#log_model = LogisticRegression(multi_class='multinomial', solver='saga', C=0.5, max_iter=1000)\n",
    "log_model = LogisticRegression(multi_class='ovr', solver='liblinear', C=0.00001, max_iter=1000)"
   ]
  },
  {
   "cell_type": "code",
   "execution_count": 91,
   "metadata": {},
   "outputs": [
    {
     "data": {
      "text/plain": [
       "LogisticRegression(C=1e-05, class_weight=None, dual=False, fit_intercept=True,\n",
       "          intercept_scaling=1, max_iter=1000, multi_class='ovr', n_jobs=1,\n",
       "          penalty='l2', random_state=None, solver='liblinear', tol=0.0001,\n",
       "          verbose=0, warm_start=False)"
      ]
     },
     "execution_count": 91,
     "metadata": {},
     "output_type": "execute_result"
    }
   ],
   "source": [
    "log_model.fit(X_train, y_train)"
   ]
  },
  {
   "cell_type": "code",
   "execution_count": 92,
   "metadata": {
    "collapsed": true
   },
   "outputs": [],
   "source": [
    "y_test_hat = log_model.predict_proba(X_test)"
   ]
  },
  {
   "cell_type": "code",
   "execution_count": 93,
   "metadata": {},
   "outputs": [
    {
     "data": {
      "text/plain": [
       "array([[ 0.54860134,  0.22469948,  0.22669918],\n",
       "       [ 0.44574158,  0.25163863,  0.30261979],\n",
       "       [ 0.33414079,  0.2790197 ,  0.38683951],\n",
       "       [ 0.41732966,  0.23454815,  0.34812219],\n",
       "       [ 0.40272523,  0.33680587,  0.26046889],\n",
       "       [ 0.2997952 ,  0.38809015,  0.31211465],\n",
       "       [ 0.47448854,  0.22082997,  0.30468148],\n",
       "       [ 0.45033394,  0.42345365,  0.12621241],\n",
       "       [ 0.37153535,  0.56208182,  0.06638283],\n",
       "       [ 0.45625385,  0.11013843,  0.43360772]])"
      ]
     },
     "execution_count": 93,
     "metadata": {},
     "output_type": "execute_result"
    }
   ],
   "source": [
    "y_test_hat[:10]"
   ]
  },
  {
   "cell_type": "code",
   "execution_count": 63,
   "metadata": {},
   "outputs": [
    {
     "data": {
      "text/html": [
       "<div>\n",
       "<style scoped>\n",
       "    .dataframe tbody tr th:only-of-type {\n",
       "        vertical-align: middle;\n",
       "    }\n",
       "\n",
       "    .dataframe tbody tr th {\n",
       "        vertical-align: top;\n",
       "    }\n",
       "\n",
       "    .dataframe thead th {\n",
       "        text-align: right;\n",
       "    }\n",
       "</style>\n",
       "<table border=\"1\" class=\"dataframe\">\n",
       "  <thead>\n",
       "    <tr style=\"text-align: right;\">\n",
       "      <th></th>\n",
       "      <th>acer_macrophylum</th>\n",
       "      <th>picea_sitchensis</th>\n",
       "      <th>platanus_acerifolia</th>\n",
       "    </tr>\n",
       "  </thead>\n",
       "  <tbody>\n",
       "    <tr>\n",
       "      <th>264</th>\n",
       "      <td>0</td>\n",
       "      <td>1</td>\n",
       "      <td>0</td>\n",
       "    </tr>\n",
       "    <tr>\n",
       "      <th>987</th>\n",
       "      <td>1</td>\n",
       "      <td>0</td>\n",
       "      <td>0</td>\n",
       "    </tr>\n",
       "    <tr>\n",
       "      <th>782</th>\n",
       "      <td>1</td>\n",
       "      <td>0</td>\n",
       "      <td>0</td>\n",
       "    </tr>\n",
       "    <tr>\n",
       "      <th>778</th>\n",
       "      <td>1</td>\n",
       "      <td>0</td>\n",
       "      <td>0</td>\n",
       "    </tr>\n",
       "    <tr>\n",
       "      <th>286</th>\n",
       "      <td>0</td>\n",
       "      <td>1</td>\n",
       "      <td>0</td>\n",
       "    </tr>\n",
       "    <tr>\n",
       "      <th>481</th>\n",
       "      <td>0</td>\n",
       "      <td>0</td>\n",
       "      <td>1</td>\n",
       "    </tr>\n",
       "    <tr>\n",
       "      <th>156</th>\n",
       "      <td>0</td>\n",
       "      <td>1</td>\n",
       "      <td>0</td>\n",
       "    </tr>\n",
       "    <tr>\n",
       "      <th>107</th>\n",
       "      <td>0</td>\n",
       "      <td>1</td>\n",
       "      <td>0</td>\n",
       "    </tr>\n",
       "    <tr>\n",
       "      <th>19</th>\n",
       "      <td>0</td>\n",
       "      <td>1</td>\n",
       "      <td>0</td>\n",
       "    </tr>\n",
       "    <tr>\n",
       "      <th>349</th>\n",
       "      <td>0</td>\n",
       "      <td>0</td>\n",
       "      <td>1</td>\n",
       "    </tr>\n",
       "  </tbody>\n",
       "</table>\n",
       "</div>"
      ],
      "text/plain": [
       "     acer_macrophylum  picea_sitchensis  platanus_acerifolia\n",
       "264                 0                 1                    0\n",
       "987                 1                 0                    0\n",
       "782                 1                 0                    0\n",
       "778                 1                 0                    0\n",
       "286                 0                 1                    0\n",
       "481                 0                 0                    1\n",
       "156                 0                 1                    0\n",
       "107                 0                 1                    0\n",
       "19                  0                 1                    0\n",
       "349                 0                 0                    1"
      ]
     },
     "execution_count": 63,
     "metadata": {},
     "output_type": "execute_result"
    }
   ],
   "source": [
    "y_test_true = pd.get_dummies(y_test)\n",
    "y_test_true.head(10)"
   ]
  },
  {
   "cell_type": "code",
   "execution_count": 94,
   "metadata": {},
   "outputs": [
    {
     "data": {
      "text/plain": [
       "0.98397553264916515"
      ]
     },
     "execution_count": 94,
     "metadata": {},
     "output_type": "execute_result"
    }
   ],
   "source": [
    "#1.88 with C=0.01\n",
    "#1.17 with C=0.001\n",
    "#0.987 with C=0.0001\n",
    "#0.984 with C=0.00001\n",
    "log_loss(y_test, y_test_hat)"
   ]
  },
  {
   "cell_type": "code",
   "execution_count": 95,
   "metadata": {},
   "outputs": [],
   "source": [
    "y_test_pred_cat = log_model.predict(X_test)"
   ]
  },
  {
   "cell_type": "code",
   "execution_count": 96,
   "metadata": {},
   "outputs": [
    {
     "data": {
      "text/plain": [
       "0.50246305418719217"
      ]
     },
     "execution_count": 96,
     "metadata": {},
     "output_type": "execute_result"
    }
   ],
   "source": [
    "#about 0.48 with C=0.001 or C=0.01\n",
    "#0.49 with C=0.0001\n",
    "#0.502 with C=0.00001\n",
    "accuracy_score(y_test, y_test_pred_cat)"
   ]
  },
  {
   "cell_type": "code",
   "execution_count": 389,
   "metadata": {},
   "outputs": [
    {
     "name": "stdout",
     "output_type": "stream",
     "text": [
      "Train log_loss: 0.9137256601243977, Test log_loss: 0.9839755326491652\n",
      "Train accuracy: 0.5955610357583231, Test accuracy: 0.5024630541871922\n"
     ]
    }
   ],
   "source": [
    "print_classifier_metrics(X_train, X_test, y_train, y_test, log_model)"
   ]
  },
  {
   "cell_type": "markdown",
   "metadata": {},
   "source": [
    "## Try logistic regression with multinomial probabilities\n",
    "\n",
    "Note: The solver doesn't converge if the regularization is too weak.\n",
    "\n",
    "Looks like we get a slight improvement over the one vs. rest scheme.  Looks like the best C is around 0.00001"
   ]
  },
  {
   "cell_type": "code",
   "execution_count": 346,
   "metadata": {
    "collapsed": true
   },
   "outputs": [],
   "source": [
    "log_model_multi = LogisticRegression(multi_class='multinomial', solver='sag', \n",
    "                                     class_weight='balanced', C=0.00001, max_iter=1000)"
   ]
  },
  {
   "cell_type": "code",
   "execution_count": 347,
   "metadata": {},
   "outputs": [
    {
     "data": {
      "text/plain": [
       "LogisticRegression(C=1e-05, class_weight='balanced', dual=False,\n",
       "          fit_intercept=True, intercept_scaling=1, max_iter=1000,\n",
       "          multi_class='multinomial', n_jobs=1, penalty='l2',\n",
       "          random_state=None, solver='sag', tol=0.0001, verbose=0,\n",
       "          warm_start=False)"
      ]
     },
     "execution_count": 347,
     "metadata": {},
     "output_type": "execute_result"
    }
   ],
   "source": [
    "log_model_multi.fit(X_train, y_train)"
   ]
  },
  {
   "cell_type": "code",
   "execution_count": 348,
   "metadata": {
    "collapsed": true
   },
   "outputs": [],
   "source": [
    "y_test_hat_multi = log_model_multi.predict_proba(X_test)\n",
    "y_train_hat_multi = log_model_multi.predict_proba(X_train)"
   ]
  },
  {
   "cell_type": "code",
   "execution_count": 349,
   "metadata": {},
   "outputs": [
    {
     "name": "stdout",
     "output_type": "stream",
     "text": [
      "Train log loss: 0.8847529706149773, Test log loss: 0.9767302988253657\n"
     ]
    }
   ],
   "source": [
    "#0.97799 with C=0.00005\n",
    "#0.9783598 with C=0.00001\n",
    "#0.97673232346677019 with class_weight='balanced', C=0.00001\n",
    "#0.9891089 with C=0.000005\n",
    "#1.021896  with C=0.000001\n",
    "#log_loss(y_test, y_test_hat_multi)\n",
    "\n",
    "print(\"Train log loss: {}, Test log loss: {}\".format(\n",
    "    log_loss(y_train, y_train_hat_multi), log_loss(y_test, y_test_hat_multi)))"
   ]
  },
  {
   "cell_type": "code",
   "execution_count": 350,
   "metadata": {
    "collapsed": true
   },
   "outputs": [],
   "source": [
    "y_test_pred_cat_multi = log_model_multi.predict(X_test)\n",
    "y_train_pred_cat_multi = log_model_multi.predict(X_train)"
   ]
  },
  {
   "cell_type": "code",
   "execution_count": 351,
   "metadata": {},
   "outputs": [
    {
     "name": "stdout",
     "output_type": "stream",
     "text": [
      "Train accuracy: 0.6078914919852034, Test accuracy: 0.5123152709359606\n"
     ]
    }
   ],
   "source": [
    "#0.517 with C=0.00005\n",
    "#0.522 with C=0.00001\n",
    "#0.51231527093596063 with class_weight='balanced', C=0.00001\n",
    "#0.517 with C=0.000005\n",
    "#0.4926 with C=0.000001\n",
    "#accuracy_score(y_test, y_test_pred_cat_multi)\n",
    "\n",
    "print(\"Train accuracy: {}, Test accuracy: {}\".format(\n",
    "        accuracy_score(y_train, y_train_pred_cat_multi),\n",
    "        accuracy_score(y_test, y_test_pred_cat_multi))\n",
    "     )"
   ]
  },
  {
   "cell_type": "code",
   "execution_count": 390,
   "metadata": {},
   "outputs": [
    {
     "name": "stdout",
     "output_type": "stream",
     "text": [
      "Train log_loss: 0.8847529706149773, Test log_loss: 0.9767302988253657\n",
      "Train accuracy: 0.6078914919852034, Test accuracy: 0.5123152709359606\n"
     ]
    }
   ],
   "source": [
    "print_classifier_metrics(X_train, X_test, y_train, y_test, log_model_multi)"
   ]
  },
  {
   "cell_type": "code",
   "execution_count": 193,
   "metadata": {},
   "outputs": [
    {
     "data": {
      "text/plain": [
       "array(['acer_macrophylum', 'picea_sitchensis', 'platanus_acerifolia'], dtype=object)"
      ]
     },
     "execution_count": 193,
     "metadata": {},
     "output_type": "execute_result"
    }
   ],
   "source": [
    "log_model_multi.classes_"
   ]
  },
  {
   "cell_type": "markdown",
   "metadata": {},
   "source": [
    "### Confusion matrix for multilomial logistic regression"
   ]
  },
  {
   "cell_type": "code",
   "execution_count": 222,
   "metadata": {},
   "outputs": [
    {
     "data": {
      "text/html": [
       "<div>\n",
       "<style scoped>\n",
       "    .dataframe tbody tr th:only-of-type {\n",
       "        vertical-align: middle;\n",
       "    }\n",
       "\n",
       "    .dataframe tbody tr th {\n",
       "        vertical-align: top;\n",
       "    }\n",
       "\n",
       "    .dataframe thead th {\n",
       "        text-align: right;\n",
       "    }\n",
       "</style>\n",
       "<table border=\"1\" class=\"dataframe\">\n",
       "  <thead>\n",
       "    <tr style=\"text-align: right;\">\n",
       "      <th></th>\n",
       "      <th>Predicted acer_macrophylum</th>\n",
       "      <th>Predicted picea_sitchensis</th>\n",
       "      <th>Predicted platanus_acerifolia</th>\n",
       "    </tr>\n",
       "  </thead>\n",
       "  <tbody>\n",
       "    <tr>\n",
       "      <th>Actual acer_macrophylum</th>\n",
       "      <td>37</td>\n",
       "      <td>21</td>\n",
       "      <td>19</td>\n",
       "    </tr>\n",
       "    <tr>\n",
       "      <th>Actual picea_sitchensis</th>\n",
       "      <td>22</td>\n",
       "      <td>36</td>\n",
       "      <td>10</td>\n",
       "    </tr>\n",
       "    <tr>\n",
       "      <th>Actual platanus_acerifolia</th>\n",
       "      <td>16</td>\n",
       "      <td>11</td>\n",
       "      <td>31</td>\n",
       "    </tr>\n",
       "  </tbody>\n",
       "</table>\n",
       "</div>"
      ],
      "text/plain": [
       "                            Predicted acer_macrophylum  \\\n",
       "Actual acer_macrophylum                             37   \n",
       "Actual picea_sitchensis                             22   \n",
       "Actual platanus_acerifolia                          16   \n",
       "\n",
       "                            Predicted picea_sitchensis  \\\n",
       "Actual acer_macrophylum                             21   \n",
       "Actual picea_sitchensis                             36   \n",
       "Actual platanus_acerifolia                          11   \n",
       "\n",
       "                            Predicted platanus_acerifolia  \n",
       "Actual acer_macrophylum                                19  \n",
       "Actual picea_sitchensis                                10  \n",
       "Actual platanus_acerifolia                             31  "
      ]
     },
     "execution_count": 222,
     "metadata": {},
     "output_type": "execute_result"
    }
   ],
   "source": [
    "confusion_df(y_test, y_test_pred_cat_multi, log_model_multi)"
   ]
  },
  {
   "cell_type": "markdown",
   "metadata": {},
   "source": [
    "## Try a random forest\n",
    "\n",
    "This isn't doing as well as logistic regression. I haven't tried pre-pruning the trees, though."
   ]
  },
  {
   "cell_type": "code",
   "execution_count": 491,
   "metadata": {
    "collapsed": true
   },
   "outputs": [],
   "source": [
    "rf_model = RandomForestClassifier(n_estimators=150, max_depth=15, oob_score=True, n_jobs=-1, random_state=25)"
   ]
  },
  {
   "cell_type": "code",
   "execution_count": 492,
   "metadata": {},
   "outputs": [
    {
     "data": {
      "text/plain": [
       "RandomForestClassifier(bootstrap=True, class_weight=None, criterion='gini',\n",
       "            max_depth=15, max_features='auto', max_leaf_nodes=None,\n",
       "            min_impurity_decrease=0.0, min_impurity_split=None,\n",
       "            min_samples_leaf=1, min_samples_split=2,\n",
       "            min_weight_fraction_leaf=0.0, n_estimators=150, n_jobs=-1,\n",
       "            oob_score=True, random_state=25, verbose=0, warm_start=False)"
      ]
     },
     "execution_count": 492,
     "metadata": {},
     "output_type": "execute_result"
    }
   ],
   "source": [
    "rf_model.fit(X_train, y_train)"
   ]
  },
  {
   "cell_type": "code",
   "execution_count": 208,
   "metadata": {},
   "outputs": [
    {
     "data": {
      "text/plain": [
       "0.99532292044623072"
      ]
     },
     "execution_count": 208,
     "metadata": {},
     "output_type": "execute_result"
    }
   ],
   "source": [
    "#1.0255954030874306 with n_estimators=50 (seed=359)\n",
    "#1.0078875073836353 with n_estimators=100 (seed=359)\n",
    "#0.99548093251202763 with n_estimators=125 (seed=90)\n",
    "#0.99277943264842983 with n_estimators=150, max_depth=10 (seed=90)\n",
    "#0.99532292044623072 with n_estimators=150, max_depth=7 (seed=25)\n",
    "#1.0060613930521483 with n_estimators=150 (seed=359)\n",
    "#1.0066156011904319 with n_estimators=200 (seed=359)\n",
    "y_test_hat = rf_model.predict_proba(X_test)\n",
    "log_loss(y_test, y_test_hat)"
   ]
  },
  {
   "cell_type": "code",
   "execution_count": 209,
   "metadata": {},
   "outputs": [
    {
     "data": {
      "text/plain": [
       "0.48768472906403942"
      ]
     },
     "execution_count": 209,
     "metadata": {},
     "output_type": "execute_result"
    }
   ],
   "source": [
    "#0.41871921182266009 with n_estimators=50 (seed=359)\n",
    "#0.41379310344827586 with n_estimators=100 (seed=359)\n",
    "#0.45320197044334976 with n_estimators=125 (seed=90) \n",
    "#0.47290640394088668 with n_estimators=150, max_depth=10 (seed=90)\n",
    "#0.48768472906403942 with n_estimators=150, max_depth=7 (seed=25)\n",
    "#0.45320197044334976 with n_estimators=150 (seed=359)\n",
    "#0.45320197044334976 with n_estimators=200 (seed=359)\n",
    "y_test_hat_cat = rf_model.predict(X_test)\n",
    "accuracy_score(y_test, y_test_hat_cat)"
   ]
  },
  {
   "cell_type": "code",
   "execution_count": 210,
   "metadata": {},
   "outputs": [
    {
     "data": {
      "text/plain": [
       "0.4722564734895191"
      ]
     },
     "execution_count": 210,
     "metadata": {},
     "output_type": "execute_result"
    }
   ],
   "source": [
    "rf_model.oob_score_"
   ]
  },
  {
   "cell_type": "code",
   "execution_count": 373,
   "metadata": {},
   "outputs": [
    {
     "name": "stdout",
     "output_type": "stream",
     "text": [
      "Train log_loss: 0.5106429453118635, Test log_loss: 0.9953229204462307\n",
      "Train accuracy: 0.9876695437731196, Test accuracy: 0.4876847290640394\n"
     ]
    }
   ],
   "source": [
    "#with rf_model = RandomForestClassifier(n_estimators=150, max_depth=7, oob_score=True, n_jobs=-1, random_state=25)\n",
    "#print_classifier_metrics(X_train, X_test, y_train, y_test, rf_model)"
   ]
  },
  {
   "cell_type": "code",
   "execution_count": 516,
   "metadata": {},
   "outputs": [
    {
     "name": "stdout",
     "output_type": "stream",
     "text": [
      "Train log_loss: 0.2620291600429795, Test log_loss: 0.9936572367411535\n",
      "Train accuracy: 1.0, Test accuracy: 0.4827586206896552\n"
     ]
    }
   ],
   "source": [
    "rf_model = RandomForestClassifier(n_estimators=150, max_depth=15, oob_score=True, n_jobs=-1, random_state=25)\n",
    "rf_model.fit(X_train, y_train)\n",
    "print_classifier_metrics(X_train, X_test, y_train, y_test, rf_model)"
   ]
  },
  {
   "cell_type": "code",
   "execution_count": 544,
   "metadata": {},
   "outputs": [
    {
     "data": {
      "text/html": [
       "<div>\n",
       "<style scoped>\n",
       "    .dataframe tbody tr th:only-of-type {\n",
       "        vertical-align: middle;\n",
       "    }\n",
       "\n",
       "    .dataframe tbody tr th {\n",
       "        vertical-align: top;\n",
       "    }\n",
       "\n",
       "    .dataframe thead th {\n",
       "        text-align: right;\n",
       "    }\n",
       "</style>\n",
       "<table border=\"1\" class=\"dataframe\">\n",
       "  <thead>\n",
       "    <tr style=\"text-align: right;\">\n",
       "      <th></th>\n",
       "      <th>acer_macrophylum</th>\n",
       "      <th>picea_sitchensis</th>\n",
       "      <th>platanus_acerifolia</th>\n",
       "      <th>True</th>\n",
       "    </tr>\n",
       "  </thead>\n",
       "  <tbody>\n",
       "    <tr>\n",
       "      <th>264</th>\n",
       "      <td>0.446600</td>\n",
       "      <td>0.233816</td>\n",
       "      <td>0.319583</td>\n",
       "      <td>picea_sitchensis</td>\n",
       "    </tr>\n",
       "    <tr>\n",
       "      <th>987</th>\n",
       "      <td>0.557827</td>\n",
       "      <td>0.200359</td>\n",
       "      <td>0.241814</td>\n",
       "      <td>acer_macrophylum</td>\n",
       "    </tr>\n",
       "    <tr>\n",
       "      <th>782</th>\n",
       "      <td>0.240000</td>\n",
       "      <td>0.340000</td>\n",
       "      <td>0.420000</td>\n",
       "      <td>acer_macrophylum</td>\n",
       "    </tr>\n",
       "    <tr>\n",
       "      <th>778</th>\n",
       "      <td>0.672952</td>\n",
       "      <td>0.120128</td>\n",
       "      <td>0.206920</td>\n",
       "      <td>acer_macrophylum</td>\n",
       "    </tr>\n",
       "    <tr>\n",
       "      <th>286</th>\n",
       "      <td>0.412663</td>\n",
       "      <td>0.340328</td>\n",
       "      <td>0.247009</td>\n",
       "      <td>picea_sitchensis</td>\n",
       "    </tr>\n",
       "    <tr>\n",
       "      <th>481</th>\n",
       "      <td>0.373436</td>\n",
       "      <td>0.339897</td>\n",
       "      <td>0.286667</td>\n",
       "      <td>platanus_acerifolia</td>\n",
       "    </tr>\n",
       "    <tr>\n",
       "      <th>156</th>\n",
       "      <td>0.452678</td>\n",
       "      <td>0.346163</td>\n",
       "      <td>0.201158</td>\n",
       "      <td>picea_sitchensis</td>\n",
       "    </tr>\n",
       "    <tr>\n",
       "      <th>107</th>\n",
       "      <td>0.373002</td>\n",
       "      <td>0.413665</td>\n",
       "      <td>0.213333</td>\n",
       "      <td>picea_sitchensis</td>\n",
       "    </tr>\n",
       "    <tr>\n",
       "      <th>19</th>\n",
       "      <td>0.389280</td>\n",
       "      <td>0.423218</td>\n",
       "      <td>0.187503</td>\n",
       "      <td>picea_sitchensis</td>\n",
       "    </tr>\n",
       "    <tr>\n",
       "      <th>349</th>\n",
       "      <td>0.386293</td>\n",
       "      <td>0.246791</td>\n",
       "      <td>0.366916</td>\n",
       "      <td>platanus_acerifolia</td>\n",
       "    </tr>\n",
       "    <tr>\n",
       "      <th>534</th>\n",
       "      <td>0.424015</td>\n",
       "      <td>0.361236</td>\n",
       "      <td>0.214749</td>\n",
       "      <td>platanus_acerifolia</td>\n",
       "    </tr>\n",
       "    <tr>\n",
       "      <th>931</th>\n",
       "      <td>0.518328</td>\n",
       "      <td>0.306499</td>\n",
       "      <td>0.175173</td>\n",
       "      <td>acer_macrophylum</td>\n",
       "    </tr>\n",
       "    <tr>\n",
       "      <th>725</th>\n",
       "      <td>0.418001</td>\n",
       "      <td>0.387805</td>\n",
       "      <td>0.194193</td>\n",
       "      <td>acer_macrophylum</td>\n",
       "    </tr>\n",
       "    <tr>\n",
       "      <th>121</th>\n",
       "      <td>0.227011</td>\n",
       "      <td>0.373503</td>\n",
       "      <td>0.399486</td>\n",
       "      <td>picea_sitchensis</td>\n",
       "    </tr>\n",
       "    <tr>\n",
       "      <th>461</th>\n",
       "      <td>0.525534</td>\n",
       "      <td>0.120211</td>\n",
       "      <td>0.354255</td>\n",
       "      <td>platanus_acerifolia</td>\n",
       "    </tr>\n",
       "    <tr>\n",
       "      <th>781</th>\n",
       "      <td>0.504658</td>\n",
       "      <td>0.253483</td>\n",
       "      <td>0.241859</td>\n",
       "      <td>acer_macrophylum</td>\n",
       "    </tr>\n",
       "    <tr>\n",
       "      <th>394</th>\n",
       "      <td>0.249027</td>\n",
       "      <td>0.180686</td>\n",
       "      <td>0.570287</td>\n",
       "      <td>platanus_acerifolia</td>\n",
       "    </tr>\n",
       "    <tr>\n",
       "      <th>528</th>\n",
       "      <td>0.519885</td>\n",
       "      <td>0.120215</td>\n",
       "      <td>0.359900</td>\n",
       "      <td>platanus_acerifolia</td>\n",
       "    </tr>\n",
       "    <tr>\n",
       "      <th>106</th>\n",
       "      <td>0.329850</td>\n",
       "      <td>0.496816</td>\n",
       "      <td>0.173333</td>\n",
       "      <td>picea_sitchensis</td>\n",
       "    </tr>\n",
       "    <tr>\n",
       "      <th>733</th>\n",
       "      <td>0.193718</td>\n",
       "      <td>0.384511</td>\n",
       "      <td>0.421770</td>\n",
       "      <td>acer_macrophylum</td>\n",
       "    </tr>\n",
       "  </tbody>\n",
       "</table>\n",
       "</div>"
      ],
      "text/plain": [
       "     acer_macrophylum  picea_sitchensis  platanus_acerifolia  \\\n",
       "264          0.446600          0.233816             0.319583   \n",
       "987          0.557827          0.200359             0.241814   \n",
       "782          0.240000          0.340000             0.420000   \n",
       "778          0.672952          0.120128             0.206920   \n",
       "286          0.412663          0.340328             0.247009   \n",
       "481          0.373436          0.339897             0.286667   \n",
       "156          0.452678          0.346163             0.201158   \n",
       "107          0.373002          0.413665             0.213333   \n",
       "19           0.389280          0.423218             0.187503   \n",
       "349          0.386293          0.246791             0.366916   \n",
       "534          0.424015          0.361236             0.214749   \n",
       "931          0.518328          0.306499             0.175173   \n",
       "725          0.418001          0.387805             0.194193   \n",
       "121          0.227011          0.373503             0.399486   \n",
       "461          0.525534          0.120211             0.354255   \n",
       "781          0.504658          0.253483             0.241859   \n",
       "394          0.249027          0.180686             0.570287   \n",
       "528          0.519885          0.120215             0.359900   \n",
       "106          0.329850          0.496816             0.173333   \n",
       "733          0.193718          0.384511             0.421770   \n",
       "\n",
       "                    True  \n",
       "264     picea_sitchensis  \n",
       "987     acer_macrophylum  \n",
       "782     acer_macrophylum  \n",
       "778     acer_macrophylum  \n",
       "286     picea_sitchensis  \n",
       "481  platanus_acerifolia  \n",
       "156     picea_sitchensis  \n",
       "107     picea_sitchensis  \n",
       "19      picea_sitchensis  \n",
       "349  platanus_acerifolia  \n",
       "534  platanus_acerifolia  \n",
       "931     acer_macrophylum  \n",
       "725     acer_macrophylum  \n",
       "121     picea_sitchensis  \n",
       "461  platanus_acerifolia  \n",
       "781     acer_macrophylum  \n",
       "394  platanus_acerifolia  \n",
       "528  platanus_acerifolia  \n",
       "106     picea_sitchensis  \n",
       "733     acer_macrophylum  "
      ]
     },
     "execution_count": 544,
     "metadata": {},
     "output_type": "execute_result"
    }
   ],
   "source": [
    "p_vs_t_df = predicted_probs_vs_true_df(X_test, y_test, rf_model)\n",
    "p_vs_t_df.head(20)"
   ]
  },
  {
   "cell_type": "code",
   "execution_count": 550,
   "metadata": {},
   "outputs": [
    {
     "data": {
      "text/html": [
       "<div>\n",
       "<style scoped>\n",
       "    .dataframe tbody tr th:only-of-type {\n",
       "        vertical-align: middle;\n",
       "    }\n",
       "\n",
       "    .dataframe tbody tr th {\n",
       "        vertical-align: top;\n",
       "    }\n",
       "\n",
       "    .dataframe thead th {\n",
       "        text-align: right;\n",
       "    }\n",
       "</style>\n",
       "<table border=\"1\" class=\"dataframe\">\n",
       "  <thead>\n",
       "    <tr style=\"text-align: right;\">\n",
       "      <th></th>\n",
       "      <th>conifer</th>\n",
       "      <th>flowering</th>\n",
       "    </tr>\n",
       "  </thead>\n",
       "  <tbody>\n",
       "    <tr>\n",
       "      <th>264</th>\n",
       "      <td>0.233816</td>\n",
       "      <td>0.766184</td>\n",
       "    </tr>\n",
       "    <tr>\n",
       "      <th>987</th>\n",
       "      <td>0.200359</td>\n",
       "      <td>0.799641</td>\n",
       "    </tr>\n",
       "    <tr>\n",
       "      <th>782</th>\n",
       "      <td>0.340000</td>\n",
       "      <td>0.660000</td>\n",
       "    </tr>\n",
       "    <tr>\n",
       "      <th>778</th>\n",
       "      <td>0.120128</td>\n",
       "      <td>0.879872</td>\n",
       "    </tr>\n",
       "    <tr>\n",
       "      <th>286</th>\n",
       "      <td>0.340328</td>\n",
       "      <td>0.659672</td>\n",
       "    </tr>\n",
       "  </tbody>\n",
       "</table>\n",
       "</div>"
      ],
      "text/plain": [
       "      conifer  flowering\n",
       "264  0.233816   0.766184\n",
       "987  0.200359   0.799641\n",
       "782  0.340000   0.660000\n",
       "778  0.120128   0.879872\n",
       "286  0.340328   0.659672"
      ]
     },
     "execution_count": 550,
     "metadata": {},
     "output_type": "execute_result"
    }
   ],
   "source": [
    "conifer_sum_df = pd.DataFrame(p_vs_t_df['picea_sitchensis'])\n",
    "conifer_sum_df.columns=['conifer']\n",
    "conifer_sum_df['flowering'] = p_vs_t_df['acer_macrophylum'] + p_vs_t_df['platanus_acerifolia']\n",
    "conifer_sum_df.head()"
   ]
  },
  {
   "cell_type": "code",
   "execution_count": 507,
   "metadata": {},
   "outputs": [
    {
     "data": {
      "text/plain": [
       "Counter({'acer_macrophylum': 77,\n",
       "         'picea_sitchensis': 68,\n",
       "         'platanus_acerifolia': 58})"
      ]
     },
     "execution_count": 507,
     "metadata": {},
     "output_type": "execute_result"
    }
   ],
   "source": [
    "Counter(y_test)"
   ]
  },
  {
   "cell_type": "code",
   "execution_count": 506,
   "metadata": {},
   "outputs": [
    {
     "data": {
      "text/plain": [
       "array([ 0.33497537,  0.37931034,  0.28571429])"
      ]
     },
     "execution_count": 506,
     "metadata": {},
     "output_type": "execute_result"
    }
   ],
   "source": [
    "np.array(list(Counter(y_test).values())) / len(y_test)"
   ]
  },
  {
   "cell_type": "markdown",
   "metadata": {},
   "source": [
    "### Confusion matrix for random forest"
   ]
  },
  {
   "cell_type": "code",
   "execution_count": 211,
   "metadata": {},
   "outputs": [
    {
     "data": {
      "text/html": [
       "<div>\n",
       "<style scoped>\n",
       "    .dataframe tbody tr th:only-of-type {\n",
       "        vertical-align: middle;\n",
       "    }\n",
       "\n",
       "    .dataframe tbody tr th {\n",
       "        vertical-align: top;\n",
       "    }\n",
       "\n",
       "    .dataframe thead th {\n",
       "        text-align: right;\n",
       "    }\n",
       "</style>\n",
       "<table border=\"1\" class=\"dataframe\">\n",
       "  <thead>\n",
       "    <tr style=\"text-align: right;\">\n",
       "      <th></th>\n",
       "      <th>Predicted acer_macrophylum</th>\n",
       "      <th>Predicted picea_sitchensis</th>\n",
       "      <th>Predicted platanus_acerifolia</th>\n",
       "    </tr>\n",
       "  </thead>\n",
       "  <tbody>\n",
       "    <tr>\n",
       "      <th>Actual acer_macrophylum</th>\n",
       "      <td>46</td>\n",
       "      <td>13</td>\n",
       "      <td>18</td>\n",
       "    </tr>\n",
       "    <tr>\n",
       "      <th>Actual picea_sitchensis</th>\n",
       "      <td>31</td>\n",
       "      <td>24</td>\n",
       "      <td>13</td>\n",
       "    </tr>\n",
       "    <tr>\n",
       "      <th>Actual platanus_acerifolia</th>\n",
       "      <td>24</td>\n",
       "      <td>5</td>\n",
       "      <td>29</td>\n",
       "    </tr>\n",
       "  </tbody>\n",
       "</table>\n",
       "</div>"
      ],
      "text/plain": [
       "                            Predicted acer_macrophylum  \\\n",
       "Actual acer_macrophylum                             46   \n",
       "Actual picea_sitchensis                             31   \n",
       "Actual platanus_acerifolia                          24   \n",
       "\n",
       "                            Predicted picea_sitchensis  \\\n",
       "Actual acer_macrophylum                             13   \n",
       "Actual picea_sitchensis                             24   \n",
       "Actual platanus_acerifolia                           5   \n",
       "\n",
       "                            Predicted platanus_acerifolia  \n",
       "Actual acer_macrophylum                                18  \n",
       "Actual picea_sitchensis                                13  \n",
       "Actual platanus_acerifolia                             29  "
      ]
     },
     "execution_count": 211,
     "metadata": {},
     "output_type": "execute_result"
    }
   ],
   "source": [
    "confusion_df(y_test, y_test_hat_cat, rf_model)"
   ]
  },
  {
   "cell_type": "markdown",
   "metadata": {},
   "source": [
    "### Try training the random forest to just learn conifer vs. not"
   ]
  },
  {
   "cell_type": "code",
   "execution_count": 541,
   "metadata": {
    "collapsed": true
   },
   "outputs": [],
   "source": [
    "rf_model2 = RandomForestClassifier(n_estimators=150, max_depth=15, oob_score=True, n_jobs=-1, random_state=25)"
   ]
  },
  {
   "cell_type": "code",
   "execution_count": 542,
   "metadata": {},
   "outputs": [],
   "source": [
    "yc_train = y_conifer[y_train.index]\n",
    "yc_test = y_conifer[y_test.index]"
   ]
  },
  {
   "cell_type": "code",
   "execution_count": 543,
   "metadata": {
    "scrolled": true
   },
   "outputs": [
    {
     "name": "stdout",
     "output_type": "stream",
     "text": [
      "Train log_loss: 0.16322389704288978, Test log_loss: 0.5706638460058523\n",
      "Train accuracy: 1.0, Test accuracy: 0.6896551724137931\n"
     ]
    }
   ],
   "source": [
    "rf_model2.fit(X_train, yc_train)\n",
    "print_classifier_metrics(X_train, X_test, yc_train, yc_test, rf_model2)"
   ]
  },
  {
   "cell_type": "code",
   "execution_count": 500,
   "metadata": {},
   "outputs": [
    {
     "data": {
      "text/plain": [
       "0.66502463054187189"
      ]
     },
     "execution_count": 500,
     "metadata": {},
     "output_type": "execute_result"
    }
   ],
   "source": [
    "(yc_test == 'flowering').sum()/len(yc_test) #So it's barely doing any better than random guessing"
   ]
  },
  {
   "cell_type": "markdown",
   "metadata": {},
   "source": [
    "Why is the test log loss so much lower for this model while the accuracy vs. random guessing is so much worse? Maybe just because there are fewer classes -- I think with more classes there is more opportunity for the log loss to increase."
   ]
  },
  {
   "cell_type": "code",
   "execution_count": 552,
   "metadata": {},
   "outputs": [
    {
     "data": {
      "text/html": [
       "<div>\n",
       "<style scoped>\n",
       "    .dataframe tbody tr th:only-of-type {\n",
       "        vertical-align: middle;\n",
       "    }\n",
       "\n",
       "    .dataframe tbody tr th {\n",
       "        vertical-align: top;\n",
       "    }\n",
       "\n",
       "    .dataframe thead th {\n",
       "        text-align: right;\n",
       "    }\n",
       "</style>\n",
       "<table border=\"1\" class=\"dataframe\">\n",
       "  <thead>\n",
       "    <tr style=\"text-align: right;\">\n",
       "      <th></th>\n",
       "      <th>conifer</th>\n",
       "      <th>flowering</th>\n",
       "      <th>True</th>\n",
       "    </tr>\n",
       "  </thead>\n",
       "  <tbody>\n",
       "    <tr>\n",
       "      <th>264</th>\n",
       "      <td>0.220349</td>\n",
       "      <td>0.779651</td>\n",
       "      <td>conifer</td>\n",
       "    </tr>\n",
       "    <tr>\n",
       "      <th>987</th>\n",
       "      <td>0.156065</td>\n",
       "      <td>0.843935</td>\n",
       "      <td>flowering</td>\n",
       "    </tr>\n",
       "    <tr>\n",
       "      <th>782</th>\n",
       "      <td>0.274390</td>\n",
       "      <td>0.725610</td>\n",
       "      <td>flowering</td>\n",
       "    </tr>\n",
       "    <tr>\n",
       "      <th>778</th>\n",
       "      <td>0.061218</td>\n",
       "      <td>0.938782</td>\n",
       "      <td>flowering</td>\n",
       "    </tr>\n",
       "    <tr>\n",
       "      <th>286</th>\n",
       "      <td>0.407433</td>\n",
       "      <td>0.592567</td>\n",
       "      <td>conifer</td>\n",
       "    </tr>\n",
       "    <tr>\n",
       "      <th>481</th>\n",
       "      <td>0.327271</td>\n",
       "      <td>0.672729</td>\n",
       "      <td>flowering</td>\n",
       "    </tr>\n",
       "    <tr>\n",
       "      <th>156</th>\n",
       "      <td>0.315179</td>\n",
       "      <td>0.684821</td>\n",
       "      <td>conifer</td>\n",
       "    </tr>\n",
       "    <tr>\n",
       "      <th>107</th>\n",
       "      <td>0.374524</td>\n",
       "      <td>0.625476</td>\n",
       "      <td>conifer</td>\n",
       "    </tr>\n",
       "    <tr>\n",
       "      <th>19</th>\n",
       "      <td>0.474824</td>\n",
       "      <td>0.525176</td>\n",
       "      <td>conifer</td>\n",
       "    </tr>\n",
       "    <tr>\n",
       "      <th>349</th>\n",
       "      <td>0.164443</td>\n",
       "      <td>0.835557</td>\n",
       "      <td>flowering</td>\n",
       "    </tr>\n",
       "    <tr>\n",
       "      <th>534</th>\n",
       "      <td>0.400520</td>\n",
       "      <td>0.599480</td>\n",
       "      <td>flowering</td>\n",
       "    </tr>\n",
       "    <tr>\n",
       "      <th>931</th>\n",
       "      <td>0.433618</td>\n",
       "      <td>0.566382</td>\n",
       "      <td>flowering</td>\n",
       "    </tr>\n",
       "    <tr>\n",
       "      <th>725</th>\n",
       "      <td>0.355622</td>\n",
       "      <td>0.644378</td>\n",
       "      <td>flowering</td>\n",
       "    </tr>\n",
       "    <tr>\n",
       "      <th>121</th>\n",
       "      <td>0.420679</td>\n",
       "      <td>0.579321</td>\n",
       "      <td>conifer</td>\n",
       "    </tr>\n",
       "    <tr>\n",
       "      <th>461</th>\n",
       "      <td>0.034358</td>\n",
       "      <td>0.965642</td>\n",
       "      <td>flowering</td>\n",
       "    </tr>\n",
       "    <tr>\n",
       "      <th>781</th>\n",
       "      <td>0.301253</td>\n",
       "      <td>0.698747</td>\n",
       "      <td>flowering</td>\n",
       "    </tr>\n",
       "    <tr>\n",
       "      <th>394</th>\n",
       "      <td>0.155524</td>\n",
       "      <td>0.844476</td>\n",
       "      <td>flowering</td>\n",
       "    </tr>\n",
       "    <tr>\n",
       "      <th>528</th>\n",
       "      <td>0.075377</td>\n",
       "      <td>0.924623</td>\n",
       "      <td>flowering</td>\n",
       "    </tr>\n",
       "    <tr>\n",
       "      <th>106</th>\n",
       "      <td>0.554221</td>\n",
       "      <td>0.445779</td>\n",
       "      <td>conifer</td>\n",
       "    </tr>\n",
       "    <tr>\n",
       "      <th>733</th>\n",
       "      <td>0.335225</td>\n",
       "      <td>0.664775</td>\n",
       "      <td>flowering</td>\n",
       "    </tr>\n",
       "  </tbody>\n",
       "</table>\n",
       "</div>"
      ],
      "text/plain": [
       "      conifer  flowering       True\n",
       "264  0.220349   0.779651    conifer\n",
       "987  0.156065   0.843935  flowering\n",
       "782  0.274390   0.725610  flowering\n",
       "778  0.061218   0.938782  flowering\n",
       "286  0.407433   0.592567    conifer\n",
       "481  0.327271   0.672729  flowering\n",
       "156  0.315179   0.684821    conifer\n",
       "107  0.374524   0.625476    conifer\n",
       "19   0.474824   0.525176    conifer\n",
       "349  0.164443   0.835557  flowering\n",
       "534  0.400520   0.599480  flowering\n",
       "931  0.433618   0.566382  flowering\n",
       "725  0.355622   0.644378  flowering\n",
       "121  0.420679   0.579321    conifer\n",
       "461  0.034358   0.965642  flowering\n",
       "781  0.301253   0.698747  flowering\n",
       "394  0.155524   0.844476  flowering\n",
       "528  0.075377   0.924623  flowering\n",
       "106  0.554221   0.445779    conifer\n",
       "733  0.335225   0.664775  flowering"
      ]
     },
     "execution_count": 552,
     "metadata": {},
     "output_type": "execute_result"
    }
   ],
   "source": [
    "conifer_df = predicted_probs_vs_true_df(X_test, yc_test, rf_model2)\n",
    "conifer_df.head(20)"
   ]
  },
  {
   "cell_type": "code",
   "execution_count": 556,
   "metadata": {},
   "outputs": [
    {
     "data": {
      "text/html": [
       "<div>\n",
       "<style scoped>\n",
       "    .dataframe tbody tr th:only-of-type {\n",
       "        vertical-align: middle;\n",
       "    }\n",
       "\n",
       "    .dataframe tbody tr th {\n",
       "        vertical-align: top;\n",
       "    }\n",
       "\n",
       "    .dataframe thead th {\n",
       "        text-align: right;\n",
       "    }\n",
       "</style>\n",
       "<table border=\"1\" class=\"dataframe\">\n",
       "  <thead>\n",
       "    <tr style=\"text-align: right;\">\n",
       "      <th></th>\n",
       "      <th>conifer</th>\n",
       "      <th>flowering</th>\n",
       "    </tr>\n",
       "  </thead>\n",
       "  <tbody>\n",
       "    <tr>\n",
       "      <th>264</th>\n",
       "      <td>0.013467</td>\n",
       "      <td>-0.013467</td>\n",
       "    </tr>\n",
       "    <tr>\n",
       "      <th>987</th>\n",
       "      <td>0.044294</td>\n",
       "      <td>-0.044294</td>\n",
       "    </tr>\n",
       "    <tr>\n",
       "      <th>782</th>\n",
       "      <td>0.065610</td>\n",
       "      <td>-0.065610</td>\n",
       "    </tr>\n",
       "    <tr>\n",
       "      <th>778</th>\n",
       "      <td>0.058910</td>\n",
       "      <td>-0.058910</td>\n",
       "    </tr>\n",
       "    <tr>\n",
       "      <th>286</th>\n",
       "      <td>-0.067105</td>\n",
       "      <td>0.067105</td>\n",
       "    </tr>\n",
       "    <tr>\n",
       "      <th>481</th>\n",
       "      <td>0.012626</td>\n",
       "      <td>-0.012626</td>\n",
       "    </tr>\n",
       "    <tr>\n",
       "      <th>156</th>\n",
       "      <td>0.030984</td>\n",
       "      <td>-0.030984</td>\n",
       "    </tr>\n",
       "    <tr>\n",
       "      <th>107</th>\n",
       "      <td>0.039141</td>\n",
       "      <td>-0.039141</td>\n",
       "    </tr>\n",
       "    <tr>\n",
       "      <th>19</th>\n",
       "      <td>-0.051606</td>\n",
       "      <td>0.051606</td>\n",
       "    </tr>\n",
       "    <tr>\n",
       "      <th>349</th>\n",
       "      <td>0.082348</td>\n",
       "      <td>-0.082348</td>\n",
       "    </tr>\n",
       "    <tr>\n",
       "      <th>534</th>\n",
       "      <td>-0.039284</td>\n",
       "      <td>0.039284</td>\n",
       "    </tr>\n",
       "    <tr>\n",
       "      <th>931</th>\n",
       "      <td>-0.127120</td>\n",
       "      <td>0.127120</td>\n",
       "    </tr>\n",
       "    <tr>\n",
       "      <th>725</th>\n",
       "      <td>0.032184</td>\n",
       "      <td>-0.032184</td>\n",
       "    </tr>\n",
       "    <tr>\n",
       "      <th>121</th>\n",
       "      <td>-0.047176</td>\n",
       "      <td>0.047176</td>\n",
       "    </tr>\n",
       "    <tr>\n",
       "      <th>461</th>\n",
       "      <td>0.085853</td>\n",
       "      <td>-0.085853</td>\n",
       "    </tr>\n",
       "    <tr>\n",
       "      <th>781</th>\n",
       "      <td>-0.047770</td>\n",
       "      <td>0.047770</td>\n",
       "    </tr>\n",
       "    <tr>\n",
       "      <th>394</th>\n",
       "      <td>0.025162</td>\n",
       "      <td>-0.025162</td>\n",
       "    </tr>\n",
       "    <tr>\n",
       "      <th>528</th>\n",
       "      <td>0.044838</td>\n",
       "      <td>-0.044838</td>\n",
       "    </tr>\n",
       "    <tr>\n",
       "      <th>106</th>\n",
       "      <td>-0.057404</td>\n",
       "      <td>0.057404</td>\n",
       "    </tr>\n",
       "    <tr>\n",
       "      <th>733</th>\n",
       "      <td>0.049287</td>\n",
       "      <td>-0.049287</td>\n",
       "    </tr>\n",
       "  </tbody>\n",
       "</table>\n",
       "</div>"
      ],
      "text/plain": [
       "      conifer  flowering\n",
       "264  0.013467  -0.013467\n",
       "987  0.044294  -0.044294\n",
       "782  0.065610  -0.065610\n",
       "778  0.058910  -0.058910\n",
       "286 -0.067105   0.067105\n",
       "481  0.012626  -0.012626\n",
       "156  0.030984  -0.030984\n",
       "107  0.039141  -0.039141\n",
       "19  -0.051606   0.051606\n",
       "349  0.082348  -0.082348\n",
       "534 -0.039284   0.039284\n",
       "931 -0.127120   0.127120\n",
       "725  0.032184  -0.032184\n",
       "121 -0.047176   0.047176\n",
       "461  0.085853  -0.085853\n",
       "781 -0.047770   0.047770\n",
       "394  0.025162  -0.025162\n",
       "528  0.044838  -0.044838\n",
       "106 -0.057404   0.057404\n",
       "733  0.049287  -0.049287"
      ]
     },
     "execution_count": 556,
     "metadata": {},
     "output_type": "execute_result"
    }
   ],
   "source": [
    "(conifer_sum_df - conifer_df[['conifer', 'flowering']]).head(20)"
   ]
  },
  {
   "cell_type": "markdown",
   "metadata": {},
   "source": [
    "### Confusion matrix for random forest on conifer vs. not"
   ]
  },
  {
   "cell_type": "code",
   "execution_count": 514,
   "metadata": {},
   "outputs": [
    {
     "data": {
      "text/html": [
       "<div>\n",
       "<style scoped>\n",
       "    .dataframe tbody tr th:only-of-type {\n",
       "        vertical-align: middle;\n",
       "    }\n",
       "\n",
       "    .dataframe tbody tr th {\n",
       "        vertical-align: top;\n",
       "    }\n",
       "\n",
       "    .dataframe thead th {\n",
       "        text-align: right;\n",
       "    }\n",
       "</style>\n",
       "<table border=\"1\" class=\"dataframe\">\n",
       "  <thead>\n",
       "    <tr style=\"text-align: right;\">\n",
       "      <th></th>\n",
       "      <th>Predicted conifer</th>\n",
       "      <th>Predicted flowering</th>\n",
       "    </tr>\n",
       "  </thead>\n",
       "  <tbody>\n",
       "    <tr>\n",
       "      <th>Actual conifer</th>\n",
       "      <td>9</td>\n",
       "      <td>59</td>\n",
       "    </tr>\n",
       "    <tr>\n",
       "      <th>Actual flowering</th>\n",
       "      <td>4</td>\n",
       "      <td>131</td>\n",
       "    </tr>\n",
       "  </tbody>\n",
       "</table>\n",
       "</div>"
      ],
      "text/plain": [
       "                  Predicted conifer  Predicted flowering\n",
       "Actual conifer                    9                   59\n",
       "Actual flowering                  4                  131"
      ]
     },
     "execution_count": 514,
     "metadata": {},
     "output_type": "execute_result"
    }
   ],
   "source": [
    "confusion_df(yc_test, rf_model2.predict(X_test), rf_model2) #Ok, so it's almost always predicting flowering..."
   ]
  },
  {
   "cell_type": "markdown",
   "metadata": {},
   "source": [
    "## Try a Gradient Booster\n",
    "\n",
    "This is the best so far, with the right parameters... also the slowest to train"
   ]
  },
  {
   "cell_type": "code",
   "execution_count": 172,
   "metadata": {
    "collapsed": true
   },
   "outputs": [],
   "source": [
    "gb_model = GradientBoostingClassifier(learning_rate=0.01, n_estimators=200, subsample=0.5, max_depth=5)"
   ]
  },
  {
   "cell_type": "code",
   "execution_count": 173,
   "metadata": {},
   "outputs": [
    {
     "data": {
      "text/plain": [
       "GradientBoostingClassifier(criterion='friedman_mse', init=None,\n",
       "              learning_rate=0.01, loss='deviance', max_depth=5,\n",
       "              max_features=None, max_leaf_nodes=None,\n",
       "              min_impurity_decrease=0.0, min_impurity_split=None,\n",
       "              min_samples_leaf=1, min_samples_split=2,\n",
       "              min_weight_fraction_leaf=0.0, n_estimators=200,\n",
       "              presort='auto', random_state=None, subsample=0.5, verbose=0,\n",
       "              warm_start=False)"
      ]
     },
     "execution_count": 173,
     "metadata": {},
     "output_type": "execute_result"
    }
   ],
   "source": [
    "gb_model.fit(X_train, y_train)"
   ]
  },
  {
   "cell_type": "code",
   "execution_count": 363,
   "metadata": {},
   "outputs": [
    {
     "name": "stdout",
     "output_type": "stream",
     "text": [
      "Train log loss: 0.4147540448728718, Test log loss: 0.9469096393142834\n"
     ]
    }
   ],
   "source": [
    "#0.9469096393142834 with learning_rate=0.01, n_estimators=200, subsample=0.5, max_depth=5 (Best so far)\n",
    "#0.98792578185982549 with learning_rate=0.01, n_estimators=200, subsample=0.5, max_depth=3\n",
    "#1.0309311779727697 with learning_rate=0.1, n_estimators=100, subsample=0.5, max_depth=3\n",
    "y_test_hat = gb_model.predict_proba(X_test)\n",
    "y_train_hat = gb_model.predict_proba(X_train)\n",
    "print(\"Train log loss: {}, Test log loss: {}\".format(log_loss(y_train, y_train_hat), log_loss(y_test, y_test_hat)))"
   ]
  },
  {
   "cell_type": "code",
   "execution_count": 364,
   "metadata": {},
   "outputs": [
    {
     "name": "stdout",
     "output_type": "stream",
     "text": [
      "Train accuracy: 0.998766954377312, Test accuracy: 0.5467980295566502\n"
     ]
    }
   ],
   "source": [
    "#0.54679802955665024 with learning_rate=0.01, n_estimators=200, subsample=0.5, max_depth=5 (Best so far)\n",
    "#0.47290640394088668 with learning_rate=0.01, n_estimators=200, subsample=0.5, max_depth=3\n",
    "#0.47290640394088668 with learning_rate=0.1, n_estimators=100, subsample=0.5, max_depth=3\n",
    "y_test_hat_cat = gb_model.predict(X_test)\n",
    "y_train_hat_cat = gb_model.predict(X_train)\n",
    "print(\"Train accuracy: {}, Test accuracy: {}\".format(\n",
    "        accuracy_score(y_train, y_train_hat_cat),\n",
    "        accuracy_score(y_test, y_test_hat_cat))\n",
    "     )"
   ]
  },
  {
   "cell_type": "code",
   "execution_count": 374,
   "metadata": {},
   "outputs": [
    {
     "name": "stdout",
     "output_type": "stream",
     "text": [
      "Train log_loss: 0.4147540448728718, Test log_loss: 0.9469096393142834\n",
      "Train accuracy: 0.998766954377312, Test accuracy: 0.5467980295566502\n"
     ]
    }
   ],
   "source": [
    "print_classifier_metrics(X_train, X_test, y_train, y_test, gb_model)"
   ]
  },
  {
   "cell_type": "code",
   "execution_count": 214,
   "metadata": {},
   "outputs": [
    {
     "data": {
      "text/plain": [
       "array(['acer_macrophylum', 'picea_sitchensis', 'platanus_acerifolia'], dtype=object)"
      ]
     },
     "execution_count": 214,
     "metadata": {},
     "output_type": "execute_result"
    }
   ],
   "source": [
    "gb_model.classes_"
   ]
  },
  {
   "cell_type": "code",
   "execution_count": 315,
   "metadata": {},
   "outputs": [
    {
     "data": {
      "text/plain": [
       "0.9"
      ]
     },
     "execution_count": 315,
     "metadata": {},
     "output_type": "execute_result"
    }
   ],
   "source": [
    "gb_model.alpha"
   ]
  },
  {
   "cell_type": "markdown",
   "metadata": {},
   "source": [
    "### Confusion matrix for gradient booster"
   ]
  },
  {
   "cell_type": "code",
   "execution_count": 559,
   "metadata": {},
   "outputs": [
    {
     "data": {
      "text/html": [
       "<div>\n",
       "<style scoped>\n",
       "    .dataframe tbody tr th:only-of-type {\n",
       "        vertical-align: middle;\n",
       "    }\n",
       "\n",
       "    .dataframe tbody tr th {\n",
       "        vertical-align: top;\n",
       "    }\n",
       "\n",
       "    .dataframe thead th {\n",
       "        text-align: right;\n",
       "    }\n",
       "</style>\n",
       "<table border=\"1\" class=\"dataframe\">\n",
       "  <thead>\n",
       "    <tr style=\"text-align: right;\">\n",
       "      <th></th>\n",
       "      <th>Predicted acer_macrophylum</th>\n",
       "      <th>Predicted picea_sitchensis</th>\n",
       "      <th>Predicted platanus_acerifolia</th>\n",
       "    </tr>\n",
       "  </thead>\n",
       "  <tbody>\n",
       "    <tr>\n",
       "      <th>Actual acer_macrophylum</th>\n",
       "      <td>46</td>\n",
       "      <td>17</td>\n",
       "      <td>14</td>\n",
       "    </tr>\n",
       "    <tr>\n",
       "      <th>Actual picea_sitchensis</th>\n",
       "      <td>26</td>\n",
       "      <td>30</td>\n",
       "      <td>12</td>\n",
       "    </tr>\n",
       "    <tr>\n",
       "      <th>Actual platanus_acerifolia</th>\n",
       "      <td>18</td>\n",
       "      <td>5</td>\n",
       "      <td>35</td>\n",
       "    </tr>\n",
       "  </tbody>\n",
       "</table>\n",
       "</div>"
      ],
      "text/plain": [
       "                            Predicted acer_macrophylum  \\\n",
       "Actual acer_macrophylum                             46   \n",
       "Actual picea_sitchensis                             26   \n",
       "Actual platanus_acerifolia                          18   \n",
       "\n",
       "                            Predicted picea_sitchensis  \\\n",
       "Actual acer_macrophylum                             17   \n",
       "Actual picea_sitchensis                             30   \n",
       "Actual platanus_acerifolia                           5   \n",
       "\n",
       "                            Predicted platanus_acerifolia  \n",
       "Actual acer_macrophylum                                14  \n",
       "Actual picea_sitchensis                                12  \n",
       "Actual platanus_acerifolia                             35  "
      ]
     },
     "execution_count": 559,
     "metadata": {},
     "output_type": "execute_result"
    }
   ],
   "source": [
    "gb_confusion_df = confusion_df(y_test, gb_model.predict(X_test), gb_model)\n",
    "gb_confusion_df"
   ]
  },
  {
   "cell_type": "code",
   "execution_count": 528,
   "metadata": {},
   "outputs": [
    {
     "data": {
      "text/html": [
       "<div>\n",
       "<style scoped>\n",
       "    .dataframe tbody tr th:only-of-type {\n",
       "        vertical-align: middle;\n",
       "    }\n",
       "\n",
       "    .dataframe tbody tr th {\n",
       "        vertical-align: top;\n",
       "    }\n",
       "\n",
       "    .dataframe thead th {\n",
       "        text-align: right;\n",
       "    }\n",
       "</style>\n",
       "<table border=\"1\" class=\"dataframe\">\n",
       "  <thead>\n",
       "    <tr style=\"text-align: right;\">\n",
       "      <th></th>\n",
       "      <th>acer_macrophylum</th>\n",
       "      <th>picea_sitchensis</th>\n",
       "      <th>platanus_acerifolia</th>\n",
       "      <th>True</th>\n",
       "    </tr>\n",
       "  </thead>\n",
       "  <tbody>\n",
       "    <tr>\n",
       "      <th>264</th>\n",
       "      <td>0.550852</td>\n",
       "      <td>0.245727</td>\n",
       "      <td>0.203421</td>\n",
       "      <td>picea_sitchensis</td>\n",
       "    </tr>\n",
       "    <tr>\n",
       "      <th>987</th>\n",
       "      <td>0.540734</td>\n",
       "      <td>0.211815</td>\n",
       "      <td>0.247451</td>\n",
       "      <td>acer_macrophylum</td>\n",
       "    </tr>\n",
       "    <tr>\n",
       "      <th>782</th>\n",
       "      <td>0.267522</td>\n",
       "      <td>0.295311</td>\n",
       "      <td>0.437168</td>\n",
       "      <td>acer_macrophylum</td>\n",
       "    </tr>\n",
       "    <tr>\n",
       "      <th>778</th>\n",
       "      <td>0.712762</td>\n",
       "      <td>0.091515</td>\n",
       "      <td>0.195723</td>\n",
       "      <td>acer_macrophylum</td>\n",
       "    </tr>\n",
       "    <tr>\n",
       "      <th>286</th>\n",
       "      <td>0.523812</td>\n",
       "      <td>0.301835</td>\n",
       "      <td>0.174353</td>\n",
       "      <td>picea_sitchensis</td>\n",
       "    </tr>\n",
       "    <tr>\n",
       "      <th>481</th>\n",
       "      <td>0.374092</td>\n",
       "      <td>0.346547</td>\n",
       "      <td>0.279361</td>\n",
       "      <td>platanus_acerifolia</td>\n",
       "    </tr>\n",
       "    <tr>\n",
       "      <th>156</th>\n",
       "      <td>0.521379</td>\n",
       "      <td>0.260449</td>\n",
       "      <td>0.218171</td>\n",
       "      <td>picea_sitchensis</td>\n",
       "    </tr>\n",
       "    <tr>\n",
       "      <th>107</th>\n",
       "      <td>0.571547</td>\n",
       "      <td>0.298248</td>\n",
       "      <td>0.130206</td>\n",
       "      <td>picea_sitchensis</td>\n",
       "    </tr>\n",
       "    <tr>\n",
       "      <th>19</th>\n",
       "      <td>0.335126</td>\n",
       "      <td>0.503801</td>\n",
       "      <td>0.161073</td>\n",
       "      <td>picea_sitchensis</td>\n",
       "    </tr>\n",
       "    <tr>\n",
       "      <th>349</th>\n",
       "      <td>0.364636</td>\n",
       "      <td>0.237106</td>\n",
       "      <td>0.398257</td>\n",
       "      <td>platanus_acerifolia</td>\n",
       "    </tr>\n",
       "    <tr>\n",
       "      <th>534</th>\n",
       "      <td>0.468695</td>\n",
       "      <td>0.367824</td>\n",
       "      <td>0.163482</td>\n",
       "      <td>platanus_acerifolia</td>\n",
       "    </tr>\n",
       "    <tr>\n",
       "      <th>931</th>\n",
       "      <td>0.450272</td>\n",
       "      <td>0.358490</td>\n",
       "      <td>0.191238</td>\n",
       "      <td>acer_macrophylum</td>\n",
       "    </tr>\n",
       "    <tr>\n",
       "      <th>725</th>\n",
       "      <td>0.496837</td>\n",
       "      <td>0.295142</td>\n",
       "      <td>0.208021</td>\n",
       "      <td>acer_macrophylum</td>\n",
       "    </tr>\n",
       "    <tr>\n",
       "      <th>121</th>\n",
       "      <td>0.185351</td>\n",
       "      <td>0.335085</td>\n",
       "      <td>0.479564</td>\n",
       "      <td>picea_sitchensis</td>\n",
       "    </tr>\n",
       "    <tr>\n",
       "      <th>461</th>\n",
       "      <td>0.408619</td>\n",
       "      <td>0.138538</td>\n",
       "      <td>0.452842</td>\n",
       "      <td>platanus_acerifolia</td>\n",
       "    </tr>\n",
       "    <tr>\n",
       "      <th>781</th>\n",
       "      <td>0.594702</td>\n",
       "      <td>0.173238</td>\n",
       "      <td>0.232060</td>\n",
       "      <td>acer_macrophylum</td>\n",
       "    </tr>\n",
       "    <tr>\n",
       "      <th>394</th>\n",
       "      <td>0.270637</td>\n",
       "      <td>0.186803</td>\n",
       "      <td>0.542560</td>\n",
       "      <td>platanus_acerifolia</td>\n",
       "    </tr>\n",
       "    <tr>\n",
       "      <th>528</th>\n",
       "      <td>0.495085</td>\n",
       "      <td>0.160946</td>\n",
       "      <td>0.343969</td>\n",
       "      <td>platanus_acerifolia</td>\n",
       "    </tr>\n",
       "    <tr>\n",
       "      <th>106</th>\n",
       "      <td>0.408267</td>\n",
       "      <td>0.456012</td>\n",
       "      <td>0.135720</td>\n",
       "      <td>picea_sitchensis</td>\n",
       "    </tr>\n",
       "    <tr>\n",
       "      <th>733</th>\n",
       "      <td>0.267896</td>\n",
       "      <td>0.278640</td>\n",
       "      <td>0.453464</td>\n",
       "      <td>acer_macrophylum</td>\n",
       "    </tr>\n",
       "  </tbody>\n",
       "</table>\n",
       "</div>"
      ],
      "text/plain": [
       "     acer_macrophylum  picea_sitchensis  platanus_acerifolia  \\\n",
       "264          0.550852          0.245727             0.203421   \n",
       "987          0.540734          0.211815             0.247451   \n",
       "782          0.267522          0.295311             0.437168   \n",
       "778          0.712762          0.091515             0.195723   \n",
       "286          0.523812          0.301835             0.174353   \n",
       "481          0.374092          0.346547             0.279361   \n",
       "156          0.521379          0.260449             0.218171   \n",
       "107          0.571547          0.298248             0.130206   \n",
       "19           0.335126          0.503801             0.161073   \n",
       "349          0.364636          0.237106             0.398257   \n",
       "534          0.468695          0.367824             0.163482   \n",
       "931          0.450272          0.358490             0.191238   \n",
       "725          0.496837          0.295142             0.208021   \n",
       "121          0.185351          0.335085             0.479564   \n",
       "461          0.408619          0.138538             0.452842   \n",
       "781          0.594702          0.173238             0.232060   \n",
       "394          0.270637          0.186803             0.542560   \n",
       "528          0.495085          0.160946             0.343969   \n",
       "106          0.408267          0.456012             0.135720   \n",
       "733          0.267896          0.278640             0.453464   \n",
       "\n",
       "                    True  \n",
       "264     picea_sitchensis  \n",
       "987     acer_macrophylum  \n",
       "782     acer_macrophylum  \n",
       "778     acer_macrophylum  \n",
       "286     picea_sitchensis  \n",
       "481  platanus_acerifolia  \n",
       "156     picea_sitchensis  \n",
       "107     picea_sitchensis  \n",
       "19      picea_sitchensis  \n",
       "349  platanus_acerifolia  \n",
       "534  platanus_acerifolia  \n",
       "931     acer_macrophylum  \n",
       "725     acer_macrophylum  \n",
       "121     picea_sitchensis  \n",
       "461  platanus_acerifolia  \n",
       "781     acer_macrophylum  \n",
       "394  platanus_acerifolia  \n",
       "528  platanus_acerifolia  \n",
       "106     picea_sitchensis  \n",
       "733     acer_macrophylum  "
      ]
     },
     "execution_count": 528,
     "metadata": {},
     "output_type": "execute_result"
    }
   ],
   "source": [
    "predicted_probs_vs_true_df(X_test, y_test, gb_model).head(20)"
   ]
  },
  {
   "cell_type": "code",
   "execution_count": 562,
   "metadata": {},
   "outputs": [
    {
     "data": {
      "text/html": [
       "<div>\n",
       "<style scoped>\n",
       "    .dataframe tbody tr th:only-of-type {\n",
       "        vertical-align: middle;\n",
       "    }\n",
       "\n",
       "    .dataframe tbody tr th {\n",
       "        vertical-align: top;\n",
       "    }\n",
       "\n",
       "    .dataframe thead th {\n",
       "        text-align: right;\n",
       "    }\n",
       "</style>\n",
       "<table border=\"1\" class=\"dataframe\">\n",
       "  <thead>\n",
       "    <tr style=\"text-align: right;\">\n",
       "      <th></th>\n",
       "      <th>Predicted Bigleaf Maple</th>\n",
       "      <th>Predicted Sitka Spruce0</th>\n",
       "      <th>Predicted London Plane</th>\n",
       "    </tr>\n",
       "  </thead>\n",
       "  <tbody>\n",
       "    <tr>\n",
       "      <th>Actual Bigleaf Maple</th>\n",
       "      <td>46</td>\n",
       "      <td>17</td>\n",
       "      <td>14</td>\n",
       "    </tr>\n",
       "    <tr>\n",
       "      <th>Actual Sitka Spruce0</th>\n",
       "      <td>26</td>\n",
       "      <td>30</td>\n",
       "      <td>12</td>\n",
       "    </tr>\n",
       "    <tr>\n",
       "      <th>Actual London Plane</th>\n",
       "      <td>18</td>\n",
       "      <td>5</td>\n",
       "      <td>35</td>\n",
       "    </tr>\n",
       "  </tbody>\n",
       "</table>\n",
       "</div>"
      ],
      "text/plain": [
       "                      Predicted Bigleaf Maple  Predicted Sitka Spruce0  \\\n",
       "Actual Bigleaf Maple                       46                       17   \n",
       "Actual Sitka Spruce0                       26                       30   \n",
       "Actual London Plane                        18                        5   \n",
       "\n",
       "                      Predicted London Plane  \n",
       "Actual Bigleaf Maple                      14  \n",
       "Actual Sitka Spruce0                      12  \n",
       "Actual London Plane                       35  "
      ]
     },
     "execution_count": 562,
     "metadata": {},
     "output_type": "execute_result"
    }
   ],
   "source": [
    "gb_confusion_df.columns = ['Predicted Bigleaf Maple', 'Predicted Sitka Spruce0', 'Predicted London Plane']\n",
    "gb_confusion_df.index = ['Actual Bigleaf Maple', 'Actual Sitka Spruce0', 'Actual London Plane']\n",
    "gb_confusion_df"
   ]
  },
  {
   "cell_type": "code",
   "execution_count": 564,
   "metadata": {},
   "outputs": [
    {
     "data": {
      "text/html": [
       "<div>\n",
       "<style scoped>\n",
       "    .dataframe tbody tr th:only-of-type {\n",
       "        vertical-align: middle;\n",
       "    }\n",
       "\n",
       "    .dataframe tbody tr th {\n",
       "        vertical-align: top;\n",
       "    }\n",
       "\n",
       "    .dataframe thead th {\n",
       "        text-align: right;\n",
       "    }\n",
       "</style>\n",
       "<table border=\"1\" class=\"dataframe\">\n",
       "  <thead>\n",
       "    <tr style=\"text-align: right;\">\n",
       "      <th></th>\n",
       "      <th>Predicted Bigleaf Maple</th>\n",
       "      <th>Predicted London Plane</th>\n",
       "      <th>Predicted Sitka Spruce</th>\n",
       "    </tr>\n",
       "  </thead>\n",
       "  <tbody>\n",
       "    <tr>\n",
       "      <th>Actual Bigleaf Maple</th>\n",
       "      <td>46</td>\n",
       "      <td>14</td>\n",
       "      <td>17</td>\n",
       "    </tr>\n",
       "    <tr>\n",
       "      <th>Actual Sitka Spruce0</th>\n",
       "      <td>26</td>\n",
       "      <td>12</td>\n",
       "      <td>30</td>\n",
       "    </tr>\n",
       "    <tr>\n",
       "      <th>Actual London Plane</th>\n",
       "      <td>18</td>\n",
       "      <td>35</td>\n",
       "      <td>5</td>\n",
       "    </tr>\n",
       "  </tbody>\n",
       "</table>\n",
       "</div>"
      ],
      "text/plain": [
       "                      Predicted Bigleaf Maple  Predicted London Plane  \\\n",
       "Actual Bigleaf Maple                       46                      14   \n",
       "Actual Sitka Spruce0                       26                      12   \n",
       "Actual London Plane                        18                      35   \n",
       "\n",
       "                      Predicted Sitka Spruce  \n",
       "Actual Bigleaf Maple                      17  \n",
       "Actual Sitka Spruce0                      30  \n",
       "Actual London Plane                        5  "
      ]
     },
     "execution_count": 564,
     "metadata": {},
     "output_type": "execute_result"
    }
   ],
   "source": [
    "gb_confusion_df['Predicted Sitka Spruce'] = gb_confusion_df['Predicted Sitka Spruce0']\n",
    "gb_confusion_df = gb_confusion_df.drop(columns='Predicted Sitka Spruce0')\n",
    "gb_confusion_df"
   ]
  },
  {
   "cell_type": "code",
   "execution_count": 566,
   "metadata": {},
   "outputs": [
    {
     "data": {
      "text/html": [
       "<div>\n",
       "<style scoped>\n",
       "    .dataframe tbody tr th:only-of-type {\n",
       "        vertical-align: middle;\n",
       "    }\n",
       "\n",
       "    .dataframe tbody tr th {\n",
       "        vertical-align: top;\n",
       "    }\n",
       "\n",
       "    .dataframe thead th {\n",
       "        text-align: right;\n",
       "    }\n",
       "</style>\n",
       "<table border=\"1\" class=\"dataframe\">\n",
       "  <thead>\n",
       "    <tr style=\"text-align: right;\">\n",
       "      <th></th>\n",
       "      <th>Predicted Bigleaf Maple</th>\n",
       "      <th>Predicted London Plane</th>\n",
       "      <th>Predicted Sitka Spruce</th>\n",
       "    </tr>\n",
       "  </thead>\n",
       "  <tbody>\n",
       "    <tr>\n",
       "      <th>Actual Bigleaf Maple</th>\n",
       "      <td>46.0</td>\n",
       "      <td>14.0</td>\n",
       "      <td>17.0</td>\n",
       "    </tr>\n",
       "    <tr>\n",
       "      <th>Actual London Plane</th>\n",
       "      <td>18.0</td>\n",
       "      <td>35.0</td>\n",
       "      <td>5.0</td>\n",
       "    </tr>\n",
       "    <tr>\n",
       "      <th>Actual Sitka Spruce</th>\n",
       "      <td>26.0</td>\n",
       "      <td>12.0</td>\n",
       "      <td>30.0</td>\n",
       "    </tr>\n",
       "  </tbody>\n",
       "</table>\n",
       "</div>"
      ],
      "text/plain": [
       "                      Predicted Bigleaf Maple  Predicted London Plane  \\\n",
       "Actual Bigleaf Maple                     46.0                    14.0   \n",
       "Actual London Plane                      18.0                    35.0   \n",
       "Actual Sitka Spruce                      26.0                    12.0   \n",
       "\n",
       "                      Predicted Sitka Spruce  \n",
       "Actual Bigleaf Maple                    17.0  \n",
       "Actual London Plane                      5.0  \n",
       "Actual Sitka Spruce                     30.0  "
      ]
     },
     "execution_count": 566,
     "metadata": {},
     "output_type": "execute_result"
    }
   ],
   "source": [
    "gb_confusion_df.loc['Actual Sitka Spruce',:] = gb_confusion_df.loc['Actual Sitka Spruce0',:]\n",
    "gb_confusion_df = gb_confusion_df.drop(index='Actual Sitka Spruce0')\n",
    "gb_confusion_df"
   ]
  },
  {
   "cell_type": "code",
   "execution_count": 567,
   "metadata": {},
   "outputs": [
    {
     "data": {
      "text/html": [
       "<div>\n",
       "<style scoped>\n",
       "    .dataframe tbody tr th:only-of-type {\n",
       "        vertical-align: middle;\n",
       "    }\n",
       "\n",
       "    .dataframe tbody tr th {\n",
       "        vertical-align: top;\n",
       "    }\n",
       "\n",
       "    .dataframe thead th {\n",
       "        text-align: right;\n",
       "    }\n",
       "</style>\n",
       "<table border=\"1\" class=\"dataframe\">\n",
       "  <thead>\n",
       "    <tr style=\"text-align: right;\">\n",
       "      <th></th>\n",
       "      <th>Predicted Bigleaf Maple</th>\n",
       "      <th>Predicted London Plane</th>\n",
       "      <th>Predicted Sitka Spruce</th>\n",
       "    </tr>\n",
       "  </thead>\n",
       "  <tbody>\n",
       "    <tr>\n",
       "      <th>Actual Bigleaf Maple</th>\n",
       "      <td>46</td>\n",
       "      <td>14</td>\n",
       "      <td>17</td>\n",
       "    </tr>\n",
       "    <tr>\n",
       "      <th>Actual London Plane</th>\n",
       "      <td>18</td>\n",
       "      <td>35</td>\n",
       "      <td>5</td>\n",
       "    </tr>\n",
       "    <tr>\n",
       "      <th>Actual Sitka Spruce</th>\n",
       "      <td>26</td>\n",
       "      <td>12</td>\n",
       "      <td>30</td>\n",
       "    </tr>\n",
       "  </tbody>\n",
       "</table>\n",
       "</div>"
      ],
      "text/plain": [
       "                      Predicted Bigleaf Maple  Predicted London Plane  \\\n",
       "Actual Bigleaf Maple                       46                      14   \n",
       "Actual London Plane                        18                      35   \n",
       "Actual Sitka Spruce                        26                      12   \n",
       "\n",
       "                      Predicted Sitka Spruce  \n",
       "Actual Bigleaf Maple                      17  \n",
       "Actual London Plane                        5  \n",
       "Actual Sitka Spruce                       30  "
      ]
     },
     "execution_count": 567,
     "metadata": {},
     "output_type": "execute_result"
    }
   ],
   "source": [
    "gb_confusion_df.astype(int)"
   ]
  },
  {
   "cell_type": "markdown",
   "metadata": {},
   "source": [
    "#### Try pickling and unpickling a model"
   ]
  },
  {
   "cell_type": "code",
   "execution_count": 471,
   "metadata": {
    "collapsed": true
   },
   "outputs": [],
   "source": [
    "s = pickle.dumps(gb_model)"
   ]
  },
  {
   "cell_type": "code",
   "execution_count": 473,
   "metadata": {
    "collapsed": true
   },
   "outputs": [],
   "source": [
    "gb_model_reloaded = pickle.loads(s)"
   ]
  },
  {
   "cell_type": "code",
   "execution_count": 474,
   "metadata": {},
   "outputs": [
    {
     "name": "stdout",
     "output_type": "stream",
     "text": [
      "Train log_loss: 0.4147540448728718, Test log_loss: 0.9469096393142834\n",
      "Train accuracy: 0.998766954377312, Test accuracy: 0.5467980295566502\n"
     ]
    }
   ],
   "source": [
    "print_classifier_metrics(X_train, X_test, y_train, y_test, gb_model_reloaded) #Seems to work. Woo hoo!"
   ]
  },
  {
   "cell_type": "code",
   "execution_count": 476,
   "metadata": {},
   "outputs": [
    {
     "data": {
      "text/plain": [
       "bytes"
      ]
     },
     "execution_count": 476,
     "metadata": {},
     "output_type": "execute_result"
    }
   ],
   "source": [
    "type(s)"
   ]
  },
  {
   "cell_type": "code",
   "execution_count": 477,
   "metadata": {},
   "outputs": [
    {
     "data": {
      "text/plain": [
       "['data/gb_model_jan30.pkl']"
      ]
     },
     "execution_count": 477,
     "metadata": {},
     "output_type": "execute_result"
    }
   ],
   "source": [
    "joblib.dump(gb_model, 'data/gb_model_jan30.pkl')"
   ]
  },
  {
   "cell_type": "code",
   "execution_count": 478,
   "metadata": {},
   "outputs": [
    {
     "name": "stdout",
     "output_type": "stream",
     "text": [
      "total 81584\r\n",
      "-rw-r--r--  1 ndbs  staff   3105147 Feb  1 16:44 gb_model_jan30.pkl\r\n",
      "-rw-r--r--  1 ndbs  staff     74715 Jan 30 12:03 tree_image_info.csv\r\n",
      "-rw-r--r--  1 ndbs  staff  37792669 Jan 30 11:46 tree_images.csv\r\n"
     ]
    }
   ],
   "source": [
    "!ls -l data #The pickled model is about 3.1 MB"
   ]
  },
  {
   "cell_type": "code",
   "execution_count": 479,
   "metadata": {
    "collapsed": true
   },
   "outputs": [],
   "source": [
    "gb_model_reloaded = joblib.load('data/gb_model_jan30.pkl')"
   ]
  },
  {
   "cell_type": "code",
   "execution_count": 480,
   "metadata": {},
   "outputs": [
    {
     "name": "stdout",
     "output_type": "stream",
     "text": [
      "Train log_loss: 0.4147540448728718, Test log_loss: 0.9469096393142834\n",
      "Train accuracy: 0.998766954377312, Test accuracy: 0.5467980295566502\n"
     ]
    }
   ],
   "source": [
    "print_classifier_metrics(X_train, X_test, y_train, y_test, gb_model_reloaded) #Seems to work. Woo hoo!"
   ]
  },
  {
   "cell_type": "markdown",
   "metadata": {},
   "source": [
    "## Try a Support Vector Classifier"
   ]
  },
  {
   "cell_type": "code",
   "execution_count": 262,
   "metadata": {
    "collapsed": true
   },
   "outputs": [],
   "source": [
    "# le = LabelEncoder()\n",
    "# le.fit(y)\n",
    "\n",
    "# y_enc = le.transform(y)\n",
    "\n",
    "# X_train, X_test, y_train, y_test = train_test_split(X, y_enc)"
   ]
  },
  {
   "cell_type": "code",
   "execution_count": 298,
   "metadata": {
    "collapsed": true
   },
   "outputs": [],
   "source": [
    "svc_model = SVC(kernel='linear', C=1.0, probability=True)"
   ]
  },
  {
   "cell_type": "code",
   "execution_count": 317,
   "metadata": {},
   "outputs": [
    {
     "data": {
      "text/plain": [
       "SVC(C=1.0, cache_size=200, class_weight=None, coef0=0.0,\n",
       "  decision_function_shape='ovr', degree=3, gamma='auto', kernel='linear',\n",
       "  max_iter=-1, probability=True, random_state=None, shrinking=True,\n",
       "  tol=0.001, verbose=False)"
      ]
     },
     "execution_count": 317,
     "metadata": {},
     "output_type": "execute_result"
    }
   ],
   "source": [
    "svc_model.fit(X_train, y_train)"
   ]
  },
  {
   "cell_type": "code",
   "execution_count": 318,
   "metadata": {
    "collapsed": true
   },
   "outputs": [],
   "source": [
    "y_train_pred = svc_model.predict(X_train)\n",
    "y_test_pred = svc_model.predict(X_test)"
   ]
  },
  {
   "cell_type": "code",
   "execution_count": 319,
   "metadata": {},
   "outputs": [
    {
     "data": {
      "text/plain": [
       "1.0"
      ]
     },
     "execution_count": 319,
     "metadata": {},
     "output_type": "execute_result"
    }
   ],
   "source": [
    "accuracy_score(y_train, y_train_pred)"
   ]
  },
  {
   "cell_type": "code",
   "execution_count": 320,
   "metadata": {},
   "outputs": [
    {
     "data": {
      "text/plain": [
       "0.49753694581280788"
      ]
     },
     "execution_count": 320,
     "metadata": {},
     "output_type": "execute_result"
    }
   ],
   "source": [
    "accuracy_score(y_test, y_test_pred)"
   ]
  },
  {
   "cell_type": "code",
   "execution_count": 321,
   "metadata": {
    "collapsed": true
   },
   "outputs": [],
   "source": [
    "y_train_prob_pred = svc_model.predict_proba(X_train)\n",
    "y_test_prob_pred = svc_model.predict_proba(X_test)"
   ]
  },
  {
   "cell_type": "code",
   "execution_count": 322,
   "metadata": {},
   "outputs": [
    {
     "data": {
      "text/plain": [
       "1.0182313270802499"
      ]
     },
     "execution_count": 322,
     "metadata": {},
     "output_type": "execute_result"
    }
   ],
   "source": [
    "log_loss(y_test, y_test_prob_pred)"
   ]
  },
  {
   "cell_type": "code",
   "execution_count": 323,
   "metadata": {},
   "outputs": [
    {
     "data": {
      "text/plain": [
       "0.74002248124947478"
      ]
     },
     "execution_count": 323,
     "metadata": {},
     "output_type": "execute_result"
    }
   ],
   "source": [
    "log_loss(y_train, y_train_prob_pred)"
   ]
  },
  {
   "cell_type": "code",
   "execution_count": 375,
   "metadata": {},
   "outputs": [
    {
     "name": "stdout",
     "output_type": "stream",
     "text": [
      "Train log_loss: 0.7400224812494748, Test log_loss: 1.0182313270802499\n",
      "Train accuracy: 1.0, Test accuracy: 0.4975369458128079\n"
     ]
    }
   ],
   "source": [
    "print_classifier_metrics(X_train, X_test, y_train, y_test, svc_model)"
   ]
  },
  {
   "cell_type": "code",
   "execution_count": 325,
   "metadata": {},
   "outputs": [
    {
     "data": {
      "text/plain": [
       "Counter({'acer_macrophylum': 91,\n",
       "         'picea_sitchensis': 58,\n",
       "         'platanus_acerifolia': 54})"
      ]
     },
     "execution_count": 325,
     "metadata": {},
     "output_type": "execute_result"
    }
   ],
   "source": [
    "Counter(y_test_pred)"
   ]
  },
  {
   "cell_type": "code",
   "execution_count": 326,
   "metadata": {},
   "outputs": [
    {
     "data": {
      "text/plain": [
       "Counter({'acer_macrophylum': 77,\n",
       "         'picea_sitchensis': 68,\n",
       "         'platanus_acerifolia': 58})"
      ]
     },
     "execution_count": 326,
     "metadata": {},
     "output_type": "execute_result"
    }
   ],
   "source": [
    "Counter(y_test)"
   ]
  },
  {
   "cell_type": "code",
   "execution_count": 327,
   "metadata": {},
   "outputs": [
    {
     "data": {
      "text/plain": [
       "[('picea_sitchensis', 'acer_macrophylum'),\n",
       " ('acer_macrophylum', 'acer_macrophylum'),\n",
       " ('acer_macrophylum', 'acer_macrophylum'),\n",
       " ('acer_macrophylum', 'acer_macrophylum'),\n",
       " ('picea_sitchensis', 'acer_macrophylum'),\n",
       " ('platanus_acerifolia', 'platanus_acerifolia'),\n",
       " ('picea_sitchensis', 'picea_sitchensis'),\n",
       " ('picea_sitchensis', 'acer_macrophylum'),\n",
       " ('picea_sitchensis', 'picea_sitchensis'),\n",
       " ('platanus_acerifolia', 'acer_macrophylum')]"
      ]
     },
     "execution_count": 327,
     "metadata": {},
     "output_type": "execute_result"
    }
   ],
   "source": [
    "list(zip(y_test, y_test_pred))[:10]"
   ]
  },
  {
   "cell_type": "markdown",
   "metadata": {},
   "source": [
    "### Confusion matrix for SVM"
   ]
  },
  {
   "cell_type": "code",
   "execution_count": 328,
   "metadata": {
    "scrolled": true
   },
   "outputs": [
    {
     "data": {
      "text/html": [
       "<div>\n",
       "<style scoped>\n",
       "    .dataframe tbody tr th:only-of-type {\n",
       "        vertical-align: middle;\n",
       "    }\n",
       "\n",
       "    .dataframe tbody tr th {\n",
       "        vertical-align: top;\n",
       "    }\n",
       "\n",
       "    .dataframe thead th {\n",
       "        text-align: right;\n",
       "    }\n",
       "</style>\n",
       "<table border=\"1\" class=\"dataframe\">\n",
       "  <thead>\n",
       "    <tr style=\"text-align: right;\">\n",
       "      <th></th>\n",
       "      <th>Predicted acer_macrophylum</th>\n",
       "      <th>Predicted picea_sitchensis</th>\n",
       "      <th>Predicted platanus_acerifolia</th>\n",
       "    </tr>\n",
       "  </thead>\n",
       "  <tbody>\n",
       "    <tr>\n",
       "      <th>Actual acer_macrophylum</th>\n",
       "      <td>43</td>\n",
       "      <td>17</td>\n",
       "      <td>17</td>\n",
       "    </tr>\n",
       "    <tr>\n",
       "      <th>Actual picea_sitchensis</th>\n",
       "      <td>25</td>\n",
       "      <td>32</td>\n",
       "      <td>11</td>\n",
       "    </tr>\n",
       "    <tr>\n",
       "      <th>Actual platanus_acerifolia</th>\n",
       "      <td>23</td>\n",
       "      <td>9</td>\n",
       "      <td>26</td>\n",
       "    </tr>\n",
       "  </tbody>\n",
       "</table>\n",
       "</div>"
      ],
      "text/plain": [
       "                            Predicted acer_macrophylum  \\\n",
       "Actual acer_macrophylum                             43   \n",
       "Actual picea_sitchensis                             25   \n",
       "Actual platanus_acerifolia                          23   \n",
       "\n",
       "                            Predicted picea_sitchensis  \\\n",
       "Actual acer_macrophylum                             17   \n",
       "Actual picea_sitchensis                             32   \n",
       "Actual platanus_acerifolia                           9   \n",
       "\n",
       "                            Predicted platanus_acerifolia  \n",
       "Actual acer_macrophylum                                17  \n",
       "Actual picea_sitchensis                                11  \n",
       "Actual platanus_acerifolia                             26  "
      ]
     },
     "execution_count": 328,
     "metadata": {},
     "output_type": "execute_result"
    }
   ],
   "source": [
    "confusion_df(y_test,y_test_pred,svc_model)"
   ]
  },
  {
   "cell_type": "markdown",
   "metadata": {},
   "source": [
    "## Try Naive Bayes"
   ]
  },
  {
   "cell_type": "code",
   "execution_count": 378,
   "metadata": {},
   "outputs": [
    {
     "data": {
      "text/plain": [
       "MultinomialNB(alpha=1.0, class_prior=None, fit_prior=True)"
      ]
     },
     "execution_count": 378,
     "metadata": {},
     "output_type": "execute_result"
    }
   ],
   "source": [
    "nb_model = MultinomialNB(fit_prior=True)\n",
    "nb_model.fit(X_train, y_train)"
   ]
  },
  {
   "cell_type": "code",
   "execution_count": 379,
   "metadata": {},
   "outputs": [
    {
     "name": "stdout",
     "output_type": "stream",
     "text": [
      "Train log loss: 19.068092214451486, Test log loss: 18.16577272577269\n"
     ]
    }
   ],
   "source": [
    "y_train_hat = nb_model.predict_proba(X_train)\n",
    "y_test_hat = nb_model.predict_proba(X_test)\n",
    "print(\"Train log loss: {}, Test log loss: {}\".format(log_loss(y_train, y_train_hat), log_loss(y_test, y_test_hat)))"
   ]
  },
  {
   "cell_type": "code",
   "execution_count": 380,
   "metadata": {},
   "outputs": [
    {
     "name": "stdout",
     "output_type": "stream",
     "text": [
      "Train accuracy: 0.436498150431566, Test accuracy: 0.4630541871921182\n"
     ]
    }
   ],
   "source": [
    "y_train_hat_cat = nb_model.predict(X_train)\n",
    "y_test_hat_cat = nb_model.predict(X_test)\n",
    "print(\"Train accuracy: {}, Test accuracy: {}\".format(\n",
    "        accuracy_score(y_train, y_train_hat_cat),\n",
    "        accuracy_score(y_test, y_test_hat_cat))\n",
    "     )"
   ]
  },
  {
   "cell_type": "code",
   "execution_count": 381,
   "metadata": {},
   "outputs": [
    {
     "name": "stdout",
     "output_type": "stream",
     "text": [
      "Train log_loss: 19.068092214451486, Test log_loss: 18.16577272577269\n",
      "Train accuracy: 0.436498150431566, Test accuracy: 0.4630541871921182\n"
     ]
    }
   ],
   "source": [
    "print_classifier_metrics(X_train, X_test, y_train, y_test, nb_model)"
   ]
  },
  {
   "cell_type": "code",
   "execution_count": 362,
   "metadata": {},
   "outputs": [
    {
     "data": {
      "text/html": [
       "<div>\n",
       "<style scoped>\n",
       "    .dataframe tbody tr th:only-of-type {\n",
       "        vertical-align: middle;\n",
       "    }\n",
       "\n",
       "    .dataframe tbody tr th {\n",
       "        vertical-align: top;\n",
       "    }\n",
       "\n",
       "    .dataframe thead th {\n",
       "        text-align: right;\n",
       "    }\n",
       "</style>\n",
       "<table border=\"1\" class=\"dataframe\">\n",
       "  <thead>\n",
       "    <tr style=\"text-align: right;\">\n",
       "      <th></th>\n",
       "      <th>Predicted acer_macrophylum</th>\n",
       "      <th>Predicted picea_sitchensis</th>\n",
       "      <th>Predicted platanus_acerifolia</th>\n",
       "    </tr>\n",
       "  </thead>\n",
       "  <tbody>\n",
       "    <tr>\n",
       "      <th>Actual acer_macrophylum</th>\n",
       "      <td>43</td>\n",
       "      <td>17</td>\n",
       "      <td>17</td>\n",
       "    </tr>\n",
       "    <tr>\n",
       "      <th>Actual picea_sitchensis</th>\n",
       "      <td>25</td>\n",
       "      <td>32</td>\n",
       "      <td>11</td>\n",
       "    </tr>\n",
       "    <tr>\n",
       "      <th>Actual platanus_acerifolia</th>\n",
       "      <td>23</td>\n",
       "      <td>9</td>\n",
       "      <td>26</td>\n",
       "    </tr>\n",
       "  </tbody>\n",
       "</table>\n",
       "</div>"
      ],
      "text/plain": [
       "                            Predicted acer_macrophylum  \\\n",
       "Actual acer_macrophylum                             43   \n",
       "Actual picea_sitchensis                             25   \n",
       "Actual platanus_acerifolia                          23   \n",
       "\n",
       "                            Predicted picea_sitchensis  \\\n",
       "Actual acer_macrophylum                             17   \n",
       "Actual picea_sitchensis                             32   \n",
       "Actual platanus_acerifolia                           9   \n",
       "\n",
       "                            Predicted platanus_acerifolia  \n",
       "Actual acer_macrophylum                                17  \n",
       "Actual picea_sitchensis                                11  \n",
       "Actual platanus_acerifolia                             26  "
      ]
     },
     "execution_count": 362,
     "metadata": {},
     "output_type": "execute_result"
    }
   ],
   "source": [
    "confusion_df(y_test,y_test_pred,nb_model)"
   ]
  },
  {
   "cell_type": "markdown",
   "metadata": {},
   "source": [
    "## Show misclassified images vs. correctly classified images\n",
    "\n",
    "(Haven't totally gotten this to work yet, as of Thu 2/1/18)"
   ]
  },
  {
   "cell_type": "code",
   "execution_count": 224,
   "metadata": {},
   "outputs": [
    {
     "data": {
      "text/plain": [
       "92"
      ]
     },
     "execution_count": 224,
     "metadata": {},
     "output_type": "execute_result"
    }
   ],
   "source": [
    "(y_test != y_test_hat_cat).sum()"
   ]
  },
  {
   "cell_type": "code",
   "execution_count": 225,
   "metadata": {},
   "outputs": [
    {
     "data": {
      "text/plain": [
       "111"
      ]
     },
     "execution_count": 225,
     "metadata": {},
     "output_type": "execute_result"
    }
   ],
   "source": [
    "(y_test == y_test_hat_cat).sum()"
   ]
  },
  {
   "cell_type": "code",
   "execution_count": 227,
   "metadata": {},
   "outputs": [
    {
     "data": {
      "text/plain": [
       "264     True\n",
       "987    False\n",
       "782     True\n",
       "778    False\n",
       "286     True\n",
       "481     True\n",
       "156     True\n",
       "107     True\n",
       "19     False\n",
       "349    False\n",
       "Name: species, dtype: bool"
      ]
     },
     "execution_count": 227,
     "metadata": {},
     "output_type": "execute_result"
    }
   ],
   "source": [
    "(y_test != y_test_hat_cat)[:10]"
   ]
  },
  {
   "cell_type": "code",
   "execution_count": 232,
   "metadata": {},
   "outputs": [
    {
     "data": {
      "text/html": [
       "<div>\n",
       "<style scoped>\n",
       "    .dataframe tbody tr th:only-of-type {\n",
       "        vertical-align: middle;\n",
       "    }\n",
       "\n",
       "    .dataframe tbody tr th {\n",
       "        vertical-align: top;\n",
       "    }\n",
       "\n",
       "    .dataframe thead th {\n",
       "        text-align: right;\n",
       "    }\n",
       "</style>\n",
       "<table border=\"1\" class=\"dataframe\">\n",
       "  <thead>\n",
       "    <tr style=\"text-align: right;\">\n",
       "      <th></th>\n",
       "      <th>p_hash</th>\n",
       "      <th>filename</th>\n",
       "      <th>species</th>\n",
       "    </tr>\n",
       "  </thead>\n",
       "  <tbody>\n",
       "    <tr>\n",
       "      <th>0</th>\n",
       "      <td>99a7465a1e99acb4</td>\n",
       "      <td>image_picea_sitchensis_27.png</td>\n",
       "      <td>picea_sitchensis</td>\n",
       "    </tr>\n",
       "    <tr>\n",
       "      <th>1</th>\n",
       "      <td>93d12f8e712ef068</td>\n",
       "      <td>image_picea_sitchensis_33.png</td>\n",
       "      <td>picea_sitchensis</td>\n",
       "    </tr>\n",
       "    <tr>\n",
       "      <th>2</th>\n",
       "      <td>cce3482eb991533b</td>\n",
       "      <td>image_picea_sitchensis_6.png</td>\n",
       "      <td>picea_sitchensis</td>\n",
       "    </tr>\n",
       "    <tr>\n",
       "      <th>3</th>\n",
       "      <td>c119991c4fcf1cda</td>\n",
       "      <td>image_picea_sitchensis_in_winter_12.png</td>\n",
       "      <td>picea_sitchensis</td>\n",
       "    </tr>\n",
       "    <tr>\n",
       "      <th>4</th>\n",
       "      <td>e3c3dab100fdc29c</td>\n",
       "      <td>image_sitka_spruce_59.png</td>\n",
       "      <td>picea_sitchensis</td>\n",
       "    </tr>\n",
       "    <tr>\n",
       "      <th>5</th>\n",
       "      <td>84522fbc57bd21a9</td>\n",
       "      <td>image_sitka_spruce_65.png</td>\n",
       "      <td>picea_sitchensis</td>\n",
       "    </tr>\n",
       "    <tr>\n",
       "      <th>6</th>\n",
       "      <td>ff6042c59f3870e2</td>\n",
       "      <td>image_sitka_spruce_71.png</td>\n",
       "      <td>picea_sitchensis</td>\n",
       "    </tr>\n",
       "    <tr>\n",
       "      <th>7</th>\n",
       "      <td>aeae42b4fa96050f</td>\n",
       "      <td>image_sitka_spruce_cones_58.png</td>\n",
       "      <td>picea_sitchensis</td>\n",
       "    </tr>\n",
       "    <tr>\n",
       "      <th>8</th>\n",
       "      <td>fb90080905fe47bf</td>\n",
       "      <td>image_sitka_spruce_cones_70.png</td>\n",
       "      <td>picea_sitchensis</td>\n",
       "    </tr>\n",
       "    <tr>\n",
       "      <th>9</th>\n",
       "      <td>85563edad4258b66</td>\n",
       "      <td>image_sitka_spruce_cones_64.png</td>\n",
       "      <td>picea_sitchensis</td>\n",
       "    </tr>\n",
       "  </tbody>\n",
       "</table>\n",
       "</div>"
      ],
      "text/plain": [
       "             p_hash                                 filename           species\n",
       "0  99a7465a1e99acb4            image_picea_sitchensis_27.png  picea_sitchensis\n",
       "1  93d12f8e712ef068            image_picea_sitchensis_33.png  picea_sitchensis\n",
       "2  cce3482eb991533b             image_picea_sitchensis_6.png  picea_sitchensis\n",
       "3  c119991c4fcf1cda  image_picea_sitchensis_in_winter_12.png  picea_sitchensis\n",
       "4  e3c3dab100fdc29c                image_sitka_spruce_59.png  picea_sitchensis\n",
       "5  84522fbc57bd21a9                image_sitka_spruce_65.png  picea_sitchensis\n",
       "6  ff6042c59f3870e2                image_sitka_spruce_71.png  picea_sitchensis\n",
       "7  aeae42b4fa96050f          image_sitka_spruce_cones_58.png  picea_sitchensis\n",
       "8  fb90080905fe47bf          image_sitka_spruce_cones_70.png  picea_sitchensis\n",
       "9  85563edad4258b66          image_sitka_spruce_cones_64.png  picea_sitchensis"
      ]
     },
     "execution_count": 232,
     "metadata": {},
     "output_type": "execute_result"
    }
   ],
   "source": [
    "tree_features_df[['p_hash', 'filename', 'species']][:10]"
   ]
  },
  {
   "cell_type": "code",
   "execution_count": 242,
   "metadata": {},
   "outputs": [
    {
     "data": {
      "text/plain": [
       "Int64Index([ 264,  987,  782,  778,  286,  481,  156,  107,   19,  349,\n",
       "            ...\n",
       "               7, 1002,   16,  653,  799,   21,  682,  261,  358,  747],\n",
       "           dtype='int64', length=203)"
      ]
     },
     "execution_count": 242,
     "metadata": {},
     "output_type": "execute_result"
    }
   ],
   "source": [
    "y_test.index"
   ]
  },
  {
   "cell_type": "code",
   "execution_count": 247,
   "metadata": {},
   "outputs": [],
   "source": [
    "incorrect_idx = y_test.index[np.where(y_test != y_test_hat_cat)]\n",
    "correct_idx = y_test.index[np.where(y_test == y_test_hat_cat)]"
   ]
  },
  {
   "cell_type": "code",
   "execution_count": 248,
   "metadata": {},
   "outputs": [],
   "source": [
    "misclassified_df = tree_features_df.loc[incorrect_idx, ['p_hash', 'filename', 'species']]\n",
    "correct_df = tree_features_df.loc[correct_idx, ['p_hash', 'filename', 'species']]"
   ]
  },
  {
   "cell_type": "code",
   "execution_count": 249,
   "metadata": {},
   "outputs": [
    {
     "data": {
      "text/html": [
       "<div>\n",
       "<style scoped>\n",
       "    .dataframe tbody tr th:only-of-type {\n",
       "        vertical-align: middle;\n",
       "    }\n",
       "\n",
       "    .dataframe tbody tr th {\n",
       "        vertical-align: top;\n",
       "    }\n",
       "\n",
       "    .dataframe thead th {\n",
       "        text-align: right;\n",
       "    }\n",
       "</style>\n",
       "<table border=\"1\" class=\"dataframe\">\n",
       "  <thead>\n",
       "    <tr style=\"text-align: right;\">\n",
       "      <th></th>\n",
       "      <th>p_hash</th>\n",
       "      <th>filename</th>\n",
       "      <th>species</th>\n",
       "    </tr>\n",
       "  </thead>\n",
       "  <tbody>\n",
       "    <tr>\n",
       "      <th>264</th>\n",
       "      <td>94e1781e6343cfc9</td>\n",
       "      <td>image_sitka_spruce_cones_53.png</td>\n",
       "      <td>picea_sitchensis</td>\n",
       "    </tr>\n",
       "    <tr>\n",
       "      <th>782</th>\n",
       "      <td>f0d6e110ae0baf6a</td>\n",
       "      <td>image_bigleaf_maple_47.png</td>\n",
       "      <td>acer_macrophylum</td>\n",
       "    </tr>\n",
       "    <tr>\n",
       "      <th>286</th>\n",
       "      <td>9899c762d66b5a70</td>\n",
       "      <td>image_sitka_spruce_cones_81.png</td>\n",
       "      <td>picea_sitchensis</td>\n",
       "    </tr>\n",
       "    <tr>\n",
       "      <th>481</th>\n",
       "      <td>874c3843899eb6e7</td>\n",
       "      <td>image_platanus_acerifolia_56.png</td>\n",
       "      <td>platanus_acerifolia</td>\n",
       "    </tr>\n",
       "    <tr>\n",
       "      <th>156</th>\n",
       "      <td>d0073ecfd922232f</td>\n",
       "      <td>image_sitka_spruce_16.png</td>\n",
       "      <td>picea_sitchensis</td>\n",
       "    </tr>\n",
       "  </tbody>\n",
       "</table>\n",
       "</div>"
      ],
      "text/plain": [
       "               p_hash                          filename              species\n",
       "264  94e1781e6343cfc9   image_sitka_spruce_cones_53.png     picea_sitchensis\n",
       "782  f0d6e110ae0baf6a        image_bigleaf_maple_47.png     acer_macrophylum\n",
       "286  9899c762d66b5a70   image_sitka_spruce_cones_81.png     picea_sitchensis\n",
       "481  874c3843899eb6e7  image_platanus_acerifolia_56.png  platanus_acerifolia\n",
       "156  d0073ecfd922232f         image_sitka_spruce_16.png     picea_sitchensis"
      ]
     },
     "execution_count": 249,
     "metadata": {},
     "output_type": "execute_result"
    }
   ],
   "source": [
    "misclassified_df.head()"
   ]
  },
  {
   "cell_type": "code",
   "execution_count": 250,
   "metadata": {},
   "outputs": [
    {
     "data": {
      "text/html": [
       "<div>\n",
       "<style scoped>\n",
       "    .dataframe tbody tr th:only-of-type {\n",
       "        vertical-align: middle;\n",
       "    }\n",
       "\n",
       "    .dataframe tbody tr th {\n",
       "        vertical-align: top;\n",
       "    }\n",
       "\n",
       "    .dataframe thead th {\n",
       "        text-align: right;\n",
       "    }\n",
       "</style>\n",
       "<table border=\"1\" class=\"dataframe\">\n",
       "  <thead>\n",
       "    <tr style=\"text-align: right;\">\n",
       "      <th></th>\n",
       "      <th>p_hash</th>\n",
       "      <th>filename</th>\n",
       "      <th>species</th>\n",
       "    </tr>\n",
       "  </thead>\n",
       "  <tbody>\n",
       "    <tr>\n",
       "      <th>987</th>\n",
       "      <td>9393394a8e36a7c5</td>\n",
       "      <td>image_acer_macrophylum_seeds_61.png</td>\n",
       "      <td>acer_macrophylum</td>\n",
       "    </tr>\n",
       "    <tr>\n",
       "      <th>778</th>\n",
       "      <td>d0e53f5a658cf442</td>\n",
       "      <td>image_bigleaf_maple_84.png</td>\n",
       "      <td>acer_macrophylum</td>\n",
       "    </tr>\n",
       "    <tr>\n",
       "      <th>19</th>\n",
       "      <td>c4b674c978c5174e</td>\n",
       "      <td>image_picea_sitchensis_26.png</td>\n",
       "      <td>picea_sitchensis</td>\n",
       "    </tr>\n",
       "    <tr>\n",
       "      <th>349</th>\n",
       "      <td>bde8f86321a9d072</td>\n",
       "      <td>image_platanus_acerifolia_fruit_91.png</td>\n",
       "      <td>platanus_acerifolia</td>\n",
       "    </tr>\n",
       "    <tr>\n",
       "      <th>931</th>\n",
       "      <td>9d852d9df5252d22</td>\n",
       "      <td>image_acer_macrophylum_in_winter_89.png</td>\n",
       "      <td>acer_macrophylum</td>\n",
       "    </tr>\n",
       "  </tbody>\n",
       "</table>\n",
       "</div>"
      ],
      "text/plain": [
       "               p_hash                                 filename  \\\n",
       "987  9393394a8e36a7c5      image_acer_macrophylum_seeds_61.png   \n",
       "778  d0e53f5a658cf442               image_bigleaf_maple_84.png   \n",
       "19   c4b674c978c5174e            image_picea_sitchensis_26.png   \n",
       "349  bde8f86321a9d072   image_platanus_acerifolia_fruit_91.png   \n",
       "931  9d852d9df5252d22  image_acer_macrophylum_in_winter_89.png   \n",
       "\n",
       "                 species  \n",
       "987     acer_macrophylum  \n",
       "778     acer_macrophylum  \n",
       "19      picea_sitchensis  \n",
       "349  platanus_acerifolia  \n",
       "931     acer_macrophylum  "
      ]
     },
     "execution_count": 250,
     "metadata": {},
     "output_type": "execute_result"
    }
   ],
   "source": [
    "correct_df.head()"
   ]
  },
  {
   "cell_type": "code",
   "execution_count": 395,
   "metadata": {},
   "outputs": [
    {
     "data": {
      "text/plain": [
       "'image_sitka_spruce_cones_53.png'"
      ]
     },
     "execution_count": 395,
     "metadata": {},
     "output_type": "execute_result"
    }
   ],
   "source": [
    "misclassified_df.loc[264, 'filename']"
   ]
  },
  {
   "cell_type": "code",
   "execution_count": 397,
   "metadata": {},
   "outputs": [
    {
     "data": {
      "text/html": [
       "<div>\n",
       "<style scoped>\n",
       "    .dataframe tbody tr th:only-of-type {\n",
       "        vertical-align: middle;\n",
       "    }\n",
       "\n",
       "    .dataframe tbody tr th {\n",
       "        vertical-align: top;\n",
       "    }\n",
       "\n",
       "    .dataframe thead th {\n",
       "        text-align: right;\n",
       "    }\n",
       "</style>\n",
       "<table border=\"1\" class=\"dataframe\">\n",
       "  <thead>\n",
       "    <tr style=\"text-align: right;\">\n",
       "      <th></th>\n",
       "      <th>p_hash</th>\n",
       "      <th>filename</th>\n",
       "      <th>species</th>\n",
       "      <th>tags</th>\n",
       "      <th>incv3_out_0</th>\n",
       "      <th>incv3_out_1</th>\n",
       "      <th>incv3_out_2</th>\n",
       "      <th>incv3_out_3</th>\n",
       "      <th>incv3_out_4</th>\n",
       "      <th>incv3_out_5</th>\n",
       "      <th>...</th>\n",
       "      <th>incv3_out_2038</th>\n",
       "      <th>incv3_out_2039</th>\n",
       "      <th>incv3_out_2040</th>\n",
       "      <th>incv3_out_2041</th>\n",
       "      <th>incv3_out_2042</th>\n",
       "      <th>incv3_out_2043</th>\n",
       "      <th>incv3_out_2044</th>\n",
       "      <th>incv3_out_2045</th>\n",
       "      <th>incv3_out_2046</th>\n",
       "      <th>incv3_out_2047</th>\n",
       "    </tr>\n",
       "  </thead>\n",
       "  <tbody>\n",
       "    <tr>\n",
       "      <th>264</th>\n",
       "      <td>94e1781e6343cfc9</td>\n",
       "      <td>image_sitka_spruce_cones_53.png</td>\n",
       "      <td>picea_sitchensis</td>\n",
       "      <td>NaN</td>\n",
       "      <td>1.172103</td>\n",
       "      <td>0.157195</td>\n",
       "      <td>14.754305</td>\n",
       "      <td>61.848797</td>\n",
       "      <td>2.221417</td>\n",
       "      <td>12.160721</td>\n",
       "      <td>...</td>\n",
       "      <td>0.046675</td>\n",
       "      <td>5.511428</td>\n",
       "      <td>6.621748</td>\n",
       "      <td>5.859137</td>\n",
       "      <td>0.000000</td>\n",
       "      <td>1.910888</td>\n",
       "      <td>45.310360</td>\n",
       "      <td>0.000000</td>\n",
       "      <td>0.000000</td>\n",
       "      <td>15.057344</td>\n",
       "    </tr>\n",
       "    <tr>\n",
       "      <th>782</th>\n",
       "      <td>f0d6e110ae0baf6a</td>\n",
       "      <td>image_bigleaf_maple_47.png</td>\n",
       "      <td>acer_macrophylum</td>\n",
       "      <td>NaN</td>\n",
       "      <td>9.406478</td>\n",
       "      <td>0.830558</td>\n",
       "      <td>18.535799</td>\n",
       "      <td>33.450565</td>\n",
       "      <td>7.282935</td>\n",
       "      <td>28.328329</td>\n",
       "      <td>...</td>\n",
       "      <td>11.284428</td>\n",
       "      <td>1.735588</td>\n",
       "      <td>22.370350</td>\n",
       "      <td>9.164616</td>\n",
       "      <td>11.116768</td>\n",
       "      <td>3.013068</td>\n",
       "      <td>29.321323</td>\n",
       "      <td>1.112587</td>\n",
       "      <td>0.000000</td>\n",
       "      <td>4.369399</td>\n",
       "    </tr>\n",
       "    <tr>\n",
       "      <th>286</th>\n",
       "      <td>9899c762d66b5a70</td>\n",
       "      <td>image_sitka_spruce_cones_81.png</td>\n",
       "      <td>picea_sitchensis</td>\n",
       "      <td>NaN</td>\n",
       "      <td>12.943529</td>\n",
       "      <td>1.043531</td>\n",
       "      <td>26.815239</td>\n",
       "      <td>51.794350</td>\n",
       "      <td>3.449647</td>\n",
       "      <td>25.553036</td>\n",
       "      <td>...</td>\n",
       "      <td>29.213461</td>\n",
       "      <td>0.330187</td>\n",
       "      <td>0.739590</td>\n",
       "      <td>6.526254</td>\n",
       "      <td>21.284466</td>\n",
       "      <td>5.109229</td>\n",
       "      <td>27.199467</td>\n",
       "      <td>0.000000</td>\n",
       "      <td>0.000000</td>\n",
       "      <td>0.337251</td>\n",
       "    </tr>\n",
       "    <tr>\n",
       "      <th>481</th>\n",
       "      <td>874c3843899eb6e7</td>\n",
       "      <td>image_platanus_acerifolia_56.png</td>\n",
       "      <td>platanus_acerifolia</td>\n",
       "      <td>NaN</td>\n",
       "      <td>10.034812</td>\n",
       "      <td>4.806232</td>\n",
       "      <td>3.099319</td>\n",
       "      <td>34.744900</td>\n",
       "      <td>12.637062</td>\n",
       "      <td>33.522263</td>\n",
       "      <td>...</td>\n",
       "      <td>56.585869</td>\n",
       "      <td>9.575346</td>\n",
       "      <td>17.094181</td>\n",
       "      <td>12.374394</td>\n",
       "      <td>21.022936</td>\n",
       "      <td>1.352761</td>\n",
       "      <td>13.409874</td>\n",
       "      <td>0.000000</td>\n",
       "      <td>0.899937</td>\n",
       "      <td>0.650821</td>\n",
       "    </tr>\n",
       "    <tr>\n",
       "      <th>156</th>\n",
       "      <td>d0073ecfd922232f</td>\n",
       "      <td>image_sitka_spruce_16.png</td>\n",
       "      <td>picea_sitchensis</td>\n",
       "      <td>NaN</td>\n",
       "      <td>10.684744</td>\n",
       "      <td>4.036548</td>\n",
       "      <td>10.023483</td>\n",
       "      <td>62.233028</td>\n",
       "      <td>4.409578</td>\n",
       "      <td>29.307293</td>\n",
       "      <td>...</td>\n",
       "      <td>16.885521</td>\n",
       "      <td>0.234271</td>\n",
       "      <td>20.797720</td>\n",
       "      <td>6.003472</td>\n",
       "      <td>1.733500</td>\n",
       "      <td>2.397206</td>\n",
       "      <td>60.300694</td>\n",
       "      <td>0.000000</td>\n",
       "      <td>0.000000</td>\n",
       "      <td>0.205991</td>\n",
       "    </tr>\n",
       "  </tbody>\n",
       "</table>\n",
       "<p>5 rows × 2052 columns</p>\n",
       "</div>"
      ],
      "text/plain": [
       "               p_hash                          filename              species  \\\n",
       "264  94e1781e6343cfc9   image_sitka_spruce_cones_53.png     picea_sitchensis   \n",
       "782  f0d6e110ae0baf6a        image_bigleaf_maple_47.png     acer_macrophylum   \n",
       "286  9899c762d66b5a70   image_sitka_spruce_cones_81.png     picea_sitchensis   \n",
       "481  874c3843899eb6e7  image_platanus_acerifolia_56.png  platanus_acerifolia   \n",
       "156  d0073ecfd922232f         image_sitka_spruce_16.png     picea_sitchensis   \n",
       "\n",
       "     tags  incv3_out_0  incv3_out_1  incv3_out_2  incv3_out_3  incv3_out_4  \\\n",
       "264   NaN     1.172103     0.157195    14.754305    61.848797     2.221417   \n",
       "782   NaN     9.406478     0.830558    18.535799    33.450565     7.282935   \n",
       "286   NaN    12.943529     1.043531    26.815239    51.794350     3.449647   \n",
       "481   NaN    10.034812     4.806232     3.099319    34.744900    12.637062   \n",
       "156   NaN    10.684744     4.036548    10.023483    62.233028     4.409578   \n",
       "\n",
       "     incv3_out_5       ...        incv3_out_2038  incv3_out_2039  \\\n",
       "264    12.160721       ...              0.046675        5.511428   \n",
       "782    28.328329       ...             11.284428        1.735588   \n",
       "286    25.553036       ...             29.213461        0.330187   \n",
       "481    33.522263       ...             56.585869        9.575346   \n",
       "156    29.307293       ...             16.885521        0.234271   \n",
       "\n",
       "     incv3_out_2040  incv3_out_2041  incv3_out_2042  incv3_out_2043  \\\n",
       "264        6.621748        5.859137        0.000000        1.910888   \n",
       "782       22.370350        9.164616       11.116768        3.013068   \n",
       "286        0.739590        6.526254       21.284466        5.109229   \n",
       "481       17.094181       12.374394       21.022936        1.352761   \n",
       "156       20.797720        6.003472        1.733500        2.397206   \n",
       "\n",
       "     incv3_out_2044  incv3_out_2045  incv3_out_2046  incv3_out_2047  \n",
       "264       45.310360        0.000000        0.000000       15.057344  \n",
       "782       29.321323        1.112587        0.000000        4.369399  \n",
       "286       27.199467        0.000000        0.000000        0.337251  \n",
       "481       13.409874        0.000000        0.899937        0.650821  \n",
       "156       60.300694        0.000000        0.000000        0.205991  \n",
       "\n",
       "[5 rows x 2052 columns]"
      ]
     },
     "execution_count": 397,
     "metadata": {},
     "output_type": "execute_result"
    }
   ],
   "source": [
    "tree_features_df.loc[incorrect_idx].head()"
   ]
  },
  {
   "cell_type": "code",
   "execution_count": 401,
   "metadata": {},
   "outputs": [],
   "source": [
    "def get_image_paths(image_df, base_directory, indices=None):\n",
    "    if indices is None:\n",
    "        indices = image_df.index\n",
    "        \n",
    "    directories = image_df.loc[indices, 'species']\n",
    "    filenames = image_df.loc[indices,'filename']\n",
    "    \n",
    "    img_paths = [os.path.join(base_directory, directory, filename)\n",
    "                for directory, filename in zip(directories, filenames)]\n",
    "    \n",
    "    return img_paths\n",
    "\n",
    "def generate_images_from_paths(img_paths):\n",
    "    return (image.load_img(path, target_size=(299,299)) for path in img_paths)\n",
    "    \n",
    "def show_classified_image(ax, img, label, prediction):\n",
    "    \"\"\"Plot a greyscale image and label its class.\"\"\"\n",
    "    ax.imshow(img)\n",
    "    ax.set_title('Predicted {}\\nActual {}'.format(prediction, label))\n",
    "    ax.get_xaxis().set_visible(False)\n",
    "    ax.get_yaxis().set_visible(False)"
   ]
  },
  {
   "cell_type": "code",
   "execution_count": 402,
   "metadata": {},
   "outputs": [],
   "source": [
    "base_directory = 'tree_photos'\n",
    "misclassified_paths = get_image_paths(misclassified_df, base_directory)"
   ]
  },
  {
   "cell_type": "code",
   "execution_count": 410,
   "metadata": {
    "collapsed": true
   },
   "outputs": [],
   "source": [
    "misclassified_images = generate_images_from_paths(misclassified_paths)"
   ]
  },
  {
   "cell_type": "code",
   "execution_count": 411,
   "metadata": {},
   "outputs": [
    {
     "data": {
      "image/png": "[encoded data removed]",
      "text/plain": [
       "<PIL.Image.Image image mode=RGB size=299x299 at 0x11F53AF28>"
      ]
     },
     "execution_count": 411,
     "metadata": {},
     "output_type": "execute_result"
    }
   ],
   "source": [
    "next(misclassified_images)"
   ]
  },
  {
   "cell_type": "code",
   "execution_count": 392,
   "metadata": {},
   "outputs": [
    {
     "data": {
      "image/png": "[encoded data removed]",
      "text/plain": [
       "<matplotlib.figure.Figure at 0x11fe2a2e8>"
      ]
     },
     "metadata": {},
     "output_type": "display_data"
    }
   ],
   "source": [
    "fig, ax = plt.subplots()\n",
    "\n",
    "img = image.load_img('tree_photos/picea_sitchensis/image_sitka_spruce_cones_81.png', target_size=(299,299))\n",
    "ax.imshow(img)\n",
    "ax.get_xaxis().set_visible(False)\n",
    "ax.get_yaxis().set_visible(False)"
   ]
  },
  {
   "cell_type": "markdown",
   "metadata": {},
   "source": [
    "### Test cropping images and rescaling RBG values for imshow"
   ]
  },
  {
   "cell_type": "code",
   "execution_count": 463,
   "metadata": {},
   "outputs": [
    {
     "data": {
      "image/png": "[encoded data removed]",
      "text/plain": [
       "<PIL.Image.Image image mode=RGB size=40x60 at 0x11ACE17F0>"
      ]
     },
     "execution_count": 463,
     "metadata": {},
     "output_type": "execute_result"
    }
   ],
   "source": [
    "img.crop((0,10,40,70)) #Cropped image has upper left pixel (0,10), lower right pixel (40,70)"
   ]
  },
  {
   "cell_type": "code",
   "execution_count": 466,
   "metadata": {},
   "outputs": [
    {
     "data": {
      "text/plain": [
       "array([ 96.,  94.,  96.], dtype=float32)"
      ]
     },
     "execution_count": 466,
     "metadata": {},
     "output_type": "execute_result"
    }
   ],
   "source": [
    "image.img_to_array(img)[0,0]"
   ]
  },
  {
   "cell_type": "code",
   "execution_count": 467,
   "metadata": {},
   "outputs": [
    {
     "data": {
      "text/plain": [
       "<matplotlib.image.AxesImage at 0x11e0bbb70>"
      ]
     },
     "execution_count": 467,
     "metadata": {},
     "output_type": "execute_result"
    },
    {
     "data": {
      "image/png": "[encoded data removed]",
      "text/plain": [
       "<matplotlib.figure.Figure at 0x11a9b7400>"
      ]
     },
     "metadata": {},
     "output_type": "display_data"
    }
   ],
   "source": [
    "plt.imshow(image.img_to_array(img)) #NOTE: Colors are wrong because imshow expects floats in range [0,1]"
   ]
  },
  {
   "cell_type": "code",
   "execution_count": 468,
   "metadata": {},
   "outputs": [
    {
     "data": {
      "text/plain": [
       "<matplotlib.image.AxesImage at 0x11e051748>"
      ]
     },
     "execution_count": 468,
     "metadata": {},
     "output_type": "execute_result"
    },
    {
     "data": {
      "image/png": "[encoded data removed]",
      "text/plain": [
       "<matplotlib.figure.Figure at 0x11acb7208>"
      ]
     },
     "metadata": {},
     "output_type": "display_data"
    }
   ],
   "source": [
    "plt.imshow(image.img_to_array(img)/255) #NOTE: imshow requires RGB values as floats in the range [0,1]"
   ]
  },
  {
   "cell_type": "markdown",
   "metadata": {},
   "source": [
    "### Some computations relating to the tensorflow-cnn font classification assignment"
   ]
  },
  {
   "cell_type": "code",
   "execution_count": 417,
   "metadata": {},
   "outputs": [
    {
     "data": {
      "text/plain": [
       "4464"
      ]
     },
     "execution_count": 417,
     "metadata": {},
     "output_type": "execute_result"
    }
   ],
   "source": [
    "9*(27-19)*(26*2+10) #xy-offsets * range of font sizes * number of characters = total images per class"
   ]
  },
  {
   "cell_type": "code",
   "execution_count": 415,
   "metadata": {},
   "outputs": [
    {
     "data": {
      "text/plain": [
       "8"
      ]
     },
     "execution_count": 415,
     "metadata": {},
     "output_type": "execute_result"
    }
   ],
   "source": [
    "27-19 #range of font sizes"
   ]
  },
  {
   "cell_type": "code",
   "execution_count": 418,
   "metadata": {},
   "outputs": [
    {
     "data": {
      "text/plain": [
       "4464"
      ]
     },
     "execution_count": 418,
     "metadata": {},
     "output_type": "execute_result"
    }
   ],
   "source": [
    "3312+1152 #train set + test set"
   ]
  },
  {
   "cell_type": "code",
   "execution_count": 421,
   "metadata": {},
   "outputs": [
    {
     "data": {
      "text/plain": [
       "0.25806451612903225"
      ]
     },
     "execution_count": 421,
     "metadata": {},
     "output_type": "execute_result"
    }
   ],
   "source": [
    "1152/4464 #fraction of characters used for testing"
   ]
  },
  {
   "cell_type": "code",
   "execution_count": 422,
   "metadata": {},
   "outputs": [
    {
     "data": {
      "text/plain": [
       "46.0"
      ]
     },
     "execution_count": 422,
     "metadata": {},
     "output_type": "execute_result"
    }
   ],
   "source": [
    "3312/(9*8) #number of characters used in training set"
   ]
  },
  {
   "cell_type": "code",
   "execution_count": 423,
   "metadata": {},
   "outputs": [
    {
     "data": {
      "text/plain": [
       "16.0"
      ]
     },
     "execution_count": 423,
     "metadata": {},
     "output_type": "execute_result"
    }
   ],
   "source": [
    "1152/(9*8) #number of characters used in test set"
   ]
  },
  {
   "cell_type": "markdown",
   "metadata": {},
   "source": [
    "## Test getting input..."
   ]
  },
  {
   "cell_type": "code",
   "execution_count": 427,
   "metadata": {},
   "outputs": [
    {
     "name": "stdout",
     "output_type": "stream",
     "text": [
      "Enter a number: 5\n",
      "Enter a number: 9\n",
      "Enter a number: 3\n",
      "Enter a number: -4\n"
     ]
    }
   ],
   "source": [
    "i = 1\n",
    "while i > 0:\n",
    "    i = int(input(\"Enter a number: \"))"
   ]
  },
  {
   "cell_type": "code",
   "execution_count": null,
   "metadata": {
    "collapsed": true
   },
   "outputs": [],
   "source": []
  }
 ],
 "metadata": {
  "kernelspec": {
   "display_name": "Python 3",
   "language": "python",
   "name": "python3"
  },
  "language_info": {
   "codemirror_mode": {
    "name": "ipython",
    "version": 3
   },
   "file_extension": ".py",
   "mimetype": "text/x-python",
   "name": "python",
   "nbconvert_exporter": "python",
   "pygments_lexer": "ipython3",
   "version": "3.6.3"
  }
 },
 "nbformat": 4,
 "nbformat_minor": 2
}
