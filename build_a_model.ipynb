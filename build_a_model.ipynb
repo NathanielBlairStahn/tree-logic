{
 "cells": [
  {
   "cell_type": "code",
   "execution_count": null,
   "metadata": {
    "collapsed": true
   },
   "outputs": [],
   "source": [
    "import numpy as np\n",
    "import pandas as pd\n",
    "import matplotlib.pyplot as plt\n",
    "%matplotlib inline\n",
    "\n",
    "from keras.applications.inception_v3 import InceptionV3\n",
    "#from keras.applications.xception import Xception\n",
    "from keras.preprocessing import image\n",
    "from keras.models import Model\n",
    "#from keras.layers import GlobalAveragePooling2D\n",
    "\n",
    "# #Default InceptionV3 options:\n",
    "# #https://keras.io/applications/#inceptionv3\n",
    "#\n",
    "# For pre-trained weights, input_shape has to be  (299, 299, 3) (with 'channels_last' data format)\n",
    "# or (3, 299, 299) (with 'channels_first' data format).\n",
    "#\n",
    "# Note that image.load_img() uses 'channels_last' by default, and you need to\n",
    "# specify target_size = (299,299) when loading an image to feed into InceptionV3.\n",
    "#\n",
    "# keras.applications.inception_v3.InceptionV3(include_top=True\n",
    "#                                             , weights='imagenet'\n",
    "#                                             , input_tensor=None\n",
    "#                                             , input_shape=None\n",
    "#                                             , pooling=None\n",
    "#                                             , classes=1000)\n",
    "\n",
    "import os\n",
    "from PIL import Image\n",
    "#Hash images using the ImageHash library\n",
    "#https://pypi.python.org/pypi/ImageHash\n",
    "import imagehash\n",
    "\n",
    "from sklearn.model_selection import train_test_split\n",
    "from sklearn.linear_model import LogisticRegression\n",
    "from sklearn.ensemble import RandomForestClassifier, GradientBoostingClassifier\n",
    "\n",
    "%load_ext autoreload\n",
    "%autoreload 2"
   ]
  }
 ],
 "metadata": {
  "kernelspec": {
   "display_name": "Python 3",
   "language": "python",
   "name": "python3"
  },
  "language_info": {
   "codemirror_mode": {
    "name": "ipython",
    "version": 3
   },
   "file_extension": ".py",
   "mimetype": "text/x-python",
   "name": "python",
   "nbconvert_exporter": "python",
   "pygments_lexer": "ipython3",
   "version": "3.6.3"
  }
 },
 "nbformat": 4,
 "nbformat_minor": 2
}
