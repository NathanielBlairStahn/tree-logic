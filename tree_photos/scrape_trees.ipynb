{
 "cells": [
  {
   "cell_type": "code",
   "execution_count": 1,
   "metadata": {
    "ExecuteTime": {
     "end_time": "2017-12-21T16:59:58.722756",
     "start_time": "2017-12-21T16:59:58.708535"
    },
    "collapsed": true
   },
   "outputs": [],
   "source": [
    "from selenium.webdriver import Firefox\n",
    "import time"
   ]
  },
  {
   "cell_type": "code",
   "execution_count": 2,
   "metadata": {
    "ExecuteTime": {
     "end_time": "2017-12-21T17:00:04.947366",
     "start_time": "2017-12-21T16:59:58.907995"
    },
    "collapsed": true
   },
   "outputs": [],
   "source": [
    "# Create zombie browsers\n",
    "browser = Firefox()\n",
    "photo_browser = Firefox()"
   ]
  },
  {
   "cell_type": "code",
   "execution_count": 3,
   "metadata": {
    "ExecuteTime": {
     "end_time": "2017-12-21T17:00:04.966584",
     "start_time": "2017-12-21T17:00:04.949030"
    },
    "collapsed": true
   },
   "outputs": [],
   "source": [
    "def search_for_items(browser, search_term):\n",
    "    browser.get(\"https://images.google.com/\")\n",
    "    time.sleep(2)\n",
    "    elem = browser.switch_to_active_element()\n",
    "    search_box = elem\n",
    "    search_box.click()\n",
    "    time.sleep(1)\n",
    "    search_box.send_keys(search_term)\n",
    "    time.sleep(1)\n",
    "    search_box.send_keys('\\n')"
   ]
  },
  {
   "cell_type": "code",
   "execution_count": 4,
   "metadata": {
    "ExecuteTime": {
     "end_time": "2017-12-21T17:00:57.639291",
     "start_time": "2017-12-21T17:00:57.625006"
    },
    "collapsed": true
   },
   "outputs": [],
   "source": [
    "def find_images(browser):\n",
    "    \"\"\"Return image objects\"\"\"\n",
    "    time.sleep(5)\n",
    "    images = browser.find_elements_by_css_selector(\n",
    "        \"div.rg_bx a.rg_l img\")\n",
    "    return images"
   ]
  },
  {
   "cell_type": "code",
   "execution_count": 5,
   "metadata": {
    "ExecuteTime": {
     "end_time": "2017-12-21T17:00:05.005658",
     "start_time": "2017-12-21T17:00:04.986112"
    },
    "collapsed": true
   },
   "outputs": [],
   "source": [
    "def scrape_image(image, directory, search_term, i):\n",
    "    _ = image.location_once_scrolled_into_view\n",
    "    image_url = image.get_attribute('src')\n",
    "    photo_browser.get(image_url)\n",
    "    image = photo_browser.find_element_by_css_selector(\n",
    "        \"img\")\n",
    "    image_png = image.screenshot_as_png\n",
    "    label = \"_\".join(search_term.lower().split())\n",
    "    with open(f'{directory}/image_{label}_{i}.png', 'wb') as f:\n",
    "        f.write(image_png)"
   ]
  },
  {
   "cell_type": "code",
   "execution_count": 6,
   "metadata": {
    "ExecuteTime": {
     "end_time": "2017-12-21T17:00:54.253852",
     "start_time": "2017-12-21T17:00:54.239373"
    },
    "collapsed": true
   },
   "outputs": [],
   "source": [
    "def scrape_images(images, directory, search_term, photo_browser):\n",
    "    for i, image in enumerate(images):\n",
    "        time.sleep(1)\n",
    "        scrape_image(image, directory, search_term, i)"
   ]
  },
  {
   "cell_type": "code",
   "execution_count": 7,
   "metadata": {
    "ExecuteTime": {
     "end_time": "2017-12-21T17:00:05.040284",
     "start_time": "2017-12-21T17:00:05.026576"
    },
    "collapsed": true
   },
   "outputs": [],
   "source": [
    "def search_and_scrape(search_terms_for_directories):\n",
    "    for directory, search_terms in search_terms_for_directories.items():\n",
    "        for search_term in search_terms:\n",
    "            search_for_items(browser, search_term)\n",
    "            images = find_images(browser)\n",
    "            scrape_images(images, directory, search_term, photo_browser)\n",
    "    "
   ]
  },
  {
   "cell_type": "code",
   "execution_count": 14,
   "metadata": {
    "ExecuteTime": {
     "end_time": "2017-12-21T17:00:06.494069",
     "start_time": "2017-12-21T17:00:06.480697"
    },
    "collapsed": true
   },
   "outputs": [],
   "source": [
    "search_terms_for_directories = {\n",
    "    'thuja_plicata': ['western red cedar', 'thuja plicata foliage', 'thuja plicata cones']\n",
    "    ,'acer_macrophylum': ['big leaf maple bark']\n",
    "#     ,'pseudotsuga_menziesii': ['pseudotsuga menziesii bark']\n",
    "}"
   ]
  },
  {
   "cell_type": "code",
   "execution_count": 15,
   "metadata": {
    "ExecuteTime": {
     "end_time": "2017-12-21T17:05:27.961043",
     "start_time": "2017-12-21T17:00:59.894937"
    },
    "collapsed": true
   },
   "outputs": [],
   "source": [
    "search_and_scrape(search_terms_for_directories)"
   ]
  },
  {
   "cell_type": "code",
   "execution_count": 14,
   "metadata": {},
   "outputs": [
    {
     "data": {
      "text/plain": [
       "'3.8.0'"
      ]
     },
     "execution_count": 14,
     "metadata": {},
     "output_type": "execute_result"
    }
   ],
   "source": [
    "import selenium\n",
    "selenium.__version__"
   ]
  },
  {
   "cell_type": "code",
   "execution_count": null,
   "metadata": {
    "collapsed": true
   },
   "outputs": [],
   "source": []
  }
 ],
 "metadata": {
  "kernelspec": {
   "display_name": "Python 3",
   "language": "python",
   "name": "python3"
  },
  "language_info": {
   "codemirror_mode": {
    "name": "ipython",
    "version": 3
   },
   "file_extension": ".py",
   "mimetype": "text/x-python",
   "name": "python",
   "nbconvert_exporter": "python",
   "pygments_lexer": "ipython3",
   "version": "3.6.3"
  }
 },
 "nbformat": 4,
 "nbformat_minor": 1
}
