{
 "cells": [
  {
   "cell_type": "markdown",
   "metadata": {},
   "source": [
    "# Update the image paths for the extracted features from Jan 29, 2018\n",
    "March 23, 2018"
   ]
  },
  {
   "cell_type": "code",
   "execution_count": 3,
   "metadata": {
    "collapsed": true
   },
   "outputs": [],
   "source": [
    "import numpy as np\n",
    "import pandas as pd"
   ]
  },
  {
   "cell_type": "code",
   "execution_count": 4,
   "metadata": {
    "collapsed": true
   },
   "outputs": [],
   "source": [
    "%load_ext autoreload\n",
    "%autoreload 2"
   ]
  },
  {
   "cell_type": "code",
   "execution_count": 5,
   "metadata": {},
   "outputs": [
    {
     "name": "stdout",
     "output_type": "stream",
     "text": [
      "/Users/ndbs/tree-logic/notebooks_gb_3_classes\r\n"
     ]
    }
   ],
   "source": [
    "!pwd"
   ]
  },
  {
   "cell_type": "code",
   "execution_count": 9,
   "metadata": {},
   "outputs": [
    {
     "name": "stdout",
     "output_type": "stream",
     "text": [
      "__init__.py               image_classifier.py       remove_filename_spaces.sh\r\n",
      "\u001b[34m__pycache__\u001b[m\u001b[m               image_manager.py          scrape_images.py\r\n",
      "dedup_images.py           model_eval.py\r\n"
     ]
    }
   ],
   "source": [
    "!ls ../src"
   ]
  },
  {
   "cell_type": "markdown",
   "metadata": {},
   "source": [
    "## Add parent directory to path to be able to import modules from a parallel directory\n",
    "Solution from StackOverflow: https://stackoverflow.com/questions/34478398/import-local-function-from-a-module-housed-in-another-directory-with-relative-im"
   ]
  },
  {
   "cell_type": "code",
   "execution_count": 15,
   "metadata": {
    "collapsed": true
   },
   "outputs": [],
   "source": [
    "#Solution to importing modules from a parallel directory from StackOverflow:\n",
    "#https://stackoverflow.com/questions/34478398/import-local-function-from-a-module-housed-in-another-directory-with-relative-im\n",
    "import os\n",
    "import sys\n",
    "module_path = os.path.abspath(os.path.join('..'))\n",
    "if module_path not in sys.path:\n",
    "    sys.path.append(module_path)"
   ]
  },
  {
   "cell_type": "code",
   "execution_count": 16,
   "metadata": {},
   "outputs": [
    {
     "data": {
      "text/plain": [
       "['',\n",
       " '/usr/local/Cellar/apache-spark/2.2.0/libexec/python',\n",
       " '/Users/ndbs/tree-logic/notebooks_gb_3_classes',\n",
       " '/Users/ndbs/anaconda3/lib/python36.zip',\n",
       " '/Users/ndbs/anaconda3/lib/python3.6',\n",
       " '/Users/ndbs/anaconda3/lib/python3.6/lib-dynload',\n",
       " '/Users/ndbs/anaconda3/lib/python3.6/site-packages',\n",
       " '/Users/ndbs/anaconda3/lib/python3.6/site-packages/Mako-1.0.7-py3.6.egg',\n",
       " '/Users/ndbs/anaconda3/lib/python3.6/site-packages/aeosa',\n",
       " '/Users/ndbs/anaconda3/lib/python3.6/site-packages/IPython/extensions',\n",
       " '/Users/ndbs/.ipython',\n",
       " '/Users/ndbs/tree-logic/src',\n",
       " '/Users/ndbs/tree-logic']"
      ]
     },
     "execution_count": 16,
     "metadata": {},
     "output_type": "execute_result"
    }
   ],
   "source": [
    "sys.path"
   ]
  },
  {
   "cell_type": "code",
   "execution_count": 17,
   "metadata": {},
   "outputs": [],
   "source": [
    "from src.image_manager import ImageManager\n",
    "#Woo hoo, it worked!"
   ]
  },
  {
   "cell_type": "markdown",
   "metadata": {},
   "source": [
    "## Create an ImageManager from my previously saved file database (saves as .csv's)\n",
    "See `more_image_manager_and_scraper.ipynb` from Feb 5, 2018"
   ]
  },
  {
   "cell_type": "code",
   "execution_count": 2,
   "metadata": {},
   "outputs": [
    {
     "name": "stdout",
     "output_type": "stream",
     "text": [
      "gb_confusion.png         image_log_20180205.csv   tree_image_info.csv\r\n",
      "gb_model_jan30.pkl       image_syncs_20180204.csv tree_images.csv\r\n",
      "image_log_20180204.csv   image_syncs_20180205.csv\r\n"
     ]
    }
   ],
   "source": [
    "!ls ../data"
   ]
  },
  {
   "cell_type": "code",
   "execution_count": 18,
   "metadata": {
    "collapsed": true
   },
   "outputs": [],
   "source": [
    "manager = ImageManager('../tree_photos/', '../data/image_log_20180205.csv', '../data/image_syncs_20180205.csv')"
   ]
  },
  {
   "cell_type": "code",
   "execution_count": 19,
   "metadata": {},
   "outputs": [
    {
     "data": {
      "text/html": [
       "<div>\n",
       "<style scoped>\n",
       "    .dataframe tbody tr th:only-of-type {\n",
       "        vertical-align: middle;\n",
       "    }\n",
       "\n",
       "    .dataframe tbody tr th {\n",
       "        vertical-align: top;\n",
       "    }\n",
       "\n",
       "    .dataframe thead th {\n",
       "        text-align: right;\n",
       "    }\n",
       "</style>\n",
       "<table border=\"1\" class=\"dataframe\">\n",
       "  <thead>\n",
       "    <tr style=\"text-align: right;\">\n",
       "      <th></th>\n",
       "      <th>p_hash</th>\n",
       "      <th>filename</th>\n",
       "      <th>folder</th>\n",
       "      <th>time_added</th>\n",
       "      <th>time_verified</th>\n",
       "    </tr>\n",
       "  </thead>\n",
       "  <tbody>\n",
       "    <tr>\n",
       "      <th>0</th>\n",
       "      <td>9bb759cb29b01a25</td>\n",
       "      <td>image_bigleaf_maple_57.png</td>\n",
       "      <td>acer_macrophyllum</td>\n",
       "      <td>1517842809809644000</td>\n",
       "      <td>1517842809809644000</td>\n",
       "    </tr>\n",
       "    <tr>\n",
       "      <th>1</th>\n",
       "      <td>99c20b3b74d53de0</td>\n",
       "      <td>image_bigleaf_maple_43.png</td>\n",
       "      <td>acer_macrophyllum</td>\n",
       "      <td>1517842809819089000</td>\n",
       "      <td>1517842809819089000</td>\n",
       "    </tr>\n",
       "    <tr>\n",
       "      <th>2</th>\n",
       "      <td>a1e1e0d4e646e765</td>\n",
       "      <td>image_big_leaf_maple_bark_48.png</td>\n",
       "      <td>acer_macrophyllum</td>\n",
       "      <td>1517842809827989000</td>\n",
       "      <td>1517842809827989000</td>\n",
       "    </tr>\n",
       "    <tr>\n",
       "      <th>3</th>\n",
       "      <td>abee94c19cb28b0e</td>\n",
       "      <td>image_acer_macrophylum_tree_49.png</td>\n",
       "      <td>acer_macrophyllum</td>\n",
       "      <td>1517842809836027000</td>\n",
       "      <td>1517842809836027000</td>\n",
       "    </tr>\n",
       "    <tr>\n",
       "      <th>4</th>\n",
       "      <td>d3c161631f2b4b4e</td>\n",
       "      <td>image_bigleaf_maple_94.png</td>\n",
       "      <td>acer_macrophyllum</td>\n",
       "      <td>1517842809842604000</td>\n",
       "      <td>1517842809842604000</td>\n",
       "    </tr>\n",
       "  </tbody>\n",
       "</table>\n",
       "</div>"
      ],
      "text/plain": [
       "             p_hash                            filename             folder  \\\n",
       "0  9bb759cb29b01a25          image_bigleaf_maple_57.png  acer_macrophyllum   \n",
       "1  99c20b3b74d53de0          image_bigleaf_maple_43.png  acer_macrophyllum   \n",
       "2  a1e1e0d4e646e765    image_big_leaf_maple_bark_48.png  acer_macrophyllum   \n",
       "3  abee94c19cb28b0e  image_acer_macrophylum_tree_49.png  acer_macrophyllum   \n",
       "4  d3c161631f2b4b4e          image_bigleaf_maple_94.png  acer_macrophyllum   \n",
       "\n",
       "            time_added        time_verified  \n",
       "0  1517842809809644000  1517842809809644000  \n",
       "1  1517842809819089000  1517842809819089000  \n",
       "2  1517842809827989000  1517842809827989000  \n",
       "3  1517842809836027000  1517842809836027000  \n",
       "4  1517842809842604000  1517842809842604000  "
      ]
     },
     "execution_count": 19,
     "metadata": {},
     "output_type": "execute_result"
    }
   ],
   "source": [
    "manager.image_df.head()"
   ]
  },
  {
   "cell_type": "code",
   "execution_count": 20,
   "metadata": {},
   "outputs": [
    {
     "data": {
      "text/html": [
       "<div>\n",
       "<style scoped>\n",
       "    .dataframe tbody tr th:only-of-type {\n",
       "        vertical-align: middle;\n",
       "    }\n",
       "\n",
       "    .dataframe tbody tr th {\n",
       "        vertical-align: top;\n",
       "    }\n",
       "\n",
       "    .dataframe thead th {\n",
       "        text-align: right;\n",
       "    }\n",
       "</style>\n",
       "<table border=\"1\" class=\"dataframe\">\n",
       "  <thead>\n",
       "    <tr style=\"text-align: right;\">\n",
       "      <th></th>\n",
       "      <th>time_started</th>\n",
       "      <th>time_completed</th>\n",
       "      <th>folders</th>\n",
       "    </tr>\n",
       "  </thead>\n",
       "  <tbody>\n",
       "    <tr>\n",
       "      <th>0</th>\n",
       "      <td>1517842809802240000</td>\n",
       "      <td>1517842848258705000</td>\n",
       "      <td>['acer_macrophyllum', 'betula_pendula', 'thuja...</td>\n",
       "    </tr>\n",
       "    <tr>\n",
       "      <th>1</th>\n",
       "      <td>1517867697298852000</td>\n",
       "      <td>1517867781355441000</td>\n",
       "      <td>['cedrus_libani', 'alnus_rubra', 'bad_images']</td>\n",
       "    </tr>\n",
       "  </tbody>\n",
       "</table>\n",
       "</div>"
      ],
      "text/plain": [
       "          time_started       time_completed  \\\n",
       "0  1517842809802240000  1517842848258705000   \n",
       "1  1517867697298852000  1517867781355441000   \n",
       "\n",
       "                                             folders  \n",
       "0  ['acer_macrophyllum', 'betula_pendula', 'thuja...  \n",
       "1     ['cedrus_libani', 'alnus_rubra', 'bad_images']  "
      ]
     },
     "execution_count": 20,
     "metadata": {},
     "output_type": "execute_result"
    }
   ],
   "source": [
    "manager.syncs_df"
   ]
  },
  {
   "cell_type": "code",
   "execution_count": 22,
   "metadata": {},
   "outputs": [
    {
     "name": "stdout",
     "output_type": "stream",
     "text": [
      "|p_hash|filename|folder|time_added|time_verified\r\n",
      "0|9bb759cb29b01a25|image_bigleaf_maple_57.png|acer_macrophyllum|2018-02-05 15:00:09.809644|2018-02-05 15:00:09.809644\r\n",
      "1|99c20b3b74d53de0|image_bigleaf_maple_43.png|acer_macrophyllum|2018-02-05 15:00:09.819089|2018-02-05 15:00:09.819089\r\n",
      "2|a1e1e0d4e646e765|image_big_leaf_maple_bark_48.png|acer_macrophyllum|2018-02-05 15:00:09.827989|2018-02-05 15:00:09.827989\r\n",
      "3|abee94c19cb28b0e|image_acer_macrophylum_tree_49.png|acer_macrophyllum|2018-02-05 15:00:09.836027|2018-02-05 15:00:09.836027\r\n",
      "4|d3c161631f2b4b4e|image_bigleaf_maple_94.png|acer_macrophyllum|2018-02-05 15:00:09.842604|2018-02-05 15:00:09.842604\r\n",
      "5|c891b35fed643432|image_bigleaf_maple_80.png|acer_macrophyllum|2018-02-05 15:00:09.850563|2018-02-05 15:00:09.850563\r\n",
      "6|b34194e34c0bf5d3|image_big_leaf_maple_bark_74.png|acer_macrophyllum|2018-02-05 15:00:09.858514|2018-02-05 15:00:09.858514\r\n",
      "7|db7431cef4184de0|image_acer_macrophylum_tree_75.png|acer_macrophyllum|2018-02-05 15:00:09.866679|2018-02-05 15:00:09.866679\r\n",
      "8|d00f7c177d248d27|image_acer_macrophylum_tree_61.png|acer_macrophyllum|2018-02-05 15:00:09.874677|2018-02-05 15:00:09.874677\r\n"
     ]
    }
   ],
   "source": [
    "!head '../data/image_log_20180205.csv'"
   ]
  },
  {
   "cell_type": "markdown",
   "metadata": {},
   "source": [
    "### Ugh, why why are the timestamps converted to integers in the dataframes?!?!\n",
    "\n",
    "## Load the previously extracted features\n",
    "See `build_a_model.ipynb` from Jan 30, 2018"
   ]
  },
  {
   "cell_type": "code",
   "execution_count": 23,
   "metadata": {},
   "outputs": [
    {
     "data": {
      "text/html": [
       "<div>\n",
       "<style scoped>\n",
       "    .dataframe tbody tr th:only-of-type {\n",
       "        vertical-align: middle;\n",
       "    }\n",
       "\n",
       "    .dataframe tbody tr th {\n",
       "        vertical-align: top;\n",
       "    }\n",
       "\n",
       "    .dataframe thead th {\n",
       "        text-align: right;\n",
       "    }\n",
       "</style>\n",
       "<table border=\"1\" class=\"dataframe\">\n",
       "  <thead>\n",
       "    <tr style=\"text-align: right;\">\n",
       "      <th></th>\n",
       "      <th>p_hash</th>\n",
       "      <th>filename</th>\n",
       "      <th>species</th>\n",
       "      <th>tags</th>\n",
       "      <th>incv3_out_0</th>\n",
       "      <th>incv3_out_1</th>\n",
       "      <th>incv3_out_2</th>\n",
       "      <th>incv3_out_3</th>\n",
       "      <th>incv3_out_4</th>\n",
       "      <th>incv3_out_5</th>\n",
       "      <th>...</th>\n",
       "      <th>incv3_out_2038</th>\n",
       "      <th>incv3_out_2039</th>\n",
       "      <th>incv3_out_2040</th>\n",
       "      <th>incv3_out_2041</th>\n",
       "      <th>incv3_out_2042</th>\n",
       "      <th>incv3_out_2043</th>\n",
       "      <th>incv3_out_2044</th>\n",
       "      <th>incv3_out_2045</th>\n",
       "      <th>incv3_out_2046</th>\n",
       "      <th>incv3_out_2047</th>\n",
       "    </tr>\n",
       "  </thead>\n",
       "  <tbody>\n",
       "    <tr>\n",
       "      <th>0</th>\n",
       "      <td>99a7465a1e99acb4</td>\n",
       "      <td>image_picea_sitchensis_27.png</td>\n",
       "      <td>picea_sitchensis</td>\n",
       "      <td>NaN</td>\n",
       "      <td>13.995308</td>\n",
       "      <td>1.316715</td>\n",
       "      <td>0.279829</td>\n",
       "      <td>67.839417</td>\n",
       "      <td>43.733177</td>\n",
       "      <td>38.206165</td>\n",
       "      <td>...</td>\n",
       "      <td>160.387985</td>\n",
       "      <td>1.176492</td>\n",
       "      <td>45.983730</td>\n",
       "      <td>10.465877</td>\n",
       "      <td>22.118896</td>\n",
       "      <td>3.226861</td>\n",
       "      <td>29.401524</td>\n",
       "      <td>0.486684</td>\n",
       "      <td>0.000000</td>\n",
       "      <td>15.634432</td>\n",
       "    </tr>\n",
       "    <tr>\n",
       "      <th>1</th>\n",
       "      <td>93d12f8e712ef068</td>\n",
       "      <td>image_picea_sitchensis_33.png</td>\n",
       "      <td>picea_sitchensis</td>\n",
       "      <td>NaN</td>\n",
       "      <td>7.449574</td>\n",
       "      <td>0.417233</td>\n",
       "      <td>0.447665</td>\n",
       "      <td>6.178374</td>\n",
       "      <td>2.092985</td>\n",
       "      <td>6.251201</td>\n",
       "      <td>...</td>\n",
       "      <td>2.649559</td>\n",
       "      <td>0.523397</td>\n",
       "      <td>0.392520</td>\n",
       "      <td>7.703988</td>\n",
       "      <td>13.842188</td>\n",
       "      <td>12.907540</td>\n",
       "      <td>1.112756</td>\n",
       "      <td>0.000000</td>\n",
       "      <td>5.436511</td>\n",
       "      <td>1.154409</td>\n",
       "    </tr>\n",
       "    <tr>\n",
       "      <th>2</th>\n",
       "      <td>cce3482eb991533b</td>\n",
       "      <td>image_picea_sitchensis_6.png</td>\n",
       "      <td>picea_sitchensis</td>\n",
       "      <td>NaN</td>\n",
       "      <td>0.708871</td>\n",
       "      <td>0.640444</td>\n",
       "      <td>1.305804</td>\n",
       "      <td>9.565918</td>\n",
       "      <td>15.157275</td>\n",
       "      <td>1.787687</td>\n",
       "      <td>...</td>\n",
       "      <td>15.114614</td>\n",
       "      <td>0.000000</td>\n",
       "      <td>0.066235</td>\n",
       "      <td>2.280773</td>\n",
       "      <td>8.082823</td>\n",
       "      <td>1.939496</td>\n",
       "      <td>0.041136</td>\n",
       "      <td>0.000000</td>\n",
       "      <td>0.000000</td>\n",
       "      <td>0.034437</td>\n",
       "    </tr>\n",
       "    <tr>\n",
       "      <th>3</th>\n",
       "      <td>c119991c4fcf1cda</td>\n",
       "      <td>image_picea_sitchensis_in_winter_12.png</td>\n",
       "      <td>picea_sitchensis</td>\n",
       "      <td>NaN</td>\n",
       "      <td>7.138457</td>\n",
       "      <td>1.225646</td>\n",
       "      <td>15.940742</td>\n",
       "      <td>42.644821</td>\n",
       "      <td>23.604031</td>\n",
       "      <td>13.818824</td>\n",
       "      <td>...</td>\n",
       "      <td>49.895081</td>\n",
       "      <td>0.000000</td>\n",
       "      <td>7.600242</td>\n",
       "      <td>3.260593</td>\n",
       "      <td>13.135204</td>\n",
       "      <td>12.249097</td>\n",
       "      <td>17.588070</td>\n",
       "      <td>0.000000</td>\n",
       "      <td>0.000000</td>\n",
       "      <td>0.000000</td>\n",
       "    </tr>\n",
       "    <tr>\n",
       "      <th>4</th>\n",
       "      <td>e3c3dab100fdc29c</td>\n",
       "      <td>image_sitka_spruce_59.png</td>\n",
       "      <td>picea_sitchensis</td>\n",
       "      <td>NaN</td>\n",
       "      <td>0.030419</td>\n",
       "      <td>2.616714</td>\n",
       "      <td>1.435360</td>\n",
       "      <td>52.145359</td>\n",
       "      <td>5.377345</td>\n",
       "      <td>5.631077</td>\n",
       "      <td>...</td>\n",
       "      <td>13.391465</td>\n",
       "      <td>21.970516</td>\n",
       "      <td>5.217728</td>\n",
       "      <td>8.282942</td>\n",
       "      <td>0.788009</td>\n",
       "      <td>0.591635</td>\n",
       "      <td>35.845409</td>\n",
       "      <td>0.000000</td>\n",
       "      <td>0.000000</td>\n",
       "      <td>2.780651</td>\n",
       "    </tr>\n",
       "  </tbody>\n",
       "</table>\n",
       "<p>5 rows × 2052 columns</p>\n",
       "</div>"
      ],
      "text/plain": [
       "             p_hash                                 filename  \\\n",
       "0  99a7465a1e99acb4            image_picea_sitchensis_27.png   \n",
       "1  93d12f8e712ef068            image_picea_sitchensis_33.png   \n",
       "2  cce3482eb991533b             image_picea_sitchensis_6.png   \n",
       "3  c119991c4fcf1cda  image_picea_sitchensis_in_winter_12.png   \n",
       "4  e3c3dab100fdc29c                image_sitka_spruce_59.png   \n",
       "\n",
       "            species  tags  incv3_out_0  incv3_out_1  incv3_out_2  incv3_out_3  \\\n",
       "0  picea_sitchensis   NaN    13.995308     1.316715     0.279829    67.839417   \n",
       "1  picea_sitchensis   NaN     7.449574     0.417233     0.447665     6.178374   \n",
       "2  picea_sitchensis   NaN     0.708871     0.640444     1.305804     9.565918   \n",
       "3  picea_sitchensis   NaN     7.138457     1.225646    15.940742    42.644821   \n",
       "4  picea_sitchensis   NaN     0.030419     2.616714     1.435360    52.145359   \n",
       "\n",
       "   incv3_out_4  incv3_out_5       ...        incv3_out_2038  incv3_out_2039  \\\n",
       "0    43.733177    38.206165       ...            160.387985        1.176492   \n",
       "1     2.092985     6.251201       ...              2.649559        0.523397   \n",
       "2    15.157275     1.787687       ...             15.114614        0.000000   \n",
       "3    23.604031    13.818824       ...             49.895081        0.000000   \n",
       "4     5.377345     5.631077       ...             13.391465       21.970516   \n",
       "\n",
       "   incv3_out_2040  incv3_out_2041  incv3_out_2042  incv3_out_2043  \\\n",
       "0       45.983730       10.465877       22.118896        3.226861   \n",
       "1        0.392520        7.703988       13.842188       12.907540   \n",
       "2        0.066235        2.280773        8.082823        1.939496   \n",
       "3        7.600242        3.260593       13.135204       12.249097   \n",
       "4        5.217728        8.282942        0.788009        0.591635   \n",
       "\n",
       "   incv3_out_2044  incv3_out_2045  incv3_out_2046  incv3_out_2047  \n",
       "0       29.401524        0.486684        0.000000       15.634432  \n",
       "1        1.112756        0.000000        5.436511        1.154409  \n",
       "2        0.041136        0.000000        0.000000        0.034437  \n",
       "3       17.588070        0.000000        0.000000        0.000000  \n",
       "4       35.845409        0.000000        0.000000        2.780651  \n",
       "\n",
       "[5 rows x 2052 columns]"
      ]
     },
     "execution_count": 23,
     "metadata": {},
     "output_type": "execute_result"
    }
   ],
   "source": [
    "tree_features_df = pd.read_csv('../data/tree_images.csv', sep='|', index_col=0)\n",
    "tree_features_df.head()"
   ]
  },
  {
   "cell_type": "code",
   "execution_count": null,
   "metadata": {
    "collapsed": true
   },
   "outputs": [],
   "source": []
  }
 ],
 "metadata": {
  "kernelspec": {
   "display_name": "Python 3",
   "language": "python",
   "name": "python3"
  },
  "language_info": {
   "codemirror_mode": {
    "name": "ipython",
    "version": 3
   },
   "file_extension": ".py",
   "mimetype": "text/x-python",
   "name": "python",
   "nbconvert_exporter": "python",
   "pygments_lexer": "ipython3",
   "version": "3.6.3"
  }
 },
 "nbformat": 4,
 "nbformat_minor": 2
}
