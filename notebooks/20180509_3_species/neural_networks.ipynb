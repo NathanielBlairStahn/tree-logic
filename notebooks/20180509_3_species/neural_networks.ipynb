{
 "cells": [
  {
   "cell_type": "markdown",
   "metadata": {},
   "source": [
    "# Train a neural network on 3 original species\n",
    "\n",
    "Wednesday, May 16, 2018"
   ]
  },
  {
   "cell_type": "code",
   "execution_count": 1,
   "metadata": {
    "collapsed": true
   },
   "outputs": [],
   "source": [
    "%load_ext autoreload\n",
    "%autoreload 2"
   ]
  },
  {
   "cell_type": "code",
   "execution_count": 2,
   "metadata": {
    "collapsed": true
   },
   "outputs": [],
   "source": [
    "import numpy as np\n",
    "import pandas as pd\n",
    "\n",
    "from sklearn.model_selection import train_test_split"
   ]
  },
  {
   "cell_type": "code",
   "execution_count": 3,
   "metadata": {
    "collapsed": true
   },
   "outputs": [],
   "source": [
    "import os\n",
    "import sys\n",
    "\n",
    "#Store the relative and absolute path to the home directory of the project\n",
    "project_directory = '../..'\n",
    "project_path = os.path.abspath(os.path.join(project_directory))\n",
    "\n",
    "#Add the project path to the system path if necessesary, to be able to load modules from subdirectories\n",
    "if project_path not in sys.path:\n",
    "    sys.path.append(project_path)"
   ]
  },
  {
   "cell_type": "code",
   "execution_count": 4,
   "metadata": {},
   "outputs": [
    {
     "name": "stderr",
     "output_type": "stream",
     "text": [
      "Using TensorFlow backend.\n"
     ]
    }
   ],
   "source": [
    "import src.image_manager as im\n",
    "import src.image_classifier as ic\n",
    "import src.model_eval as meval"
   ]
  },
  {
   "cell_type": "markdown",
   "metadata": {},
   "source": [
    "## Load the features dataframe, and pull out features (X) and labels (y)"
   ]
  },
  {
   "cell_type": "code",
   "execution_count": 5,
   "metadata": {
    "collapsed": true
   },
   "outputs": [],
   "source": [
    "feature_df_path = os.path.join(project_path, 'data', 'features_3species_20180514.csv')"
   ]
  },
  {
   "cell_type": "code",
   "execution_count": 6,
   "metadata": {},
   "outputs": [
    {
     "data": {
      "text/html": [
       "<div>\n",
       "<style scoped>\n",
       "    .dataframe tbody tr th:only-of-type {\n",
       "        vertical-align: middle;\n",
       "    }\n",
       "\n",
       "    .dataframe tbody tr th {\n",
       "        vertical-align: top;\n",
       "    }\n",
       "\n",
       "    .dataframe thead th {\n",
       "        text-align: right;\n",
       "    }\n",
       "</style>\n",
       "<table border=\"1\" class=\"dataframe\">\n",
       "  <thead>\n",
       "    <tr style=\"text-align: right;\">\n",
       "      <th></th>\n",
       "      <th>p_hash</th>\n",
       "      <th>filename</th>\n",
       "      <th>folder</th>\n",
       "      <th>incv3_out_0</th>\n",
       "      <th>incv3_out_1</th>\n",
       "      <th>incv3_out_2</th>\n",
       "      <th>incv3_out_3</th>\n",
       "      <th>incv3_out_4</th>\n",
       "      <th>incv3_out_5</th>\n",
       "      <th>incv3_out_6</th>\n",
       "      <th>...</th>\n",
       "      <th>incv3_out_2038</th>\n",
       "      <th>incv3_out_2039</th>\n",
       "      <th>incv3_out_2040</th>\n",
       "      <th>incv3_out_2041</th>\n",
       "      <th>incv3_out_2042</th>\n",
       "      <th>incv3_out_2043</th>\n",
       "      <th>incv3_out_2044</th>\n",
       "      <th>incv3_out_2045</th>\n",
       "      <th>incv3_out_2046</th>\n",
       "      <th>incv3_out_2047</th>\n",
       "    </tr>\n",
       "  </thead>\n",
       "  <tbody>\n",
       "    <tr>\n",
       "      <th>0</th>\n",
       "      <td>9bb759cb29b01a25</td>\n",
       "      <td>image_bigleaf_maple_57.png</td>\n",
       "      <td>acer_macrophyllum</td>\n",
       "      <td>0.180042</td>\n",
       "      <td>0.057599</td>\n",
       "      <td>0.632024</td>\n",
       "      <td>0.021612</td>\n",
       "      <td>0.297033</td>\n",
       "      <td>0.011966</td>\n",
       "      <td>0.903157</td>\n",
       "      <td>...</td>\n",
       "      <td>0.360490</td>\n",
       "      <td>0.009282</td>\n",
       "      <td>0.055258</td>\n",
       "      <td>0.110056</td>\n",
       "      <td>0.058888</td>\n",
       "      <td>0.201237</td>\n",
       "      <td>0.198077</td>\n",
       "      <td>1.394304</td>\n",
       "      <td>0.155102</td>\n",
       "      <td>0.000000</td>\n",
       "    </tr>\n",
       "    <tr>\n",
       "      <th>1</th>\n",
       "      <td>99c20b3b74d53de0</td>\n",
       "      <td>image_bigleaf_maple_43.png</td>\n",
       "      <td>acer_macrophyllum</td>\n",
       "      <td>0.667066</td>\n",
       "      <td>0.249269</td>\n",
       "      <td>0.074132</td>\n",
       "      <td>0.177577</td>\n",
       "      <td>0.520580</td>\n",
       "      <td>0.167225</td>\n",
       "      <td>0.233005</td>\n",
       "      <td>...</td>\n",
       "      <td>1.446164</td>\n",
       "      <td>0.920353</td>\n",
       "      <td>0.823285</td>\n",
       "      <td>0.617185</td>\n",
       "      <td>0.121126</td>\n",
       "      <td>0.065866</td>\n",
       "      <td>0.876259</td>\n",
       "      <td>0.226926</td>\n",
       "      <td>0.274808</td>\n",
       "      <td>0.000000</td>\n",
       "    </tr>\n",
       "    <tr>\n",
       "      <th>2</th>\n",
       "      <td>a1e1e0d4e646e765</td>\n",
       "      <td>image_big_leaf_maple_bark_48.png</td>\n",
       "      <td>acer_macrophyllum</td>\n",
       "      <td>0.159188</td>\n",
       "      <td>0.011783</td>\n",
       "      <td>0.187351</td>\n",
       "      <td>0.211521</td>\n",
       "      <td>0.466182</td>\n",
       "      <td>0.387081</td>\n",
       "      <td>0.217815</td>\n",
       "      <td>...</td>\n",
       "      <td>1.198391</td>\n",
       "      <td>0.460702</td>\n",
       "      <td>0.157247</td>\n",
       "      <td>0.267633</td>\n",
       "      <td>0.006349</td>\n",
       "      <td>0.466702</td>\n",
       "      <td>0.641492</td>\n",
       "      <td>1.066418</td>\n",
       "      <td>0.145887</td>\n",
       "      <td>0.223863</td>\n",
       "    </tr>\n",
       "    <tr>\n",
       "      <th>3</th>\n",
       "      <td>abee94c19cb28b0e</td>\n",
       "      <td>image_acer_macrophylum_tree_49.png</td>\n",
       "      <td>acer_macrophyllum</td>\n",
       "      <td>0.658278</td>\n",
       "      <td>0.010192</td>\n",
       "      <td>0.344359</td>\n",
       "      <td>0.192652</td>\n",
       "      <td>0.342696</td>\n",
       "      <td>0.362848</td>\n",
       "      <td>0.562928</td>\n",
       "      <td>...</td>\n",
       "      <td>0.257585</td>\n",
       "      <td>0.077631</td>\n",
       "      <td>0.057183</td>\n",
       "      <td>0.411228</td>\n",
       "      <td>0.417154</td>\n",
       "      <td>0.048589</td>\n",
       "      <td>0.421282</td>\n",
       "      <td>0.057896</td>\n",
       "      <td>0.325496</td>\n",
       "      <td>0.145896</td>\n",
       "    </tr>\n",
       "    <tr>\n",
       "      <th>4</th>\n",
       "      <td>d3c161631f2b4b4e</td>\n",
       "      <td>image_bigleaf_maple_94.png</td>\n",
       "      <td>acer_macrophyllum</td>\n",
       "      <td>0.056695</td>\n",
       "      <td>0.255299</td>\n",
       "      <td>0.407071</td>\n",
       "      <td>0.066481</td>\n",
       "      <td>0.000076</td>\n",
       "      <td>0.568202</td>\n",
       "      <td>0.362414</td>\n",
       "      <td>...</td>\n",
       "      <td>1.289151</td>\n",
       "      <td>0.578341</td>\n",
       "      <td>0.963826</td>\n",
       "      <td>0.028785</td>\n",
       "      <td>0.310883</td>\n",
       "      <td>0.001386</td>\n",
       "      <td>1.154405</td>\n",
       "      <td>0.034431</td>\n",
       "      <td>0.768076</td>\n",
       "      <td>0.217323</td>\n",
       "    </tr>\n",
       "  </tbody>\n",
       "</table>\n",
       "<p>5 rows × 2051 columns</p>\n",
       "</div>"
      ],
      "text/plain": [
       "             p_hash                            filename             folder  \\\n",
       "0  9bb759cb29b01a25          image_bigleaf_maple_57.png  acer_macrophyllum   \n",
       "1  99c20b3b74d53de0          image_bigleaf_maple_43.png  acer_macrophyllum   \n",
       "2  a1e1e0d4e646e765    image_big_leaf_maple_bark_48.png  acer_macrophyllum   \n",
       "3  abee94c19cb28b0e  image_acer_macrophylum_tree_49.png  acer_macrophyllum   \n",
       "4  d3c161631f2b4b4e          image_bigleaf_maple_94.png  acer_macrophyllum   \n",
       "\n",
       "   incv3_out_0  incv3_out_1  incv3_out_2  incv3_out_3  incv3_out_4  \\\n",
       "0     0.180042     0.057599     0.632024     0.021612     0.297033   \n",
       "1     0.667066     0.249269     0.074132     0.177577     0.520580   \n",
       "2     0.159188     0.011783     0.187351     0.211521     0.466182   \n",
       "3     0.658278     0.010192     0.344359     0.192652     0.342696   \n",
       "4     0.056695     0.255299     0.407071     0.066481     0.000076   \n",
       "\n",
       "   incv3_out_5  incv3_out_6       ...        incv3_out_2038  incv3_out_2039  \\\n",
       "0     0.011966     0.903157       ...              0.360490        0.009282   \n",
       "1     0.167225     0.233005       ...              1.446164        0.920353   \n",
       "2     0.387081     0.217815       ...              1.198391        0.460702   \n",
       "3     0.362848     0.562928       ...              0.257585        0.077631   \n",
       "4     0.568202     0.362414       ...              1.289151        0.578341   \n",
       "\n",
       "   incv3_out_2040  incv3_out_2041  incv3_out_2042  incv3_out_2043  \\\n",
       "0        0.055258        0.110056        0.058888        0.201237   \n",
       "1        0.823285        0.617185        0.121126        0.065866   \n",
       "2        0.157247        0.267633        0.006349        0.466702   \n",
       "3        0.057183        0.411228        0.417154        0.048589   \n",
       "4        0.963826        0.028785        0.310883        0.001386   \n",
       "\n",
       "   incv3_out_2044  incv3_out_2045  incv3_out_2046  incv3_out_2047  \n",
       "0        0.198077        1.394304        0.155102        0.000000  \n",
       "1        0.876259        0.226926        0.274808        0.000000  \n",
       "2        0.641492        1.066418        0.145887        0.223863  \n",
       "3        0.421282        0.057896        0.325496        0.145896  \n",
       "4        1.154405        0.034431        0.768076        0.217323  \n",
       "\n",
       "[5 rows x 2051 columns]"
      ]
     },
     "execution_count": 6,
     "metadata": {},
     "output_type": "execute_result"
    }
   ],
   "source": [
    "tree_features_df = im.load_df(feature_df_path)\n",
    "tree_features_df.head()"
   ]
  },
  {
   "cell_type": "code",
   "execution_count": 31,
   "metadata": {
    "collapsed": true
   },
   "outputs": [],
   "source": [
    "X = tree_features_df.drop(['p_hash', 'filename', 'folder'], axis=1)\n",
    "y = pd.get_dummies(tree_features_df['folder'])"
   ]
  },
  {
   "cell_type": "code",
   "execution_count": 60,
   "metadata": {},
   "outputs": [
    {
     "data": {
      "text/html": [
       "<div>\n",
       "<style scoped>\n",
       "    .dataframe tbody tr th:only-of-type {\n",
       "        vertical-align: middle;\n",
       "    }\n",
       "\n",
       "    .dataframe tbody tr th {\n",
       "        vertical-align: top;\n",
       "    }\n",
       "\n",
       "    .dataframe thead th {\n",
       "        text-align: right;\n",
       "    }\n",
       "</style>\n",
       "<table border=\"1\" class=\"dataframe\">\n",
       "  <thead>\n",
       "    <tr style=\"text-align: right;\">\n",
       "      <th></th>\n",
       "      <th>incv3_out_0</th>\n",
       "      <th>incv3_out_1</th>\n",
       "      <th>incv3_out_2</th>\n",
       "      <th>incv3_out_3</th>\n",
       "      <th>incv3_out_4</th>\n",
       "      <th>incv3_out_5</th>\n",
       "      <th>incv3_out_6</th>\n",
       "      <th>incv3_out_7</th>\n",
       "      <th>incv3_out_8</th>\n",
       "      <th>incv3_out_9</th>\n",
       "      <th>...</th>\n",
       "      <th>incv3_out_2038</th>\n",
       "      <th>incv3_out_2039</th>\n",
       "      <th>incv3_out_2040</th>\n",
       "      <th>incv3_out_2041</th>\n",
       "      <th>incv3_out_2042</th>\n",
       "      <th>incv3_out_2043</th>\n",
       "      <th>incv3_out_2044</th>\n",
       "      <th>incv3_out_2045</th>\n",
       "      <th>incv3_out_2046</th>\n",
       "      <th>incv3_out_2047</th>\n",
       "    </tr>\n",
       "  </thead>\n",
       "  <tbody>\n",
       "    <tr>\n",
       "      <th>0</th>\n",
       "      <td>0.180042</td>\n",
       "      <td>0.057599</td>\n",
       "      <td>0.632024</td>\n",
       "      <td>0.021612</td>\n",
       "      <td>0.297033</td>\n",
       "      <td>0.011966</td>\n",
       "      <td>0.903157</td>\n",
       "      <td>1.185745</td>\n",
       "      <td>0.705980</td>\n",
       "      <td>0.150624</td>\n",
       "      <td>...</td>\n",
       "      <td>0.360490</td>\n",
       "      <td>0.009282</td>\n",
       "      <td>0.055258</td>\n",
       "      <td>0.110056</td>\n",
       "      <td>0.058888</td>\n",
       "      <td>0.201237</td>\n",
       "      <td>0.198077</td>\n",
       "      <td>1.394304</td>\n",
       "      <td>0.155102</td>\n",
       "      <td>0.000000</td>\n",
       "    </tr>\n",
       "    <tr>\n",
       "      <th>1</th>\n",
       "      <td>0.667066</td>\n",
       "      <td>0.249269</td>\n",
       "      <td>0.074132</td>\n",
       "      <td>0.177577</td>\n",
       "      <td>0.520580</td>\n",
       "      <td>0.167225</td>\n",
       "      <td>0.233005</td>\n",
       "      <td>1.123716</td>\n",
       "      <td>0.544970</td>\n",
       "      <td>0.793712</td>\n",
       "      <td>...</td>\n",
       "      <td>1.446164</td>\n",
       "      <td>0.920353</td>\n",
       "      <td>0.823285</td>\n",
       "      <td>0.617185</td>\n",
       "      <td>0.121126</td>\n",
       "      <td>0.065866</td>\n",
       "      <td>0.876259</td>\n",
       "      <td>0.226926</td>\n",
       "      <td>0.274808</td>\n",
       "      <td>0.000000</td>\n",
       "    </tr>\n",
       "    <tr>\n",
       "      <th>2</th>\n",
       "      <td>0.159188</td>\n",
       "      <td>0.011783</td>\n",
       "      <td>0.187351</td>\n",
       "      <td>0.211521</td>\n",
       "      <td>0.466182</td>\n",
       "      <td>0.387081</td>\n",
       "      <td>0.217815</td>\n",
       "      <td>0.470900</td>\n",
       "      <td>0.553186</td>\n",
       "      <td>0.176517</td>\n",
       "      <td>...</td>\n",
       "      <td>1.198391</td>\n",
       "      <td>0.460702</td>\n",
       "      <td>0.157247</td>\n",
       "      <td>0.267633</td>\n",
       "      <td>0.006349</td>\n",
       "      <td>0.466702</td>\n",
       "      <td>0.641492</td>\n",
       "      <td>1.066418</td>\n",
       "      <td>0.145887</td>\n",
       "      <td>0.223863</td>\n",
       "    </tr>\n",
       "    <tr>\n",
       "      <th>3</th>\n",
       "      <td>0.658278</td>\n",
       "      <td>0.010192</td>\n",
       "      <td>0.344359</td>\n",
       "      <td>0.192652</td>\n",
       "      <td>0.342696</td>\n",
       "      <td>0.362848</td>\n",
       "      <td>0.562928</td>\n",
       "      <td>0.133620</td>\n",
       "      <td>0.420587</td>\n",
       "      <td>0.228698</td>\n",
       "      <td>...</td>\n",
       "      <td>0.257585</td>\n",
       "      <td>0.077631</td>\n",
       "      <td>0.057183</td>\n",
       "      <td>0.411228</td>\n",
       "      <td>0.417154</td>\n",
       "      <td>0.048589</td>\n",
       "      <td>0.421282</td>\n",
       "      <td>0.057896</td>\n",
       "      <td>0.325496</td>\n",
       "      <td>0.145896</td>\n",
       "    </tr>\n",
       "    <tr>\n",
       "      <th>4</th>\n",
       "      <td>0.056695</td>\n",
       "      <td>0.255299</td>\n",
       "      <td>0.407071</td>\n",
       "      <td>0.066481</td>\n",
       "      <td>0.000076</td>\n",
       "      <td>0.568202</td>\n",
       "      <td>0.362414</td>\n",
       "      <td>0.189681</td>\n",
       "      <td>0.153133</td>\n",
       "      <td>0.169399</td>\n",
       "      <td>...</td>\n",
       "      <td>1.289151</td>\n",
       "      <td>0.578341</td>\n",
       "      <td>0.963826</td>\n",
       "      <td>0.028785</td>\n",
       "      <td>0.310883</td>\n",
       "      <td>0.001386</td>\n",
       "      <td>1.154405</td>\n",
       "      <td>0.034431</td>\n",
       "      <td>0.768076</td>\n",
       "      <td>0.217323</td>\n",
       "    </tr>\n",
       "  </tbody>\n",
       "</table>\n",
       "<p>5 rows × 2048 columns</p>\n",
       "</div>"
      ],
      "text/plain": [
       "   incv3_out_0  incv3_out_1  incv3_out_2  incv3_out_3  incv3_out_4  \\\n",
       "0     0.180042     0.057599     0.632024     0.021612     0.297033   \n",
       "1     0.667066     0.249269     0.074132     0.177577     0.520580   \n",
       "2     0.159188     0.011783     0.187351     0.211521     0.466182   \n",
       "3     0.658278     0.010192     0.344359     0.192652     0.342696   \n",
       "4     0.056695     0.255299     0.407071     0.066481     0.000076   \n",
       "\n",
       "   incv3_out_5  incv3_out_6  incv3_out_7  incv3_out_8  incv3_out_9  \\\n",
       "0     0.011966     0.903157     1.185745     0.705980     0.150624   \n",
       "1     0.167225     0.233005     1.123716     0.544970     0.793712   \n",
       "2     0.387081     0.217815     0.470900     0.553186     0.176517   \n",
       "3     0.362848     0.562928     0.133620     0.420587     0.228698   \n",
       "4     0.568202     0.362414     0.189681     0.153133     0.169399   \n",
       "\n",
       "        ...        incv3_out_2038  incv3_out_2039  incv3_out_2040  \\\n",
       "0       ...              0.360490        0.009282        0.055258   \n",
       "1       ...              1.446164        0.920353        0.823285   \n",
       "2       ...              1.198391        0.460702        0.157247   \n",
       "3       ...              0.257585        0.077631        0.057183   \n",
       "4       ...              1.289151        0.578341        0.963826   \n",
       "\n",
       "   incv3_out_2041  incv3_out_2042  incv3_out_2043  incv3_out_2044  \\\n",
       "0        0.110056        0.058888        0.201237        0.198077   \n",
       "1        0.617185        0.121126        0.065866        0.876259   \n",
       "2        0.267633        0.006349        0.466702        0.641492   \n",
       "3        0.411228        0.417154        0.048589        0.421282   \n",
       "4        0.028785        0.310883        0.001386        1.154405   \n",
       "\n",
       "   incv3_out_2045  incv3_out_2046  incv3_out_2047  \n",
       "0        1.394304        0.155102        0.000000  \n",
       "1        0.226926        0.274808        0.000000  \n",
       "2        1.066418        0.145887        0.223863  \n",
       "3        0.057896        0.325496        0.145896  \n",
       "4        0.034431        0.768076        0.217323  \n",
       "\n",
       "[5 rows x 2048 columns]"
      ]
     },
     "execution_count": 60,
     "metadata": {},
     "output_type": "execute_result"
    }
   ],
   "source": [
    "X.head()"
   ]
  },
  {
   "cell_type": "code",
   "execution_count": 32,
   "metadata": {},
   "outputs": [
    {
     "data": {
      "text/html": [
       "<div>\n",
       "<style scoped>\n",
       "    .dataframe tbody tr th:only-of-type {\n",
       "        vertical-align: middle;\n",
       "    }\n",
       "\n",
       "    .dataframe tbody tr th {\n",
       "        vertical-align: top;\n",
       "    }\n",
       "\n",
       "    .dataframe thead th {\n",
       "        text-align: right;\n",
       "    }\n",
       "</style>\n",
       "<table border=\"1\" class=\"dataframe\">\n",
       "  <thead>\n",
       "    <tr style=\"text-align: right;\">\n",
       "      <th></th>\n",
       "      <th>acer_macrophyllum</th>\n",
       "      <th>picea_sitchensis</th>\n",
       "      <th>platanus_acerifolia</th>\n",
       "    </tr>\n",
       "  </thead>\n",
       "  <tbody>\n",
       "    <tr>\n",
       "      <th>0</th>\n",
       "      <td>1</td>\n",
       "      <td>0</td>\n",
       "      <td>0</td>\n",
       "    </tr>\n",
       "    <tr>\n",
       "      <th>1</th>\n",
       "      <td>1</td>\n",
       "      <td>0</td>\n",
       "      <td>0</td>\n",
       "    </tr>\n",
       "    <tr>\n",
       "      <th>2</th>\n",
       "      <td>1</td>\n",
       "      <td>0</td>\n",
       "      <td>0</td>\n",
       "    </tr>\n",
       "    <tr>\n",
       "      <th>3</th>\n",
       "      <td>1</td>\n",
       "      <td>0</td>\n",
       "      <td>0</td>\n",
       "    </tr>\n",
       "    <tr>\n",
       "      <th>4</th>\n",
       "      <td>1</td>\n",
       "      <td>0</td>\n",
       "      <td>0</td>\n",
       "    </tr>\n",
       "  </tbody>\n",
       "</table>\n",
       "</div>"
      ],
      "text/plain": [
       "   acer_macrophyllum  picea_sitchensis  platanus_acerifolia\n",
       "0                  1                 0                    0\n",
       "1                  1                 0                    0\n",
       "2                  1                 0                    0\n",
       "3                  1                 0                    0\n",
       "4                  1                 0                    0"
      ]
     },
     "execution_count": 32,
     "metadata": {},
     "output_type": "execute_result"
    }
   ],
   "source": [
    "y.head()"
   ]
  },
  {
   "cell_type": "markdown",
   "metadata": {},
   "source": [
    "## Create an image classifier which will create a neural network"
   ]
  },
  {
   "cell_type": "code",
   "execution_count": 13,
   "metadata": {},
   "outputs": [],
   "source": [
    "classifier = ic.ImageClassifier()"
   ]
  },
  {
   "cell_type": "markdown",
   "metadata": {},
   "source": [
    "### Figure out how to pass input_shape to the Sequential model in Keras"
   ]
  },
  {
   "cell_type": "code",
   "execution_count": 20,
   "metadata": {},
   "outputs": [
    {
     "data": {
      "text/plain": [
       "TensorShape([Dimension(None), Dimension(2048)])"
      ]
     },
     "execution_count": 20,
     "metadata": {},
     "output_type": "execute_result"
    }
   ],
   "source": [
    "thing = classifier.feature_extractor.output.shape\n",
    "thing"
   ]
  },
  {
   "cell_type": "code",
   "execution_count": 25,
   "metadata": {},
   "outputs": [
    {
     "data": {
      "text/plain": [
       "(None, 2048)"
      ]
     },
     "execution_count": 25,
     "metadata": {},
     "output_type": "execute_result"
    }
   ],
   "source": [
    "#Ok, this does it. See simple_nn_model() in ImageClassifier class\n",
    "tuple(thing.as_list())"
   ]
  },
  {
   "cell_type": "code",
   "execution_count": 82,
   "metadata": {},
   "outputs": [],
   "source": [
    "nn_model = classifier.simple_nn_model(num_categories=3)"
   ]
  },
  {
   "cell_type": "code",
   "execution_count": 83,
   "metadata": {},
   "outputs": [
    {
     "name": "stdout",
     "output_type": "stream",
     "text": [
      "Train on 1311 samples, validate on 328 samples\n",
      "Epoch 1/18\n",
      "1311/1311 [==============================] - 4s 3ms/step - loss: 2.1647 - acc: 0.7124 - categorical_accuracy: 0.7124 - top_k_categorical_accuracy: 1.0000 - val_loss: 4.6454 - val_acc: 0.0518 - val_categorical_accuracy: 0.0518 - val_top_k_categorical_accuracy: 1.0000\n",
      "Epoch 2/18\n",
      "1311/1311 [==============================] - 1s 825us/step - loss: 1.6445 - acc: 0.8841 - categorical_accuracy: 0.8841 - top_k_categorical_accuracy: 1.0000 - val_loss: 2.7569 - val_acc: 0.4726 - val_categorical_accuracy: 0.4726 - val_top_k_categorical_accuracy: 1.0000\n",
      "Epoch 3/18\n",
      "1311/1311 [==============================] - 1s 832us/step - loss: 1.5173 - acc: 0.9115 - categorical_accuracy: 0.9115 - top_k_categorical_accuracy: 1.0000 - val_loss: 2.6252 - val_acc: 0.5061 - val_categorical_accuracy: 0.5061 - val_top_k_categorical_accuracy: 1.0000\n",
      "Epoch 4/18\n",
      "1311/1311 [==============================] - 1s 834us/step - loss: 1.3873 - acc: 0.9428 - categorical_accuracy: 0.9428 - top_k_categorical_accuracy: 1.0000 - val_loss: 3.2004 - val_acc: 0.2988 - val_categorical_accuracy: 0.2988 - val_top_k_categorical_accuracy: 1.0000\n",
      "Epoch 5/18\n",
      "1311/1311 [==============================] - 1s 836us/step - loss: 1.2890 - acc: 0.9481 - categorical_accuracy: 0.9481 - top_k_categorical_accuracy: 1.0000 - val_loss: 2.9027 - val_acc: 0.4360 - val_categorical_accuracy: 0.4360 - val_top_k_categorical_accuracy: 1.0000\n",
      "Epoch 6/18\n",
      "1311/1311 [==============================] - 1s 839us/step - loss: 1.1876 - acc: 0.9649 - categorical_accuracy: 0.9649 - top_k_categorical_accuracy: 1.0000 - val_loss: 2.5678 - val_acc: 0.4573 - val_categorical_accuracy: 0.4573 - val_top_k_categorical_accuracy: 1.0000\n",
      "Epoch 7/18\n",
      "1311/1311 [==============================] - 1s 889us/step - loss: 1.1032 - acc: 0.9687 - categorical_accuracy: 0.9687 - top_k_categorical_accuracy: 1.0000 - val_loss: 2.9743 - val_acc: 0.4055 - val_categorical_accuracy: 0.4055 - val_top_k_categorical_accuracy: 1.0000\n",
      "Epoch 8/18\n",
      "1311/1311 [==============================] - 1s 913us/step - loss: 1.0285 - acc: 0.9725 - categorical_accuracy: 0.9725 - top_k_categorical_accuracy: 1.0000 - val_loss: 3.4273 - val_acc: 0.3049 - val_categorical_accuracy: 0.3049 - val_top_k_categorical_accuracy: 1.0000\n",
      "Epoch 9/18\n",
      "1311/1311 [==============================] - 1s 1ms/step - loss: 0.9520 - acc: 0.9840 - categorical_accuracy: 0.9840 - top_k_categorical_accuracy: 1.0000 - val_loss: 3.5538 - val_acc: 0.2927 - val_categorical_accuracy: 0.2927 - val_top_k_categorical_accuracy: 1.0000\n",
      "Epoch 10/18\n",
      "1311/1311 [==============================] - 1s 967us/step - loss: 0.9025 - acc: 0.9786 - categorical_accuracy: 0.9786 - top_k_categorical_accuracy: 1.0000 - val_loss: 3.0622 - val_acc: 0.3415 - val_categorical_accuracy: 0.3415 - val_top_k_categorical_accuracy: 1.0000\n",
      "Epoch 11/18\n",
      "1311/1311 [==============================] - 1s 920us/step - loss: 0.8606 - acc: 0.9741 - categorical_accuracy: 0.9741 - top_k_categorical_accuracy: 1.0000 - val_loss: 2.7136 - val_acc: 0.4177 - val_categorical_accuracy: 0.4177 - val_top_k_categorical_accuracy: 1.0000\n",
      "Epoch 12/18\n",
      "1311/1311 [==============================] - 1s 945us/step - loss: 0.8383 - acc: 0.9725 - categorical_accuracy: 0.9725 - top_k_categorical_accuracy: 1.0000 - val_loss: 1.6202 - val_acc: 0.7287 - val_categorical_accuracy: 0.7287 - val_top_k_categorical_accuracy: 1.0000\n",
      "Epoch 13/18\n",
      "1311/1311 [==============================] - 1s 857us/step - loss: 0.8075 - acc: 0.9672 - categorical_accuracy: 0.9672 - top_k_categorical_accuracy: 1.0000 - val_loss: 2.0726 - val_acc: 0.6098 - val_categorical_accuracy: 0.6098 - val_top_k_categorical_accuracy: 1.0000\n",
      "Epoch 14/18\n",
      "1311/1311 [==============================] - 1s 841us/step - loss: 0.7629 - acc: 0.9771 - categorical_accuracy: 0.9771 - top_k_categorical_accuracy: 1.0000 - val_loss: 2.2279 - val_acc: 0.5366 - val_categorical_accuracy: 0.5366 - val_top_k_categorical_accuracy: 1.0000\n",
      "Epoch 15/18\n",
      "1311/1311 [==============================] - 1s 834us/step - loss: 0.7281 - acc: 0.9794 - categorical_accuracy: 0.9794 - top_k_categorical_accuracy: 1.0000 - val_loss: 2.2832 - val_acc: 0.5213 - val_categorical_accuracy: 0.5213 - val_top_k_categorical_accuracy: 1.0000\n",
      "Epoch 16/18\n",
      "1311/1311 [==============================] - 1s 918us/step - loss: 0.6761 - acc: 0.9855 - categorical_accuracy: 0.9855 - top_k_categorical_accuracy: 1.0000 - val_loss: 2.2059 - val_acc: 0.5518 - val_categorical_accuracy: 0.5518 - val_top_k_categorical_accuracy: 1.0000\n",
      "Epoch 17/18\n",
      "1311/1311 [==============================] - 1s 902us/step - loss: 0.6496 - acc: 0.9863 - categorical_accuracy: 0.9863 - top_k_categorical_accuracy: 1.0000 - val_loss: 2.2643 - val_acc: 0.5091 - val_categorical_accuracy: 0.5091 - val_top_k_categorical_accuracy: 1.0000\n",
      "Epoch 18/18\n",
      "1311/1311 [==============================] - 1s 851us/step - loss: 0.6063 - acc: 0.9901 - categorical_accuracy: 0.9901 - top_k_categorical_accuracy: 1.0000 - val_loss: 1.9614 - val_acc: 0.5549 - val_categorical_accuracy: 0.5549 - val_top_k_categorical_accuracy: 1.0000\n"
     ]
    },
    {
     "data": {
      "text/plain": [
       "<keras.callbacks.History at 0x1698fca58>"
      ]
     },
     "execution_count": 83,
     "metadata": {},
     "output_type": "execute_result"
    }
   ],
   "source": [
    "nn_model.fit(X.values, y.values, validation_split=0.2, epochs=18, batch_size=100, verbose=1)"
   ]
  },
  {
   "cell_type": "code",
   "execution_count": 84,
   "metadata": {},
   "outputs": [
    {
     "name": "stdout",
     "output_type": "stream",
     "text": [
      "Train on 1311 samples, validate on 328 samples\n",
      "Epoch 1/10\n",
      "1311/1311 [==============================] - 3s 2ms/step - loss: 0.7265 - acc: 0.9352 - categorical_accuracy: 0.9352 - top_k_categorical_accuracy: 1.0000 - val_loss: 2.0402 - val_acc: 0.6128 - val_categorical_accuracy: 0.6128 - val_top_k_categorical_accuracy: 1.0000\n",
      "Epoch 2/10\n",
      "1311/1311 [==============================] - 3s 2ms/step - loss: 0.8275 - acc: 0.9085 - categorical_accuracy: 0.9085 - top_k_categorical_accuracy: 1.0000 - val_loss: 3.5936 - val_acc: 0.3872 - val_categorical_accuracy: 0.3872 - val_top_k_categorical_accuracy: 1.0000\n",
      "Epoch 3/10\n",
      "1311/1311 [==============================] - 3s 2ms/step - loss: 0.7285 - acc: 0.9397 - categorical_accuracy: 0.9397 - top_k_categorical_accuracy: 1.0000 - val_loss: 1.9706 - val_acc: 0.6463 - val_categorical_accuracy: 0.6463 - val_top_k_categorical_accuracy: 1.0000\n",
      "Epoch 4/10\n",
      "1311/1311 [==============================] - 3s 2ms/step - loss: 0.7153 - acc: 0.9314 - categorical_accuracy: 0.9314 - top_k_categorical_accuracy: 1.0000 - val_loss: 2.3709 - val_acc: 0.6159 - val_categorical_accuracy: 0.6159 - val_top_k_categorical_accuracy: 1.0000\n",
      "Epoch 5/10\n",
      "1311/1311 [==============================] - 3s 2ms/step - loss: 0.5974 - acc: 0.9657 - categorical_accuracy: 0.9657 - top_k_categorical_accuracy: 1.0000 - val_loss: 3.1003 - val_acc: 0.3841 - val_categorical_accuracy: 0.3841 - val_top_k_categorical_accuracy: 1.0000\n",
      "Epoch 6/10\n",
      "1311/1311 [==============================] - 3s 2ms/step - loss: 0.5730 - acc: 0.9596 - categorical_accuracy: 0.9596 - top_k_categorical_accuracy: 1.0000 - val_loss: 3.1171 - val_acc: 0.3598 - val_categorical_accuracy: 0.3598 - val_top_k_categorical_accuracy: 1.0000\n",
      "Epoch 7/10\n",
      "1311/1311 [==============================] - 3s 2ms/step - loss: 0.5815 - acc: 0.9443 - categorical_accuracy: 0.9443 - top_k_categorical_accuracy: 1.0000 - val_loss: 2.3173 - val_acc: 0.5213 - val_categorical_accuracy: 0.5213 - val_top_k_categorical_accuracy: 1.0000\n",
      "Epoch 8/10\n",
      "1311/1311 [==============================] - 3s 2ms/step - loss: 0.5447 - acc: 0.9535 - categorical_accuracy: 0.9535 - top_k_categorical_accuracy: 1.0000 - val_loss: 2.2202 - val_acc: 0.5183 - val_categorical_accuracy: 0.5183 - val_top_k_categorical_accuracy: 1.0000\n",
      "Epoch 9/10\n",
      "1311/1311 [==============================] - 3s 2ms/step - loss: 0.5574 - acc: 0.9413 - categorical_accuracy: 0.9413 - top_k_categorical_accuracy: 1.0000 - val_loss: 1.7244 - val_acc: 0.6372 - val_categorical_accuracy: 0.6372 - val_top_k_categorical_accuracy: 1.0000\n",
      "Epoch 10/10\n",
      "1311/1311 [==============================] - 3s 2ms/step - loss: 0.5940 - acc: 0.9382 - categorical_accuracy: 0.9382 - top_k_categorical_accuracy: 1.0000 - val_loss: 1.6425 - val_acc: 0.7195 - val_categorical_accuracy: 0.7195 - val_top_k_categorical_accuracy: 1.0000\n"
     ]
    },
    {
     "data": {
      "text/plain": [
       "<keras.callbacks.History at 0x16dbb5e10>"
      ]
     },
     "execution_count": 84,
     "metadata": {},
     "output_type": "execute_result"
    }
   ],
   "source": [
    "nn_model.fit(X.values, y.values, validation_split=0.2, epochs=10, verbose=1)"
   ]
  },
  {
   "cell_type": "code",
   "execution_count": 49,
   "metadata": {},
   "outputs": [
    {
     "data": {
      "text/plain": [
       "1311.2"
      ]
     },
     "execution_count": 49,
     "metadata": {},
     "output_type": "execute_result"
    }
   ],
   "source": [
    ".8*1639"
   ]
  },
  {
   "cell_type": "code",
   "execution_count": 50,
   "metadata": {},
   "outputs": [
    {
     "data": {
      "text/plain": [
       "327.8"
      ]
     },
     "execution_count": 50,
     "metadata": {},
     "output_type": "execute_result"
    }
   ],
   "source": [
    ".2*1639"
   ]
  },
  {
   "cell_type": "code",
   "execution_count": 52,
   "metadata": {},
   "outputs": [
    {
     "data": {
      "text/plain": [
       "0.52204577676101604"
      ]
     },
     "execution_count": 52,
     "metadata": {},
     "output_type": "execute_result"
    }
   ],
   "source": [
    "np.exp(-0.65)"
   ]
  },
  {
   "cell_type": "code",
   "execution_count": null,
   "metadata": {
    "collapsed": true
   },
   "outputs": [],
   "source": []
  }
 ],
 "metadata": {
  "kernelspec": {
   "display_name": "Python 3",
   "language": "python",
   "name": "python3"
  },
  "language_info": {
   "codemirror_mode": {
    "name": "ipython",
    "version": 3
   },
   "file_extension": ".py",
   "mimetype": "text/x-python",
   "name": "python",
   "nbconvert_exporter": "python",
   "pygments_lexer": "ipython3",
   "version": "3.6.3"
  }
 },
 "nbformat": 4,
 "nbformat_minor": 2
}
