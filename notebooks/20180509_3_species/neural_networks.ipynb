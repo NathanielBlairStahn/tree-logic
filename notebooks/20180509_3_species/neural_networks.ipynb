{
 "cells": [
  {
   "cell_type": "markdown",
   "metadata": {},
   "source": [
    "# Train a neural network on 3 original species\n",
    "\n",
    "Wednesday, May 16, 2018"
   ]
  },
  {
   "cell_type": "code",
   "execution_count": 1,
   "metadata": {
    "collapsed": true
   },
   "outputs": [],
   "source": [
    "%load_ext autoreload\n",
    "%autoreload 2"
   ]
  },
  {
   "cell_type": "code",
   "execution_count": 2,
   "metadata": {
    "collapsed": true
   },
   "outputs": [],
   "source": [
    "import numpy as np\n",
    "import pandas as pd\n",
    "\n",
    "from sklearn.model_selection import train_test_split"
   ]
  },
  {
   "cell_type": "code",
   "execution_count": 3,
   "metadata": {
    "collapsed": true
   },
   "outputs": [],
   "source": [
    "import os\n",
    "import sys\n",
    "\n",
    "#Store the relative and absolute path to the home directory of the project\n",
    "project_directory = '../..'\n",
    "project_path = os.path.abspath(os.path.join(project_directory))\n",
    "\n",
    "#Add the project path to the system path if necessesary, to be able to load modules from subdirectories\n",
    "if project_path not in sys.path:\n",
    "    sys.path.append(project_path)"
   ]
  },
  {
   "cell_type": "code",
   "execution_count": 4,
   "metadata": {},
   "outputs": [
    {
     "name": "stderr",
     "output_type": "stream",
     "text": [
      "Using TensorFlow backend.\n"
     ]
    }
   ],
   "source": [
    "import src.image_manager as im\n",
    "import src.image_classifier as ic\n",
    "import src.model_eval as meval"
   ]
  },
  {
   "cell_type": "markdown",
   "metadata": {},
   "source": [
    "## Load the features dataframe, and pull out features (X) and labels (y)"
   ]
  },
  {
   "cell_type": "code",
   "execution_count": 5,
   "metadata": {
    "collapsed": true
   },
   "outputs": [],
   "source": [
    "feature_df_path = os.path.join(project_path, 'data', 'features_3species_20180514.csv')"
   ]
  },
  {
   "cell_type": "code",
   "execution_count": 6,
   "metadata": {},
   "outputs": [
    {
     "data": {
      "text/html": [
       "<div>\n",
       "<style scoped>\n",
       "    .dataframe tbody tr th:only-of-type {\n",
       "        vertical-align: middle;\n",
       "    }\n",
       "\n",
       "    .dataframe tbody tr th {\n",
       "        vertical-align: top;\n",
       "    }\n",
       "\n",
       "    .dataframe thead th {\n",
       "        text-align: right;\n",
       "    }\n",
       "</style>\n",
       "<table border=\"1\" class=\"dataframe\">\n",
       "  <thead>\n",
       "    <tr style=\"text-align: right;\">\n",
       "      <th></th>\n",
       "      <th>p_hash</th>\n",
       "      <th>filename</th>\n",
       "      <th>folder</th>\n",
       "      <th>incv3_out_0</th>\n",
       "      <th>incv3_out_1</th>\n",
       "      <th>incv3_out_2</th>\n",
       "      <th>incv3_out_3</th>\n",
       "      <th>incv3_out_4</th>\n",
       "      <th>incv3_out_5</th>\n",
       "      <th>incv3_out_6</th>\n",
       "      <th>...</th>\n",
       "      <th>incv3_out_2038</th>\n",
       "      <th>incv3_out_2039</th>\n",
       "      <th>incv3_out_2040</th>\n",
       "      <th>incv3_out_2041</th>\n",
       "      <th>incv3_out_2042</th>\n",
       "      <th>incv3_out_2043</th>\n",
       "      <th>incv3_out_2044</th>\n",
       "      <th>incv3_out_2045</th>\n",
       "      <th>incv3_out_2046</th>\n",
       "      <th>incv3_out_2047</th>\n",
       "    </tr>\n",
       "  </thead>\n",
       "  <tbody>\n",
       "    <tr>\n",
       "      <th>0</th>\n",
       "      <td>9bb759cb29b01a25</td>\n",
       "      <td>image_bigleaf_maple_57.png</td>\n",
       "      <td>acer_macrophyllum</td>\n",
       "      <td>0.180042</td>\n",
       "      <td>0.057599</td>\n",
       "      <td>0.632024</td>\n",
       "      <td>0.021612</td>\n",
       "      <td>0.297033</td>\n",
       "      <td>0.011966</td>\n",
       "      <td>0.903157</td>\n",
       "      <td>...</td>\n",
       "      <td>0.360490</td>\n",
       "      <td>0.009282</td>\n",
       "      <td>0.055258</td>\n",
       "      <td>0.110056</td>\n",
       "      <td>0.058888</td>\n",
       "      <td>0.201237</td>\n",
       "      <td>0.198077</td>\n",
       "      <td>1.394304</td>\n",
       "      <td>0.155102</td>\n",
       "      <td>0.000000</td>\n",
       "    </tr>\n",
       "    <tr>\n",
       "      <th>1</th>\n",
       "      <td>99c20b3b74d53de0</td>\n",
       "      <td>image_bigleaf_maple_43.png</td>\n",
       "      <td>acer_macrophyllum</td>\n",
       "      <td>0.667066</td>\n",
       "      <td>0.249269</td>\n",
       "      <td>0.074132</td>\n",
       "      <td>0.177577</td>\n",
       "      <td>0.520580</td>\n",
       "      <td>0.167225</td>\n",
       "      <td>0.233005</td>\n",
       "      <td>...</td>\n",
       "      <td>1.446164</td>\n",
       "      <td>0.920353</td>\n",
       "      <td>0.823285</td>\n",
       "      <td>0.617185</td>\n",
       "      <td>0.121126</td>\n",
       "      <td>0.065866</td>\n",
       "      <td>0.876259</td>\n",
       "      <td>0.226926</td>\n",
       "      <td>0.274808</td>\n",
       "      <td>0.000000</td>\n",
       "    </tr>\n",
       "    <tr>\n",
       "      <th>2</th>\n",
       "      <td>a1e1e0d4e646e765</td>\n",
       "      <td>image_big_leaf_maple_bark_48.png</td>\n",
       "      <td>acer_macrophyllum</td>\n",
       "      <td>0.159188</td>\n",
       "      <td>0.011783</td>\n",
       "      <td>0.187351</td>\n",
       "      <td>0.211521</td>\n",
       "      <td>0.466182</td>\n",
       "      <td>0.387081</td>\n",
       "      <td>0.217815</td>\n",
       "      <td>...</td>\n",
       "      <td>1.198391</td>\n",
       "      <td>0.460702</td>\n",
       "      <td>0.157247</td>\n",
       "      <td>0.267633</td>\n",
       "      <td>0.006349</td>\n",
       "      <td>0.466702</td>\n",
       "      <td>0.641492</td>\n",
       "      <td>1.066418</td>\n",
       "      <td>0.145887</td>\n",
       "      <td>0.223863</td>\n",
       "    </tr>\n",
       "    <tr>\n",
       "      <th>3</th>\n",
       "      <td>abee94c19cb28b0e</td>\n",
       "      <td>image_acer_macrophylum_tree_49.png</td>\n",
       "      <td>acer_macrophyllum</td>\n",
       "      <td>0.658278</td>\n",
       "      <td>0.010192</td>\n",
       "      <td>0.344359</td>\n",
       "      <td>0.192652</td>\n",
       "      <td>0.342696</td>\n",
       "      <td>0.362848</td>\n",
       "      <td>0.562928</td>\n",
       "      <td>...</td>\n",
       "      <td>0.257585</td>\n",
       "      <td>0.077631</td>\n",
       "      <td>0.057183</td>\n",
       "      <td>0.411228</td>\n",
       "      <td>0.417154</td>\n",
       "      <td>0.048589</td>\n",
       "      <td>0.421282</td>\n",
       "      <td>0.057896</td>\n",
       "      <td>0.325496</td>\n",
       "      <td>0.145896</td>\n",
       "    </tr>\n",
       "    <tr>\n",
       "      <th>4</th>\n",
       "      <td>d3c161631f2b4b4e</td>\n",
       "      <td>image_bigleaf_maple_94.png</td>\n",
       "      <td>acer_macrophyllum</td>\n",
       "      <td>0.056695</td>\n",
       "      <td>0.255299</td>\n",
       "      <td>0.407071</td>\n",
       "      <td>0.066481</td>\n",
       "      <td>0.000076</td>\n",
       "      <td>0.568202</td>\n",
       "      <td>0.362414</td>\n",
       "      <td>...</td>\n",
       "      <td>1.289151</td>\n",
       "      <td>0.578341</td>\n",
       "      <td>0.963826</td>\n",
       "      <td>0.028785</td>\n",
       "      <td>0.310883</td>\n",
       "      <td>0.001386</td>\n",
       "      <td>1.154405</td>\n",
       "      <td>0.034431</td>\n",
       "      <td>0.768076</td>\n",
       "      <td>0.217323</td>\n",
       "    </tr>\n",
       "  </tbody>\n",
       "</table>\n",
       "<p>5 rows × 2051 columns</p>\n",
       "</div>"
      ],
      "text/plain": [
       "             p_hash                            filename             folder  \\\n",
       "0  9bb759cb29b01a25          image_bigleaf_maple_57.png  acer_macrophyllum   \n",
       "1  99c20b3b74d53de0          image_bigleaf_maple_43.png  acer_macrophyllum   \n",
       "2  a1e1e0d4e646e765    image_big_leaf_maple_bark_48.png  acer_macrophyllum   \n",
       "3  abee94c19cb28b0e  image_acer_macrophylum_tree_49.png  acer_macrophyllum   \n",
       "4  d3c161631f2b4b4e          image_bigleaf_maple_94.png  acer_macrophyllum   \n",
       "\n",
       "   incv3_out_0  incv3_out_1  incv3_out_2  incv3_out_3  incv3_out_4  \\\n",
       "0     0.180042     0.057599     0.632024     0.021612     0.297033   \n",
       "1     0.667066     0.249269     0.074132     0.177577     0.520580   \n",
       "2     0.159188     0.011783     0.187351     0.211521     0.466182   \n",
       "3     0.658278     0.010192     0.344359     0.192652     0.342696   \n",
       "4     0.056695     0.255299     0.407071     0.066481     0.000076   \n",
       "\n",
       "   incv3_out_5  incv3_out_6       ...        incv3_out_2038  incv3_out_2039  \\\n",
       "0     0.011966     0.903157       ...              0.360490        0.009282   \n",
       "1     0.167225     0.233005       ...              1.446164        0.920353   \n",
       "2     0.387081     0.217815       ...              1.198391        0.460702   \n",
       "3     0.362848     0.562928       ...              0.257585        0.077631   \n",
       "4     0.568202     0.362414       ...              1.289151        0.578341   \n",
       "\n",
       "   incv3_out_2040  incv3_out_2041  incv3_out_2042  incv3_out_2043  \\\n",
       "0        0.055258        0.110056        0.058888        0.201237   \n",
       "1        0.823285        0.617185        0.121126        0.065866   \n",
       "2        0.157247        0.267633        0.006349        0.466702   \n",
       "3        0.057183        0.411228        0.417154        0.048589   \n",
       "4        0.963826        0.028785        0.310883        0.001386   \n",
       "\n",
       "   incv3_out_2044  incv3_out_2045  incv3_out_2046  incv3_out_2047  \n",
       "0        0.198077        1.394304        0.155102        0.000000  \n",
       "1        0.876259        0.226926        0.274808        0.000000  \n",
       "2        0.641492        1.066418        0.145887        0.223863  \n",
       "3        0.421282        0.057896        0.325496        0.145896  \n",
       "4        1.154405        0.034431        0.768076        0.217323  \n",
       "\n",
       "[5 rows x 2051 columns]"
      ]
     },
     "execution_count": 6,
     "metadata": {},
     "output_type": "execute_result"
    }
   ],
   "source": [
    "tree_features_df = im.load_df(feature_df_path)\n",
    "tree_features_df.head()"
   ]
  },
  {
   "cell_type": "code",
   "execution_count": 31,
   "metadata": {
    "collapsed": true
   },
   "outputs": [],
   "source": [
    "X = tree_features_df.drop(['p_hash', 'filename', 'folder'], axis=1)\n",
    "y = pd.get_dummies(tree_features_df['folder'])"
   ]
  },
  {
   "cell_type": "code",
   "execution_count": 60,
   "metadata": {},
   "outputs": [
    {
     "data": {
      "text/html": [
       "<div>\n",
       "<style scoped>\n",
       "    .dataframe tbody tr th:only-of-type {\n",
       "        vertical-align: middle;\n",
       "    }\n",
       "\n",
       "    .dataframe tbody tr th {\n",
       "        vertical-align: top;\n",
       "    }\n",
       "\n",
       "    .dataframe thead th {\n",
       "        text-align: right;\n",
       "    }\n",
       "</style>\n",
       "<table border=\"1\" class=\"dataframe\">\n",
       "  <thead>\n",
       "    <tr style=\"text-align: right;\">\n",
       "      <th></th>\n",
       "      <th>incv3_out_0</th>\n",
       "      <th>incv3_out_1</th>\n",
       "      <th>incv3_out_2</th>\n",
       "      <th>incv3_out_3</th>\n",
       "      <th>incv3_out_4</th>\n",
       "      <th>incv3_out_5</th>\n",
       "      <th>incv3_out_6</th>\n",
       "      <th>incv3_out_7</th>\n",
       "      <th>incv3_out_8</th>\n",
       "      <th>incv3_out_9</th>\n",
       "      <th>...</th>\n",
       "      <th>incv3_out_2038</th>\n",
       "      <th>incv3_out_2039</th>\n",
       "      <th>incv3_out_2040</th>\n",
       "      <th>incv3_out_2041</th>\n",
       "      <th>incv3_out_2042</th>\n",
       "      <th>incv3_out_2043</th>\n",
       "      <th>incv3_out_2044</th>\n",
       "      <th>incv3_out_2045</th>\n",
       "      <th>incv3_out_2046</th>\n",
       "      <th>incv3_out_2047</th>\n",
       "    </tr>\n",
       "  </thead>\n",
       "  <tbody>\n",
       "    <tr>\n",
       "      <th>0</th>\n",
       "      <td>0.180042</td>\n",
       "      <td>0.057599</td>\n",
       "      <td>0.632024</td>\n",
       "      <td>0.021612</td>\n",
       "      <td>0.297033</td>\n",
       "      <td>0.011966</td>\n",
       "      <td>0.903157</td>\n",
       "      <td>1.185745</td>\n",
       "      <td>0.705980</td>\n",
       "      <td>0.150624</td>\n",
       "      <td>...</td>\n",
       "      <td>0.360490</td>\n",
       "      <td>0.009282</td>\n",
       "      <td>0.055258</td>\n",
       "      <td>0.110056</td>\n",
       "      <td>0.058888</td>\n",
       "      <td>0.201237</td>\n",
       "      <td>0.198077</td>\n",
       "      <td>1.394304</td>\n",
       "      <td>0.155102</td>\n",
       "      <td>0.000000</td>\n",
       "    </tr>\n",
       "    <tr>\n",
       "      <th>1</th>\n",
       "      <td>0.667066</td>\n",
       "      <td>0.249269</td>\n",
       "      <td>0.074132</td>\n",
       "      <td>0.177577</td>\n",
       "      <td>0.520580</td>\n",
       "      <td>0.167225</td>\n",
       "      <td>0.233005</td>\n",
       "      <td>1.123716</td>\n",
       "      <td>0.544970</td>\n",
       "      <td>0.793712</td>\n",
       "      <td>...</td>\n",
       "      <td>1.446164</td>\n",
       "      <td>0.920353</td>\n",
       "      <td>0.823285</td>\n",
       "      <td>0.617185</td>\n",
       "      <td>0.121126</td>\n",
       "      <td>0.065866</td>\n",
       "      <td>0.876259</td>\n",
       "      <td>0.226926</td>\n",
       "      <td>0.274808</td>\n",
       "      <td>0.000000</td>\n",
       "    </tr>\n",
       "    <tr>\n",
       "      <th>2</th>\n",
       "      <td>0.159188</td>\n",
       "      <td>0.011783</td>\n",
       "      <td>0.187351</td>\n",
       "      <td>0.211521</td>\n",
       "      <td>0.466182</td>\n",
       "      <td>0.387081</td>\n",
       "      <td>0.217815</td>\n",
       "      <td>0.470900</td>\n",
       "      <td>0.553186</td>\n",
       "      <td>0.176517</td>\n",
       "      <td>...</td>\n",
       "      <td>1.198391</td>\n",
       "      <td>0.460702</td>\n",
       "      <td>0.157247</td>\n",
       "      <td>0.267633</td>\n",
       "      <td>0.006349</td>\n",
       "      <td>0.466702</td>\n",
       "      <td>0.641492</td>\n",
       "      <td>1.066418</td>\n",
       "      <td>0.145887</td>\n",
       "      <td>0.223863</td>\n",
       "    </tr>\n",
       "    <tr>\n",
       "      <th>3</th>\n",
       "      <td>0.658278</td>\n",
       "      <td>0.010192</td>\n",
       "      <td>0.344359</td>\n",
       "      <td>0.192652</td>\n",
       "      <td>0.342696</td>\n",
       "      <td>0.362848</td>\n",
       "      <td>0.562928</td>\n",
       "      <td>0.133620</td>\n",
       "      <td>0.420587</td>\n",
       "      <td>0.228698</td>\n",
       "      <td>...</td>\n",
       "      <td>0.257585</td>\n",
       "      <td>0.077631</td>\n",
       "      <td>0.057183</td>\n",
       "      <td>0.411228</td>\n",
       "      <td>0.417154</td>\n",
       "      <td>0.048589</td>\n",
       "      <td>0.421282</td>\n",
       "      <td>0.057896</td>\n",
       "      <td>0.325496</td>\n",
       "      <td>0.145896</td>\n",
       "    </tr>\n",
       "    <tr>\n",
       "      <th>4</th>\n",
       "      <td>0.056695</td>\n",
       "      <td>0.255299</td>\n",
       "      <td>0.407071</td>\n",
       "      <td>0.066481</td>\n",
       "      <td>0.000076</td>\n",
       "      <td>0.568202</td>\n",
       "      <td>0.362414</td>\n",
       "      <td>0.189681</td>\n",
       "      <td>0.153133</td>\n",
       "      <td>0.169399</td>\n",
       "      <td>...</td>\n",
       "      <td>1.289151</td>\n",
       "      <td>0.578341</td>\n",
       "      <td>0.963826</td>\n",
       "      <td>0.028785</td>\n",
       "      <td>0.310883</td>\n",
       "      <td>0.001386</td>\n",
       "      <td>1.154405</td>\n",
       "      <td>0.034431</td>\n",
       "      <td>0.768076</td>\n",
       "      <td>0.217323</td>\n",
       "    </tr>\n",
       "  </tbody>\n",
       "</table>\n",
       "<p>5 rows × 2048 columns</p>\n",
       "</div>"
      ],
      "text/plain": [
       "   incv3_out_0  incv3_out_1  incv3_out_2  incv3_out_3  incv3_out_4  \\\n",
       "0     0.180042     0.057599     0.632024     0.021612     0.297033   \n",
       "1     0.667066     0.249269     0.074132     0.177577     0.520580   \n",
       "2     0.159188     0.011783     0.187351     0.211521     0.466182   \n",
       "3     0.658278     0.010192     0.344359     0.192652     0.342696   \n",
       "4     0.056695     0.255299     0.407071     0.066481     0.000076   \n",
       "\n",
       "   incv3_out_5  incv3_out_6  incv3_out_7  incv3_out_8  incv3_out_9  \\\n",
       "0     0.011966     0.903157     1.185745     0.705980     0.150624   \n",
       "1     0.167225     0.233005     1.123716     0.544970     0.793712   \n",
       "2     0.387081     0.217815     0.470900     0.553186     0.176517   \n",
       "3     0.362848     0.562928     0.133620     0.420587     0.228698   \n",
       "4     0.568202     0.362414     0.189681     0.153133     0.169399   \n",
       "\n",
       "        ...        incv3_out_2038  incv3_out_2039  incv3_out_2040  \\\n",
       "0       ...              0.360490        0.009282        0.055258   \n",
       "1       ...              1.446164        0.920353        0.823285   \n",
       "2       ...              1.198391        0.460702        0.157247   \n",
       "3       ...              0.257585        0.077631        0.057183   \n",
       "4       ...              1.289151        0.578341        0.963826   \n",
       "\n",
       "   incv3_out_2041  incv3_out_2042  incv3_out_2043  incv3_out_2044  \\\n",
       "0        0.110056        0.058888        0.201237        0.198077   \n",
       "1        0.617185        0.121126        0.065866        0.876259   \n",
       "2        0.267633        0.006349        0.466702        0.641492   \n",
       "3        0.411228        0.417154        0.048589        0.421282   \n",
       "4        0.028785        0.310883        0.001386        1.154405   \n",
       "\n",
       "   incv3_out_2045  incv3_out_2046  incv3_out_2047  \n",
       "0        1.394304        0.155102        0.000000  \n",
       "1        0.226926        0.274808        0.000000  \n",
       "2        1.066418        0.145887        0.223863  \n",
       "3        0.057896        0.325496        0.145896  \n",
       "4        0.034431        0.768076        0.217323  \n",
       "\n",
       "[5 rows x 2048 columns]"
      ]
     },
     "execution_count": 60,
     "metadata": {},
     "output_type": "execute_result"
    }
   ],
   "source": [
    "X.head()"
   ]
  },
  {
   "cell_type": "code",
   "execution_count": 32,
   "metadata": {},
   "outputs": [
    {
     "data": {
      "text/html": [
       "<div>\n",
       "<style scoped>\n",
       "    .dataframe tbody tr th:only-of-type {\n",
       "        vertical-align: middle;\n",
       "    }\n",
       "\n",
       "    .dataframe tbody tr th {\n",
       "        vertical-align: top;\n",
       "    }\n",
       "\n",
       "    .dataframe thead th {\n",
       "        text-align: right;\n",
       "    }\n",
       "</style>\n",
       "<table border=\"1\" class=\"dataframe\">\n",
       "  <thead>\n",
       "    <tr style=\"text-align: right;\">\n",
       "      <th></th>\n",
       "      <th>acer_macrophyllum</th>\n",
       "      <th>picea_sitchensis</th>\n",
       "      <th>platanus_acerifolia</th>\n",
       "    </tr>\n",
       "  </thead>\n",
       "  <tbody>\n",
       "    <tr>\n",
       "      <th>0</th>\n",
       "      <td>1</td>\n",
       "      <td>0</td>\n",
       "      <td>0</td>\n",
       "    </tr>\n",
       "    <tr>\n",
       "      <th>1</th>\n",
       "      <td>1</td>\n",
       "      <td>0</td>\n",
       "      <td>0</td>\n",
       "    </tr>\n",
       "    <tr>\n",
       "      <th>2</th>\n",
       "      <td>1</td>\n",
       "      <td>0</td>\n",
       "      <td>0</td>\n",
       "    </tr>\n",
       "    <tr>\n",
       "      <th>3</th>\n",
       "      <td>1</td>\n",
       "      <td>0</td>\n",
       "      <td>0</td>\n",
       "    </tr>\n",
       "    <tr>\n",
       "      <th>4</th>\n",
       "      <td>1</td>\n",
       "      <td>0</td>\n",
       "      <td>0</td>\n",
       "    </tr>\n",
       "  </tbody>\n",
       "</table>\n",
       "</div>"
      ],
      "text/plain": [
       "   acer_macrophyllum  picea_sitchensis  platanus_acerifolia\n",
       "0                  1                 0                    0\n",
       "1                  1                 0                    0\n",
       "2                  1                 0                    0\n",
       "3                  1                 0                    0\n",
       "4                  1                 0                    0"
      ]
     },
     "execution_count": 32,
     "metadata": {},
     "output_type": "execute_result"
    }
   ],
   "source": [
    "y.head()"
   ]
  },
  {
   "cell_type": "markdown",
   "metadata": {},
   "source": [
    "## Create an image classifier which will create a neural network"
   ]
  },
  {
   "cell_type": "code",
   "execution_count": 13,
   "metadata": {},
   "outputs": [],
   "source": [
    "classifier = ic.ImageClassifier()"
   ]
  },
  {
   "cell_type": "markdown",
   "metadata": {},
   "source": [
    "### Figure out how to pass input_shape to the Sequential model in Keras"
   ]
  },
  {
   "cell_type": "code",
   "execution_count": 20,
   "metadata": {},
   "outputs": [
    {
     "data": {
      "text/plain": [
       "TensorShape([Dimension(None), Dimension(2048)])"
      ]
     },
     "execution_count": 20,
     "metadata": {},
     "output_type": "execute_result"
    }
   ],
   "source": [
    "thing = classifier.feature_extractor.output.shape\n",
    "thing"
   ]
  },
  {
   "cell_type": "code",
   "execution_count": 25,
   "metadata": {},
   "outputs": [
    {
     "data": {
      "text/plain": [
       "(None, 2048)"
      ]
     },
     "execution_count": 25,
     "metadata": {},
     "output_type": "execute_result"
    }
   ],
   "source": [
    "#Ok, this does it. See simple_nn_model() in ImageClassifier class\n",
    "tuple(thing.as_list())"
   ]
  },
  {
   "cell_type": "code",
   "execution_count": 63,
   "metadata": {},
   "outputs": [],
   "source": [
    "nn_model = classifier.simple_nn_model(num_categories=3)"
   ]
  },
  {
   "cell_type": "code",
   "execution_count": 64,
   "metadata": {},
   "outputs": [
    {
     "name": "stdout",
     "output_type": "stream",
     "text": [
      "Train on 1311 samples, validate on 328 samples\n",
      "Epoch 1/18\n",
      "1311/1311 [==============================] - 5s 4ms/step - loss: 60.5439 - acc: 0.4958 - categorical_accuracy: 0.4958 - top_k_categorical_accuracy: 1.0000 - val_loss: 21.4445 - val_acc: 0.0000e+00 - val_categorical_accuracy: 0.0000e+00 - val_top_k_categorical_accuracy: 1.0000\n",
      "Epoch 2/18\n",
      "1311/1311 [==============================] - 3s 2ms/step - loss: 11.3193 - acc: 0.5721 - categorical_accuracy: 0.5721 - top_k_categorical_accuracy: 1.0000 - val_loss: 6.7739 - val_acc: 0.0335 - val_categorical_accuracy: 0.0335 - val_top_k_categorical_accuracy: 1.0000\n",
      "Epoch 3/18\n",
      "1311/1311 [==============================] - 2s 2ms/step - loss: 4.5093 - acc: 0.6140 - categorical_accuracy: 0.6140 - top_k_categorical_accuracy: 1.0000 - val_loss: 3.9035 - val_acc: 0.1006 - val_categorical_accuracy: 0.1006 - val_top_k_categorical_accuracy: 1.0000\n",
      "Epoch 4/18\n",
      "1311/1311 [==============================] - 3s 2ms/step - loss: 2.8294 - acc: 0.6133 - categorical_accuracy: 0.6133 - top_k_categorical_accuracy: 1.0000 - val_loss: 3.2226 - val_acc: 0.0122 - val_categorical_accuracy: 0.0122 - val_top_k_categorical_accuracy: 1.0000\n",
      "Epoch 5/18\n",
      "1311/1311 [==============================] - 3s 2ms/step - loss: 2.2740 - acc: 0.6095 - categorical_accuracy: 0.6095 - top_k_categorical_accuracy: 1.0000 - val_loss: 2.4556 - val_acc: 0.2317 - val_categorical_accuracy: 0.2317 - val_top_k_categorical_accuracy: 1.0000\n",
      "Epoch 6/18\n",
      "1311/1311 [==============================] - 3s 2ms/step - loss: 1.9531 - acc: 0.6308 - categorical_accuracy: 0.6308 - top_k_categorical_accuracy: 1.0000 - val_loss: 2.7157 - val_acc: 0.0000e+00 - val_categorical_accuracy: 0.0000e+00 - val_top_k_categorical_accuracy: 1.0000\n",
      "Epoch 7/18\n",
      "1311/1311 [==============================] - 3s 2ms/step - loss: 1.7535 - acc: 0.5950 - categorical_accuracy: 0.5950 - top_k_categorical_accuracy: 1.0000 - val_loss: 2.1665 - val_acc: 0.0244 - val_categorical_accuracy: 0.0244 - val_top_k_categorical_accuracy: 1.0000\n",
      "Epoch 8/18\n",
      "1311/1311 [==============================] - 3s 2ms/step - loss: 1.5721 - acc: 0.6354 - categorical_accuracy: 0.6354 - top_k_categorical_accuracy: 1.0000 - val_loss: 2.2018 - val_acc: 0.0030 - val_categorical_accuracy: 0.0030 - val_top_k_categorical_accuracy: 1.0000\n",
      "Epoch 9/18\n",
      "1311/1311 [==============================] - 3s 2ms/step - loss: 1.5126 - acc: 0.6026 - categorical_accuracy: 0.6026 - top_k_categorical_accuracy: 1.0000 - val_loss: 1.9366 - val_acc: 0.0122 - val_categorical_accuracy: 0.0122 - val_top_k_categorical_accuracy: 1.0000\n",
      "Epoch 10/18\n",
      "1311/1311 [==============================] - 3s 2ms/step - loss: 1.4257 - acc: 0.6186 - categorical_accuracy: 0.6186 - top_k_categorical_accuracy: 1.0000 - val_loss: 1.6888 - val_acc: 0.1707 - val_categorical_accuracy: 0.1707 - val_top_k_categorical_accuracy: 1.0000\n",
      "Epoch 11/18\n",
      "1311/1311 [==============================] - 3s 2ms/step - loss: 1.3909 - acc: 0.6194 - categorical_accuracy: 0.6194 - top_k_categorical_accuracy: 1.0000 - val_loss: 2.0358 - val_acc: 0.0000e+00 - val_categorical_accuracy: 0.0000e+00 - val_top_k_categorical_accuracy: 1.0000\n",
      "Epoch 12/18\n",
      "1311/1311 [==============================] - 3s 2ms/step - loss: 1.3170 - acc: 0.6445 - categorical_accuracy: 0.6445 - top_k_categorical_accuracy: 1.0000 - val_loss: 1.8801 - val_acc: 0.0000e+00 - val_categorical_accuracy: 0.0000e+00 - val_top_k_categorical_accuracy: 1.0000\n",
      "Epoch 13/18\n",
      "1311/1311 [==============================] - 3s 2ms/step - loss: 1.3568 - acc: 0.6331 - categorical_accuracy: 0.6331 - top_k_categorical_accuracy: 1.0000 - val_loss: 2.0699 - val_acc: 0.0000e+00 - val_categorical_accuracy: 0.0000e+00 - val_top_k_categorical_accuracy: 1.0000\n",
      "Epoch 14/18\n",
      "1311/1311 [==============================] - 3s 2ms/step - loss: 1.3141 - acc: 0.6148 - categorical_accuracy: 0.6148 - top_k_categorical_accuracy: 1.0000 - val_loss: 2.1064 - val_acc: 0.0000e+00 - val_categorical_accuracy: 0.0000e+00 - val_top_k_categorical_accuracy: 1.0000\n",
      "Epoch 15/18\n",
      "1311/1311 [==============================] - 3s 2ms/step - loss: 1.3255 - acc: 0.6323 - categorical_accuracy: 0.6323 - top_k_categorical_accuracy: 1.0000 - val_loss: 1.9663 - val_acc: 0.0000e+00 - val_categorical_accuracy: 0.0000e+00 - val_top_k_categorical_accuracy: 1.0000\n",
      "Epoch 16/18\n",
      "1311/1311 [==============================] - 3s 2ms/step - loss: 1.3034 - acc: 0.6255 - categorical_accuracy: 0.6255 - top_k_categorical_accuracy: 1.0000 - val_loss: 1.9518 - val_acc: 0.0000e+00 - val_categorical_accuracy: 0.0000e+00 - val_top_k_categorical_accuracy: 1.0000\n",
      "Epoch 17/18\n",
      "1311/1311 [==============================] - 3s 2ms/step - loss: 1.3025 - acc: 0.6156 - categorical_accuracy: 0.6156 - top_k_categorical_accuracy: 1.0000 - val_loss: 2.0222 - val_acc: 0.0000e+00 - val_categorical_accuracy: 0.0000e+00 - val_top_k_categorical_accuracy: 1.0000\n",
      "Epoch 18/18\n",
      "1311/1311 [==============================] - 3s 2ms/step - loss: 1.2914 - acc: 0.6255 - categorical_accuracy: 0.6255 - top_k_categorical_accuracy: 1.0000 - val_loss: 2.1987 - val_acc: 0.0000e+00 - val_categorical_accuracy: 0.0000e+00 - val_top_k_categorical_accuracy: 1.0000\n"
     ]
    },
    {
     "data": {
      "text/plain": [
       "<keras.callbacks.History at 0x14f41ee80>"
      ]
     },
     "execution_count": 64,
     "metadata": {},
     "output_type": "execute_result"
    }
   ],
   "source": [
    "nn_model.fit(X.values, y.values, validation_split=0.2, epochs=18, verbose=1)"
   ]
  },
  {
   "cell_type": "code",
   "execution_count": 62,
   "metadata": {},
   "outputs": [
    {
     "name": "stdout",
     "output_type": "stream",
     "text": [
      "Train on 1311 samples, validate on 328 samples\n",
      "Epoch 1/50\n",
      "1311/1311 [==============================] - 2s 1ms/step - loss: 0.5704 - acc: 0.7635 - categorical_accuracy: 0.7635 - top_k_categorical_accuracy: 1.0000 - val_loss: 0.8899 - val_acc: 0.4177 - val_categorical_accuracy: 0.4177 - val_top_k_categorical_accuracy: 1.0000\n",
      "Epoch 2/50\n",
      "1311/1311 [==============================] - 2s 1ms/step - loss: 0.5499 - acc: 0.7681 - categorical_accuracy: 0.7681 - top_k_categorical_accuracy: 1.0000 - val_loss: 0.9160 - val_acc: 0.3079 - val_categorical_accuracy: 0.3079 - val_top_k_categorical_accuracy: 1.0000\n",
      "Epoch 3/50\n",
      "1311/1311 [==============================] - 2s 1ms/step - loss: 0.5280 - acc: 0.7681 - categorical_accuracy: 0.7681 - top_k_categorical_accuracy: 1.0000 - val_loss: 0.9537 - val_acc: 0.2988 - val_categorical_accuracy: 0.2988 - val_top_k_categorical_accuracy: 1.0000\n",
      "Epoch 4/50\n",
      "1311/1311 [==============================] - 2s 1ms/step - loss: 0.5653 - acc: 0.7620 - categorical_accuracy: 0.7620 - top_k_categorical_accuracy: 1.0000 - val_loss: 0.9548 - val_acc: 0.2774 - val_categorical_accuracy: 0.2774 - val_top_k_categorical_accuracy: 1.0000\n",
      "Epoch 5/50\n",
      "1311/1311 [==============================] - 2s 1ms/step - loss: 0.5601 - acc: 0.7574 - categorical_accuracy: 0.7574 - top_k_categorical_accuracy: 1.0000 - val_loss: 0.8843 - val_acc: 0.3659 - val_categorical_accuracy: 0.3659 - val_top_k_categorical_accuracy: 1.0000\n",
      "Epoch 6/50\n",
      "1311/1311 [==============================] - 2s 1ms/step - loss: 0.5353 - acc: 0.7666 - categorical_accuracy: 0.7666 - top_k_categorical_accuracy: 1.0000 - val_loss: 0.8996 - val_acc: 0.3659 - val_categorical_accuracy: 0.3659 - val_top_k_categorical_accuracy: 1.0000\n",
      "Epoch 7/50\n",
      "1311/1311 [==============================] - 2s 1ms/step - loss: 0.5419 - acc: 0.7681 - categorical_accuracy: 0.7681 - top_k_categorical_accuracy: 1.0000 - val_loss: 0.8757 - val_acc: 0.4268 - val_categorical_accuracy: 0.4268 - val_top_k_categorical_accuracy: 1.0000\n",
      "Epoch 8/50\n",
      "1311/1311 [==============================] - 2s 1ms/step - loss: 0.5596 - acc: 0.7498 - categorical_accuracy: 0.7498 - top_k_categorical_accuracy: 1.0000 - val_loss: 0.9780 - val_acc: 0.2591 - val_categorical_accuracy: 0.2591 - val_top_k_categorical_accuracy: 1.0000\n",
      "Epoch 9/50\n",
      "1311/1311 [==============================] - 2s 1ms/step - loss: 0.5273 - acc: 0.7696 - categorical_accuracy: 0.7696 - top_k_categorical_accuracy: 1.0000 - val_loss: 0.9203 - val_acc: 0.3506 - val_categorical_accuracy: 0.3506 - val_top_k_categorical_accuracy: 1.0000\n",
      "Epoch 10/50\n",
      "1311/1311 [==============================] - 2s 1ms/step - loss: 0.5362 - acc: 0.7689 - categorical_accuracy: 0.7689 - top_k_categorical_accuracy: 1.0000 - val_loss: 0.9368 - val_acc: 0.3872 - val_categorical_accuracy: 0.3872 - val_top_k_categorical_accuracy: 1.0000\n",
      "Epoch 11/50\n",
      "1311/1311 [==============================] - 2s 1ms/step - loss: 0.5448 - acc: 0.7605 - categorical_accuracy: 0.7605 - top_k_categorical_accuracy: 1.0000 - val_loss: 0.8881 - val_acc: 0.4055 - val_categorical_accuracy: 0.4055 - val_top_k_categorical_accuracy: 1.0000\n",
      "Epoch 12/50\n",
      "1311/1311 [==============================] - 2s 1ms/step - loss: 0.5243 - acc: 0.7780 - categorical_accuracy: 0.7780 - top_k_categorical_accuracy: 1.0000 - val_loss: 0.9133 - val_acc: 0.3902 - val_categorical_accuracy: 0.3902 - val_top_k_categorical_accuracy: 1.0000\n",
      "Epoch 13/50\n",
      "1311/1311 [==============================] - 2s 1ms/step - loss: 0.5183 - acc: 0.7674 - categorical_accuracy: 0.7674 - top_k_categorical_accuracy: 1.0000 - val_loss: 0.8755 - val_acc: 0.4482 - val_categorical_accuracy: 0.4482 - val_top_k_categorical_accuracy: 1.0000\n",
      "Epoch 14/50\n",
      "1311/1311 [==============================] - ETA: 0s - loss: 0.5412 - acc: 0.7636 - categorical_accuracy: 0.7636 - top_k_categorical_accuracy: 1.000 - 2s 1ms/step - loss: 0.5393 - acc: 0.7628 - categorical_accuracy: 0.7628 - top_k_categorical_accuracy: 1.0000 - val_loss: 0.8404 - val_acc: 0.6067 - val_categorical_accuracy: 0.6067 - val_top_k_categorical_accuracy: 1.0000\n",
      "Epoch 15/50\n",
      "1311/1311 [==============================] - 2s 1ms/step - loss: 0.5626 - acc: 0.7658 - categorical_accuracy: 0.7658 - top_k_categorical_accuracy: 1.0000 - val_loss: 0.9084 - val_acc: 0.4116 - val_categorical_accuracy: 0.4116 - val_top_k_categorical_accuracy: 1.0000\n",
      "Epoch 16/50\n",
      "1311/1311 [==============================] - 2s 1ms/step - loss: 0.5277 - acc: 0.7727 - categorical_accuracy: 0.7727 - top_k_categorical_accuracy: 1.0000 - val_loss: 0.9078 - val_acc: 0.4207 - val_categorical_accuracy: 0.4207 - val_top_k_categorical_accuracy: 1.0000\n",
      "Epoch 17/50\n",
      "1311/1311 [==============================] - 2s 1ms/step - loss: 0.5155 - acc: 0.7765 - categorical_accuracy: 0.7765 - top_k_categorical_accuracy: 1.0000 - val_loss: 0.9000 - val_acc: 0.3872 - val_categorical_accuracy: 0.3872 - val_top_k_categorical_accuracy: 1.0000\n",
      "Epoch 18/50\n",
      "1311/1311 [==============================] - 2s 1ms/step - loss: 0.5689 - acc: 0.7590 - categorical_accuracy: 0.7590 - top_k_categorical_accuracy: 1.0000 - val_loss: 0.9193 - val_acc: 0.3598 - val_categorical_accuracy: 0.3598 - val_top_k_categorical_accuracy: 1.0000\n",
      "Epoch 19/50\n",
      "1311/1311 [==============================] - 2s 1ms/step - loss: 0.5514 - acc: 0.7590 - categorical_accuracy: 0.7590 - top_k_categorical_accuracy: 1.0000 - val_loss: 1.0113 - val_acc: 0.2774 - val_categorical_accuracy: 0.2774 - val_top_k_categorical_accuracy: 1.0000\n",
      "Epoch 20/50\n",
      "1311/1311 [==============================] - 2s 1ms/step - loss: 0.5257 - acc: 0.7735 - categorical_accuracy: 0.7735 - top_k_categorical_accuracy: 1.0000 - val_loss: 0.8705 - val_acc: 0.4299 - val_categorical_accuracy: 0.4299 - val_top_k_categorical_accuracy: 1.0000\n",
      "Epoch 21/50\n",
      "1311/1311 [==============================] - 2s 1ms/step - loss: 0.5673 - acc: 0.7414 - categorical_accuracy: 0.7414 - top_k_categorical_accuracy: 1.0000 - val_loss: 0.9416 - val_acc: 0.3659 - val_categorical_accuracy: 0.3659 - val_top_k_categorical_accuracy: 1.0000\n",
      "Epoch 22/50\n",
      "1311/1311 [==============================] - 2s 1ms/step - loss: 0.5342 - acc: 0.7651 - categorical_accuracy: 0.7651 - top_k_categorical_accuracy: 1.0000 - val_loss: 0.8990 - val_acc: 0.3750 - val_categorical_accuracy: 0.3750 - val_top_k_categorical_accuracy: 1.0000\n",
      "Epoch 23/50\n",
      "1311/1311 [==============================] - 2s 1ms/step - loss: 0.5126 - acc: 0.7918 - categorical_accuracy: 0.7918 - top_k_categorical_accuracy: 1.0000 - val_loss: 0.9199 - val_acc: 0.3750 - val_categorical_accuracy: 0.3750 - val_top_k_categorical_accuracy: 1.0000\n",
      "Epoch 24/50\n",
      "1311/1311 [==============================] - 2s 1ms/step - loss: 0.5222 - acc: 0.7681 - categorical_accuracy: 0.7681 - top_k_categorical_accuracy: 1.0000 - val_loss: 0.9582 - val_acc: 0.3750 - val_categorical_accuracy: 0.3750 - val_top_k_categorical_accuracy: 1.0000\n",
      "Epoch 25/50\n",
      "1311/1311 [==============================] - 2s 1ms/step - loss: 0.5136 - acc: 0.7727 - categorical_accuracy: 0.7727 - top_k_categorical_accuracy: 1.0000 - val_loss: 0.9047 - val_acc: 0.3872 - val_categorical_accuracy: 0.3872 - val_top_k_categorical_accuracy: 1.0000\n",
      "Epoch 26/50\n",
      "1311/1311 [==============================] - 2s 1ms/step - loss: 0.5242 - acc: 0.7773 - categorical_accuracy: 0.7773 - top_k_categorical_accuracy: 1.0000 - val_loss: 0.8842 - val_acc: 0.4207 - val_categorical_accuracy: 0.4207 - val_top_k_categorical_accuracy: 1.0000\n",
      "Epoch 27/50\n",
      "1311/1311 [==============================] - 2s 1ms/step - loss: 0.5399 - acc: 0.7696 - categorical_accuracy: 0.7696 - top_k_categorical_accuracy: 1.0000 - val_loss: 0.8976 - val_acc: 0.4177 - val_categorical_accuracy: 0.4177 - val_top_k_categorical_accuracy: 1.0000\n",
      "Epoch 28/50\n",
      "1311/1311 [==============================] - 2s 1ms/step - loss: 0.5359 - acc: 0.7750 - categorical_accuracy: 0.7750 - top_k_categorical_accuracy: 1.0000 - val_loss: 0.9132 - val_acc: 0.4116 - val_categorical_accuracy: 0.4116 - val_top_k_categorical_accuracy: 1.0000\n",
      "Epoch 29/50\n",
      "1311/1311 [==============================] - 2s 1ms/step - loss: 0.5272 - acc: 0.7635 - categorical_accuracy: 0.7635 - top_k_categorical_accuracy: 1.0000 - val_loss: 0.9231 - val_acc: 0.3750 - val_categorical_accuracy: 0.3750 - val_top_k_categorical_accuracy: 1.0000\n"
     ]
    },
    {
     "name": "stdout",
     "output_type": "stream",
     "text": [
      "Epoch 30/50\n",
      "1311/1311 [==============================] - 2s 1ms/step - loss: 0.5278 - acc: 0.7613 - categorical_accuracy: 0.7613 - top_k_categorical_accuracy: 1.0000 - val_loss: 0.8267 - val_acc: 0.5213 - val_categorical_accuracy: 0.5213 - val_top_k_categorical_accuracy: 1.0000\n",
      "Epoch 31/50\n",
      "1311/1311 [==============================] - 2s 1ms/step - loss: 0.5238 - acc: 0.7666 - categorical_accuracy: 0.7666 - top_k_categorical_accuracy: 1.0000 - val_loss: 0.8960 - val_acc: 0.4085 - val_categorical_accuracy: 0.4085 - val_top_k_categorical_accuracy: 1.0000\n",
      "Epoch 32/50\n",
      "1311/1311 [==============================] - 2s 1ms/step - loss: 0.5358 - acc: 0.7773 - categorical_accuracy: 0.7773 - top_k_categorical_accuracy: 1.0000 - val_loss: 0.9071 - val_acc: 0.3811 - val_categorical_accuracy: 0.3811 - val_top_k_categorical_accuracy: 1.0000\n",
      "Epoch 33/50\n",
      "1311/1311 [==============================] - 2s 1ms/step - loss: 0.5299 - acc: 0.7681 - categorical_accuracy: 0.7681 - top_k_categorical_accuracy: 1.0000 - val_loss: 0.9158 - val_acc: 0.3902 - val_categorical_accuracy: 0.3902 - val_top_k_categorical_accuracy: 1.0000\n",
      "Epoch 34/50\n",
      "1311/1311 [==============================] - 2s 1ms/step - loss: 0.5622 - acc: 0.7681 - categorical_accuracy: 0.7681 - top_k_categorical_accuracy: 1.0000 - val_loss: 0.8830 - val_acc: 0.4451 - val_categorical_accuracy: 0.4451 - val_top_k_categorical_accuracy: 1.0000\n",
      "Epoch 35/50\n",
      "1311/1311 [==============================] - 2s 1ms/step - loss: 0.5202 - acc: 0.7773 - categorical_accuracy: 0.7773 - top_k_categorical_accuracy: 1.0000 - val_loss: 0.9334 - val_acc: 0.3811 - val_categorical_accuracy: 0.3811 - val_top_k_categorical_accuracy: 1.0000\n",
      "Epoch 36/50\n",
      "1311/1311 [==============================] - 2s 1ms/step - loss: 0.5422 - acc: 0.7590 - categorical_accuracy: 0.7590 - top_k_categorical_accuracy: 1.0000 - val_loss: 0.9199 - val_acc: 0.4482 - val_categorical_accuracy: 0.4482 - val_top_k_categorical_accuracy: 1.0000\n",
      "Epoch 37/50\n",
      "1311/1311 [==============================] - 2s 2ms/step - loss: 0.5657 - acc: 0.7490 - categorical_accuracy: 0.7490 - top_k_categorical_accuracy: 1.0000 - val_loss: 0.8912 - val_acc: 0.4360 - val_categorical_accuracy: 0.4360 - val_top_k_categorical_accuracy: 1.0000\n",
      "Epoch 38/50\n",
      "1311/1311 [==============================] - 2s 1ms/step - loss: 0.5354 - acc: 0.7750 - categorical_accuracy: 0.7750 - top_k_categorical_accuracy: 1.0000 - val_loss: 0.8794 - val_acc: 0.4360 - val_categorical_accuracy: 0.4360 - val_top_k_categorical_accuracy: 1.0000\n",
      "Epoch 39/50\n",
      "1311/1311 [==============================] - 2s 1ms/step - loss: 0.5326 - acc: 0.7544 - categorical_accuracy: 0.7544 - top_k_categorical_accuracy: 1.0000 - val_loss: 0.8750 - val_acc: 0.4573 - val_categorical_accuracy: 0.4573 - val_top_k_categorical_accuracy: 1.0000\n",
      "Epoch 40/50\n",
      "1311/1311 [==============================] - 2s 1ms/step - loss: 0.5337 - acc: 0.7834 - categorical_accuracy: 0.7834 - top_k_categorical_accuracy: 1.0000 - val_loss: 0.8638 - val_acc: 0.4665 - val_categorical_accuracy: 0.4665 - val_top_k_categorical_accuracy: 1.0000\n",
      "Epoch 41/50\n",
      "1311/1311 [==============================] - 2s 1ms/step - loss: 0.5034 - acc: 0.7765 - categorical_accuracy: 0.7765 - top_k_categorical_accuracy: 1.0000 - val_loss: 0.9011 - val_acc: 0.4177 - val_categorical_accuracy: 0.4177 - val_top_k_categorical_accuracy: 1.0000\n",
      "Epoch 42/50\n",
      "1311/1311 [==============================] - 2s 1ms/step - loss: 0.5223 - acc: 0.7681 - categorical_accuracy: 0.7681 - top_k_categorical_accuracy: 1.0000 - val_loss: 0.9021 - val_acc: 0.4116 - val_categorical_accuracy: 0.4116 - val_top_k_categorical_accuracy: 1.0000\n",
      "Epoch 43/50\n",
      "1311/1311 [==============================] - 2s 1ms/step - loss: 0.5287 - acc: 0.7818 - categorical_accuracy: 0.7818 - top_k_categorical_accuracy: 1.0000 - val_loss: 0.9143 - val_acc: 0.3689 - val_categorical_accuracy: 0.3689 - val_top_k_categorical_accuracy: 1.0000\n",
      "Epoch 44/50\n",
      "1311/1311 [==============================] - 2s 1ms/step - loss: 0.5242 - acc: 0.7712 - categorical_accuracy: 0.7712 - top_k_categorical_accuracy: 1.0000 - val_loss: 0.8751 - val_acc: 0.4268 - val_categorical_accuracy: 0.4268 - val_top_k_categorical_accuracy: 1.0000\n",
      "Epoch 45/50\n",
      "1311/1311 [==============================] - 2s 1ms/step - loss: 0.5305 - acc: 0.7742 - categorical_accuracy: 0.7742 - top_k_categorical_accuracy: 1.0000 - val_loss: 0.8691 - val_acc: 0.4390 - val_categorical_accuracy: 0.4390 - val_top_k_categorical_accuracy: 1.0000\n",
      "Epoch 46/50\n",
      "1311/1311 [==============================] - 2s 1ms/step - loss: 0.5261 - acc: 0.7704 - categorical_accuracy: 0.7704 - top_k_categorical_accuracy: 1.0000 - val_loss: 0.8906 - val_acc: 0.3902 - val_categorical_accuracy: 0.3902 - val_top_k_categorical_accuracy: 1.0000\n",
      "Epoch 47/50\n",
      "1311/1311 [==============================] - 2s 1ms/step - loss: 0.5428 - acc: 0.7704 - categorical_accuracy: 0.7704 - top_k_categorical_accuracy: 1.0000 - val_loss: 0.9576 - val_acc: 0.3232 - val_categorical_accuracy: 0.3232 - val_top_k_categorical_accuracy: 1.0000\n",
      "Epoch 48/50\n",
      "1311/1311 [==============================] - 2s 1ms/step - loss: 0.5432 - acc: 0.7597 - categorical_accuracy: 0.7597 - top_k_categorical_accuracy: 1.0000 - val_loss: 0.9315 - val_acc: 0.3110 - val_categorical_accuracy: 0.3110 - val_top_k_categorical_accuracy: 1.0000\n",
      "Epoch 49/50\n",
      "1311/1311 [==============================] - 2s 1ms/step - loss: 0.5570 - acc: 0.7521 - categorical_accuracy: 0.7521 - top_k_categorical_accuracy: 1.0000 - val_loss: 0.9027 - val_acc: 0.3720 - val_categorical_accuracy: 0.3720 - val_top_k_categorical_accuracy: 1.0000\n",
      "Epoch 50/50\n",
      "1311/1311 [==============================] - 2s 1ms/step - loss: 0.5256 - acc: 0.7719 - categorical_accuracy: 0.7719 - top_k_categorical_accuracy: 1.0000 - val_loss: 0.9279 - val_acc: 0.3567 - val_categorical_accuracy: 0.3567 - val_top_k_categorical_accuracy: 1.0000\n"
     ]
    },
    {
     "data": {
      "text/plain": [
       "<keras.callbacks.History at 0x14d3b3e48>"
      ]
     },
     "execution_count": 62,
     "metadata": {},
     "output_type": "execute_result"
    }
   ],
   "source": [
    "nn_model.fit(X.values, y.values, validation_split=0.2, epochs=50, verbose=1)"
   ]
  },
  {
   "cell_type": "code",
   "execution_count": 49,
   "metadata": {},
   "outputs": [
    {
     "data": {
      "text/plain": [
       "1311.2"
      ]
     },
     "execution_count": 49,
     "metadata": {},
     "output_type": "execute_result"
    }
   ],
   "source": [
    ".8*1639"
   ]
  },
  {
   "cell_type": "code",
   "execution_count": 50,
   "metadata": {},
   "outputs": [
    {
     "data": {
      "text/plain": [
       "327.8"
      ]
     },
     "execution_count": 50,
     "metadata": {},
     "output_type": "execute_result"
    }
   ],
   "source": [
    ".2*1639"
   ]
  },
  {
   "cell_type": "code",
   "execution_count": 52,
   "metadata": {},
   "outputs": [
    {
     "data": {
      "text/plain": [
       "0.52204577676101604"
      ]
     },
     "execution_count": 52,
     "metadata": {},
     "output_type": "execute_result"
    }
   ],
   "source": [
    "np.exp(-0.65)"
   ]
  },
  {
   "cell_type": "code",
   "execution_count": null,
   "metadata": {
    "collapsed": true
   },
   "outputs": [],
   "source": []
  }
 ],
 "metadata": {
  "kernelspec": {
   "display_name": "Python 3",
   "language": "python",
   "name": "python3"
  },
  "language_info": {
   "codemirror_mode": {
    "name": "ipython",
    "version": 3
   },
   "file_extension": ".py",
   "mimetype": "text/x-python",
   "name": "python",
   "nbconvert_exporter": "python",
   "pygments_lexer": "ipython3",
   "version": "3.6.3"
  }
 },
 "nbformat": 4,
 "nbformat_minor": 2
}
