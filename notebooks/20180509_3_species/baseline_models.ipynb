{
 "cells": [
  {
   "cell_type": "markdown",
   "metadata": {},
   "source": [
    "# Train a logistic regression and gradient booster on the newly extracted features for 3 species, to get baseline to compare with neural network\n",
    "\n",
    "Tuesday, May 15, 2018"
   ]
  },
  {
   "cell_type": "code",
   "execution_count": 1,
   "metadata": {
    "collapsed": true
   },
   "outputs": [],
   "source": [
    "%load_ext autoreload\n",
    "%autoreload 2"
   ]
  },
  {
   "cell_type": "code",
   "execution_count": 2,
   "metadata": {
    "collapsed": true
   },
   "outputs": [],
   "source": [
    "import numpy as np\n",
    "import pandas as pd\n",
    "\n",
    "from sklearn.model_selection import train_test_split\n",
    "from sklearn.linear_model import LogisticRegression\n",
    "from sklearn.ensemble import GradientBoostingClassifier"
   ]
  },
  {
   "cell_type": "code",
   "execution_count": 3,
   "metadata": {
    "collapsed": true
   },
   "outputs": [],
   "source": [
    "import os\n",
    "import sys\n",
    "\n",
    "#Store the relative and absolute path to the home directory of the project\n",
    "project_directory = '../..'\n",
    "project_path = os.path.abspath(os.path.join(project_directory))\n",
    "\n",
    "#Add the project path to the system path if necessesary, to be able to load modules from subdirectories\n",
    "if project_path not in sys.path:\n",
    "    sys.path.append(project_path)"
   ]
  },
  {
   "cell_type": "code",
   "execution_count": 4,
   "metadata": {
    "collapsed": true
   },
   "outputs": [],
   "source": [
    "import src.image_manager as im\n",
    "import src.model_eval as meval"
   ]
  },
  {
   "cell_type": "markdown",
   "metadata": {},
   "source": [
    "## Load the features dataframe, and pull out features (X) and labels (y)"
   ]
  },
  {
   "cell_type": "code",
   "execution_count": 5,
   "metadata": {
    "collapsed": true
   },
   "outputs": [],
   "source": [
    "feature_df_path = os.path.join(project_path, 'data', 'features_3species_20180514.csv')"
   ]
  },
  {
   "cell_type": "code",
   "execution_count": 8,
   "metadata": {},
   "outputs": [
    {
     "data": {
      "text/html": [
       "<div>\n",
       "<style scoped>\n",
       "    .dataframe tbody tr th:only-of-type {\n",
       "        vertical-align: middle;\n",
       "    }\n",
       "\n",
       "    .dataframe tbody tr th {\n",
       "        vertical-align: top;\n",
       "    }\n",
       "\n",
       "    .dataframe thead th {\n",
       "        text-align: right;\n",
       "    }\n",
       "</style>\n",
       "<table border=\"1\" class=\"dataframe\">\n",
       "  <thead>\n",
       "    <tr style=\"text-align: right;\">\n",
       "      <th></th>\n",
       "      <th>p_hash</th>\n",
       "      <th>filename</th>\n",
       "      <th>folder</th>\n",
       "      <th>incv3_out_0</th>\n",
       "      <th>incv3_out_1</th>\n",
       "      <th>incv3_out_2</th>\n",
       "      <th>incv3_out_3</th>\n",
       "      <th>incv3_out_4</th>\n",
       "      <th>incv3_out_5</th>\n",
       "      <th>incv3_out_6</th>\n",
       "      <th>...</th>\n",
       "      <th>incv3_out_2038</th>\n",
       "      <th>incv3_out_2039</th>\n",
       "      <th>incv3_out_2040</th>\n",
       "      <th>incv3_out_2041</th>\n",
       "      <th>incv3_out_2042</th>\n",
       "      <th>incv3_out_2043</th>\n",
       "      <th>incv3_out_2044</th>\n",
       "      <th>incv3_out_2045</th>\n",
       "      <th>incv3_out_2046</th>\n",
       "      <th>incv3_out_2047</th>\n",
       "    </tr>\n",
       "  </thead>\n",
       "  <tbody>\n",
       "    <tr>\n",
       "      <th>0</th>\n",
       "      <td>9bb759cb29b01a25</td>\n",
       "      <td>image_bigleaf_maple_57.png</td>\n",
       "      <td>acer_macrophyllum</td>\n",
       "      <td>0.180042</td>\n",
       "      <td>0.057599</td>\n",
       "      <td>0.632024</td>\n",
       "      <td>0.021612</td>\n",
       "      <td>0.297033</td>\n",
       "      <td>0.011966</td>\n",
       "      <td>0.903157</td>\n",
       "      <td>...</td>\n",
       "      <td>0.360490</td>\n",
       "      <td>0.009282</td>\n",
       "      <td>0.055258</td>\n",
       "      <td>0.110056</td>\n",
       "      <td>0.058888</td>\n",
       "      <td>0.201237</td>\n",
       "      <td>0.198077</td>\n",
       "      <td>1.394304</td>\n",
       "      <td>0.155102</td>\n",
       "      <td>0.000000</td>\n",
       "    </tr>\n",
       "    <tr>\n",
       "      <th>1</th>\n",
       "      <td>99c20b3b74d53de0</td>\n",
       "      <td>image_bigleaf_maple_43.png</td>\n",
       "      <td>acer_macrophyllum</td>\n",
       "      <td>0.667066</td>\n",
       "      <td>0.249269</td>\n",
       "      <td>0.074132</td>\n",
       "      <td>0.177577</td>\n",
       "      <td>0.520580</td>\n",
       "      <td>0.167225</td>\n",
       "      <td>0.233005</td>\n",
       "      <td>...</td>\n",
       "      <td>1.446164</td>\n",
       "      <td>0.920353</td>\n",
       "      <td>0.823285</td>\n",
       "      <td>0.617185</td>\n",
       "      <td>0.121126</td>\n",
       "      <td>0.065866</td>\n",
       "      <td>0.876259</td>\n",
       "      <td>0.226926</td>\n",
       "      <td>0.274808</td>\n",
       "      <td>0.000000</td>\n",
       "    </tr>\n",
       "    <tr>\n",
       "      <th>2</th>\n",
       "      <td>a1e1e0d4e646e765</td>\n",
       "      <td>image_big_leaf_maple_bark_48.png</td>\n",
       "      <td>acer_macrophyllum</td>\n",
       "      <td>0.159188</td>\n",
       "      <td>0.011783</td>\n",
       "      <td>0.187351</td>\n",
       "      <td>0.211521</td>\n",
       "      <td>0.466182</td>\n",
       "      <td>0.387081</td>\n",
       "      <td>0.217815</td>\n",
       "      <td>...</td>\n",
       "      <td>1.198391</td>\n",
       "      <td>0.460702</td>\n",
       "      <td>0.157247</td>\n",
       "      <td>0.267633</td>\n",
       "      <td>0.006349</td>\n",
       "      <td>0.466702</td>\n",
       "      <td>0.641492</td>\n",
       "      <td>1.066418</td>\n",
       "      <td>0.145887</td>\n",
       "      <td>0.223863</td>\n",
       "    </tr>\n",
       "    <tr>\n",
       "      <th>3</th>\n",
       "      <td>abee94c19cb28b0e</td>\n",
       "      <td>image_acer_macrophylum_tree_49.png</td>\n",
       "      <td>acer_macrophyllum</td>\n",
       "      <td>0.658278</td>\n",
       "      <td>0.010192</td>\n",
       "      <td>0.344359</td>\n",
       "      <td>0.192652</td>\n",
       "      <td>0.342696</td>\n",
       "      <td>0.362848</td>\n",
       "      <td>0.562928</td>\n",
       "      <td>...</td>\n",
       "      <td>0.257585</td>\n",
       "      <td>0.077631</td>\n",
       "      <td>0.057183</td>\n",
       "      <td>0.411228</td>\n",
       "      <td>0.417154</td>\n",
       "      <td>0.048589</td>\n",
       "      <td>0.421282</td>\n",
       "      <td>0.057896</td>\n",
       "      <td>0.325496</td>\n",
       "      <td>0.145896</td>\n",
       "    </tr>\n",
       "    <tr>\n",
       "      <th>4</th>\n",
       "      <td>d3c161631f2b4b4e</td>\n",
       "      <td>image_bigleaf_maple_94.png</td>\n",
       "      <td>acer_macrophyllum</td>\n",
       "      <td>0.056695</td>\n",
       "      <td>0.255299</td>\n",
       "      <td>0.407071</td>\n",
       "      <td>0.066481</td>\n",
       "      <td>0.000076</td>\n",
       "      <td>0.568202</td>\n",
       "      <td>0.362414</td>\n",
       "      <td>...</td>\n",
       "      <td>1.289151</td>\n",
       "      <td>0.578341</td>\n",
       "      <td>0.963826</td>\n",
       "      <td>0.028785</td>\n",
       "      <td>0.310883</td>\n",
       "      <td>0.001386</td>\n",
       "      <td>1.154405</td>\n",
       "      <td>0.034431</td>\n",
       "      <td>0.768076</td>\n",
       "      <td>0.217323</td>\n",
       "    </tr>\n",
       "  </tbody>\n",
       "</table>\n",
       "<p>5 rows × 2051 columns</p>\n",
       "</div>"
      ],
      "text/plain": [
       "             p_hash                            filename             folder  \\\n",
       "0  9bb759cb29b01a25          image_bigleaf_maple_57.png  acer_macrophyllum   \n",
       "1  99c20b3b74d53de0          image_bigleaf_maple_43.png  acer_macrophyllum   \n",
       "2  a1e1e0d4e646e765    image_big_leaf_maple_bark_48.png  acer_macrophyllum   \n",
       "3  abee94c19cb28b0e  image_acer_macrophylum_tree_49.png  acer_macrophyllum   \n",
       "4  d3c161631f2b4b4e          image_bigleaf_maple_94.png  acer_macrophyllum   \n",
       "\n",
       "   incv3_out_0  incv3_out_1  incv3_out_2  incv3_out_3  incv3_out_4  \\\n",
       "0     0.180042     0.057599     0.632024     0.021612     0.297033   \n",
       "1     0.667066     0.249269     0.074132     0.177577     0.520580   \n",
       "2     0.159188     0.011783     0.187351     0.211521     0.466182   \n",
       "3     0.658278     0.010192     0.344359     0.192652     0.342696   \n",
       "4     0.056695     0.255299     0.407071     0.066481     0.000076   \n",
       "\n",
       "   incv3_out_5  incv3_out_6       ...        incv3_out_2038  incv3_out_2039  \\\n",
       "0     0.011966     0.903157       ...              0.360490        0.009282   \n",
       "1     0.167225     0.233005       ...              1.446164        0.920353   \n",
       "2     0.387081     0.217815       ...              1.198391        0.460702   \n",
       "3     0.362848     0.562928       ...              0.257585        0.077631   \n",
       "4     0.568202     0.362414       ...              1.289151        0.578341   \n",
       "\n",
       "   incv3_out_2040  incv3_out_2041  incv3_out_2042  incv3_out_2043  \\\n",
       "0        0.055258        0.110056        0.058888        0.201237   \n",
       "1        0.823285        0.617185        0.121126        0.065866   \n",
       "2        0.157247        0.267633        0.006349        0.466702   \n",
       "3        0.057183        0.411228        0.417154        0.048589   \n",
       "4        0.963826        0.028785        0.310883        0.001386   \n",
       "\n",
       "   incv3_out_2044  incv3_out_2045  incv3_out_2046  incv3_out_2047  \n",
       "0        0.198077        1.394304        0.155102        0.000000  \n",
       "1        0.876259        0.226926        0.274808        0.000000  \n",
       "2        0.641492        1.066418        0.145887        0.223863  \n",
       "3        0.421282        0.057896        0.325496        0.145896  \n",
       "4        1.154405        0.034431        0.768076        0.217323  \n",
       "\n",
       "[5 rows x 2051 columns]"
      ]
     },
     "execution_count": 8,
     "metadata": {},
     "output_type": "execute_result"
    }
   ],
   "source": [
    "tree_features_df = im.load_df(feature_df_path)\n",
    "tree_features_df.head()"
   ]
  },
  {
   "cell_type": "code",
   "execution_count": 9,
   "metadata": {},
   "outputs": [
    {
     "data": {
      "text/html": [
       "<div>\n",
       "<style scoped>\n",
       "    .dataframe tbody tr th:only-of-type {\n",
       "        vertical-align: middle;\n",
       "    }\n",
       "\n",
       "    .dataframe tbody tr th {\n",
       "        vertical-align: top;\n",
       "    }\n",
       "\n",
       "    .dataframe thead th {\n",
       "        text-align: right;\n",
       "    }\n",
       "</style>\n",
       "<table border=\"1\" class=\"dataframe\">\n",
       "  <thead>\n",
       "    <tr style=\"text-align: right;\">\n",
       "      <th></th>\n",
       "      <th>incv3_out_0</th>\n",
       "      <th>incv3_out_1</th>\n",
       "      <th>incv3_out_2</th>\n",
       "      <th>incv3_out_3</th>\n",
       "      <th>incv3_out_4</th>\n",
       "      <th>incv3_out_5</th>\n",
       "      <th>incv3_out_6</th>\n",
       "      <th>incv3_out_7</th>\n",
       "      <th>incv3_out_8</th>\n",
       "      <th>incv3_out_9</th>\n",
       "      <th>...</th>\n",
       "      <th>incv3_out_2038</th>\n",
       "      <th>incv3_out_2039</th>\n",
       "      <th>incv3_out_2040</th>\n",
       "      <th>incv3_out_2041</th>\n",
       "      <th>incv3_out_2042</th>\n",
       "      <th>incv3_out_2043</th>\n",
       "      <th>incv3_out_2044</th>\n",
       "      <th>incv3_out_2045</th>\n",
       "      <th>incv3_out_2046</th>\n",
       "      <th>incv3_out_2047</th>\n",
       "    </tr>\n",
       "  </thead>\n",
       "  <tbody>\n",
       "    <tr>\n",
       "      <th>0</th>\n",
       "      <td>0.180042</td>\n",
       "      <td>0.057599</td>\n",
       "      <td>0.632024</td>\n",
       "      <td>0.021612</td>\n",
       "      <td>0.297033</td>\n",
       "      <td>0.011966</td>\n",
       "      <td>0.903157</td>\n",
       "      <td>1.185745</td>\n",
       "      <td>0.705980</td>\n",
       "      <td>0.150624</td>\n",
       "      <td>...</td>\n",
       "      <td>0.360490</td>\n",
       "      <td>0.009282</td>\n",
       "      <td>0.055258</td>\n",
       "      <td>0.110056</td>\n",
       "      <td>0.058888</td>\n",
       "      <td>0.201237</td>\n",
       "      <td>0.198077</td>\n",
       "      <td>1.394304</td>\n",
       "      <td>0.155102</td>\n",
       "      <td>0.000000</td>\n",
       "    </tr>\n",
       "    <tr>\n",
       "      <th>1</th>\n",
       "      <td>0.667066</td>\n",
       "      <td>0.249269</td>\n",
       "      <td>0.074132</td>\n",
       "      <td>0.177577</td>\n",
       "      <td>0.520580</td>\n",
       "      <td>0.167225</td>\n",
       "      <td>0.233005</td>\n",
       "      <td>1.123716</td>\n",
       "      <td>0.544970</td>\n",
       "      <td>0.793712</td>\n",
       "      <td>...</td>\n",
       "      <td>1.446164</td>\n",
       "      <td>0.920353</td>\n",
       "      <td>0.823285</td>\n",
       "      <td>0.617185</td>\n",
       "      <td>0.121126</td>\n",
       "      <td>0.065866</td>\n",
       "      <td>0.876259</td>\n",
       "      <td>0.226926</td>\n",
       "      <td>0.274808</td>\n",
       "      <td>0.000000</td>\n",
       "    </tr>\n",
       "    <tr>\n",
       "      <th>2</th>\n",
       "      <td>0.159188</td>\n",
       "      <td>0.011783</td>\n",
       "      <td>0.187351</td>\n",
       "      <td>0.211521</td>\n",
       "      <td>0.466182</td>\n",
       "      <td>0.387081</td>\n",
       "      <td>0.217815</td>\n",
       "      <td>0.470900</td>\n",
       "      <td>0.553186</td>\n",
       "      <td>0.176517</td>\n",
       "      <td>...</td>\n",
       "      <td>1.198391</td>\n",
       "      <td>0.460702</td>\n",
       "      <td>0.157247</td>\n",
       "      <td>0.267633</td>\n",
       "      <td>0.006349</td>\n",
       "      <td>0.466702</td>\n",
       "      <td>0.641492</td>\n",
       "      <td>1.066418</td>\n",
       "      <td>0.145887</td>\n",
       "      <td>0.223863</td>\n",
       "    </tr>\n",
       "    <tr>\n",
       "      <th>3</th>\n",
       "      <td>0.658278</td>\n",
       "      <td>0.010192</td>\n",
       "      <td>0.344359</td>\n",
       "      <td>0.192652</td>\n",
       "      <td>0.342696</td>\n",
       "      <td>0.362848</td>\n",
       "      <td>0.562928</td>\n",
       "      <td>0.133620</td>\n",
       "      <td>0.420587</td>\n",
       "      <td>0.228698</td>\n",
       "      <td>...</td>\n",
       "      <td>0.257585</td>\n",
       "      <td>0.077631</td>\n",
       "      <td>0.057183</td>\n",
       "      <td>0.411228</td>\n",
       "      <td>0.417154</td>\n",
       "      <td>0.048589</td>\n",
       "      <td>0.421282</td>\n",
       "      <td>0.057896</td>\n",
       "      <td>0.325496</td>\n",
       "      <td>0.145896</td>\n",
       "    </tr>\n",
       "    <tr>\n",
       "      <th>4</th>\n",
       "      <td>0.056695</td>\n",
       "      <td>0.255299</td>\n",
       "      <td>0.407071</td>\n",
       "      <td>0.066481</td>\n",
       "      <td>0.000076</td>\n",
       "      <td>0.568202</td>\n",
       "      <td>0.362414</td>\n",
       "      <td>0.189681</td>\n",
       "      <td>0.153133</td>\n",
       "      <td>0.169399</td>\n",
       "      <td>...</td>\n",
       "      <td>1.289151</td>\n",
       "      <td>0.578341</td>\n",
       "      <td>0.963826</td>\n",
       "      <td>0.028785</td>\n",
       "      <td>0.310883</td>\n",
       "      <td>0.001386</td>\n",
       "      <td>1.154405</td>\n",
       "      <td>0.034431</td>\n",
       "      <td>0.768076</td>\n",
       "      <td>0.217323</td>\n",
       "    </tr>\n",
       "  </tbody>\n",
       "</table>\n",
       "<p>5 rows × 2048 columns</p>\n",
       "</div>"
      ],
      "text/plain": [
       "   incv3_out_0  incv3_out_1  incv3_out_2  incv3_out_3  incv3_out_4  \\\n",
       "0     0.180042     0.057599     0.632024     0.021612     0.297033   \n",
       "1     0.667066     0.249269     0.074132     0.177577     0.520580   \n",
       "2     0.159188     0.011783     0.187351     0.211521     0.466182   \n",
       "3     0.658278     0.010192     0.344359     0.192652     0.342696   \n",
       "4     0.056695     0.255299     0.407071     0.066481     0.000076   \n",
       "\n",
       "   incv3_out_5  incv3_out_6  incv3_out_7  incv3_out_8  incv3_out_9  \\\n",
       "0     0.011966     0.903157     1.185745     0.705980     0.150624   \n",
       "1     0.167225     0.233005     1.123716     0.544970     0.793712   \n",
       "2     0.387081     0.217815     0.470900     0.553186     0.176517   \n",
       "3     0.362848     0.562928     0.133620     0.420587     0.228698   \n",
       "4     0.568202     0.362414     0.189681     0.153133     0.169399   \n",
       "\n",
       "        ...        incv3_out_2038  incv3_out_2039  incv3_out_2040  \\\n",
       "0       ...              0.360490        0.009282        0.055258   \n",
       "1       ...              1.446164        0.920353        0.823285   \n",
       "2       ...              1.198391        0.460702        0.157247   \n",
       "3       ...              0.257585        0.077631        0.057183   \n",
       "4       ...              1.289151        0.578341        0.963826   \n",
       "\n",
       "   incv3_out_2041  incv3_out_2042  incv3_out_2043  incv3_out_2044  \\\n",
       "0        0.110056        0.058888        0.201237        0.198077   \n",
       "1        0.617185        0.121126        0.065866        0.876259   \n",
       "2        0.267633        0.006349        0.466702        0.641492   \n",
       "3        0.411228        0.417154        0.048589        0.421282   \n",
       "4        0.028785        0.310883        0.001386        1.154405   \n",
       "\n",
       "   incv3_out_2045  incv3_out_2046  incv3_out_2047  \n",
       "0        1.394304        0.155102        0.000000  \n",
       "1        0.226926        0.274808        0.000000  \n",
       "2        1.066418        0.145887        0.223863  \n",
       "3        0.057896        0.325496        0.145896  \n",
       "4        0.034431        0.768076        0.217323  \n",
       "\n",
       "[5 rows x 2048 columns]"
      ]
     },
     "execution_count": 9,
     "metadata": {},
     "output_type": "execute_result"
    }
   ],
   "source": [
    "X = tree_features_df.drop(['p_hash', 'filename', 'folder'], axis=1)\n",
    "X.head()"
   ]
  },
  {
   "cell_type": "code",
   "execution_count": 10,
   "metadata": {},
   "outputs": [
    {
     "data": {
      "text/plain": [
       "0    acer_macrophyllum\n",
       "1    acer_macrophyllum\n",
       "2    acer_macrophyllum\n",
       "3    acer_macrophyllum\n",
       "4    acer_macrophyllum\n",
       "Name: folder, dtype: object"
      ]
     },
     "execution_count": 10,
     "metadata": {},
     "output_type": "execute_result"
    }
   ],
   "source": [
    "y = tree_features_df['folder']\n",
    "y.head()"
   ]
  },
  {
   "cell_type": "markdown",
   "metadata": {},
   "source": [
    "## Get a train-test split of the data"
   ]
  },
  {
   "cell_type": "code",
   "execution_count": 12,
   "metadata": {},
   "outputs": [
    {
     "data": {
      "text/plain": [
       "4859    platanus_acerifolia\n",
       "430       acer_macrophyllum\n",
       "3723       picea_sitchensis\n",
       "4893    platanus_acerifolia\n",
       "5016    platanus_acerifolia\n",
       "Name: folder, dtype: object"
      ]
     },
     "execution_count": 12,
     "metadata": {},
     "output_type": "execute_result"
    }
   ],
   "source": [
    "X_train, X_test, y_train, y_test = train_test_split(X, y, test_size=0.2, random_state=359)\n",
    "y_train.head()"
   ]
  },
  {
   "cell_type": "code",
   "execution_count": 13,
   "metadata": {},
   "outputs": [
    {
     "name": "stdout",
     "output_type": "stream",
     "text": [
      "<class 'pandas.core.frame.DataFrame'>\n",
      "Int64Index: 1311 entries, 4859 to 4027\n",
      "Columns: 2048 entries, incv3_out_0 to incv3_out_2047\n",
      "dtypes: float64(2048)\n",
      "memory usage: 20.5 MB\n"
     ]
    }
   ],
   "source": [
    "X_train.info()"
   ]
  },
  {
   "cell_type": "code",
   "execution_count": 14,
   "metadata": {},
   "outputs": [
    {
     "name": "stdout",
     "output_type": "stream",
     "text": [
      "<class 'pandas.core.frame.DataFrame'>\n",
      "Int64Index: 328 entries, 244 to 4999\n",
      "Columns: 2048 entries, incv3_out_0 to incv3_out_2047\n",
      "dtypes: float64(2048)\n",
      "memory usage: 5.1 MB\n"
     ]
    }
   ],
   "source": [
    "X_test.info()"
   ]
  },
  {
   "cell_type": "code",
   "execution_count": 16,
   "metadata": {},
   "outputs": [
    {
     "data": {
      "text/plain": [
       "picea_sitchensis       461\n",
       "platanus_acerifolia    438\n",
       "acer_macrophyllum      412\n",
       "Name: folder, dtype: int64"
      ]
     },
     "execution_count": 16,
     "metadata": {},
     "output_type": "execute_result"
    }
   ],
   "source": [
    "y_train.value_counts()"
   ]
  },
  {
   "cell_type": "code",
   "execution_count": 17,
   "metadata": {},
   "outputs": [
    {
     "data": {
      "text/plain": [
       "acer_macrophyllum      114\n",
       "picea_sitchensis       111\n",
       "platanus_acerifolia    103\n",
       "Name: folder, dtype: int64"
      ]
     },
     "execution_count": 17,
     "metadata": {},
     "output_type": "execute_result"
    }
   ],
   "source": [
    "y_test.value_counts()"
   ]
  },
  {
   "cell_type": "markdown",
   "metadata": {},
   "source": [
    "## Try a logistic regression with multinomial probabilities"
   ]
  },
  {
   "cell_type": "code",
   "execution_count": 35,
   "metadata": {
    "collapsed": true
   },
   "outputs": [],
   "source": [
    "log_model = LogisticRegression(multi_class='multinomial', solver='sag', C=0.001, max_iter=2000)"
   ]
  },
  {
   "cell_type": "code",
   "execution_count": 36,
   "metadata": {},
   "outputs": [
    {
     "data": {
      "text/plain": [
       "LogisticRegression(C=0.001, class_weight=None, dual=False, fit_intercept=True,\n",
       "          intercept_scaling=1, max_iter=2000, multi_class='multinomial',\n",
       "          n_jobs=1, penalty='l2', random_state=None, solver='sag',\n",
       "          tol=0.0001, verbose=0, warm_start=False)"
      ]
     },
     "execution_count": 36,
     "metadata": {},
     "output_type": "execute_result"
    }
   ],
   "source": [
    "log_model.fit(X_train, y_train)"
   ]
  },
  {
   "cell_type": "code",
   "execution_count": 37,
   "metadata": {},
   "outputs": [
    {
     "name": "stdout",
     "output_type": "stream",
     "text": [
      "Train log_loss: 0.5944925029488596, Test log_loss: 0.6829306517753826\n",
      "Train accuracy: 0.8283752860411899, Test accuracy: 0.7439024390243902\n"
     ]
    }
   ],
   "source": [
    "logeval = meval.ModelEvaluator(log_model)\n",
    "logeval.print_classifier_metrics(X_train, X_test, y_train, y_test)"
   ]
  },
  {
   "cell_type": "code",
   "execution_count": 38,
   "metadata": {},
   "outputs": [
    {
     "data": {
      "text/html": [
       "<div>\n",
       "<style scoped>\n",
       "    .dataframe tbody tr th:only-of-type {\n",
       "        vertical-align: middle;\n",
       "    }\n",
       "\n",
       "    .dataframe tbody tr th {\n",
       "        vertical-align: top;\n",
       "    }\n",
       "\n",
       "    .dataframe thead th {\n",
       "        text-align: right;\n",
       "    }\n",
       "</style>\n",
       "<table border=\"1\" class=\"dataframe\">\n",
       "  <thead>\n",
       "    <tr style=\"text-align: right;\">\n",
       "      <th></th>\n",
       "      <th>Predicted acer_macrophyllum</th>\n",
       "      <th>Predicted picea_sitchensis</th>\n",
       "      <th>Predicted platanus_acerifolia</th>\n",
       "    </tr>\n",
       "  </thead>\n",
       "  <tbody>\n",
       "    <tr>\n",
       "      <th>Actual acer_macrophyllum</th>\n",
       "      <td>68</td>\n",
       "      <td>18</td>\n",
       "      <td>28</td>\n",
       "    </tr>\n",
       "    <tr>\n",
       "      <th>Actual picea_sitchensis</th>\n",
       "      <td>9</td>\n",
       "      <td>93</td>\n",
       "      <td>9</td>\n",
       "    </tr>\n",
       "    <tr>\n",
       "      <th>Actual platanus_acerifolia</th>\n",
       "      <td>8</td>\n",
       "      <td>12</td>\n",
       "      <td>83</td>\n",
       "    </tr>\n",
       "  </tbody>\n",
       "</table>\n",
       "</div>"
      ],
      "text/plain": [
       "                            Predicted acer_macrophyllum  \\\n",
       "Actual acer_macrophyllum                             68   \n",
       "Actual picea_sitchensis                               9   \n",
       "Actual platanus_acerifolia                            8   \n",
       "\n",
       "                            Predicted picea_sitchensis  \\\n",
       "Actual acer_macrophyllum                            18   \n",
       "Actual picea_sitchensis                             93   \n",
       "Actual platanus_acerifolia                          12   \n",
       "\n",
       "                            Predicted platanus_acerifolia  \n",
       "Actual acer_macrophyllum                               28  \n",
       "Actual picea_sitchensis                                 9  \n",
       "Actual platanus_acerifolia                             83  "
      ]
     },
     "execution_count": 38,
     "metadata": {},
     "output_type": "execute_result"
    }
   ],
   "source": [
    "logeval.confusion_df(X_test, y_test)"
   ]
  },
  {
   "cell_type": "code",
   "execution_count": 39,
   "metadata": {},
   "outputs": [
    {
     "data": {
      "text/html": [
       "<div>\n",
       "<style scoped>\n",
       "    .dataframe tbody tr th:only-of-type {\n",
       "        vertical-align: middle;\n",
       "    }\n",
       "\n",
       "    .dataframe tbody tr th {\n",
       "        vertical-align: top;\n",
       "    }\n",
       "\n",
       "    .dataframe thead th {\n",
       "        text-align: right;\n",
       "    }\n",
       "</style>\n",
       "<table border=\"1\" class=\"dataframe\">\n",
       "  <thead>\n",
       "    <tr style=\"text-align: right;\">\n",
       "      <th></th>\n",
       "      <th>Predicted acer_macrophyllum</th>\n",
       "      <th>Predicted picea_sitchensis</th>\n",
       "      <th>Predicted platanus_acerifolia</th>\n",
       "    </tr>\n",
       "  </thead>\n",
       "  <tbody>\n",
       "    <tr>\n",
       "      <th>Actual acer_macrophyllum</th>\n",
       "      <td>289</td>\n",
       "      <td>38</td>\n",
       "      <td>85</td>\n",
       "    </tr>\n",
       "    <tr>\n",
       "      <th>Actual picea_sitchensis</th>\n",
       "      <td>34</td>\n",
       "      <td>414</td>\n",
       "      <td>13</td>\n",
       "    </tr>\n",
       "    <tr>\n",
       "      <th>Actual platanus_acerifolia</th>\n",
       "      <td>40</td>\n",
       "      <td>15</td>\n",
       "      <td>383</td>\n",
       "    </tr>\n",
       "  </tbody>\n",
       "</table>\n",
       "</div>"
      ],
      "text/plain": [
       "                            Predicted acer_macrophyllum  \\\n",
       "Actual acer_macrophyllum                            289   \n",
       "Actual picea_sitchensis                              34   \n",
       "Actual platanus_acerifolia                           40   \n",
       "\n",
       "                            Predicted picea_sitchensis  \\\n",
       "Actual acer_macrophyllum                            38   \n",
       "Actual picea_sitchensis                            414   \n",
       "Actual platanus_acerifolia                          15   \n",
       "\n",
       "                            Predicted platanus_acerifolia  \n",
       "Actual acer_macrophyllum                               85  \n",
       "Actual picea_sitchensis                                13  \n",
       "Actual platanus_acerifolia                            383  "
      ]
     },
     "execution_count": 39,
     "metadata": {},
     "output_type": "execute_result"
    }
   ],
   "source": [
    "logeval.confusion_df(X_train, y_train)"
   ]
  },
  {
   "cell_type": "markdown",
   "metadata": {},
   "source": [
    "Wow, 74% accuracy for the simplest possible model! That's way better than my original models.\n",
    "\n",
    "## Try logistic regression with lasso regularization\n",
    "\n",
    "You must use the SAGA solver to use both L1 regularization and multinomial multi-class predictions (instead of one-vs-rest)."
   ]
  },
  {
   "cell_type": "code",
   "execution_count": 45,
   "metadata": {
    "collapsed": true
   },
   "outputs": [],
   "source": [
    "log_lasso_model = LogisticRegression(penalty='l1', multi_class='multinomial', solver='saga', C=0.1, max_iter=2000)"
   ]
  },
  {
   "cell_type": "code",
   "execution_count": 46,
   "metadata": {},
   "outputs": [
    {
     "data": {
      "text/plain": [
       "LogisticRegression(C=0.1, class_weight=None, dual=False, fit_intercept=True,\n",
       "          intercept_scaling=1, max_iter=2000, multi_class='multinomial',\n",
       "          n_jobs=1, penalty='l1', random_state=None, solver='saga',\n",
       "          tol=0.0001, verbose=0, warm_start=False)"
      ]
     },
     "execution_count": 46,
     "metadata": {},
     "output_type": "execute_result"
    }
   ],
   "source": [
    "log_lasso_model.fit(X_train, y_train)"
   ]
  },
  {
   "cell_type": "code",
   "execution_count": 47,
   "metadata": {},
   "outputs": [
    {
     "name": "stdout",
     "output_type": "stream",
     "text": [
      "Train log_loss: 0.4498591818552623, Test log_loss: 0.5908337379635094\n",
      "Train accuracy: 0.8405797101449275, Test accuracy: 0.7469512195121951\n"
     ]
    }
   ],
   "source": [
    "loglasso_eval = meval.ModelEvaluator(log_lasso_model)\n",
    "loglasso_eval.print_classifier_metrics(X_train, X_test, y_train, y_test)"
   ]
  },
  {
   "cell_type": "code",
   "execution_count": 49,
   "metadata": {},
   "outputs": [
    {
     "data": {
      "text/html": [
       "<div>\n",
       "<style scoped>\n",
       "    .dataframe tbody tr th:only-of-type {\n",
       "        vertical-align: middle;\n",
       "    }\n",
       "\n",
       "    .dataframe tbody tr th {\n",
       "        vertical-align: top;\n",
       "    }\n",
       "\n",
       "    .dataframe thead th {\n",
       "        text-align: right;\n",
       "    }\n",
       "</style>\n",
       "<table border=\"1\" class=\"dataframe\">\n",
       "  <thead>\n",
       "    <tr style=\"text-align: right;\">\n",
       "      <th></th>\n",
       "      <th>Predicted acer_macrophyllum</th>\n",
       "      <th>Predicted picea_sitchensis</th>\n",
       "      <th>Predicted platanus_acerifolia</th>\n",
       "    </tr>\n",
       "  </thead>\n",
       "  <tbody>\n",
       "    <tr>\n",
       "      <th>Actual acer_macrophyllum</th>\n",
       "      <td>69</td>\n",
       "      <td>10</td>\n",
       "      <td>35</td>\n",
       "    </tr>\n",
       "    <tr>\n",
       "      <th>Actual picea_sitchensis</th>\n",
       "      <td>11</td>\n",
       "      <td>93</td>\n",
       "      <td>7</td>\n",
       "    </tr>\n",
       "    <tr>\n",
       "      <th>Actual platanus_acerifolia</th>\n",
       "      <td>9</td>\n",
       "      <td>11</td>\n",
       "      <td>83</td>\n",
       "    </tr>\n",
       "  </tbody>\n",
       "</table>\n",
       "</div>"
      ],
      "text/plain": [
       "                            Predicted acer_macrophyllum  \\\n",
       "Actual acer_macrophyllum                             69   \n",
       "Actual picea_sitchensis                              11   \n",
       "Actual platanus_acerifolia                            9   \n",
       "\n",
       "                            Predicted picea_sitchensis  \\\n",
       "Actual acer_macrophyllum                            10   \n",
       "Actual picea_sitchensis                             93   \n",
       "Actual platanus_acerifolia                          11   \n",
       "\n",
       "                            Predicted platanus_acerifolia  \n",
       "Actual acer_macrophyllum                               35  \n",
       "Actual picea_sitchensis                                 7  \n",
       "Actual platanus_acerifolia                             83  "
      ]
     },
     "execution_count": 49,
     "metadata": {},
     "output_type": "execute_result"
    }
   ],
   "source": [
    "loglasso_eval.confusion_df(X_test, y_test)"
   ]
  },
  {
   "cell_type": "code",
   "execution_count": 48,
   "metadata": {},
   "outputs": [
    {
     "data": {
      "text/html": [
       "<div>\n",
       "<style scoped>\n",
       "    .dataframe tbody tr th:only-of-type {\n",
       "        vertical-align: middle;\n",
       "    }\n",
       "\n",
       "    .dataframe tbody tr th {\n",
       "        vertical-align: top;\n",
       "    }\n",
       "\n",
       "    .dataframe thead th {\n",
       "        text-align: right;\n",
       "    }\n",
       "</style>\n",
       "<table border=\"1\" class=\"dataframe\">\n",
       "  <thead>\n",
       "    <tr style=\"text-align: right;\">\n",
       "      <th></th>\n",
       "      <th>Predicted acer_macrophyllum</th>\n",
       "      <th>Predicted picea_sitchensis</th>\n",
       "      <th>Predicted platanus_acerifolia</th>\n",
       "    </tr>\n",
       "  </thead>\n",
       "  <tbody>\n",
       "    <tr>\n",
       "      <th>Actual acer_macrophyllum</th>\n",
       "      <td>300</td>\n",
       "      <td>28</td>\n",
       "      <td>84</td>\n",
       "    </tr>\n",
       "    <tr>\n",
       "      <th>Actual picea_sitchensis</th>\n",
       "      <td>31</td>\n",
       "      <td>419</td>\n",
       "      <td>11</td>\n",
       "    </tr>\n",
       "    <tr>\n",
       "      <th>Actual platanus_acerifolia</th>\n",
       "      <td>40</td>\n",
       "      <td>15</td>\n",
       "      <td>383</td>\n",
       "    </tr>\n",
       "  </tbody>\n",
       "</table>\n",
       "</div>"
      ],
      "text/plain": [
       "                            Predicted acer_macrophyllum  \\\n",
       "Actual acer_macrophyllum                            300   \n",
       "Actual picea_sitchensis                              31   \n",
       "Actual platanus_acerifolia                           40   \n",
       "\n",
       "                            Predicted picea_sitchensis  \\\n",
       "Actual acer_macrophyllum                            28   \n",
       "Actual picea_sitchensis                            419   \n",
       "Actual platanus_acerifolia                          15   \n",
       "\n",
       "                            Predicted platanus_acerifolia  \n",
       "Actual acer_macrophyllum                               84  \n",
       "Actual picea_sitchensis                                11  \n",
       "Actual platanus_acerifolia                            383  "
      ]
     },
     "execution_count": 48,
     "metadata": {},
     "output_type": "execute_result"
    }
   ],
   "source": [
    "loglasso_eval.confusion_df(X_train, y_train)"
   ]
  },
  {
   "cell_type": "markdown",
   "metadata": {},
   "source": [
    "## Try a gradient booster\n",
    "\n",
    "This takes about 3 minutes to train with parameters (learning_rate=0.01, n_estimators=200, subsample=0.5, max_depth=5)"
   ]
  },
  {
   "cell_type": "code",
   "execution_count": 50,
   "metadata": {
    "collapsed": true
   },
   "outputs": [],
   "source": [
    "gb_model = GradientBoostingClassifier(learning_rate=0.01, n_estimators=200, subsample=0.5, max_depth=5)"
   ]
  },
  {
   "cell_type": "code",
   "execution_count": 52,
   "metadata": {},
   "outputs": [
    {
     "data": {
      "text/plain": [
       "GradientBoostingClassifier(criterion='friedman_mse', init=None,\n",
       "              learning_rate=0.01, loss='deviance', max_depth=5,\n",
       "              max_features=None, max_leaf_nodes=None,\n",
       "              min_impurity_decrease=0.0, min_impurity_split=None,\n",
       "              min_samples_leaf=1, min_samples_split=2,\n",
       "              min_weight_fraction_leaf=0.0, n_estimators=200,\n",
       "              presort='auto', random_state=None, subsample=0.5, verbose=0,\n",
       "              warm_start=False)"
      ]
     },
     "execution_count": 52,
     "metadata": {},
     "output_type": "execute_result"
    }
   ],
   "source": [
    "gb_model.fit(X_train, y_train)"
   ]
  },
  {
   "cell_type": "code",
   "execution_count": 53,
   "metadata": {},
   "outputs": [
    {
     "name": "stdout",
     "output_type": "stream",
     "text": [
      "Train log_loss: 0.2741725023525165, Test log_loss: 0.6391813639627187\n",
      "Train accuracy: 0.996186117467582, Test accuracy: 0.7713414634146342\n"
     ]
    }
   ],
   "source": [
    "gbeval = meval.ModelEvaluator(gb_model)\n",
    "gbeval.print_classifier_metrics(X_train, X_test, y_train, y_test)"
   ]
  },
  {
   "cell_type": "markdown",
   "metadata": {},
   "source": [
    "Woo hoo, lookin' good!"
   ]
  },
  {
   "cell_type": "code",
   "execution_count": 54,
   "metadata": {},
   "outputs": [
    {
     "data": {
      "text/html": [
       "<div>\n",
       "<style scoped>\n",
       "    .dataframe tbody tr th:only-of-type {\n",
       "        vertical-align: middle;\n",
       "    }\n",
       "\n",
       "    .dataframe tbody tr th {\n",
       "        vertical-align: top;\n",
       "    }\n",
       "\n",
       "    .dataframe thead th {\n",
       "        text-align: right;\n",
       "    }\n",
       "</style>\n",
       "<table border=\"1\" class=\"dataframe\">\n",
       "  <thead>\n",
       "    <tr style=\"text-align: right;\">\n",
       "      <th></th>\n",
       "      <th>Predicted acer_macrophyllum</th>\n",
       "      <th>Predicted picea_sitchensis</th>\n",
       "      <th>Predicted platanus_acerifolia</th>\n",
       "    </tr>\n",
       "  </thead>\n",
       "  <tbody>\n",
       "    <tr>\n",
       "      <th>Actual acer_macrophyllum</th>\n",
       "      <td>69</td>\n",
       "      <td>14</td>\n",
       "      <td>31</td>\n",
       "    </tr>\n",
       "    <tr>\n",
       "      <th>Actual picea_sitchensis</th>\n",
       "      <td>7</td>\n",
       "      <td>98</td>\n",
       "      <td>6</td>\n",
       "    </tr>\n",
       "    <tr>\n",
       "      <th>Actual platanus_acerifolia</th>\n",
       "      <td>7</td>\n",
       "      <td>10</td>\n",
       "      <td>86</td>\n",
       "    </tr>\n",
       "  </tbody>\n",
       "</table>\n",
       "</div>"
      ],
      "text/plain": [
       "                            Predicted acer_macrophyllum  \\\n",
       "Actual acer_macrophyllum                             69   \n",
       "Actual picea_sitchensis                               7   \n",
       "Actual platanus_acerifolia                            7   \n",
       "\n",
       "                            Predicted picea_sitchensis  \\\n",
       "Actual acer_macrophyllum                            14   \n",
       "Actual picea_sitchensis                             98   \n",
       "Actual platanus_acerifolia                          10   \n",
       "\n",
       "                            Predicted platanus_acerifolia  \n",
       "Actual acer_macrophyllum                               31  \n",
       "Actual picea_sitchensis                                 6  \n",
       "Actual platanus_acerifolia                             86  "
      ]
     },
     "execution_count": 54,
     "metadata": {},
     "output_type": "execute_result"
    }
   ],
   "source": [
    "gbeval.confusion_df(X_test, y_test)"
   ]
  },
  {
   "cell_type": "code",
   "execution_count": 55,
   "metadata": {},
   "outputs": [
    {
     "data": {
      "text/html": [
       "<div>\n",
       "<style scoped>\n",
       "    .dataframe tbody tr th:only-of-type {\n",
       "        vertical-align: middle;\n",
       "    }\n",
       "\n",
       "    .dataframe tbody tr th {\n",
       "        vertical-align: top;\n",
       "    }\n",
       "\n",
       "    .dataframe thead th {\n",
       "        text-align: right;\n",
       "    }\n",
       "</style>\n",
       "<table border=\"1\" class=\"dataframe\">\n",
       "  <thead>\n",
       "    <tr style=\"text-align: right;\">\n",
       "      <th></th>\n",
       "      <th>Predicted acer_macrophyllum</th>\n",
       "      <th>Predicted picea_sitchensis</th>\n",
       "      <th>Predicted platanus_acerifolia</th>\n",
       "    </tr>\n",
       "  </thead>\n",
       "  <tbody>\n",
       "    <tr>\n",
       "      <th>Actual acer_macrophyllum</th>\n",
       "      <td>409</td>\n",
       "      <td>0</td>\n",
       "      <td>3</td>\n",
       "    </tr>\n",
       "    <tr>\n",
       "      <th>Actual picea_sitchensis</th>\n",
       "      <td>2</td>\n",
       "      <td>459</td>\n",
       "      <td>0</td>\n",
       "    </tr>\n",
       "    <tr>\n",
       "      <th>Actual platanus_acerifolia</th>\n",
       "      <td>0</td>\n",
       "      <td>0</td>\n",
       "      <td>438</td>\n",
       "    </tr>\n",
       "  </tbody>\n",
       "</table>\n",
       "</div>"
      ],
      "text/plain": [
       "                            Predicted acer_macrophyllum  \\\n",
       "Actual acer_macrophyllum                            409   \n",
       "Actual picea_sitchensis                               2   \n",
       "Actual platanus_acerifolia                            0   \n",
       "\n",
       "                            Predicted picea_sitchensis  \\\n",
       "Actual acer_macrophyllum                             0   \n",
       "Actual picea_sitchensis                            459   \n",
       "Actual platanus_acerifolia                           0   \n",
       "\n",
       "                            Predicted platanus_acerifolia  \n",
       "Actual acer_macrophyllum                                3  \n",
       "Actual picea_sitchensis                                 0  \n",
       "Actual platanus_acerifolia                            438  "
      ]
     },
     "execution_count": 55,
     "metadata": {},
     "output_type": "execute_result"
    }
   ],
   "source": [
    "gbeval.confusion_df(X_train, y_train)"
   ]
  },
  {
   "cell_type": "code",
   "execution_count": null,
   "metadata": {
    "collapsed": true
   },
   "outputs": [],
   "source": []
  }
 ],
 "metadata": {
  "kernelspec": {
   "display_name": "Python 3",
   "language": "python",
   "name": "python3"
  },
  "language_info": {
   "codemirror_mode": {
    "name": "ipython",
    "version": 3
   },
   "file_extension": ".py",
   "mimetype": "text/x-python",
   "name": "python",
   "nbconvert_exporter": "python",
   "pygments_lexer": "ipython3",
   "version": "3.6.3"
  }
 },
 "nbformat": 4,
 "nbformat_minor": 2
}
