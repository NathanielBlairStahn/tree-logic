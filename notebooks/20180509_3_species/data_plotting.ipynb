{
 "cells": [
  {
   "cell_type": "markdown",
   "metadata": {},
   "source": [
    "# Visualize data for 3 species classifiers\n",
    "\n",
    "Monday, May 21, 2018"
   ]
  },
  {
   "cell_type": "code",
   "execution_count": 2,
   "metadata": {},
   "outputs": [
    {
     "name": "stdout",
     "output_type": "stream",
     "text": [
      "The autoreload extension is already loaded. To reload it, use:\n",
      "  %reload_ext autoreload\n"
     ]
    }
   ],
   "source": [
    "%load_ext autoreload\n",
    "%autoreload 2\n",
    "%matplotlib inline"
   ]
  },
  {
   "cell_type": "code",
   "execution_count": 3,
   "metadata": {
    "collapsed": true
   },
   "outputs": [],
   "source": [
    "import numpy as np\n",
    "import pandas as pd\n",
    "import matplotlib.pyplot as plt"
   ]
  },
  {
   "cell_type": "code",
   "execution_count": 4,
   "metadata": {
    "collapsed": true
   },
   "outputs": [],
   "source": [
    "import os\n",
    "import sys\n",
    "\n",
    "#Store the relative and absolute path to the home directory of the project\n",
    "project_directory = '../..'\n",
    "project_path = os.path.abspath(os.path.join(project_directory))\n",
    "\n",
    "#Add the project path to the system path if necessesary, to be able to load modules from subdirectories\n",
    "if project_path not in sys.path:\n",
    "    sys.path.append(project_path)"
   ]
  },
  {
   "cell_type": "code",
   "execution_count": 5,
   "metadata": {
    "collapsed": true
   },
   "outputs": [],
   "source": [
    "import src.image_manager as im\n",
    "import src.model_eval as meval"
   ]
  },
  {
   "cell_type": "markdown",
   "metadata": {},
   "source": [
    "## Load the data"
   ]
  },
  {
   "cell_type": "code",
   "execution_count": 6,
   "metadata": {
    "collapsed": true
   },
   "outputs": [],
   "source": [
    "train_images_path = os.path.join(project_path, 'data', 'predictions_3species_train_20180518.csv')\n",
    "test_images_path = os.path.join(project_path, 'data', 'predictions_3species_test_20180518.csv')"
   ]
  },
  {
   "cell_type": "code",
   "execution_count": 7,
   "metadata": {
    "collapsed": true
   },
   "outputs": [],
   "source": [
    "train_images = im.load_df(train_images_path)\n",
    "test_images = im.load_df(test_images_path)"
   ]
  },
  {
   "cell_type": "code",
   "execution_count": 8,
   "metadata": {},
   "outputs": [
    {
     "data": {
      "text/html": [
       "<div>\n",
       "<style scoped>\n",
       "    .dataframe tbody tr th:only-of-type {\n",
       "        vertical-align: middle;\n",
       "    }\n",
       "\n",
       "    .dataframe tbody tr th {\n",
       "        vertical-align: top;\n",
       "    }\n",
       "\n",
       "    .dataframe thead th {\n",
       "        text-align: right;\n",
       "    }\n",
       "</style>\n",
       "<table border=\"1\" class=\"dataframe\">\n",
       "  <thead>\n",
       "    <tr style=\"text-align: right;\">\n",
       "      <th></th>\n",
       "      <th>p_hash</th>\n",
       "      <th>filename</th>\n",
       "      <th>folder</th>\n",
       "      <th>prob_logl2_acer_macrophyllum</th>\n",
       "      <th>prob_logl2_picea_sitchensis</th>\n",
       "      <th>prob_logl2_platanus_acerifolia</th>\n",
       "      <th>prob_logl1_acer_macrophyllum</th>\n",
       "      <th>prob_logl1_picea_sitchensis</th>\n",
       "      <th>prob_logl1_platanus_acerifolia</th>\n",
       "      <th>prob_gb_acer_macrophyllum</th>\n",
       "      <th>prob_gb_picea_sitchensis</th>\n",
       "      <th>prob_gb_platanus_acerifolia</th>\n",
       "    </tr>\n",
       "  </thead>\n",
       "  <tbody>\n",
       "    <tr>\n",
       "      <th>4859</th>\n",
       "      <td>b483ca6d35c26be4</td>\n",
       "      <td>image_platanus_acerifolia_70.png</td>\n",
       "      <td>platanus_acerifolia</td>\n",
       "      <td>0.178430</td>\n",
       "      <td>0.183531</td>\n",
       "      <td>0.638039</td>\n",
       "      <td>0.077894</td>\n",
       "      <td>0.073958</td>\n",
       "      <td>0.848147</td>\n",
       "      <td>0.072220</td>\n",
       "      <td>0.086408</td>\n",
       "      <td>0.841372</td>\n",
       "    </tr>\n",
       "    <tr>\n",
       "      <th>430</th>\n",
       "      <td>eab824d0f0275ff0</td>\n",
       "      <td>image_acer_macrophylum_48.png</td>\n",
       "      <td>acer_macrophyllum</td>\n",
       "      <td>0.385181</td>\n",
       "      <td>0.288694</td>\n",
       "      <td>0.326125</td>\n",
       "      <td>0.523094</td>\n",
       "      <td>0.261840</td>\n",
       "      <td>0.215066</td>\n",
       "      <td>0.640437</td>\n",
       "      <td>0.133107</td>\n",
       "      <td>0.226456</td>\n",
       "    </tr>\n",
       "    <tr>\n",
       "      <th>3723</th>\n",
       "      <td>96c6eee1342fd0e0</td>\n",
       "      <td>image_sitka_spruce_branches_72.png</td>\n",
       "      <td>picea_sitchensis</td>\n",
       "      <td>0.092127</td>\n",
       "      <td>0.881363</td>\n",
       "      <td>0.026510</td>\n",
       "      <td>0.008962</td>\n",
       "      <td>0.989278</td>\n",
       "      <td>0.001760</td>\n",
       "      <td>0.057441</td>\n",
       "      <td>0.894977</td>\n",
       "      <td>0.047583</td>\n",
       "    </tr>\n",
       "    <tr>\n",
       "      <th>4893</th>\n",
       "      <td>87d2ba615925e69c</td>\n",
       "      <td>image_platanus_acerifolia_in_winter_67.png</td>\n",
       "      <td>platanus_acerifolia</td>\n",
       "      <td>0.283703</td>\n",
       "      <td>0.113394</td>\n",
       "      <td>0.602903</td>\n",
       "      <td>0.254364</td>\n",
       "      <td>0.033022</td>\n",
       "      <td>0.712613</td>\n",
       "      <td>0.150908</td>\n",
       "      <td>0.093110</td>\n",
       "      <td>0.755982</td>\n",
       "    </tr>\n",
       "    <tr>\n",
       "      <th>5016</th>\n",
       "      <td>bf9ec061679319a8</td>\n",
       "      <td>image_platanus_acerifolia_15.png</td>\n",
       "      <td>platanus_acerifolia</td>\n",
       "      <td>0.161379</td>\n",
       "      <td>0.132803</td>\n",
       "      <td>0.705818</td>\n",
       "      <td>0.096110</td>\n",
       "      <td>0.024797</td>\n",
       "      <td>0.879093</td>\n",
       "      <td>0.093978</td>\n",
       "      <td>0.082140</td>\n",
       "      <td>0.823882</td>\n",
       "    </tr>\n",
       "  </tbody>\n",
       "</table>\n",
       "</div>"
      ],
      "text/plain": [
       "                p_hash                                    filename  \\\n",
       "4859  b483ca6d35c26be4            image_platanus_acerifolia_70.png   \n",
       "430   eab824d0f0275ff0               image_acer_macrophylum_48.png   \n",
       "3723  96c6eee1342fd0e0          image_sitka_spruce_branches_72.png   \n",
       "4893  87d2ba615925e69c  image_platanus_acerifolia_in_winter_67.png   \n",
       "5016  bf9ec061679319a8            image_platanus_acerifolia_15.png   \n",
       "\n",
       "                   folder  prob_logl2_acer_macrophyllum  \\\n",
       "4859  platanus_acerifolia                      0.178430   \n",
       "430     acer_macrophyllum                      0.385181   \n",
       "3723     picea_sitchensis                      0.092127   \n",
       "4893  platanus_acerifolia                      0.283703   \n",
       "5016  platanus_acerifolia                      0.161379   \n",
       "\n",
       "      prob_logl2_picea_sitchensis  prob_logl2_platanus_acerifolia  \\\n",
       "4859                     0.183531                        0.638039   \n",
       "430                      0.288694                        0.326125   \n",
       "3723                     0.881363                        0.026510   \n",
       "4893                     0.113394                        0.602903   \n",
       "5016                     0.132803                        0.705818   \n",
       "\n",
       "      prob_logl1_acer_macrophyllum  prob_logl1_picea_sitchensis  \\\n",
       "4859                      0.077894                     0.073958   \n",
       "430                       0.523094                     0.261840   \n",
       "3723                      0.008962                     0.989278   \n",
       "4893                      0.254364                     0.033022   \n",
       "5016                      0.096110                     0.024797   \n",
       "\n",
       "      prob_logl1_platanus_acerifolia  prob_gb_acer_macrophyllum  \\\n",
       "4859                        0.848147                   0.072220   \n",
       "430                         0.215066                   0.640437   \n",
       "3723                        0.001760                   0.057441   \n",
       "4893                        0.712613                   0.150908   \n",
       "5016                        0.879093                   0.093978   \n",
       "\n",
       "      prob_gb_picea_sitchensis  prob_gb_platanus_acerifolia  \n",
       "4859                  0.086408                     0.841372  \n",
       "430                   0.133107                     0.226456  \n",
       "3723                  0.894977                     0.047583  \n",
       "4893                  0.093110                     0.755982  \n",
       "5016                  0.082140                     0.823882  "
      ]
     },
     "execution_count": 8,
     "metadata": {},
     "output_type": "execute_result"
    }
   ],
   "source": [
    "train_images.head()"
   ]
  },
  {
   "cell_type": "code",
   "execution_count": 9,
   "metadata": {},
   "outputs": [
    {
     "data": {
      "text/html": [
       "<div>\n",
       "<style scoped>\n",
       "    .dataframe tbody tr th:only-of-type {\n",
       "        vertical-align: middle;\n",
       "    }\n",
       "\n",
       "    .dataframe tbody tr th {\n",
       "        vertical-align: top;\n",
       "    }\n",
       "\n",
       "    .dataframe thead th {\n",
       "        text-align: right;\n",
       "    }\n",
       "</style>\n",
       "<table border=\"1\" class=\"dataframe\">\n",
       "  <thead>\n",
       "    <tr style=\"text-align: right;\">\n",
       "      <th></th>\n",
       "      <th>p_hash</th>\n",
       "      <th>filename</th>\n",
       "      <th>folder</th>\n",
       "      <th>prob_logl2_acer_macrophyllum</th>\n",
       "      <th>prob_logl2_picea_sitchensis</th>\n",
       "      <th>prob_logl2_platanus_acerifolia</th>\n",
       "      <th>prob_logl1_acer_macrophyllum</th>\n",
       "      <th>prob_logl1_picea_sitchensis</th>\n",
       "      <th>prob_logl1_platanus_acerifolia</th>\n",
       "      <th>prob_gb_acer_macrophyllum</th>\n",
       "      <th>prob_gb_picea_sitchensis</th>\n",
       "      <th>prob_gb_platanus_acerifolia</th>\n",
       "    </tr>\n",
       "  </thead>\n",
       "  <tbody>\n",
       "    <tr>\n",
       "      <th>244</th>\n",
       "      <td>ab968dad2c68b92a</td>\n",
       "      <td>image_bigleaf_maple_forest_79.png</td>\n",
       "      <td>acer_macrophyllum</td>\n",
       "      <td>0.548546</td>\n",
       "      <td>0.209120</td>\n",
       "      <td>0.242334</td>\n",
       "      <td>0.750607</td>\n",
       "      <td>0.159810</td>\n",
       "      <td>0.089583</td>\n",
       "      <td>0.511137</td>\n",
       "      <td>0.366253</td>\n",
       "      <td>0.122610</td>\n",
       "    </tr>\n",
       "    <tr>\n",
       "      <th>124</th>\n",
       "      <td>fa4ec0900fca3e2f</td>\n",
       "      <td>image_acer_macrophylum_seeds_55.png</td>\n",
       "      <td>acer_macrophyllum</td>\n",
       "      <td>0.313528</td>\n",
       "      <td>0.389070</td>\n",
       "      <td>0.297402</td>\n",
       "      <td>0.352706</td>\n",
       "      <td>0.388136</td>\n",
       "      <td>0.259158</td>\n",
       "      <td>0.278786</td>\n",
       "      <td>0.360384</td>\n",
       "      <td>0.360831</td>\n",
       "    </tr>\n",
       "    <tr>\n",
       "      <th>3782</th>\n",
       "      <td>919754baa2265e6b</td>\n",
       "      <td>image_sitka_spruce_cones_11.png</td>\n",
       "      <td>picea_sitchensis</td>\n",
       "      <td>0.167004</td>\n",
       "      <td>0.690549</td>\n",
       "      <td>0.142447</td>\n",
       "      <td>0.177125</td>\n",
       "      <td>0.518942</td>\n",
       "      <td>0.303932</td>\n",
       "      <td>0.143112</td>\n",
       "      <td>0.740831</td>\n",
       "      <td>0.116057</td>\n",
       "    </tr>\n",
       "    <tr>\n",
       "      <th>4119</th>\n",
       "      <td>bec0a0ee99265f64</td>\n",
       "      <td>image_picea_sitchensis_in_winter_37.png</td>\n",
       "      <td>picea_sitchensis</td>\n",
       "      <td>0.169243</td>\n",
       "      <td>0.685277</td>\n",
       "      <td>0.145480</td>\n",
       "      <td>0.065231</td>\n",
       "      <td>0.909061</td>\n",
       "      <td>0.025708</td>\n",
       "      <td>0.094602</td>\n",
       "      <td>0.810644</td>\n",
       "      <td>0.094755</td>\n",
       "    </tr>\n",
       "    <tr>\n",
       "      <th>4755</th>\n",
       "      <td>cf677c013aba0743</td>\n",
       "      <td>image_platanus_acerifolia_in_winter_84.png</td>\n",
       "      <td>platanus_acerifolia</td>\n",
       "      <td>0.159598</td>\n",
       "      <td>0.383001</td>\n",
       "      <td>0.457401</td>\n",
       "      <td>0.107544</td>\n",
       "      <td>0.369944</td>\n",
       "      <td>0.522512</td>\n",
       "      <td>0.164519</td>\n",
       "      <td>0.275061</td>\n",
       "      <td>0.560420</td>\n",
       "    </tr>\n",
       "  </tbody>\n",
       "</table>\n",
       "</div>"
      ],
      "text/plain": [
       "                p_hash                                    filename  \\\n",
       "244   ab968dad2c68b92a           image_bigleaf_maple_forest_79.png   \n",
       "124   fa4ec0900fca3e2f         image_acer_macrophylum_seeds_55.png   \n",
       "3782  919754baa2265e6b             image_sitka_spruce_cones_11.png   \n",
       "4119  bec0a0ee99265f64     image_picea_sitchensis_in_winter_37.png   \n",
       "4755  cf677c013aba0743  image_platanus_acerifolia_in_winter_84.png   \n",
       "\n",
       "                   folder  prob_logl2_acer_macrophyllum  \\\n",
       "244     acer_macrophyllum                      0.548546   \n",
       "124     acer_macrophyllum                      0.313528   \n",
       "3782     picea_sitchensis                      0.167004   \n",
       "4119     picea_sitchensis                      0.169243   \n",
       "4755  platanus_acerifolia                      0.159598   \n",
       "\n",
       "      prob_logl2_picea_sitchensis  prob_logl2_platanus_acerifolia  \\\n",
       "244                      0.209120                        0.242334   \n",
       "124                      0.389070                        0.297402   \n",
       "3782                     0.690549                        0.142447   \n",
       "4119                     0.685277                        0.145480   \n",
       "4755                     0.383001                        0.457401   \n",
       "\n",
       "      prob_logl1_acer_macrophyllum  prob_logl1_picea_sitchensis  \\\n",
       "244                       0.750607                     0.159810   \n",
       "124                       0.352706                     0.388136   \n",
       "3782                      0.177125                     0.518942   \n",
       "4119                      0.065231                     0.909061   \n",
       "4755                      0.107544                     0.369944   \n",
       "\n",
       "      prob_logl1_platanus_acerifolia  prob_gb_acer_macrophyllum  \\\n",
       "244                         0.089583                   0.511137   \n",
       "124                         0.259158                   0.278786   \n",
       "3782                        0.303932                   0.143112   \n",
       "4119                        0.025708                   0.094602   \n",
       "4755                        0.522512                   0.164519   \n",
       "\n",
       "      prob_gb_picea_sitchensis  prob_gb_platanus_acerifolia  \n",
       "244                   0.366253                     0.122610  \n",
       "124                   0.360384                     0.360831  \n",
       "3782                  0.740831                     0.116057  \n",
       "4119                  0.810644                     0.094755  \n",
       "4755                  0.275061                     0.560420  "
      ]
     },
     "execution_count": 9,
     "metadata": {},
     "output_type": "execute_result"
    }
   ],
   "source": [
    "test_images.head()"
   ]
  },
  {
   "cell_type": "markdown",
   "metadata": {},
   "source": [
    "## Manually recreate confusion matrix for gradient booster\n",
    "\n",
    "Switch the order of the species to match original data."
   ]
  },
  {
   "cell_type": "code",
   "execution_count": 11,
   "metadata": {
    "collapsed": true
   },
   "outputs": [],
   "source": [
    "species = ['Maple', 'Plane', 'Spruce']\n",
    "gb_confusion = np.array([[69,31, 14], [7,86,10], [7,6,98]])"
   ]
  },
  {
   "cell_type": "code",
   "execution_count": 12,
   "metadata": {},
   "outputs": [
    {
     "data": {
      "text/plain": [
       "array([[69, 31, 14],\n",
       "       [ 7, 86, 10],\n",
       "       [ 7,  6, 98]])"
      ]
     },
     "execution_count": 12,
     "metadata": {},
     "output_type": "execute_result"
    }
   ],
   "source": [
    "gb_confusion"
   ]
  },
  {
   "cell_type": "code",
   "execution_count": 18,
   "metadata": {},
   "outputs": [
    {
     "name": "stdout",
     "output_type": "stream",
     "text": [
      "Confusion matrix, without normalization\n",
      "[[69 31 14]\n",
      " [ 7 86 10]\n",
      " [ 7  6 98]]\n"
     ]
    },
    {
     "data": {
      "image/png": "[encoded data removed]",
      "text/plain": [
       "<matplotlib.figure.Figure at 0x118720e80>"
      ]
     },
     "metadata": {},
     "output_type": "display_data"
    }
   ],
   "source": [
    "plt.figure(figsize=(7,5))\n",
    "meval.plot_confusion_matrix(gb_confusion, species, cmap='YlGn', colorbar=True)\n",
    "plt.savefig(project_path + '/data/confusion_3species.png',bbox_inches=\"tight\")\n",
    "plt.show()"
   ]
  },
  {
   "cell_type": "code",
   "execution_count": null,
   "metadata": {
    "collapsed": true
   },
   "outputs": [],
   "source": []
  }
 ],
 "metadata": {
  "kernelspec": {
   "display_name": "Python 3",
   "language": "python",
   "name": "python3"
  },
  "language_info": {
   "codemirror_mode": {
    "name": "ipython",
    "version": 3
   },
   "file_extension": ".py",
   "mimetype": "text/x-python",
   "name": "python",
   "nbconvert_exporter": "python",
   "pygments_lexer": "ipython3",
   "version": "3.6.3"
  }
 },
 "nbformat": 4,
 "nbformat_minor": 2
}
