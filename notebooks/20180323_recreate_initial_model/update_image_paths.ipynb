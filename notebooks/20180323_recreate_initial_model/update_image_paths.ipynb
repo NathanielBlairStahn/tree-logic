{
 "cells": [
  {
   "cell_type": "markdown",
   "metadata": {},
   "source": [
    "# Update the image paths for the extracted features from Jan 29, 2018\n",
    "March 27, 2018\n",
    "\n",
    "Continue the work from `find_original_images.ipynb`. Use Keras to recompute the hashes of all my images, and see if I can find all of the original 1014 that I trained the model on."
   ]
  },
  {
   "cell_type": "code",
   "execution_count": 1,
   "metadata": {},
   "outputs": [
    {
     "name": "stderr",
     "output_type": "stream",
     "text": [
      "Using TensorFlow backend.\n"
     ]
    }
   ],
   "source": [
    "import numpy as np\n",
    "import pandas as pd\n",
    "import imagehash\n",
    "from keras.preprocessing import image"
   ]
  },
  {
   "cell_type": "code",
   "execution_count": 2,
   "metadata": {
    "collapsed": true
   },
   "outputs": [],
   "source": [
    "%load_ext autoreload\n",
    "%autoreload 2"
   ]
  },
  {
   "cell_type": "code",
   "execution_count": 3,
   "metadata": {
    "collapsed": true
   },
   "outputs": [],
   "source": [
    "#Solution to importing modules from a parallel directory from StackOverflow:\n",
    "#https://stackoverflow.com/questions/34478398/import-local-function-from-a-module-housed-in-another-directory-with-relative-im\n",
    "import os\n",
    "import sys\n",
    "module_path = os.path.abspath(os.path.join('..'))\n",
    "if module_path not in sys.path:\n",
    "    sys.path.append(module_path)"
   ]
  },
  {
   "cell_type": "code",
   "execution_count": 4,
   "metadata": {
    "collapsed": true
   },
   "outputs": [],
   "source": [
    "from src.image_manager import ImageManager"
   ]
  },
  {
   "cell_type": "markdown",
   "metadata": {},
   "source": [
    "## Create an ImageManager from my previously saved file database (saved as .csv's), then get a copy of its data frame\n",
    "See `more_image_manager_and_scraper.ipynb` from Feb 5, 2018"
   ]
  },
  {
   "cell_type": "code",
   "execution_count": 28,
   "metadata": {
    "collapsed": true
   },
   "outputs": [],
   "source": [
    "base_directory = '../tree_photos/'\n",
    "images_path = '../data/image_log_20180205.csv'\n",
    "syncs_path = '../data/image_syncs_20180205.csv'"
   ]
  },
  {
   "cell_type": "code",
   "execution_count": 32,
   "metadata": {
    "collapsed": true
   },
   "outputs": [],
   "source": [
    "manager = ImageManager(base_directory, images_path, syncs_path)"
   ]
  },
  {
   "cell_type": "code",
   "execution_count": 33,
   "metadata": {},
   "outputs": [
    {
     "data": {
      "text/html": [
       "<div>\n",
       "<style scoped>\n",
       "    .dataframe tbody tr th:only-of-type {\n",
       "        vertical-align: middle;\n",
       "    }\n",
       "\n",
       "    .dataframe tbody tr th {\n",
       "        vertical-align: top;\n",
       "    }\n",
       "\n",
       "    .dataframe thead th {\n",
       "        text-align: right;\n",
       "    }\n",
       "</style>\n",
       "<table border=\"1\" class=\"dataframe\">\n",
       "  <thead>\n",
       "    <tr style=\"text-align: right;\">\n",
       "      <th></th>\n",
       "      <th>p_hash</th>\n",
       "      <th>filename</th>\n",
       "      <th>folder</th>\n",
       "      <th>time_added</th>\n",
       "      <th>time_verified</th>\n",
       "    </tr>\n",
       "  </thead>\n",
       "  <tbody>\n",
       "    <tr>\n",
       "      <th>0</th>\n",
       "      <td>9bb759cb29b01a25</td>\n",
       "      <td>image_bigleaf_maple_57.png</td>\n",
       "      <td>acer_macrophyllum</td>\n",
       "      <td>2018-02-05 15:00:09.809644</td>\n",
       "      <td>2018-02-05 15:00:09.809644</td>\n",
       "    </tr>\n",
       "    <tr>\n",
       "      <th>1</th>\n",
       "      <td>99c20b3b74d53de0</td>\n",
       "      <td>image_bigleaf_maple_43.png</td>\n",
       "      <td>acer_macrophyllum</td>\n",
       "      <td>2018-02-05 15:00:09.819089</td>\n",
       "      <td>2018-02-05 15:00:09.819089</td>\n",
       "    </tr>\n",
       "    <tr>\n",
       "      <th>2</th>\n",
       "      <td>a1e1e0d4e646e765</td>\n",
       "      <td>image_big_leaf_maple_bark_48.png</td>\n",
       "      <td>acer_macrophyllum</td>\n",
       "      <td>2018-02-05 15:00:09.827989</td>\n",
       "      <td>2018-02-05 15:00:09.827989</td>\n",
       "    </tr>\n",
       "    <tr>\n",
       "      <th>3</th>\n",
       "      <td>abee94c19cb28b0e</td>\n",
       "      <td>image_acer_macrophylum_tree_49.png</td>\n",
       "      <td>acer_macrophyllum</td>\n",
       "      <td>2018-02-05 15:00:09.836027</td>\n",
       "      <td>2018-02-05 15:00:09.836027</td>\n",
       "    </tr>\n",
       "    <tr>\n",
       "      <th>4</th>\n",
       "      <td>d3c161631f2b4b4e</td>\n",
       "      <td>image_bigleaf_maple_94.png</td>\n",
       "      <td>acer_macrophyllum</td>\n",
       "      <td>2018-02-05 15:00:09.842604</td>\n",
       "      <td>2018-02-05 15:00:09.842604</td>\n",
       "    </tr>\n",
       "  </tbody>\n",
       "</table>\n",
       "</div>"
      ],
      "text/plain": [
       "             p_hash                            filename             folder  \\\n",
       "0  9bb759cb29b01a25          image_bigleaf_maple_57.png  acer_macrophyllum   \n",
       "1  99c20b3b74d53de0          image_bigleaf_maple_43.png  acer_macrophyllum   \n",
       "2  a1e1e0d4e646e765    image_big_leaf_maple_bark_48.png  acer_macrophyllum   \n",
       "3  abee94c19cb28b0e  image_acer_macrophylum_tree_49.png  acer_macrophyllum   \n",
       "4  d3c161631f2b4b4e          image_bigleaf_maple_94.png  acer_macrophyllum   \n",
       "\n",
       "                  time_added              time_verified  \n",
       "0 2018-02-05 15:00:09.809644 2018-02-05 15:00:09.809644  \n",
       "1 2018-02-05 15:00:09.819089 2018-02-05 15:00:09.819089  \n",
       "2 2018-02-05 15:00:09.827989 2018-02-05 15:00:09.827989  \n",
       "3 2018-02-05 15:00:09.836027 2018-02-05 15:00:09.836027  \n",
       "4 2018-02-05 15:00:09.842604 2018-02-05 15:00:09.842604  "
      ]
     },
     "execution_count": 33,
     "metadata": {},
     "output_type": "execute_result"
    }
   ],
   "source": [
    "image_df = manager.image_df.copy()\n",
    "image_df.head()"
   ]
  },
  {
   "cell_type": "code",
   "execution_count": 34,
   "metadata": {},
   "outputs": [
    {
     "data": {
      "text/html": [
       "<div>\n",
       "<style scoped>\n",
       "    .dataframe tbody tr th:only-of-type {\n",
       "        vertical-align: middle;\n",
       "    }\n",
       "\n",
       "    .dataframe tbody tr th {\n",
       "        vertical-align: top;\n",
       "    }\n",
       "\n",
       "    .dataframe thead th {\n",
       "        text-align: right;\n",
       "    }\n",
       "</style>\n",
       "<table border=\"1\" class=\"dataframe\">\n",
       "  <thead>\n",
       "    <tr style=\"text-align: right;\">\n",
       "      <th></th>\n",
       "      <th>time_started</th>\n",
       "      <th>time_completed</th>\n",
       "      <th>folders</th>\n",
       "    </tr>\n",
       "  </thead>\n",
       "  <tbody>\n",
       "    <tr>\n",
       "      <th>0</th>\n",
       "      <td>2018-02-05 15:00:09.802240</td>\n",
       "      <td>2018-02-05 15:00:48.258705</td>\n",
       "      <td>['acer_macrophyllum', 'betula_pendula', 'thuja...</td>\n",
       "    </tr>\n",
       "    <tr>\n",
       "      <th>1</th>\n",
       "      <td>2018-02-05 21:54:57.298852</td>\n",
       "      <td>2018-02-05 21:56:21.355441</td>\n",
       "      <td>['cedrus_libani', 'alnus_rubra', 'bad_images']</td>\n",
       "    </tr>\n",
       "  </tbody>\n",
       "</table>\n",
       "</div>"
      ],
      "text/plain": [
       "                time_started             time_completed  \\\n",
       "0 2018-02-05 15:00:09.802240 2018-02-05 15:00:48.258705   \n",
       "1 2018-02-05 21:54:57.298852 2018-02-05 21:56:21.355441   \n",
       "\n",
       "                                             folders  \n",
       "0  ['acer_macrophyllum', 'betula_pendula', 'thuja...  \n",
       "1     ['cedrus_libani', 'alnus_rubra', 'bad_images']  "
      ]
     },
     "execution_count": 34,
     "metadata": {},
     "output_type": "execute_result"
    }
   ],
   "source": [
    "manager.syncs_df"
   ]
  },
  {
   "cell_type": "markdown",
   "metadata": {},
   "source": [
    "## Open each image in `image_df` using Keras, compute its p_hash, and store the results in `image_df`\n",
    "\n",
    "See `feature_extraction.ipynb` from Jan 29, 2018 to see how I originally computed the image hashes.\n",
    "\n",
    "Method of applying a fumction to rows based on StackOverflow:\n",
    "https://stackoverflow.com/questions/26886653/pandas-create-new-column-based-on-values-from-other-columns"
   ]
  },
  {
   "cell_type": "code",
   "execution_count": 35,
   "metadata": {
    "collapsed": true
   },
   "outputs": [],
   "source": [
    "def p_hash_keras299(row):\n",
    "    \"\"\"Given a row of image_df, computes the p_hash of the image for that row\n",
    "    after reading in the image using Keras with a target size of (299,299).\n",
    "    \"\"\"\n",
    "    path = os.path.join(base_directory, row['folder'], row['filename'])\n",
    "    img = image.load_img(path, target_size=(299,299))\n",
    "    return imagehash.phash(img)"
   ]
  },
  {
   "cell_type": "code",
   "execution_count": 36,
   "metadata": {},
   "outputs": [
    {
     "data": {
      "text/plain": [
       "0    9bb759cb29301aa5\n",
       "1    99c20b3b74d53de0\n",
       "2    a1e1e0d4e646e765\n",
       "3    abee94c19cb28b0e\n",
       "4    d3c161631f2b4b4e\n",
       "dtype: object"
      ]
     },
     "execution_count": 36,
     "metadata": {},
     "output_type": "execute_result"
    }
   ],
   "source": [
    "#Compute the keras299 p-hashes of all images in image_df\n",
    "#Note that axis=1 means the function operates on rows rather than columns.\n",
    "#From documentation of DataFrame.apply:\n",
    "#\"Objects passed to functions are Series objects having index either the\n",
    "#DataFrame’s index (axis=0) or the columns (axis=1).\"\n",
    "keras299_hashes = image_df.apply(p_hash_keras299, axis = 1)\n",
    "keras299_hashes.head()"
   ]
  },
  {
   "cell_type": "code",
   "execution_count": 37,
   "metadata": {},
   "outputs": [
    {
     "data": {
      "text/html": [
       "<div>\n",
       "<style scoped>\n",
       "    .dataframe tbody tr th:only-of-type {\n",
       "        vertical-align: middle;\n",
       "    }\n",
       "\n",
       "    .dataframe tbody tr th {\n",
       "        vertical-align: top;\n",
       "    }\n",
       "\n",
       "    .dataframe thead th {\n",
       "        text-align: right;\n",
       "    }\n",
       "</style>\n",
       "<table border=\"1\" class=\"dataframe\">\n",
       "  <thead>\n",
       "    <tr style=\"text-align: right;\">\n",
       "      <th></th>\n",
       "      <th>p_hash</th>\n",
       "      <th>filename</th>\n",
       "      <th>folder</th>\n",
       "      <th>time_added</th>\n",
       "      <th>time_verified</th>\n",
       "      <th>p_hash_keras299</th>\n",
       "    </tr>\n",
       "  </thead>\n",
       "  <tbody>\n",
       "    <tr>\n",
       "      <th>0</th>\n",
       "      <td>9bb759cb29b01a25</td>\n",
       "      <td>image_bigleaf_maple_57.png</td>\n",
       "      <td>acer_macrophyllum</td>\n",
       "      <td>2018-02-05 15:00:09.809644</td>\n",
       "      <td>2018-02-05 15:00:09.809644</td>\n",
       "      <td>9bb759cb29301aa5</td>\n",
       "    </tr>\n",
       "    <tr>\n",
       "      <th>1</th>\n",
       "      <td>99c20b3b74d53de0</td>\n",
       "      <td>image_bigleaf_maple_43.png</td>\n",
       "      <td>acer_macrophyllum</td>\n",
       "      <td>2018-02-05 15:00:09.819089</td>\n",
       "      <td>2018-02-05 15:00:09.819089</td>\n",
       "      <td>99c20b3b74d53de0</td>\n",
       "    </tr>\n",
       "    <tr>\n",
       "      <th>2</th>\n",
       "      <td>a1e1e0d4e646e765</td>\n",
       "      <td>image_big_leaf_maple_bark_48.png</td>\n",
       "      <td>acer_macrophyllum</td>\n",
       "      <td>2018-02-05 15:00:09.827989</td>\n",
       "      <td>2018-02-05 15:00:09.827989</td>\n",
       "      <td>a1e1e0d4e646e765</td>\n",
       "    </tr>\n",
       "    <tr>\n",
       "      <th>3</th>\n",
       "      <td>abee94c19cb28b0e</td>\n",
       "      <td>image_acer_macrophylum_tree_49.png</td>\n",
       "      <td>acer_macrophyllum</td>\n",
       "      <td>2018-02-05 15:00:09.836027</td>\n",
       "      <td>2018-02-05 15:00:09.836027</td>\n",
       "      <td>abee94c19cb28b0e</td>\n",
       "    </tr>\n",
       "    <tr>\n",
       "      <th>4</th>\n",
       "      <td>d3c161631f2b4b4e</td>\n",
       "      <td>image_bigleaf_maple_94.png</td>\n",
       "      <td>acer_macrophyllum</td>\n",
       "      <td>2018-02-05 15:00:09.842604</td>\n",
       "      <td>2018-02-05 15:00:09.842604</td>\n",
       "      <td>d3c161631f2b4b4e</td>\n",
       "    </tr>\n",
       "  </tbody>\n",
       "</table>\n",
       "</div>"
      ],
      "text/plain": [
       "             p_hash                            filename             folder  \\\n",
       "0  9bb759cb29b01a25          image_bigleaf_maple_57.png  acer_macrophyllum   \n",
       "1  99c20b3b74d53de0          image_bigleaf_maple_43.png  acer_macrophyllum   \n",
       "2  a1e1e0d4e646e765    image_big_leaf_maple_bark_48.png  acer_macrophyllum   \n",
       "3  abee94c19cb28b0e  image_acer_macrophylum_tree_49.png  acer_macrophyllum   \n",
       "4  d3c161631f2b4b4e          image_bigleaf_maple_94.png  acer_macrophyllum   \n",
       "\n",
       "                  time_added              time_verified   p_hash_keras299  \n",
       "0 2018-02-05 15:00:09.809644 2018-02-05 15:00:09.809644  9bb759cb29301aa5  \n",
       "1 2018-02-05 15:00:09.819089 2018-02-05 15:00:09.819089  99c20b3b74d53de0  \n",
       "2 2018-02-05 15:00:09.827989 2018-02-05 15:00:09.827989  a1e1e0d4e646e765  \n",
       "3 2018-02-05 15:00:09.836027 2018-02-05 15:00:09.836027  abee94c19cb28b0e  \n",
       "4 2018-02-05 15:00:09.842604 2018-02-05 15:00:09.842604  d3c161631f2b4b4e  "
      ]
     },
     "execution_count": 37,
     "metadata": {},
     "output_type": "execute_result"
    }
   ],
   "source": [
    "image_df['p_hash_keras299'] = keras299_hashes\n",
    "image_df.head()"
   ]
  },
  {
   "cell_type": "markdown",
   "metadata": {},
   "source": [
    "## Find images where the hashes don't match\n",
    "\n",
    "It looks like there are 418 such images, or 7.26% of all 5760 images"
   ]
  },
  {
   "cell_type": "code",
   "execution_count": 38,
   "metadata": {},
   "outputs": [
    {
     "data": {
      "text/html": [
       "<div>\n",
       "<style scoped>\n",
       "    .dataframe tbody tr th:only-of-type {\n",
       "        vertical-align: middle;\n",
       "    }\n",
       "\n",
       "    .dataframe tbody tr th {\n",
       "        vertical-align: top;\n",
       "    }\n",
       "\n",
       "    .dataframe thead th {\n",
       "        text-align: right;\n",
       "    }\n",
       "</style>\n",
       "<table border=\"1\" class=\"dataframe\">\n",
       "  <thead>\n",
       "    <tr style=\"text-align: right;\">\n",
       "      <th></th>\n",
       "      <th>p_hash</th>\n",
       "      <th>filename</th>\n",
       "      <th>folder</th>\n",
       "      <th>time_added</th>\n",
       "      <th>time_verified</th>\n",
       "      <th>p_hash_keras299</th>\n",
       "    </tr>\n",
       "  </thead>\n",
       "  <tbody>\n",
       "    <tr>\n",
       "      <th>0</th>\n",
       "      <td>9bb759cb29b01a25</td>\n",
       "      <td>image_bigleaf_maple_57.png</td>\n",
       "      <td>acer_macrophyllum</td>\n",
       "      <td>2018-02-05 15:00:09.809644</td>\n",
       "      <td>2018-02-05 15:00:09.809644</td>\n",
       "      <td>9bb759cb29301aa5</td>\n",
       "    </tr>\n",
       "    <tr>\n",
       "      <th>7</th>\n",
       "      <td>db7431cef4184de0</td>\n",
       "      <td>image_acer_macrophylum_tree_75.png</td>\n",
       "      <td>acer_macrophyllum</td>\n",
       "      <td>2018-02-05 15:00:09.866679</td>\n",
       "      <td>2018-02-05 15:00:09.866679</td>\n",
       "      <td>db7431cef6104de0</td>\n",
       "    </tr>\n",
       "    <tr>\n",
       "      <th>66</th>\n",
       "      <td>e2bc1e96d70632b1</td>\n",
       "      <td>image_acer_macrophylum_tree_62.png</td>\n",
       "      <td>acer_macrophyllum</td>\n",
       "      <td>2018-02-05 15:00:10.339740</td>\n",
       "      <td>2018-02-05 15:00:10.339740</td>\n",
       "      <td>e2bc1e86d70636b1</td>\n",
       "    </tr>\n",
       "    <tr>\n",
       "      <th>75</th>\n",
       "      <td>f69c29b94e4b9c24</td>\n",
       "      <td>image_bigleaf_maple_forest_33.png</td>\n",
       "      <td>acer_macrophyllum</td>\n",
       "      <td>2018-02-05 15:00:10.412334</td>\n",
       "      <td>2018-02-05 15:00:10.412334</td>\n",
       "      <td>f69c29b94e4f9424</td>\n",
       "    </tr>\n",
       "    <tr>\n",
       "      <th>78</th>\n",
       "      <td>b790d34b9e69c18a</td>\n",
       "      <td>image_acer_macrophylum_seeds_78.png</td>\n",
       "      <td>acer_macrophyllum</td>\n",
       "      <td>2018-02-05 15:00:10.433250</td>\n",
       "      <td>2018-02-05 15:00:10.433250</td>\n",
       "      <td>b790d34b9e69858a</td>\n",
       "    </tr>\n",
       "  </tbody>\n",
       "</table>\n",
       "</div>"
      ],
      "text/plain": [
       "              p_hash                             filename             folder  \\\n",
       "0   9bb759cb29b01a25           image_bigleaf_maple_57.png  acer_macrophyllum   \n",
       "7   db7431cef4184de0   image_acer_macrophylum_tree_75.png  acer_macrophyllum   \n",
       "66  e2bc1e96d70632b1   image_acer_macrophylum_tree_62.png  acer_macrophyllum   \n",
       "75  f69c29b94e4b9c24    image_bigleaf_maple_forest_33.png  acer_macrophyllum   \n",
       "78  b790d34b9e69c18a  image_acer_macrophylum_seeds_78.png  acer_macrophyllum   \n",
       "\n",
       "                   time_added              time_verified   p_hash_keras299  \n",
       "0  2018-02-05 15:00:09.809644 2018-02-05 15:00:09.809644  9bb759cb29301aa5  \n",
       "7  2018-02-05 15:00:09.866679 2018-02-05 15:00:09.866679  db7431cef6104de0  \n",
       "66 2018-02-05 15:00:10.339740 2018-02-05 15:00:10.339740  e2bc1e86d70636b1  \n",
       "75 2018-02-05 15:00:10.412334 2018-02-05 15:00:10.412334  f69c29b94e4f9424  \n",
       "78 2018-02-05 15:00:10.433250 2018-02-05 15:00:10.433250  b790d34b9e69858a  "
      ]
     },
     "execution_count": 38,
     "metadata": {},
     "output_type": "execute_result"
    }
   ],
   "source": [
    "image_df[image_df['p_hash'] != image_df['p_hash_keras299']].head()"
   ]
  },
  {
   "cell_type": "code",
   "execution_count": 39,
   "metadata": {},
   "outputs": [
    {
     "name": "stdout",
     "output_type": "stream",
     "text": [
      "<class 'pandas.core.frame.DataFrame'>\n",
      "Int64Index: 418 entries, 0 to 5748\n",
      "Data columns (total 6 columns):\n",
      "p_hash             418 non-null object\n",
      "filename           418 non-null object\n",
      "folder             418 non-null object\n",
      "time_added         418 non-null datetime64[ns]\n",
      "time_verified      418 non-null datetime64[ns]\n",
      "p_hash_keras299    418 non-null object\n",
      "dtypes: datetime64[ns](2), object(4)\n",
      "memory usage: 22.9+ KB\n"
     ]
    }
   ],
   "source": [
    "image_df[image_df['p_hash'] != image_df['p_hash_keras299']].info()"
   ]
  },
  {
   "cell_type": "markdown",
   "metadata": {},
   "source": [
    "## Load the previously extracted features and convert the hash strings to imagehash objects\n",
    "See `build_a_model.ipynb` from Jan 30, 2018"
   ]
  },
  {
   "cell_type": "code",
   "execution_count": 40,
   "metadata": {},
   "outputs": [
    {
     "data": {
      "text/html": [
       "<div>\n",
       "<style scoped>\n",
       "    .dataframe tbody tr th:only-of-type {\n",
       "        vertical-align: middle;\n",
       "    }\n",
       "\n",
       "    .dataframe tbody tr th {\n",
       "        vertical-align: top;\n",
       "    }\n",
       "\n",
       "    .dataframe thead th {\n",
       "        text-align: right;\n",
       "    }\n",
       "</style>\n",
       "<table border=\"1\" class=\"dataframe\">\n",
       "  <thead>\n",
       "    <tr style=\"text-align: right;\">\n",
       "      <th></th>\n",
       "      <th>p_hash</th>\n",
       "      <th>filename</th>\n",
       "      <th>species</th>\n",
       "      <th>tags</th>\n",
       "      <th>incv3_out_0</th>\n",
       "      <th>incv3_out_1</th>\n",
       "      <th>incv3_out_2</th>\n",
       "      <th>incv3_out_3</th>\n",
       "      <th>incv3_out_4</th>\n",
       "      <th>incv3_out_5</th>\n",
       "      <th>...</th>\n",
       "      <th>incv3_out_2038</th>\n",
       "      <th>incv3_out_2039</th>\n",
       "      <th>incv3_out_2040</th>\n",
       "      <th>incv3_out_2041</th>\n",
       "      <th>incv3_out_2042</th>\n",
       "      <th>incv3_out_2043</th>\n",
       "      <th>incv3_out_2044</th>\n",
       "      <th>incv3_out_2045</th>\n",
       "      <th>incv3_out_2046</th>\n",
       "      <th>incv3_out_2047</th>\n",
       "    </tr>\n",
       "  </thead>\n",
       "  <tbody>\n",
       "    <tr>\n",
       "      <th>0</th>\n",
       "      <td>99a7465a1e99acb4</td>\n",
       "      <td>image_picea_sitchensis_27.png</td>\n",
       "      <td>picea_sitchensis</td>\n",
       "      <td>NaN</td>\n",
       "      <td>13.995308</td>\n",
       "      <td>1.316715</td>\n",
       "      <td>0.279829</td>\n",
       "      <td>67.839417</td>\n",
       "      <td>43.733177</td>\n",
       "      <td>38.206165</td>\n",
       "      <td>...</td>\n",
       "      <td>160.387985</td>\n",
       "      <td>1.176492</td>\n",
       "      <td>45.983730</td>\n",
       "      <td>10.465877</td>\n",
       "      <td>22.118896</td>\n",
       "      <td>3.226861</td>\n",
       "      <td>29.401524</td>\n",
       "      <td>0.486684</td>\n",
       "      <td>0.000000</td>\n",
       "      <td>15.634432</td>\n",
       "    </tr>\n",
       "    <tr>\n",
       "      <th>1</th>\n",
       "      <td>93d12f8e712ef068</td>\n",
       "      <td>image_picea_sitchensis_33.png</td>\n",
       "      <td>picea_sitchensis</td>\n",
       "      <td>NaN</td>\n",
       "      <td>7.449574</td>\n",
       "      <td>0.417233</td>\n",
       "      <td>0.447665</td>\n",
       "      <td>6.178374</td>\n",
       "      <td>2.092985</td>\n",
       "      <td>6.251201</td>\n",
       "      <td>...</td>\n",
       "      <td>2.649559</td>\n",
       "      <td>0.523397</td>\n",
       "      <td>0.392520</td>\n",
       "      <td>7.703988</td>\n",
       "      <td>13.842188</td>\n",
       "      <td>12.907540</td>\n",
       "      <td>1.112756</td>\n",
       "      <td>0.000000</td>\n",
       "      <td>5.436511</td>\n",
       "      <td>1.154409</td>\n",
       "    </tr>\n",
       "    <tr>\n",
       "      <th>2</th>\n",
       "      <td>cce3482eb991533b</td>\n",
       "      <td>image_picea_sitchensis_6.png</td>\n",
       "      <td>picea_sitchensis</td>\n",
       "      <td>NaN</td>\n",
       "      <td>0.708871</td>\n",
       "      <td>0.640444</td>\n",
       "      <td>1.305804</td>\n",
       "      <td>9.565918</td>\n",
       "      <td>15.157275</td>\n",
       "      <td>1.787687</td>\n",
       "      <td>...</td>\n",
       "      <td>15.114614</td>\n",
       "      <td>0.000000</td>\n",
       "      <td>0.066235</td>\n",
       "      <td>2.280773</td>\n",
       "      <td>8.082823</td>\n",
       "      <td>1.939496</td>\n",
       "      <td>0.041136</td>\n",
       "      <td>0.000000</td>\n",
       "      <td>0.000000</td>\n",
       "      <td>0.034437</td>\n",
       "    </tr>\n",
       "    <tr>\n",
       "      <th>3</th>\n",
       "      <td>c119991c4fcf1cda</td>\n",
       "      <td>image_picea_sitchensis_in_winter_12.png</td>\n",
       "      <td>picea_sitchensis</td>\n",
       "      <td>NaN</td>\n",
       "      <td>7.138457</td>\n",
       "      <td>1.225646</td>\n",
       "      <td>15.940742</td>\n",
       "      <td>42.644821</td>\n",
       "      <td>23.604031</td>\n",
       "      <td>13.818824</td>\n",
       "      <td>...</td>\n",
       "      <td>49.895081</td>\n",
       "      <td>0.000000</td>\n",
       "      <td>7.600242</td>\n",
       "      <td>3.260593</td>\n",
       "      <td>13.135204</td>\n",
       "      <td>12.249097</td>\n",
       "      <td>17.588070</td>\n",
       "      <td>0.000000</td>\n",
       "      <td>0.000000</td>\n",
       "      <td>0.000000</td>\n",
       "    </tr>\n",
       "    <tr>\n",
       "      <th>4</th>\n",
       "      <td>e3c3dab100fdc29c</td>\n",
       "      <td>image_sitka_spruce_59.png</td>\n",
       "      <td>picea_sitchensis</td>\n",
       "      <td>NaN</td>\n",
       "      <td>0.030419</td>\n",
       "      <td>2.616714</td>\n",
       "      <td>1.435360</td>\n",
       "      <td>52.145359</td>\n",
       "      <td>5.377345</td>\n",
       "      <td>5.631077</td>\n",
       "      <td>...</td>\n",
       "      <td>13.391465</td>\n",
       "      <td>21.970516</td>\n",
       "      <td>5.217728</td>\n",
       "      <td>8.282942</td>\n",
       "      <td>0.788009</td>\n",
       "      <td>0.591635</td>\n",
       "      <td>35.845409</td>\n",
       "      <td>0.000000</td>\n",
       "      <td>0.000000</td>\n",
       "      <td>2.780651</td>\n",
       "    </tr>\n",
       "  </tbody>\n",
       "</table>\n",
       "<p>5 rows × 2052 columns</p>\n",
       "</div>"
      ],
      "text/plain": [
       "             p_hash                                 filename  \\\n",
       "0  99a7465a1e99acb4            image_picea_sitchensis_27.png   \n",
       "1  93d12f8e712ef068            image_picea_sitchensis_33.png   \n",
       "2  cce3482eb991533b             image_picea_sitchensis_6.png   \n",
       "3  c119991c4fcf1cda  image_picea_sitchensis_in_winter_12.png   \n",
       "4  e3c3dab100fdc29c                image_sitka_spruce_59.png   \n",
       "\n",
       "            species  tags  incv3_out_0  incv3_out_1  incv3_out_2  incv3_out_3  \\\n",
       "0  picea_sitchensis   NaN    13.995308     1.316715     0.279829    67.839417   \n",
       "1  picea_sitchensis   NaN     7.449574     0.417233     0.447665     6.178374   \n",
       "2  picea_sitchensis   NaN     0.708871     0.640444     1.305804     9.565918   \n",
       "3  picea_sitchensis   NaN     7.138457     1.225646    15.940742    42.644821   \n",
       "4  picea_sitchensis   NaN     0.030419     2.616714     1.435360    52.145359   \n",
       "\n",
       "   incv3_out_4  incv3_out_5       ...        incv3_out_2038  incv3_out_2039  \\\n",
       "0    43.733177    38.206165       ...            160.387985        1.176492   \n",
       "1     2.092985     6.251201       ...              2.649559        0.523397   \n",
       "2    15.157275     1.787687       ...             15.114614        0.000000   \n",
       "3    23.604031    13.818824       ...             49.895081        0.000000   \n",
       "4     5.377345     5.631077       ...             13.391465       21.970516   \n",
       "\n",
       "   incv3_out_2040  incv3_out_2041  incv3_out_2042  incv3_out_2043  \\\n",
       "0       45.983730       10.465877       22.118896        3.226861   \n",
       "1        0.392520        7.703988       13.842188       12.907540   \n",
       "2        0.066235        2.280773        8.082823        1.939496   \n",
       "3        7.600242        3.260593       13.135204       12.249097   \n",
       "4        5.217728        8.282942        0.788009        0.591635   \n",
       "\n",
       "   incv3_out_2044  incv3_out_2045  incv3_out_2046  incv3_out_2047  \n",
       "0       29.401524        0.486684        0.000000       15.634432  \n",
       "1        1.112756        0.000000        5.436511        1.154409  \n",
       "2        0.041136        0.000000        0.000000        0.034437  \n",
       "3       17.588070        0.000000        0.000000        0.000000  \n",
       "4       35.845409        0.000000        0.000000        2.780651  \n",
       "\n",
       "[5 rows x 2052 columns]"
      ]
     },
     "execution_count": 40,
     "metadata": {},
     "output_type": "execute_result"
    }
   ],
   "source": [
    "tree_features_df = pd.read_csv('../data/tree_images.csv', sep='|', index_col=0)\n",
    "tree_features_df.head()"
   ]
  },
  {
   "cell_type": "code",
   "execution_count": 41,
   "metadata": {},
   "outputs": [
    {
     "data": {
      "text/plain": [
       "array([[ True, False, False,  True,  True, False, False,  True],\n",
       "       [ True, False,  True, False, False,  True,  True,  True],\n",
       "       [False,  True, False, False, False,  True,  True, False],\n",
       "       [False,  True, False,  True,  True, False,  True, False],\n",
       "       [False, False, False,  True,  True,  True,  True, False],\n",
       "       [ True, False, False,  True,  True, False, False,  True],\n",
       "       [ True, False,  True, False,  True,  True, False, False],\n",
       "       [ True, False,  True,  True, False,  True, False, False]], dtype=bool)"
      ]
     },
     "execution_count": 41,
     "metadata": {},
     "output_type": "execute_result"
    }
   ],
   "source": [
    "tree_features_df.loc[:,'p_hash'] = tree_features_df['p_hash'].apply(imagehash.hex_to_hash)\n",
    "tree_features_df.loc[0,'p_hash']"
   ]
  },
  {
   "cell_type": "code",
   "execution_count": 42,
   "metadata": {},
   "outputs": [
    {
     "name": "stdout",
     "output_type": "stream",
     "text": [
      "<class 'pandas.core.frame.DataFrame'>\n",
      "Int64Index: 1014 entries, 0 to 1013\n",
      "Columns: 2052 entries, p_hash to incv3_out_2047\n",
      "dtypes: float64(2049), object(3)\n",
      "memory usage: 15.9+ MB\n"
     ]
    }
   ],
   "source": [
    "tree_features_df.info()"
   ]
  },
  {
   "cell_type": "markdown",
   "metadata": {},
   "source": [
    "## Find images in image_df whose keras299 hashes match those of my original 1014 images"
   ]
  },
  {
   "cell_type": "code",
   "execution_count": 43,
   "metadata": {},
   "outputs": [
    {
     "data": {
      "text/plain": [
       "count      5760\n",
       "unique        2\n",
       "top       False\n",
       "freq       4745\n",
       "Name: p_hash_keras299, dtype: object"
      ]
     },
     "execution_count": 43,
     "metadata": {},
     "output_type": "execute_result"
    }
   ],
   "source": [
    "image_df['p_hash_keras299'].isin(tree_features_df['p_hash']).describe()"
   ]
  },
  {
   "cell_type": "code",
   "execution_count": 44,
   "metadata": {},
   "outputs": [
    {
     "data": {
      "text/plain": [
       "1015"
      ]
     },
     "execution_count": 44,
     "metadata": {},
     "output_type": "execute_result"
    }
   ],
   "source": [
    "#See how many images match\n",
    "5760 - 4745"
   ]
  },
  {
   "cell_type": "markdown",
   "metadata": {},
   "source": [
    "### Great, now I have one extra instead of 64 missing! WTF?!\n",
    "Perhaps there are two (or more...) images in image_df that have the same keras299 p_hash even though they have different PIL p_hashes?\n",
    "\n",
    "Um, yes, it looks like there are 42 repeats:"
   ]
  },
  {
   "cell_type": "code",
   "execution_count": 45,
   "metadata": {},
   "outputs": [
    {
     "data": {
      "text/plain": [
       "count                 5760\n",
       "unique                5718\n",
       "top       97b2784de2cc6139\n",
       "freq                     2\n",
       "Name: p_hash_keras299, dtype: object"
      ]
     },
     "execution_count": 45,
     "metadata": {},
     "output_type": "execute_result"
    }
   ],
   "source": [
    "image_df['p_hash_keras299'].describe()"
   ]
  },
  {
   "cell_type": "code",
   "execution_count": 46,
   "metadata": {},
   "outputs": [
    {
     "data": {
      "text/html": [
       "<div>\n",
       "<style scoped>\n",
       "    .dataframe tbody tr th:only-of-type {\n",
       "        vertical-align: middle;\n",
       "    }\n",
       "\n",
       "    .dataframe tbody tr th {\n",
       "        vertical-align: top;\n",
       "    }\n",
       "\n",
       "    .dataframe thead th {\n",
       "        text-align: right;\n",
       "    }\n",
       "</style>\n",
       "<table border=\"1\" class=\"dataframe\">\n",
       "  <thead>\n",
       "    <tr style=\"text-align: right;\">\n",
       "      <th></th>\n",
       "      <th>p_hash</th>\n",
       "      <th>filename</th>\n",
       "      <th>folder</th>\n",
       "      <th>time_added</th>\n",
       "      <th>time_verified</th>\n",
       "      <th>p_hash_keras299</th>\n",
       "    </tr>\n",
       "  </thead>\n",
       "  <tbody>\n",
       "    <tr>\n",
       "      <th>2410</th>\n",
       "      <td>d3f79d0836e20dd0</td>\n",
       "      <td>image_cedrus_libani_49.png</td>\n",
       "      <td>cedrus_libani</td>\n",
       "      <td>2018-02-05 15:00:29.658666</td>\n",
       "      <td>2018-02-05 15:00:29.658666</td>\n",
       "      <td>97b2784de2cc6139</td>\n",
       "    </tr>\n",
       "    <tr>\n",
       "      <th>5063</th>\n",
       "      <td>97b2784de2cc6139</td>\n",
       "      <td>image_cedrus_libani_49.png</td>\n",
       "      <td>cedrus_libani</td>\n",
       "      <td>2018-02-05 21:29:27.829710</td>\n",
       "      <td>2018-02-05 21:55:26.950389</td>\n",
       "      <td>97b2784de2cc6139</td>\n",
       "    </tr>\n",
       "  </tbody>\n",
       "</table>\n",
       "</div>"
      ],
      "text/plain": [
       "                p_hash                    filename         folder  \\\n",
       "2410  d3f79d0836e20dd0  image_cedrus_libani_49.png  cedrus_libani   \n",
       "5063  97b2784de2cc6139  image_cedrus_libani_49.png  cedrus_libani   \n",
       "\n",
       "                     time_added              time_verified   p_hash_keras299  \n",
       "2410 2018-02-05 15:00:29.658666 2018-02-05 15:00:29.658666  97b2784de2cc6139  \n",
       "5063 2018-02-05 21:29:27.829710 2018-02-05 21:55:26.950389  97b2784de2cc6139  "
      ]
     },
     "execution_count": 46,
     "metadata": {},
     "output_type": "execute_result"
    }
   ],
   "source": [
    "image_df[image_df['p_hash_keras299'] == imagehash.hex_to_hash('97b2784de2cc6139')]"
   ]
  },
  {
   "cell_type": "markdown",
   "metadata": {},
   "source": [
    "### Ugh, why does the same file have two different p_hashes?!\n",
    "Is there a bug in my ImageManager code?\n",
    "\n",
    "Um, no, I think it was a bug in my ImageScraper code -- it was likely overwriting files it shouldn't have. See below."
   ]
  },
  {
   "cell_type": "code",
   "execution_count": 26,
   "metadata": {},
   "outputs": [
    {
     "data": {
      "text/html": [
       "<div>\n",
       "<style scoped>\n",
       "    .dataframe tbody tr th:only-of-type {\n",
       "        vertical-align: middle;\n",
       "    }\n",
       "\n",
       "    .dataframe tbody tr th {\n",
       "        vertical-align: top;\n",
       "    }\n",
       "\n",
       "    .dataframe thead th {\n",
       "        text-align: right;\n",
       "    }\n",
       "</style>\n",
       "<table border=\"1\" class=\"dataframe\">\n",
       "  <thead>\n",
       "    <tr style=\"text-align: right;\">\n",
       "      <th></th>\n",
       "      <th>p_hash</th>\n",
       "      <th>filename</th>\n",
       "      <th>folder</th>\n",
       "      <th>time_added</th>\n",
       "      <th>time_verified</th>\n",
       "      <th>p_hash_keras299</th>\n",
       "    </tr>\n",
       "  </thead>\n",
       "  <tbody>\n",
       "  </tbody>\n",
       "</table>\n",
       "</div>"
      ],
      "text/plain": [
       "Empty DataFrame\n",
       "Columns: [p_hash, filename, folder, time_added, time_verified, p_hash_keras299]\n",
       "Index: []"
      ]
     },
     "execution_count": 26,
     "metadata": {},
     "output_type": "execute_result"
    }
   ],
   "source": [
    "image_df[image_df['p_hash_keras299'] == imagehash.hex_to_hash('d3f79d0836e20dd0')]\n",
    "#So none of the keras299 hashes match the original p_hash of this image"
   ]
  },
  {
   "cell_type": "code",
   "execution_count": 24,
   "metadata": {},
   "outputs": [
    {
     "data": {
      "text/plain": [
       "count                           5760\n",
       "unique                          5720\n",
       "top       image_cedrus_libani_94.png\n",
       "freq                               2\n",
       "Name: filename, dtype: object"
      ]
     },
     "execution_count": 24,
     "metadata": {},
     "output_type": "execute_result"
    }
   ],
   "source": [
    "image_df['filename'].describe()\n",
    "#So it looks like there are 40 repeated filenames"
   ]
  },
  {
   "cell_type": "code",
   "execution_count": 25,
   "metadata": {},
   "outputs": [
    {
     "data": {
      "text/html": [
       "<div>\n",
       "<style scoped>\n",
       "    .dataframe tbody tr th:only-of-type {\n",
       "        vertical-align: middle;\n",
       "    }\n",
       "\n",
       "    .dataframe tbody tr th {\n",
       "        vertical-align: top;\n",
       "    }\n",
       "\n",
       "    .dataframe thead th {\n",
       "        text-align: right;\n",
       "    }\n",
       "</style>\n",
       "<table border=\"1\" class=\"dataframe\">\n",
       "  <thead>\n",
       "    <tr style=\"text-align: right;\">\n",
       "      <th></th>\n",
       "      <th>p_hash</th>\n",
       "      <th>filename</th>\n",
       "      <th>folder</th>\n",
       "      <th>time_added</th>\n",
       "      <th>time_verified</th>\n",
       "      <th>p_hash_keras299</th>\n",
       "    </tr>\n",
       "  </thead>\n",
       "  <tbody>\n",
       "    <tr>\n",
       "      <th>2330</th>\n",
       "      <td>e9e9c1178d1c965a</td>\n",
       "      <td>image_cedrus_libani_94.png</td>\n",
       "      <td>cedrus_libani</td>\n",
       "      <td>1517842828981828000</td>\n",
       "      <td>1517842828981828000</td>\n",
       "      <td>b293257039ce197e</td>\n",
       "    </tr>\n",
       "    <tr>\n",
       "      <th>4604</th>\n",
       "      <td>b293257039ce197e</td>\n",
       "      <td>image_cedrus_libani_94.png</td>\n",
       "      <td>cedrus_libani</td>\n",
       "      <td>1517866154904047000</td>\n",
       "      <td>1517867698086015000</td>\n",
       "      <td>b293257039ce197e</td>\n",
       "    </tr>\n",
       "  </tbody>\n",
       "</table>\n",
       "</div>"
      ],
      "text/plain": [
       "                p_hash                    filename         folder  \\\n",
       "2330  e9e9c1178d1c965a  image_cedrus_libani_94.png  cedrus_libani   \n",
       "4604  b293257039ce197e  image_cedrus_libani_94.png  cedrus_libani   \n",
       "\n",
       "               time_added        time_verified   p_hash_keras299  \n",
       "2330  1517842828981828000  1517842828981828000  b293257039ce197e  \n",
       "4604  1517866154904047000  1517867698086015000  b293257039ce197e  "
      ]
     },
     "execution_count": 25,
     "metadata": {},
     "output_type": "execute_result"
    }
   ],
   "source": [
    "image_df[image_df['filename'] == 'image_cedrus_libani_94.png']"
   ]
  },
  {
   "cell_type": "code",
   "execution_count": 27,
   "metadata": {},
   "outputs": [
    {
     "data": {
      "text/html": [
       "<div>\n",
       "<style scoped>\n",
       "    .dataframe tbody tr th:only-of-type {\n",
       "        vertical-align: middle;\n",
       "    }\n",
       "\n",
       "    .dataframe tbody tr th {\n",
       "        vertical-align: top;\n",
       "    }\n",
       "\n",
       "    .dataframe thead th {\n",
       "        text-align: right;\n",
       "    }\n",
       "</style>\n",
       "<table border=\"1\" class=\"dataframe\">\n",
       "  <thead>\n",
       "    <tr style=\"text-align: right;\">\n",
       "      <th></th>\n",
       "      <th>p_hash</th>\n",
       "      <th>filename</th>\n",
       "      <th>folder</th>\n",
       "      <th>time_added</th>\n",
       "      <th>time_verified</th>\n",
       "      <th>p_hash_keras299</th>\n",
       "    </tr>\n",
       "  </thead>\n",
       "  <tbody>\n",
       "  </tbody>\n",
       "</table>\n",
       "</div>"
      ],
      "text/plain": [
       "Empty DataFrame\n",
       "Columns: [p_hash, filename, folder, time_added, time_verified, p_hash_keras299]\n",
       "Index: []"
      ]
     },
     "execution_count": 27,
     "metadata": {},
     "output_type": "execute_result"
    }
   ],
   "source": [
    "image_df[image_df['p_hash_keras299'] == imagehash.hex_to_hash('e9e9c1178d1c965a')]\n",
    "#So none of the keras299 hashes match the original p_hash of this image"
   ]
  },
  {
   "cell_type": "code",
   "execution_count": 47,
   "metadata": {},
   "outputs": [
    {
     "data": {
      "text/plain": [
       "'yak/.txt'"
      ]
     },
     "execution_count": 47,
     "metadata": {},
     "output_type": "execute_result"
    }
   ],
   "source": [
    "os.path.join('yak', '.txt')"
   ]
  },
  {
   "cell_type": "markdown",
   "metadata": {
    "collapsed": true
   },
   "source": [
    "## Ok, here's what I think happened:\n",
    "\n",
    "(written Fri May 11, 2018)\n",
    "\n",
    "My ImageScraper code originally did not check whether a file existed before it wrote to disk. It worked like this: For every image it found during a web search, it checked whether the hash of that image matched a hash that was already in the dataframe. If so, that means (supposedly) that we already have the same image, so we don't need to save it. If not, that means (supposedly) that we found a new image, so we need to save it; thus, the image scraper would write a file named `image_{search_terms}_{i}.png`, where `i` is the number of images it has found so far. However, it did **not** check whether a file with this name already existed, which could easily happen if a previous search found a *different* image but used this same file name. Therefore, whenever this situation occurred, we would overwrite an old image with the new image, but we would still have the hash value for the old image stored in the dataframe. BAD!\n",
    "\n",
    "Ok, so now, what would happen when we re-sync the (corrupted) dataframe to the new files? The dataframe, which has not been altered yet, is now \"corrupted\" in the sense that some of the primary keys (hash values) now map to the wrong images, because the correct images were overwritten. In other words, some of the image files listed in the dataframe will have different hash values than the dataframe says they have.\n",
    "\n",
    "The first thing that happens in `.sync_images()` is that the dictionary gets synced to the current dataframe. That is, the existing dictionary is erased, and we create a new dictionary mapping the hash values in the current dataframe to the corresponding filename listed in the dataframe. So now, some of these hashes are mapping to an image file that does not actually have that hash. Consider a hypothetical scenario.\n",
    "\n",
    "The dataframe originally stored image A with filename A and hash A. The image scraper overwrote filename A with image B. So now filename A stores image B, which has hash B, but the dataframe lists its hash as hash A. Now suppose we are syncing, and we come to filename A. The image manager computes the hash of filename A, which is hash B. There are two possibilities:\n",
    "\n",
    "1. Hash B is not in the dataframe. In this case, the image manager adds a new row to the dataframe with hash B and filename A, and it adds the corresponding item to the dictionary. The dataframe now has two rows with filename A, the original one with hash A (which is now incorrect), and the new one with hash B (which is correct).\n",
    "\n",
    "2. Hash B is already in the dataframe. How could this happen? Suppose that after the image scraper found the new image B, it found the same image B again later. Since we still wouldn't have had hash B stored in the dataframe, the scraper would have written image B again to a different file, say filename C. In this case, if filename C already existed, then it would be overwritten and we would get *yet another* incorrect filename/hash pair. If filename C did *not* already exist, then we would get a new file, filename C, with hash B.\n",
    " \n",
    "On the other hand, suppose the image manager comes across a different image file, say filename D, which has hash A. Can this happen? This *shouldn't* have happened if the image scraper was checking whether the hash value existed in the dataframe before saving the image. But if I ran the code before I added that feature, I suppose it's possible. In that case, the image manager would store both filename A and filename D in the dictionary, and the order would depend on which one it encountered first."
   ]
  },
  {
   "cell_type": "code",
   "execution_count": null,
   "metadata": {
    "collapsed": true
   },
   "outputs": [],
   "source": []
  }
 ],
 "metadata": {
  "kernelspec": {
   "display_name": "Python 3",
   "language": "python",
   "name": "python3"
  },
  "language_info": {
   "codemirror_mode": {
    "name": "ipython",
    "version": 3
   },
   "file_extension": ".py",
   "mimetype": "text/x-python",
   "name": "python",
   "nbconvert_exporter": "python",
   "pygments_lexer": "ipython3",
   "version": "3.6.3"
  }
 },
 "nbformat": 4,
 "nbformat_minor": 2
}
