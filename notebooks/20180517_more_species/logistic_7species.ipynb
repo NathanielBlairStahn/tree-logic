{
 "cells": [
  {
   "cell_type": "markdown",
   "metadata": {},
   "source": [
    "# Train a logistic regression and gradient booster on 7 species!\n",
    "\n",
    "Sunday, May 20, 2018"
   ]
  },
  {
   "cell_type": "code",
   "execution_count": 1,
   "metadata": {
    "collapsed": true
   },
   "outputs": [],
   "source": [
    "%load_ext autoreload\n",
    "%autoreload 2"
   ]
  },
  {
   "cell_type": "code",
   "execution_count": 2,
   "metadata": {
    "collapsed": true
   },
   "outputs": [],
   "source": [
    "import numpy as np\n",
    "import pandas as pd\n",
    "\n",
    "from sklearn.model_selection import train_test_split, GridSearchCV, cross_validate\n",
    "from sklearn.linear_model import LogisticRegression\n",
    "from sklearn.ensemble import GradientBoostingClassifier"
   ]
  },
  {
   "cell_type": "code",
   "execution_count": 3,
   "metadata": {
    "collapsed": true
   },
   "outputs": [],
   "source": [
    "import os\n",
    "import sys\n",
    "\n",
    "#Store the relative and absolute path to the home directory of the project\n",
    "project_directory = '../..'\n",
    "project_path = os.path.abspath(os.path.join(project_directory))\n",
    "\n",
    "#Add the project path to the system path if necessesary, to be able to load modules from subdirectories\n",
    "if project_path not in sys.path:\n",
    "    sys.path.append(project_path)"
   ]
  },
  {
   "cell_type": "code",
   "execution_count": 4,
   "metadata": {
    "collapsed": true
   },
   "outputs": [],
   "source": [
    "import src.image_manager as im\n",
    "import src.model_eval as meval"
   ]
  },
  {
   "cell_type": "markdown",
   "metadata": {},
   "source": [
    "## Load the feature data frames and append them together"
   ]
  },
  {
   "cell_type": "code",
   "execution_count": 5,
   "metadata": {
    "collapsed": true
   },
   "outputs": [],
   "source": [
    "acer_picea_platanus_path = os.path.join(project_path, 'data', 'features_3species_20180514.csv')\n",
    "alnus_thuja_path = os.path.join(project_path, 'data', 'features_alnus_thuja.csv')\n",
    "features_cedrus_pseudotsuga_path = os.path.join(project_path, 'data', 'features_cedrus_pseudotsuga.csv')"
   ]
  },
  {
   "cell_type": "code",
   "execution_count": 7,
   "metadata": {
    "collapsed": true
   },
   "outputs": [],
   "source": [
    "acer_picea_platanus_df = im.load_df(acer_picea_platanus_path)\n",
    "alnus_thuja_df = im.load_df(alnus_thuja_path)\n",
    "cedrus_pseudotsuga_df = im.load_df(features_cedrus_pseudotsuga_path)"
   ]
  },
  {
   "cell_type": "code",
   "execution_count": 8,
   "metadata": {},
   "outputs": [
    {
     "name": "stdout",
     "output_type": "stream",
     "text": [
      "<class 'pandas.core.frame.DataFrame'>\n",
      "Int64Index: 3933 entries, 0 to 3556\n",
      "Columns: 2051 entries, p_hash to incv3_out_2047\n",
      "dtypes: float64(2048), object(3)\n",
      "memory usage: 61.6+ MB\n"
     ]
    }
   ],
   "source": [
    "features_df = acer_picea_platanus_df.append(alnus_thuja_df).append(cedrus_pseudotsuga_df)\n",
    "features_df.info()"
   ]
  },
  {
   "cell_type": "code",
   "execution_count": 9,
   "metadata": {},
   "outputs": [
    {
     "data": {
      "text/html": [
       "<div>\n",
       "<style scoped>\n",
       "    .dataframe tbody tr th:only-of-type {\n",
       "        vertical-align: middle;\n",
       "    }\n",
       "\n",
       "    .dataframe tbody tr th {\n",
       "        vertical-align: top;\n",
       "    }\n",
       "\n",
       "    .dataframe thead th {\n",
       "        text-align: right;\n",
       "    }\n",
       "</style>\n",
       "<table border=\"1\" class=\"dataframe\">\n",
       "  <thead>\n",
       "    <tr style=\"text-align: right;\">\n",
       "      <th></th>\n",
       "      <th>p_hash</th>\n",
       "      <th>filename</th>\n",
       "      <th>folder</th>\n",
       "      <th>incv3_out_0</th>\n",
       "      <th>incv3_out_1</th>\n",
       "      <th>incv3_out_2</th>\n",
       "      <th>incv3_out_3</th>\n",
       "      <th>incv3_out_4</th>\n",
       "      <th>incv3_out_5</th>\n",
       "      <th>incv3_out_6</th>\n",
       "      <th>...</th>\n",
       "      <th>incv3_out_2038</th>\n",
       "      <th>incv3_out_2039</th>\n",
       "      <th>incv3_out_2040</th>\n",
       "      <th>incv3_out_2041</th>\n",
       "      <th>incv3_out_2042</th>\n",
       "      <th>incv3_out_2043</th>\n",
       "      <th>incv3_out_2044</th>\n",
       "      <th>incv3_out_2045</th>\n",
       "      <th>incv3_out_2046</th>\n",
       "      <th>incv3_out_2047</th>\n",
       "    </tr>\n",
       "  </thead>\n",
       "  <tbody>\n",
       "    <tr>\n",
       "      <th>0</th>\n",
       "      <td>9bb759cb29b01a25</td>\n",
       "      <td>image_bigleaf_maple_57.png</td>\n",
       "      <td>acer_macrophyllum</td>\n",
       "      <td>0.180042</td>\n",
       "      <td>0.057599</td>\n",
       "      <td>0.632024</td>\n",
       "      <td>0.021612</td>\n",
       "      <td>0.297033</td>\n",
       "      <td>0.011966</td>\n",
       "      <td>0.903157</td>\n",
       "      <td>...</td>\n",
       "      <td>0.360490</td>\n",
       "      <td>0.009282</td>\n",
       "      <td>0.055258</td>\n",
       "      <td>0.110056</td>\n",
       "      <td>0.058888</td>\n",
       "      <td>0.201237</td>\n",
       "      <td>0.198077</td>\n",
       "      <td>1.394304</td>\n",
       "      <td>0.155102</td>\n",
       "      <td>0.000000</td>\n",
       "    </tr>\n",
       "    <tr>\n",
       "      <th>1</th>\n",
       "      <td>99c20b3b74d53de0</td>\n",
       "      <td>image_bigleaf_maple_43.png</td>\n",
       "      <td>acer_macrophyllum</td>\n",
       "      <td>0.667066</td>\n",
       "      <td>0.249269</td>\n",
       "      <td>0.074132</td>\n",
       "      <td>0.177577</td>\n",
       "      <td>0.520580</td>\n",
       "      <td>0.167225</td>\n",
       "      <td>0.233005</td>\n",
       "      <td>...</td>\n",
       "      <td>1.446164</td>\n",
       "      <td>0.920353</td>\n",
       "      <td>0.823285</td>\n",
       "      <td>0.617185</td>\n",
       "      <td>0.121126</td>\n",
       "      <td>0.065866</td>\n",
       "      <td>0.876259</td>\n",
       "      <td>0.226926</td>\n",
       "      <td>0.274808</td>\n",
       "      <td>0.000000</td>\n",
       "    </tr>\n",
       "    <tr>\n",
       "      <th>2</th>\n",
       "      <td>a1e1e0d4e646e765</td>\n",
       "      <td>image_big_leaf_maple_bark_48.png</td>\n",
       "      <td>acer_macrophyllum</td>\n",
       "      <td>0.159188</td>\n",
       "      <td>0.011783</td>\n",
       "      <td>0.187351</td>\n",
       "      <td>0.211521</td>\n",
       "      <td>0.466182</td>\n",
       "      <td>0.387081</td>\n",
       "      <td>0.217815</td>\n",
       "      <td>...</td>\n",
       "      <td>1.198391</td>\n",
       "      <td>0.460702</td>\n",
       "      <td>0.157247</td>\n",
       "      <td>0.267633</td>\n",
       "      <td>0.006349</td>\n",
       "      <td>0.466702</td>\n",
       "      <td>0.641492</td>\n",
       "      <td>1.066418</td>\n",
       "      <td>0.145887</td>\n",
       "      <td>0.223863</td>\n",
       "    </tr>\n",
       "    <tr>\n",
       "      <th>3</th>\n",
       "      <td>abee94c19cb28b0e</td>\n",
       "      <td>image_acer_macrophylum_tree_49.png</td>\n",
       "      <td>acer_macrophyllum</td>\n",
       "      <td>0.658278</td>\n",
       "      <td>0.010192</td>\n",
       "      <td>0.344359</td>\n",
       "      <td>0.192652</td>\n",
       "      <td>0.342696</td>\n",
       "      <td>0.362848</td>\n",
       "      <td>0.562928</td>\n",
       "      <td>...</td>\n",
       "      <td>0.257585</td>\n",
       "      <td>0.077631</td>\n",
       "      <td>0.057183</td>\n",
       "      <td>0.411228</td>\n",
       "      <td>0.417154</td>\n",
       "      <td>0.048589</td>\n",
       "      <td>0.421282</td>\n",
       "      <td>0.057896</td>\n",
       "      <td>0.325496</td>\n",
       "      <td>0.145896</td>\n",
       "    </tr>\n",
       "    <tr>\n",
       "      <th>4</th>\n",
       "      <td>d3c161631f2b4b4e</td>\n",
       "      <td>image_bigleaf_maple_94.png</td>\n",
       "      <td>acer_macrophyllum</td>\n",
       "      <td>0.056695</td>\n",
       "      <td>0.255299</td>\n",
       "      <td>0.407071</td>\n",
       "      <td>0.066481</td>\n",
       "      <td>0.000076</td>\n",
       "      <td>0.568202</td>\n",
       "      <td>0.362414</td>\n",
       "      <td>...</td>\n",
       "      <td>1.289151</td>\n",
       "      <td>0.578341</td>\n",
       "      <td>0.963826</td>\n",
       "      <td>0.028785</td>\n",
       "      <td>0.310883</td>\n",
       "      <td>0.001386</td>\n",
       "      <td>1.154405</td>\n",
       "      <td>0.034431</td>\n",
       "      <td>0.768076</td>\n",
       "      <td>0.217323</td>\n",
       "    </tr>\n",
       "  </tbody>\n",
       "</table>\n",
       "<p>5 rows × 2051 columns</p>\n",
       "</div>"
      ],
      "text/plain": [
       "             p_hash                            filename             folder  \\\n",
       "0  9bb759cb29b01a25          image_bigleaf_maple_57.png  acer_macrophyllum   \n",
       "1  99c20b3b74d53de0          image_bigleaf_maple_43.png  acer_macrophyllum   \n",
       "2  a1e1e0d4e646e765    image_big_leaf_maple_bark_48.png  acer_macrophyllum   \n",
       "3  abee94c19cb28b0e  image_acer_macrophylum_tree_49.png  acer_macrophyllum   \n",
       "4  d3c161631f2b4b4e          image_bigleaf_maple_94.png  acer_macrophyllum   \n",
       "\n",
       "   incv3_out_0  incv3_out_1  incv3_out_2  incv3_out_3  incv3_out_4  \\\n",
       "0     0.180042     0.057599     0.632024     0.021612     0.297033   \n",
       "1     0.667066     0.249269     0.074132     0.177577     0.520580   \n",
       "2     0.159188     0.011783     0.187351     0.211521     0.466182   \n",
       "3     0.658278     0.010192     0.344359     0.192652     0.342696   \n",
       "4     0.056695     0.255299     0.407071     0.066481     0.000076   \n",
       "\n",
       "   incv3_out_5  incv3_out_6       ...        incv3_out_2038  incv3_out_2039  \\\n",
       "0     0.011966     0.903157       ...              0.360490        0.009282   \n",
       "1     0.167225     0.233005       ...              1.446164        0.920353   \n",
       "2     0.387081     0.217815       ...              1.198391        0.460702   \n",
       "3     0.362848     0.562928       ...              0.257585        0.077631   \n",
       "4     0.568202     0.362414       ...              1.289151        0.578341   \n",
       "\n",
       "   incv3_out_2040  incv3_out_2041  incv3_out_2042  incv3_out_2043  \\\n",
       "0        0.055258        0.110056        0.058888        0.201237   \n",
       "1        0.823285        0.617185        0.121126        0.065866   \n",
       "2        0.157247        0.267633        0.006349        0.466702   \n",
       "3        0.057183        0.411228        0.417154        0.048589   \n",
       "4        0.963826        0.028785        0.310883        0.001386   \n",
       "\n",
       "   incv3_out_2044  incv3_out_2045  incv3_out_2046  incv3_out_2047  \n",
       "0        0.198077        1.394304        0.155102        0.000000  \n",
       "1        0.876259        0.226926        0.274808        0.000000  \n",
       "2        0.641492        1.066418        0.145887        0.223863  \n",
       "3        0.421282        0.057896        0.325496        0.145896  \n",
       "4        1.154405        0.034431        0.768076        0.217323  \n",
       "\n",
       "[5 rows x 2051 columns]"
      ]
     },
     "execution_count": 9,
     "metadata": {},
     "output_type": "execute_result"
    }
   ],
   "source": [
    "features_df.head()"
   ]
  },
  {
   "cell_type": "code",
   "execution_count": 10,
   "metadata": {},
   "outputs": [
    {
     "data": {
      "text/html": [
       "<div>\n",
       "<style scoped>\n",
       "    .dataframe tbody tr th:only-of-type {\n",
       "        vertical-align: middle;\n",
       "    }\n",
       "\n",
       "    .dataframe tbody tr th {\n",
       "        vertical-align: top;\n",
       "    }\n",
       "\n",
       "    .dataframe thead th {\n",
       "        text-align: right;\n",
       "    }\n",
       "</style>\n",
       "<table border=\"1\" class=\"dataframe\">\n",
       "  <thead>\n",
       "    <tr style=\"text-align: right;\">\n",
       "      <th></th>\n",
       "      <th>p_hash</th>\n",
       "      <th>filename</th>\n",
       "      <th>folder</th>\n",
       "      <th>incv3_out_0</th>\n",
       "      <th>incv3_out_1</th>\n",
       "      <th>incv3_out_2</th>\n",
       "      <th>incv3_out_3</th>\n",
       "      <th>incv3_out_4</th>\n",
       "      <th>incv3_out_5</th>\n",
       "      <th>incv3_out_6</th>\n",
       "      <th>...</th>\n",
       "      <th>incv3_out_2038</th>\n",
       "      <th>incv3_out_2039</th>\n",
       "      <th>incv3_out_2040</th>\n",
       "      <th>incv3_out_2041</th>\n",
       "      <th>incv3_out_2042</th>\n",
       "      <th>incv3_out_2043</th>\n",
       "      <th>incv3_out_2044</th>\n",
       "      <th>incv3_out_2045</th>\n",
       "      <th>incv3_out_2046</th>\n",
       "      <th>incv3_out_2047</th>\n",
       "    </tr>\n",
       "  </thead>\n",
       "  <tbody>\n",
       "    <tr>\n",
       "      <th>3552</th>\n",
       "      <td>f28e1ca12dc9956b</td>\n",
       "      <td>image_pseudotsuga_menziesii_tree_77.png</td>\n",
       "      <td>pseudotsuga_menziesii</td>\n",
       "      <td>0.094600</td>\n",
       "      <td>0.061064</td>\n",
       "      <td>0.438699</td>\n",
       "      <td>0.062858</td>\n",
       "      <td>0.182481</td>\n",
       "      <td>0.185814</td>\n",
       "      <td>0.167514</td>\n",
       "      <td>...</td>\n",
       "      <td>0.178922</td>\n",
       "      <td>0.057688</td>\n",
       "      <td>0.062832</td>\n",
       "      <td>1.061262</td>\n",
       "      <td>0.107008</td>\n",
       "      <td>0.072353</td>\n",
       "      <td>0.160739</td>\n",
       "      <td>0.071515</td>\n",
       "      <td>0.237690</td>\n",
       "      <td>0.342455</td>\n",
       "    </tr>\n",
       "    <tr>\n",
       "      <th>3553</th>\n",
       "      <td>b64af14559635e52</td>\n",
       "      <td>image_douglas_fir_needles_75.png</td>\n",
       "      <td>pseudotsuga_menziesii</td>\n",
       "      <td>0.414487</td>\n",
       "      <td>0.138089</td>\n",
       "      <td>0.428809</td>\n",
       "      <td>0.093233</td>\n",
       "      <td>0.279266</td>\n",
       "      <td>0.325341</td>\n",
       "      <td>0.363008</td>\n",
       "      <td>...</td>\n",
       "      <td>0.777865</td>\n",
       "      <td>0.040818</td>\n",
       "      <td>0.263513</td>\n",
       "      <td>0.201849</td>\n",
       "      <td>0.734593</td>\n",
       "      <td>0.856769</td>\n",
       "      <td>1.216158</td>\n",
       "      <td>0.154447</td>\n",
       "      <td>0.888354</td>\n",
       "      <td>0.514273</td>\n",
       "    </tr>\n",
       "    <tr>\n",
       "      <th>3554</th>\n",
       "      <td>bc2d91738a768b62</td>\n",
       "      <td>image_pseudotsuga_menziesii_tree_63.png</td>\n",
       "      <td>pseudotsuga_menziesii</td>\n",
       "      <td>0.141211</td>\n",
       "      <td>0.025822</td>\n",
       "      <td>0.279416</td>\n",
       "      <td>0.242231</td>\n",
       "      <td>0.240942</td>\n",
       "      <td>0.029662</td>\n",
       "      <td>0.001973</td>\n",
       "      <td>...</td>\n",
       "      <td>0.051108</td>\n",
       "      <td>0.095992</td>\n",
       "      <td>0.701401</td>\n",
       "      <td>0.898264</td>\n",
       "      <td>0.051929</td>\n",
       "      <td>0.375273</td>\n",
       "      <td>0.293792</td>\n",
       "      <td>0.064906</td>\n",
       "      <td>0.078290</td>\n",
       "      <td>0.308257</td>\n",
       "    </tr>\n",
       "    <tr>\n",
       "      <th>3555</th>\n",
       "      <td>d414e491bc7e0b4f</td>\n",
       "      <td>image_douglas_fir_needles_61.png</td>\n",
       "      <td>pseudotsuga_menziesii</td>\n",
       "      <td>0.924379</td>\n",
       "      <td>0.032280</td>\n",
       "      <td>0.729098</td>\n",
       "      <td>0.103906</td>\n",
       "      <td>0.834279</td>\n",
       "      <td>0.702138</td>\n",
       "      <td>0.192425</td>\n",
       "      <td>...</td>\n",
       "      <td>0.513257</td>\n",
       "      <td>0.053753</td>\n",
       "      <td>0.019497</td>\n",
       "      <td>0.148256</td>\n",
       "      <td>0.009697</td>\n",
       "      <td>0.741581</td>\n",
       "      <td>0.619497</td>\n",
       "      <td>0.536302</td>\n",
       "      <td>0.356287</td>\n",
       "      <td>0.106888</td>\n",
       "    </tr>\n",
       "    <tr>\n",
       "      <th>3556</th>\n",
       "      <td>ab2aa82adfa954a5</td>\n",
       "      <td>image_douglas_fir_needles_49.png</td>\n",
       "      <td>pseudotsuga_menziesii</td>\n",
       "      <td>0.439043</td>\n",
       "      <td>0.136890</td>\n",
       "      <td>0.371879</td>\n",
       "      <td>0.072276</td>\n",
       "      <td>0.090010</td>\n",
       "      <td>0.177785</td>\n",
       "      <td>0.196581</td>\n",
       "      <td>...</td>\n",
       "      <td>0.952160</td>\n",
       "      <td>0.090075</td>\n",
       "      <td>0.051675</td>\n",
       "      <td>0.002637</td>\n",
       "      <td>0.025259</td>\n",
       "      <td>0.620770</td>\n",
       "      <td>0.016263</td>\n",
       "      <td>0.042990</td>\n",
       "      <td>0.006773</td>\n",
       "      <td>0.591485</td>\n",
       "    </tr>\n",
       "  </tbody>\n",
       "</table>\n",
       "<p>5 rows × 2051 columns</p>\n",
       "</div>"
      ],
      "text/plain": [
       "                p_hash                                 filename  \\\n",
       "3552  f28e1ca12dc9956b  image_pseudotsuga_menziesii_tree_77.png   \n",
       "3553  b64af14559635e52         image_douglas_fir_needles_75.png   \n",
       "3554  bc2d91738a768b62  image_pseudotsuga_menziesii_tree_63.png   \n",
       "3555  d414e491bc7e0b4f         image_douglas_fir_needles_61.png   \n",
       "3556  ab2aa82adfa954a5         image_douglas_fir_needles_49.png   \n",
       "\n",
       "                     folder  incv3_out_0  incv3_out_1  incv3_out_2  \\\n",
       "3552  pseudotsuga_menziesii     0.094600     0.061064     0.438699   \n",
       "3553  pseudotsuga_menziesii     0.414487     0.138089     0.428809   \n",
       "3554  pseudotsuga_menziesii     0.141211     0.025822     0.279416   \n",
       "3555  pseudotsuga_menziesii     0.924379     0.032280     0.729098   \n",
       "3556  pseudotsuga_menziesii     0.439043     0.136890     0.371879   \n",
       "\n",
       "      incv3_out_3  incv3_out_4  incv3_out_5  incv3_out_6       ...        \\\n",
       "3552     0.062858     0.182481     0.185814     0.167514       ...         \n",
       "3553     0.093233     0.279266     0.325341     0.363008       ...         \n",
       "3554     0.242231     0.240942     0.029662     0.001973       ...         \n",
       "3555     0.103906     0.834279     0.702138     0.192425       ...         \n",
       "3556     0.072276     0.090010     0.177785     0.196581       ...         \n",
       "\n",
       "      incv3_out_2038  incv3_out_2039  incv3_out_2040  incv3_out_2041  \\\n",
       "3552        0.178922        0.057688        0.062832        1.061262   \n",
       "3553        0.777865        0.040818        0.263513        0.201849   \n",
       "3554        0.051108        0.095992        0.701401        0.898264   \n",
       "3555        0.513257        0.053753        0.019497        0.148256   \n",
       "3556        0.952160        0.090075        0.051675        0.002637   \n",
       "\n",
       "      incv3_out_2042  incv3_out_2043  incv3_out_2044  incv3_out_2045  \\\n",
       "3552        0.107008        0.072353        0.160739        0.071515   \n",
       "3553        0.734593        0.856769        1.216158        0.154447   \n",
       "3554        0.051929        0.375273        0.293792        0.064906   \n",
       "3555        0.009697        0.741581        0.619497        0.536302   \n",
       "3556        0.025259        0.620770        0.016263        0.042990   \n",
       "\n",
       "      incv3_out_2046  incv3_out_2047  \n",
       "3552        0.237690        0.342455  \n",
       "3553        0.888354        0.514273  \n",
       "3554        0.078290        0.308257  \n",
       "3555        0.356287        0.106888  \n",
       "3556        0.006773        0.591485  \n",
       "\n",
       "[5 rows x 2051 columns]"
      ]
     },
     "execution_count": 10,
     "metadata": {},
     "output_type": "execute_result"
    }
   ],
   "source": [
    "features_df.tail()"
   ]
  },
  {
   "cell_type": "code",
   "execution_count": 11,
   "metadata": {},
   "outputs": [
    {
     "data": {
      "text/plain": [
       "cedrus_libani            650\n",
       "thuja_plicata            575\n",
       "picea_sitchensis         572\n",
       "alnus_rubra              567\n",
       "platanus_acerifolia      541\n",
       "acer_macrophyllum        526\n",
       "pseudotsuga_menziesii    502\n",
       "Name: folder, dtype: int64"
      ]
     },
     "execution_count": 11,
     "metadata": {},
     "output_type": "execute_result"
    }
   ],
   "source": [
    "features_df['folder'].value_counts()"
   ]
  },
  {
   "cell_type": "markdown",
   "metadata": {},
   "source": [
    "## Pull out features (X) and labels (y), and get a train-test split¶"
   ]
  },
  {
   "cell_type": "code",
   "execution_count": 12,
   "metadata": {
    "collapsed": true
   },
   "outputs": [],
   "source": [
    "non_feature_cols = ['p_hash', 'filename', 'folder']\n",
    "X = features_df.drop(non_feature_cols, axis=1)\n",
    "y = features_df['folder']\n",
    "X_train, X_test, y_train, y_test = train_test_split(X, y, test_size=0.2, random_state=876)"
   ]
  },
  {
   "cell_type": "code",
   "execution_count": 13,
   "metadata": {},
   "outputs": [
    {
     "name": "stdout",
     "output_type": "stream",
     "text": [
      "Train: 3146, Test: 787\n"
     ]
    }
   ],
   "source": [
    "print(f'Train: {len(X_train)}, Test: {len(X_test)}')"
   ]
  },
  {
   "cell_type": "code",
   "execution_count": 14,
   "metadata": {},
   "outputs": [
    {
     "data": {
      "text/plain": [
       "cedrus_libani            515\n",
       "picea_sitchensis         467\n",
       "thuja_plicata            456\n",
       "alnus_rubra              449\n",
       "platanus_acerifolia      445\n",
       "acer_macrophyllum        413\n",
       "pseudotsuga_menziesii    401\n",
       "Name: folder, dtype: int64"
      ]
     },
     "execution_count": 14,
     "metadata": {},
     "output_type": "execute_result"
    }
   ],
   "source": [
    "y_train.value_counts()"
   ]
  },
  {
   "cell_type": "code",
   "execution_count": 15,
   "metadata": {},
   "outputs": [
    {
     "data": {
      "text/plain": [
       "cedrus_libani            135\n",
       "thuja_plicata            119\n",
       "alnus_rubra              118\n",
       "acer_macrophyllum        113\n",
       "picea_sitchensis         105\n",
       "pseudotsuga_menziesii    101\n",
       "platanus_acerifolia       96\n",
       "Name: folder, dtype: int64"
      ]
     },
     "execution_count": 15,
     "metadata": {},
     "output_type": "execute_result"
    }
   ],
   "source": [
    "y_test.value_counts()"
   ]
  },
  {
   "cell_type": "code",
   "execution_count": 84,
   "metadata": {},
   "outputs": [
    {
     "data": {
      "text/plain": [
       "0.14285714285714285"
      ]
     },
     "execution_count": 84,
     "metadata": {},
     "output_type": "execute_result"
    }
   ],
   "source": [
    "1/7"
   ]
  },
  {
   "cell_type": "code",
   "execution_count": 16,
   "metadata": {},
   "outputs": [
    {
     "data": {
      "text/plain": [
       "1.9459101490553132"
      ]
     },
     "execution_count": 16,
     "metadata": {},
     "output_type": "execute_result"
    }
   ],
   "source": [
    "np.log(7) #Baseline for log loss"
   ]
  },
  {
   "cell_type": "markdown",
   "metadata": {},
   "source": [
    "## Try Ridge Logistic Regression with best C from 4 species model"
   ]
  },
  {
   "cell_type": "code",
   "execution_count": 18,
   "metadata": {
    "collapsed": true
   },
   "outputs": [],
   "source": [
    "log_model = LogisticRegression(multi_class='multinomial', class_weight='balanced', solver='sag', C=0.1, max_iter=4000, verbose=1)"
   ]
  },
  {
   "cell_type": "code",
   "execution_count": 19,
   "metadata": {},
   "outputs": [
    {
     "name": "stdout",
     "output_type": "stream",
     "text": [
      "convergence after 229 epochs took 38 seconds\n"
     ]
    },
    {
     "name": "stderr",
     "output_type": "stream",
     "text": [
      "[Parallel(n_jobs=1)]: Done   1 out of   1 | elapsed:   37.7s finished\n"
     ]
    },
    {
     "data": {
      "text/plain": [
       "LogisticRegression(C=0.1, class_weight='balanced', dual=False,\n",
       "          fit_intercept=True, intercept_scaling=1, max_iter=4000,\n",
       "          multi_class='multinomial', n_jobs=1, penalty='l2',\n",
       "          random_state=None, solver='sag', tol=0.0001, verbose=1,\n",
       "          warm_start=False)"
      ]
     },
     "execution_count": 19,
     "metadata": {},
     "output_type": "execute_result"
    }
   ],
   "source": [
    "log_model.fit(X_train, y_train)"
   ]
  },
  {
   "cell_type": "code",
   "execution_count": 20,
   "metadata": {},
   "outputs": [
    {
     "name": "stdout",
     "output_type": "stream",
     "text": [
      "Train log_loss: 0.3173700267721209, Test log_loss: 1.002594676140932\n",
      "Train accuracy: 0.9551811824539097, Test accuracy: 0.6442185514612452\n"
     ]
    }
   ],
   "source": [
    "logeval = meval.ModelEvaluator(log_model)\n",
    "logeval.print_classifier_metrics(X_train, X_test, y_train, y_test)"
   ]
  },
  {
   "cell_type": "code",
   "execution_count": 21,
   "metadata": {},
   "outputs": [
    {
     "data": {
      "text/html": [
       "<div>\n",
       "<style scoped>\n",
       "    .dataframe tbody tr th:only-of-type {\n",
       "        vertical-align: middle;\n",
       "    }\n",
       "\n",
       "    .dataframe tbody tr th {\n",
       "        vertical-align: top;\n",
       "    }\n",
       "\n",
       "    .dataframe thead th {\n",
       "        text-align: right;\n",
       "    }\n",
       "</style>\n",
       "<table border=\"1\" class=\"dataframe\">\n",
       "  <thead>\n",
       "    <tr style=\"text-align: right;\">\n",
       "      <th></th>\n",
       "      <th>Predicted acer_macrophyllum</th>\n",
       "      <th>Predicted alnus_rubra</th>\n",
       "      <th>Predicted cedrus_libani</th>\n",
       "      <th>Predicted picea_sitchensis</th>\n",
       "      <th>Predicted platanus_acerifolia</th>\n",
       "      <th>Predicted pseudotsuga_menziesii</th>\n",
       "      <th>Predicted thuja_plicata</th>\n",
       "    </tr>\n",
       "  </thead>\n",
       "  <tbody>\n",
       "    <tr>\n",
       "      <th>Actual acer_macrophyllum</th>\n",
       "      <td>69</td>\n",
       "      <td>9</td>\n",
       "      <td>9</td>\n",
       "      <td>1</td>\n",
       "      <td>14</td>\n",
       "      <td>5</td>\n",
       "      <td>6</td>\n",
       "    </tr>\n",
       "    <tr>\n",
       "      <th>Actual alnus_rubra</th>\n",
       "      <td>10</td>\n",
       "      <td>75</td>\n",
       "      <td>5</td>\n",
       "      <td>7</td>\n",
       "      <td>13</td>\n",
       "      <td>4</td>\n",
       "      <td>4</td>\n",
       "    </tr>\n",
       "    <tr>\n",
       "      <th>Actual cedrus_libani</th>\n",
       "      <td>6</td>\n",
       "      <td>5</td>\n",
       "      <td>84</td>\n",
       "      <td>13</td>\n",
       "      <td>2</td>\n",
       "      <td>15</td>\n",
       "      <td>10</td>\n",
       "    </tr>\n",
       "    <tr>\n",
       "      <th>Actual picea_sitchensis</th>\n",
       "      <td>5</td>\n",
       "      <td>4</td>\n",
       "      <td>3</td>\n",
       "      <td>69</td>\n",
       "      <td>1</td>\n",
       "      <td>15</td>\n",
       "      <td>8</td>\n",
       "    </tr>\n",
       "    <tr>\n",
       "      <th>Actual platanus_acerifolia</th>\n",
       "      <td>15</td>\n",
       "      <td>3</td>\n",
       "      <td>0</td>\n",
       "      <td>3</td>\n",
       "      <td>74</td>\n",
       "      <td>1</td>\n",
       "      <td>0</td>\n",
       "    </tr>\n",
       "    <tr>\n",
       "      <th>Actual pseudotsuga_menziesii</th>\n",
       "      <td>1</td>\n",
       "      <td>6</td>\n",
       "      <td>19</td>\n",
       "      <td>14</td>\n",
       "      <td>2</td>\n",
       "      <td>51</td>\n",
       "      <td>8</td>\n",
       "    </tr>\n",
       "    <tr>\n",
       "      <th>Actual thuja_plicata</th>\n",
       "      <td>4</td>\n",
       "      <td>8</td>\n",
       "      <td>10</td>\n",
       "      <td>7</td>\n",
       "      <td>0</td>\n",
       "      <td>5</td>\n",
       "      <td>85</td>\n",
       "    </tr>\n",
       "  </tbody>\n",
       "</table>\n",
       "</div>"
      ],
      "text/plain": [
       "                              Predicted acer_macrophyllum  \\\n",
       "Actual acer_macrophyllum                               69   \n",
       "Actual alnus_rubra                                     10   \n",
       "Actual cedrus_libani                                    6   \n",
       "Actual picea_sitchensis                                 5   \n",
       "Actual platanus_acerifolia                             15   \n",
       "Actual pseudotsuga_menziesii                            1   \n",
       "Actual thuja_plicata                                    4   \n",
       "\n",
       "                              Predicted alnus_rubra  Predicted cedrus_libani  \\\n",
       "Actual acer_macrophyllum                          9                        9   \n",
       "Actual alnus_rubra                               75                        5   \n",
       "Actual cedrus_libani                              5                       84   \n",
       "Actual picea_sitchensis                           4                        3   \n",
       "Actual platanus_acerifolia                        3                        0   \n",
       "Actual pseudotsuga_menziesii                      6                       19   \n",
       "Actual thuja_plicata                              8                       10   \n",
       "\n",
       "                              Predicted picea_sitchensis  \\\n",
       "Actual acer_macrophyllum                               1   \n",
       "Actual alnus_rubra                                     7   \n",
       "Actual cedrus_libani                                  13   \n",
       "Actual picea_sitchensis                               69   \n",
       "Actual platanus_acerifolia                             3   \n",
       "Actual pseudotsuga_menziesii                          14   \n",
       "Actual thuja_plicata                                   7   \n",
       "\n",
       "                              Predicted platanus_acerifolia  \\\n",
       "Actual acer_macrophyllum                                 14   \n",
       "Actual alnus_rubra                                       13   \n",
       "Actual cedrus_libani                                      2   \n",
       "Actual picea_sitchensis                                   1   \n",
       "Actual platanus_acerifolia                               74   \n",
       "Actual pseudotsuga_menziesii                              2   \n",
       "Actual thuja_plicata                                      0   \n",
       "\n",
       "                              Predicted pseudotsuga_menziesii  \\\n",
       "Actual acer_macrophyllum                                    5   \n",
       "Actual alnus_rubra                                          4   \n",
       "Actual cedrus_libani                                       15   \n",
       "Actual picea_sitchensis                                    15   \n",
       "Actual platanus_acerifolia                                  1   \n",
       "Actual pseudotsuga_menziesii                               51   \n",
       "Actual thuja_plicata                                        5   \n",
       "\n",
       "                              Predicted thuja_plicata  \n",
       "Actual acer_macrophyllum                            6  \n",
       "Actual alnus_rubra                                  4  \n",
       "Actual cedrus_libani                               10  \n",
       "Actual picea_sitchensis                             8  \n",
       "Actual platanus_acerifolia                          0  \n",
       "Actual pseudotsuga_menziesii                        8  \n",
       "Actual thuja_plicata                               85  "
      ]
     },
     "execution_count": 21,
     "metadata": {},
     "output_type": "execute_result"
    }
   ],
   "source": [
    "logeval.confusion_df(X_test, y_test)"
   ]
  },
  {
   "cell_type": "markdown",
   "metadata": {},
   "source": [
    "## Do a grid search to find the best C\n",
    "\n",
    "My guess is that the best C will be greater than or equal to the best for 4 species (0.1), i.e. less regularization since we have more data. In particular, we now have more data points than features for the first time."
   ]
  },
  {
   "cell_type": "code",
   "execution_count": 22,
   "metadata": {
    "collapsed": true
   },
   "outputs": [],
   "source": [
    "param_grid = {'C': [0.01, 0.1, 1, 10]}\n",
    "gridsearch = GridSearchCV(estimator=log_model,\n",
    "                          param_grid=param_grid, \n",
    "                          scoring=['neg_log_loss', 'accuracy'],\n",
    "                          refit='neg_log_loss')"
   ]
  },
  {
   "cell_type": "code",
   "execution_count": 23,
   "metadata": {},
   "outputs": [
    {
     "name": "stdout",
     "output_type": "stream",
     "text": [
      "convergence after 192 epochs took 21 seconds\n"
     ]
    },
    {
     "name": "stderr",
     "output_type": "stream",
     "text": [
      "[Parallel(n_jobs=1)]: Done   1 out of   1 | elapsed:   20.8s finished\n"
     ]
    },
    {
     "name": "stdout",
     "output_type": "stream",
     "text": [
      "convergence after 204 epochs took 22 seconds\n"
     ]
    },
    {
     "name": "stderr",
     "output_type": "stream",
     "text": [
      "[Parallel(n_jobs=1)]: Done   1 out of   1 | elapsed:   21.9s finished\n"
     ]
    },
    {
     "name": "stdout",
     "output_type": "stream",
     "text": [
      "convergence after 193 epochs took 21 seconds\n"
     ]
    },
    {
     "name": "stderr",
     "output_type": "stream",
     "text": [
      "[Parallel(n_jobs=1)]: Done   1 out of   1 | elapsed:   21.0s finished\n"
     ]
    },
    {
     "name": "stdout",
     "output_type": "stream",
     "text": [
      "convergence after 216 epochs took 24 seconds\n"
     ]
    },
    {
     "name": "stderr",
     "output_type": "stream",
     "text": [
      "[Parallel(n_jobs=1)]: Done   1 out of   1 | elapsed:   23.4s finished\n"
     ]
    },
    {
     "name": "stdout",
     "output_type": "stream",
     "text": [
      "convergence after 272 epochs took 29 seconds\n"
     ]
    },
    {
     "name": "stderr",
     "output_type": "stream",
     "text": [
      "[Parallel(n_jobs=1)]: Done   1 out of   1 | elapsed:   29.5s finished\n"
     ]
    },
    {
     "name": "stdout",
     "output_type": "stream",
     "text": [
      "convergence after 308 epochs took 33 seconds\n"
     ]
    },
    {
     "name": "stderr",
     "output_type": "stream",
     "text": [
      "[Parallel(n_jobs=1)]: Done   1 out of   1 | elapsed:   32.8s finished\n"
     ]
    },
    {
     "name": "stdout",
     "output_type": "stream",
     "text": [
      "convergence after 344 epochs took 38 seconds\n"
     ]
    },
    {
     "name": "stderr",
     "output_type": "stream",
     "text": [
      "[Parallel(n_jobs=1)]: Done   1 out of   1 | elapsed:   38.1s finished\n"
     ]
    },
    {
     "name": "stdout",
     "output_type": "stream",
     "text": [
      "convergence after 360 epochs took 41 seconds\n"
     ]
    },
    {
     "name": "stderr",
     "output_type": "stream",
     "text": [
      "[Parallel(n_jobs=1)]: Done   1 out of   1 | elapsed:   40.7s finished\n"
     ]
    },
    {
     "name": "stdout",
     "output_type": "stream",
     "text": [
      "convergence after 368 epochs took 40 seconds\n"
     ]
    },
    {
     "name": "stderr",
     "output_type": "stream",
     "text": [
      "[Parallel(n_jobs=1)]: Done   1 out of   1 | elapsed:   40.0s finished\n"
     ]
    },
    {
     "name": "stdout",
     "output_type": "stream",
     "text": [
      "convergence after 736 epochs took 81 seconds\n"
     ]
    },
    {
     "name": "stderr",
     "output_type": "stream",
     "text": [
      "[Parallel(n_jobs=1)]: Done   1 out of   1 | elapsed:  1.3min finished\n"
     ]
    },
    {
     "name": "stdout",
     "output_type": "stream",
     "text": [
      "convergence after 784 epochs took 83 seconds\n"
     ]
    },
    {
     "name": "stderr",
     "output_type": "stream",
     "text": [
      "[Parallel(n_jobs=1)]: Done   1 out of   1 | elapsed:  1.4min finished\n"
     ]
    },
    {
     "name": "stdout",
     "output_type": "stream",
     "text": [
      "convergence after 761 epochs took 80 seconds\n"
     ]
    },
    {
     "name": "stderr",
     "output_type": "stream",
     "text": [
      "[Parallel(n_jobs=1)]: Done   1 out of   1 | elapsed:  1.3min finished\n"
     ]
    },
    {
     "name": "stdout",
     "output_type": "stream",
     "text": [
      "convergence after 220 epochs took 35 seconds\n"
     ]
    },
    {
     "name": "stderr",
     "output_type": "stream",
     "text": [
      "[Parallel(n_jobs=1)]: Done   1 out of   1 | elapsed:   34.7s finished\n"
     ]
    },
    {
     "data": {
      "text/plain": [
       "GridSearchCV(cv=None, error_score='raise',\n",
       "       estimator=LogisticRegression(C=0.1, class_weight='balanced', dual=False,\n",
       "          fit_intercept=True, intercept_scaling=1, max_iter=4000,\n",
       "          multi_class='multinomial', n_jobs=1, penalty='l2',\n",
       "          random_state=None, solver='sag', tol=0.0001, verbose=1,\n",
       "          warm_start=False),\n",
       "       fit_params=None, iid=True, n_jobs=1,\n",
       "       param_grid={'C': [0.01, 0.1, 1, 10]}, pre_dispatch='2*n_jobs',\n",
       "       refit='neg_log_loss', return_train_score='warn',\n",
       "       scoring=['neg_log_loss', 'accuracy'], verbose=0)"
      ]
     },
     "execution_count": 23,
     "metadata": {},
     "output_type": "execute_result"
    }
   ],
   "source": [
    "gridsearch.fit(X_train, y_train)"
   ]
  },
  {
   "cell_type": "code",
   "execution_count": 26,
   "metadata": {},
   "outputs": [
    {
     "data": {
      "text/plain": [
       "{'C': 0.1}"
      ]
     },
     "execution_count": 26,
     "metadata": {},
     "output_type": "execute_result"
    }
   ],
   "source": [
    "gridsearch.best_params_"
   ]
  },
  {
   "cell_type": "markdown",
   "metadata": {},
   "source": [
    "Hmm, so it looks like the best C it found is the one we already tried."
   ]
  },
  {
   "cell_type": "code",
   "execution_count": 24,
   "metadata": {},
   "outputs": [
    {
     "name": "stderr",
     "output_type": "stream",
     "text": [
      "/Users/ndbs/anaconda3/lib/python3.6/site-packages/sklearn/utils/deprecation.py:122: FutureWarning: You are accessing a training score ('mean_train_accuracy'), which will not be available by default any more in 0.21. If you need training scores, please set return_train_score=True\n",
      "  warnings.warn(*warn_args, **warn_kwargs)\n",
      "/Users/ndbs/anaconda3/lib/python3.6/site-packages/sklearn/utils/deprecation.py:122: FutureWarning: You are accessing a training score ('mean_train_neg_log_loss'), which will not be available by default any more in 0.21. If you need training scores, please set return_train_score=True\n",
      "  warnings.warn(*warn_args, **warn_kwargs)\n",
      "/Users/ndbs/anaconda3/lib/python3.6/site-packages/sklearn/utils/deprecation.py:122: FutureWarning: You are accessing a training score ('split0_train_accuracy'), which will not be available by default any more in 0.21. If you need training scores, please set return_train_score=True\n",
      "  warnings.warn(*warn_args, **warn_kwargs)\n",
      "/Users/ndbs/anaconda3/lib/python3.6/site-packages/sklearn/utils/deprecation.py:122: FutureWarning: You are accessing a training score ('split0_train_neg_log_loss'), which will not be available by default any more in 0.21. If you need training scores, please set return_train_score=True\n",
      "  warnings.warn(*warn_args, **warn_kwargs)\n",
      "/Users/ndbs/anaconda3/lib/python3.6/site-packages/sklearn/utils/deprecation.py:122: FutureWarning: You are accessing a training score ('split1_train_accuracy'), which will not be available by default any more in 0.21. If you need training scores, please set return_train_score=True\n",
      "  warnings.warn(*warn_args, **warn_kwargs)\n",
      "/Users/ndbs/anaconda3/lib/python3.6/site-packages/sklearn/utils/deprecation.py:122: FutureWarning: You are accessing a training score ('split1_train_neg_log_loss'), which will not be available by default any more in 0.21. If you need training scores, please set return_train_score=True\n",
      "  warnings.warn(*warn_args, **warn_kwargs)\n",
      "/Users/ndbs/anaconda3/lib/python3.6/site-packages/sklearn/utils/deprecation.py:122: FutureWarning: You are accessing a training score ('split2_train_accuracy'), which will not be available by default any more in 0.21. If you need training scores, please set return_train_score=True\n",
      "  warnings.warn(*warn_args, **warn_kwargs)\n",
      "/Users/ndbs/anaconda3/lib/python3.6/site-packages/sklearn/utils/deprecation.py:122: FutureWarning: You are accessing a training score ('split2_train_neg_log_loss'), which will not be available by default any more in 0.21. If you need training scores, please set return_train_score=True\n",
      "  warnings.warn(*warn_args, **warn_kwargs)\n",
      "/Users/ndbs/anaconda3/lib/python3.6/site-packages/sklearn/utils/deprecation.py:122: FutureWarning: You are accessing a training score ('std_train_accuracy'), which will not be available by default any more in 0.21. If you need training scores, please set return_train_score=True\n",
      "  warnings.warn(*warn_args, **warn_kwargs)\n",
      "/Users/ndbs/anaconda3/lib/python3.6/site-packages/sklearn/utils/deprecation.py:122: FutureWarning: You are accessing a training score ('std_train_neg_log_loss'), which will not be available by default any more in 0.21. If you need training scores, please set return_train_score=True\n",
      "  warnings.warn(*warn_args, **warn_kwargs)\n"
     ]
    },
    {
     "data": {
      "text/html": [
       "<div>\n",
       "<style scoped>\n",
       "    .dataframe tbody tr th:only-of-type {\n",
       "        vertical-align: middle;\n",
       "    }\n",
       "\n",
       "    .dataframe tbody tr th {\n",
       "        vertical-align: top;\n",
       "    }\n",
       "\n",
       "    .dataframe thead th {\n",
       "        text-align: right;\n",
       "    }\n",
       "</style>\n",
       "<table border=\"1\" class=\"dataframe\">\n",
       "  <thead>\n",
       "    <tr style=\"text-align: right;\">\n",
       "      <th></th>\n",
       "      <th>mean_fit_time</th>\n",
       "      <th>mean_score_time</th>\n",
       "      <th>mean_test_accuracy</th>\n",
       "      <th>mean_test_neg_log_loss</th>\n",
       "      <th>mean_train_accuracy</th>\n",
       "      <th>mean_train_neg_log_loss</th>\n",
       "      <th>param_C</th>\n",
       "      <th>params</th>\n",
       "      <th>rank_test_accuracy</th>\n",
       "      <th>rank_test_neg_log_loss</th>\n",
       "      <th>...</th>\n",
       "      <th>split2_test_accuracy</th>\n",
       "      <th>split2_test_neg_log_loss</th>\n",
       "      <th>split2_train_accuracy</th>\n",
       "      <th>split2_train_neg_log_loss</th>\n",
       "      <th>std_fit_time</th>\n",
       "      <th>std_score_time</th>\n",
       "      <th>std_test_accuracy</th>\n",
       "      <th>std_test_neg_log_loss</th>\n",
       "      <th>std_train_accuracy</th>\n",
       "      <th>std_train_neg_log_loss</th>\n",
       "    </tr>\n",
       "  </thead>\n",
       "  <tbody>\n",
       "    <tr>\n",
       "      <th>0</th>\n",
       "      <td>21.315029</td>\n",
       "      <td>0.010657</td>\n",
       "      <td>0.617610</td>\n",
       "      <td>-1.088621</td>\n",
       "      <td>0.802453</td>\n",
       "      <td>-0.780084</td>\n",
       "      <td>0.01</td>\n",
       "      <td>{'C': 0.01}</td>\n",
       "      <td>2</td>\n",
       "      <td>2</td>\n",
       "      <td>...</td>\n",
       "      <td>0.616268</td>\n",
       "      <td>-1.109190</td>\n",
       "      <td>0.796287</td>\n",
       "      <td>-0.774249</td>\n",
       "      <td>0.483910</td>\n",
       "      <td>0.000280</td>\n",
       "      <td>0.009531</td>\n",
       "      <td>0.019449</td>\n",
       "      <td>0.004366</td>\n",
       "      <td>0.004823</td>\n",
       "    </tr>\n",
       "    <tr>\n",
       "      <th>1</th>\n",
       "      <td>28.626767</td>\n",
       "      <td>0.010863</td>\n",
       "      <td>0.630960</td>\n",
       "      <td>-1.050520</td>\n",
       "      <td>0.973457</td>\n",
       "      <td>-0.292520</td>\n",
       "      <td>0.1</td>\n",
       "      <td>{'C': 0.1}</td>\n",
       "      <td>1</td>\n",
       "      <td>1</td>\n",
       "      <td>...</td>\n",
       "      <td>0.630622</td>\n",
       "      <td>-1.073086</td>\n",
       "      <td>0.975250</td>\n",
       "      <td>-0.289098</td>\n",
       "      <td>3.869403</td>\n",
       "      <td>0.000019</td>\n",
       "      <td>0.009093</td>\n",
       "      <td>0.015988</td>\n",
       "      <td>0.001284</td>\n",
       "      <td>0.002718</td>\n",
       "    </tr>\n",
       "    <tr>\n",
       "      <th>2</th>\n",
       "      <td>39.623432</td>\n",
       "      <td>0.012973</td>\n",
       "      <td>0.612524</td>\n",
       "      <td>-1.366869</td>\n",
       "      <td>1.000000</td>\n",
       "      <td>-0.060548</td>\n",
       "      <td>1</td>\n",
       "      <td>{'C': 1}</td>\n",
       "      <td>3</td>\n",
       "      <td>3</td>\n",
       "      <td>...</td>\n",
       "      <td>0.613397</td>\n",
       "      <td>-1.386545</td>\n",
       "      <td>1.000000</td>\n",
       "      <td>-0.059747</td>\n",
       "      <td>1.080634</td>\n",
       "      <td>0.001524</td>\n",
       "      <td>0.003703</td>\n",
       "      <td>0.016094</td>\n",
       "      <td>0.000000</td>\n",
       "      <td>0.000682</td>\n",
       "    </tr>\n",
       "    <tr>\n",
       "      <th>3</th>\n",
       "      <td>81.566244</td>\n",
       "      <td>0.011317</td>\n",
       "      <td>0.603942</td>\n",
       "      <td>-1.857869</td>\n",
       "      <td>1.000000</td>\n",
       "      <td>-0.011375</td>\n",
       "      <td>10</td>\n",
       "      <td>{'C': 10}</td>\n",
       "      <td>4</td>\n",
       "      <td>4</td>\n",
       "      <td>...</td>\n",
       "      <td>0.606699</td>\n",
       "      <td>-1.878987</td>\n",
       "      <td>1.000000</td>\n",
       "      <td>-0.010976</td>\n",
       "      <td>1.615501</td>\n",
       "      <td>0.000891</td>\n",
       "      <td>0.002862</td>\n",
       "      <td>0.019327</td>\n",
       "      <td>0.000000</td>\n",
       "      <td>0.000283</td>\n",
       "    </tr>\n",
       "  </tbody>\n",
       "</table>\n",
       "<p>4 rows × 28 columns</p>\n",
       "</div>"
      ],
      "text/plain": [
       "   mean_fit_time  mean_score_time  mean_test_accuracy  mean_test_neg_log_loss  \\\n",
       "0      21.315029         0.010657            0.617610               -1.088621   \n",
       "1      28.626767         0.010863            0.630960               -1.050520   \n",
       "2      39.623432         0.012973            0.612524               -1.366869   \n",
       "3      81.566244         0.011317            0.603942               -1.857869   \n",
       "\n",
       "   mean_train_accuracy  mean_train_neg_log_loss param_C       params  \\\n",
       "0             0.802453                -0.780084    0.01  {'C': 0.01}   \n",
       "1             0.973457                -0.292520     0.1   {'C': 0.1}   \n",
       "2             1.000000                -0.060548       1     {'C': 1}   \n",
       "3             1.000000                -0.011375      10    {'C': 10}   \n",
       "\n",
       "   rank_test_accuracy  rank_test_neg_log_loss           ...            \\\n",
       "0                   2                       2           ...             \n",
       "1                   1                       1           ...             \n",
       "2                   3                       3           ...             \n",
       "3                   4                       4           ...             \n",
       "\n",
       "   split2_test_accuracy  split2_test_neg_log_loss  split2_train_accuracy  \\\n",
       "0              0.616268                 -1.109190               0.796287   \n",
       "1              0.630622                 -1.073086               0.975250   \n",
       "2              0.613397                 -1.386545               1.000000   \n",
       "3              0.606699                 -1.878987               1.000000   \n",
       "\n",
       "   split2_train_neg_log_loss  std_fit_time  std_score_time  std_test_accuracy  \\\n",
       "0                  -0.774249      0.483910        0.000280           0.009531   \n",
       "1                  -0.289098      3.869403        0.000019           0.009093   \n",
       "2                  -0.059747      1.080634        0.001524           0.003703   \n",
       "3                  -0.010976      1.615501        0.000891           0.002862   \n",
       "\n",
       "   std_test_neg_log_loss  std_train_accuracy  std_train_neg_log_loss  \n",
       "0               0.019449            0.004366                0.004823  \n",
       "1               0.015988            0.001284                0.002718  \n",
       "2               0.016094            0.000000                0.000682  \n",
       "3               0.019327            0.000000                0.000283  \n",
       "\n",
       "[4 rows x 28 columns]"
      ]
     },
     "execution_count": 24,
     "metadata": {},
     "output_type": "execute_result"
    }
   ],
   "source": [
    "pd.DataFrame(gridsearch.cv_results_)"
   ]
  },
  {
   "cell_type": "code",
   "execution_count": 27,
   "metadata": {},
   "outputs": [
    {
     "name": "stdout",
     "output_type": "stream",
     "text": [
      "Train log_loss: 0.3173700267721209, Test log_loss: 1.002594676140932\n",
      "Train accuracy: 0.9551811824539097, Test accuracy: 0.6442185514612452\n"
     ]
    },
    {
     "data": {
      "text/html": [
       "<div>\n",
       "<style scoped>\n",
       "    .dataframe tbody tr th:only-of-type {\n",
       "        vertical-align: middle;\n",
       "    }\n",
       "\n",
       "    .dataframe tbody tr th {\n",
       "        vertical-align: top;\n",
       "    }\n",
       "\n",
       "    .dataframe thead th {\n",
       "        text-align: right;\n",
       "    }\n",
       "</style>\n",
       "<table border=\"1\" class=\"dataframe\">\n",
       "  <thead>\n",
       "    <tr style=\"text-align: right;\">\n",
       "      <th></th>\n",
       "      <th>Predicted acer_macrophyllum</th>\n",
       "      <th>Predicted alnus_rubra</th>\n",
       "      <th>Predicted cedrus_libani</th>\n",
       "      <th>Predicted picea_sitchensis</th>\n",
       "      <th>Predicted platanus_acerifolia</th>\n",
       "      <th>Predicted pseudotsuga_menziesii</th>\n",
       "      <th>Predicted thuja_plicata</th>\n",
       "    </tr>\n",
       "  </thead>\n",
       "  <tbody>\n",
       "    <tr>\n",
       "      <th>Actual acer_macrophyllum</th>\n",
       "      <td>69</td>\n",
       "      <td>9</td>\n",
       "      <td>9</td>\n",
       "      <td>1</td>\n",
       "      <td>14</td>\n",
       "      <td>5</td>\n",
       "      <td>6</td>\n",
       "    </tr>\n",
       "    <tr>\n",
       "      <th>Actual alnus_rubra</th>\n",
       "      <td>10</td>\n",
       "      <td>75</td>\n",
       "      <td>5</td>\n",
       "      <td>7</td>\n",
       "      <td>13</td>\n",
       "      <td>4</td>\n",
       "      <td>4</td>\n",
       "    </tr>\n",
       "    <tr>\n",
       "      <th>Actual cedrus_libani</th>\n",
       "      <td>6</td>\n",
       "      <td>5</td>\n",
       "      <td>84</td>\n",
       "      <td>13</td>\n",
       "      <td>2</td>\n",
       "      <td>15</td>\n",
       "      <td>10</td>\n",
       "    </tr>\n",
       "    <tr>\n",
       "      <th>Actual picea_sitchensis</th>\n",
       "      <td>5</td>\n",
       "      <td>4</td>\n",
       "      <td>3</td>\n",
       "      <td>69</td>\n",
       "      <td>1</td>\n",
       "      <td>15</td>\n",
       "      <td>8</td>\n",
       "    </tr>\n",
       "    <tr>\n",
       "      <th>Actual platanus_acerifolia</th>\n",
       "      <td>15</td>\n",
       "      <td>3</td>\n",
       "      <td>0</td>\n",
       "      <td>3</td>\n",
       "      <td>74</td>\n",
       "      <td>1</td>\n",
       "      <td>0</td>\n",
       "    </tr>\n",
       "    <tr>\n",
       "      <th>Actual pseudotsuga_menziesii</th>\n",
       "      <td>1</td>\n",
       "      <td>6</td>\n",
       "      <td>19</td>\n",
       "      <td>14</td>\n",
       "      <td>2</td>\n",
       "      <td>51</td>\n",
       "      <td>8</td>\n",
       "    </tr>\n",
       "    <tr>\n",
       "      <th>Actual thuja_plicata</th>\n",
       "      <td>4</td>\n",
       "      <td>8</td>\n",
       "      <td>10</td>\n",
       "      <td>7</td>\n",
       "      <td>0</td>\n",
       "      <td>5</td>\n",
       "      <td>85</td>\n",
       "    </tr>\n",
       "  </tbody>\n",
       "</table>\n",
       "</div>"
      ],
      "text/plain": [
       "                              Predicted acer_macrophyllum  \\\n",
       "Actual acer_macrophyllum                               69   \n",
       "Actual alnus_rubra                                     10   \n",
       "Actual cedrus_libani                                    6   \n",
       "Actual picea_sitchensis                                 5   \n",
       "Actual platanus_acerifolia                             15   \n",
       "Actual pseudotsuga_menziesii                            1   \n",
       "Actual thuja_plicata                                    4   \n",
       "\n",
       "                              Predicted alnus_rubra  Predicted cedrus_libani  \\\n",
       "Actual acer_macrophyllum                          9                        9   \n",
       "Actual alnus_rubra                               75                        5   \n",
       "Actual cedrus_libani                              5                       84   \n",
       "Actual picea_sitchensis                           4                        3   \n",
       "Actual platanus_acerifolia                        3                        0   \n",
       "Actual pseudotsuga_menziesii                      6                       19   \n",
       "Actual thuja_plicata                              8                       10   \n",
       "\n",
       "                              Predicted picea_sitchensis  \\\n",
       "Actual acer_macrophyllum                               1   \n",
       "Actual alnus_rubra                                     7   \n",
       "Actual cedrus_libani                                  13   \n",
       "Actual picea_sitchensis                               69   \n",
       "Actual platanus_acerifolia                             3   \n",
       "Actual pseudotsuga_menziesii                          14   \n",
       "Actual thuja_plicata                                   7   \n",
       "\n",
       "                              Predicted platanus_acerifolia  \\\n",
       "Actual acer_macrophyllum                                 14   \n",
       "Actual alnus_rubra                                       13   \n",
       "Actual cedrus_libani                                      2   \n",
       "Actual picea_sitchensis                                   1   \n",
       "Actual platanus_acerifolia                               74   \n",
       "Actual pseudotsuga_menziesii                              2   \n",
       "Actual thuja_plicata                                      0   \n",
       "\n",
       "                              Predicted pseudotsuga_menziesii  \\\n",
       "Actual acer_macrophyllum                                    5   \n",
       "Actual alnus_rubra                                          4   \n",
       "Actual cedrus_libani                                       15   \n",
       "Actual picea_sitchensis                                    15   \n",
       "Actual platanus_acerifolia                                  1   \n",
       "Actual pseudotsuga_menziesii                               51   \n",
       "Actual thuja_plicata                                        5   \n",
       "\n",
       "                              Predicted thuja_plicata  \n",
       "Actual acer_macrophyllum                            6  \n",
       "Actual alnus_rubra                                  4  \n",
       "Actual cedrus_libani                               10  \n",
       "Actual picea_sitchensis                             8  \n",
       "Actual platanus_acerifolia                          0  \n",
       "Actual pseudotsuga_menziesii                        8  \n",
       "Actual thuja_plicata                               85  "
      ]
     },
     "execution_count": 27,
     "metadata": {},
     "output_type": "execute_result"
    }
   ],
   "source": [
    "#This should give the same results as before\n",
    "log_model = gridsearch.best_estimator_\n",
    "logeval = meval.ModelEvaluator(log_model)\n",
    "logeval.print_classifier_metrics(X_train, X_test, y_train, y_test)\n",
    "logeval.confusion_df(X_test, y_test)"
   ]
  },
  {
   "cell_type": "markdown",
   "metadata": {},
   "source": [
    "## Let's search a few more C values near 0.1\n",
    "\n",
    "Note that in the gridsearch, the next best value was 0.01, so the best C might be somewhere in between."
   ]
  },
  {
   "cell_type": "code",
   "execution_count": 29,
   "metadata": {},
   "outputs": [
    {
     "data": {
      "text/plain": [
       "2.154434690031884"
      ]
     },
     "execution_count": 29,
     "metadata": {},
     "output_type": "execute_result"
    }
   ],
   "source": [
    "10**(1/3)"
   ]
  },
  {
   "cell_type": "code",
   "execution_count": 35,
   "metadata": {},
   "outputs": [
    {
     "data": {
      "text/plain": [
       "[1.0, 2.154434690031884, 4.641588833612779, 10.000000000000002]"
      ]
     },
     "execution_count": 35,
     "metadata": {},
     "output_type": "execute_result"
    }
   ],
   "source": [
    "[2.154434690031884**p for p in range(4)]"
   ]
  },
  {
   "cell_type": "code",
   "execution_count": 36,
   "metadata": {
    "collapsed": true
   },
   "outputs": [],
   "source": [
    "param_grid = {'C': [0.0215, 0.0464, 0.1, 0.215]}\n",
    "gridsearch = GridSearchCV(estimator=log_model,\n",
    "                          param_grid=param_grid, \n",
    "                          scoring=['neg_log_loss', 'accuracy'],\n",
    "                          return_train_score=True,\n",
    "                          refit='neg_log_loss')"
   ]
  },
  {
   "cell_type": "code",
   "execution_count": 37,
   "metadata": {},
   "outputs": [
    {
     "name": "stdout",
     "output_type": "stream",
     "text": [
      "convergence after 235 epochs took 25 seconds\n"
     ]
    },
    {
     "name": "stderr",
     "output_type": "stream",
     "text": [
      "[Parallel(n_jobs=1)]: Done   1 out of   1 | elapsed:   24.6s finished\n"
     ]
    },
    {
     "name": "stdout",
     "output_type": "stream",
     "text": [
      "convergence after 234 epochs took 25 seconds\n"
     ]
    },
    {
     "name": "stderr",
     "output_type": "stream",
     "text": [
      "[Parallel(n_jobs=1)]: Done   1 out of   1 | elapsed:   24.9s finished\n"
     ]
    },
    {
     "name": "stdout",
     "output_type": "stream",
     "text": [
      "convergence after 247 epochs took 27 seconds\n"
     ]
    },
    {
     "name": "stderr",
     "output_type": "stream",
     "text": [
      "[Parallel(n_jobs=1)]: Done   1 out of   1 | elapsed:   27.1s finished\n"
     ]
    },
    {
     "name": "stdout",
     "output_type": "stream",
     "text": [
      "convergence after 261 epochs took 27 seconds\n"
     ]
    },
    {
     "name": "stderr",
     "output_type": "stream",
     "text": [
      "[Parallel(n_jobs=1)]: Done   1 out of   1 | elapsed:   27.4s finished\n"
     ]
    },
    {
     "name": "stdout",
     "output_type": "stream",
     "text": [
      "convergence after 289 epochs took 31 seconds\n"
     ]
    },
    {
     "name": "stderr",
     "output_type": "stream",
     "text": [
      "[Parallel(n_jobs=1)]: Done   1 out of   1 | elapsed:   30.6s finished\n"
     ]
    },
    {
     "name": "stdout",
     "output_type": "stream",
     "text": [
      "convergence after 284 epochs took 31 seconds\n"
     ]
    },
    {
     "name": "stderr",
     "output_type": "stream",
     "text": [
      "[Parallel(n_jobs=1)]: Done   1 out of   1 | elapsed:   30.3s finished\n"
     ]
    },
    {
     "name": "stdout",
     "output_type": "stream",
     "text": [
      "convergence after 223 epochs took 24 seconds\n"
     ]
    },
    {
     "name": "stderr",
     "output_type": "stream",
     "text": [
      "[Parallel(n_jobs=1)]: Done   1 out of   1 | elapsed:   24.4s finished\n"
     ]
    },
    {
     "name": "stdout",
     "output_type": "stream",
     "text": [
      "convergence after 272 epochs took 29 seconds\n"
     ]
    },
    {
     "name": "stderr",
     "output_type": "stream",
     "text": [
      "[Parallel(n_jobs=1)]: Done   1 out of   1 | elapsed:   28.5s finished\n"
     ]
    },
    {
     "name": "stdout",
     "output_type": "stream",
     "text": [
      "convergence after 297 epochs took 32 seconds\n"
     ]
    },
    {
     "name": "stderr",
     "output_type": "stream",
     "text": [
      "[Parallel(n_jobs=1)]: Done   1 out of   1 | elapsed:   32.0s finished\n"
     ]
    },
    {
     "name": "stdout",
     "output_type": "stream",
     "text": [
      "convergence after 155 epochs took 16 seconds\n"
     ]
    },
    {
     "name": "stderr",
     "output_type": "stream",
     "text": [
      "[Parallel(n_jobs=1)]: Done   1 out of   1 | elapsed:   16.6s finished\n"
     ]
    },
    {
     "name": "stdout",
     "output_type": "stream",
     "text": [
      "convergence after 162 epochs took 18 seconds\n"
     ]
    },
    {
     "name": "stderr",
     "output_type": "stream",
     "text": [
      "[Parallel(n_jobs=1)]: Done   1 out of   1 | elapsed:   17.5s finished\n"
     ]
    },
    {
     "name": "stdout",
     "output_type": "stream",
     "text": [
      "convergence after 170 epochs took 19 seconds\n"
     ]
    },
    {
     "name": "stderr",
     "output_type": "stream",
     "text": [
      "[Parallel(n_jobs=1)]: Done   1 out of   1 | elapsed:   19.1s finished\n"
     ]
    },
    {
     "name": "stdout",
     "output_type": "stream",
     "text": [
      "convergence after 237 epochs took 40 seconds\n"
     ]
    },
    {
     "name": "stderr",
     "output_type": "stream",
     "text": [
      "[Parallel(n_jobs=1)]: Done   1 out of   1 | elapsed:   39.4s finished\n"
     ]
    },
    {
     "data": {
      "text/plain": [
       "GridSearchCV(cv=None, error_score='raise',\n",
       "       estimator=LogisticRegression(C=0.1, class_weight='balanced', dual=False,\n",
       "          fit_intercept=True, intercept_scaling=1, max_iter=4000,\n",
       "          multi_class='multinomial', n_jobs=1, penalty='l2',\n",
       "          random_state=None, solver='sag', tol=0.0001, verbose=1,\n",
       "          warm_start=False),\n",
       "       fit_params=None, iid=True, n_jobs=1,\n",
       "       param_grid={'C': [0.0215, 0.0464, 0.1, 0.215]},\n",
       "       pre_dispatch='2*n_jobs', refit='neg_log_loss',\n",
       "       return_train_score=True, scoring=['neg_log_loss', 'accuracy'],\n",
       "       verbose=0)"
      ]
     },
     "execution_count": 37,
     "metadata": {},
     "output_type": "execute_result"
    }
   ],
   "source": [
    "gridsearch.fit(X_train, y_train)"
   ]
  },
  {
   "cell_type": "code",
   "execution_count": 38,
   "metadata": {},
   "outputs": [
    {
     "data": {
      "text/plain": [
       "{'C': 0.0464}"
      ]
     },
     "execution_count": 38,
     "metadata": {},
     "output_type": "execute_result"
    }
   ],
   "source": [
    "gridsearch.best_params_"
   ]
  },
  {
   "cell_type": "code",
   "execution_count": 40,
   "metadata": {},
   "outputs": [
    {
     "data": {
      "text/plain": [
       "LogisticRegression(C=0.0464, class_weight='balanced', dual=False,\n",
       "          fit_intercept=True, intercept_scaling=1, max_iter=4000,\n",
       "          multi_class='multinomial', n_jobs=1, penalty='l2',\n",
       "          random_state=None, solver='sag', tol=0.0001, verbose=1,\n",
       "          warm_start=False)"
      ]
     },
     "execution_count": 40,
     "metadata": {},
     "output_type": "execute_result"
    }
   ],
   "source": [
    "gridsearch.best_estimator_"
   ]
  },
  {
   "cell_type": "code",
   "execution_count": 39,
   "metadata": {},
   "outputs": [
    {
     "data": {
      "text/html": [
       "<div>\n",
       "<style scoped>\n",
       "    .dataframe tbody tr th:only-of-type {\n",
       "        vertical-align: middle;\n",
       "    }\n",
       "\n",
       "    .dataframe tbody tr th {\n",
       "        vertical-align: top;\n",
       "    }\n",
       "\n",
       "    .dataframe thead th {\n",
       "        text-align: right;\n",
       "    }\n",
       "</style>\n",
       "<table border=\"1\" class=\"dataframe\">\n",
       "  <thead>\n",
       "    <tr style=\"text-align: right;\">\n",
       "      <th></th>\n",
       "      <th>mean_fit_time</th>\n",
       "      <th>mean_score_time</th>\n",
       "      <th>mean_test_accuracy</th>\n",
       "      <th>mean_test_neg_log_loss</th>\n",
       "      <th>mean_train_accuracy</th>\n",
       "      <th>mean_train_neg_log_loss</th>\n",
       "      <th>param_C</th>\n",
       "      <th>params</th>\n",
       "      <th>rank_test_accuracy</th>\n",
       "      <th>rank_test_neg_log_loss</th>\n",
       "      <th>...</th>\n",
       "      <th>split2_test_accuracy</th>\n",
       "      <th>split2_test_neg_log_loss</th>\n",
       "      <th>split2_train_accuracy</th>\n",
       "      <th>split2_train_neg_log_loss</th>\n",
       "      <th>std_fit_time</th>\n",
       "      <th>std_score_time</th>\n",
       "      <th>std_test_accuracy</th>\n",
       "      <th>std_test_neg_log_loss</th>\n",
       "      <th>std_train_accuracy</th>\n",
       "      <th>std_train_neg_log_loss</th>\n",
       "    </tr>\n",
       "  </thead>\n",
       "  <tbody>\n",
       "    <tr>\n",
       "      <th>0</th>\n",
       "      <td>25.582637</td>\n",
       "      <td>0.011259</td>\n",
       "      <td>0.628417</td>\n",
       "      <td>-1.036844</td>\n",
       "      <td>0.866178</td>\n",
       "      <td>-0.603519</td>\n",
       "      <td>0.0215</td>\n",
       "      <td>{'C': 0.0215}</td>\n",
       "      <td>3</td>\n",
       "      <td>2</td>\n",
       "      <td>...</td>\n",
       "      <td>0.623923</td>\n",
       "      <td>-1.058245</td>\n",
       "      <td>0.867206</td>\n",
       "      <td>-0.598349</td>\n",
       "      <td>1.090620</td>\n",
       "      <td>0.000532</td>\n",
       "      <td>0.007112</td>\n",
       "      <td>0.018323</td>\n",
       "      <td>0.000949</td>\n",
       "      <td>0.003666</td>\n",
       "    </tr>\n",
       "    <tr>\n",
       "      <th>1</th>\n",
       "      <td>29.487124</td>\n",
       "      <td>0.013618</td>\n",
       "      <td>0.634456</td>\n",
       "      <td>-1.022300</td>\n",
       "      <td>0.926570</td>\n",
       "      <td>-0.436708</td>\n",
       "      <td>0.0464</td>\n",
       "      <td>{'C': 0.0464}</td>\n",
       "      <td>1</td>\n",
       "      <td>1</td>\n",
       "      <td>...</td>\n",
       "      <td>0.629665</td>\n",
       "      <td>-1.044183</td>\n",
       "      <td>0.930509</td>\n",
       "      <td>-0.432232</td>\n",
       "      <td>1.442935</td>\n",
       "      <td>0.002363</td>\n",
       "      <td>0.003971</td>\n",
       "      <td>0.016588</td>\n",
       "      <td>0.003627</td>\n",
       "      <td>0.003304</td>\n",
       "    </tr>\n",
       "    <tr>\n",
       "      <th>2</th>\n",
       "      <td>28.345892</td>\n",
       "      <td>0.010665</td>\n",
       "      <td>0.630960</td>\n",
       "      <td>-1.050527</td>\n",
       "      <td>0.973457</td>\n",
       "      <td>-0.292520</td>\n",
       "      <td>0.1</td>\n",
       "      <td>{'C': 0.1}</td>\n",
       "      <td>2</td>\n",
       "      <td>3</td>\n",
       "      <td>...</td>\n",
       "      <td>0.630622</td>\n",
       "      <td>-1.073082</td>\n",
       "      <td>0.975250</td>\n",
       "      <td>-0.289099</td>\n",
       "      <td>3.128261</td>\n",
       "      <td>0.000135</td>\n",
       "      <td>0.009093</td>\n",
       "      <td>0.015981</td>\n",
       "      <td>0.001284</td>\n",
       "      <td>0.002718</td>\n",
       "    </tr>\n",
       "    <tr>\n",
       "      <th>3</th>\n",
       "      <td>17.803324</td>\n",
       "      <td>0.011616</td>\n",
       "      <td>0.620153</td>\n",
       "      <td>-1.121781</td>\n",
       "      <td>0.995549</td>\n",
       "      <td>-0.182153</td>\n",
       "      <td>0.215</td>\n",
       "      <td>{'C': 0.215}</td>\n",
       "      <td>4</td>\n",
       "      <td>4</td>\n",
       "      <td>...</td>\n",
       "      <td>0.619139</td>\n",
       "      <td>-1.144191</td>\n",
       "      <td>0.996668</td>\n",
       "      <td>-0.179918</td>\n",
       "      <td>1.016856</td>\n",
       "      <td>0.000751</td>\n",
       "      <td>0.010674</td>\n",
       "      <td>0.015957</td>\n",
       "      <td>0.000983</td>\n",
       "      <td>0.001873</td>\n",
       "    </tr>\n",
       "  </tbody>\n",
       "</table>\n",
       "<p>4 rows × 28 columns</p>\n",
       "</div>"
      ],
      "text/plain": [
       "   mean_fit_time  mean_score_time  mean_test_accuracy  mean_test_neg_log_loss  \\\n",
       "0      25.582637         0.011259            0.628417               -1.036844   \n",
       "1      29.487124         0.013618            0.634456               -1.022300   \n",
       "2      28.345892         0.010665            0.630960               -1.050527   \n",
       "3      17.803324         0.011616            0.620153               -1.121781   \n",
       "\n",
       "   mean_train_accuracy  mean_train_neg_log_loss param_C         params  \\\n",
       "0             0.866178                -0.603519  0.0215  {'C': 0.0215}   \n",
       "1             0.926570                -0.436708  0.0464  {'C': 0.0464}   \n",
       "2             0.973457                -0.292520     0.1     {'C': 0.1}   \n",
       "3             0.995549                -0.182153   0.215   {'C': 0.215}   \n",
       "\n",
       "   rank_test_accuracy  rank_test_neg_log_loss           ...            \\\n",
       "0                   3                       2           ...             \n",
       "1                   1                       1           ...             \n",
       "2                   2                       3           ...             \n",
       "3                   4                       4           ...             \n",
       "\n",
       "   split2_test_accuracy  split2_test_neg_log_loss  split2_train_accuracy  \\\n",
       "0              0.623923                 -1.058245               0.867206   \n",
       "1              0.629665                 -1.044183               0.930509   \n",
       "2              0.630622                 -1.073082               0.975250   \n",
       "3              0.619139                 -1.144191               0.996668   \n",
       "\n",
       "   split2_train_neg_log_loss  std_fit_time  std_score_time  std_test_accuracy  \\\n",
       "0                  -0.598349      1.090620        0.000532           0.007112   \n",
       "1                  -0.432232      1.442935        0.002363           0.003971   \n",
       "2                  -0.289099      3.128261        0.000135           0.009093   \n",
       "3                  -0.179918      1.016856        0.000751           0.010674   \n",
       "\n",
       "   std_test_neg_log_loss  std_train_accuracy  std_train_neg_log_loss  \n",
       "0               0.018323            0.000949                0.003666  \n",
       "1               0.016588            0.003627                0.003304  \n",
       "2               0.015981            0.001284                0.002718  \n",
       "3               0.015957            0.000983                0.001873  \n",
       "\n",
       "[4 rows x 28 columns]"
      ]
     },
     "execution_count": 39,
     "metadata": {},
     "output_type": "execute_result"
    }
   ],
   "source": [
    "pd.DataFrame(gridsearch.cv_results_)"
   ]
  },
  {
   "cell_type": "code",
   "execution_count": 120,
   "metadata": {},
   "outputs": [
    {
     "name": "stdout",
     "output_type": "stream",
     "text": [
      "Train log_loss: 0.45402520125432755, Test log_loss: 0.974286534493626\n",
      "Train Matthews CC: 0.8905793051708235, Test Matthews CC: 0.592198036059199\n",
      "Train accuracy: 0.9062301335028607, Test accuracy: 0.650571791613723\n",
      "Train top_2_accuracy: 0.9713922441195169, Test top_2_accuracy: 0.8360864040660737\n",
      "Train top_3_accuracy: 0.9914176732358551, Test top_3_accuracy: 0.9059720457433291\n"
     ]
    },
    {
     "data": {
      "text/html": [
       "<div>\n",
       "<style scoped>\n",
       "    .dataframe tbody tr th:only-of-type {\n",
       "        vertical-align: middle;\n",
       "    }\n",
       "\n",
       "    .dataframe tbody tr th {\n",
       "        vertical-align: top;\n",
       "    }\n",
       "\n",
       "    .dataframe thead th {\n",
       "        text-align: right;\n",
       "    }\n",
       "</style>\n",
       "<table border=\"1\" class=\"dataframe\">\n",
       "  <thead>\n",
       "    <tr style=\"text-align: right;\">\n",
       "      <th></th>\n",
       "      <th>Predicted acer_macrophyllum</th>\n",
       "      <th>Predicted alnus_rubra</th>\n",
       "      <th>Predicted cedrus_libani</th>\n",
       "      <th>Predicted picea_sitchensis</th>\n",
       "      <th>Predicted platanus_acerifolia</th>\n",
       "      <th>Predicted pseudotsuga_menziesii</th>\n",
       "      <th>Predicted thuja_plicata</th>\n",
       "    </tr>\n",
       "  </thead>\n",
       "  <tbody>\n",
       "    <tr>\n",
       "      <th>Actual acer_macrophyllum</th>\n",
       "      <td>70</td>\n",
       "      <td>8</td>\n",
       "      <td>6</td>\n",
       "      <td>1</td>\n",
       "      <td>17</td>\n",
       "      <td>5</td>\n",
       "      <td>6</td>\n",
       "    </tr>\n",
       "    <tr>\n",
       "      <th>Actual alnus_rubra</th>\n",
       "      <td>11</td>\n",
       "      <td>74</td>\n",
       "      <td>5</td>\n",
       "      <td>8</td>\n",
       "      <td>13</td>\n",
       "      <td>4</td>\n",
       "      <td>3</td>\n",
       "    </tr>\n",
       "    <tr>\n",
       "      <th>Actual cedrus_libani</th>\n",
       "      <td>5</td>\n",
       "      <td>5</td>\n",
       "      <td>86</td>\n",
       "      <td>13</td>\n",
       "      <td>2</td>\n",
       "      <td>16</td>\n",
       "      <td>8</td>\n",
       "    </tr>\n",
       "    <tr>\n",
       "      <th>Actual picea_sitchensis</th>\n",
       "      <td>6</td>\n",
       "      <td>5</td>\n",
       "      <td>3</td>\n",
       "      <td>66</td>\n",
       "      <td>1</td>\n",
       "      <td>16</td>\n",
       "      <td>8</td>\n",
       "    </tr>\n",
       "    <tr>\n",
       "      <th>Actual platanus_acerifolia</th>\n",
       "      <td>10</td>\n",
       "      <td>4</td>\n",
       "      <td>0</td>\n",
       "      <td>2</td>\n",
       "      <td>79</td>\n",
       "      <td>1</td>\n",
       "      <td>0</td>\n",
       "    </tr>\n",
       "    <tr>\n",
       "      <th>Actual pseudotsuga_menziesii</th>\n",
       "      <td>2</td>\n",
       "      <td>7</td>\n",
       "      <td>18</td>\n",
       "      <td>13</td>\n",
       "      <td>2</td>\n",
       "      <td>51</td>\n",
       "      <td>8</td>\n",
       "    </tr>\n",
       "    <tr>\n",
       "      <th>Actual thuja_plicata</th>\n",
       "      <td>6</td>\n",
       "      <td>6</td>\n",
       "      <td>10</td>\n",
       "      <td>7</td>\n",
       "      <td>0</td>\n",
       "      <td>4</td>\n",
       "      <td>86</td>\n",
       "    </tr>\n",
       "  </tbody>\n",
       "</table>\n",
       "</div>"
      ],
      "text/plain": [
       "                              Predicted acer_macrophyllum  \\\n",
       "Actual acer_macrophyllum                               70   \n",
       "Actual alnus_rubra                                     11   \n",
       "Actual cedrus_libani                                    5   \n",
       "Actual picea_sitchensis                                 6   \n",
       "Actual platanus_acerifolia                             10   \n",
       "Actual pseudotsuga_menziesii                            2   \n",
       "Actual thuja_plicata                                    6   \n",
       "\n",
       "                              Predicted alnus_rubra  Predicted cedrus_libani  \\\n",
       "Actual acer_macrophyllum                          8                        6   \n",
       "Actual alnus_rubra                               74                        5   \n",
       "Actual cedrus_libani                              5                       86   \n",
       "Actual picea_sitchensis                           5                        3   \n",
       "Actual platanus_acerifolia                        4                        0   \n",
       "Actual pseudotsuga_menziesii                      7                       18   \n",
       "Actual thuja_plicata                              6                       10   \n",
       "\n",
       "                              Predicted picea_sitchensis  \\\n",
       "Actual acer_macrophyllum                               1   \n",
       "Actual alnus_rubra                                     8   \n",
       "Actual cedrus_libani                                  13   \n",
       "Actual picea_sitchensis                               66   \n",
       "Actual platanus_acerifolia                             2   \n",
       "Actual pseudotsuga_menziesii                          13   \n",
       "Actual thuja_plicata                                   7   \n",
       "\n",
       "                              Predicted platanus_acerifolia  \\\n",
       "Actual acer_macrophyllum                                 17   \n",
       "Actual alnus_rubra                                       13   \n",
       "Actual cedrus_libani                                      2   \n",
       "Actual picea_sitchensis                                   1   \n",
       "Actual platanus_acerifolia                               79   \n",
       "Actual pseudotsuga_menziesii                              2   \n",
       "Actual thuja_plicata                                      0   \n",
       "\n",
       "                              Predicted pseudotsuga_menziesii  \\\n",
       "Actual acer_macrophyllum                                    5   \n",
       "Actual alnus_rubra                                          4   \n",
       "Actual cedrus_libani                                       16   \n",
       "Actual picea_sitchensis                                    16   \n",
       "Actual platanus_acerifolia                                  1   \n",
       "Actual pseudotsuga_menziesii                               51   \n",
       "Actual thuja_plicata                                        4   \n",
       "\n",
       "                              Predicted thuja_plicata  \n",
       "Actual acer_macrophyllum                            6  \n",
       "Actual alnus_rubra                                  3  \n",
       "Actual cedrus_libani                                8  \n",
       "Actual picea_sitchensis                             8  \n",
       "Actual platanus_acerifolia                          0  \n",
       "Actual pseudotsuga_menziesii                        8  \n",
       "Actual thuja_plicata                               86  "
      ]
     },
     "execution_count": 120,
     "metadata": {},
     "output_type": "execute_result"
    }
   ],
   "source": [
    "#This should give different results, hopefully better...\n",
    "log_model = gridsearch.best_estimator_\n",
    "logeval = meval.ModelEvaluator(log_model)\n",
    "logeval.print_classifier_metrics(X_train, X_test, y_train, y_test)\n",
    "logeval.confusion_df(X_test, y_test)"
   ]
  },
  {
   "cell_type": "markdown",
   "metadata": {},
   "source": [
    "## Figure out how to compute top-k accuracy"
   ]
  },
  {
   "cell_type": "code",
   "execution_count": 53,
   "metadata": {},
   "outputs": [
    {
     "data": {
      "text/plain": [
       "array([[  9.43973975e-02,   9.56008178e-02,   7.48665682e-02,\n",
       "          6.77461076e-02,   2.58129496e-01,   5.04825178e-03,\n",
       "          4.04211361e-01],\n",
       "       [  1.07374138e-01,   7.67111941e-02,   1.60458881e-01,\n",
       "          1.96749587e-02,   1.35313216e-03,   8.39505323e-02,\n",
       "          5.50477164e-01],\n",
       "       [  1.34566960e-01,   4.90236729e-03,   5.71736970e-03,\n",
       "          1.76230958e-03,   3.33526196e-03,   8.31814150e-02,\n",
       "          7.66534317e-01],\n",
       "       [  3.80195524e-02,   2.70769303e-04,   4.03901521e-03,\n",
       "          3.64901283e-04,   6.56323286e-05,   2.59502658e-03,\n",
       "          9.54645103e-01],\n",
       "       [  8.13707688e-02,   2.70758772e-02,   3.35666865e-02,\n",
       "          6.52965174e-03,   8.08568494e-01,   1.83507752e-02,\n",
       "          2.45377463e-02]])"
      ]
     },
     "execution_count": 53,
     "metadata": {},
     "output_type": "execute_result"
    }
   ],
   "source": [
    "y_pred = log_model.predict_proba(X_test)\n",
    "y_pred[:5]"
   ]
  },
  {
   "cell_type": "code",
   "execution_count": 54,
   "metadata": {},
   "outputs": [
    {
     "data": {
      "text/plain": [
       "(787, 7)"
      ]
     },
     "execution_count": 54,
     "metadata": {},
     "output_type": "execute_result"
    }
   ],
   "source": [
    "y_pred.shape"
   ]
  },
  {
   "cell_type": "code",
   "execution_count": 69,
   "metadata": {},
   "outputs": [
    {
     "data": {
      "text/plain": [
       "array([[5, 3, 2, ..., 1, 4, 6],\n",
       "       [4, 3, 1, ..., 0, 2, 6],\n",
       "       [3, 4, 1, ..., 5, 0, 6],\n",
       "       ..., \n",
       "       [2, 3, 5, ..., 1, 0, 4],\n",
       "       [4, 0, 1, ..., 3, 5, 2],\n",
       "       [1, 3, 5, ..., 0, 6, 4]])"
      ]
     },
     "execution_count": 69,
     "metadata": {},
     "output_type": "execute_result"
    }
   ],
   "source": [
    "np.argsort(y_pred, axis=1)#[:,:]"
   ]
  },
  {
   "cell_type": "code",
   "execution_count": 82,
   "metadata": {},
   "outputs": [
    {
     "data": {
      "text/plain": [
       "array([[1, 4, 6],\n",
       "       [0, 2, 6],\n",
       "       [5, 0, 6],\n",
       "       [2, 0, 6],\n",
       "       [2, 0, 4]])"
      ]
     },
     "execution_count": 82,
     "metadata": {},
     "output_type": "execute_result"
    }
   ],
   "source": [
    "np.argsort(y_pred, axis=1)[:5,-3:]"
   ]
  },
  {
   "cell_type": "code",
   "execution_count": 81,
   "metadata": {},
   "outputs": [
    {
     "data": {
      "text/plain": [
       "array([['alnus_rubra', 'platanus_acerifolia', 'thuja_plicata'],\n",
       "       ['acer_macrophyllum', 'cedrus_libani', 'thuja_plicata'],\n",
       "       ['pseudotsuga_menziesii', 'acer_macrophyllum', 'thuja_plicata'],\n",
       "       ['cedrus_libani', 'acer_macrophyllum', 'thuja_plicata'],\n",
       "       ['cedrus_libani', 'acer_macrophyllum', 'platanus_acerifolia']], dtype=object)"
      ]
     },
     "execution_count": 81,
     "metadata": {},
     "output_type": "execute_result"
    }
   ],
   "source": [
    "log_model.classes_[np.argsort(y_pred, axis=1)[:5,-3:]]"
   ]
  },
  {
   "cell_type": "code",
   "execution_count": 76,
   "metadata": {},
   "outputs": [
    {
     "data": {
      "text/plain": [
       "521       acer_macrophyllum\n",
       "3718       picea_sitchensis\n",
       "3877       picea_sitchensis\n",
       "1767          thuja_plicata\n",
       "5036    platanus_acerifolia\n",
       "Name: folder, dtype: object"
      ]
     },
     "execution_count": 76,
     "metadata": {},
     "output_type": "execute_result"
    }
   ],
   "source": [
    "y_test[:5]"
   ]
  },
  {
   "cell_type": "code",
   "execution_count": 101,
   "metadata": {},
   "outputs": [
    {
     "data": {
      "text/plain": [
       "0.90597204574332912"
      ]
     },
     "execution_count": 101,
     "metadata": {},
     "output_type": "execute_result"
    }
   ],
   "source": [
    "np.array([y_test.iloc[i] in log_model.classes_[np.argsort(y_pred, axis=1)[i,-3:]] for i in range(len(y_test))]).mean()\n",
    "#Top 2: 0.83608640406607371\n",
    "#Top 3: 0.90597204574332912"
   ]
  },
  {
   "cell_type": "code",
   "execution_count": 122,
   "metadata": {},
   "outputs": [],
   "source": [
    "def top_k_accuracy(y_true, y_pred, classes, k=3):\n",
    "    ranked_predictions = classes[np.argsort(y_pred, axis=1)[:,-k:]]\n",
    "    #print(ranked_predictions)\n",
    "    return np.array([y_true.iloc[i] in ranked_predictions[i] for i in range(len(y_true))]).mean()"
   ]
  },
  {
   "cell_type": "code",
   "execution_count": 115,
   "metadata": {},
   "outputs": [
    {
     "name": "stdout",
     "output_type": "stream",
     "text": [
      "[['platanus_acerifolia' 'thuja_plicata']\n",
      " ['cedrus_libani' 'thuja_plicata']\n",
      " ['acer_macrophyllum' 'thuja_plicata']\n",
      " ..., \n",
      " ['acer_macrophyllum' 'platanus_acerifolia']\n",
      " ['pseudotsuga_menziesii' 'cedrus_libani']\n",
      " ['thuja_plicata' 'platanus_acerifolia']]\n"
     ]
    },
    {
     "data": {
      "text/plain": [
       "0.83608640406607371"
      ]
     },
     "execution_count": 115,
     "metadata": {},
     "output_type": "execute_result"
    }
   ],
   "source": [
    "top_k_accuracy(y_test, y_pred, log_model.classes_, k=2)"
   ]
  },
  {
   "cell_type": "code",
   "execution_count": 123,
   "metadata": {},
   "outputs": [
    {
     "data": {
      "text/plain": [
       "0.65057179161372303"
      ]
     },
     "execution_count": 123,
     "metadata": {},
     "output_type": "execute_result"
    }
   ],
   "source": [
    "top_k_accuracy(y_test, y_pred, log_model.classes_, k=1)"
   ]
  },
  {
   "cell_type": "code",
   "execution_count": null,
   "metadata": {
    "collapsed": true
   },
   "outputs": [],
   "source": []
  }
 ],
 "metadata": {
  "kernelspec": {
   "display_name": "Python 3",
   "language": "python",
   "name": "python3"
  },
  "language_info": {
   "codemirror_mode": {
    "name": "ipython",
    "version": 3
   },
   "file_extension": ".py",
   "mimetype": "text/x-python",
   "name": "python",
   "nbconvert_exporter": "python",
   "pygments_lexer": "ipython3",
   "version": "3.6.3"
  }
 },
 "nbformat": 4,
 "nbformat_minor": 2
}
