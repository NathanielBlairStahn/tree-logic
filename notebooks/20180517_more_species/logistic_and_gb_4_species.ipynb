{
 "cells": [
  {
   "cell_type": "markdown",
   "metadata": {},
   "source": [
    "# Train a logistic regression and gradient booster on 4 species\n",
    "\n",
    "Friday, May 18, 2018"
   ]
  },
  {
   "cell_type": "code",
   "execution_count": 1,
   "metadata": {
    "collapsed": true
   },
   "outputs": [],
   "source": [
    "%load_ext autoreload\n",
    "%autoreload 2"
   ]
  },
  {
   "cell_type": "code",
   "execution_count": 30,
   "metadata": {
    "collapsed": true
   },
   "outputs": [],
   "source": [
    "import numpy as np\n",
    "import pandas as pd\n",
    "\n",
    "from sklearn.model_selection import train_test_split, GridSearchCV, cross_validate\n",
    "from sklearn.linear_model import LogisticRegression\n",
    "from sklearn.ensemble import GradientBoostingClassifier"
   ]
  },
  {
   "cell_type": "code",
   "execution_count": 3,
   "metadata": {
    "collapsed": true
   },
   "outputs": [],
   "source": [
    "import os\n",
    "import sys\n",
    "\n",
    "#Store the relative and absolute path to the home directory of the project\n",
    "project_directory = '../..'\n",
    "project_path = os.path.abspath(os.path.join(project_directory))\n",
    "\n",
    "#Add the project path to the system path if necessesary, to be able to load modules from subdirectories\n",
    "if project_path not in sys.path:\n",
    "    sys.path.append(project_path)"
   ]
  },
  {
   "cell_type": "code",
   "execution_count": 4,
   "metadata": {
    "collapsed": true
   },
   "outputs": [],
   "source": [
    "import src.image_manager as im\n",
    "import src.model_eval as meval"
   ]
  },
  {
   "cell_type": "markdown",
   "metadata": {},
   "source": [
    "## Load the features dataframes and append one species to the 3 species"
   ]
  },
  {
   "cell_type": "code",
   "execution_count": 5,
   "metadata": {
    "collapsed": true
   },
   "outputs": [],
   "source": [
    "features_3species_path = os.path.join(project_path, 'data', 'features_3species_20180514.csv')\n",
    "features_2species_path = os.path.join(project_path, 'data', 'features_alnus_thuja.csv')"
   ]
  },
  {
   "cell_type": "code",
   "execution_count": 7,
   "metadata": {
    "collapsed": true
   },
   "outputs": [],
   "source": [
    "acer_picea_platanus_df = im.load_df(features_3species_path)\n",
    "alnus_thuja_df = im.load_df(features_2species_path)"
   ]
  },
  {
   "cell_type": "code",
   "execution_count": 8,
   "metadata": {},
   "outputs": [
    {
     "data": {
      "text/html": [
       "<div>\n",
       "<style scoped>\n",
       "    .dataframe tbody tr th:only-of-type {\n",
       "        vertical-align: middle;\n",
       "    }\n",
       "\n",
       "    .dataframe tbody tr th {\n",
       "        vertical-align: top;\n",
       "    }\n",
       "\n",
       "    .dataframe thead th {\n",
       "        text-align: right;\n",
       "    }\n",
       "</style>\n",
       "<table border=\"1\" class=\"dataframe\">\n",
       "  <thead>\n",
       "    <tr style=\"text-align: right;\">\n",
       "      <th></th>\n",
       "      <th>p_hash</th>\n",
       "      <th>filename</th>\n",
       "      <th>folder</th>\n",
       "      <th>incv3_out_0</th>\n",
       "      <th>incv3_out_1</th>\n",
       "      <th>incv3_out_2</th>\n",
       "      <th>incv3_out_3</th>\n",
       "      <th>incv3_out_4</th>\n",
       "      <th>incv3_out_5</th>\n",
       "      <th>incv3_out_6</th>\n",
       "      <th>...</th>\n",
       "      <th>incv3_out_2038</th>\n",
       "      <th>incv3_out_2039</th>\n",
       "      <th>incv3_out_2040</th>\n",
       "      <th>incv3_out_2041</th>\n",
       "      <th>incv3_out_2042</th>\n",
       "      <th>incv3_out_2043</th>\n",
       "      <th>incv3_out_2044</th>\n",
       "      <th>incv3_out_2045</th>\n",
       "      <th>incv3_out_2046</th>\n",
       "      <th>incv3_out_2047</th>\n",
       "    </tr>\n",
       "  </thead>\n",
       "  <tbody>\n",
       "    <tr>\n",
       "      <th>0</th>\n",
       "      <td>9bb759cb29b01a25</td>\n",
       "      <td>image_bigleaf_maple_57.png</td>\n",
       "      <td>acer_macrophyllum</td>\n",
       "      <td>0.180042</td>\n",
       "      <td>0.057599</td>\n",
       "      <td>0.632024</td>\n",
       "      <td>0.021612</td>\n",
       "      <td>0.297033</td>\n",
       "      <td>0.011966</td>\n",
       "      <td>0.903157</td>\n",
       "      <td>...</td>\n",
       "      <td>0.360490</td>\n",
       "      <td>0.009282</td>\n",
       "      <td>0.055258</td>\n",
       "      <td>0.110056</td>\n",
       "      <td>0.058888</td>\n",
       "      <td>0.201237</td>\n",
       "      <td>0.198077</td>\n",
       "      <td>1.394304</td>\n",
       "      <td>0.155102</td>\n",
       "      <td>0.000000</td>\n",
       "    </tr>\n",
       "    <tr>\n",
       "      <th>1</th>\n",
       "      <td>99c20b3b74d53de0</td>\n",
       "      <td>image_bigleaf_maple_43.png</td>\n",
       "      <td>acer_macrophyllum</td>\n",
       "      <td>0.667066</td>\n",
       "      <td>0.249269</td>\n",
       "      <td>0.074132</td>\n",
       "      <td>0.177577</td>\n",
       "      <td>0.520580</td>\n",
       "      <td>0.167225</td>\n",
       "      <td>0.233005</td>\n",
       "      <td>...</td>\n",
       "      <td>1.446164</td>\n",
       "      <td>0.920353</td>\n",
       "      <td>0.823285</td>\n",
       "      <td>0.617185</td>\n",
       "      <td>0.121126</td>\n",
       "      <td>0.065866</td>\n",
       "      <td>0.876259</td>\n",
       "      <td>0.226926</td>\n",
       "      <td>0.274808</td>\n",
       "      <td>0.000000</td>\n",
       "    </tr>\n",
       "    <tr>\n",
       "      <th>2</th>\n",
       "      <td>a1e1e0d4e646e765</td>\n",
       "      <td>image_big_leaf_maple_bark_48.png</td>\n",
       "      <td>acer_macrophyllum</td>\n",
       "      <td>0.159188</td>\n",
       "      <td>0.011783</td>\n",
       "      <td>0.187351</td>\n",
       "      <td>0.211521</td>\n",
       "      <td>0.466182</td>\n",
       "      <td>0.387081</td>\n",
       "      <td>0.217815</td>\n",
       "      <td>...</td>\n",
       "      <td>1.198391</td>\n",
       "      <td>0.460702</td>\n",
       "      <td>0.157247</td>\n",
       "      <td>0.267633</td>\n",
       "      <td>0.006349</td>\n",
       "      <td>0.466702</td>\n",
       "      <td>0.641492</td>\n",
       "      <td>1.066418</td>\n",
       "      <td>0.145887</td>\n",
       "      <td>0.223863</td>\n",
       "    </tr>\n",
       "    <tr>\n",
       "      <th>3</th>\n",
       "      <td>abee94c19cb28b0e</td>\n",
       "      <td>image_acer_macrophylum_tree_49.png</td>\n",
       "      <td>acer_macrophyllum</td>\n",
       "      <td>0.658278</td>\n",
       "      <td>0.010192</td>\n",
       "      <td>0.344359</td>\n",
       "      <td>0.192652</td>\n",
       "      <td>0.342696</td>\n",
       "      <td>0.362848</td>\n",
       "      <td>0.562928</td>\n",
       "      <td>...</td>\n",
       "      <td>0.257585</td>\n",
       "      <td>0.077631</td>\n",
       "      <td>0.057183</td>\n",
       "      <td>0.411228</td>\n",
       "      <td>0.417154</td>\n",
       "      <td>0.048589</td>\n",
       "      <td>0.421282</td>\n",
       "      <td>0.057896</td>\n",
       "      <td>0.325496</td>\n",
       "      <td>0.145896</td>\n",
       "    </tr>\n",
       "    <tr>\n",
       "      <th>4</th>\n",
       "      <td>d3c161631f2b4b4e</td>\n",
       "      <td>image_bigleaf_maple_94.png</td>\n",
       "      <td>acer_macrophyllum</td>\n",
       "      <td>0.056695</td>\n",
       "      <td>0.255299</td>\n",
       "      <td>0.407071</td>\n",
       "      <td>0.066481</td>\n",
       "      <td>0.000076</td>\n",
       "      <td>0.568202</td>\n",
       "      <td>0.362414</td>\n",
       "      <td>...</td>\n",
       "      <td>1.289151</td>\n",
       "      <td>0.578341</td>\n",
       "      <td>0.963826</td>\n",
       "      <td>0.028785</td>\n",
       "      <td>0.310883</td>\n",
       "      <td>0.001386</td>\n",
       "      <td>1.154405</td>\n",
       "      <td>0.034431</td>\n",
       "      <td>0.768076</td>\n",
       "      <td>0.217323</td>\n",
       "    </tr>\n",
       "  </tbody>\n",
       "</table>\n",
       "<p>5 rows × 2051 columns</p>\n",
       "</div>"
      ],
      "text/plain": [
       "             p_hash                            filename             folder  \\\n",
       "0  9bb759cb29b01a25          image_bigleaf_maple_57.png  acer_macrophyllum   \n",
       "1  99c20b3b74d53de0          image_bigleaf_maple_43.png  acer_macrophyllum   \n",
       "2  a1e1e0d4e646e765    image_big_leaf_maple_bark_48.png  acer_macrophyllum   \n",
       "3  abee94c19cb28b0e  image_acer_macrophylum_tree_49.png  acer_macrophyllum   \n",
       "4  d3c161631f2b4b4e          image_bigleaf_maple_94.png  acer_macrophyllum   \n",
       "\n",
       "   incv3_out_0  incv3_out_1  incv3_out_2  incv3_out_3  incv3_out_4  \\\n",
       "0     0.180042     0.057599     0.632024     0.021612     0.297033   \n",
       "1     0.667066     0.249269     0.074132     0.177577     0.520580   \n",
       "2     0.159188     0.011783     0.187351     0.211521     0.466182   \n",
       "3     0.658278     0.010192     0.344359     0.192652     0.342696   \n",
       "4     0.056695     0.255299     0.407071     0.066481     0.000076   \n",
       "\n",
       "   incv3_out_5  incv3_out_6       ...        incv3_out_2038  incv3_out_2039  \\\n",
       "0     0.011966     0.903157       ...              0.360490        0.009282   \n",
       "1     0.167225     0.233005       ...              1.446164        0.920353   \n",
       "2     0.387081     0.217815       ...              1.198391        0.460702   \n",
       "3     0.362848     0.562928       ...              0.257585        0.077631   \n",
       "4     0.568202     0.362414       ...              1.289151        0.578341   \n",
       "\n",
       "   incv3_out_2040  incv3_out_2041  incv3_out_2042  incv3_out_2043  \\\n",
       "0        0.055258        0.110056        0.058888        0.201237   \n",
       "1        0.823285        0.617185        0.121126        0.065866   \n",
       "2        0.157247        0.267633        0.006349        0.466702   \n",
       "3        0.057183        0.411228        0.417154        0.048589   \n",
       "4        0.963826        0.028785        0.310883        0.001386   \n",
       "\n",
       "   incv3_out_2044  incv3_out_2045  incv3_out_2046  incv3_out_2047  \n",
       "0        0.198077        1.394304        0.155102        0.000000  \n",
       "1        0.876259        0.226926        0.274808        0.000000  \n",
       "2        0.641492        1.066418        0.145887        0.223863  \n",
       "3        0.421282        0.057896        0.325496        0.145896  \n",
       "4        1.154405        0.034431        0.768076        0.217323  \n",
       "\n",
       "[5 rows x 2051 columns]"
      ]
     },
     "execution_count": 8,
     "metadata": {},
     "output_type": "execute_result"
    }
   ],
   "source": [
    "acer_picea_platanus_df.head()"
   ]
  },
  {
   "cell_type": "code",
   "execution_count": 9,
   "metadata": {},
   "outputs": [
    {
     "data": {
      "text/html": [
       "<div>\n",
       "<style scoped>\n",
       "    .dataframe tbody tr th:only-of-type {\n",
       "        vertical-align: middle;\n",
       "    }\n",
       "\n",
       "    .dataframe tbody tr th {\n",
       "        vertical-align: top;\n",
       "    }\n",
       "\n",
       "    .dataframe thead th {\n",
       "        text-align: right;\n",
       "    }\n",
       "</style>\n",
       "<table border=\"1\" class=\"dataframe\">\n",
       "  <thead>\n",
       "    <tr style=\"text-align: right;\">\n",
       "      <th></th>\n",
       "      <th>p_hash</th>\n",
       "      <th>filename</th>\n",
       "      <th>folder</th>\n",
       "      <th>incv3_out_0</th>\n",
       "      <th>incv3_out_1</th>\n",
       "      <th>incv3_out_2</th>\n",
       "      <th>incv3_out_3</th>\n",
       "      <th>incv3_out_4</th>\n",
       "      <th>incv3_out_5</th>\n",
       "      <th>incv3_out_6</th>\n",
       "      <th>...</th>\n",
       "      <th>incv3_out_2038</th>\n",
       "      <th>incv3_out_2039</th>\n",
       "      <th>incv3_out_2040</th>\n",
       "      <th>incv3_out_2041</th>\n",
       "      <th>incv3_out_2042</th>\n",
       "      <th>incv3_out_2043</th>\n",
       "      <th>incv3_out_2044</th>\n",
       "      <th>incv3_out_2045</th>\n",
       "      <th>incv3_out_2046</th>\n",
       "      <th>incv3_out_2047</th>\n",
       "    </tr>\n",
       "  </thead>\n",
       "  <tbody>\n",
       "    <tr>\n",
       "      <th>1262</th>\n",
       "      <td>c5c3866ab4dc8637</td>\n",
       "      <td>image_western_red_cedar_tree_17.png</td>\n",
       "      <td>thuja_plicata</td>\n",
       "      <td>1.336279</td>\n",
       "      <td>0.011943</td>\n",
       "      <td>0.395570</td>\n",
       "      <td>0.218817</td>\n",
       "      <td>0.317935</td>\n",
       "      <td>0.056648</td>\n",
       "      <td>0.087848</td>\n",
       "      <td>...</td>\n",
       "      <td>0.433737</td>\n",
       "      <td>0.159791</td>\n",
       "      <td>0.323293</td>\n",
       "      <td>0.009519</td>\n",
       "      <td>0.028450</td>\n",
       "      <td>0.134239</td>\n",
       "      <td>0.136767</td>\n",
       "      <td>0.110591</td>\n",
       "      <td>0.925633</td>\n",
       "      <td>0.000594</td>\n",
       "    </tr>\n",
       "    <tr>\n",
       "      <th>1263</th>\n",
       "      <td>83955f6a27e8417c</td>\n",
       "      <td>image_western_red_cedar_27.png</td>\n",
       "      <td>thuja_plicata</td>\n",
       "      <td>0.043319</td>\n",
       "      <td>0.085838</td>\n",
       "      <td>0.346090</td>\n",
       "      <td>0.269240</td>\n",
       "      <td>0.104244</td>\n",
       "      <td>0.059988</td>\n",
       "      <td>0.322002</td>\n",
       "      <td>...</td>\n",
       "      <td>0.215635</td>\n",
       "      <td>0.038550</td>\n",
       "      <td>0.123750</td>\n",
       "      <td>0.001528</td>\n",
       "      <td>0.207110</td>\n",
       "      <td>0.146056</td>\n",
       "      <td>0.085234</td>\n",
       "      <td>0.053560</td>\n",
       "      <td>0.083258</td>\n",
       "      <td>0.380264</td>\n",
       "    </tr>\n",
       "    <tr>\n",
       "      <th>1264</th>\n",
       "      <td>d3d39896b086f45a</td>\n",
       "      <td>image_western_red_cedar_33.png</td>\n",
       "      <td>thuja_plicata</td>\n",
       "      <td>1.537653</td>\n",
       "      <td>0.012991</td>\n",
       "      <td>0.189000</td>\n",
       "      <td>0.226903</td>\n",
       "      <td>0.465502</td>\n",
       "      <td>0.050164</td>\n",
       "      <td>0.166596</td>\n",
       "      <td>...</td>\n",
       "      <td>0.508620</td>\n",
       "      <td>0.233280</td>\n",
       "      <td>0.289102</td>\n",
       "      <td>0.243015</td>\n",
       "      <td>0.178973</td>\n",
       "      <td>0.020320</td>\n",
       "      <td>0.253384</td>\n",
       "      <td>0.242000</td>\n",
       "      <td>0.159114</td>\n",
       "      <td>0.119313</td>\n",
       "    </tr>\n",
       "    <tr>\n",
       "      <th>1265</th>\n",
       "      <td>8d889a9666a9d99b</td>\n",
       "      <td>image_thuja_plicata_branches_58.png</td>\n",
       "      <td>thuja_plicata</td>\n",
       "      <td>0.777048</td>\n",
       "      <td>0.043122</td>\n",
       "      <td>0.167806</td>\n",
       "      <td>0.864698</td>\n",
       "      <td>0.690728</td>\n",
       "      <td>0.504618</td>\n",
       "      <td>0.055242</td>\n",
       "      <td>...</td>\n",
       "      <td>0.283768</td>\n",
       "      <td>0.297945</td>\n",
       "      <td>0.192668</td>\n",
       "      <td>0.231448</td>\n",
       "      <td>0.173066</td>\n",
       "      <td>0.011833</td>\n",
       "      <td>0.944232</td>\n",
       "      <td>0.390534</td>\n",
       "      <td>0.715745</td>\n",
       "      <td>0.000000</td>\n",
       "    </tr>\n",
       "    <tr>\n",
       "      <th>1266</th>\n",
       "      <td>9d00e21bd27c4fb5</td>\n",
       "      <td>image_thuja_plicata_cones_58.png</td>\n",
       "      <td>thuja_plicata</td>\n",
       "      <td>0.117833</td>\n",
       "      <td>0.227984</td>\n",
       "      <td>0.097914</td>\n",
       "      <td>0.286688</td>\n",
       "      <td>0.123003</td>\n",
       "      <td>0.693201</td>\n",
       "      <td>0.113581</td>\n",
       "      <td>...</td>\n",
       "      <td>0.804989</td>\n",
       "      <td>0.391352</td>\n",
       "      <td>0.548050</td>\n",
       "      <td>0.849486</td>\n",
       "      <td>0.280309</td>\n",
       "      <td>0.712661</td>\n",
       "      <td>0.956842</td>\n",
       "      <td>0.001279</td>\n",
       "      <td>0.351022</td>\n",
       "      <td>0.132506</td>\n",
       "    </tr>\n",
       "  </tbody>\n",
       "</table>\n",
       "<p>5 rows × 2051 columns</p>\n",
       "</div>"
      ],
      "text/plain": [
       "                p_hash                             filename         folder  \\\n",
       "1262  c5c3866ab4dc8637  image_western_red_cedar_tree_17.png  thuja_plicata   \n",
       "1263  83955f6a27e8417c       image_western_red_cedar_27.png  thuja_plicata   \n",
       "1264  d3d39896b086f45a       image_western_red_cedar_33.png  thuja_plicata   \n",
       "1265  8d889a9666a9d99b  image_thuja_plicata_branches_58.png  thuja_plicata   \n",
       "1266  9d00e21bd27c4fb5     image_thuja_plicata_cones_58.png  thuja_plicata   \n",
       "\n",
       "      incv3_out_0  incv3_out_1  incv3_out_2  incv3_out_3  incv3_out_4  \\\n",
       "1262     1.336279     0.011943     0.395570     0.218817     0.317935   \n",
       "1263     0.043319     0.085838     0.346090     0.269240     0.104244   \n",
       "1264     1.537653     0.012991     0.189000     0.226903     0.465502   \n",
       "1265     0.777048     0.043122     0.167806     0.864698     0.690728   \n",
       "1266     0.117833     0.227984     0.097914     0.286688     0.123003   \n",
       "\n",
       "      incv3_out_5  incv3_out_6       ...        incv3_out_2038  \\\n",
       "1262     0.056648     0.087848       ...              0.433737   \n",
       "1263     0.059988     0.322002       ...              0.215635   \n",
       "1264     0.050164     0.166596       ...              0.508620   \n",
       "1265     0.504618     0.055242       ...              0.283768   \n",
       "1266     0.693201     0.113581       ...              0.804989   \n",
       "\n",
       "      incv3_out_2039  incv3_out_2040  incv3_out_2041  incv3_out_2042  \\\n",
       "1262        0.159791        0.323293        0.009519        0.028450   \n",
       "1263        0.038550        0.123750        0.001528        0.207110   \n",
       "1264        0.233280        0.289102        0.243015        0.178973   \n",
       "1265        0.297945        0.192668        0.231448        0.173066   \n",
       "1266        0.391352        0.548050        0.849486        0.280309   \n",
       "\n",
       "      incv3_out_2043  incv3_out_2044  incv3_out_2045  incv3_out_2046  \\\n",
       "1262        0.134239        0.136767        0.110591        0.925633   \n",
       "1263        0.146056        0.085234        0.053560        0.083258   \n",
       "1264        0.020320        0.253384        0.242000        0.159114   \n",
       "1265        0.011833        0.944232        0.390534        0.715745   \n",
       "1266        0.712661        0.956842        0.001279        0.351022   \n",
       "\n",
       "      incv3_out_2047  \n",
       "1262        0.000594  \n",
       "1263        0.380264  \n",
       "1264        0.119313  \n",
       "1265        0.000000  \n",
       "1266        0.132506  \n",
       "\n",
       "[5 rows x 2051 columns]"
      ]
     },
     "execution_count": 9,
     "metadata": {},
     "output_type": "execute_result"
    }
   ],
   "source": [
    "alnus_thuja_df.head()"
   ]
  },
  {
   "cell_type": "code",
   "execution_count": 16,
   "metadata": {},
   "outputs": [
    {
     "data": {
      "text/html": [
       "<div>\n",
       "<style scoped>\n",
       "    .dataframe tbody tr th:only-of-type {\n",
       "        vertical-align: middle;\n",
       "    }\n",
       "\n",
       "    .dataframe tbody tr th {\n",
       "        vertical-align: top;\n",
       "    }\n",
       "\n",
       "    .dataframe thead th {\n",
       "        text-align: right;\n",
       "    }\n",
       "</style>\n",
       "<table border=\"1\" class=\"dataframe\">\n",
       "  <thead>\n",
       "    <tr style=\"text-align: right;\">\n",
       "      <th></th>\n",
       "      <th>p_hash</th>\n",
       "      <th>filename</th>\n",
       "      <th>folder</th>\n",
       "      <th>incv3_out_0</th>\n",
       "      <th>incv3_out_1</th>\n",
       "      <th>incv3_out_2</th>\n",
       "      <th>incv3_out_3</th>\n",
       "      <th>incv3_out_4</th>\n",
       "      <th>incv3_out_5</th>\n",
       "      <th>incv3_out_6</th>\n",
       "      <th>...</th>\n",
       "      <th>incv3_out_2038</th>\n",
       "      <th>incv3_out_2039</th>\n",
       "      <th>incv3_out_2040</th>\n",
       "      <th>incv3_out_2041</th>\n",
       "      <th>incv3_out_2042</th>\n",
       "      <th>incv3_out_2043</th>\n",
       "      <th>incv3_out_2044</th>\n",
       "      <th>incv3_out_2045</th>\n",
       "      <th>incv3_out_2046</th>\n",
       "      <th>incv3_out_2047</th>\n",
       "    </tr>\n",
       "  </thead>\n",
       "  <tbody>\n",
       "    <tr>\n",
       "      <th>1832</th>\n",
       "      <td>e36898c66d399cb4</td>\n",
       "      <td>image_thuja_plicata_branches_96.png</td>\n",
       "      <td>thuja_plicata</td>\n",
       "      <td>0.083918</td>\n",
       "      <td>0.166168</td>\n",
       "      <td>0.558727</td>\n",
       "      <td>0.027537</td>\n",
       "      <td>0.054673</td>\n",
       "      <td>0.170166</td>\n",
       "      <td>0.166989</td>\n",
       "      <td>...</td>\n",
       "      <td>1.370445</td>\n",
       "      <td>0.303498</td>\n",
       "      <td>0.222401</td>\n",
       "      <td>0.019987</td>\n",
       "      <td>0.021358</td>\n",
       "      <td>0.235605</td>\n",
       "      <td>0.032119</td>\n",
       "      <td>0.538935</td>\n",
       "      <td>0.037923</td>\n",
       "      <td>1.102876</td>\n",
       "    </tr>\n",
       "    <tr>\n",
       "      <th>1833</th>\n",
       "      <td>a9e4d68bd7632870</td>\n",
       "      <td>image_thuja_plicata_cones_82.png</td>\n",
       "      <td>thuja_plicata</td>\n",
       "      <td>0.340928</td>\n",
       "      <td>0.050327</td>\n",
       "      <td>0.118958</td>\n",
       "      <td>0.220579</td>\n",
       "      <td>0.010450</td>\n",
       "      <td>0.091026</td>\n",
       "      <td>0.316154</td>\n",
       "      <td>...</td>\n",
       "      <td>0.338676</td>\n",
       "      <td>0.028837</td>\n",
       "      <td>0.201438</td>\n",
       "      <td>0.922495</td>\n",
       "      <td>0.369425</td>\n",
       "      <td>0.020133</td>\n",
       "      <td>0.139394</td>\n",
       "      <td>0.000000</td>\n",
       "      <td>0.111569</td>\n",
       "      <td>0.724462</td>\n",
       "    </tr>\n",
       "    <tr>\n",
       "      <th>1834</th>\n",
       "      <td>d79ae0359f48835a</td>\n",
       "      <td>image_thuja_plicata_branches_82.png</td>\n",
       "      <td>thuja_plicata</td>\n",
       "      <td>0.650036</td>\n",
       "      <td>0.399849</td>\n",
       "      <td>0.566335</td>\n",
       "      <td>0.157019</td>\n",
       "      <td>0.792458</td>\n",
       "      <td>0.424557</td>\n",
       "      <td>0.438763</td>\n",
       "      <td>...</td>\n",
       "      <td>0.641063</td>\n",
       "      <td>0.229398</td>\n",
       "      <td>0.694067</td>\n",
       "      <td>0.553304</td>\n",
       "      <td>0.000000</td>\n",
       "      <td>0.218311</td>\n",
       "      <td>1.626439</td>\n",
       "      <td>0.020453</td>\n",
       "      <td>0.323357</td>\n",
       "      <td>0.070934</td>\n",
       "    </tr>\n",
       "    <tr>\n",
       "      <th>1835</th>\n",
       "      <td>a6a6f57594f284d0</td>\n",
       "      <td>image_western_red_cedar_tree_32.png</td>\n",
       "      <td>thuja_plicata</td>\n",
       "      <td>0.258416</td>\n",
       "      <td>0.010987</td>\n",
       "      <td>0.227817</td>\n",
       "      <td>0.598694</td>\n",
       "      <td>0.346953</td>\n",
       "      <td>0.114962</td>\n",
       "      <td>0.037960</td>\n",
       "      <td>...</td>\n",
       "      <td>0.220482</td>\n",
       "      <td>0.334772</td>\n",
       "      <td>0.886903</td>\n",
       "      <td>0.891988</td>\n",
       "      <td>0.353683</td>\n",
       "      <td>0.047528</td>\n",
       "      <td>0.631834</td>\n",
       "      <td>0.000000</td>\n",
       "      <td>0.044669</td>\n",
       "      <td>0.544044</td>\n",
       "    </tr>\n",
       "    <tr>\n",
       "      <th>1836</th>\n",
       "      <td>abd14c341baf47c2</td>\n",
       "      <td>image_western_red_cedar_tree_26.png</td>\n",
       "      <td>thuja_plicata</td>\n",
       "      <td>0.193753</td>\n",
       "      <td>0.006266</td>\n",
       "      <td>0.632279</td>\n",
       "      <td>0.065293</td>\n",
       "      <td>0.332640</td>\n",
       "      <td>0.151659</td>\n",
       "      <td>0.476420</td>\n",
       "      <td>...</td>\n",
       "      <td>0.128943</td>\n",
       "      <td>0.060852</td>\n",
       "      <td>0.000000</td>\n",
       "      <td>0.025686</td>\n",
       "      <td>0.029323</td>\n",
       "      <td>0.328659</td>\n",
       "      <td>0.144968</td>\n",
       "      <td>0.081436</td>\n",
       "      <td>0.771464</td>\n",
       "      <td>0.158379</td>\n",
       "    </tr>\n",
       "  </tbody>\n",
       "</table>\n",
       "<p>5 rows × 2051 columns</p>\n",
       "</div>"
      ],
      "text/plain": [
       "                p_hash                             filename         folder  \\\n",
       "1832  e36898c66d399cb4  image_thuja_plicata_branches_96.png  thuja_plicata   \n",
       "1833  a9e4d68bd7632870     image_thuja_plicata_cones_82.png  thuja_plicata   \n",
       "1834  d79ae0359f48835a  image_thuja_plicata_branches_82.png  thuja_plicata   \n",
       "1835  a6a6f57594f284d0  image_western_red_cedar_tree_32.png  thuja_plicata   \n",
       "1836  abd14c341baf47c2  image_western_red_cedar_tree_26.png  thuja_plicata   \n",
       "\n",
       "      incv3_out_0  incv3_out_1  incv3_out_2  incv3_out_3  incv3_out_4  \\\n",
       "1832     0.083918     0.166168     0.558727     0.027537     0.054673   \n",
       "1833     0.340928     0.050327     0.118958     0.220579     0.010450   \n",
       "1834     0.650036     0.399849     0.566335     0.157019     0.792458   \n",
       "1835     0.258416     0.010987     0.227817     0.598694     0.346953   \n",
       "1836     0.193753     0.006266     0.632279     0.065293     0.332640   \n",
       "\n",
       "      incv3_out_5  incv3_out_6       ...        incv3_out_2038  \\\n",
       "1832     0.170166     0.166989       ...              1.370445   \n",
       "1833     0.091026     0.316154       ...              0.338676   \n",
       "1834     0.424557     0.438763       ...              0.641063   \n",
       "1835     0.114962     0.037960       ...              0.220482   \n",
       "1836     0.151659     0.476420       ...              0.128943   \n",
       "\n",
       "      incv3_out_2039  incv3_out_2040  incv3_out_2041  incv3_out_2042  \\\n",
       "1832        0.303498        0.222401        0.019987        0.021358   \n",
       "1833        0.028837        0.201438        0.922495        0.369425   \n",
       "1834        0.229398        0.694067        0.553304        0.000000   \n",
       "1835        0.334772        0.886903        0.891988        0.353683   \n",
       "1836        0.060852        0.000000        0.025686        0.029323   \n",
       "\n",
       "      incv3_out_2043  incv3_out_2044  incv3_out_2045  incv3_out_2046  \\\n",
       "1832        0.235605        0.032119        0.538935        0.037923   \n",
       "1833        0.020133        0.139394        0.000000        0.111569   \n",
       "1834        0.218311        1.626439        0.020453        0.323357   \n",
       "1835        0.047528        0.631834        0.000000        0.044669   \n",
       "1836        0.328659        0.144968        0.081436        0.771464   \n",
       "\n",
       "      incv3_out_2047  \n",
       "1832        1.102876  \n",
       "1833        0.724462  \n",
       "1834        0.070934  \n",
       "1835        0.544044  \n",
       "1836        0.158379  \n",
       "\n",
       "[5 rows x 2051 columns]"
      ]
     },
     "execution_count": 16,
     "metadata": {},
     "output_type": "execute_result"
    }
   ],
   "source": [
    "features_4species_df = acer_picea_platanus_df.append(alnus_thuja_df[alnus_thuja_df['folder'] == 'thuja_plicata'])\n",
    "features_4species_df.tail()"
   ]
  },
  {
   "cell_type": "code",
   "execution_count": 19,
   "metadata": {},
   "outputs": [
    {
     "name": "stdout",
     "output_type": "stream",
     "text": [
      "<class 'pandas.core.frame.DataFrame'>\n",
      "Int64Index: 2214 entries, 0 to 1836\n",
      "Columns: 2051 entries, p_hash to incv3_out_2047\n",
      "dtypes: float64(2048), object(3)\n",
      "memory usage: 34.7+ MB\n"
     ]
    }
   ],
   "source": [
    "features_4species_df.info()"
   ]
  },
  {
   "cell_type": "code",
   "execution_count": 17,
   "metadata": {},
   "outputs": [
    {
     "data": {
      "text/plain": [
       "575"
      ]
     },
     "execution_count": 17,
     "metadata": {},
     "output_type": "execute_result"
    }
   ],
   "source": [
    "len(alnus_thuja_df[alnus_thuja_df['folder'] == 'thuja_plicata'])"
   ]
  },
  {
   "cell_type": "code",
   "execution_count": 18,
   "metadata": {},
   "outputs": [
    {
     "data": {
      "text/plain": [
       "2214"
      ]
     },
     "execution_count": 18,
     "metadata": {},
     "output_type": "execute_result"
    }
   ],
   "source": [
    "1639+575 #Check that the totals for the 4 species add up"
   ]
  },
  {
   "cell_type": "markdown",
   "metadata": {},
   "source": [
    "## Pull out features (X) and labels (y), and get a train-test split¶"
   ]
  },
  {
   "cell_type": "code",
   "execution_count": 20,
   "metadata": {
    "collapsed": true
   },
   "outputs": [],
   "source": [
    "X = features_4species_df.drop(['p_hash', 'filename', 'folder'], axis=1)\n",
    "y = features_4species_df['folder']\n",
    "X_train, X_test, y_train, y_test = train_test_split(X, y, test_size=0.2, random_state=987)"
   ]
  },
  {
   "cell_type": "code",
   "execution_count": 23,
   "metadata": {},
   "outputs": [
    {
     "name": "stdout",
     "output_type": "stream",
     "text": [
      "Train: 1771, Test: 443\n"
     ]
    }
   ],
   "source": [
    "print(f'Train: {len(X_train)}, Test: {len(X_test)}')"
   ]
  },
  {
   "cell_type": "code",
   "execution_count": 24,
   "metadata": {},
   "outputs": [
    {
     "data": {
      "text/plain": [
       "picea_sitchensis       462\n",
       "thuja_plicata          458\n",
       "acer_macrophyllum      430\n",
       "platanus_acerifolia    421\n",
       "Name: folder, dtype: int64"
      ]
     },
     "execution_count": 24,
     "metadata": {},
     "output_type": "execute_result"
    }
   ],
   "source": [
    "y_train.value_counts()"
   ]
  },
  {
   "cell_type": "code",
   "execution_count": 25,
   "metadata": {},
   "outputs": [
    {
     "data": {
      "text/plain": [
       "platanus_acerifolia    120\n",
       "thuja_plicata          117\n",
       "picea_sitchensis       110\n",
       "acer_macrophyllum       96\n",
       "Name: folder, dtype: int64"
      ]
     },
     "execution_count": 25,
     "metadata": {},
     "output_type": "execute_result"
    }
   ],
   "source": [
    "y_test.value_counts()"
   ]
  },
  {
   "cell_type": "code",
   "execution_count": 29,
   "metadata": {},
   "outputs": [
    {
     "data": {
      "text/plain": [
       "1.3862943611198906"
      ]
     },
     "execution_count": 29,
     "metadata": {},
     "output_type": "execute_result"
    }
   ],
   "source": [
    "np.log(4) #Baseline for log loss"
   ]
  },
  {
   "cell_type": "markdown",
   "metadata": {},
   "source": [
    "## Try Ridge Logistic Regression with same C as before"
   ]
  },
  {
   "cell_type": "code",
   "execution_count": 31,
   "metadata": {
    "collapsed": true
   },
   "outputs": [],
   "source": [
    "log_model = LogisticRegression(multi_class='multinomial', class_weight='balanced', solver='sag', C=0.001, max_iter=4000)"
   ]
  },
  {
   "cell_type": "code",
   "execution_count": 32,
   "metadata": {},
   "outputs": [
    {
     "data": {
      "text/plain": [
       "LogisticRegression(C=0.001, class_weight='balanced', dual=False,\n",
       "          fit_intercept=True, intercept_scaling=1, max_iter=4000,\n",
       "          multi_class='multinomial', n_jobs=1, penalty='l2',\n",
       "          random_state=None, solver='sag', tol=0.0001, verbose=0,\n",
       "          warm_start=False)"
      ]
     },
     "execution_count": 32,
     "metadata": {},
     "output_type": "execute_result"
    }
   ],
   "source": [
    "log_model.fit(X_train, y_train)"
   ]
  },
  {
   "cell_type": "code",
   "execution_count": 33,
   "metadata": {},
   "outputs": [
    {
     "name": "stdout",
     "output_type": "stream",
     "text": [
      "Train log_loss: 0.8137722376015083, Test log_loss: 0.861858336866128\n",
      "Train accuracy: 0.7594579333709769, Test accuracy: 0.6930022573363431\n"
     ]
    }
   ],
   "source": [
    "logeval = meval.ModelEvaluator(log_model)\n",
    "logeval.print_classifier_metrics(X_train, X_test, y_train, y_test)"
   ]
  },
  {
   "cell_type": "markdown",
   "metadata": {},
   "source": [
    "## Do a grid search to find the best C"
   ]
  },
  {
   "cell_type": "code",
   "execution_count": 35,
   "metadata": {},
   "outputs": [],
   "source": [
    "param_grid = {'C': [0.00001, 0.0001, 0.001, 0.01, 0.1]}\n",
    "gridsearch = GridSearchCV(estimator=log_model,\n",
    "                          param_grid=param_grid, \n",
    "                          scoring=['neg_log_loss', 'accuracy'],\n",
    "                          refit='neg_log_loss')"
   ]
  },
  {
   "cell_type": "code",
   "execution_count": 36,
   "metadata": {},
   "outputs": [
    {
     "data": {
      "text/plain": [
       "GridSearchCV(cv=None, error_score='raise',\n",
       "       estimator=LogisticRegression(C=0.001, class_weight='balanced', dual=False,\n",
       "          fit_intercept=True, intercept_scaling=1, max_iter=4000,\n",
       "          multi_class='multinomial', n_jobs=1, penalty='l2',\n",
       "          random_state=None, solver='sag', tol=0.0001, verbose=0,\n",
       "          warm_start=False),\n",
       "       fit_params=None, iid=True, n_jobs=1,\n",
       "       param_grid={'C': [1e-05, 0.0001, 0.001, 0.01, 0.1]},\n",
       "       pre_dispatch='2*n_jobs', refit='neg_log_loss',\n",
       "       return_train_score='warn', scoring=['neg_log_loss', 'accuracy'],\n",
       "       verbose=0)"
      ]
     },
     "execution_count": 36,
     "metadata": {},
     "output_type": "execute_result"
    }
   ],
   "source": [
    "gridsearch.fit(X_train, y_train)"
   ]
  },
  {
   "cell_type": "code",
   "execution_count": 37,
   "metadata": {},
   "outputs": [
    {
     "data": {
      "text/plain": [
       "{'C': 0.1}"
      ]
     },
     "execution_count": 37,
     "metadata": {},
     "output_type": "execute_result"
    }
   ],
   "source": [
    "gridsearch.best_params_"
   ]
  },
  {
   "cell_type": "code",
   "execution_count": 38,
   "metadata": {},
   "outputs": [
    {
     "data": {
      "text/plain": [
       "LogisticRegression(C=0.1, class_weight='balanced', dual=False,\n",
       "          fit_intercept=True, intercept_scaling=1, max_iter=4000,\n",
       "          multi_class='multinomial', n_jobs=1, penalty='l2',\n",
       "          random_state=None, solver='sag', tol=0.0001, verbose=0,\n",
       "          warm_start=False)"
      ]
     },
     "execution_count": 38,
     "metadata": {},
     "output_type": "execute_result"
    }
   ],
   "source": [
    "gridsearch.best_estimator_"
   ]
  },
  {
   "cell_type": "code",
   "execution_count": 151,
   "metadata": {},
   "outputs": [
    {
     "name": "stdout",
     "output_type": "stream",
     "text": [
      "Train log_loss: 0.16499753162411077, Test log_loss: 0.6367373489170458\n",
      "Train Matthews CC: 0.9842079810779679, Test Matthews CC: 0.6728841037394587\n",
      "Train accuracy: 0.9881422924901185, Test accuracy: 0.7539503386004515\n",
      "Train top_2_accuracy: 0.9983060417843026, Test top_2_accuracy: 0.9300225733634312\n",
      "Train top_3_accuracy: 0.9994353472614342, Test top_3_accuracy: 0.9841986455981941\n"
     ]
    }
   ],
   "source": [
    "logeval = meval.ModelEvaluator(gridsearch.best_estimator_)\n",
    "logeval.print_classifier_metrics(X_train, X_test, y_train, y_test)"
   ]
  },
  {
   "cell_type": "markdown",
   "metadata": {},
   "source": [
    "Whoa, nice! This beat my 3 species model... Hmm, maybe I should go back and see if I really found the best C for 3 species...\n",
    "\n",
    "## Since the best C was at the edge of our range, let's do another search to see if we can do better\n",
    "\n",
    "Figure out a logarithmic scale of parameters to use"
   ]
  },
  {
   "cell_type": "code",
   "execution_count": 42,
   "metadata": {},
   "outputs": [
    {
     "data": {
      "text/plain": [
       "2.154434690031884"
      ]
     },
     "execution_count": 42,
     "metadata": {},
     "output_type": "execute_result"
    }
   ],
   "source": [
    "10**(1/3)"
   ]
  },
  {
   "cell_type": "code",
   "execution_count": 44,
   "metadata": {},
   "outputs": [
    {
     "data": {
      "text/plain": [
       "[1.0, 2.154434690031884, 4.641588833612779, 10.000000000000002]"
      ]
     },
     "execution_count": 44,
     "metadata": {},
     "output_type": "execute_result"
    }
   ],
   "source": [
    "[2.154434690031884**x for x in range(4)]"
   ]
  },
  {
   "cell_type": "code",
   "execution_count": 49,
   "metadata": {},
   "outputs": [
    {
     "data": {
      "text/plain": [
       "3.1622776601683795"
      ]
     },
     "execution_count": 49,
     "metadata": {},
     "output_type": "execute_result"
    }
   ],
   "source": [
    "np.sqrt(10)"
   ]
  },
  {
   "cell_type": "code",
   "execution_count": 52,
   "metadata": {},
   "outputs": [
    {
     "data": {
      "text/plain": [
       "[1.0, 3.16, 9.985600000000002, 31.554496000000004, 99.71220736000002]"
      ]
     },
     "execution_count": 52,
     "metadata": {},
     "output_type": "execute_result"
    }
   ],
   "source": [
    "[3.16**x for x in range(5)]"
   ]
  },
  {
   "cell_type": "code",
   "execution_count": 56,
   "metadata": {},
   "outputs": [
    {
     "data": {
      "text/plain": [
       "[0.1111111111111111, 0.3333333333333333, 1, 3, 9]"
      ]
     },
     "execution_count": 56,
     "metadata": {},
     "output_type": "execute_result"
    }
   ],
   "source": [
    "[3**x for x in range(-2,3)]"
   ]
  },
  {
   "cell_type": "code",
   "execution_count": 57,
   "metadata": {
    "collapsed": true
   },
   "outputs": [],
   "source": [
    "param_grid = {'C': [0.03, 0.1, 0.3, 1, 10]}\n",
    "gridsearch = GridSearchCV(estimator=log_model,\n",
    "                          param_grid=param_grid, \n",
    "                          scoring=['neg_log_loss', 'accuracy'],\n",
    "                          refit='neg_log_loss')"
   ]
  },
  {
   "cell_type": "code",
   "execution_count": 58,
   "metadata": {},
   "outputs": [
    {
     "data": {
      "text/plain": [
       "GridSearchCV(cv=None, error_score='raise',\n",
       "       estimator=LogisticRegression(C=0.001, class_weight='balanced', dual=False,\n",
       "          fit_intercept=True, intercept_scaling=1, max_iter=4000,\n",
       "          multi_class='multinomial', n_jobs=1, penalty='l2',\n",
       "          random_state=None, solver='sag', tol=0.0001, verbose=0,\n",
       "          warm_start=False),\n",
       "       fit_params=None, iid=True, n_jobs=1,\n",
       "       param_grid={'C': [0.03, 0.1, 0.3, 1, 10]}, pre_dispatch='2*n_jobs',\n",
       "       refit='neg_log_loss', return_train_score='warn',\n",
       "       scoring=['neg_log_loss', 'accuracy'], verbose=0)"
      ]
     },
     "execution_count": 58,
     "metadata": {},
     "output_type": "execute_result"
    }
   ],
   "source": [
    "gridsearch.fit(X_train, y_train)"
   ]
  },
  {
   "cell_type": "code",
   "execution_count": 59,
   "metadata": {},
   "outputs": [
    {
     "data": {
      "text/plain": [
       "{'C': 0.1}"
      ]
     },
     "execution_count": 59,
     "metadata": {},
     "output_type": "execute_result"
    }
   ],
   "source": [
    "gridsearch.best_params_"
   ]
  },
  {
   "cell_type": "markdown",
   "metadata": {},
   "source": [
    "Ok, so we got the same value of C"
   ]
  },
  {
   "cell_type": "code",
   "execution_count": 60,
   "metadata": {},
   "outputs": [
    {
     "data": {
      "text/plain": [
       "LogisticRegression(C=0.001, class_weight='balanced', dual=False,\n",
       "          fit_intercept=True, intercept_scaling=1, max_iter=4000,\n",
       "          multi_class='multinomial', n_jobs=1, penalty='l2',\n",
       "          random_state=None, solver='sag', tol=0.0001, verbose=0,\n",
       "          warm_start=False)"
      ]
     },
     "execution_count": 60,
     "metadata": {},
     "output_type": "execute_result"
    }
   ],
   "source": [
    "log_model"
   ]
  },
  {
   "cell_type": "code",
   "execution_count": 61,
   "metadata": {},
   "outputs": [
    {
     "data": {
      "text/plain": [
       "LogisticRegression(C=0.1, class_weight='balanced', dual=False,\n",
       "          fit_intercept=True, intercept_scaling=1, max_iter=4000,\n",
       "          multi_class='multinomial', n_jobs=1, penalty='l2',\n",
       "          random_state=None, solver='sag', tol=0.0001, verbose=0,\n",
       "          warm_start=False)"
      ]
     },
     "execution_count": 61,
     "metadata": {},
     "output_type": "execute_result"
    }
   ],
   "source": [
    "log_model = gridsearch.best_estimator_\n",
    "log_model"
   ]
  },
  {
   "cell_type": "code",
   "execution_count": 63,
   "metadata": {},
   "outputs": [
    {
     "data": {
      "text/html": [
       "<div>\n",
       "<style scoped>\n",
       "    .dataframe tbody tr th:only-of-type {\n",
       "        vertical-align: middle;\n",
       "    }\n",
       "\n",
       "    .dataframe tbody tr th {\n",
       "        vertical-align: top;\n",
       "    }\n",
       "\n",
       "    .dataframe thead th {\n",
       "        text-align: right;\n",
       "    }\n",
       "</style>\n",
       "<table border=\"1\" class=\"dataframe\">\n",
       "  <thead>\n",
       "    <tr style=\"text-align: right;\">\n",
       "      <th></th>\n",
       "      <th>Predicted acer_macrophyllum</th>\n",
       "      <th>Predicted picea_sitchensis</th>\n",
       "      <th>Predicted platanus_acerifolia</th>\n",
       "      <th>Predicted thuja_plicata</th>\n",
       "    </tr>\n",
       "  </thead>\n",
       "  <tbody>\n",
       "    <tr>\n",
       "      <th>Actual acer_macrophyllum</th>\n",
       "      <td>68</td>\n",
       "      <td>4</td>\n",
       "      <td>14</td>\n",
       "      <td>10</td>\n",
       "    </tr>\n",
       "    <tr>\n",
       "      <th>Actual picea_sitchensis</th>\n",
       "      <td>5</td>\n",
       "      <td>89</td>\n",
       "      <td>1</td>\n",
       "      <td>15</td>\n",
       "    </tr>\n",
       "    <tr>\n",
       "      <th>Actual platanus_acerifolia</th>\n",
       "      <td>27</td>\n",
       "      <td>2</td>\n",
       "      <td>87</td>\n",
       "      <td>4</td>\n",
       "    </tr>\n",
       "    <tr>\n",
       "      <th>Actual thuja_plicata</th>\n",
       "      <td>9</td>\n",
       "      <td>16</td>\n",
       "      <td>2</td>\n",
       "      <td>90</td>\n",
       "    </tr>\n",
       "  </tbody>\n",
       "</table>\n",
       "</div>"
      ],
      "text/plain": [
       "                            Predicted acer_macrophyllum  \\\n",
       "Actual acer_macrophyllum                             68   \n",
       "Actual picea_sitchensis                               5   \n",
       "Actual platanus_acerifolia                           27   \n",
       "Actual thuja_plicata                                  9   \n",
       "\n",
       "                            Predicted picea_sitchensis  \\\n",
       "Actual acer_macrophyllum                             4   \n",
       "Actual picea_sitchensis                             89   \n",
       "Actual platanus_acerifolia                           2   \n",
       "Actual thuja_plicata                                16   \n",
       "\n",
       "                            Predicted platanus_acerifolia  \\\n",
       "Actual acer_macrophyllum                               14   \n",
       "Actual picea_sitchensis                                 1   \n",
       "Actual platanus_acerifolia                             87   \n",
       "Actual thuja_plicata                                    2   \n",
       "\n",
       "                            Predicted thuja_plicata  \n",
       "Actual acer_macrophyllum                         10  \n",
       "Actual picea_sitchensis                          15  \n",
       "Actual platanus_acerifolia                        4  \n",
       "Actual thuja_plicata                             90  "
      ]
     },
     "execution_count": 63,
     "metadata": {},
     "output_type": "execute_result"
    }
   ],
   "source": [
    "logeval.confusion_df(X_test, y_test)"
   ]
  },
  {
   "cell_type": "markdown",
   "metadata": {},
   "source": [
    "## Let's try Lasso Logistic Regression"
   ]
  },
  {
   "cell_type": "code",
   "execution_count": 64,
   "metadata": {
    "collapsed": true
   },
   "outputs": [],
   "source": [
    "llog_model = LogisticRegression(penalty='l1', multi_class='multinomial', solver='saga', C=0.1, max_iter=4000)"
   ]
  },
  {
   "cell_type": "code",
   "execution_count": 65,
   "metadata": {},
   "outputs": [
    {
     "data": {
      "text/plain": [
       "LogisticRegression(C=0.1, class_weight=None, dual=False, fit_intercept=True,\n",
       "          intercept_scaling=1, max_iter=4000, multi_class='multinomial',\n",
       "          n_jobs=1, penalty='l1', random_state=None, solver='saga',\n",
       "          tol=0.0001, verbose=0, warm_start=False)"
      ]
     },
     "execution_count": 65,
     "metadata": {},
     "output_type": "execute_result"
    }
   ],
   "source": [
    "llog_model.fit(X_train, y_train)"
   ]
  },
  {
   "cell_type": "code",
   "execution_count": 66,
   "metadata": {},
   "outputs": [
    {
     "name": "stdout",
     "output_type": "stream",
     "text": [
      "Train log_loss: 0.5923158627730702, Test log_loss: 0.7438334342573347\n",
      "Train accuracy: 0.8063241106719368, Test accuracy: 0.7065462753950339\n"
     ]
    }
   ],
   "source": [
    "llogeval = meval.ModelEvaluator(llog_model)\n",
    "llogeval.print_classifier_metrics(X_train, X_test, y_train, y_test)"
   ]
  },
  {
   "cell_type": "code",
   "execution_count": 67,
   "metadata": {
    "collapsed": true
   },
   "outputs": [],
   "source": [
    "param_grid = {'C': [0.01, 0.1, 1]}\n",
    "gridsearch = GridSearchCV(estimator=llog_model,\n",
    "                          param_grid=param_grid, \n",
    "                          scoring=['neg_log_loss', 'accuracy'],\n",
    "                          refit='neg_log_loss')"
   ]
  },
  {
   "cell_type": "code",
   "execution_count": 68,
   "metadata": {},
   "outputs": [
    {
     "data": {
      "text/plain": [
       "GridSearchCV(cv=None, error_score='raise',\n",
       "       estimator=LogisticRegression(C=0.1, class_weight=None, dual=False, fit_intercept=True,\n",
       "          intercept_scaling=1, max_iter=4000, multi_class='multinomial',\n",
       "          n_jobs=1, penalty='l1', random_state=None, solver='saga',\n",
       "          tol=0.0001, verbose=0, warm_start=False),\n",
       "       fit_params=None, iid=True, n_jobs=1,\n",
       "       param_grid={'C': [0.01, 0.1, 1]}, pre_dispatch='2*n_jobs',\n",
       "       refit='neg_log_loss', return_train_score='warn',\n",
       "       scoring=['neg_log_loss', 'accuracy'], verbose=0)"
      ]
     },
     "execution_count": 68,
     "metadata": {},
     "output_type": "execute_result"
    }
   ],
   "source": [
    "gridsearch.fit(X_train, y_train)"
   ]
  },
  {
   "cell_type": "code",
   "execution_count": 70,
   "metadata": {},
   "outputs": [
    {
     "name": "stderr",
     "output_type": "stream",
     "text": [
      "/Users/ndbs/anaconda3/lib/python3.6/site-packages/sklearn/utils/deprecation.py:122: FutureWarning: You are accessing a training score ('mean_train_accuracy'), which will not be available by default any more in 0.21. If you need training scores, please set return_train_score=True\n",
      "  warnings.warn(*warn_args, **warn_kwargs)\n",
      "/Users/ndbs/anaconda3/lib/python3.6/site-packages/sklearn/utils/deprecation.py:122: FutureWarning: You are accessing a training score ('mean_train_neg_log_loss'), which will not be available by default any more in 0.21. If you need training scores, please set return_train_score=True\n",
      "  warnings.warn(*warn_args, **warn_kwargs)\n",
      "/Users/ndbs/anaconda3/lib/python3.6/site-packages/sklearn/utils/deprecation.py:122: FutureWarning: You are accessing a training score ('split0_train_accuracy'), which will not be available by default any more in 0.21. If you need training scores, please set return_train_score=True\n",
      "  warnings.warn(*warn_args, **warn_kwargs)\n",
      "/Users/ndbs/anaconda3/lib/python3.6/site-packages/sklearn/utils/deprecation.py:122: FutureWarning: You are accessing a training score ('split0_train_neg_log_loss'), which will not be available by default any more in 0.21. If you need training scores, please set return_train_score=True\n",
      "  warnings.warn(*warn_args, **warn_kwargs)\n",
      "/Users/ndbs/anaconda3/lib/python3.6/site-packages/sklearn/utils/deprecation.py:122: FutureWarning: You are accessing a training score ('split1_train_accuracy'), which will not be available by default any more in 0.21. If you need training scores, please set return_train_score=True\n",
      "  warnings.warn(*warn_args, **warn_kwargs)\n",
      "/Users/ndbs/anaconda3/lib/python3.6/site-packages/sklearn/utils/deprecation.py:122: FutureWarning: You are accessing a training score ('split1_train_neg_log_loss'), which will not be available by default any more in 0.21. If you need training scores, please set return_train_score=True\n",
      "  warnings.warn(*warn_args, **warn_kwargs)\n",
      "/Users/ndbs/anaconda3/lib/python3.6/site-packages/sklearn/utils/deprecation.py:122: FutureWarning: You are accessing a training score ('split2_train_accuracy'), which will not be available by default any more in 0.21. If you need training scores, please set return_train_score=True\n",
      "  warnings.warn(*warn_args, **warn_kwargs)\n",
      "/Users/ndbs/anaconda3/lib/python3.6/site-packages/sklearn/utils/deprecation.py:122: FutureWarning: You are accessing a training score ('split2_train_neg_log_loss'), which will not be available by default any more in 0.21. If you need training scores, please set return_train_score=True\n",
      "  warnings.warn(*warn_args, **warn_kwargs)\n",
      "/Users/ndbs/anaconda3/lib/python3.6/site-packages/sklearn/utils/deprecation.py:122: FutureWarning: You are accessing a training score ('std_train_accuracy'), which will not be available by default any more in 0.21. If you need training scores, please set return_train_score=True\n",
      "  warnings.warn(*warn_args, **warn_kwargs)\n",
      "/Users/ndbs/anaconda3/lib/python3.6/site-packages/sklearn/utils/deprecation.py:122: FutureWarning: You are accessing a training score ('std_train_neg_log_loss'), which will not be available by default any more in 0.21. If you need training scores, please set return_train_score=True\n",
      "  warnings.warn(*warn_args, **warn_kwargs)\n"
     ]
    },
    {
     "data": {
      "text/html": [
       "<div>\n",
       "<style scoped>\n",
       "    .dataframe tbody tr th:only-of-type {\n",
       "        vertical-align: middle;\n",
       "    }\n",
       "\n",
       "    .dataframe tbody tr th {\n",
       "        vertical-align: top;\n",
       "    }\n",
       "\n",
       "    .dataframe thead th {\n",
       "        text-align: right;\n",
       "    }\n",
       "</style>\n",
       "<table border=\"1\" class=\"dataframe\">\n",
       "  <thead>\n",
       "    <tr style=\"text-align: right;\">\n",
       "      <th></th>\n",
       "      <th>mean_fit_time</th>\n",
       "      <th>mean_score_time</th>\n",
       "      <th>mean_test_accuracy</th>\n",
       "      <th>mean_test_neg_log_loss</th>\n",
       "      <th>mean_train_accuracy</th>\n",
       "      <th>mean_train_neg_log_loss</th>\n",
       "      <th>param_C</th>\n",
       "      <th>params</th>\n",
       "      <th>rank_test_accuracy</th>\n",
       "      <th>rank_test_neg_log_loss</th>\n",
       "      <th>...</th>\n",
       "      <th>split2_test_accuracy</th>\n",
       "      <th>split2_test_neg_log_loss</th>\n",
       "      <th>split2_train_accuracy</th>\n",
       "      <th>split2_train_neg_log_loss</th>\n",
       "      <th>std_fit_time</th>\n",
       "      <th>std_score_time</th>\n",
       "      <th>std_test_accuracy</th>\n",
       "      <th>std_test_neg_log_loss</th>\n",
       "      <th>std_train_accuracy</th>\n",
       "      <th>std_train_neg_log_loss</th>\n",
       "    </tr>\n",
       "  </thead>\n",
       "  <tbody>\n",
       "    <tr>\n",
       "      <th>0</th>\n",
       "      <td>2.438513</td>\n",
       "      <td>0.006110</td>\n",
       "      <td>0.400339</td>\n",
       "      <td>-1.318793</td>\n",
       "      <td>0.399496</td>\n",
       "      <td>-1.316427</td>\n",
       "      <td>0.01</td>\n",
       "      <td>{'C': 0.01}</td>\n",
       "      <td>3</td>\n",
       "      <td>3</td>\n",
       "      <td>...</td>\n",
       "      <td>0.419355</td>\n",
       "      <td>-1.321498</td>\n",
       "      <td>0.399323</td>\n",
       "      <td>-1.309506</td>\n",
       "      <td>0.261535</td>\n",
       "      <td>0.000128</td>\n",
       "      <td>0.013434</td>\n",
       "      <td>0.002502</td>\n",
       "      <td>0.005467</td>\n",
       "      <td>0.006403</td>\n",
       "    </tr>\n",
       "    <tr>\n",
       "      <th>1</th>\n",
       "      <td>22.105378</td>\n",
       "      <td>0.006597</td>\n",
       "      <td>0.706381</td>\n",
       "      <td>-0.760069</td>\n",
       "      <td>0.782036</td>\n",
       "      <td>-0.660905</td>\n",
       "      <td>0.1</td>\n",
       "      <td>{'C': 0.1}</td>\n",
       "      <td>2</td>\n",
       "      <td>2</td>\n",
       "      <td>...</td>\n",
       "      <td>0.702886</td>\n",
       "      <td>-0.769943</td>\n",
       "      <td>0.789340</td>\n",
       "      <td>-0.644273</td>\n",
       "      <td>2.264667</td>\n",
       "      <td>0.000467</td>\n",
       "      <td>0.008929</td>\n",
       "      <td>0.007087</td>\n",
       "      <td>0.007943</td>\n",
       "      <td>0.012517</td>\n",
       "    </tr>\n",
       "    <tr>\n",
       "      <th>2</th>\n",
       "      <td>110.493191</td>\n",
       "      <td>0.006627</td>\n",
       "      <td>0.738566</td>\n",
       "      <td>-0.698227</td>\n",
       "      <td>0.994636</td>\n",
       "      <td>-0.125886</td>\n",
       "      <td>1</td>\n",
       "      <td>{'C': 1}</td>\n",
       "      <td>1</td>\n",
       "      <td>1</td>\n",
       "      <td>...</td>\n",
       "      <td>0.723260</td>\n",
       "      <td>-0.736571</td>\n",
       "      <td>0.992386</td>\n",
       "      <td>-0.123835</td>\n",
       "      <td>11.152733</td>\n",
       "      <td>0.000974</td>\n",
       "      <td>0.015212</td>\n",
       "      <td>0.031465</td>\n",
       "      <td>0.002111</td>\n",
       "      <td>0.003890</td>\n",
       "    </tr>\n",
       "  </tbody>\n",
       "</table>\n",
       "<p>3 rows × 28 columns</p>\n",
       "</div>"
      ],
      "text/plain": [
       "   mean_fit_time  mean_score_time  mean_test_accuracy  mean_test_neg_log_loss  \\\n",
       "0       2.438513         0.006110            0.400339               -1.318793   \n",
       "1      22.105378         0.006597            0.706381               -0.760069   \n",
       "2     110.493191         0.006627            0.738566               -0.698227   \n",
       "\n",
       "   mean_train_accuracy  mean_train_neg_log_loss param_C       params  \\\n",
       "0             0.399496                -1.316427    0.01  {'C': 0.01}   \n",
       "1             0.782036                -0.660905     0.1   {'C': 0.1}   \n",
       "2             0.994636                -0.125886       1     {'C': 1}   \n",
       "\n",
       "   rank_test_accuracy  rank_test_neg_log_loss           ...            \\\n",
       "0                   3                       3           ...             \n",
       "1                   2                       2           ...             \n",
       "2                   1                       1           ...             \n",
       "\n",
       "   split2_test_accuracy  split2_test_neg_log_loss  split2_train_accuracy  \\\n",
       "0              0.419355                 -1.321498               0.399323   \n",
       "1              0.702886                 -0.769943               0.789340   \n",
       "2              0.723260                 -0.736571               0.992386   \n",
       "\n",
       "   split2_train_neg_log_loss  std_fit_time  std_score_time  std_test_accuracy  \\\n",
       "0                  -1.309506      0.261535        0.000128           0.013434   \n",
       "1                  -0.644273      2.264667        0.000467           0.008929   \n",
       "2                  -0.123835     11.152733        0.000974           0.015212   \n",
       "\n",
       "   std_test_neg_log_loss  std_train_accuracy  std_train_neg_log_loss  \n",
       "0               0.002502            0.005467                0.006403  \n",
       "1               0.007087            0.007943                0.012517  \n",
       "2               0.031465            0.002111                0.003890  \n",
       "\n",
       "[3 rows x 28 columns]"
      ]
     },
     "execution_count": 70,
     "metadata": {},
     "output_type": "execute_result"
    }
   ],
   "source": [
    "pd.DataFrame(gridsearch.cv_results_)"
   ]
  },
  {
   "cell_type": "code",
   "execution_count": 71,
   "metadata": {},
   "outputs": [
    {
     "data": {
      "text/plain": [
       "{'C': 1}"
      ]
     },
     "execution_count": 71,
     "metadata": {},
     "output_type": "execute_result"
    }
   ],
   "source": [
    "gridsearch.best_params_"
   ]
  },
  {
   "cell_type": "code",
   "execution_count": 72,
   "metadata": {},
   "outputs": [
    {
     "data": {
      "text/plain": [
       "LogisticRegression(C=1, class_weight=None, dual=False, fit_intercept=True,\n",
       "          intercept_scaling=1, max_iter=4000, multi_class='multinomial',\n",
       "          n_jobs=1, penalty='l1', random_state=None, solver='saga',\n",
       "          tol=0.0001, verbose=0, warm_start=False)"
      ]
     },
     "execution_count": 72,
     "metadata": {},
     "output_type": "execute_result"
    }
   ],
   "source": [
    "gridsearch.best_estimator_"
   ]
  },
  {
   "cell_type": "code",
   "execution_count": 150,
   "metadata": {},
   "outputs": [
    {
     "name": "stdout",
     "output_type": "stream",
     "text": [
      "Train log_loss: 0.11672207085325637, Test log_loss: 0.8140612610303455\n",
      "Train Matthews CC: 0.991726429454576, Test Matthews CC: 0.6552315487644428\n",
      "Train accuracy: 0.9937888198757764, Test accuracy: 0.7404063205417607\n",
      "Train top_2_accuracy: 0.9994353472614342, Test top_2_accuracy: 0.9209932279909706\n",
      "Train top_3_accuracy: 1.0, Test top_3_accuracy: 0.9864559819413092\n"
     ]
    }
   ],
   "source": [
    "llogeval = meval.ModelEvaluator(gridsearch.best_estimator_)\n",
    "llogeval.print_classifier_metrics(X_train, X_test, y_train, y_test)"
   ]
  },
  {
   "cell_type": "code",
   "execution_count": 76,
   "metadata": {},
   "outputs": [
    {
     "data": {
      "text/html": [
       "<div>\n",
       "<style scoped>\n",
       "    .dataframe tbody tr th:only-of-type {\n",
       "        vertical-align: middle;\n",
       "    }\n",
       "\n",
       "    .dataframe tbody tr th {\n",
       "        vertical-align: top;\n",
       "    }\n",
       "\n",
       "    .dataframe thead th {\n",
       "        text-align: right;\n",
       "    }\n",
       "</style>\n",
       "<table border=\"1\" class=\"dataframe\">\n",
       "  <thead>\n",
       "    <tr style=\"text-align: right;\">\n",
       "      <th></th>\n",
       "      <th>Predicted acer_macrophyllum</th>\n",
       "      <th>Predicted picea_sitchensis</th>\n",
       "      <th>Predicted platanus_acerifolia</th>\n",
       "      <th>Predicted thuja_plicata</th>\n",
       "    </tr>\n",
       "  </thead>\n",
       "  <tbody>\n",
       "    <tr>\n",
       "      <th>Actual acer_macrophyllum</th>\n",
       "      <td>68</td>\n",
       "      <td>5</td>\n",
       "      <td>13</td>\n",
       "      <td>10</td>\n",
       "    </tr>\n",
       "    <tr>\n",
       "      <th>Actual picea_sitchensis</th>\n",
       "      <td>6</td>\n",
       "      <td>88</td>\n",
       "      <td>3</td>\n",
       "      <td>13</td>\n",
       "    </tr>\n",
       "    <tr>\n",
       "      <th>Actual platanus_acerifolia</th>\n",
       "      <td>28</td>\n",
       "      <td>5</td>\n",
       "      <td>84</td>\n",
       "      <td>3</td>\n",
       "    </tr>\n",
       "    <tr>\n",
       "      <th>Actual thuja_plicata</th>\n",
       "      <td>9</td>\n",
       "      <td>17</td>\n",
       "      <td>3</td>\n",
       "      <td>88</td>\n",
       "    </tr>\n",
       "  </tbody>\n",
       "</table>\n",
       "</div>"
      ],
      "text/plain": [
       "                            Predicted acer_macrophyllum  \\\n",
       "Actual acer_macrophyllum                             68   \n",
       "Actual picea_sitchensis                               6   \n",
       "Actual platanus_acerifolia                           28   \n",
       "Actual thuja_plicata                                  9   \n",
       "\n",
       "                            Predicted picea_sitchensis  \\\n",
       "Actual acer_macrophyllum                             5   \n",
       "Actual picea_sitchensis                             88   \n",
       "Actual platanus_acerifolia                           5   \n",
       "Actual thuja_plicata                                17   \n",
       "\n",
       "                            Predicted platanus_acerifolia  \\\n",
       "Actual acer_macrophyllum                               13   \n",
       "Actual picea_sitchensis                                 3   \n",
       "Actual platanus_acerifolia                             84   \n",
       "Actual thuja_plicata                                    3   \n",
       "\n",
       "                            Predicted thuja_plicata  \n",
       "Actual acer_macrophyllum                         10  \n",
       "Actual picea_sitchensis                          13  \n",
       "Actual platanus_acerifolia                        3  \n",
       "Actual thuja_plicata                             88  "
      ]
     },
     "execution_count": 76,
     "metadata": {},
     "output_type": "execute_result"
    }
   ],
   "source": [
    "llogeval = meval.ModelEvaluator(gridsearch.best_estimator_)\n",
    "llogeval.confusion_df(X_test, y_test)"
   ]
  },
  {
   "cell_type": "markdown",
   "metadata": {},
   "source": [
    "### Let's try one more C value since our optimum was on the boundary of the grid\n",
    "\n",
    "This took several minutes to train."
   ]
  },
  {
   "cell_type": "code",
   "execution_count": 77,
   "metadata": {},
   "outputs": [
    {
     "data": {
      "text/plain": [
       "LogisticRegression(C=10, class_weight=None, dual=False, fit_intercept=True,\n",
       "          intercept_scaling=1, max_iter=4000, multi_class='multinomial',\n",
       "          n_jobs=1, penalty='l1', random_state=None, solver='saga',\n",
       "          tol=0.0001, verbose=0, warm_start=False)"
      ]
     },
     "execution_count": 77,
     "metadata": {},
     "output_type": "execute_result"
    }
   ],
   "source": [
    "llog_model = LogisticRegression(penalty='l1', multi_class='multinomial', solver='saga', C=10, max_iter=4000)\n",
    "llog_model.fit(X_train, y_train)"
   ]
  },
  {
   "cell_type": "code",
   "execution_count": 78,
   "metadata": {},
   "outputs": [
    {
     "name": "stdout",
     "output_type": "stream",
     "text": [
      "Train log_loss: 0.012917768707346471, Test log_loss: 1.2342111171041998\n",
      "Train accuracy: 1.0, Test accuracy: 0.7404063205417607\n"
     ]
    }
   ],
   "source": [
    "llogeval = meval.ModelEvaluator(llog_model)\n",
    "llogeval.print_classifier_metrics(X_train, X_test, y_train, y_test)"
   ]
  },
  {
   "cell_type": "markdown",
   "metadata": {},
   "source": [
    "Ok, so the results on the test set don't improve at all -- instead, it just overfits even more badly to the training data. So the best model is still with `C=1`. (Haha check out the confusion matrix for the training set!)"
   ]
  },
  {
   "cell_type": "code",
   "execution_count": 80,
   "metadata": {},
   "outputs": [
    {
     "data": {
      "text/html": [
       "<div>\n",
       "<style scoped>\n",
       "    .dataframe tbody tr th:only-of-type {\n",
       "        vertical-align: middle;\n",
       "    }\n",
       "\n",
       "    .dataframe tbody tr th {\n",
       "        vertical-align: top;\n",
       "    }\n",
       "\n",
       "    .dataframe thead th {\n",
       "        text-align: right;\n",
       "    }\n",
       "</style>\n",
       "<table border=\"1\" class=\"dataframe\">\n",
       "  <thead>\n",
       "    <tr style=\"text-align: right;\">\n",
       "      <th></th>\n",
       "      <th>Predicted acer_macrophyllum</th>\n",
       "      <th>Predicted picea_sitchensis</th>\n",
       "      <th>Predicted platanus_acerifolia</th>\n",
       "      <th>Predicted thuja_plicata</th>\n",
       "    </tr>\n",
       "  </thead>\n",
       "  <tbody>\n",
       "    <tr>\n",
       "      <th>Actual acer_macrophyllum</th>\n",
       "      <td>430</td>\n",
       "      <td>0</td>\n",
       "      <td>0</td>\n",
       "      <td>0</td>\n",
       "    </tr>\n",
       "    <tr>\n",
       "      <th>Actual picea_sitchensis</th>\n",
       "      <td>0</td>\n",
       "      <td>462</td>\n",
       "      <td>0</td>\n",
       "      <td>0</td>\n",
       "    </tr>\n",
       "    <tr>\n",
       "      <th>Actual platanus_acerifolia</th>\n",
       "      <td>0</td>\n",
       "      <td>0</td>\n",
       "      <td>421</td>\n",
       "      <td>0</td>\n",
       "    </tr>\n",
       "    <tr>\n",
       "      <th>Actual thuja_plicata</th>\n",
       "      <td>0</td>\n",
       "      <td>0</td>\n",
       "      <td>0</td>\n",
       "      <td>458</td>\n",
       "    </tr>\n",
       "  </tbody>\n",
       "</table>\n",
       "</div>"
      ],
      "text/plain": [
       "                            Predicted acer_macrophyllum  \\\n",
       "Actual acer_macrophyllum                            430   \n",
       "Actual picea_sitchensis                               0   \n",
       "Actual platanus_acerifolia                            0   \n",
       "Actual thuja_plicata                                  0   \n",
       "\n",
       "                            Predicted picea_sitchensis  \\\n",
       "Actual acer_macrophyllum                             0   \n",
       "Actual picea_sitchensis                            462   \n",
       "Actual platanus_acerifolia                           0   \n",
       "Actual thuja_plicata                                 0   \n",
       "\n",
       "                            Predicted platanus_acerifolia  \\\n",
       "Actual acer_macrophyllum                                0   \n",
       "Actual picea_sitchensis                                 0   \n",
       "Actual platanus_acerifolia                            421   \n",
       "Actual thuja_plicata                                    0   \n",
       "\n",
       "                            Predicted thuja_plicata  \n",
       "Actual acer_macrophyllum                          0  \n",
       "Actual picea_sitchensis                           0  \n",
       "Actual platanus_acerifolia                        0  \n",
       "Actual thuja_plicata                            458  "
      ]
     },
     "execution_count": 80,
     "metadata": {},
     "output_type": "execute_result"
    }
   ],
   "source": [
    "llogeval.confusion_df(X_train, y_train)"
   ]
  },
  {
   "cell_type": "code",
   "execution_count": 81,
   "metadata": {},
   "outputs": [
    {
     "data": {
      "text/html": [
       "<div>\n",
       "<style scoped>\n",
       "    .dataframe tbody tr th:only-of-type {\n",
       "        vertical-align: middle;\n",
       "    }\n",
       "\n",
       "    .dataframe tbody tr th {\n",
       "        vertical-align: top;\n",
       "    }\n",
       "\n",
       "    .dataframe thead th {\n",
       "        text-align: right;\n",
       "    }\n",
       "</style>\n",
       "<table border=\"1\" class=\"dataframe\">\n",
       "  <thead>\n",
       "    <tr style=\"text-align: right;\">\n",
       "      <th></th>\n",
       "      <th>Predicted acer_macrophyllum</th>\n",
       "      <th>Predicted picea_sitchensis</th>\n",
       "      <th>Predicted platanus_acerifolia</th>\n",
       "      <th>Predicted thuja_plicata</th>\n",
       "    </tr>\n",
       "  </thead>\n",
       "  <tbody>\n",
       "    <tr>\n",
       "      <th>Actual acer_macrophyllum</th>\n",
       "      <td>67</td>\n",
       "      <td>5</td>\n",
       "      <td>14</td>\n",
       "      <td>10</td>\n",
       "    </tr>\n",
       "    <tr>\n",
       "      <th>Actual picea_sitchensis</th>\n",
       "      <td>6</td>\n",
       "      <td>88</td>\n",
       "      <td>4</td>\n",
       "      <td>12</td>\n",
       "    </tr>\n",
       "    <tr>\n",
       "      <th>Actual platanus_acerifolia</th>\n",
       "      <td>27</td>\n",
       "      <td>5</td>\n",
       "      <td>83</td>\n",
       "      <td>5</td>\n",
       "    </tr>\n",
       "    <tr>\n",
       "      <th>Actual thuja_plicata</th>\n",
       "      <td>9</td>\n",
       "      <td>16</td>\n",
       "      <td>2</td>\n",
       "      <td>90</td>\n",
       "    </tr>\n",
       "  </tbody>\n",
       "</table>\n",
       "</div>"
      ],
      "text/plain": [
       "                            Predicted acer_macrophyllum  \\\n",
       "Actual acer_macrophyllum                             67   \n",
       "Actual picea_sitchensis                               6   \n",
       "Actual platanus_acerifolia                           27   \n",
       "Actual thuja_plicata                                  9   \n",
       "\n",
       "                            Predicted picea_sitchensis  \\\n",
       "Actual acer_macrophyllum                             5   \n",
       "Actual picea_sitchensis                             88   \n",
       "Actual platanus_acerifolia                           5   \n",
       "Actual thuja_plicata                                16   \n",
       "\n",
       "                            Predicted platanus_acerifolia  \\\n",
       "Actual acer_macrophyllum                               14   \n",
       "Actual picea_sitchensis                                 4   \n",
       "Actual platanus_acerifolia                             83   \n",
       "Actual thuja_plicata                                    2   \n",
       "\n",
       "                            Predicted thuja_plicata  \n",
       "Actual acer_macrophyllum                         10  \n",
       "Actual picea_sitchensis                          12  \n",
       "Actual platanus_acerifolia                        5  \n",
       "Actual thuja_plicata                             90  "
      ]
     },
     "execution_count": 81,
     "metadata": {},
     "output_type": "execute_result"
    }
   ],
   "source": [
    "llogeval.confusion_df(X_test, y_test)"
   ]
  },
  {
   "cell_type": "code",
   "execution_count": 83,
   "metadata": {},
   "outputs": [
    {
     "data": {
      "text/plain": [
       "LogisticRegression(C=1, class_weight=None, dual=False, fit_intercept=True,\n",
       "          intercept_scaling=1, max_iter=4000, multi_class='multinomial',\n",
       "          n_jobs=1, penalty='l1', random_state=None, solver='saga',\n",
       "          tol=0.0001, verbose=0, warm_start=False)"
      ]
     },
     "execution_count": 83,
     "metadata": {},
     "output_type": "execute_result"
    }
   ],
   "source": [
    "llog_model = gridsearch.best_estimator_\n",
    "llog_model"
   ]
  },
  {
   "cell_type": "code",
   "execution_count": 137,
   "metadata": {},
   "outputs": [
    {
     "data": {
      "text/html": [
       "<div>\n",
       "<style scoped>\n",
       "    .dataframe tbody tr th:only-of-type {\n",
       "        vertical-align: middle;\n",
       "    }\n",
       "\n",
       "    .dataframe tbody tr th {\n",
       "        vertical-align: top;\n",
       "    }\n",
       "\n",
       "    .dataframe thead th {\n",
       "        text-align: right;\n",
       "    }\n",
       "</style>\n",
       "<table border=\"1\" class=\"dataframe\">\n",
       "  <thead>\n",
       "    <tr style=\"text-align: right;\">\n",
       "      <th></th>\n",
       "      <th>Predicted acer_macrophyllum</th>\n",
       "      <th>Predicted picea_sitchensis</th>\n",
       "      <th>Predicted platanus_acerifolia</th>\n",
       "      <th>Predicted thuja_plicata</th>\n",
       "    </tr>\n",
       "  </thead>\n",
       "  <tbody>\n",
       "    <tr>\n",
       "      <th>Actual acer_macrophyllum</th>\n",
       "      <td>68</td>\n",
       "      <td>5</td>\n",
       "      <td>13</td>\n",
       "      <td>10</td>\n",
       "    </tr>\n",
       "    <tr>\n",
       "      <th>Actual picea_sitchensis</th>\n",
       "      <td>6</td>\n",
       "      <td>88</td>\n",
       "      <td>3</td>\n",
       "      <td>13</td>\n",
       "    </tr>\n",
       "    <tr>\n",
       "      <th>Actual platanus_acerifolia</th>\n",
       "      <td>28</td>\n",
       "      <td>5</td>\n",
       "      <td>84</td>\n",
       "      <td>3</td>\n",
       "    </tr>\n",
       "    <tr>\n",
       "      <th>Actual thuja_plicata</th>\n",
       "      <td>9</td>\n",
       "      <td>17</td>\n",
       "      <td>3</td>\n",
       "      <td>88</td>\n",
       "    </tr>\n",
       "  </tbody>\n",
       "</table>\n",
       "</div>"
      ],
      "text/plain": [
       "                            Predicted acer_macrophyllum  \\\n",
       "Actual acer_macrophyllum                             68   \n",
       "Actual picea_sitchensis                               6   \n",
       "Actual platanus_acerifolia                           28   \n",
       "Actual thuja_plicata                                  9   \n",
       "\n",
       "                            Predicted picea_sitchensis  \\\n",
       "Actual acer_macrophyllum                             5   \n",
       "Actual picea_sitchensis                             88   \n",
       "Actual platanus_acerifolia                           5   \n",
       "Actual thuja_plicata                                17   \n",
       "\n",
       "                            Predicted platanus_acerifolia  \\\n",
       "Actual acer_macrophyllum                               13   \n",
       "Actual picea_sitchensis                                 3   \n",
       "Actual platanus_acerifolia                             84   \n",
       "Actual thuja_plicata                                    3   \n",
       "\n",
       "                            Predicted thuja_plicata  \n",
       "Actual acer_macrophyllum                         10  \n",
       "Actual picea_sitchensis                          13  \n",
       "Actual platanus_acerifolia                        3  \n",
       "Actual thuja_plicata                             88  "
      ]
     },
     "execution_count": 137,
     "metadata": {},
     "output_type": "execute_result"
    }
   ],
   "source": [
    "llogeval = meval.ModelEvaluator(llog_model)\n",
    "llogeval.confusion_df(X_test, y_test)"
   ]
  },
  {
   "cell_type": "markdown",
   "metadata": {},
   "source": [
    "## All right, let's try a gradient booster"
   ]
  },
  {
   "cell_type": "code",
   "execution_count": 84,
   "metadata": {
    "collapsed": true
   },
   "outputs": [],
   "source": [
    "gb_model = GradientBoostingClassifier(learning_rate=0.01, n_estimators=200, subsample=0.5, max_depth=5)"
   ]
  },
  {
   "cell_type": "code",
   "execution_count": 85,
   "metadata": {},
   "outputs": [
    {
     "data": {
      "text/plain": [
       "GradientBoostingClassifier(criterion='friedman_mse', init=None,\n",
       "              learning_rate=0.01, loss='deviance', max_depth=5,\n",
       "              max_features=None, max_leaf_nodes=None,\n",
       "              min_impurity_decrease=0.0, min_impurity_split=None,\n",
       "              min_samples_leaf=1, min_samples_split=2,\n",
       "              min_weight_fraction_leaf=0.0, n_estimators=200,\n",
       "              presort='auto', random_state=None, subsample=0.5, verbose=0,\n",
       "              warm_start=False)"
      ]
     },
     "execution_count": 85,
     "metadata": {},
     "output_type": "execute_result"
    }
   ],
   "source": [
    "gb_model.fit(X_train, y_train)"
   ]
  },
  {
   "cell_type": "code",
   "execution_count": 145,
   "metadata": {},
   "outputs": [
    {
     "name": "stdout",
     "output_type": "stream",
     "text": [
      "Train log_loss: 0.015764459543378188, Test log_loss: 0.6820746363234138\n",
      "Train Matthews CC: 1.0, Test Matthews CC: 0.6495799886430822\n",
      "Train accuracy: 1.0, Test accuracy: 0.7358916478555305\n"
     ]
    }
   ],
   "source": [
    "gbeval = meval.ModelEvaluator(gb_model)\n",
    "gbeval.print_classifier_metrics(X_train, X_test, y_train, y_test)\n",
    "\n",
    "#Oops, I ran this with the grid-searched gradient booster below. Here are the actual results:\n",
    "# Train log_loss: 0.38322303020846127, Test log_loss: 0.8374452604196712\n",
    "# Train accuracy: 0.9949181253529079, Test accuracy: 0.7155756207674944"
   ]
  },
  {
   "cell_type": "code",
   "execution_count": 93,
   "metadata": {},
   "outputs": [
    {
     "data": {
      "text/html": [
       "<div>\n",
       "<style scoped>\n",
       "    .dataframe tbody tr th:only-of-type {\n",
       "        vertical-align: middle;\n",
       "    }\n",
       "\n",
       "    .dataframe tbody tr th {\n",
       "        vertical-align: top;\n",
       "    }\n",
       "\n",
       "    .dataframe thead th {\n",
       "        text-align: right;\n",
       "    }\n",
       "</style>\n",
       "<table border=\"1\" class=\"dataframe\">\n",
       "  <thead>\n",
       "    <tr style=\"text-align: right;\">\n",
       "      <th></th>\n",
       "      <th>Predicted acer_macrophyllum</th>\n",
       "      <th>Predicted picea_sitchensis</th>\n",
       "      <th>Predicted platanus_acerifolia</th>\n",
       "      <th>Predicted thuja_plicata</th>\n",
       "    </tr>\n",
       "  </thead>\n",
       "  <tbody>\n",
       "    <tr>\n",
       "      <th>Actual acer_macrophyllum</th>\n",
       "      <td>426</td>\n",
       "      <td>0</td>\n",
       "      <td>3</td>\n",
       "      <td>1</td>\n",
       "    </tr>\n",
       "    <tr>\n",
       "      <th>Actual picea_sitchensis</th>\n",
       "      <td>1</td>\n",
       "      <td>458</td>\n",
       "      <td>1</td>\n",
       "      <td>2</td>\n",
       "    </tr>\n",
       "    <tr>\n",
       "      <th>Actual platanus_acerifolia</th>\n",
       "      <td>0</td>\n",
       "      <td>0</td>\n",
       "      <td>421</td>\n",
       "      <td>0</td>\n",
       "    </tr>\n",
       "    <tr>\n",
       "      <th>Actual thuja_plicata</th>\n",
       "      <td>0</td>\n",
       "      <td>0</td>\n",
       "      <td>1</td>\n",
       "      <td>457</td>\n",
       "    </tr>\n",
       "  </tbody>\n",
       "</table>\n",
       "</div>"
      ],
      "text/plain": [
       "                            Predicted acer_macrophyllum  \\\n",
       "Actual acer_macrophyllum                            426   \n",
       "Actual picea_sitchensis                               1   \n",
       "Actual platanus_acerifolia                            0   \n",
       "Actual thuja_plicata                                  0   \n",
       "\n",
       "                            Predicted picea_sitchensis  \\\n",
       "Actual acer_macrophyllum                             0   \n",
       "Actual picea_sitchensis                            458   \n",
       "Actual platanus_acerifolia                           0   \n",
       "Actual thuja_plicata                                 0   \n",
       "\n",
       "                            Predicted platanus_acerifolia  \\\n",
       "Actual acer_macrophyllum                                3   \n",
       "Actual picea_sitchensis                                 1   \n",
       "Actual platanus_acerifolia                            421   \n",
       "Actual thuja_plicata                                    1   \n",
       "\n",
       "                            Predicted thuja_plicata  \n",
       "Actual acer_macrophyllum                          1  \n",
       "Actual picea_sitchensis                           2  \n",
       "Actual platanus_acerifolia                        0  \n",
       "Actual thuja_plicata                            457  "
      ]
     },
     "execution_count": 93,
     "metadata": {},
     "output_type": "execute_result"
    }
   ],
   "source": [
    "gbeval.confusion_df(X_train, y_train)"
   ]
  },
  {
   "cell_type": "code",
   "execution_count": 94,
   "metadata": {},
   "outputs": [
    {
     "data": {
      "text/html": [
       "<div>\n",
       "<style scoped>\n",
       "    .dataframe tbody tr th:only-of-type {\n",
       "        vertical-align: middle;\n",
       "    }\n",
       "\n",
       "    .dataframe tbody tr th {\n",
       "        vertical-align: top;\n",
       "    }\n",
       "\n",
       "    .dataframe thead th {\n",
       "        text-align: right;\n",
       "    }\n",
       "</style>\n",
       "<table border=\"1\" class=\"dataframe\">\n",
       "  <thead>\n",
       "    <tr style=\"text-align: right;\">\n",
       "      <th></th>\n",
       "      <th>Predicted acer_macrophyllum</th>\n",
       "      <th>Predicted picea_sitchensis</th>\n",
       "      <th>Predicted platanus_acerifolia</th>\n",
       "      <th>Predicted thuja_plicata</th>\n",
       "    </tr>\n",
       "  </thead>\n",
       "  <tbody>\n",
       "    <tr>\n",
       "      <th>Actual acer_macrophyllum</th>\n",
       "      <td>63</td>\n",
       "      <td>5</td>\n",
       "      <td>19</td>\n",
       "      <td>9</td>\n",
       "    </tr>\n",
       "    <tr>\n",
       "      <th>Actual picea_sitchensis</th>\n",
       "      <td>10</td>\n",
       "      <td>82</td>\n",
       "      <td>3</td>\n",
       "      <td>15</td>\n",
       "    </tr>\n",
       "    <tr>\n",
       "      <th>Actual platanus_acerifolia</th>\n",
       "      <td>20</td>\n",
       "      <td>7</td>\n",
       "      <td>88</td>\n",
       "      <td>5</td>\n",
       "    </tr>\n",
       "    <tr>\n",
       "      <th>Actual thuja_plicata</th>\n",
       "      <td>12</td>\n",
       "      <td>15</td>\n",
       "      <td>6</td>\n",
       "      <td>84</td>\n",
       "    </tr>\n",
       "  </tbody>\n",
       "</table>\n",
       "</div>"
      ],
      "text/plain": [
       "                            Predicted acer_macrophyllum  \\\n",
       "Actual acer_macrophyllum                             63   \n",
       "Actual picea_sitchensis                              10   \n",
       "Actual platanus_acerifolia                           20   \n",
       "Actual thuja_plicata                                 12   \n",
       "\n",
       "                            Predicted picea_sitchensis  \\\n",
       "Actual acer_macrophyllum                             5   \n",
       "Actual picea_sitchensis                             82   \n",
       "Actual platanus_acerifolia                           7   \n",
       "Actual thuja_plicata                                15   \n",
       "\n",
       "                            Predicted platanus_acerifolia  \\\n",
       "Actual acer_macrophyllum                               19   \n",
       "Actual picea_sitchensis                                 3   \n",
       "Actual platanus_acerifolia                             88   \n",
       "Actual thuja_plicata                                    6   \n",
       "\n",
       "                            Predicted thuja_plicata  \n",
       "Actual acer_macrophyllum                          9  \n",
       "Actual picea_sitchensis                          15  \n",
       "Actual platanus_acerifolia                        5  \n",
       "Actual thuja_plicata                             84  "
      ]
     },
     "execution_count": 94,
     "metadata": {},
     "output_type": "execute_result"
    }
   ],
   "source": [
    "gbeval.confusion_df(X_test, y_test)"
   ]
  },
  {
   "cell_type": "code",
   "execution_count": 92,
   "metadata": {
    "collapsed": true
   },
   "outputs": [],
   "source": [
    "gb_model = GradientBoostingClassifier(learning_rate=0.05, n_estimators=250, subsample=0.5,\n",
    "                                      max_features='auto', max_depth=3, verbose=1)"
   ]
  },
  {
   "cell_type": "code",
   "execution_count": 95,
   "metadata": {
    "collapsed": true
   },
   "outputs": [],
   "source": [
    "param_grid = {'max_depth': [3,5]}\n",
    "gridsearch = GridSearchCV(estimator=gb_model,\n",
    "                          param_grid=param_grid, \n",
    "                          scoring=['neg_log_loss', 'accuracy'],\n",
    "                          refit='neg_log_loss')"
   ]
  },
  {
   "cell_type": "code",
   "execution_count": 96,
   "metadata": {},
   "outputs": [
    {
     "name": "stdout",
     "output_type": "stream",
     "text": [
      "      Iter       Train Loss      OOB Improve   Remaining Time \n",
      "         1         780.5685          18.4090            1.88m\n",
      "         2         757.4512          16.6705            1.86m\n",
      "         3         736.8959          13.9035            1.86m\n",
      "         4         710.8617          13.3693            1.84m\n",
      "         5         696.4100          14.5601            1.83m\n",
      "         6         672.7634          12.7553            1.82m\n",
      "         7         657.4217          11.3458            1.80m\n",
      "         8         644.4418           9.6591            1.78m\n",
      "         9         627.9220           8.1390            1.78m\n",
      "        10         613.5458          10.2160            1.77m\n",
      "        20         496.1119           6.4976            1.69m\n",
      "        30         412.3542           1.6401            1.61m\n",
      "        40         351.3220           1.4243            1.52m\n",
      "        50         308.8417           0.6629            1.44m\n",
      "        60         262.5091           0.9884            1.37m\n",
      "        70         234.5143           0.9110            1.30m\n",
      "        80         217.1218           0.3192            1.23m\n",
      "        90         195.1262           0.0195            1.16m\n",
      "       100         171.3421           0.4235            1.09m\n",
      "       200          70.5960          -0.0184           21.66s\n",
      "      Iter       Train Loss      OOB Improve   Remaining Time \n",
      "         1         780.7769          14.5056            1.81m\n",
      "         2         762.4032          12.4268            1.83m\n",
      "         3         739.6849          14.0192            1.82m\n",
      "         4         718.9056          15.4008            1.83m\n",
      "         5         698.3025          13.3700            1.84m\n",
      "         6         678.3391           9.9927            1.83m\n",
      "         7         657.7881           9.3695            1.81m\n",
      "         8         646.4481           9.1028            1.80m\n",
      "         9         633.9766          10.4454            1.79m\n",
      "        10         621.8707           7.0716            1.78m\n",
      "        20         506.8750           3.2643            1.69m\n",
      "        30         420.5815           2.3337            1.61m\n",
      "        40         369.7461           1.8390            1.56m\n",
      "        50         303.4915           0.9931            1.48m\n",
      "        60         271.2283           0.1811            1.43m\n",
      "        70         237.2876           0.6073            1.36m\n",
      "        80         211.4904           0.2397            1.28m\n",
      "        90         198.3309          -0.0524            1.20m\n",
      "       100         168.3735           0.1126            1.13m\n",
      "       200          69.7975           0.0523           22.15s\n",
      "      Iter       Train Loss      OOB Improve   Remaining Time \n",
      "         1         782.2849          19.8939            1.88m\n",
      "         2         756.0264          17.8282            1.85m\n",
      "         3         738.6678          14.5651            1.83m\n",
      "         4         715.7904          13.2799            1.82m\n",
      "         5         698.7704          11.8554            1.81m\n",
      "         6         675.9832          12.6188            1.80m\n",
      "         7         656.2772           9.1084            1.80m\n",
      "         8         639.1112          10.9261            1.81m\n",
      "         9         634.4564           7.4479            1.83m\n",
      "        10         612.4862           7.2623            1.82m\n",
      "        20         496.9917           5.4149            1.71m\n",
      "        30         415.2499           2.8761            1.65m\n",
      "        40         354.8843           1.7833            1.59m\n",
      "        50         306.7384           1.7435            1.52m\n",
      "        60         263.1629           0.6366            1.43m\n",
      "        70         230.1335           0.2692            1.36m\n",
      "        80         214.1858           0.6048            1.28m\n",
      "        90         188.0177           0.1451            1.21m\n",
      "       100         172.2137           0.2846            1.14m\n",
      "       200          71.1599           0.0047           22.76s\n",
      "      Iter       Train Loss      OOB Improve   Remaining Time \n",
      "         1         750.8695          17.5892            3.62m\n",
      "         2         727.5414          17.6227            3.76m\n",
      "         3         688.4357          16.9023            3.73m\n",
      "         4         660.6113          13.7011            3.70m\n",
      "         5         632.2119          13.2468            3.67m\n",
      "         6         603.4197          13.7241            3.63m\n",
      "         7         581.6152          10.8264            3.60m\n",
      "         8         553.5520          10.3586            3.58m\n",
      "         9         535.7596           9.9500            3.55m\n",
      "        10         522.7623           9.8691            3.56m\n",
      "        20         353.2979           4.8209            3.58m\n",
      "        30         264.2556           2.1766            3.46m\n",
      "        40         200.1672           1.4171            3.32m\n",
      "        50         155.4019           0.5918            3.15m\n",
      "        60         124.2921           0.8327            2.99m\n",
      "        70         100.0080           0.2515            2.80m\n",
      "        80          81.3888           0.3591            2.61m\n",
      "        90          67.6379           0.1496            2.44m\n",
      "       100          56.3940           0.0801            2.28m\n",
      "       200          10.9975           0.0282           44.46s\n",
      "      Iter       Train Loss      OOB Improve   Remaining Time \n",
      "         1         753.2647          20.3749            3.41m\n",
      "         2         715.4001          19.7713            3.51m\n",
      "         3         689.0593          15.4212            3.51m\n",
      "         4         660.6468          13.7906            3.50m\n",
      "         5         633.3761          13.1829            3.49m\n",
      "         6         603.0784          11.0293            3.49m\n",
      "         7         579.2487          10.9950            3.48m\n",
      "         8         550.5881           9.5648            3.47m\n",
      "         9         527.7588           9.2562            3.46m\n",
      "        10         516.5179           7.3455            3.45m\n",
      "        20         361.3420           2.8117            3.33m\n",
      "        30         268.1651           2.5640            3.18m\n",
      "        40         197.9244           1.2646            3.03m\n",
      "        50         155.6640           0.7592            2.88m\n",
      "        60         125.6222           0.9116            2.73m\n",
      "        70         100.0154           0.1193            2.58m\n",
      "        80          82.7735          -0.0014            2.42m\n",
      "        90          68.5018           0.0798            2.27m\n",
      "       100          58.2607           0.2780            2.12m\n",
      "       200          10.1154           0.0122           41.90s\n",
      "      Iter       Train Loss      OOB Improve   Remaining Time \n",
      "         1         760.1184          21.9703            3.51m\n",
      "         2         721.2485          18.7470            3.56m\n",
      "         3         689.1115          16.6041            3.54m\n",
      "         4         660.8403          15.2612            3.55m\n",
      "         5         629.4277          14.8709            3.53m\n",
      "         6         602.2412          14.2134            3.52m\n",
      "         7         572.5791          10.6114            3.51m\n",
      "         8         550.3201          10.3895            3.50m\n",
      "         9         527.2763          10.8617            3.49m\n",
      "        10         506.9734           8.4147            3.48m\n",
      "        20         364.3283           4.3612            3.33m\n",
      "        30         262.6034           1.7089            3.17m\n",
      "        40         201.2032           1.5047            3.03m\n",
      "        50         152.0638           0.5675            2.88m\n",
      "        60         125.3862           0.6731            2.73m\n",
      "        70          97.6184           0.3999            2.59m\n",
      "        80          80.8937           0.1951            2.43m\n",
      "        90          70.3794           0.2116            2.29m\n",
      "       100          57.6218           0.1983            2.16m\n",
      "       200          10.8007          -0.0057           42.16s\n",
      "      Iter       Train Loss      OOB Improve   Remaining Time \n",
      "         1        1144.5310          33.2436            5.32m\n",
      "         2        1094.5452          32.9676            5.36m\n",
      "         3        1048.6544          26.7778            5.37m\n",
      "         4        1003.4542          23.4764            5.34m\n",
      "         5         961.9165          22.0516            5.35m\n",
      "         6         923.3166          20.6940            5.33m\n"
     ]
    },
    {
     "name": "stdout",
     "output_type": "stream",
     "text": [
      "         7         891.3268          16.6414            5.31m\n",
      "         8         853.3852          20.0347            5.30m\n",
      "         9         816.8657          15.9522            5.28m\n",
      "        10         784.4059          13.4067            5.29m\n",
      "        20         571.7202           8.2549            5.06m\n",
      "        30         439.9990           3.3548            4.92m\n",
      "        40         337.2258           1.7884            4.66m\n",
      "        50         268.5472           2.3392            4.41m\n",
      "        60         217.3930           0.9655            4.16m\n",
      "        70         186.9230           0.8508            3.93m\n",
      "        80         152.5029           0.3887            3.71m\n",
      "        90         130.3362           0.4333            3.50m\n",
      "       100         112.2138           0.2367            3.29m\n",
      "       200          27.6714           0.0202            1.09m\n"
     ]
    },
    {
     "data": {
      "text/plain": [
       "GridSearchCV(cv=None, error_score='raise',\n",
       "       estimator=GradientBoostingClassifier(criterion='friedman_mse', init=None,\n",
       "              learning_rate=0.05, loss='deviance', max_depth=3,\n",
       "              max_features='auto', max_leaf_nodes=None,\n",
       "              min_impurity_decrease=0.0, min_impurity_split=None,\n",
       "              min_samples_leaf=1, min_samples_split=2,\n",
       "              min_weight_fraction_leaf=0.0, n_estimators=250,\n",
       "              presort='auto', random_state=None, subsample=0.5, verbose=1,\n",
       "              warm_start=False),\n",
       "       fit_params=None, iid=True, n_jobs=1,\n",
       "       param_grid={'max_depth': [3, 5]}, pre_dispatch='2*n_jobs',\n",
       "       refit='neg_log_loss', return_train_score='warn',\n",
       "       scoring=['neg_log_loss', 'accuracy'], verbose=0)"
      ]
     },
     "execution_count": 96,
     "metadata": {},
     "output_type": "execute_result"
    }
   ],
   "source": [
    "gridsearch.fit(X_train, y_train)"
   ]
  },
  {
   "cell_type": "code",
   "execution_count": 97,
   "metadata": {},
   "outputs": [
    {
     "name": "stderr",
     "output_type": "stream",
     "text": [
      "/Users/ndbs/anaconda3/lib/python3.6/site-packages/sklearn/utils/deprecation.py:122: FutureWarning: You are accessing a training score ('mean_train_accuracy'), which will not be available by default any more in 0.21. If you need training scores, please set return_train_score=True\n",
      "  warnings.warn(*warn_args, **warn_kwargs)\n",
      "/Users/ndbs/anaconda3/lib/python3.6/site-packages/sklearn/utils/deprecation.py:122: FutureWarning: You are accessing a training score ('mean_train_neg_log_loss'), which will not be available by default any more in 0.21. If you need training scores, please set return_train_score=True\n",
      "  warnings.warn(*warn_args, **warn_kwargs)\n",
      "/Users/ndbs/anaconda3/lib/python3.6/site-packages/sklearn/utils/deprecation.py:122: FutureWarning: You are accessing a training score ('split0_train_accuracy'), which will not be available by default any more in 0.21. If you need training scores, please set return_train_score=True\n",
      "  warnings.warn(*warn_args, **warn_kwargs)\n",
      "/Users/ndbs/anaconda3/lib/python3.6/site-packages/sklearn/utils/deprecation.py:122: FutureWarning: You are accessing a training score ('split0_train_neg_log_loss'), which will not be available by default any more in 0.21. If you need training scores, please set return_train_score=True\n",
      "  warnings.warn(*warn_args, **warn_kwargs)\n",
      "/Users/ndbs/anaconda3/lib/python3.6/site-packages/sklearn/utils/deprecation.py:122: FutureWarning: You are accessing a training score ('split1_train_accuracy'), which will not be available by default any more in 0.21. If you need training scores, please set return_train_score=True\n",
      "  warnings.warn(*warn_args, **warn_kwargs)\n",
      "/Users/ndbs/anaconda3/lib/python3.6/site-packages/sklearn/utils/deprecation.py:122: FutureWarning: You are accessing a training score ('split1_train_neg_log_loss'), which will not be available by default any more in 0.21. If you need training scores, please set return_train_score=True\n",
      "  warnings.warn(*warn_args, **warn_kwargs)\n",
      "/Users/ndbs/anaconda3/lib/python3.6/site-packages/sklearn/utils/deprecation.py:122: FutureWarning: You are accessing a training score ('split2_train_accuracy'), which will not be available by default any more in 0.21. If you need training scores, please set return_train_score=True\n",
      "  warnings.warn(*warn_args, **warn_kwargs)\n",
      "/Users/ndbs/anaconda3/lib/python3.6/site-packages/sklearn/utils/deprecation.py:122: FutureWarning: You are accessing a training score ('split2_train_neg_log_loss'), which will not be available by default any more in 0.21. If you need training scores, please set return_train_score=True\n",
      "  warnings.warn(*warn_args, **warn_kwargs)\n",
      "/Users/ndbs/anaconda3/lib/python3.6/site-packages/sklearn/utils/deprecation.py:122: FutureWarning: You are accessing a training score ('std_train_accuracy'), which will not be available by default any more in 0.21. If you need training scores, please set return_train_score=True\n",
      "  warnings.warn(*warn_args, **warn_kwargs)\n",
      "/Users/ndbs/anaconda3/lib/python3.6/site-packages/sklearn/utils/deprecation.py:122: FutureWarning: You are accessing a training score ('std_train_neg_log_loss'), which will not be available by default any more in 0.21. If you need training scores, please set return_train_score=True\n",
      "  warnings.warn(*warn_args, **warn_kwargs)\n"
     ]
    },
    {
     "data": {
      "text/html": [
       "<div>\n",
       "<style scoped>\n",
       "    .dataframe tbody tr th:only-of-type {\n",
       "        vertical-align: middle;\n",
       "    }\n",
       "\n",
       "    .dataframe tbody tr th {\n",
       "        vertical-align: top;\n",
       "    }\n",
       "\n",
       "    .dataframe thead th {\n",
       "        text-align: right;\n",
       "    }\n",
       "</style>\n",
       "<table border=\"1\" class=\"dataframe\">\n",
       "  <thead>\n",
       "    <tr style=\"text-align: right;\">\n",
       "      <th></th>\n",
       "      <th>mean_fit_time</th>\n",
       "      <th>mean_score_time</th>\n",
       "      <th>mean_test_accuracy</th>\n",
       "      <th>mean_test_neg_log_loss</th>\n",
       "      <th>mean_train_accuracy</th>\n",
       "      <th>mean_train_neg_log_loss</th>\n",
       "      <th>param_max_depth</th>\n",
       "      <th>params</th>\n",
       "      <th>rank_test_accuracy</th>\n",
       "      <th>rank_test_neg_log_loss</th>\n",
       "      <th>...</th>\n",
       "      <th>split2_test_accuracy</th>\n",
       "      <th>split2_test_neg_log_loss</th>\n",
       "      <th>split2_train_accuracy</th>\n",
       "      <th>split2_train_neg_log_loss</th>\n",
       "      <th>std_fit_time</th>\n",
       "      <th>std_score_time</th>\n",
       "      <th>std_test_accuracy</th>\n",
       "      <th>std_test_neg_log_loss</th>\n",
       "      <th>std_train_accuracy</th>\n",
       "      <th>std_train_neg_log_loss</th>\n",
       "    </tr>\n",
       "  </thead>\n",
       "  <tbody>\n",
       "    <tr>\n",
       "      <th>0</th>\n",
       "      <td>110.965634</td>\n",
       "      <td>0.046013</td>\n",
       "      <td>0.720497</td>\n",
       "      <td>-0.669828</td>\n",
       "      <td>1.0</td>\n",
       "      <td>-0.079818</td>\n",
       "      <td>3</td>\n",
       "      <td>{'max_depth': 3}</td>\n",
       "      <td>2</td>\n",
       "      <td>2</td>\n",
       "      <td>...</td>\n",
       "      <td>0.709677</td>\n",
       "      <td>-0.678081</td>\n",
       "      <td>1.0</td>\n",
       "      <td>-0.077164</td>\n",
       "      <td>1.690712</td>\n",
       "      <td>0.002455</td>\n",
       "      <td>0.007838</td>\n",
       "      <td>0.005830</td>\n",
       "      <td>0.0</td>\n",
       "      <td>0.001976</td>\n",
       "    </tr>\n",
       "    <tr>\n",
       "      <th>1</th>\n",
       "      <td>212.421822</td>\n",
       "      <td>0.059945</td>\n",
       "      <td>0.721626</td>\n",
       "      <td>-0.657333</td>\n",
       "      <td>1.0</td>\n",
       "      <td>-0.008315</td>\n",
       "      <td>5</td>\n",
       "      <td>{'max_depth': 5}</td>\n",
       "      <td>1</td>\n",
       "      <td>1</td>\n",
       "      <td>...</td>\n",
       "      <td>0.701188</td>\n",
       "      <td>-0.689530</td>\n",
       "      <td>1.0</td>\n",
       "      <td>-0.008326</td>\n",
       "      <td>4.397540</td>\n",
       "      <td>0.002492</td>\n",
       "      <td>0.014527</td>\n",
       "      <td>0.024388</td>\n",
       "      <td>0.0</td>\n",
       "      <td>0.000290</td>\n",
       "    </tr>\n",
       "  </tbody>\n",
       "</table>\n",
       "<p>2 rows × 28 columns</p>\n",
       "</div>"
      ],
      "text/plain": [
       "   mean_fit_time  mean_score_time  mean_test_accuracy  mean_test_neg_log_loss  \\\n",
       "0     110.965634         0.046013            0.720497               -0.669828   \n",
       "1     212.421822         0.059945            0.721626               -0.657333   \n",
       "\n",
       "   mean_train_accuracy  mean_train_neg_log_loss param_max_depth  \\\n",
       "0                  1.0                -0.079818               3   \n",
       "1                  1.0                -0.008315               5   \n",
       "\n",
       "             params  rank_test_accuracy  rank_test_neg_log_loss  \\\n",
       "0  {'max_depth': 3}                   2                       2   \n",
       "1  {'max_depth': 5}                   1                       1   \n",
       "\n",
       "            ...            split2_test_accuracy  split2_test_neg_log_loss  \\\n",
       "0           ...                        0.709677                 -0.678081   \n",
       "1           ...                        0.701188                 -0.689530   \n",
       "\n",
       "   split2_train_accuracy  split2_train_neg_log_loss  std_fit_time  \\\n",
       "0                    1.0                  -0.077164      1.690712   \n",
       "1                    1.0                  -0.008326      4.397540   \n",
       "\n",
       "   std_score_time  std_test_accuracy  std_test_neg_log_loss  \\\n",
       "0        0.002455           0.007838               0.005830   \n",
       "1        0.002492           0.014527               0.024388   \n",
       "\n",
       "   std_train_accuracy  std_train_neg_log_loss  \n",
       "0                 0.0                0.001976  \n",
       "1                 0.0                0.000290  \n",
       "\n",
       "[2 rows x 28 columns]"
      ]
     },
     "execution_count": 97,
     "metadata": {},
     "output_type": "execute_result"
    }
   ],
   "source": [
    "pd.DataFrame(gridsearch.cv_results_)"
   ]
  },
  {
   "cell_type": "code",
   "execution_count": 104,
   "metadata": {},
   "outputs": [
    {
     "data": {
      "text/plain": [
       "16.1"
      ]
     },
     "execution_count": 104,
     "metadata": {},
     "output_type": "execute_result"
    }
   ],
   "source": [
    "3*(110+212)/60 #So the grid search took about 16 minutes"
   ]
  },
  {
   "cell_type": "code",
   "execution_count": 98,
   "metadata": {},
   "outputs": [
    {
     "data": {
      "text/plain": [
       "{'max_depth': 5}"
      ]
     },
     "execution_count": 98,
     "metadata": {},
     "output_type": "execute_result"
    }
   ],
   "source": [
    "gridsearch.best_params_"
   ]
  },
  {
   "cell_type": "code",
   "execution_count": 149,
   "metadata": {},
   "outputs": [
    {
     "name": "stdout",
     "output_type": "stream",
     "text": [
      "Train log_loss: 0.015764459543378188, Test log_loss: 0.6820746363234138\n",
      "Train Matthews CC: 1.0, Test Matthews CC: 0.6495799886430822\n",
      "Train accuracy: 1.0, Test accuracy: 0.7358916478555305\n",
      "Train top_2_accuracy: 1.0, Test top_2_accuracy: 0.9164785553047404\n",
      "Train top_3_accuracy: 1.0, Test top_3_accuracy: 0.9729119638826185\n"
     ]
    }
   ],
   "source": [
    "gb_model = gridsearch.best_estimator_\n",
    "gbeval = meval.ModelEvaluator(gb_model)\n",
    "gbeval.print_classifier_metrics(X_train, X_test, y_train, y_test)"
   ]
  },
  {
   "cell_type": "code",
   "execution_count": 100,
   "metadata": {},
   "outputs": [
    {
     "data": {
      "text/html": [
       "<div>\n",
       "<style scoped>\n",
       "    .dataframe tbody tr th:only-of-type {\n",
       "        vertical-align: middle;\n",
       "    }\n",
       "\n",
       "    .dataframe tbody tr th {\n",
       "        vertical-align: top;\n",
       "    }\n",
       "\n",
       "    .dataframe thead th {\n",
       "        text-align: right;\n",
       "    }\n",
       "</style>\n",
       "<table border=\"1\" class=\"dataframe\">\n",
       "  <thead>\n",
       "    <tr style=\"text-align: right;\">\n",
       "      <th></th>\n",
       "      <th>Predicted acer_macrophyllum</th>\n",
       "      <th>Predicted picea_sitchensis</th>\n",
       "      <th>Predicted platanus_acerifolia</th>\n",
       "      <th>Predicted thuja_plicata</th>\n",
       "    </tr>\n",
       "  </thead>\n",
       "  <tbody>\n",
       "    <tr>\n",
       "      <th>Actual acer_macrophyllum</th>\n",
       "      <td>68</td>\n",
       "      <td>5</td>\n",
       "      <td>15</td>\n",
       "      <td>8</td>\n",
       "    </tr>\n",
       "    <tr>\n",
       "      <th>Actual picea_sitchensis</th>\n",
       "      <td>11</td>\n",
       "      <td>82</td>\n",
       "      <td>2</td>\n",
       "      <td>15</td>\n",
       "    </tr>\n",
       "    <tr>\n",
       "      <th>Actual platanus_acerifolia</th>\n",
       "      <td>23</td>\n",
       "      <td>5</td>\n",
       "      <td>89</td>\n",
       "      <td>3</td>\n",
       "    </tr>\n",
       "    <tr>\n",
       "      <th>Actual thuja_plicata</th>\n",
       "      <td>16</td>\n",
       "      <td>11</td>\n",
       "      <td>3</td>\n",
       "      <td>87</td>\n",
       "    </tr>\n",
       "  </tbody>\n",
       "</table>\n",
       "</div>"
      ],
      "text/plain": [
       "                            Predicted acer_macrophyllum  \\\n",
       "Actual acer_macrophyllum                             68   \n",
       "Actual picea_sitchensis                              11   \n",
       "Actual platanus_acerifolia                           23   \n",
       "Actual thuja_plicata                                 16   \n",
       "\n",
       "                            Predicted picea_sitchensis  \\\n",
       "Actual acer_macrophyllum                             5   \n",
       "Actual picea_sitchensis                             82   \n",
       "Actual platanus_acerifolia                           5   \n",
       "Actual thuja_plicata                                11   \n",
       "\n",
       "                            Predicted platanus_acerifolia  \\\n",
       "Actual acer_macrophyllum                               15   \n",
       "Actual picea_sitchensis                                 2   \n",
       "Actual platanus_acerifolia                             89   \n",
       "Actual thuja_plicata                                    3   \n",
       "\n",
       "                            Predicted thuja_plicata  \n",
       "Actual acer_macrophyllum                          8  \n",
       "Actual picea_sitchensis                          15  \n",
       "Actual platanus_acerifolia                        3  \n",
       "Actual thuja_plicata                             87  "
      ]
     },
     "execution_count": 100,
     "metadata": {},
     "output_type": "execute_result"
    }
   ],
   "source": [
    "gbeval.confusion_df(X_test, y_test)"
   ]
  },
  {
   "cell_type": "markdown",
   "metadata": {},
   "source": [
    "## Let's save the predicted probabilities and the confusion matrices for the test set"
   ]
  },
  {
   "cell_type": "code",
   "execution_count": 103,
   "metadata": {},
   "outputs": [
    {
     "name": "stdout",
     "output_type": "stream",
     "text": [
      "<class 'pandas.core.frame.DataFrame'>\n",
      "Int64Index: 1771 entries, 1803 to 1594\n",
      "Data columns (total 3 columns):\n",
      "p_hash      1771 non-null object\n",
      "filename    1771 non-null object\n",
      "folder      1771 non-null object\n",
      "dtypes: object(3)\n",
      "memory usage: 55.3+ KB\n"
     ]
    }
   ],
   "source": [
    "image_df = features_4species_df[['p_hash', 'filename', 'folder']]\n",
    "train_images = image_df.loc[X_train.index,:]\n",
    "train_images.info()\n"
   ]
  },
  {
   "cell_type": "code",
   "execution_count": 111,
   "metadata": {},
   "outputs": [
    {
     "data": {
      "text/plain": [
       "array([[  1.69365345e-03,   9.96650446e-01,   7.37370626e-05,\n",
       "          1.58216390e-03],\n",
       "       [  1.73105106e-02,   9.71396215e-01,   2.18202895e-03,\n",
       "          9.11124578e-03],\n",
       "       [  1.14987302e-03,   2.05575511e-02,   5.43183111e-04,\n",
       "          9.77749393e-01],\n",
       "       ..., \n",
       "       [  4.07092777e-02,   8.65089419e-01,   8.97325404e-03,\n",
       "          8.52280492e-02],\n",
       "       [  1.68253268e-02,   9.76238427e-01,   5.19143100e-05,\n",
       "          6.88433194e-03],\n",
       "       [  4.84117465e-02,   5.19377875e-01,   7.98169142e-04,\n",
       "          4.31412209e-01]])"
      ]
     },
     "execution_count": 111,
     "metadata": {},
     "output_type": "execute_result"
    }
   ],
   "source": [
    "log_model.predict_proba(X_test)"
   ]
  },
  {
   "cell_type": "code",
   "execution_count": 113,
   "metadata": {},
   "outputs": [
    {
     "data": {
      "text/html": [
       "<div>\n",
       "<style scoped>\n",
       "    .dataframe tbody tr th:only-of-type {\n",
       "        vertical-align: middle;\n",
       "    }\n",
       "\n",
       "    .dataframe tbody tr th {\n",
       "        vertical-align: top;\n",
       "    }\n",
       "\n",
       "    .dataframe thead th {\n",
       "        text-align: right;\n",
       "    }\n",
       "</style>\n",
       "<table border=\"1\" class=\"dataframe\">\n",
       "  <thead>\n",
       "    <tr style=\"text-align: right;\">\n",
       "      <th></th>\n",
       "      <th>p_hash</th>\n",
       "      <th>filename</th>\n",
       "      <th>folder</th>\n",
       "    </tr>\n",
       "  </thead>\n",
       "  <tbody>\n",
       "    <tr>\n",
       "      <th>3594</th>\n",
       "      <td>d016ef498d0ff843</td>\n",
       "      <td>image_picea_sitchensis_foliage_67.png</td>\n",
       "      <td>picea_sitchensis</td>\n",
       "    </tr>\n",
       "    <tr>\n",
       "      <th>4115</th>\n",
       "      <td>c6ed6df5404b5903</td>\n",
       "      <td>image_sitka_spruce_68.png</td>\n",
       "      <td>picea_sitchensis</td>\n",
       "    </tr>\n",
       "    <tr>\n",
       "      <th>1823</th>\n",
       "      <td>d51e3ded093a3514</td>\n",
       "      <td>image_thuja_plicata_foliage_27.png</td>\n",
       "      <td>thuja_plicata</td>\n",
       "    </tr>\n",
       "    <tr>\n",
       "      <th>3814</th>\n",
       "      <td>c4137fc4aab44be2</td>\n",
       "      <td>image_sitka_spruce_cones_2.png</td>\n",
       "      <td>picea_sitchensis</td>\n",
       "    </tr>\n",
       "    <tr>\n",
       "      <th>4653</th>\n",
       "      <td>c288376e033fb28f</td>\n",
       "      <td>image_platanus_acerifolia_leaves_21.png</td>\n",
       "      <td>platanus_acerifolia</td>\n",
       "    </tr>\n",
       "  </tbody>\n",
       "</table>\n",
       "</div>"
      ],
      "text/plain": [
       "                p_hash                                 filename  \\\n",
       "3594  d016ef498d0ff843    image_picea_sitchensis_foliage_67.png   \n",
       "4115  c6ed6df5404b5903                image_sitka_spruce_68.png   \n",
       "1823  d51e3ded093a3514       image_thuja_plicata_foliage_27.png   \n",
       "3814  c4137fc4aab44be2           image_sitka_spruce_cones_2.png   \n",
       "4653  c288376e033fb28f  image_platanus_acerifolia_leaves_21.png   \n",
       "\n",
       "                   folder  \n",
       "3594     picea_sitchensis  \n",
       "4115     picea_sitchensis  \n",
       "1823        thuja_plicata  \n",
       "3814     picea_sitchensis  \n",
       "4653  platanus_acerifolia  "
      ]
     },
     "execution_count": 113,
     "metadata": {},
     "output_type": "execute_result"
    }
   ],
   "source": [
    "image_df.loc[X_test.index,:].head()"
   ]
  },
  {
   "cell_type": "code",
   "execution_count": 119,
   "metadata": {
    "collapsed": true
   },
   "outputs": [],
   "source": [
    "non_feature_columns = ['p_hash', 'filename', 'folder']\n",
    "\n",
    "def get_predictions(features_df, index_set, non_feature_columns, model, prefix):\n",
    "    pred_columns = [prefix + '_' + species for species in model.classes_]\n",
    "    \n",
    "    image_df = features_df.loc[index_set, non_feature_columns]\n",
    "    y_pred = model.predict_proba(features_df.drop(non_feature_columns, axis=1).loc[index_set,:])\n",
    "    image_df[pred_columns] = pd.DataFrame(y_pred, index = image_df.index)\n",
    "    \n",
    "    return image_df"
   ]
  },
  {
   "cell_type": "code",
   "execution_count": 122,
   "metadata": {},
   "outputs": [
    {
     "data": {
      "text/html": [
       "<div>\n",
       "<style scoped>\n",
       "    .dataframe tbody tr th:only-of-type {\n",
       "        vertical-align: middle;\n",
       "    }\n",
       "\n",
       "    .dataframe tbody tr th {\n",
       "        vertical-align: top;\n",
       "    }\n",
       "\n",
       "    .dataframe thead th {\n",
       "        text-align: right;\n",
       "    }\n",
       "</style>\n",
       "<table border=\"1\" class=\"dataframe\">\n",
       "  <thead>\n",
       "    <tr style=\"text-align: right;\">\n",
       "      <th></th>\n",
       "      <th>p_hash</th>\n",
       "      <th>filename</th>\n",
       "      <th>folder</th>\n",
       "      <th>prob_logl2_acer_macrophyllum</th>\n",
       "      <th>prob_logl2_picea_sitchensis</th>\n",
       "      <th>prob_logl2_platanus_acerifolia</th>\n",
       "      <th>prob_logl2_thuja_plicata</th>\n",
       "    </tr>\n",
       "  </thead>\n",
       "  <tbody>\n",
       "    <tr>\n",
       "      <th>3594</th>\n",
       "      <td>d016ef498d0ff843</td>\n",
       "      <td>image_picea_sitchensis_foliage_67.png</td>\n",
       "      <td>picea_sitchensis</td>\n",
       "      <td>0.001694</td>\n",
       "      <td>0.996650</td>\n",
       "      <td>0.000074</td>\n",
       "      <td>0.001582</td>\n",
       "    </tr>\n",
       "    <tr>\n",
       "      <th>4115</th>\n",
       "      <td>c6ed6df5404b5903</td>\n",
       "      <td>image_sitka_spruce_68.png</td>\n",
       "      <td>picea_sitchensis</td>\n",
       "      <td>0.017311</td>\n",
       "      <td>0.971396</td>\n",
       "      <td>0.002182</td>\n",
       "      <td>0.009111</td>\n",
       "    </tr>\n",
       "    <tr>\n",
       "      <th>1823</th>\n",
       "      <td>d51e3ded093a3514</td>\n",
       "      <td>image_thuja_plicata_foliage_27.png</td>\n",
       "      <td>thuja_plicata</td>\n",
       "      <td>0.001150</td>\n",
       "      <td>0.020558</td>\n",
       "      <td>0.000543</td>\n",
       "      <td>0.977749</td>\n",
       "    </tr>\n",
       "    <tr>\n",
       "      <th>3814</th>\n",
       "      <td>c4137fc4aab44be2</td>\n",
       "      <td>image_sitka_spruce_cones_2.png</td>\n",
       "      <td>picea_sitchensis</td>\n",
       "      <td>0.000639</td>\n",
       "      <td>0.895768</td>\n",
       "      <td>0.000807</td>\n",
       "      <td>0.102785</td>\n",
       "    </tr>\n",
       "    <tr>\n",
       "      <th>4653</th>\n",
       "      <td>c288376e033fb28f</td>\n",
       "      <td>image_platanus_acerifolia_leaves_21.png</td>\n",
       "      <td>platanus_acerifolia</td>\n",
       "      <td>0.676151</td>\n",
       "      <td>0.000009</td>\n",
       "      <td>0.322795</td>\n",
       "      <td>0.001045</td>\n",
       "    </tr>\n",
       "  </tbody>\n",
       "</table>\n",
       "</div>"
      ],
      "text/plain": [
       "                p_hash                                 filename  \\\n",
       "3594  d016ef498d0ff843    image_picea_sitchensis_foliage_67.png   \n",
       "4115  c6ed6df5404b5903                image_sitka_spruce_68.png   \n",
       "1823  d51e3ded093a3514       image_thuja_plicata_foliage_27.png   \n",
       "3814  c4137fc4aab44be2           image_sitka_spruce_cones_2.png   \n",
       "4653  c288376e033fb28f  image_platanus_acerifolia_leaves_21.png   \n",
       "\n",
       "                   folder  prob_logl2_acer_macrophyllum  \\\n",
       "3594     picea_sitchensis                      0.001694   \n",
       "4115     picea_sitchensis                      0.017311   \n",
       "1823        thuja_plicata                      0.001150   \n",
       "3814     picea_sitchensis                      0.000639   \n",
       "4653  platanus_acerifolia                      0.676151   \n",
       "\n",
       "      prob_logl2_picea_sitchensis  prob_logl2_platanus_acerifolia  \\\n",
       "3594                     0.996650                        0.000074   \n",
       "4115                     0.971396                        0.002182   \n",
       "1823                     0.020558                        0.000543   \n",
       "3814                     0.895768                        0.000807   \n",
       "4653                     0.000009                        0.322795   \n",
       "\n",
       "      prob_logl2_thuja_plicata  \n",
       "3594                  0.001582  \n",
       "4115                  0.009111  \n",
       "1823                  0.977749  \n",
       "3814                  0.102785  \n",
       "4653                  0.001045  "
      ]
     },
     "execution_count": 122,
     "metadata": {},
     "output_type": "execute_result"
    }
   ],
   "source": [
    "log_pred = get_predictions(features_4species_df, X_test.index, non_feature_columns, log_model, 'prob_logl2')\n",
    "log_pred.head()"
   ]
  },
  {
   "cell_type": "code",
   "execution_count": 123,
   "metadata": {},
   "outputs": [
    {
     "data": {
      "text/plain": [
       "LogisticRegression(C=1, class_weight=None, dual=False, fit_intercept=True,\n",
       "          intercept_scaling=1, max_iter=4000, multi_class='multinomial',\n",
       "          n_jobs=1, penalty='l1', random_state=None, solver='saga',\n",
       "          tol=0.0001, verbose=0, warm_start=False)"
      ]
     },
     "execution_count": 123,
     "metadata": {},
     "output_type": "execute_result"
    }
   ],
   "source": [
    "llog_model"
   ]
  },
  {
   "cell_type": "code",
   "execution_count": 124,
   "metadata": {},
   "outputs": [
    {
     "data": {
      "text/html": [
       "<div>\n",
       "<style scoped>\n",
       "    .dataframe tbody tr th:only-of-type {\n",
       "        vertical-align: middle;\n",
       "    }\n",
       "\n",
       "    .dataframe tbody tr th {\n",
       "        vertical-align: top;\n",
       "    }\n",
       "\n",
       "    .dataframe thead th {\n",
       "        text-align: right;\n",
       "    }\n",
       "</style>\n",
       "<table border=\"1\" class=\"dataframe\">\n",
       "  <thead>\n",
       "    <tr style=\"text-align: right;\">\n",
       "      <th></th>\n",
       "      <th>p_hash</th>\n",
       "      <th>filename</th>\n",
       "      <th>folder</th>\n",
       "      <th>prob_logl1_acer_macrophyllum</th>\n",
       "      <th>prob_logl1_picea_sitchensis</th>\n",
       "      <th>prob_logl1_platanus_acerifolia</th>\n",
       "      <th>prob_logl1_thuja_plicata</th>\n",
       "    </tr>\n",
       "  </thead>\n",
       "  <tbody>\n",
       "    <tr>\n",
       "      <th>3594</th>\n",
       "      <td>d016ef498d0ff843</td>\n",
       "      <td>image_picea_sitchensis_foliage_67.png</td>\n",
       "      <td>picea_sitchensis</td>\n",
       "      <td>0.000636</td>\n",
       "      <td>9.992721e-01</td>\n",
       "      <td>0.000008</td>\n",
       "      <td>0.000083</td>\n",
       "    </tr>\n",
       "    <tr>\n",
       "      <th>4115</th>\n",
       "      <td>c6ed6df5404b5903</td>\n",
       "      <td>image_sitka_spruce_68.png</td>\n",
       "      <td>picea_sitchensis</td>\n",
       "      <td>0.007013</td>\n",
       "      <td>9.132217e-01</td>\n",
       "      <td>0.000963</td>\n",
       "      <td>0.078803</td>\n",
       "    </tr>\n",
       "    <tr>\n",
       "      <th>1823</th>\n",
       "      <td>d51e3ded093a3514</td>\n",
       "      <td>image_thuja_plicata_foliage_27.png</td>\n",
       "      <td>thuja_plicata</td>\n",
       "      <td>0.000086</td>\n",
       "      <td>2.469653e-02</td>\n",
       "      <td>0.000568</td>\n",
       "      <td>0.974650</td>\n",
       "    </tr>\n",
       "    <tr>\n",
       "      <th>3814</th>\n",
       "      <td>c4137fc4aab44be2</td>\n",
       "      <td>image_sitka_spruce_cones_2.png</td>\n",
       "      <td>picea_sitchensis</td>\n",
       "      <td>0.000026</td>\n",
       "      <td>9.877697e-01</td>\n",
       "      <td>0.000041</td>\n",
       "      <td>0.012163</td>\n",
       "    </tr>\n",
       "    <tr>\n",
       "      <th>4653</th>\n",
       "      <td>c288376e033fb28f</td>\n",
       "      <td>image_platanus_acerifolia_leaves_21.png</td>\n",
       "      <td>platanus_acerifolia</td>\n",
       "      <td>0.614655</td>\n",
       "      <td>3.186668e-07</td>\n",
       "      <td>0.385046</td>\n",
       "      <td>0.000298</td>\n",
       "    </tr>\n",
       "  </tbody>\n",
       "</table>\n",
       "</div>"
      ],
      "text/plain": [
       "                p_hash                                 filename  \\\n",
       "3594  d016ef498d0ff843    image_picea_sitchensis_foliage_67.png   \n",
       "4115  c6ed6df5404b5903                image_sitka_spruce_68.png   \n",
       "1823  d51e3ded093a3514       image_thuja_plicata_foliage_27.png   \n",
       "3814  c4137fc4aab44be2           image_sitka_spruce_cones_2.png   \n",
       "4653  c288376e033fb28f  image_platanus_acerifolia_leaves_21.png   \n",
       "\n",
       "                   folder  prob_logl1_acer_macrophyllum  \\\n",
       "3594     picea_sitchensis                      0.000636   \n",
       "4115     picea_sitchensis                      0.007013   \n",
       "1823        thuja_plicata                      0.000086   \n",
       "3814     picea_sitchensis                      0.000026   \n",
       "4653  platanus_acerifolia                      0.614655   \n",
       "\n",
       "      prob_logl1_picea_sitchensis  prob_logl1_platanus_acerifolia  \\\n",
       "3594                 9.992721e-01                        0.000008   \n",
       "4115                 9.132217e-01                        0.000963   \n",
       "1823                 2.469653e-02                        0.000568   \n",
       "3814                 9.877697e-01                        0.000041   \n",
       "4653                 3.186668e-07                        0.385046   \n",
       "\n",
       "      prob_logl1_thuja_plicata  \n",
       "3594                  0.000083  \n",
       "4115                  0.078803  \n",
       "1823                  0.974650  \n",
       "3814                  0.012163  \n",
       "4653                  0.000298  "
      ]
     },
     "execution_count": 124,
     "metadata": {},
     "output_type": "execute_result"
    }
   ],
   "source": [
    "llog_pred = get_predictions(features_4species_df, X_test.index, non_feature_columns, llog_model, 'prob_logl1')\n",
    "llog_pred.head()"
   ]
  },
  {
   "cell_type": "code",
   "execution_count": 125,
   "metadata": {},
   "outputs": [
    {
     "data": {
      "text/plain": [
       "GradientBoostingClassifier(criterion='friedman_mse', init=None,\n",
       "              learning_rate=0.05, loss='deviance', max_depth=5,\n",
       "              max_features='auto', max_leaf_nodes=None,\n",
       "              min_impurity_decrease=0.0, min_impurity_split=None,\n",
       "              min_samples_leaf=1, min_samples_split=2,\n",
       "              min_weight_fraction_leaf=0.0, n_estimators=250,\n",
       "              presort='auto', random_state=None, subsample=0.5, verbose=1,\n",
       "              warm_start=False)"
      ]
     },
     "execution_count": 125,
     "metadata": {},
     "output_type": "execute_result"
    }
   ],
   "source": [
    "gb_model"
   ]
  },
  {
   "cell_type": "code",
   "execution_count": 126,
   "metadata": {},
   "outputs": [
    {
     "data": {
      "text/html": [
       "<div>\n",
       "<style scoped>\n",
       "    .dataframe tbody tr th:only-of-type {\n",
       "        vertical-align: middle;\n",
       "    }\n",
       "\n",
       "    .dataframe tbody tr th {\n",
       "        vertical-align: top;\n",
       "    }\n",
       "\n",
       "    .dataframe thead th {\n",
       "        text-align: right;\n",
       "    }\n",
       "</style>\n",
       "<table border=\"1\" class=\"dataframe\">\n",
       "  <thead>\n",
       "    <tr style=\"text-align: right;\">\n",
       "      <th></th>\n",
       "      <th>p_hash</th>\n",
       "      <th>filename</th>\n",
       "      <th>folder</th>\n",
       "      <th>prob_gb_lr05_d5_n250_acer_macrophyllum</th>\n",
       "      <th>prob_gb_lr05_d5_n250_picea_sitchensis</th>\n",
       "      <th>prob_gb_lr05_d5_n250_platanus_acerifolia</th>\n",
       "      <th>prob_gb_lr05_d5_n250_thuja_plicata</th>\n",
       "    </tr>\n",
       "  </thead>\n",
       "  <tbody>\n",
       "    <tr>\n",
       "      <th>3594</th>\n",
       "      <td>d016ef498d0ff843</td>\n",
       "      <td>image_picea_sitchensis_foliage_67.png</td>\n",
       "      <td>picea_sitchensis</td>\n",
       "      <td>0.003032</td>\n",
       "      <td>0.994430</td>\n",
       "      <td>0.000924</td>\n",
       "      <td>0.001614</td>\n",
       "    </tr>\n",
       "    <tr>\n",
       "      <th>4115</th>\n",
       "      <td>c6ed6df5404b5903</td>\n",
       "      <td>image_sitka_spruce_68.png</td>\n",
       "      <td>picea_sitchensis</td>\n",
       "      <td>0.008656</td>\n",
       "      <td>0.966893</td>\n",
       "      <td>0.015047</td>\n",
       "      <td>0.009404</td>\n",
       "    </tr>\n",
       "    <tr>\n",
       "      <th>1823</th>\n",
       "      <td>d51e3ded093a3514</td>\n",
       "      <td>image_thuja_plicata_foliage_27.png</td>\n",
       "      <td>thuja_plicata</td>\n",
       "      <td>0.023806</td>\n",
       "      <td>0.288250</td>\n",
       "      <td>0.007396</td>\n",
       "      <td>0.680548</td>\n",
       "    </tr>\n",
       "    <tr>\n",
       "      <th>3814</th>\n",
       "      <td>c4137fc4aab44be2</td>\n",
       "      <td>image_sitka_spruce_cones_2.png</td>\n",
       "      <td>picea_sitchensis</td>\n",
       "      <td>0.029675</td>\n",
       "      <td>0.841354</td>\n",
       "      <td>0.022465</td>\n",
       "      <td>0.106506</td>\n",
       "    </tr>\n",
       "    <tr>\n",
       "      <th>4653</th>\n",
       "      <td>c288376e033fb28f</td>\n",
       "      <td>image_platanus_acerifolia_leaves_21.png</td>\n",
       "      <td>platanus_acerifolia</td>\n",
       "      <td>0.945625</td>\n",
       "      <td>0.000842</td>\n",
       "      <td>0.052243</td>\n",
       "      <td>0.001291</td>\n",
       "    </tr>\n",
       "  </tbody>\n",
       "</table>\n",
       "</div>"
      ],
      "text/plain": [
       "                p_hash                                 filename  \\\n",
       "3594  d016ef498d0ff843    image_picea_sitchensis_foliage_67.png   \n",
       "4115  c6ed6df5404b5903                image_sitka_spruce_68.png   \n",
       "1823  d51e3ded093a3514       image_thuja_plicata_foliage_27.png   \n",
       "3814  c4137fc4aab44be2           image_sitka_spruce_cones_2.png   \n",
       "4653  c288376e033fb28f  image_platanus_acerifolia_leaves_21.png   \n",
       "\n",
       "                   folder  prob_gb_lr05_d5_n250_acer_macrophyllum  \\\n",
       "3594     picea_sitchensis                                0.003032   \n",
       "4115     picea_sitchensis                                0.008656   \n",
       "1823        thuja_plicata                                0.023806   \n",
       "3814     picea_sitchensis                                0.029675   \n",
       "4653  platanus_acerifolia                                0.945625   \n",
       "\n",
       "      prob_gb_lr05_d5_n250_picea_sitchensis  \\\n",
       "3594                               0.994430   \n",
       "4115                               0.966893   \n",
       "1823                               0.288250   \n",
       "3814                               0.841354   \n",
       "4653                               0.000842   \n",
       "\n",
       "      prob_gb_lr05_d5_n250_platanus_acerifolia  \\\n",
       "3594                                  0.000924   \n",
       "4115                                  0.015047   \n",
       "1823                                  0.007396   \n",
       "3814                                  0.022465   \n",
       "4653                                  0.052243   \n",
       "\n",
       "      prob_gb_lr05_d5_n250_thuja_plicata  \n",
       "3594                            0.001614  \n",
       "4115                            0.009404  \n",
       "1823                            0.680548  \n",
       "3814                            0.106506  \n",
       "4653                            0.001291  "
      ]
     },
     "execution_count": 126,
     "metadata": {},
     "output_type": "execute_result"
    }
   ],
   "source": [
    "#lr05: learning_rate=0.05\n",
    "#d5: max_depth=5\n",
    "#n250: n_estimators=250\n",
    "gb_pred = get_predictions(features_4species_df, X_test.index, non_feature_columns, gb_model, 'prob_gb_lr05_d5_n250')\n",
    "gb_pred.head()"
   ]
  },
  {
   "cell_type": "code",
   "execution_count": 129,
   "metadata": {},
   "outputs": [
    {
     "data": {
      "text/html": [
       "<div>\n",
       "<style scoped>\n",
       "    .dataframe tbody tr th:only-of-type {\n",
       "        vertical-align: middle;\n",
       "    }\n",
       "\n",
       "    .dataframe tbody tr th {\n",
       "        vertical-align: top;\n",
       "    }\n",
       "\n",
       "    .dataframe thead th {\n",
       "        text-align: right;\n",
       "    }\n",
       "</style>\n",
       "<table border=\"1\" class=\"dataframe\">\n",
       "  <thead>\n",
       "    <tr style=\"text-align: right;\">\n",
       "      <th></th>\n",
       "      <th>p_hash</th>\n",
       "      <th>filename</th>\n",
       "      <th>folder</th>\n",
       "      <th>prob_logl2_acer_macrophyllum</th>\n",
       "      <th>prob_logl2_picea_sitchensis</th>\n",
       "      <th>prob_logl2_platanus_acerifolia</th>\n",
       "      <th>prob_logl2_thuja_plicata</th>\n",
       "      <th>prob_logl1_acer_macrophyllum</th>\n",
       "      <th>prob_logl1_picea_sitchensis</th>\n",
       "      <th>prob_logl1_platanus_acerifolia</th>\n",
       "      <th>prob_logl1_thuja_plicata</th>\n",
       "      <th>prob_gb_lr05_d5_n250_acer_macrophyllum</th>\n",
       "      <th>prob_gb_lr05_d5_n250_picea_sitchensis</th>\n",
       "      <th>prob_gb_lr05_d5_n250_platanus_acerifolia</th>\n",
       "      <th>prob_gb_lr05_d5_n250_thuja_plicata</th>\n",
       "    </tr>\n",
       "  </thead>\n",
       "  <tbody>\n",
       "    <tr>\n",
       "      <th>0</th>\n",
       "      <td>d016ef498d0ff843</td>\n",
       "      <td>image_picea_sitchensis_foliage_67.png</td>\n",
       "      <td>picea_sitchensis</td>\n",
       "      <td>0.001694</td>\n",
       "      <td>0.996650</td>\n",
       "      <td>0.000074</td>\n",
       "      <td>0.001582</td>\n",
       "      <td>0.000636</td>\n",
       "      <td>9.992721e-01</td>\n",
       "      <td>0.000008</td>\n",
       "      <td>0.000083</td>\n",
       "      <td>0.003032</td>\n",
       "      <td>0.994430</td>\n",
       "      <td>0.000924</td>\n",
       "      <td>0.001614</td>\n",
       "    </tr>\n",
       "    <tr>\n",
       "      <th>1</th>\n",
       "      <td>c6ed6df5404b5903</td>\n",
       "      <td>image_sitka_spruce_68.png</td>\n",
       "      <td>picea_sitchensis</td>\n",
       "      <td>0.017311</td>\n",
       "      <td>0.971396</td>\n",
       "      <td>0.002182</td>\n",
       "      <td>0.009111</td>\n",
       "      <td>0.007013</td>\n",
       "      <td>9.132217e-01</td>\n",
       "      <td>0.000963</td>\n",
       "      <td>0.078803</td>\n",
       "      <td>0.008656</td>\n",
       "      <td>0.966893</td>\n",
       "      <td>0.015047</td>\n",
       "      <td>0.009404</td>\n",
       "    </tr>\n",
       "    <tr>\n",
       "      <th>2</th>\n",
       "      <td>d51e3ded093a3514</td>\n",
       "      <td>image_thuja_plicata_foliage_27.png</td>\n",
       "      <td>thuja_plicata</td>\n",
       "      <td>0.001150</td>\n",
       "      <td>0.020558</td>\n",
       "      <td>0.000543</td>\n",
       "      <td>0.977749</td>\n",
       "      <td>0.000086</td>\n",
       "      <td>2.469653e-02</td>\n",
       "      <td>0.000568</td>\n",
       "      <td>0.974650</td>\n",
       "      <td>0.023806</td>\n",
       "      <td>0.288250</td>\n",
       "      <td>0.007396</td>\n",
       "      <td>0.680548</td>\n",
       "    </tr>\n",
       "    <tr>\n",
       "      <th>3</th>\n",
       "      <td>c4137fc4aab44be2</td>\n",
       "      <td>image_sitka_spruce_cones_2.png</td>\n",
       "      <td>picea_sitchensis</td>\n",
       "      <td>0.000639</td>\n",
       "      <td>0.895768</td>\n",
       "      <td>0.000807</td>\n",
       "      <td>0.102785</td>\n",
       "      <td>0.000026</td>\n",
       "      <td>9.877697e-01</td>\n",
       "      <td>0.000041</td>\n",
       "      <td>0.012163</td>\n",
       "      <td>0.029675</td>\n",
       "      <td>0.841354</td>\n",
       "      <td>0.022465</td>\n",
       "      <td>0.106506</td>\n",
       "    </tr>\n",
       "    <tr>\n",
       "      <th>4</th>\n",
       "      <td>c288376e033fb28f</td>\n",
       "      <td>image_platanus_acerifolia_leaves_21.png</td>\n",
       "      <td>platanus_acerifolia</td>\n",
       "      <td>0.676151</td>\n",
       "      <td>0.000009</td>\n",
       "      <td>0.322795</td>\n",
       "      <td>0.001045</td>\n",
       "      <td>0.614655</td>\n",
       "      <td>3.186668e-07</td>\n",
       "      <td>0.385046</td>\n",
       "      <td>0.000298</td>\n",
       "      <td>0.945625</td>\n",
       "      <td>0.000842</td>\n",
       "      <td>0.052243</td>\n",
       "      <td>0.001291</td>\n",
       "    </tr>\n",
       "  </tbody>\n",
       "</table>\n",
       "</div>"
      ],
      "text/plain": [
       "             p_hash                                 filename  \\\n",
       "0  d016ef498d0ff843    image_picea_sitchensis_foliage_67.png   \n",
       "1  c6ed6df5404b5903                image_sitka_spruce_68.png   \n",
       "2  d51e3ded093a3514       image_thuja_plicata_foliage_27.png   \n",
       "3  c4137fc4aab44be2           image_sitka_spruce_cones_2.png   \n",
       "4  c288376e033fb28f  image_platanus_acerifolia_leaves_21.png   \n",
       "\n",
       "                folder  prob_logl2_acer_macrophyllum  \\\n",
       "0     picea_sitchensis                      0.001694   \n",
       "1     picea_sitchensis                      0.017311   \n",
       "2        thuja_plicata                      0.001150   \n",
       "3     picea_sitchensis                      0.000639   \n",
       "4  platanus_acerifolia                      0.676151   \n",
       "\n",
       "   prob_logl2_picea_sitchensis  prob_logl2_platanus_acerifolia  \\\n",
       "0                     0.996650                        0.000074   \n",
       "1                     0.971396                        0.002182   \n",
       "2                     0.020558                        0.000543   \n",
       "3                     0.895768                        0.000807   \n",
       "4                     0.000009                        0.322795   \n",
       "\n",
       "   prob_logl2_thuja_plicata  prob_logl1_acer_macrophyllum  \\\n",
       "0                  0.001582                      0.000636   \n",
       "1                  0.009111                      0.007013   \n",
       "2                  0.977749                      0.000086   \n",
       "3                  0.102785                      0.000026   \n",
       "4                  0.001045                      0.614655   \n",
       "\n",
       "   prob_logl1_picea_sitchensis  prob_logl1_platanus_acerifolia  \\\n",
       "0                 9.992721e-01                        0.000008   \n",
       "1                 9.132217e-01                        0.000963   \n",
       "2                 2.469653e-02                        0.000568   \n",
       "3                 9.877697e-01                        0.000041   \n",
       "4                 3.186668e-07                        0.385046   \n",
       "\n",
       "   prob_logl1_thuja_plicata  prob_gb_lr05_d5_n250_acer_macrophyllum  \\\n",
       "0                  0.000083                                0.003032   \n",
       "1                  0.078803                                0.008656   \n",
       "2                  0.974650                                0.023806   \n",
       "3                  0.012163                                0.029675   \n",
       "4                  0.000298                                0.945625   \n",
       "\n",
       "   prob_gb_lr05_d5_n250_picea_sitchensis  \\\n",
       "0                               0.994430   \n",
       "1                               0.966893   \n",
       "2                               0.288250   \n",
       "3                               0.841354   \n",
       "4                               0.000842   \n",
       "\n",
       "   prob_gb_lr05_d5_n250_platanus_acerifolia  \\\n",
       "0                                  0.000924   \n",
       "1                                  0.015047   \n",
       "2                                  0.007396   \n",
       "3                                  0.022465   \n",
       "4                                  0.052243   \n",
       "\n",
       "   prob_gb_lr05_d5_n250_thuja_plicata  \n",
       "0                            0.001614  \n",
       "1                            0.009404  \n",
       "2                            0.680548  \n",
       "3                            0.106506  \n",
       "4                            0.001291  "
      ]
     },
     "execution_count": 129,
     "metadata": {},
     "output_type": "execute_result"
    }
   ],
   "source": [
    "test_images = log_pred.merge(llog_pred, on=non_feature_columns).merge(gb_pred, on=non_feature_columns)\n",
    "test_images.head()"
   ]
  },
  {
   "cell_type": "code",
   "execution_count": 130,
   "metadata": {
    "collapsed": true
   },
   "outputs": [],
   "source": [
    "test_images_path = os.path.join(project_path, 'data', 'predictions_4species_test_20180520.csv')\n",
    "im.export_df(test_images, test_images_path)"
   ]
  },
  {
   "cell_type": "code",
   "execution_count": 131,
   "metadata": {},
   "outputs": [
    {
     "name": "stdout",
     "output_type": "stream",
     "text": [
      "total 391408\r\n",
      "-rw-r--r--  1 ndbs  staff  64733256 May 15 22:05 features_3species_20180514.csv\r\n",
      "-rw-r--r--  1 ndbs  staff  45107453 May 18 21:11 features_alnus_thuja.csv\r\n",
      "-rw-r--r--  1 ndbs  staff  45553703 May 18 21:25 features_cedrus_pseudotsuga.csv\r\n",
      "-rw-r--r--  1 ndbs  staff     25651 Feb  7 16:01 gb_confusion.png\r\n",
      "-rw-r--r--  1 ndbs  staff   3105147 Feb  1 16:44 gb_model_jan30.pkl\r\n",
      "-rw-r--r--  1 ndbs  staff    706729 May 18 20:15 image_log.csv\r\n",
      "-rw-r--r--  1 ndbs  staff    488281 Feb  5 00:30 image_log_20180204.csv\r\n",
      "-rw-r--r--  1 ndbs  staff    711665 Feb  5 22:03 image_log_20180205.csv\r\n",
      "-rw-r--r--  1 ndbs  staff    707031 May 11 18:34 image_log_20180511.csv\r\n",
      "-rw-r--r--  1 ndbs  staff       611 May 18 20:15 image_syncs.csv\r\n",
      "-rw-r--r--  1 ndbs  staff       141 Feb  4 22:51 image_syncs_20180204.csv\r\n",
      "-rw-r--r--  1 ndbs  staff       427 Feb  5 22:03 image_syncs_20180205.csv\r\n",
      "-rw-r--r--  1 ndbs  staff       324 May 11 18:34 image_syncs_20180511.csv\r\n",
      "-rw-r--r--  1 ndbs  staff     82211 May 18 16:51 predictions_3species_test_20180518.csv\r\n",
      "-rw-r--r--  1 ndbs  staff    328985 May 18 16:51 predictions_3species_train_20180518.csv\r\n",
      "-rw-r--r--  1 ndbs  staff    140781 May 20 14:18 predictions_4species_test_20180520.csv\r\n",
      "-rw-r--r--  1 ndbs  staff     74715 Jan 30 12:03 tree_image_info.csv\r\n",
      "-rw-r--r--  1 ndbs  staff  37792669 Jan 30 11:46 tree_images.csv\r\n"
     ]
    }
   ],
   "source": [
    "!ls -l ../../data"
   ]
  },
  {
   "cell_type": "markdown",
   "metadata": {},
   "source": [
    "### Save the confusion matrices for the test set"
   ]
  },
  {
   "cell_type": "code",
   "execution_count": 134,
   "metadata": {},
   "outputs": [],
   "source": [
    "confusion_df_path = os.path.join(project_path, 'data', 'confusion_4species_logl2_20180520.csv')\n",
    "logeval.confusion_df(X_test, y_test).to_csv(confusion_df_path)"
   ]
  },
  {
   "cell_type": "code",
   "execution_count": 138,
   "metadata": {
    "collapsed": true
   },
   "outputs": [],
   "source": [
    "confusion_df_path = os.path.join(project_path, 'data', 'confusion_4species_logl1_20180520.csv')\n",
    "llogeval.confusion_df(X_test, y_test).to_csv(confusion_df_path)"
   ]
  },
  {
   "cell_type": "code",
   "execution_count": 139,
   "metadata": {
    "collapsed": true
   },
   "outputs": [],
   "source": [
    "confusion_df_path = os.path.join(project_path, 'data', 'confusion_4species_gb_lr05_d5_n250_20180520.csv')\n",
    "gbeval.confusion_df(X_test, y_test).to_csv(confusion_df_path)"
   ]
  },
  {
   "cell_type": "code",
   "execution_count": 140,
   "metadata": {},
   "outputs": [
    {
     "name": "stdout",
     "output_type": "stream",
     "text": [
      "total 391432\r\n",
      "-rw-r--r--  1 ndbs  staff       249 May 20 14:30 confusion_4species_gb_lr05_d5_n250_20180520.csv\r\n",
      "-rw-r--r--  1 ndbs  staff       248 May 20 14:29 confusion_4species_logl1_20180520.csv\r\n",
      "-rw-r--r--  1 ndbs  staff       248 May 20 14:24 confusion_4species_logl2_20180520.csv\r\n",
      "-rw-r--r--  1 ndbs  staff  64733256 May 15 22:05 features_3species_20180514.csv\r\n",
      "-rw-r--r--  1 ndbs  staff  45107453 May 18 21:11 features_alnus_thuja.csv\r\n",
      "-rw-r--r--  1 ndbs  staff  45553703 May 18 21:25 features_cedrus_pseudotsuga.csv\r\n",
      "-rw-r--r--  1 ndbs  staff     25651 Feb  7 16:01 gb_confusion.png\r\n",
      "-rw-r--r--  1 ndbs  staff   3105147 Feb  1 16:44 gb_model_jan30.pkl\r\n",
      "-rw-r--r--  1 ndbs  staff    706729 May 18 20:15 image_log.csv\r\n",
      "-rw-r--r--  1 ndbs  staff    488281 Feb  5 00:30 image_log_20180204.csv\r\n",
      "-rw-r--r--  1 ndbs  staff    711665 Feb  5 22:03 image_log_20180205.csv\r\n",
      "-rw-r--r--  1 ndbs  staff    707031 May 11 18:34 image_log_20180511.csv\r\n",
      "-rw-r--r--  1 ndbs  staff       611 May 18 20:15 image_syncs.csv\r\n",
      "-rw-r--r--  1 ndbs  staff       141 Feb  4 22:51 image_syncs_20180204.csv\r\n",
      "-rw-r--r--  1 ndbs  staff       427 Feb  5 22:03 image_syncs_20180205.csv\r\n",
      "-rw-r--r--  1 ndbs  staff       324 May 11 18:34 image_syncs_20180511.csv\r\n",
      "-rw-r--r--  1 ndbs  staff     82211 May 18 16:51 predictions_3species_test_20180518.csv\r\n",
      "-rw-r--r--  1 ndbs  staff    328985 May 18 16:51 predictions_3species_train_20180518.csv\r\n",
      "-rw-r--r--  1 ndbs  staff    140781 May 20 14:18 predictions_4species_test_20180520.csv\r\n",
      "-rw-r--r--  1 ndbs  staff     74715 Jan 30 12:03 tree_image_info.csv\r\n",
      "-rw-r--r--  1 ndbs  staff  37792669 Jan 30 11:46 tree_images.csv\r\n"
     ]
    }
   ],
   "source": [
    "!ls -l ../../data"
   ]
  },
  {
   "cell_type": "markdown",
   "metadata": {},
   "source": [
    "## Ok, might as well save the predicted probabilities for the training set too"
   ]
  },
  {
   "cell_type": "code",
   "execution_count": 141,
   "metadata": {},
   "outputs": [
    {
     "data": {
      "text/html": [
       "<div>\n",
       "<style scoped>\n",
       "    .dataframe tbody tr th:only-of-type {\n",
       "        vertical-align: middle;\n",
       "    }\n",
       "\n",
       "    .dataframe tbody tr th {\n",
       "        vertical-align: top;\n",
       "    }\n",
       "\n",
       "    .dataframe thead th {\n",
       "        text-align: right;\n",
       "    }\n",
       "</style>\n",
       "<table border=\"1\" class=\"dataframe\">\n",
       "  <thead>\n",
       "    <tr style=\"text-align: right;\">\n",
       "      <th></th>\n",
       "      <th>p_hash</th>\n",
       "      <th>filename</th>\n",
       "      <th>folder</th>\n",
       "      <th>prob_logl2_acer_macrophyllum</th>\n",
       "      <th>prob_logl2_picea_sitchensis</th>\n",
       "      <th>prob_logl2_platanus_acerifolia</th>\n",
       "      <th>prob_logl2_thuja_plicata</th>\n",
       "      <th>prob_logl1_acer_macrophyllum</th>\n",
       "      <th>prob_logl1_picea_sitchensis</th>\n",
       "      <th>prob_logl1_platanus_acerifolia</th>\n",
       "      <th>prob_logl1_thuja_plicata</th>\n",
       "      <th>prob_gb_lr05_d5_n250_acer_macrophyllum</th>\n",
       "      <th>prob_gb_lr05_d5_n250_picea_sitchensis</th>\n",
       "      <th>prob_gb_lr05_d5_n250_platanus_acerifolia</th>\n",
       "      <th>prob_gb_lr05_d5_n250_thuja_plicata</th>\n",
       "    </tr>\n",
       "  </thead>\n",
       "  <tbody>\n",
       "    <tr>\n",
       "      <th>0</th>\n",
       "      <td>b5f0c24faf88da88</td>\n",
       "      <td>image_western_red_cedar_tree_25.png</td>\n",
       "      <td>thuja_plicata</td>\n",
       "      <td>0.058773</td>\n",
       "      <td>0.023097</td>\n",
       "      <td>0.003238</td>\n",
       "      <td>0.914892</td>\n",
       "      <td>0.031870</td>\n",
       "      <td>0.005574</td>\n",
       "      <td>0.000371</td>\n",
       "      <td>0.962185</td>\n",
       "      <td>0.009670</td>\n",
       "      <td>0.005551</td>\n",
       "      <td>0.002658</td>\n",
       "      <td>0.982120</td>\n",
       "    </tr>\n",
       "    <tr>\n",
       "      <th>1</th>\n",
       "      <td>d1df22e5a9830f0b</td>\n",
       "      <td>image_sitka_spruce_cones_34.png</td>\n",
       "      <td>picea_sitchensis</td>\n",
       "      <td>0.007876</td>\n",
       "      <td>0.951916</td>\n",
       "      <td>0.000122</td>\n",
       "      <td>0.040086</td>\n",
       "      <td>0.001791</td>\n",
       "      <td>0.963277</td>\n",
       "      <td>0.000011</td>\n",
       "      <td>0.034920</td>\n",
       "      <td>0.002025</td>\n",
       "      <td>0.992441</td>\n",
       "      <td>0.001017</td>\n",
       "      <td>0.004517</td>\n",
       "    </tr>\n",
       "    <tr>\n",
       "      <th>2</th>\n",
       "      <td>e37e78b80974d047</td>\n",
       "      <td>image_platanus_acerifolia_bark_44.png</td>\n",
       "      <td>platanus_acerifolia</td>\n",
       "      <td>0.000110</td>\n",
       "      <td>0.000350</td>\n",
       "      <td>0.998636</td>\n",
       "      <td>0.000904</td>\n",
       "      <td>0.000011</td>\n",
       "      <td>0.000027</td>\n",
       "      <td>0.999952</td>\n",
       "      <td>0.000010</td>\n",
       "      <td>0.001969</td>\n",
       "      <td>0.002294</td>\n",
       "      <td>0.994799</td>\n",
       "      <td>0.000939</td>\n",
       "    </tr>\n",
       "    <tr>\n",
       "      <th>3</th>\n",
       "      <td>eaf91462ed15885e</td>\n",
       "      <td>image_platanus_acerifolia_in_winter_8.png</td>\n",
       "      <td>platanus_acerifolia</td>\n",
       "      <td>0.049685</td>\n",
       "      <td>0.013658</td>\n",
       "      <td>0.911503</td>\n",
       "      <td>0.025154</td>\n",
       "      <td>0.054382</td>\n",
       "      <td>0.011620</td>\n",
       "      <td>0.925156</td>\n",
       "      <td>0.008841</td>\n",
       "      <td>0.005343</td>\n",
       "      <td>0.001320</td>\n",
       "      <td>0.991771</td>\n",
       "      <td>0.001566</td>\n",
       "    </tr>\n",
       "    <tr>\n",
       "      <th>4</th>\n",
       "      <td>88ce0edfd6145371</td>\n",
       "      <td>image_bigleaf_maple_forest_99.png</td>\n",
       "      <td>acer_macrophyllum</td>\n",
       "      <td>0.727375</td>\n",
       "      <td>0.255973</td>\n",
       "      <td>0.000034</td>\n",
       "      <td>0.016617</td>\n",
       "      <td>0.840962</td>\n",
       "      <td>0.155056</td>\n",
       "      <td>0.000001</td>\n",
       "      <td>0.003980</td>\n",
       "      <td>0.970209</td>\n",
       "      <td>0.014938</td>\n",
       "      <td>0.002059</td>\n",
       "      <td>0.012794</td>\n",
       "    </tr>\n",
       "  </tbody>\n",
       "</table>\n",
       "</div>"
      ],
      "text/plain": [
       "             p_hash                                   filename  \\\n",
       "0  b5f0c24faf88da88        image_western_red_cedar_tree_25.png   \n",
       "1  d1df22e5a9830f0b            image_sitka_spruce_cones_34.png   \n",
       "2  e37e78b80974d047      image_platanus_acerifolia_bark_44.png   \n",
       "3  eaf91462ed15885e  image_platanus_acerifolia_in_winter_8.png   \n",
       "4  88ce0edfd6145371          image_bigleaf_maple_forest_99.png   \n",
       "\n",
       "                folder  prob_logl2_acer_macrophyllum  \\\n",
       "0        thuja_plicata                      0.058773   \n",
       "1     picea_sitchensis                      0.007876   \n",
       "2  platanus_acerifolia                      0.000110   \n",
       "3  platanus_acerifolia                      0.049685   \n",
       "4    acer_macrophyllum                      0.727375   \n",
       "\n",
       "   prob_logl2_picea_sitchensis  prob_logl2_platanus_acerifolia  \\\n",
       "0                     0.023097                        0.003238   \n",
       "1                     0.951916                        0.000122   \n",
       "2                     0.000350                        0.998636   \n",
       "3                     0.013658                        0.911503   \n",
       "4                     0.255973                        0.000034   \n",
       "\n",
       "   prob_logl2_thuja_plicata  prob_logl1_acer_macrophyllum  \\\n",
       "0                  0.914892                      0.031870   \n",
       "1                  0.040086                      0.001791   \n",
       "2                  0.000904                      0.000011   \n",
       "3                  0.025154                      0.054382   \n",
       "4                  0.016617                      0.840962   \n",
       "\n",
       "   prob_logl1_picea_sitchensis  prob_logl1_platanus_acerifolia  \\\n",
       "0                     0.005574                        0.000371   \n",
       "1                     0.963277                        0.000011   \n",
       "2                     0.000027                        0.999952   \n",
       "3                     0.011620                        0.925156   \n",
       "4                     0.155056                        0.000001   \n",
       "\n",
       "   prob_logl1_thuja_plicata  prob_gb_lr05_d5_n250_acer_macrophyllum  \\\n",
       "0                  0.962185                                0.009670   \n",
       "1                  0.034920                                0.002025   \n",
       "2                  0.000010                                0.001969   \n",
       "3                  0.008841                                0.005343   \n",
       "4                  0.003980                                0.970209   \n",
       "\n",
       "   prob_gb_lr05_d5_n250_picea_sitchensis  \\\n",
       "0                               0.005551   \n",
       "1                               0.992441   \n",
       "2                               0.002294   \n",
       "3                               0.001320   \n",
       "4                               0.014938   \n",
       "\n",
       "   prob_gb_lr05_d5_n250_platanus_acerifolia  \\\n",
       "0                                  0.002658   \n",
       "1                                  0.001017   \n",
       "2                                  0.994799   \n",
       "3                                  0.991771   \n",
       "4                                  0.002059   \n",
       "\n",
       "   prob_gb_lr05_d5_n250_thuja_plicata  \n",
       "0                            0.982120  \n",
       "1                            0.004517  \n",
       "2                            0.000939  \n",
       "3                            0.001566  \n",
       "4                            0.012794  "
      ]
     },
     "execution_count": 141,
     "metadata": {},
     "output_type": "execute_result"
    }
   ],
   "source": [
    "log_pred = get_predictions(features_4species_df, X_train.index, non_feature_columns, log_model, 'prob_logl2')\n",
    "llog_pred = get_predictions(features_4species_df, X_train.index, non_feature_columns, llog_model, 'prob_logl1')\n",
    "gb_pred = get_predictions(features_4species_df, X_train.index, non_feature_columns, gb_model, 'prob_gb_lr05_d5_n250')\n",
    "\n",
    "train_images = log_pred.merge(llog_pred, on=non_feature_columns).merge(gb_pred, on=non_feature_columns)\n",
    "train_images.head()"
   ]
  },
  {
   "cell_type": "code",
   "execution_count": 142,
   "metadata": {},
   "outputs": [
    {
     "name": "stdout",
     "output_type": "stream",
     "text": [
      "<class 'pandas.core.frame.DataFrame'>\n",
      "Int64Index: 1771 entries, 0 to 1770\n",
      "Data columns (total 15 columns):\n",
      "p_hash                                      1771 non-null object\n",
      "filename                                    1771 non-null object\n",
      "folder                                      1771 non-null object\n",
      "prob_logl2_acer_macrophyllum                1771 non-null float64\n",
      "prob_logl2_picea_sitchensis                 1771 non-null float64\n",
      "prob_logl2_platanus_acerifolia              1771 non-null float64\n",
      "prob_logl2_thuja_plicata                    1771 non-null float64\n",
      "prob_logl1_acer_macrophyllum                1771 non-null float64\n",
      "prob_logl1_picea_sitchensis                 1771 non-null float64\n",
      "prob_logl1_platanus_acerifolia              1771 non-null float64\n",
      "prob_logl1_thuja_plicata                    1771 non-null float64\n",
      "prob_gb_lr05_d5_n250_acer_macrophyllum      1771 non-null float64\n",
      "prob_gb_lr05_d5_n250_picea_sitchensis       1771 non-null float64\n",
      "prob_gb_lr05_d5_n250_platanus_acerifolia    1771 non-null float64\n",
      "prob_gb_lr05_d5_n250_thuja_plicata          1771 non-null float64\n",
      "dtypes: float64(12), object(3)\n",
      "memory usage: 221.4+ KB\n"
     ]
    }
   ],
   "source": [
    "train_images.info()"
   ]
  },
  {
   "cell_type": "code",
   "execution_count": 143,
   "metadata": {
    "collapsed": true
   },
   "outputs": [],
   "source": [
    "train_images_path = os.path.join(project_path, 'data', 'predictions_4species_train_20180520.csv')\n",
    "im.export_df(train_images, train_images_path)"
   ]
  },
  {
   "cell_type": "code",
   "execution_count": 144,
   "metadata": {},
   "outputs": [
    {
     "name": "stdout",
     "output_type": "stream",
     "text": [
      "total 392544\r\n",
      "-rw-r--r--  1 ndbs  staff       249 May 20 14:30 confusion_4species_gb_lr05_d5_n250_20180520.csv\r\n",
      "-rw-r--r--  1 ndbs  staff       248 May 20 14:29 confusion_4species_logl1_20180520.csv\r\n",
      "-rw-r--r--  1 ndbs  staff       248 May 20 14:24 confusion_4species_logl2_20180520.csv\r\n",
      "-rw-r--r--  1 ndbs  staff  64733256 May 15 22:05 features_3species_20180514.csv\r\n",
      "-rw-r--r--  1 ndbs  staff  45107453 May 18 21:11 features_alnus_thuja.csv\r\n",
      "-rw-r--r--  1 ndbs  staff  45553703 May 18 21:25 features_cedrus_pseudotsuga.csv\r\n",
      "-rw-r--r--  1 ndbs  staff     25651 Feb  7 16:01 gb_confusion.png\r\n",
      "-rw-r--r--  1 ndbs  staff   3105147 Feb  1 16:44 gb_model_jan30.pkl\r\n",
      "-rw-r--r--  1 ndbs  staff    706729 May 18 20:15 image_log.csv\r\n",
      "-rw-r--r--  1 ndbs  staff    488281 Feb  5 00:30 image_log_20180204.csv\r\n",
      "-rw-r--r--  1 ndbs  staff    711665 Feb  5 22:03 image_log_20180205.csv\r\n",
      "-rw-r--r--  1 ndbs  staff    707031 May 11 18:34 image_log_20180511.csv\r\n",
      "-rw-r--r--  1 ndbs  staff       611 May 18 20:15 image_syncs.csv\r\n",
      "-rw-r--r--  1 ndbs  staff       141 Feb  4 22:51 image_syncs_20180204.csv\r\n",
      "-rw-r--r--  1 ndbs  staff       427 Feb  5 22:03 image_syncs_20180205.csv\r\n",
      "-rw-r--r--  1 ndbs  staff       324 May 11 18:34 image_syncs_20180511.csv\r\n",
      "-rw-r--r--  1 ndbs  staff     82211 May 18 16:51 predictions_3species_test_20180518.csv\r\n",
      "-rw-r--r--  1 ndbs  staff    328985 May 18 16:51 predictions_3species_train_20180518.csv\r\n",
      "-rw-r--r--  1 ndbs  staff    140781 May 20 14:18 predictions_4species_test_20180520.csv\r\n",
      "-rw-r--r--  1 ndbs  staff    567883 May 20 14:36 predictions_4species_train_20180520.csv\r\n",
      "-rw-r--r--  1 ndbs  staff     74715 Jan 30 12:03 tree_image_info.csv\r\n",
      "-rw-r--r--  1 ndbs  staff  37792669 Jan 30 11:46 tree_images.csv\r\n"
     ]
    }
   ],
   "source": [
    "!ls -l ../../data"
   ]
  },
  {
   "cell_type": "markdown",
   "metadata": {},
   "source": [
    "## Create and save a nice confusion matrix\n",
    "\n",
    "Monday, May 21, 2018"
   ]
  },
  {
   "cell_type": "code",
   "execution_count": 152,
   "metadata": {
    "collapsed": true
   },
   "outputs": [],
   "source": [
    "import matplotlib.pyplot as plt\n",
    "%matplotlib inline"
   ]
  },
  {
   "cell_type": "code",
   "execution_count": 154,
   "metadata": {
    "collapsed": true
   },
   "outputs": [],
   "source": [
    "species = ['Maple', 'Spruce', 'Plane', 'Red-cedar']\n",
    "confusion_df = logeval.confusion_df(X_test, y_test)"
   ]
  },
  {
   "cell_type": "code",
   "execution_count": 157,
   "metadata": {},
   "outputs": [
    {
     "name": "stdout",
     "output_type": "stream",
     "text": [
      "Confusion matrix, without normalization\n",
      "[[68  4 14 10]\n",
      " [ 5 89  1 15]\n",
      " [27  2 87  4]\n",
      " [ 9 16  2 90]]\n"
     ]
    },
    {
     "data": {
      "image/png": "[encoded data removed]",
      "text/plain": [
       "<matplotlib.figure.Figure at 0x111db6c18>"
      ]
     },
     "metadata": {},
     "output_type": "display_data"
    }
   ],
   "source": [
    "plt.figure(figsize=(8,6))\n",
    "meval.plot_confusion_matrix(confusion_df.values, species, cmap='YlGn', colorbar=True)\n",
    "plt.savefig(project_path + '/data/confusion_4species.png',bbox_inches=\"tight\")\n",
    "plt.show()"
   ]
  },
  {
   "cell_type": "code",
   "execution_count": null,
   "metadata": {
    "collapsed": true
   },
   "outputs": [],
   "source": []
  }
 ],
 "metadata": {
  "kernelspec": {
   "display_name": "Python 3",
   "language": "python",
   "name": "python3"
  },
  "language_info": {
   "codemirror_mode": {
    "name": "ipython",
    "version": 3
   },
   "file_extension": ".py",
   "mimetype": "text/x-python",
   "name": "python",
   "nbconvert_exporter": "python",
   "pygments_lexer": "ipython3",
   "version": "3.6.3"
  }
 },
 "nbformat": 4,
 "nbformat_minor": 2
}
