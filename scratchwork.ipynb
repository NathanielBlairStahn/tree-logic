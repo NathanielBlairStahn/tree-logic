{
 "cells": [
  {
   "cell_type": "code",
   "execution_count": null,
   "metadata": {
    "collapsed": true
   },
   "outputs": [],
   "source": [
    "import numpy as np\n",
    "import pandas as pd\n",
    "import matplotlib.pyplot as plt\n",
    "%matplotlib inline\n",
    "\n",
    "from keras.preprocessing import image\n",
    "\n",
    "from collections import defaultdict\n",
    "\n",
    "import time\n",
    "import os\n",
    "from PIL import Image\n",
    "#Hash images using the ImageHash library\n",
    "#https://pypi.python.org/pypi/ImageHash\n",
    "import imagehash\n",
    "\n",
    "from sklearn.model_selection import train_test_split\n",
    "from sklearn.linear_model import LogisticRegression\n",
    "from sklearn.ensemble import RandomForestClassifier, GradientBoostingClassifier\n",
    "from sklearn.metrics import log_loss, accuracy_score, confusion_matrix"
   ]
  },
  {
   "cell_type": "code",
   "execution_count": 6,
   "metadata": {},
   "outputs": [
    {
     "name": "stdout",
     "output_type": "stream",
     "text": [
      "The autoreload extension is already loaded. To reload it, use:\n",
      "  %reload_ext autoreload\n"
     ]
    }
   ],
   "source": [
    "%load_ext autoreload\n",
    "%autoreload 2"
   ]
  },
  {
   "cell_type": "code",
   "execution_count": 50,
   "metadata": {},
   "outputs": [],
   "source": [
    "from src.image_manager import ImageManager"
   ]
  },
  {
   "cell_type": "code",
   "execution_count": 2,
   "metadata": {},
   "outputs": [
    {
     "data": {
      "text/plain": [
       "1517720559.493251"
      ]
     },
     "execution_count": 2,
     "metadata": {},
     "output_type": "execute_result"
    }
   ],
   "source": [
    "time.time()"
   ]
  },
  {
   "cell_type": "code",
   "execution_count": 3,
   "metadata": {},
   "outputs": [
    {
     "data": {
      "text/plain": [
       "1517720566.3615081"
      ]
     },
     "execution_count": 3,
     "metadata": {},
     "output_type": "execute_result"
    }
   ],
   "source": [
    "time.time()"
   ]
  },
  {
   "cell_type": "code",
   "execution_count": 4,
   "metadata": {},
   "outputs": [
    {
     "data": {
      "text/plain": [
       "float"
      ]
     },
     "execution_count": 4,
     "metadata": {},
     "output_type": "execute_result"
    }
   ],
   "source": [
    "type(time.time())"
   ]
  },
  {
   "cell_type": "code",
   "execution_count": 5,
   "metadata": {},
   "outputs": [
    {
     "data": {
      "text/plain": [
       "['a']"
      ]
     },
     "execution_count": 5,
     "metadata": {},
     "output_type": "execute_result"
    }
   ],
   "source": [
    "lst = ['a', 'b', 'c']\n",
    "lst[0:1]"
   ]
  },
  {
   "cell_type": "code",
   "execution_count": 56,
   "metadata": {},
   "outputs": [
    {
     "name": "stdout",
     "output_type": "stream",
     "text": [
      "/Users/ndbs/tree-logic\r\n"
     ]
    }
   ],
   "source": [
    "!pwd"
   ]
  },
  {
   "cell_type": "code",
   "execution_count": 60,
   "metadata": {},
   "outputs": [
    {
     "name": "stdout",
     "output_type": "stream",
     "text": [
      "image_picea_sitchensis_0.png            image_sitka_spruce_68.png\r\n",
      "image_picea_sitchensis_1.png            image_sitka_spruce_69.png\r\n",
      "image_picea_sitchensis_16.png           image_sitka_spruce_7.png\r\n",
      "image_picea_sitchensis_17.png           image_sitka_spruce_70.png\r\n",
      "image_picea_sitchensis_19.png           image_sitka_spruce_71.png\r\n",
      "image_picea_sitchensis_2.png            image_sitka_spruce_72.png\r\n",
      "image_picea_sitchensis_20.png           image_sitka_spruce_73.png\r\n",
      "image_picea_sitchensis_22.png           image_sitka_spruce_74.png\r\n",
      "image_picea_sitchensis_24.png           image_sitka_spruce_75.png\r\n",
      "image_picea_sitchensis_25.png           image_sitka_spruce_76.png\r\n",
      "image_picea_sitchensis_26.png           image_sitka_spruce_77.png\r\n",
      "image_picea_sitchensis_27.png           image_sitka_spruce_79.png\r\n",
      "image_picea_sitchensis_3.png            image_sitka_spruce_8.png\r\n",
      "image_picea_sitchensis_30.png           image_sitka_spruce_80.png\r\n",
      "image_picea_sitchensis_31.png           image_sitka_spruce_85.png\r\n",
      "image_picea_sitchensis_32.png           image_sitka_spruce_88.png\r\n",
      "image_picea_sitchensis_33.png           image_sitka_spruce_89.png\r\n",
      "image_picea_sitchensis_34.png           image_sitka_spruce_9.png\r\n",
      "image_picea_sitchensis_35.png           image_sitka_spruce_90.png\r\n",
      "image_picea_sitchensis_36.png           image_sitka_spruce_91.png\r\n",
      "image_picea_sitchensis_37.png           image_sitka_spruce_92.png\r\n",
      "image_picea_sitchensis_40.png           image_sitka_spruce_94.png\r\n",
      "image_picea_sitchensis_44.png           image_sitka_spruce_98.png\r\n",
      "image_picea_sitchensis_45.png           image_sitka_spruce_99.png\r\n",
      "image_picea_sitchensis_46.png           image_sitka_spruce_branches_0.png\r\n",
      "image_picea_sitchensis_49.png           image_sitka_spruce_branches_10.png\r\n",
      "image_picea_sitchensis_5.png            image_sitka_spruce_branches_11.png\r\n",
      "image_picea_sitchensis_51.png           image_sitka_spruce_branches_12.png\r\n",
      "image_picea_sitchensis_52.png           image_sitka_spruce_branches_13.png\r\n",
      "image_picea_sitchensis_54.png           image_sitka_spruce_branches_14.png\r\n",
      "image_picea_sitchensis_55.png           image_sitka_spruce_branches_15.png\r\n",
      "image_picea_sitchensis_56.png           image_sitka_spruce_branches_16.png\r\n",
      "image_picea_sitchensis_57.png           image_sitka_spruce_branches_17.png\r\n",
      "image_picea_sitchensis_58.png           image_sitka_spruce_branches_18.png\r\n",
      "image_picea_sitchensis_59.png           image_sitka_spruce_branches_19.png\r\n",
      "image_picea_sitchensis_6.png            image_sitka_spruce_branches_20.png\r\n",
      "image_picea_sitchensis_63.png           image_sitka_spruce_branches_22.png\r\n",
      "image_picea_sitchensis_64.png           image_sitka_spruce_branches_23.png\r\n",
      "image_picea_sitchensis_66.png           image_sitka_spruce_branches_24.png\r\n",
      "image_picea_sitchensis_68.png           image_sitka_spruce_branches_25.png\r\n",
      "image_picea_sitchensis_69.png           image_sitka_spruce_branches_26.png\r\n",
      "image_picea_sitchensis_7.png            image_sitka_spruce_branches_27.png\r\n",
      "image_picea_sitchensis_73.png           image_sitka_spruce_branches_28.png\r\n",
      "image_picea_sitchensis_74.png           image_sitka_spruce_branches_29.png\r\n",
      "image_picea_sitchensis_75.png           image_sitka_spruce_branches_30.png\r\n",
      "image_picea_sitchensis_78.png           image_sitka_spruce_branches_31.png\r\n",
      "image_picea_sitchensis_79.png           image_sitka_spruce_branches_32.png\r\n",
      "image_picea_sitchensis_80.png           image_sitka_spruce_branches_34.png\r\n",
      "image_picea_sitchensis_81.png           image_sitka_spruce_branches_35.png\r\n",
      "image_picea_sitchensis_83.png           image_sitka_spruce_branches_36.png\r\n",
      "image_picea_sitchensis_84.png           image_sitka_spruce_branches_37.png\r\n",
      "image_picea_sitchensis_87.png           image_sitka_spruce_branches_38.png\r\n",
      "image_picea_sitchensis_88.png           image_sitka_spruce_branches_4.png\r\n",
      "image_picea_sitchensis_91.png           image_sitka_spruce_branches_40.png\r\n",
      "image_picea_sitchensis_92.png           image_sitka_spruce_branches_41.png\r\n",
      "image_picea_sitchensis_93.png           image_sitka_spruce_branches_42.png\r\n",
      "image_picea_sitchensis_94.png           image_sitka_spruce_branches_43.png\r\n",
      "image_picea_sitchensis_95.png           image_sitka_spruce_branches_44.png\r\n",
      "image_picea_sitchensis_97.png           image_sitka_spruce_branches_45.png\r\n",
      "image_picea_sitchensis_99.png           image_sitka_spruce_branches_46.png\r\n",
      "image_picea_sitchensis_foliage_10.png   image_sitka_spruce_branches_47.png\r\n",
      "image_picea_sitchensis_foliage_13.png   image_sitka_spruce_branches_48.png\r\n",
      "image_picea_sitchensis_foliage_16.png   image_sitka_spruce_branches_49.png\r\n",
      "image_picea_sitchensis_foliage_18.png   image_sitka_spruce_branches_5.png\r\n",
      "image_picea_sitchensis_foliage_20.png   image_sitka_spruce_branches_50.png\r\n",
      "image_picea_sitchensis_foliage_21.png   image_sitka_spruce_branches_51.png\r\n",
      "image_picea_sitchensis_foliage_23.png   image_sitka_spruce_branches_52.png\r\n",
      "image_picea_sitchensis_foliage_24.png   image_sitka_spruce_branches_54.png\r\n",
      "image_picea_sitchensis_foliage_25.png   image_sitka_spruce_branches_55.png\r\n",
      "image_picea_sitchensis_foliage_26.png   image_sitka_spruce_branches_56.png\r\n",
      "image_picea_sitchensis_foliage_27.png   image_sitka_spruce_branches_57.png\r\n",
      "image_picea_sitchensis_foliage_29.png   image_sitka_spruce_branches_58.png\r\n",
      "image_picea_sitchensis_foliage_3.png    image_sitka_spruce_branches_59.png\r\n",
      "image_picea_sitchensis_foliage_30.png   image_sitka_spruce_branches_60.png\r\n",
      "image_picea_sitchensis_foliage_31.png   image_sitka_spruce_branches_61.png\r\n",
      "image_picea_sitchensis_foliage_35.png   image_sitka_spruce_branches_62.png\r\n",
      "image_picea_sitchensis_foliage_36.png   image_sitka_spruce_branches_63.png\r\n",
      "image_picea_sitchensis_foliage_37.png   image_sitka_spruce_branches_64.png\r\n",
      "image_picea_sitchensis_foliage_38.png   image_sitka_spruce_branches_65.png\r\n",
      "image_picea_sitchensis_foliage_4.png    image_sitka_spruce_branches_66.png\r\n",
      "image_picea_sitchensis_foliage_40.png   image_sitka_spruce_branches_67.png\r\n",
      "image_picea_sitchensis_foliage_41.png   image_sitka_spruce_branches_68.png\r\n",
      "image_picea_sitchensis_foliage_44.png   image_sitka_spruce_branches_69.png\r\n",
      "image_picea_sitchensis_foliage_46.png   image_sitka_spruce_branches_70.png\r\n",
      "image_picea_sitchensis_foliage_48.png   image_sitka_spruce_branches_71.png\r\n",
      "image_picea_sitchensis_foliage_49.png   image_sitka_spruce_branches_72.png\r\n",
      "image_picea_sitchensis_foliage_5.png    image_sitka_spruce_branches_73.png\r\n",
      "image_picea_sitchensis_foliage_50.png   image_sitka_spruce_branches_74.png\r\n",
      "image_picea_sitchensis_foliage_52.png   image_sitka_spruce_branches_75.png\r\n",
      "image_picea_sitchensis_foliage_55.png   image_sitka_spruce_branches_76.png\r\n",
      "image_picea_sitchensis_foliage_56.png   image_sitka_spruce_branches_77.png\r\n",
      "image_picea_sitchensis_foliage_57.png   image_sitka_spruce_branches_78.png\r\n",
      "image_picea_sitchensis_foliage_58.png   image_sitka_spruce_branches_79.png\r\n",
      "image_picea_sitchensis_foliage_6.png    image_sitka_spruce_branches_8.png\r\n",
      "image_picea_sitchensis_foliage_60.png   image_sitka_spruce_branches_80.png\r\n",
      "image_picea_sitchensis_foliage_61.png   image_sitka_spruce_branches_81.png\r\n",
      "image_picea_sitchensis_foliage_62.png   image_sitka_spruce_branches_82.png\r\n",
      "image_picea_sitchensis_foliage_63.png   image_sitka_spruce_branches_83.png\r\n",
      "image_picea_sitchensis_foliage_64.png   image_sitka_spruce_branches_84.png\r\n",
      "image_picea_sitchensis_foliage_65.png   image_sitka_spruce_branches_86.png\r\n",
      "image_picea_sitchensis_foliage_66.png   image_sitka_spruce_branches_87.png\r\n",
      "image_picea_sitchensis_foliage_67.png   image_sitka_spruce_branches_88.png\r\n",
      "image_picea_sitchensis_foliage_69.png   image_sitka_spruce_branches_89.png\r\n",
      "image_picea_sitchensis_foliage_70.png   image_sitka_spruce_branches_90.png\r\n",
      "image_picea_sitchensis_foliage_71.png   image_sitka_spruce_branches_91.png\r\n",
      "image_picea_sitchensis_foliage_72.png   image_sitka_spruce_branches_92.png\r\n",
      "image_picea_sitchensis_foliage_73.png   image_sitka_spruce_branches_93.png\r\n",
      "image_picea_sitchensis_foliage_75.png   image_sitka_spruce_branches_94.png\r\n",
      "image_picea_sitchensis_foliage_76.png   image_sitka_spruce_branches_95.png\r\n",
      "image_picea_sitchensis_foliage_77.png   image_sitka_spruce_branches_96.png\r\n",
      "image_picea_sitchensis_foliage_8.png    image_sitka_spruce_branches_97.png\r\n",
      "image_picea_sitchensis_foliage_82.png   image_sitka_spruce_branches_98.png\r\n",
      "image_picea_sitchensis_foliage_85.png   image_sitka_spruce_branches_99.png\r\n",
      "image_picea_sitchensis_foliage_87.png   image_sitka_spruce_cones_0.png\r\n",
      "image_picea_sitchensis_foliage_88.png   image_sitka_spruce_cones_1.png\r\n",
      "image_picea_sitchensis_foliage_89.png   image_sitka_spruce_cones_10.png\r\n",
      "image_picea_sitchensis_foliage_9.png    image_sitka_spruce_cones_11.png\r\n",
      "image_picea_sitchensis_foliage_91.png   image_sitka_spruce_cones_12.png\r\n",
      "image_picea_sitchensis_foliage_92.png   image_sitka_spruce_cones_13.png\r\n",
      "image_picea_sitchensis_foliage_96.png   image_sitka_spruce_cones_15.png\r\n",
      "image_picea_sitchensis_foliage_97.png   image_sitka_spruce_cones_16.png\r\n",
      "image_picea_sitchensis_foliage_98.png   image_sitka_spruce_cones_17.png\r\n",
      "image_picea_sitchensis_foliage_99.png   image_sitka_spruce_cones_18.png\r\n",
      "image_picea_sitchensis_in_winter_0.png  image_sitka_spruce_cones_19.png\r\n",
      "image_picea_sitchensis_in_winter_1.png  image_sitka_spruce_cones_2.png\r\n",
      "image_picea_sitchensis_in_winter_10.png image_sitka_spruce_cones_20.png\r\n",
      "image_picea_sitchensis_in_winter_11.png image_sitka_spruce_cones_22.png\r\n",
      "image_picea_sitchensis_in_winter_12.png image_sitka_spruce_cones_25.png\r\n",
      "image_picea_sitchensis_in_winter_14.png image_sitka_spruce_cones_27.png\r\n",
      "image_picea_sitchensis_in_winter_15.png image_sitka_spruce_cones_28.png\r\n",
      "image_picea_sitchensis_in_winter_16.png image_sitka_spruce_cones_29.png\r\n",
      "image_picea_sitchensis_in_winter_18.png image_sitka_spruce_cones_3.png\r\n",
      "image_picea_sitchensis_in_winter_2.png  image_sitka_spruce_cones_31.png\r\n",
      "image_picea_sitchensis_in_winter_20.png image_sitka_spruce_cones_32.png\r\n",
      "image_picea_sitchensis_in_winter_24.png image_sitka_spruce_cones_33.png\r\n",
      "image_picea_sitchensis_in_winter_32.png image_sitka_spruce_cones_34.png\r\n",
      "image_picea_sitchensis_in_winter_34.png image_sitka_spruce_cones_35.png\r\n",
      "image_picea_sitchensis_in_winter_36.png image_sitka_spruce_cones_36.png\r\n",
      "image_picea_sitchensis_in_winter_37.png image_sitka_spruce_cones_37.png\r\n",
      "image_picea_sitchensis_in_winter_38.png image_sitka_spruce_cones_38.png\r\n",
      "image_picea_sitchensis_in_winter_39.png image_sitka_spruce_cones_39.png\r\n",
      "image_picea_sitchensis_in_winter_45.png image_sitka_spruce_cones_41.png\r\n",
      "image_picea_sitchensis_in_winter_46.png image_sitka_spruce_cones_42.png\r\n",
      "image_picea_sitchensis_in_winter_47.png image_sitka_spruce_cones_43.png\r\n",
      "image_picea_sitchensis_in_winter_49.png image_sitka_spruce_cones_45.png\r\n",
      "image_picea_sitchensis_in_winter_5.png  image_sitka_spruce_cones_46.png\r\n",
      "image_picea_sitchensis_in_winter_52.png image_sitka_spruce_cones_47.png\r\n",
      "image_picea_sitchensis_in_winter_54.png image_sitka_spruce_cones_48.png\r\n",
      "image_picea_sitchensis_in_winter_56.png image_sitka_spruce_cones_49.png\r\n",
      "image_picea_sitchensis_in_winter_58.png image_sitka_spruce_cones_5.png\r\n",
      "image_picea_sitchensis_in_winter_59.png image_sitka_spruce_cones_50.png\r\n",
      "image_picea_sitchensis_in_winter_6.png  image_sitka_spruce_cones_51.png\r\n",
      "image_picea_sitchensis_in_winter_63.png image_sitka_spruce_cones_52.png\r\n",
      "image_picea_sitchensis_in_winter_64.png image_sitka_spruce_cones_53.png\r\n",
      "image_picea_sitchensis_in_winter_66.png image_sitka_spruce_cones_54.png\r\n",
      "image_picea_sitchensis_in_winter_7.png  image_sitka_spruce_cones_55.png\r\n",
      "image_picea_sitchensis_in_winter_70.png image_sitka_spruce_cones_56.png\r\n",
      "image_picea_sitchensis_in_winter_71.png image_sitka_spruce_cones_57.png\r\n",
      "image_picea_sitchensis_in_winter_73.png image_sitka_spruce_cones_58.png\r\n",
      "image_picea_sitchensis_in_winter_77.png image_sitka_spruce_cones_59.png\r\n",
      "image_picea_sitchensis_in_winter_78.png image_sitka_spruce_cones_60.png\r\n",
      "image_picea_sitchensis_in_winter_79.png image_sitka_spruce_cones_61.png\r\n",
      "image_picea_sitchensis_in_winter_8.png  image_sitka_spruce_cones_62.png\r\n",
      "image_picea_sitchensis_in_winter_80.png image_sitka_spruce_cones_63.png\r\n",
      "image_picea_sitchensis_in_winter_83.png image_sitka_spruce_cones_64.png\r\n",
      "image_picea_sitchensis_in_winter_84.png image_sitka_spruce_cones_65.png\r\n",
      "image_picea_sitchensis_in_winter_85.png image_sitka_spruce_cones_66.png\r\n",
      "image_picea_sitchensis_in_winter_86.png image_sitka_spruce_cones_67.png\r\n",
      "image_picea_sitchensis_in_winter_87.png image_sitka_spruce_cones_68.png\r\n",
      "image_picea_sitchensis_in_winter_88.png image_sitka_spruce_cones_69.png\r\n",
      "image_picea_sitchensis_in_winter_89.png image_sitka_spruce_cones_7.png\r\n",
      "image_picea_sitchensis_in_winter_9.png  image_sitka_spruce_cones_70.png\r\n",
      "image_picea_sitchensis_in_winter_90.png image_sitka_spruce_cones_71.png\r\n",
      "image_picea_sitchensis_in_winter_91.png image_sitka_spruce_cones_72.png\r\n",
      "image_picea_sitchensis_in_winter_92.png image_sitka_spruce_cones_73.png\r\n",
      "image_picea_sitchensis_in_winter_93.png image_sitka_spruce_cones_74.png\r\n",
      "image_picea_sitchensis_in_winter_94.png image_sitka_spruce_cones_75.png\r\n",
      "image_picea_sitchensis_in_winter_95.png image_sitka_spruce_cones_76.png\r\n",
      "image_picea_sitchensis_in_winter_97.png image_sitka_spruce_cones_77.png\r\n",
      "image_picea_sitchensis_in_winter_98.png image_sitka_spruce_cones_78.png\r\n",
      "image_picea_sitchensis_in_winter_99.png image_sitka_spruce_cones_79.png\r\n",
      "image_picea_sitchensis_needles_0.png    image_sitka_spruce_cones_8.png\r\n",
      "image_picea_sitchensis_needles_10.png   image_sitka_spruce_cones_80.png\r\n",
      "image_picea_sitchensis_needles_11.png   image_sitka_spruce_cones_81.png\r\n",
      "image_picea_sitchensis_needles_12.png   image_sitka_spruce_cones_84.png\r\n",
      "image_picea_sitchensis_needles_13.png   image_sitka_spruce_cones_85.png\r\n",
      "image_picea_sitchensis_needles_14.png   image_sitka_spruce_cones_86.png\r\n",
      "image_picea_sitchensis_needles_15.png   image_sitka_spruce_cones_88.png\r\n",
      "image_picea_sitchensis_needles_17.png   image_sitka_spruce_cones_89.png\r\n",
      "image_picea_sitchensis_needles_18.png   image_sitka_spruce_cones_9.png\r\n",
      "image_picea_sitchensis_needles_19.png   image_sitka_spruce_cones_90.png\r\n",
      "image_picea_sitchensis_needles_22.png   image_sitka_spruce_cones_91.png\r\n",
      "image_picea_sitchensis_needles_23.png   image_sitka_spruce_cones_92.png\r\n",
      "image_picea_sitchensis_needles_24.png   image_sitka_spruce_cones_93.png\r\n",
      "image_picea_sitchensis_needles_25.png   image_sitka_spruce_cones_94.png\r\n",
      "image_picea_sitchensis_needles_26.png   image_sitka_spruce_cones_95.png\r\n",
      "image_picea_sitchensis_needles_27.png   image_sitka_spruce_cones_96.png\r\n",
      "image_picea_sitchensis_needles_28.png   image_sitka_spruce_cones_97.png\r\n",
      "image_picea_sitchensis_needles_29.png   image_sitka_spruce_cones_98.png\r\n",
      "image_picea_sitchensis_needles_32.png   image_sitka_spruce_cones_99.png\r\n",
      "image_picea_sitchensis_needles_33.png   image_sitka_spruce_forest_0.png\r\n",
      "image_picea_sitchensis_needles_34.png   image_sitka_spruce_forest_1.png\r\n",
      "image_picea_sitchensis_needles_35.png   image_sitka_spruce_forest_10.png\r\n",
      "image_picea_sitchensis_needles_37.png   image_sitka_spruce_forest_11.png\r\n",
      "image_picea_sitchensis_needles_38.png   image_sitka_spruce_forest_13.png\r\n",
      "image_picea_sitchensis_needles_39.png   image_sitka_spruce_forest_14.png\r\n",
      "image_picea_sitchensis_needles_41.png   image_sitka_spruce_forest_15.png\r\n",
      "image_picea_sitchensis_needles_42.png   image_sitka_spruce_forest_16.png\r\n",
      "image_picea_sitchensis_needles_43.png   image_sitka_spruce_forest_17.png\r\n",
      "image_picea_sitchensis_needles_44.png   image_sitka_spruce_forest_19.png\r\n",
      "image_picea_sitchensis_needles_46.png   image_sitka_spruce_forest_20.png\r\n",
      "image_picea_sitchensis_needles_47.png   image_sitka_spruce_forest_21.png\r\n",
      "image_picea_sitchensis_needles_48.png   image_sitka_spruce_forest_22.png\r\n",
      "image_picea_sitchensis_needles_49.png   image_sitka_spruce_forest_24.png\r\n",
      "image_picea_sitchensis_needles_5.png    image_sitka_spruce_forest_25.png\r\n",
      "image_picea_sitchensis_needles_50.png   image_sitka_spruce_forest_26.png\r\n",
      "image_picea_sitchensis_needles_51.png   image_sitka_spruce_forest_27.png\r\n",
      "image_picea_sitchensis_needles_52.png   image_sitka_spruce_forest_28.png\r\n",
      "image_picea_sitchensis_needles_53.png   image_sitka_spruce_forest_29.png\r\n",
      "image_picea_sitchensis_needles_54.png   image_sitka_spruce_forest_30.png\r\n",
      "image_picea_sitchensis_needles_55.png   image_sitka_spruce_forest_31.png\r\n",
      "image_picea_sitchensis_needles_56.png   image_sitka_spruce_forest_32.png\r\n",
      "image_picea_sitchensis_needles_57.png   image_sitka_spruce_forest_33.png\r\n",
      "image_picea_sitchensis_needles_58.png   image_sitka_spruce_forest_34.png\r\n",
      "image_picea_sitchensis_needles_59.png   image_sitka_spruce_forest_35.png\r\n",
      "image_picea_sitchensis_needles_6.png    image_sitka_spruce_forest_36.png\r\n",
      "image_picea_sitchensis_needles_60.png   image_sitka_spruce_forest_38.png\r\n",
      "image_picea_sitchensis_needles_62.png   image_sitka_spruce_forest_39.png\r\n",
      "image_picea_sitchensis_needles_65.png   image_sitka_spruce_forest_40.png\r\n",
      "image_picea_sitchensis_needles_66.png   image_sitka_spruce_forest_41.png\r\n",
      "image_picea_sitchensis_needles_67.png   image_sitka_spruce_forest_42.png\r\n",
      "image_picea_sitchensis_needles_69.png   image_sitka_spruce_forest_43.png\r\n",
      "image_picea_sitchensis_needles_70.png   image_sitka_spruce_forest_44.png\r\n",
      "image_picea_sitchensis_needles_71.png   image_sitka_spruce_forest_45.png\r\n",
      "image_picea_sitchensis_needles_74.png   image_sitka_spruce_forest_46.png\r\n",
      "image_picea_sitchensis_needles_75.png   image_sitka_spruce_forest_47.png\r\n",
      "image_picea_sitchensis_needles_76.png   image_sitka_spruce_forest_48.png\r\n",
      "image_picea_sitchensis_needles_79.png   image_sitka_spruce_forest_49.png\r\n",
      "image_picea_sitchensis_needles_81.png   image_sitka_spruce_forest_50.png\r\n",
      "image_picea_sitchensis_needles_82.png   image_sitka_spruce_forest_51.png\r\n",
      "image_picea_sitchensis_needles_83.png   image_sitka_spruce_forest_52.png\r\n",
      "image_picea_sitchensis_needles_84.png   image_sitka_spruce_forest_53.png\r\n",
      "image_picea_sitchensis_needles_85.png   image_sitka_spruce_forest_54.png\r\n",
      "image_picea_sitchensis_needles_89.png   image_sitka_spruce_forest_55.png\r\n",
      "image_picea_sitchensis_needles_9.png    image_sitka_spruce_forest_56.png\r\n",
      "image_picea_sitchensis_needles_93.png   image_sitka_spruce_forest_57.png\r\n",
      "image_picea_sitchensis_needles_94.png   image_sitka_spruce_forest_58.png\r\n",
      "image_picea_sitchensis_needles_97.png   image_sitka_spruce_forest_6.png\r\n",
      "image_picea_sitchensis_needles_98.png   image_sitka_spruce_forest_60.png\r\n",
      "image_sitka_spruce_0.png                image_sitka_spruce_forest_61.png\r\n",
      "image_sitka_spruce_1.png                image_sitka_spruce_forest_62.png\r\n",
      "image_sitka_spruce_11.png               image_sitka_spruce_forest_63.png\r\n",
      "image_sitka_spruce_12.png               image_sitka_spruce_forest_64.png\r\n",
      "image_sitka_spruce_13.png               image_sitka_spruce_forest_65.png\r\n",
      "image_sitka_spruce_14.png               image_sitka_spruce_forest_68.png\r\n",
      "image_sitka_spruce_15.png               image_sitka_spruce_forest_69.png\r\n",
      "image_sitka_spruce_16.png               image_sitka_spruce_forest_7.png\r\n",
      "image_sitka_spruce_17.png               image_sitka_spruce_forest_70.png\r\n",
      "image_sitka_spruce_19.png               image_sitka_spruce_forest_71.png\r\n",
      "image_sitka_spruce_20.png               image_sitka_spruce_forest_73.png\r\n",
      "image_sitka_spruce_22.png               image_sitka_spruce_forest_74.png\r\n",
      "image_sitka_spruce_25.png               image_sitka_spruce_forest_75.png\r\n",
      "image_sitka_spruce_26.png               image_sitka_spruce_forest_76.png\r\n",
      "image_sitka_spruce_27.png               image_sitka_spruce_forest_77.png\r\n",
      "image_sitka_spruce_28.png               image_sitka_spruce_forest_78.png\r\n",
      "image_sitka_spruce_29.png               image_sitka_spruce_forest_79.png\r\n",
      "image_sitka_spruce_31.png               image_sitka_spruce_forest_80.png\r\n",
      "image_sitka_spruce_32.png               image_sitka_spruce_forest_81.png\r\n",
      "image_sitka_spruce_33.png               image_sitka_spruce_forest_82.png\r\n",
      "image_sitka_spruce_4.png                image_sitka_spruce_forest_83.png\r\n",
      "image_sitka_spruce_44.png               image_sitka_spruce_forest_84.png\r\n",
      "image_sitka_spruce_46.png               image_sitka_spruce_forest_85.png\r\n",
      "image_sitka_spruce_47.png               image_sitka_spruce_forest_86.png\r\n",
      "image_sitka_spruce_49.png               image_sitka_spruce_forest_87.png\r\n",
      "image_sitka_spruce_54.png               image_sitka_spruce_forest_88.png\r\n",
      "image_sitka_spruce_57.png               image_sitka_spruce_forest_89.png\r\n",
      "image_sitka_spruce_58.png               image_sitka_spruce_forest_9.png\r\n",
      "image_sitka_spruce_59.png               image_sitka_spruce_forest_90.png\r\n",
      "image_sitka_spruce_6.png                image_sitka_spruce_forest_91.png\r\n",
      "image_sitka_spruce_60.png               image_sitka_spruce_forest_92.png\r\n",
      "image_sitka_spruce_61.png               image_sitka_spruce_forest_93.png\r\n",
      "image_sitka_spruce_62.png               image_sitka_spruce_forest_94.png\r\n",
      "image_sitka_spruce_63.png               image_sitka_spruce_forest_95.png\r\n",
      "image_sitka_spruce_64.png               image_sitka_spruce_forest_96.png\r\n",
      "image_sitka_spruce_65.png               image_sitka_spruce_forest_97.png\r\n",
      "image_sitka_spruce_66.png               image_sitka_spruce_forest_98.png\r\n",
      "image_sitka_spruce_67.png               image_sitka_spruce_forest_99.png\r\n"
     ]
    }
   ],
   "source": [
    "!ls ~/tree-logic/tree_photos/picea_sitchensis"
   ]
  },
  {
   "cell_type": "markdown",
   "metadata": {},
   "source": [
    "### Prototype what I want ImageManager interface to look like"
   ]
  },
  {
   "cell_type": "code",
   "execution_count": 63,
   "metadata": {
    "collapsed": true
   },
   "outputs": [],
   "source": [
    "manager = ImageManager('tree_photos')\n",
    "directory_names = ['picea_sitchensis', 'bad_images']"
   ]
  },
  {
   "cell_type": "code",
   "execution_count": 64,
   "metadata": {},
   "outputs": [],
   "source": [
    "#manager.take_inventory(directory_names) #\n",
    "#or manager.take_inventory() #default is to walk through all subdirectories\n",
    "manager.sync_images(directory_names) #Syncs the manager's dataframe and dictionary to the specified directories\n",
    "#or manager.sync_images() #default is to sync all subdirectories"
   ]
  },
  {
   "cell_type": "code",
   "execution_count": 65,
   "metadata": {},
   "outputs": [
    {
     "data": {
      "text/plain": [
       "{array([[ True, False,  True, False,  True, False,  True,  True],\n",
       "        [False, False, False, False,  True,  True,  True, False],\n",
       "        [ True,  True, False,  True, False,  True,  True,  True],\n",
       "        [False,  True,  True, False,  True,  True, False,  True],\n",
       "        [ True,  True, False, False, False, False, False, False],\n",
       "        [ True,  True,  True, False, False, False, False, False],\n",
       "        [False, False,  True, False,  True,  True, False,  True],\n",
       "        [ True, False, False,  True, False, False,  True,  True]], dtype=bool): ['tree_photos/bad_images/image_acer_macrophylum_leaves_71.png',\n",
       "  'tree_photos/bad_images/image_acer_macrophylum_90.png'],\n",
       " array([[ True,  True, False,  True, False, False,  True, False],\n",
       "        [ True, False, False,  True,  True, False,  True,  True],\n",
       "        [False,  True,  True, False,  True,  True, False,  True],\n",
       "        [ True,  True, False, False, False,  True,  True, False],\n",
       "        [ True, False, False,  True, False, False,  True, False],\n",
       "        [ True,  True,  True, False, False, False,  True,  True],\n",
       "        [False, False, False, False,  True, False, False,  True],\n",
       "        [False, False,  True,  True,  True,  True, False, False]], dtype=bool): ['tree_photos/bad_images/image_douglas_fir_69.png',\n",
       "  'tree_photos/bad_images/image_douglas_fir_69.jpg']}"
      ]
     },
     "execution_count": 65,
     "metadata": {},
     "output_type": "execute_result"
    }
   ],
   "source": [
    "manager.get_duplicates() #get dictionary of image hashes mapping to more than one path"
   ]
  },
  {
   "cell_type": "code",
   "execution_count": 66,
   "metadata": {},
   "outputs": [
    {
     "data": {
      "text/html": [
       "<div>\n",
       "<style scoped>\n",
       "    .dataframe tbody tr th:only-of-type {\n",
       "        vertical-align: middle;\n",
       "    }\n",
       "\n",
       "    .dataframe tbody tr th {\n",
       "        vertical-align: top;\n",
       "    }\n",
       "\n",
       "    .dataframe thead th {\n",
       "        text-align: right;\n",
       "    }\n",
       "</style>\n",
       "<table border=\"1\" class=\"dataframe\">\n",
       "  <thead>\n",
       "    <tr style=\"text-align: right;\">\n",
       "      <th></th>\n",
       "      <th>p_hash</th>\n",
       "      <th>filename</th>\n",
       "      <th>folder</th>\n",
       "      <th>time_added</th>\n",
       "      <th>time_verified</th>\n",
       "    </tr>\n",
       "  </thead>\n",
       "  <tbody>\n",
       "    <tr>\n",
       "      <th>0</th>\n",
       "      <td>daf0881497fa12ed</td>\n",
       "      <td>image_sitka_spruce_forest_92.png</td>\n",
       "      <td>picea_sitchensis</td>\n",
       "      <td>2018-02-04 22:17:11.009109</td>\n",
       "      <td>2018-02-04 22:17:11.009109</td>\n",
       "    </tr>\n",
       "    <tr>\n",
       "      <th>1</th>\n",
       "      <td>f3b33d68046c2d4d</td>\n",
       "      <td>image_sitka_spruce_forest_86.png</td>\n",
       "      <td>picea_sitchensis</td>\n",
       "      <td>2018-02-04 22:17:11.031102</td>\n",
       "      <td>2018-02-04 22:17:11.031102</td>\n",
       "    </tr>\n",
       "    <tr>\n",
       "      <th>2</th>\n",
       "      <td>99a7465a1e99acb4</td>\n",
       "      <td>image_picea_sitchensis_27.png</td>\n",
       "      <td>picea_sitchensis</td>\n",
       "      <td>2018-02-04 22:17:11.049848</td>\n",
       "      <td>2018-02-04 22:17:11.049848</td>\n",
       "    </tr>\n",
       "    <tr>\n",
       "      <th>3</th>\n",
       "      <td>b4e9258745b48aeb</td>\n",
       "      <td>image_sitka_spruce_forest_51.png</td>\n",
       "      <td>picea_sitchensis</td>\n",
       "      <td>2018-02-04 22:17:11.060264</td>\n",
       "      <td>2018-02-04 22:17:11.060264</td>\n",
       "    </tr>\n",
       "    <tr>\n",
       "      <th>4</th>\n",
       "      <td>f8d0fde0fc906990</td>\n",
       "      <td>image_sitka_spruce_forest_45.png</td>\n",
       "      <td>picea_sitchensis</td>\n",
       "      <td>2018-02-04 22:17:11.068754</td>\n",
       "      <td>2018-02-04 22:17:11.068754</td>\n",
       "    </tr>\n",
       "  </tbody>\n",
       "</table>\n",
       "</div>"
      ],
      "text/plain": [
       "             p_hash                          filename            folder  \\\n",
       "0  daf0881497fa12ed  image_sitka_spruce_forest_92.png  picea_sitchensis   \n",
       "1  f3b33d68046c2d4d  image_sitka_spruce_forest_86.png  picea_sitchensis   \n",
       "2  99a7465a1e99acb4     image_picea_sitchensis_27.png  picea_sitchensis   \n",
       "3  b4e9258745b48aeb  image_sitka_spruce_forest_51.png  picea_sitchensis   \n",
       "4  f8d0fde0fc906990  image_sitka_spruce_forest_45.png  picea_sitchensis   \n",
       "\n",
       "                  time_added              time_verified  \n",
       "0 2018-02-04 22:17:11.009109 2018-02-04 22:17:11.009109  \n",
       "1 2018-02-04 22:17:11.031102 2018-02-04 22:17:11.031102  \n",
       "2 2018-02-04 22:17:11.049848 2018-02-04 22:17:11.049848  \n",
       "3 2018-02-04 22:17:11.060264 2018-02-04 22:17:11.060264  \n",
       "4 2018-02-04 22:17:11.068754 2018-02-04 22:17:11.068754  "
      ]
     },
     "execution_count": 66,
     "metadata": {},
     "output_type": "execute_result"
    }
   ],
   "source": [
    "manager.image_df.head()"
   ]
  },
  {
   "cell_type": "code",
   "execution_count": 67,
   "metadata": {},
   "outputs": [
    {
     "data": {
      "text/plain": [
       "{}"
      ]
     },
     "execution_count": 67,
     "metadata": {},
     "output_type": "execute_result"
    }
   ],
   "source": [
    "manager.remove_duplicates() #delete duplicate image files\n",
    "manager.get_duplicates()"
   ]
  },
  {
   "cell_type": "markdown",
   "metadata": {},
   "source": [
    "### Load a dataframe to figure out how to select certain things"
   ]
  },
  {
   "cell_type": "code",
   "execution_count": 8,
   "metadata": {},
   "outputs": [
    {
     "data": {
      "text/html": [
       "<div>\n",
       "<style scoped>\n",
       "    .dataframe tbody tr th:only-of-type {\n",
       "        vertical-align: middle;\n",
       "    }\n",
       "\n",
       "    .dataframe tbody tr th {\n",
       "        vertical-align: top;\n",
       "    }\n",
       "\n",
       "    .dataframe thead th {\n",
       "        text-align: right;\n",
       "    }\n",
       "</style>\n",
       "<table border=\"1\" class=\"dataframe\">\n",
       "  <thead>\n",
       "    <tr style=\"text-align: right;\">\n",
       "      <th></th>\n",
       "      <th>p_hash</th>\n",
       "      <th>filename</th>\n",
       "      <th>species</th>\n",
       "      <th>tags</th>\n",
       "    </tr>\n",
       "  </thead>\n",
       "  <tbody>\n",
       "    <tr>\n",
       "      <th>0</th>\n",
       "      <td>99a7465a1e99acb4</td>\n",
       "      <td>image_picea_sitchensis_27.png</td>\n",
       "      <td>picea_sitchensis</td>\n",
       "      <td>NaN</td>\n",
       "    </tr>\n",
       "    <tr>\n",
       "      <th>1</th>\n",
       "      <td>93d12f8e712ef068</td>\n",
       "      <td>image_picea_sitchensis_33.png</td>\n",
       "      <td>picea_sitchensis</td>\n",
       "      <td>NaN</td>\n",
       "    </tr>\n",
       "    <tr>\n",
       "      <th>2</th>\n",
       "      <td>cce3482eb991533b</td>\n",
       "      <td>image_picea_sitchensis_6.png</td>\n",
       "      <td>picea_sitchensis</td>\n",
       "      <td>NaN</td>\n",
       "    </tr>\n",
       "    <tr>\n",
       "      <th>3</th>\n",
       "      <td>c119991c4fcf1cda</td>\n",
       "      <td>image_picea_sitchensis_in_winter_12.png</td>\n",
       "      <td>picea_sitchensis</td>\n",
       "      <td>NaN</td>\n",
       "    </tr>\n",
       "    <tr>\n",
       "      <th>4</th>\n",
       "      <td>e3c3dab100fdc29c</td>\n",
       "      <td>image_sitka_spruce_59.png</td>\n",
       "      <td>picea_sitchensis</td>\n",
       "      <td>NaN</td>\n",
       "    </tr>\n",
       "  </tbody>\n",
       "</table>\n",
       "</div>"
      ],
      "text/plain": [
       "             p_hash                                 filename  \\\n",
       "0  99a7465a1e99acb4            image_picea_sitchensis_27.png   \n",
       "1  93d12f8e712ef068            image_picea_sitchensis_33.png   \n",
       "2  cce3482eb991533b             image_picea_sitchensis_6.png   \n",
       "3  c119991c4fcf1cda  image_picea_sitchensis_in_winter_12.png   \n",
       "4  e3c3dab100fdc29c                image_sitka_spruce_59.png   \n",
       "\n",
       "            species  tags  \n",
       "0  picea_sitchensis   NaN  \n",
       "1  picea_sitchensis   NaN  \n",
       "2  picea_sitchensis   NaN  \n",
       "3  picea_sitchensis   NaN  \n",
       "4  picea_sitchensis   NaN  "
      ]
     },
     "execution_count": 8,
     "metadata": {},
     "output_type": "execute_result"
    }
   ],
   "source": [
    "image_df = pd.read_csv('data/tree_image_info.csv', sep='|', index_col=0)\n",
    "image_df.head()"
   ]
  },
  {
   "cell_type": "code",
   "execution_count": 9,
   "metadata": {},
   "outputs": [
    {
     "data": {
      "text/plain": [
       "array(['picea_sitchensis', 'platanus_acerifolia', 'acer_macrophylum'], dtype=object)"
      ]
     },
     "execution_count": 9,
     "metadata": {},
     "output_type": "execute_result"
    }
   ],
   "source": [
    "image_df['species'].unique()"
   ]
  },
  {
   "cell_type": "code",
   "execution_count": 11,
   "metadata": {},
   "outputs": [
    {
     "name": "stdout",
     "output_type": "stream",
     "text": [
      "<class 'pandas.core.frame.DataFrame'>\n",
      "Int64Index: 335 entries, 309 to 643\n",
      "Data columns (total 4 columns):\n",
      "p_hash      335 non-null object\n",
      "filename    335 non-null object\n",
      "species     335 non-null object\n",
      "tags        0 non-null float64\n",
      "dtypes: float64(1), object(3)\n",
      "memory usage: 13.1+ KB\n"
     ]
    }
   ],
   "source": [
    "platanus_slice_df = image_df.loc[image_df['species'] == 'platanus_acerifolia']\n",
    "platanus_slice_df.info()"
   ]
  },
  {
   "cell_type": "code",
   "execution_count": 12,
   "metadata": {},
   "outputs": [
    {
     "data": {
      "text/plain": [
       "Timestamp('2018-02-04 20:41:50.969472')"
      ]
     },
     "execution_count": 12,
     "metadata": {},
     "output_type": "execute_result"
    }
   ],
   "source": [
    "pd.Timestamp.now()"
   ]
  },
  {
   "cell_type": "code",
   "execution_count": 13,
   "metadata": {},
   "outputs": [
    {
     "name": "stderr",
     "output_type": "stream",
     "text": [
      "/Users/ndbs/anaconda3/lib/python3.6/site-packages/ipykernel_launcher.py:1: SettingWithCopyWarning: \n",
      "A value is trying to be set on a copy of a slice from a DataFrame.\n",
      "Try using .loc[row_indexer,col_indexer] = value instead\n",
      "\n",
      "See the caveats in the documentation: http://pandas.pydata.org/pandas-docs/stable/indexing.html#indexing-view-versus-copy\n",
      "  \"\"\"Entry point for launching an IPython kernel.\n"
     ]
    }
   ],
   "source": [
    "platanus_slice_df['timestamp'] = pd.Timestamp.now()"
   ]
  },
  {
   "cell_type": "code",
   "execution_count": 15,
   "metadata": {},
   "outputs": [
    {
     "data": {
      "text/html": [
       "<div>\n",
       "<style scoped>\n",
       "    .dataframe tbody tr th:only-of-type {\n",
       "        vertical-align: middle;\n",
       "    }\n",
       "\n",
       "    .dataframe tbody tr th {\n",
       "        vertical-align: top;\n",
       "    }\n",
       "\n",
       "    .dataframe thead th {\n",
       "        text-align: right;\n",
       "    }\n",
       "</style>\n",
       "<table border=\"1\" class=\"dataframe\">\n",
       "  <thead>\n",
       "    <tr style=\"text-align: right;\">\n",
       "      <th></th>\n",
       "      <th>p_hash</th>\n",
       "      <th>filename</th>\n",
       "      <th>species</th>\n",
       "      <th>tags</th>\n",
       "      <th>timestamp</th>\n",
       "    </tr>\n",
       "  </thead>\n",
       "  <tbody>\n",
       "    <tr>\n",
       "      <th>309</th>\n",
       "      <td>b95f8bc2719411d9</td>\n",
       "      <td>image_london_plane_36.png</td>\n",
       "      <td>platanus_acerifolia</td>\n",
       "      <td>NaN</td>\n",
       "      <td>2018-02-04 20:42:37.365247</td>\n",
       "    </tr>\n",
       "    <tr>\n",
       "      <th>310</th>\n",
       "      <td>e1e61e94e95a84e9</td>\n",
       "      <td>image_platanus_acerifolia_32.png</td>\n",
       "      <td>platanus_acerifolia</td>\n",
       "      <td>NaN</td>\n",
       "      <td>2018-02-04 20:42:37.365247</td>\n",
       "    </tr>\n",
       "    <tr>\n",
       "      <th>311</th>\n",
       "      <td>b0b1c75f4e8f4c30</td>\n",
       "      <td>image_platanus_acerifolia_6.png</td>\n",
       "      <td>platanus_acerifolia</td>\n",
       "      <td>NaN</td>\n",
       "      <td>2018-02-04 20:42:37.365247</td>\n",
       "    </tr>\n",
       "    <tr>\n",
       "      <th>312</th>\n",
       "      <td>cc9639a1fb5407e8</td>\n",
       "      <td>image_platanus_acerifolia_26.png</td>\n",
       "      <td>platanus_acerifolia</td>\n",
       "      <td>NaN</td>\n",
       "      <td>2018-02-04 20:42:37.365247</td>\n",
       "    </tr>\n",
       "    <tr>\n",
       "      <th>313</th>\n",
       "      <td>aa47f62eacd85286</td>\n",
       "      <td>image_platanus_acerifolia_in_winter_32.png</td>\n",
       "      <td>platanus_acerifolia</td>\n",
       "      <td>NaN</td>\n",
       "      <td>2018-02-04 20:42:37.365247</td>\n",
       "    </tr>\n",
       "  </tbody>\n",
       "</table>\n",
       "</div>"
      ],
      "text/plain": [
       "               p_hash                                    filename  \\\n",
       "309  b95f8bc2719411d9                   image_london_plane_36.png   \n",
       "310  e1e61e94e95a84e9            image_platanus_acerifolia_32.png   \n",
       "311  b0b1c75f4e8f4c30             image_platanus_acerifolia_6.png   \n",
       "312  cc9639a1fb5407e8            image_platanus_acerifolia_26.png   \n",
       "313  aa47f62eacd85286  image_platanus_acerifolia_in_winter_32.png   \n",
       "\n",
       "                 species  tags                  timestamp  \n",
       "309  platanus_acerifolia   NaN 2018-02-04 20:42:37.365247  \n",
       "310  platanus_acerifolia   NaN 2018-02-04 20:42:37.365247  \n",
       "311  platanus_acerifolia   NaN 2018-02-04 20:42:37.365247  \n",
       "312  platanus_acerifolia   NaN 2018-02-04 20:42:37.365247  \n",
       "313  platanus_acerifolia   NaN 2018-02-04 20:42:37.365247  "
      ]
     },
     "execution_count": 15,
     "metadata": {},
     "output_type": "execute_result"
    }
   ],
   "source": [
    "platanus_slice_df.head()"
   ]
  },
  {
   "cell_type": "code",
   "execution_count": 17,
   "metadata": {},
   "outputs": [
    {
     "data": {
      "text/html": [
       "<div>\n",
       "<style scoped>\n",
       "    .dataframe tbody tr th:only-of-type {\n",
       "        vertical-align: middle;\n",
       "    }\n",
       "\n",
       "    .dataframe tbody tr th {\n",
       "        vertical-align: top;\n",
       "    }\n",
       "\n",
       "    .dataframe thead th {\n",
       "        text-align: right;\n",
       "    }\n",
       "</style>\n",
       "<table border=\"1\" class=\"dataframe\">\n",
       "  <thead>\n",
       "    <tr style=\"text-align: right;\">\n",
       "      <th></th>\n",
       "      <th>p_hash</th>\n",
       "      <th>filename</th>\n",
       "      <th>species</th>\n",
       "      <th>tags</th>\n",
       "    </tr>\n",
       "  </thead>\n",
       "  <tbody>\n",
       "    <tr>\n",
       "      <th>309</th>\n",
       "      <td>b95f8bc2719411d9</td>\n",
       "      <td>image_london_plane_36.png</td>\n",
       "      <td>platanus_acerifolia</td>\n",
       "      <td>NaN</td>\n",
       "    </tr>\n",
       "    <tr>\n",
       "      <th>310</th>\n",
       "      <td>e1e61e94e95a84e9</td>\n",
       "      <td>image_platanus_acerifolia_32.png</td>\n",
       "      <td>platanus_acerifolia</td>\n",
       "      <td>NaN</td>\n",
       "    </tr>\n",
       "    <tr>\n",
       "      <th>311</th>\n",
       "      <td>b0b1c75f4e8f4c30</td>\n",
       "      <td>image_platanus_acerifolia_6.png</td>\n",
       "      <td>platanus_acerifolia</td>\n",
       "      <td>NaN</td>\n",
       "    </tr>\n",
       "    <tr>\n",
       "      <th>312</th>\n",
       "      <td>cc9639a1fb5407e8</td>\n",
       "      <td>image_platanus_acerifolia_26.png</td>\n",
       "      <td>platanus_acerifolia</td>\n",
       "      <td>NaN</td>\n",
       "    </tr>\n",
       "    <tr>\n",
       "      <th>313</th>\n",
       "      <td>aa47f62eacd85286</td>\n",
       "      <td>image_platanus_acerifolia_in_winter_32.png</td>\n",
       "      <td>platanus_acerifolia</td>\n",
       "      <td>NaN</td>\n",
       "    </tr>\n",
       "    <tr>\n",
       "      <th>314</th>\n",
       "      <td>b28851b35da5ce1e</td>\n",
       "      <td>image_platanus_acerifolia_in_winter_26.png</td>\n",
       "      <td>platanus_acerifolia</td>\n",
       "      <td>NaN</td>\n",
       "    </tr>\n",
       "    <tr>\n",
       "      <th>315</th>\n",
       "      <td>c39736f60cc85d23</td>\n",
       "      <td>image_platanus_acerifolia_fruit_44.png</td>\n",
       "      <td>platanus_acerifolia</td>\n",
       "      <td>NaN</td>\n",
       "    </tr>\n",
       "    <tr>\n",
       "      <th>316</th>\n",
       "      <td>f82b82f007cdf654</td>\n",
       "      <td>image_platanus_acerifolia_fruit_50.png</td>\n",
       "      <td>platanus_acerifolia</td>\n",
       "      <td>NaN</td>\n",
       "    </tr>\n",
       "    <tr>\n",
       "      <th>317</th>\n",
       "      <td>e6ad99019dc219de</td>\n",
       "      <td>image_platanus_acerifolia_fruit_1.png</td>\n",
       "      <td>platanus_acerifolia</td>\n",
       "      <td>NaN</td>\n",
       "    </tr>\n",
       "    <tr>\n",
       "      <th>318</th>\n",
       "      <td>fe5a85b11c273166</td>\n",
       "      <td>image_platanus_acerifolia_fruit_78.png</td>\n",
       "      <td>platanus_acerifolia</td>\n",
       "      <td>NaN</td>\n",
       "    </tr>\n",
       "    <tr>\n",
       "      <th>319</th>\n",
       "      <td>e7929c25d96296a5</td>\n",
       "      <td>image_platanus_acerifolia_fruit_87.png</td>\n",
       "      <td>platanus_acerifolia</td>\n",
       "      <td>NaN</td>\n",
       "    </tr>\n",
       "    <tr>\n",
       "      <th>320</th>\n",
       "      <td>aa524dad42bce52b</td>\n",
       "      <td>image_platanus_acerifolia_fruit_93.png</td>\n",
       "      <td>platanus_acerifolia</td>\n",
       "      <td>NaN</td>\n",
       "    </tr>\n",
       "    <tr>\n",
       "      <th>321</th>\n",
       "      <td>aa73d185ad2f50f0</td>\n",
       "      <td>image_platanus_acerifolia_fruit_92.png</td>\n",
       "      <td>platanus_acerifolia</td>\n",
       "      <td>NaN</td>\n",
       "    </tr>\n",
       "    <tr>\n",
       "      <th>322</th>\n",
       "      <td>c3c32f5cf0d47a14</td>\n",
       "      <td>image_platanus_acerifolia_fruit_86.png</td>\n",
       "      <td>platanus_acerifolia</td>\n",
       "      <td>NaN</td>\n",
       "    </tr>\n",
       "    <tr>\n",
       "      <th>323</th>\n",
       "      <td>c19e571eb0f01d9c</td>\n",
       "      <td>image_platanus_acerifolia_fruit_79.png</td>\n",
       "      <td>platanus_acerifolia</td>\n",
       "      <td>NaN</td>\n",
       "    </tr>\n",
       "    <tr>\n",
       "      <th>324</th>\n",
       "      <td>e69d986349b4b64a</td>\n",
       "      <td>image_platanus_acerifolia_fruit_51.png</td>\n",
       "      <td>platanus_acerifolia</td>\n",
       "      <td>NaN</td>\n",
       "    </tr>\n",
       "    <tr>\n",
       "      <th>325</th>\n",
       "      <td>e3c71ed0740fa4b1</td>\n",
       "      <td>image_platanus_acerifolia_fruit_0.png</td>\n",
       "      <td>platanus_acerifolia</td>\n",
       "      <td>NaN</td>\n",
       "    </tr>\n",
       "    <tr>\n",
       "      <th>326</th>\n",
       "      <td>82413e997dbb1de0</td>\n",
       "      <td>image_platanus_acerifolia_fruit_45.png</td>\n",
       "      <td>platanus_acerifolia</td>\n",
       "      <td>NaN</td>\n",
       "    </tr>\n",
       "    <tr>\n",
       "      <th>327</th>\n",
       "      <td>e5ec09936c8c3fd0</td>\n",
       "      <td>image_platanus_acerifolia_in_winter_27.png</td>\n",
       "      <td>platanus_acerifolia</td>\n",
       "      <td>NaN</td>\n",
       "    </tr>\n",
       "    <tr>\n",
       "      <th>328</th>\n",
       "      <td>bc518794994edd58</td>\n",
       "      <td>image_platanus_acerifolia_in_winter_33.png</td>\n",
       "      <td>platanus_acerifolia</td>\n",
       "      <td>NaN</td>\n",
       "    </tr>\n",
       "    <tr>\n",
       "      <th>329</th>\n",
       "      <td>9555392f110cff0d</td>\n",
       "      <td>image_platanus_acerifolia_27.png</td>\n",
       "      <td>platanus_acerifolia</td>\n",
       "      <td>NaN</td>\n",
       "    </tr>\n",
       "    <tr>\n",
       "      <th>330</th>\n",
       "      <td>b6a2ba14a445b4df</td>\n",
       "      <td>image_platanus_acerifolia_7.png</td>\n",
       "      <td>platanus_acerifolia</td>\n",
       "      <td>NaN</td>\n",
       "    </tr>\n",
       "  </tbody>\n",
       "</table>\n",
       "</div>"
      ],
      "text/plain": [
       "               p_hash                                    filename  \\\n",
       "309  b95f8bc2719411d9                   image_london_plane_36.png   \n",
       "310  e1e61e94e95a84e9            image_platanus_acerifolia_32.png   \n",
       "311  b0b1c75f4e8f4c30             image_platanus_acerifolia_6.png   \n",
       "312  cc9639a1fb5407e8            image_platanus_acerifolia_26.png   \n",
       "313  aa47f62eacd85286  image_platanus_acerifolia_in_winter_32.png   \n",
       "314  b28851b35da5ce1e  image_platanus_acerifolia_in_winter_26.png   \n",
       "315  c39736f60cc85d23      image_platanus_acerifolia_fruit_44.png   \n",
       "316  f82b82f007cdf654      image_platanus_acerifolia_fruit_50.png   \n",
       "317  e6ad99019dc219de       image_platanus_acerifolia_fruit_1.png   \n",
       "318  fe5a85b11c273166      image_platanus_acerifolia_fruit_78.png   \n",
       "319  e7929c25d96296a5      image_platanus_acerifolia_fruit_87.png   \n",
       "320  aa524dad42bce52b      image_platanus_acerifolia_fruit_93.png   \n",
       "321  aa73d185ad2f50f0      image_platanus_acerifolia_fruit_92.png   \n",
       "322  c3c32f5cf0d47a14      image_platanus_acerifolia_fruit_86.png   \n",
       "323  c19e571eb0f01d9c      image_platanus_acerifolia_fruit_79.png   \n",
       "324  e69d986349b4b64a      image_platanus_acerifolia_fruit_51.png   \n",
       "325  e3c71ed0740fa4b1       image_platanus_acerifolia_fruit_0.png   \n",
       "326  82413e997dbb1de0      image_platanus_acerifolia_fruit_45.png   \n",
       "327  e5ec09936c8c3fd0  image_platanus_acerifolia_in_winter_27.png   \n",
       "328  bc518794994edd58  image_platanus_acerifolia_in_winter_33.png   \n",
       "329  9555392f110cff0d            image_platanus_acerifolia_27.png   \n",
       "330  b6a2ba14a445b4df             image_platanus_acerifolia_7.png   \n",
       "\n",
       "                 species  tags  \n",
       "309  platanus_acerifolia   NaN  \n",
       "310  platanus_acerifolia   NaN  \n",
       "311  platanus_acerifolia   NaN  \n",
       "312  platanus_acerifolia   NaN  \n",
       "313  platanus_acerifolia   NaN  \n",
       "314  platanus_acerifolia   NaN  \n",
       "315  platanus_acerifolia   NaN  \n",
       "316  platanus_acerifolia   NaN  \n",
       "317  platanus_acerifolia   NaN  \n",
       "318  platanus_acerifolia   NaN  \n",
       "319  platanus_acerifolia   NaN  \n",
       "320  platanus_acerifolia   NaN  \n",
       "321  platanus_acerifolia   NaN  \n",
       "322  platanus_acerifolia   NaN  \n",
       "323  platanus_acerifolia   NaN  \n",
       "324  platanus_acerifolia   NaN  \n",
       "325  platanus_acerifolia   NaN  \n",
       "326  platanus_acerifolia   NaN  \n",
       "327  platanus_acerifolia   NaN  \n",
       "328  platanus_acerifolia   NaN  \n",
       "329  platanus_acerifolia   NaN  \n",
       "330  platanus_acerifolia   NaN  "
      ]
     },
     "execution_count": 17,
     "metadata": {},
     "output_type": "execute_result"
    }
   ],
   "source": [
    "image_df.loc[309:330]"
   ]
  },
  {
   "cell_type": "code",
   "execution_count": 18,
   "metadata": {},
   "outputs": [
    {
     "data": {
      "text/plain": [
       "Timestamp('2018-02-04 20:45:53.454133')"
      ]
     },
     "execution_count": 18,
     "metadata": {},
     "output_type": "execute_result"
    }
   ],
   "source": [
    "timestamp1 = pd.Timestamp.now()\n",
    "timestamp1"
   ]
  },
  {
   "cell_type": "code",
   "execution_count": 19,
   "metadata": {
    "collapsed": true
   },
   "outputs": [],
   "source": [
    "timestamp2 = pd.Timestamp.now()"
   ]
  },
  {
   "cell_type": "code",
   "execution_count": 20,
   "metadata": {},
   "outputs": [
    {
     "data": {
      "text/plain": [
       "True"
      ]
     },
     "execution_count": 20,
     "metadata": {},
     "output_type": "execute_result"
    }
   ],
   "source": [
    "timestamp1 < timestamp2"
   ]
  },
  {
   "cell_type": "code",
   "execution_count": 21,
   "metadata": {},
   "outputs": [
    {
     "data": {
      "text/plain": [
       "False"
      ]
     },
     "execution_count": 21,
     "metadata": {},
     "output_type": "execute_result"
    }
   ],
   "source": [
    "timestamp1 > timestamp2"
   ]
  },
  {
   "cell_type": "code",
   "execution_count": 22,
   "metadata": {},
   "outputs": [
    {
     "data": {
      "text/plain": [
       "Timedelta('-1 days +23:59:45.105714')"
      ]
     },
     "execution_count": 22,
     "metadata": {},
     "output_type": "execute_result"
    }
   ],
   "source": [
    "timestamp1 - timestamp2"
   ]
  },
  {
   "cell_type": "code",
   "execution_count": 23,
   "metadata": {},
   "outputs": [
    {
     "data": {
      "text/plain": [
       "Timedelta('0 days 00:00:14.894286')"
      ]
     },
     "execution_count": 23,
     "metadata": {},
     "output_type": "execute_result"
    }
   ],
   "source": [
    "timestamp2 - timestamp1"
   ]
  },
  {
   "cell_type": "code",
   "execution_count": 25,
   "metadata": {},
   "outputs": [
    {
     "data": {
      "text/html": [
       "<div>\n",
       "<style scoped>\n",
       "    .dataframe tbody tr th:only-of-type {\n",
       "        vertical-align: middle;\n",
       "    }\n",
       "\n",
       "    .dataframe tbody tr th {\n",
       "        vertical-align: top;\n",
       "    }\n",
       "\n",
       "    .dataframe thead th {\n",
       "        text-align: right;\n",
       "    }\n",
       "</style>\n",
       "<table border=\"1\" class=\"dataframe\">\n",
       "  <thead>\n",
       "    <tr style=\"text-align: right;\">\n",
       "      <th></th>\n",
       "      <th>p_hash</th>\n",
       "      <th>filename</th>\n",
       "      <th>species</th>\n",
       "      <th>tags</th>\n",
       "      <th>timestamp</th>\n",
       "    </tr>\n",
       "  </thead>\n",
       "  <tbody>\n",
       "  </tbody>\n",
       "</table>\n",
       "</div>"
      ],
      "text/plain": [
       "Empty DataFrame\n",
       "Columns: [p_hash, filename, species, tags, timestamp]\n",
       "Index: []"
      ]
     },
     "execution_count": 25,
     "metadata": {},
     "output_type": "execute_result"
    }
   ],
   "source": [
    "platanus_slice_df[platanus_slice_df['timestamp']>timestamp1]"
   ]
  },
  {
   "cell_type": "code",
   "execution_count": 26,
   "metadata": {
    "collapsed": true
   },
   "outputs": [],
   "source": [
    "image_dict = {h: [filename, species] for h, filename, species\n",
    "              in zip(image_df['p_hash'], image_df['filename'], image_df['species'])\n",
    "              if species in ['picea_sitchensis', 'platanus_acerifolia']}"
   ]
  },
  {
   "cell_type": "code",
   "execution_count": 29,
   "metadata": {},
   "outputs": [
    {
     "data": {
      "text/plain": [
       "644"
      ]
     },
     "execution_count": 29,
     "metadata": {},
     "output_type": "execute_result"
    }
   ],
   "source": [
    "len(image_dict)"
   ]
  },
  {
   "cell_type": "code",
   "execution_count": 36,
   "metadata": {},
   "outputs": [
    {
     "data": {
      "text/plain": [
       "count                  705\n",
       "unique                 705\n",
       "top       85efeac7c6413344\n",
       "freq                     1\n",
       "Name: p_hash, dtype: object"
      ]
     },
     "execution_count": 36,
     "metadata": {},
     "output_type": "execute_result"
    }
   ],
   "source": [
    "image_df.loc[image_df['species'].isin(['platanus_acerifolia', 'acer_macrophylum']), 'p_hash'].describe()"
   ]
  },
  {
   "cell_type": "code",
   "execution_count": 42,
   "metadata": {},
   "outputs": [],
   "source": [
    "both = set(image_dict.keys()).intersection(image_df.loc[image_df['species'].isin(['platanus_acerifolia', 'acer_macrophylum']), 'p_hash'])"
   ]
  },
  {
   "cell_type": "code",
   "execution_count": 43,
   "metadata": {},
   "outputs": [
    {
     "data": {
      "text/plain": [
       "335"
      ]
     },
     "execution_count": 43,
     "metadata": {},
     "output_type": "execute_result"
    }
   ],
   "source": [
    "len(both)"
   ]
  },
  {
   "cell_type": "code",
   "execution_count": 45,
   "metadata": {},
   "outputs": [
    {
     "data": {
      "text/plain": [
       "array(['platanus_acerifolia'], dtype=object)"
      ]
     },
     "execution_count": 45,
     "metadata": {},
     "output_type": "execute_result"
    }
   ],
   "source": [
    "image_df.loc[image_df['p_hash'].isin(both), 'species'].unique() #Woo hoo, this is the expected answer"
   ]
  },
  {
   "cell_type": "code",
   "execution_count": null,
   "metadata": {
    "collapsed": true
   },
   "outputs": [],
   "source": []
  }
 ],
 "metadata": {
  "kernelspec": {
   "display_name": "Python 3",
   "language": "python",
   "name": "python3"
  },
  "language_info": {
   "codemirror_mode": {
    "name": "ipython",
    "version": 3
   },
   "file_extension": ".py",
   "mimetype": "text/x-python",
   "name": "python",
   "nbconvert_exporter": "python",
   "pygments_lexer": "ipython3",
   "version": "3.6.3"
  }
 },
 "nbformat": 4,
 "nbformat_minor": 2
}
