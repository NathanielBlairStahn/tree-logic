{
 "cells": [
  {
   "cell_type": "code",
   "execution_count": 6,
   "metadata": {},
   "outputs": [
    {
     "name": "stdout",
     "output_type": "stream",
     "text": [
      "The autoreload extension is already loaded. To reload it, use:\n",
      "  %reload_ext autoreload\n"
     ]
    }
   ],
   "source": [
    "import numpy as np\n",
    "import pandas as pd\n",
    "import matplotlib.pyplot as plt\n",
    "%matplotlib inline\n",
    "\n",
    "from keras.preprocessing import image\n",
    "\n",
    "from collections import defaultdict\n",
    "\n",
    "import time\n",
    "import os\n",
    "from PIL import Image\n",
    "#Hash images using the ImageHash library\n",
    "#https://pypi.python.org/pypi/ImageHash\n",
    "import imagehash\n",
    "\n",
    "from sklearn.model_selection import train_test_split\n",
    "from sklearn.linear_model import LogisticRegression\n",
    "from sklearn.ensemble import RandomForestClassifier, GradientBoostingClassifier\n",
    "from sklearn.metrics import log_loss, accuracy_score, confusion_matrix\n",
    "\n",
    "%load_ext autoreload\n",
    "%autoreload 2"
   ]
  },
  {
   "cell_type": "code",
   "execution_count": 2,
   "metadata": {},
   "outputs": [
    {
     "data": {
      "text/plain": [
       "1517720559.493251"
      ]
     },
     "execution_count": 2,
     "metadata": {},
     "output_type": "execute_result"
    }
   ],
   "source": [
    "time.time()"
   ]
  },
  {
   "cell_type": "code",
   "execution_count": 3,
   "metadata": {},
   "outputs": [
    {
     "data": {
      "text/plain": [
       "1517720566.3615081"
      ]
     },
     "execution_count": 3,
     "metadata": {},
     "output_type": "execute_result"
    }
   ],
   "source": [
    "time.time()"
   ]
  },
  {
   "cell_type": "code",
   "execution_count": 4,
   "metadata": {},
   "outputs": [
    {
     "data": {
      "text/plain": [
       "float"
      ]
     },
     "execution_count": 4,
     "metadata": {},
     "output_type": "execute_result"
    }
   ],
   "source": [
    "type(time.time())"
   ]
  },
  {
   "cell_type": "code",
   "execution_count": 5,
   "metadata": {},
   "outputs": [
    {
     "data": {
      "text/plain": [
       "['a']"
      ]
     },
     "execution_count": 5,
     "metadata": {},
     "output_type": "execute_result"
    }
   ],
   "source": [
    "lst = ['a', 'b', 'c']\n",
    "lst[0:1]"
   ]
  },
  {
   "cell_type": "markdown",
   "metadata": {},
   "source": [
    "### Prototype what I want ImageManager interface to look like"
   ]
  },
  {
   "cell_type": "code",
   "execution_count": null,
   "metadata": {
    "collapsed": true
   },
   "outputs": [],
   "source": [
    "manager = ImageManager('~/tree-logic/tree_photos/')\n",
    "directory_names = ['picea_sitchensis', 'betula_papyrifera']\n",
    "#manager.take_inventory(directory_names) #\n",
    "#or manager.take_inventory() #default is to walk through all subdirectories\n",
    "manager.sync_images(directory_names) #Syncs the manager's dataframe and dictionary to the specified directories\n",
    "#or manager.sync_images() #default is to sync all subdirectories\n",
    "\n",
    "manager.get_duplicates() #get dictionary of image hashes mapping to more than one path\n",
    "manager.remove_duplicates() #delete duplicate image files"
   ]
  },
  {
   "cell_type": "markdown",
   "metadata": {},
   "source": [
    "### Load a dataframe to figure out how to select certain things"
   ]
  },
  {
   "cell_type": "code",
   "execution_count": 8,
   "metadata": {},
   "outputs": [
    {
     "data": {
      "text/html": [
       "<div>\n",
       "<style scoped>\n",
       "    .dataframe tbody tr th:only-of-type {\n",
       "        vertical-align: middle;\n",
       "    }\n",
       "\n",
       "    .dataframe tbody tr th {\n",
       "        vertical-align: top;\n",
       "    }\n",
       "\n",
       "    .dataframe thead th {\n",
       "        text-align: right;\n",
       "    }\n",
       "</style>\n",
       "<table border=\"1\" class=\"dataframe\">\n",
       "  <thead>\n",
       "    <tr style=\"text-align: right;\">\n",
       "      <th></th>\n",
       "      <th>p_hash</th>\n",
       "      <th>filename</th>\n",
       "      <th>species</th>\n",
       "      <th>tags</th>\n",
       "    </tr>\n",
       "  </thead>\n",
       "  <tbody>\n",
       "    <tr>\n",
       "      <th>0</th>\n",
       "      <td>99a7465a1e99acb4</td>\n",
       "      <td>image_picea_sitchensis_27.png</td>\n",
       "      <td>picea_sitchensis</td>\n",
       "      <td>NaN</td>\n",
       "    </tr>\n",
       "    <tr>\n",
       "      <th>1</th>\n",
       "      <td>93d12f8e712ef068</td>\n",
       "      <td>image_picea_sitchensis_33.png</td>\n",
       "      <td>picea_sitchensis</td>\n",
       "      <td>NaN</td>\n",
       "    </tr>\n",
       "    <tr>\n",
       "      <th>2</th>\n",
       "      <td>cce3482eb991533b</td>\n",
       "      <td>image_picea_sitchensis_6.png</td>\n",
       "      <td>picea_sitchensis</td>\n",
       "      <td>NaN</td>\n",
       "    </tr>\n",
       "    <tr>\n",
       "      <th>3</th>\n",
       "      <td>c119991c4fcf1cda</td>\n",
       "      <td>image_picea_sitchensis_in_winter_12.png</td>\n",
       "      <td>picea_sitchensis</td>\n",
       "      <td>NaN</td>\n",
       "    </tr>\n",
       "    <tr>\n",
       "      <th>4</th>\n",
       "      <td>e3c3dab100fdc29c</td>\n",
       "      <td>image_sitka_spruce_59.png</td>\n",
       "      <td>picea_sitchensis</td>\n",
       "      <td>NaN</td>\n",
       "    </tr>\n",
       "  </tbody>\n",
       "</table>\n",
       "</div>"
      ],
      "text/plain": [
       "             p_hash                                 filename  \\\n",
       "0  99a7465a1e99acb4            image_picea_sitchensis_27.png   \n",
       "1  93d12f8e712ef068            image_picea_sitchensis_33.png   \n",
       "2  cce3482eb991533b             image_picea_sitchensis_6.png   \n",
       "3  c119991c4fcf1cda  image_picea_sitchensis_in_winter_12.png   \n",
       "4  e3c3dab100fdc29c                image_sitka_spruce_59.png   \n",
       "\n",
       "            species  tags  \n",
       "0  picea_sitchensis   NaN  \n",
       "1  picea_sitchensis   NaN  \n",
       "2  picea_sitchensis   NaN  \n",
       "3  picea_sitchensis   NaN  \n",
       "4  picea_sitchensis   NaN  "
      ]
     },
     "execution_count": 8,
     "metadata": {},
     "output_type": "execute_result"
    }
   ],
   "source": [
    "image_df = pd.read_csv('data/tree_image_info.csv', sep='|', index_col=0)\n",
    "image_df.head()"
   ]
  },
  {
   "cell_type": "code",
   "execution_count": 9,
   "metadata": {},
   "outputs": [
    {
     "data": {
      "text/plain": [
       "array(['picea_sitchensis', 'platanus_acerifolia', 'acer_macrophylum'], dtype=object)"
      ]
     },
     "execution_count": 9,
     "metadata": {},
     "output_type": "execute_result"
    }
   ],
   "source": [
    "image_df['species'].unique()"
   ]
  },
  {
   "cell_type": "code",
   "execution_count": 11,
   "metadata": {},
   "outputs": [
    {
     "name": "stdout",
     "output_type": "stream",
     "text": [
      "<class 'pandas.core.frame.DataFrame'>\n",
      "Int64Index: 335 entries, 309 to 643\n",
      "Data columns (total 4 columns):\n",
      "p_hash      335 non-null object\n",
      "filename    335 non-null object\n",
      "species     335 non-null object\n",
      "tags        0 non-null float64\n",
      "dtypes: float64(1), object(3)\n",
      "memory usage: 13.1+ KB\n"
     ]
    }
   ],
   "source": [
    "platanus_slice_df = image_df.loc[image_df['species'] == 'platanus_acerifolia']\n",
    "platanus_slice_df.info()"
   ]
  },
  {
   "cell_type": "code",
   "execution_count": 12,
   "metadata": {},
   "outputs": [
    {
     "data": {
      "text/plain": [
       "Timestamp('2018-02-04 20:41:50.969472')"
      ]
     },
     "execution_count": 12,
     "metadata": {},
     "output_type": "execute_result"
    }
   ],
   "source": [
    "pd.Timestamp.now()"
   ]
  },
  {
   "cell_type": "code",
   "execution_count": 13,
   "metadata": {},
   "outputs": [
    {
     "name": "stderr",
     "output_type": "stream",
     "text": [
      "/Users/ndbs/anaconda3/lib/python3.6/site-packages/ipykernel_launcher.py:1: SettingWithCopyWarning: \n",
      "A value is trying to be set on a copy of a slice from a DataFrame.\n",
      "Try using .loc[row_indexer,col_indexer] = value instead\n",
      "\n",
      "See the caveats in the documentation: http://pandas.pydata.org/pandas-docs/stable/indexing.html#indexing-view-versus-copy\n",
      "  \"\"\"Entry point for launching an IPython kernel.\n"
     ]
    }
   ],
   "source": [
    "platanus_slice_df['timestamp'] = pd.Timestamp.now()"
   ]
  },
  {
   "cell_type": "code",
   "execution_count": 15,
   "metadata": {},
   "outputs": [
    {
     "data": {
      "text/html": [
       "<div>\n",
       "<style scoped>\n",
       "    .dataframe tbody tr th:only-of-type {\n",
       "        vertical-align: middle;\n",
       "    }\n",
       "\n",
       "    .dataframe tbody tr th {\n",
       "        vertical-align: top;\n",
       "    }\n",
       "\n",
       "    .dataframe thead th {\n",
       "        text-align: right;\n",
       "    }\n",
       "</style>\n",
       "<table border=\"1\" class=\"dataframe\">\n",
       "  <thead>\n",
       "    <tr style=\"text-align: right;\">\n",
       "      <th></th>\n",
       "      <th>p_hash</th>\n",
       "      <th>filename</th>\n",
       "      <th>species</th>\n",
       "      <th>tags</th>\n",
       "      <th>timestamp</th>\n",
       "    </tr>\n",
       "  </thead>\n",
       "  <tbody>\n",
       "    <tr>\n",
       "      <th>309</th>\n",
       "      <td>b95f8bc2719411d9</td>\n",
       "      <td>image_london_plane_36.png</td>\n",
       "      <td>platanus_acerifolia</td>\n",
       "      <td>NaN</td>\n",
       "      <td>2018-02-04 20:42:37.365247</td>\n",
       "    </tr>\n",
       "    <tr>\n",
       "      <th>310</th>\n",
       "      <td>e1e61e94e95a84e9</td>\n",
       "      <td>image_platanus_acerifolia_32.png</td>\n",
       "      <td>platanus_acerifolia</td>\n",
       "      <td>NaN</td>\n",
       "      <td>2018-02-04 20:42:37.365247</td>\n",
       "    </tr>\n",
       "    <tr>\n",
       "      <th>311</th>\n",
       "      <td>b0b1c75f4e8f4c30</td>\n",
       "      <td>image_platanus_acerifolia_6.png</td>\n",
       "      <td>platanus_acerifolia</td>\n",
       "      <td>NaN</td>\n",
       "      <td>2018-02-04 20:42:37.365247</td>\n",
       "    </tr>\n",
       "    <tr>\n",
       "      <th>312</th>\n",
       "      <td>cc9639a1fb5407e8</td>\n",
       "      <td>image_platanus_acerifolia_26.png</td>\n",
       "      <td>platanus_acerifolia</td>\n",
       "      <td>NaN</td>\n",
       "      <td>2018-02-04 20:42:37.365247</td>\n",
       "    </tr>\n",
       "    <tr>\n",
       "      <th>313</th>\n",
       "      <td>aa47f62eacd85286</td>\n",
       "      <td>image_platanus_acerifolia_in_winter_32.png</td>\n",
       "      <td>platanus_acerifolia</td>\n",
       "      <td>NaN</td>\n",
       "      <td>2018-02-04 20:42:37.365247</td>\n",
       "    </tr>\n",
       "  </tbody>\n",
       "</table>\n",
       "</div>"
      ],
      "text/plain": [
       "               p_hash                                    filename  \\\n",
       "309  b95f8bc2719411d9                   image_london_plane_36.png   \n",
       "310  e1e61e94e95a84e9            image_platanus_acerifolia_32.png   \n",
       "311  b0b1c75f4e8f4c30             image_platanus_acerifolia_6.png   \n",
       "312  cc9639a1fb5407e8            image_platanus_acerifolia_26.png   \n",
       "313  aa47f62eacd85286  image_platanus_acerifolia_in_winter_32.png   \n",
       "\n",
       "                 species  tags                  timestamp  \n",
       "309  platanus_acerifolia   NaN 2018-02-04 20:42:37.365247  \n",
       "310  platanus_acerifolia   NaN 2018-02-04 20:42:37.365247  \n",
       "311  platanus_acerifolia   NaN 2018-02-04 20:42:37.365247  \n",
       "312  platanus_acerifolia   NaN 2018-02-04 20:42:37.365247  \n",
       "313  platanus_acerifolia   NaN 2018-02-04 20:42:37.365247  "
      ]
     },
     "execution_count": 15,
     "metadata": {},
     "output_type": "execute_result"
    }
   ],
   "source": [
    "platanus_slice_df.head()"
   ]
  },
  {
   "cell_type": "code",
   "execution_count": 17,
   "metadata": {},
   "outputs": [
    {
     "data": {
      "text/html": [
       "<div>\n",
       "<style scoped>\n",
       "    .dataframe tbody tr th:only-of-type {\n",
       "        vertical-align: middle;\n",
       "    }\n",
       "\n",
       "    .dataframe tbody tr th {\n",
       "        vertical-align: top;\n",
       "    }\n",
       "\n",
       "    .dataframe thead th {\n",
       "        text-align: right;\n",
       "    }\n",
       "</style>\n",
       "<table border=\"1\" class=\"dataframe\">\n",
       "  <thead>\n",
       "    <tr style=\"text-align: right;\">\n",
       "      <th></th>\n",
       "      <th>p_hash</th>\n",
       "      <th>filename</th>\n",
       "      <th>species</th>\n",
       "      <th>tags</th>\n",
       "    </tr>\n",
       "  </thead>\n",
       "  <tbody>\n",
       "    <tr>\n",
       "      <th>309</th>\n",
       "      <td>b95f8bc2719411d9</td>\n",
       "      <td>image_london_plane_36.png</td>\n",
       "      <td>platanus_acerifolia</td>\n",
       "      <td>NaN</td>\n",
       "    </tr>\n",
       "    <tr>\n",
       "      <th>310</th>\n",
       "      <td>e1e61e94e95a84e9</td>\n",
       "      <td>image_platanus_acerifolia_32.png</td>\n",
       "      <td>platanus_acerifolia</td>\n",
       "      <td>NaN</td>\n",
       "    </tr>\n",
       "    <tr>\n",
       "      <th>311</th>\n",
       "      <td>b0b1c75f4e8f4c30</td>\n",
       "      <td>image_platanus_acerifolia_6.png</td>\n",
       "      <td>platanus_acerifolia</td>\n",
       "      <td>NaN</td>\n",
       "    </tr>\n",
       "    <tr>\n",
       "      <th>312</th>\n",
       "      <td>cc9639a1fb5407e8</td>\n",
       "      <td>image_platanus_acerifolia_26.png</td>\n",
       "      <td>platanus_acerifolia</td>\n",
       "      <td>NaN</td>\n",
       "    </tr>\n",
       "    <tr>\n",
       "      <th>313</th>\n",
       "      <td>aa47f62eacd85286</td>\n",
       "      <td>image_platanus_acerifolia_in_winter_32.png</td>\n",
       "      <td>platanus_acerifolia</td>\n",
       "      <td>NaN</td>\n",
       "    </tr>\n",
       "    <tr>\n",
       "      <th>314</th>\n",
       "      <td>b28851b35da5ce1e</td>\n",
       "      <td>image_platanus_acerifolia_in_winter_26.png</td>\n",
       "      <td>platanus_acerifolia</td>\n",
       "      <td>NaN</td>\n",
       "    </tr>\n",
       "    <tr>\n",
       "      <th>315</th>\n",
       "      <td>c39736f60cc85d23</td>\n",
       "      <td>image_platanus_acerifolia_fruit_44.png</td>\n",
       "      <td>platanus_acerifolia</td>\n",
       "      <td>NaN</td>\n",
       "    </tr>\n",
       "    <tr>\n",
       "      <th>316</th>\n",
       "      <td>f82b82f007cdf654</td>\n",
       "      <td>image_platanus_acerifolia_fruit_50.png</td>\n",
       "      <td>platanus_acerifolia</td>\n",
       "      <td>NaN</td>\n",
       "    </tr>\n",
       "    <tr>\n",
       "      <th>317</th>\n",
       "      <td>e6ad99019dc219de</td>\n",
       "      <td>image_platanus_acerifolia_fruit_1.png</td>\n",
       "      <td>platanus_acerifolia</td>\n",
       "      <td>NaN</td>\n",
       "    </tr>\n",
       "    <tr>\n",
       "      <th>318</th>\n",
       "      <td>fe5a85b11c273166</td>\n",
       "      <td>image_platanus_acerifolia_fruit_78.png</td>\n",
       "      <td>platanus_acerifolia</td>\n",
       "      <td>NaN</td>\n",
       "    </tr>\n",
       "    <tr>\n",
       "      <th>319</th>\n",
       "      <td>e7929c25d96296a5</td>\n",
       "      <td>image_platanus_acerifolia_fruit_87.png</td>\n",
       "      <td>platanus_acerifolia</td>\n",
       "      <td>NaN</td>\n",
       "    </tr>\n",
       "    <tr>\n",
       "      <th>320</th>\n",
       "      <td>aa524dad42bce52b</td>\n",
       "      <td>image_platanus_acerifolia_fruit_93.png</td>\n",
       "      <td>platanus_acerifolia</td>\n",
       "      <td>NaN</td>\n",
       "    </tr>\n",
       "    <tr>\n",
       "      <th>321</th>\n",
       "      <td>aa73d185ad2f50f0</td>\n",
       "      <td>image_platanus_acerifolia_fruit_92.png</td>\n",
       "      <td>platanus_acerifolia</td>\n",
       "      <td>NaN</td>\n",
       "    </tr>\n",
       "    <tr>\n",
       "      <th>322</th>\n",
       "      <td>c3c32f5cf0d47a14</td>\n",
       "      <td>image_platanus_acerifolia_fruit_86.png</td>\n",
       "      <td>platanus_acerifolia</td>\n",
       "      <td>NaN</td>\n",
       "    </tr>\n",
       "    <tr>\n",
       "      <th>323</th>\n",
       "      <td>c19e571eb0f01d9c</td>\n",
       "      <td>image_platanus_acerifolia_fruit_79.png</td>\n",
       "      <td>platanus_acerifolia</td>\n",
       "      <td>NaN</td>\n",
       "    </tr>\n",
       "    <tr>\n",
       "      <th>324</th>\n",
       "      <td>e69d986349b4b64a</td>\n",
       "      <td>image_platanus_acerifolia_fruit_51.png</td>\n",
       "      <td>platanus_acerifolia</td>\n",
       "      <td>NaN</td>\n",
       "    </tr>\n",
       "    <tr>\n",
       "      <th>325</th>\n",
       "      <td>e3c71ed0740fa4b1</td>\n",
       "      <td>image_platanus_acerifolia_fruit_0.png</td>\n",
       "      <td>platanus_acerifolia</td>\n",
       "      <td>NaN</td>\n",
       "    </tr>\n",
       "    <tr>\n",
       "      <th>326</th>\n",
       "      <td>82413e997dbb1de0</td>\n",
       "      <td>image_platanus_acerifolia_fruit_45.png</td>\n",
       "      <td>platanus_acerifolia</td>\n",
       "      <td>NaN</td>\n",
       "    </tr>\n",
       "    <tr>\n",
       "      <th>327</th>\n",
       "      <td>e5ec09936c8c3fd0</td>\n",
       "      <td>image_platanus_acerifolia_in_winter_27.png</td>\n",
       "      <td>platanus_acerifolia</td>\n",
       "      <td>NaN</td>\n",
       "    </tr>\n",
       "    <tr>\n",
       "      <th>328</th>\n",
       "      <td>bc518794994edd58</td>\n",
       "      <td>image_platanus_acerifolia_in_winter_33.png</td>\n",
       "      <td>platanus_acerifolia</td>\n",
       "      <td>NaN</td>\n",
       "    </tr>\n",
       "    <tr>\n",
       "      <th>329</th>\n",
       "      <td>9555392f110cff0d</td>\n",
       "      <td>image_platanus_acerifolia_27.png</td>\n",
       "      <td>platanus_acerifolia</td>\n",
       "      <td>NaN</td>\n",
       "    </tr>\n",
       "    <tr>\n",
       "      <th>330</th>\n",
       "      <td>b6a2ba14a445b4df</td>\n",
       "      <td>image_platanus_acerifolia_7.png</td>\n",
       "      <td>platanus_acerifolia</td>\n",
       "      <td>NaN</td>\n",
       "    </tr>\n",
       "  </tbody>\n",
       "</table>\n",
       "</div>"
      ],
      "text/plain": [
       "               p_hash                                    filename  \\\n",
       "309  b95f8bc2719411d9                   image_london_plane_36.png   \n",
       "310  e1e61e94e95a84e9            image_platanus_acerifolia_32.png   \n",
       "311  b0b1c75f4e8f4c30             image_platanus_acerifolia_6.png   \n",
       "312  cc9639a1fb5407e8            image_platanus_acerifolia_26.png   \n",
       "313  aa47f62eacd85286  image_platanus_acerifolia_in_winter_32.png   \n",
       "314  b28851b35da5ce1e  image_platanus_acerifolia_in_winter_26.png   \n",
       "315  c39736f60cc85d23      image_platanus_acerifolia_fruit_44.png   \n",
       "316  f82b82f007cdf654      image_platanus_acerifolia_fruit_50.png   \n",
       "317  e6ad99019dc219de       image_platanus_acerifolia_fruit_1.png   \n",
       "318  fe5a85b11c273166      image_platanus_acerifolia_fruit_78.png   \n",
       "319  e7929c25d96296a5      image_platanus_acerifolia_fruit_87.png   \n",
       "320  aa524dad42bce52b      image_platanus_acerifolia_fruit_93.png   \n",
       "321  aa73d185ad2f50f0      image_platanus_acerifolia_fruit_92.png   \n",
       "322  c3c32f5cf0d47a14      image_platanus_acerifolia_fruit_86.png   \n",
       "323  c19e571eb0f01d9c      image_platanus_acerifolia_fruit_79.png   \n",
       "324  e69d986349b4b64a      image_platanus_acerifolia_fruit_51.png   \n",
       "325  e3c71ed0740fa4b1       image_platanus_acerifolia_fruit_0.png   \n",
       "326  82413e997dbb1de0      image_platanus_acerifolia_fruit_45.png   \n",
       "327  e5ec09936c8c3fd0  image_platanus_acerifolia_in_winter_27.png   \n",
       "328  bc518794994edd58  image_platanus_acerifolia_in_winter_33.png   \n",
       "329  9555392f110cff0d            image_platanus_acerifolia_27.png   \n",
       "330  b6a2ba14a445b4df             image_platanus_acerifolia_7.png   \n",
       "\n",
       "                 species  tags  \n",
       "309  platanus_acerifolia   NaN  \n",
       "310  platanus_acerifolia   NaN  \n",
       "311  platanus_acerifolia   NaN  \n",
       "312  platanus_acerifolia   NaN  \n",
       "313  platanus_acerifolia   NaN  \n",
       "314  platanus_acerifolia   NaN  \n",
       "315  platanus_acerifolia   NaN  \n",
       "316  platanus_acerifolia   NaN  \n",
       "317  platanus_acerifolia   NaN  \n",
       "318  platanus_acerifolia   NaN  \n",
       "319  platanus_acerifolia   NaN  \n",
       "320  platanus_acerifolia   NaN  \n",
       "321  platanus_acerifolia   NaN  \n",
       "322  platanus_acerifolia   NaN  \n",
       "323  platanus_acerifolia   NaN  \n",
       "324  platanus_acerifolia   NaN  \n",
       "325  platanus_acerifolia   NaN  \n",
       "326  platanus_acerifolia   NaN  \n",
       "327  platanus_acerifolia   NaN  \n",
       "328  platanus_acerifolia   NaN  \n",
       "329  platanus_acerifolia   NaN  \n",
       "330  platanus_acerifolia   NaN  "
      ]
     },
     "execution_count": 17,
     "metadata": {},
     "output_type": "execute_result"
    }
   ],
   "source": [
    "image_df.loc[309:330]"
   ]
  },
  {
   "cell_type": "code",
   "execution_count": 18,
   "metadata": {},
   "outputs": [
    {
     "data": {
      "text/plain": [
       "Timestamp('2018-02-04 20:45:53.454133')"
      ]
     },
     "execution_count": 18,
     "metadata": {},
     "output_type": "execute_result"
    }
   ],
   "source": [
    "timestamp1 = pd.Timestamp.now()\n",
    "timestamp1"
   ]
  },
  {
   "cell_type": "code",
   "execution_count": 19,
   "metadata": {
    "collapsed": true
   },
   "outputs": [],
   "source": [
    "timestamp2 = pd.Timestamp.now()"
   ]
  },
  {
   "cell_type": "code",
   "execution_count": 20,
   "metadata": {},
   "outputs": [
    {
     "data": {
      "text/plain": [
       "True"
      ]
     },
     "execution_count": 20,
     "metadata": {},
     "output_type": "execute_result"
    }
   ],
   "source": [
    "timestamp1 < timestamp2"
   ]
  },
  {
   "cell_type": "code",
   "execution_count": 21,
   "metadata": {},
   "outputs": [
    {
     "data": {
      "text/plain": [
       "False"
      ]
     },
     "execution_count": 21,
     "metadata": {},
     "output_type": "execute_result"
    }
   ],
   "source": [
    "timestamp1 > timestamp2"
   ]
  },
  {
   "cell_type": "code",
   "execution_count": 22,
   "metadata": {},
   "outputs": [
    {
     "data": {
      "text/plain": [
       "Timedelta('-1 days +23:59:45.105714')"
      ]
     },
     "execution_count": 22,
     "metadata": {},
     "output_type": "execute_result"
    }
   ],
   "source": [
    "timestamp1 - timestamp2"
   ]
  },
  {
   "cell_type": "code",
   "execution_count": 23,
   "metadata": {},
   "outputs": [
    {
     "data": {
      "text/plain": [
       "Timedelta('0 days 00:00:14.894286')"
      ]
     },
     "execution_count": 23,
     "metadata": {},
     "output_type": "execute_result"
    }
   ],
   "source": [
    "timestamp2 - timestamp1"
   ]
  },
  {
   "cell_type": "code",
   "execution_count": 25,
   "metadata": {},
   "outputs": [
    {
     "data": {
      "text/html": [
       "<div>\n",
       "<style scoped>\n",
       "    .dataframe tbody tr th:only-of-type {\n",
       "        vertical-align: middle;\n",
       "    }\n",
       "\n",
       "    .dataframe tbody tr th {\n",
       "        vertical-align: top;\n",
       "    }\n",
       "\n",
       "    .dataframe thead th {\n",
       "        text-align: right;\n",
       "    }\n",
       "</style>\n",
       "<table border=\"1\" class=\"dataframe\">\n",
       "  <thead>\n",
       "    <tr style=\"text-align: right;\">\n",
       "      <th></th>\n",
       "      <th>p_hash</th>\n",
       "      <th>filename</th>\n",
       "      <th>species</th>\n",
       "      <th>tags</th>\n",
       "      <th>timestamp</th>\n",
       "    </tr>\n",
       "  </thead>\n",
       "  <tbody>\n",
       "  </tbody>\n",
       "</table>\n",
       "</div>"
      ],
      "text/plain": [
       "Empty DataFrame\n",
       "Columns: [p_hash, filename, species, tags, timestamp]\n",
       "Index: []"
      ]
     },
     "execution_count": 25,
     "metadata": {},
     "output_type": "execute_result"
    }
   ],
   "source": [
    "platanus_slice_df[platanus_slice_df['timestamp']>timestamp1]"
   ]
  },
  {
   "cell_type": "code",
   "execution_count": 26,
   "metadata": {
    "collapsed": true
   },
   "outputs": [],
   "source": [
    "image_dict = {h: [filename, species] for h, filename, species\n",
    "              in zip(image_df['p_hash'], image_df['filename'], image_df['species'])\n",
    "              if species in ['picea_sitchensis', 'platanus_acerifolia']}"
   ]
  },
  {
   "cell_type": "code",
   "execution_count": 29,
   "metadata": {},
   "outputs": [
    {
     "data": {
      "text/plain": [
       "644"
      ]
     },
     "execution_count": 29,
     "metadata": {},
     "output_type": "execute_result"
    }
   ],
   "source": [
    "len(image_dict)"
   ]
  },
  {
   "cell_type": "code",
   "execution_count": 36,
   "metadata": {},
   "outputs": [
    {
     "data": {
      "text/plain": [
       "count                  705\n",
       "unique                 705\n",
       "top       85efeac7c6413344\n",
       "freq                     1\n",
       "Name: p_hash, dtype: object"
      ]
     },
     "execution_count": 36,
     "metadata": {},
     "output_type": "execute_result"
    }
   ],
   "source": [
    "image_df.loc[image_df['species'].isin(['platanus_acerifolia', 'acer_macrophylum']), 'p_hash'].describe()"
   ]
  },
  {
   "cell_type": "code",
   "execution_count": 42,
   "metadata": {},
   "outputs": [],
   "source": [
    "both = set(image_dict.keys()).intersection(image_df.loc[image_df['species'].isin(['platanus_acerifolia', 'acer_macrophylum']), 'p_hash'])"
   ]
  },
  {
   "cell_type": "code",
   "execution_count": 43,
   "metadata": {},
   "outputs": [
    {
     "data": {
      "text/plain": [
       "335"
      ]
     },
     "execution_count": 43,
     "metadata": {},
     "output_type": "execute_result"
    }
   ],
   "source": [
    "len(both)"
   ]
  },
  {
   "cell_type": "code",
   "execution_count": 45,
   "metadata": {},
   "outputs": [
    {
     "data": {
      "text/plain": [
       "array(['platanus_acerifolia'], dtype=object)"
      ]
     },
     "execution_count": 45,
     "metadata": {},
     "output_type": "execute_result"
    }
   ],
   "source": [
    "image_df.loc[image_df['p_hash'].isin(both), 'species'].unique() #Woo hoo, this is the expected answer"
   ]
  },
  {
   "cell_type": "code",
   "execution_count": null,
   "metadata": {
    "collapsed": true
   },
   "outputs": [],
   "source": []
  }
 ],
 "metadata": {
  "kernelspec": {
   "display_name": "Python 3",
   "language": "python",
   "name": "python3"
  },
  "language_info": {
   "codemirror_mode": {
    "name": "ipython",
    "version": 3
   },
   "file_extension": ".py",
   "mimetype": "text/x-python",
   "name": "python",
   "nbconvert_exporter": "python",
   "pygments_lexer": "ipython3",
   "version": "3.6.3"
  }
 },
 "nbformat": 4,
 "nbformat_minor": 2
}
