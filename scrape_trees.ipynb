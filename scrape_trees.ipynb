{
 "cells": [
  {
   "cell_type": "code",
   "execution_count": 1,
   "metadata": {
    "ExecuteTime": {
     "end_time": "2017-12-21T16:59:58.722756",
     "start_time": "2017-12-21T16:59:58.708535"
    },
    "collapsed": true
   },
   "outputs": [],
   "source": [
    "from selenium.webdriver import Firefox\n",
    "import time"
   ]
  },
  {
   "cell_type": "code",
   "execution_count": 3,
   "metadata": {
    "ExecuteTime": {
     "end_time": "2017-12-21T17:00:04.947366",
     "start_time": "2017-12-21T16:59:58.907995"
    }
   },
   "outputs": [],
   "source": [
    "# Create zombie browsers\n",
    "browser = Firefox()\n",
    "photo_browser = Firefox()"
   ]
  },
  {
   "cell_type": "code",
   "execution_count": 4,
   "metadata": {
    "ExecuteTime": {
     "end_time": "2017-12-21T17:00:04.966584",
     "start_time": "2017-12-21T17:00:04.949030"
    },
    "collapsed": true
   },
   "outputs": [],
   "source": [
    "def search_for_items(browser, search_term):\n",
    "    browser.get(\"https://images.google.com/\")\n",
    "    time.sleep(2)\n",
    "    elem = browser.switch_to_active_element()\n",
    "    search_box = elem\n",
    "    search_box.click()\n",
    "    time.sleep(1)\n",
    "    search_box.send_keys(search_term)\n",
    "    time.sleep(1)\n",
    "    search_box.send_keys('\\n')"
   ]
  },
  {
   "cell_type": "code",
   "execution_count": 5,
   "metadata": {
    "ExecuteTime": {
     "end_time": "2017-12-21T17:00:57.639291",
     "start_time": "2017-12-21T17:00:57.625006"
    },
    "collapsed": true
   },
   "outputs": [],
   "source": [
    "def find_images(browser):\n",
    "    \"\"\"Return image objects\"\"\"\n",
    "    time.sleep(5)\n",
    "    images = browser.find_elements_by_css_selector(\n",
    "        \"div.rg_bx a.rg_l img\")\n",
    "    return images"
   ]
  },
  {
   "cell_type": "code",
   "execution_count": 6,
   "metadata": {
    "ExecuteTime": {
     "end_time": "2017-12-21T17:00:05.005658",
     "start_time": "2017-12-21T17:00:04.986112"
    },
    "collapsed": true
   },
   "outputs": [],
   "source": [
    "def scrape_image(image, search_term, i):\n",
    "    _ = image.location_once_scrolled_into_view\n",
    "    image_url = image.get_attribute('src')\n",
    "    photo_browser.get(image_url)\n",
    "    image = photo_browser.find_element_by_css_selector(\n",
    "        \"img\")\n",
    "    image_png = image.screenshot_as_png\n",
    "    label = search_term\n",
    "    with open(f'{label}_2/image_{label}_{i}.png', 'wb') as f:\n",
    "        f.write(image_png)"
   ]
  },
  {
   "cell_type": "code",
   "execution_count": 7,
   "metadata": {
    "ExecuteTime": {
     "end_time": "2017-12-21T17:00:54.253852",
     "start_time": "2017-12-21T17:00:54.239373"
    },
    "collapsed": true
   },
   "outputs": [],
   "source": [
    "def scrape_images(images, search_term, photo_browser):\n",
    "    for i, image in enumerate(images):\n",
    "        time.sleep(1)\n",
    "        scrape_image(image, search_term, i)"
   ]
  },
  {
   "cell_type": "code",
   "execution_count": 8,
   "metadata": {
    "ExecuteTime": {
     "end_time": "2017-12-21T17:00:05.040284",
     "start_time": "2017-12-21T17:00:05.026576"
    },
    "collapsed": true
   },
   "outputs": [],
   "source": [
    "def search_and_scrape(search_terms):\n",
    "    for search_term in search_terms:\n",
    "        search_for_items(browser, search_term)\n",
    "        images = find_images(browser)\n",
    "        scrape_images(images, search_term, photo_browser)\n",
    "    "
   ]
  },
  {
   "cell_type": "code",
   "execution_count": 9,
   "metadata": {
    "ExecuteTime": {
     "end_time": "2017-12-21T17:00:06.494069",
     "start_time": "2017-12-21T17:00:06.480697"
    },
    "collapsed": true
   },
   "outputs": [],
   "source": [
    "search_terms = [\n",
    "    'douglas fir',\n",
    "    'london plane'\n",
    "]"
   ]
  },
  {
   "cell_type": "code",
   "execution_count": 10,
   "metadata": {
    "ExecuteTime": {
     "end_time": "2017-12-21T17:05:27.961043",
     "start_time": "2017-12-21T17:00:59.894937"
    }
   },
   "outputs": [
    {
     "ename": "FileNotFoundError",
     "evalue": "[Errno 2] No such file or directory: 'douglas fir_2/image_douglas fir_0.png'",
     "output_type": "error",
     "traceback": [
      "\u001b[0;31m---------------------------------------------------------------------------\u001b[0m",
      "\u001b[0;31mFileNotFoundError\u001b[0m                         Traceback (most recent call last)",
      "\u001b[0;32m<ipython-input-10-6f479cb23375>\u001b[0m in \u001b[0;36m<module>\u001b[0;34m()\u001b[0m\n\u001b[0;32m----> 1\u001b[0;31m \u001b[0msearch_and_scrape\u001b[0m\u001b[0;34m(\u001b[0m\u001b[0msearch_terms\u001b[0m\u001b[0;34m)\u001b[0m\u001b[0;34m\u001b[0m\u001b[0m\n\u001b[0m",
      "\u001b[0;32m<ipython-input-8-79d3398b2482>\u001b[0m in \u001b[0;36msearch_and_scrape\u001b[0;34m(search_terms)\u001b[0m\n\u001b[1;32m      3\u001b[0m         \u001b[0msearch_for_items\u001b[0m\u001b[0;34m(\u001b[0m\u001b[0mbrowser\u001b[0m\u001b[0;34m,\u001b[0m \u001b[0msearch_term\u001b[0m\u001b[0;34m)\u001b[0m\u001b[0;34m\u001b[0m\u001b[0m\n\u001b[1;32m      4\u001b[0m         \u001b[0mimages\u001b[0m \u001b[0;34m=\u001b[0m \u001b[0mfind_images\u001b[0m\u001b[0;34m(\u001b[0m\u001b[0mbrowser\u001b[0m\u001b[0;34m)\u001b[0m\u001b[0;34m\u001b[0m\u001b[0m\n\u001b[0;32m----> 5\u001b[0;31m         \u001b[0mscrape_images\u001b[0m\u001b[0;34m(\u001b[0m\u001b[0mimages\u001b[0m\u001b[0;34m,\u001b[0m \u001b[0msearch_term\u001b[0m\u001b[0;34m,\u001b[0m \u001b[0mphoto_browser\u001b[0m\u001b[0;34m)\u001b[0m\u001b[0;34m\u001b[0m\u001b[0m\n\u001b[0m\u001b[1;32m      6\u001b[0m \u001b[0;34m\u001b[0m\u001b[0m\n",
      "\u001b[0;32m<ipython-input-7-e9c1c9a33a39>\u001b[0m in \u001b[0;36mscrape_images\u001b[0;34m(images, search_term, photo_browser)\u001b[0m\n\u001b[1;32m      2\u001b[0m     \u001b[0;32mfor\u001b[0m \u001b[0mi\u001b[0m\u001b[0;34m,\u001b[0m \u001b[0mimage\u001b[0m \u001b[0;32min\u001b[0m \u001b[0menumerate\u001b[0m\u001b[0;34m(\u001b[0m\u001b[0mimages\u001b[0m\u001b[0;34m)\u001b[0m\u001b[0;34m:\u001b[0m\u001b[0;34m\u001b[0m\u001b[0m\n\u001b[1;32m      3\u001b[0m         \u001b[0mtime\u001b[0m\u001b[0;34m.\u001b[0m\u001b[0msleep\u001b[0m\u001b[0;34m(\u001b[0m\u001b[0;36m1\u001b[0m\u001b[0;34m)\u001b[0m\u001b[0;34m\u001b[0m\u001b[0m\n\u001b[0;32m----> 4\u001b[0;31m         \u001b[0mscrape_image\u001b[0m\u001b[0;34m(\u001b[0m\u001b[0mimage\u001b[0m\u001b[0;34m,\u001b[0m \u001b[0msearch_term\u001b[0m\u001b[0;34m,\u001b[0m \u001b[0mi\u001b[0m\u001b[0;34m)\u001b[0m\u001b[0;34m\u001b[0m\u001b[0m\n\u001b[0m",
      "\u001b[0;32m<ipython-input-6-d27b2fd86f74>\u001b[0m in \u001b[0;36mscrape_image\u001b[0;34m(image, search_term, i)\u001b[0m\n\u001b[1;32m      7\u001b[0m     \u001b[0mimage_png\u001b[0m \u001b[0;34m=\u001b[0m \u001b[0mimage\u001b[0m\u001b[0;34m.\u001b[0m\u001b[0mscreenshot_as_png\u001b[0m\u001b[0;34m\u001b[0m\u001b[0m\n\u001b[1;32m      8\u001b[0m     \u001b[0mlabel\u001b[0m \u001b[0;34m=\u001b[0m \u001b[0msearch_term\u001b[0m\u001b[0;34m\u001b[0m\u001b[0m\n\u001b[0;32m----> 9\u001b[0;31m     \u001b[0;32mwith\u001b[0m \u001b[0mopen\u001b[0m\u001b[0;34m(\u001b[0m\u001b[0;34mf'{label}_2/image_{label}_{i}.png'\u001b[0m\u001b[0;34m,\u001b[0m \u001b[0;34m'wb'\u001b[0m\u001b[0;34m)\u001b[0m \u001b[0;32mas\u001b[0m \u001b[0mf\u001b[0m\u001b[0;34m:\u001b[0m\u001b[0;34m\u001b[0m\u001b[0m\n\u001b[0m\u001b[1;32m     10\u001b[0m         \u001b[0mf\u001b[0m\u001b[0;34m.\u001b[0m\u001b[0mwrite\u001b[0m\u001b[0;34m(\u001b[0m\u001b[0mimage_png\u001b[0m\u001b[0;34m)\u001b[0m\u001b[0;34m\u001b[0m\u001b[0m\n",
      "\u001b[0;31mFileNotFoundError\u001b[0m: [Errno 2] No such file or directory: 'douglas fir_2/image_douglas fir_0.png'"
     ]
    }
   ],
   "source": [
    "search_and_scrape(search_terms)"
   ]
  },
  {
   "cell_type": "code",
   "execution_count": 14,
   "metadata": {},
   "outputs": [
    {
     "data": {
      "text/plain": [
       "'3.8.0'"
      ]
     },
     "execution_count": 14,
     "metadata": {},
     "output_type": "execute_result"
    }
   ],
   "source": [
    "import selenium\n",
    "selenium.__version__"
   ]
  },
  {
   "cell_type": "code",
   "execution_count": null,
   "metadata": {
    "collapsed": true
   },
   "outputs": [],
   "source": []
  }
 ],
 "metadata": {
  "kernelspec": {
   "display_name": "Python 3",
   "language": "python",
   "name": "python3"
  },
  "language_info": {
   "codemirror_mode": {
    "name": "ipython",
    "version": 3
   },
   "file_extension": ".py",
   "mimetype": "text/x-python",
   "name": "python",
   "nbconvert_exporter": "python",
   "pygments_lexer": "ipython3",
   "version": "3.6.3"
  }
 },
 "nbformat": 4,
 "nbformat_minor": 1
}
